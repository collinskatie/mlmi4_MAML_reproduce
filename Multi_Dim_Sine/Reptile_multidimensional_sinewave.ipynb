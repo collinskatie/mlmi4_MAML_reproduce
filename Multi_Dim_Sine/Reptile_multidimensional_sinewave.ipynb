{
 "cells": [
  {
   "cell_type": "markdown",
   "id": "UrjQGgr5nUHC",
   "metadata": {
    "id": "UrjQGgr5nUHC"
   },
   "source": [
    "<h1> Imports"
   ]
  },
  {
   "cell_type": "code",
   "execution_count": 1,
   "id": "eGl9mcc0nOMP",
   "metadata": {
    "id": "eGl9mcc0nOMP"
   },
   "outputs": [],
   "source": [
    "import matplotlib.pyplot as plt\n",
    "import numpy as np\n",
    "\n",
    "# Required imports for neural network\n",
    "import torch.nn as nn\n",
    "import torch\n",
    "from torch.autograd import Variable\n",
    "import random"
   ]
  },
  {
   "cell_type": "markdown",
   "id": "T3KVOwFXFOY0",
   "metadata": {
    "id": "T3KVOwFXFOY0"
   },
   "source": [
    "<h1> Data Loading and Generation"
   ]
  },
  {
   "cell_type": "markdown",
   "id": "nMUUm70ufKHH",
   "metadata": {
    "id": "nMUUm70ufKHH"
   },
   "source": [
    "This Sine function generator is based on the repostory: https://github.com/AdrienLE/ANIML/blob/master/ANIML.ipynb"
   ]
  },
  {
   "cell_type": "code",
   "execution_count": 2,
   "id": "a3X51uGHDvSV",
   "metadata": {
    "id": "a3X51uGHDvSV"
   },
   "outputs": [],
   "source": [
    "from data import SineWaveTask_multi\n",
    "    \n",
    "\n",
    "TRAIN_SIZE = 20000\n",
    "TEST_SIZE = 1000\n",
    "SINE_TRAIN = [SineWaveTask_multi() for _ in range(TRAIN_SIZE)]\n",
    "SINE_TEST = [SineWaveTask_multi() for _ in range(TEST_SIZE)]"
   ]
  },
  {
   "cell_type": "code",
   "execution_count": 3,
   "id": "Ahv9M3tAJrG7",
   "metadata": {
    "id": "Ahv9M3tAJrG7"
   },
   "outputs": [],
   "source": [
    "x, y_true = SINE_TRAIN[0].training_set()"
   ]
  },
  {
   "cell_type": "code",
   "execution_count": 4,
   "id": "jInHQnwIKKxH",
   "metadata": {
    "colab": {
     "base_uri": "https://localhost:8080/"
    },
    "id": "jInHQnwIKKxH",
    "outputId": "8760f64a-0585-432f-fa26-e9189ee9a6dd"
   },
   "outputs": [
    {
     "data": {
      "text/plain": [
       "torch.Size([10, 20])"
      ]
     },
     "execution_count": 4,
     "metadata": {},
     "output_type": "execute_result"
    }
   ],
   "source": [
    "y_true.shape"
   ]
  },
  {
   "cell_type": "markdown",
   "id": "cu4urLF7Q88A",
   "metadata": {
    "id": "cu4urLF7Q88A"
   },
   "source": [
    "<h1> Neural Network Model"
   ]
  },
  {
   "cell_type": "code",
   "execution_count": 5,
   "id": "R1B0YTz6ytyN",
   "metadata": {
    "id": "R1B0YTz6ytyN"
   },
   "outputs": [],
   "source": [
    "# Define network\n",
    "class Neural_Network_multi(nn.Module):\n",
    "    def __init__(self, input_size=1, hidden_size=40, output_size=20):\n",
    "        super(Neural_Network_multi, self).__init__()\n",
    "        # network layers\n",
    "        self.hidden1 = nn.Linear(input_size,hidden_size)\n",
    "        self.hidden2 = nn.Linear(hidden_size,hidden_size)\n",
    "        self.output_layer = nn.Linear(hidden_size,output_size)\n",
    "\n",
    "        #Activation functions\n",
    "        self.relu = nn.ReLU()\n",
    "        \n",
    "    def forward(self, x):\n",
    "        x = self.hidden1(x)\n",
    "        x = self.relu(x)\n",
    "        x = self.hidden2(x)\n",
    "        x = self.relu(x)\n",
    "        x = self.output_layer(x)\n",
    "        y = x\n",
    "        return y\n"
   ]
  },
  {
   "cell_type": "markdown",
   "id": "G-ExWACxQ3mt",
   "metadata": {
    "id": "G-ExWACxQ3mt"
   },
   "source": [
    "<h1> Helper functions"
   ]
  },
  {
   "cell_type": "code",
   "execution_count": 6,
   "id": "1zyNHFXdOnug",
   "metadata": {
    "id": "1zyNHFXdOnug"
   },
   "outputs": [],
   "source": [
    "# The Minimum Square Error is used to evaluate the difference between prediction and ground truth\n",
    "criterion = nn.MSELoss()\n",
    "\n",
    "def copy_existing_model(model):\n",
    "    # Function to copy an existing model\n",
    "    # We initialize a new model\n",
    "    new_model = Neural_Network_multi()\n",
    "    # Copy the previous model's parameters into the new model\n",
    "    new_model.load_state_dict(model.state_dict())\n",
    "    return new_model\n",
    "\n",
    "def get_samples_in_good_format(wave):\n",
    "  #This function is used to sample data from a wave\n",
    "  x, y_true = wave.training_set()\n",
    "  # We add [:,None] to get the right dimensions to pass to the model: we want K x 1 (we have scalars inputs hence the x 1)\n",
    "  # Note that we convert everything torch tensors\n",
    "  x = torch.tensor(x)\n",
    "  y_true = torch.tensor(y_true)\n",
    "  return x,y_true\n",
    "\n",
    "def initialization_to_store_meta_losses():\n",
    "  # This function creates lists to store the meta losses\n",
    "  global store_train_loss_meta; store_train_loss_meta = []\n",
    "  global store_test_loss_meta; store_test_loss_meta = []\n",
    "\n",
    "def test_set_validation(model,new_model,wave,lr_inner,k,store_test_loss_meta):\n",
    "    # This functions does not actually affect the main algorithm, it is just used to evaluate the new model\n",
    "    new_model = training(model, wave, lr_inner, k)\n",
    "    # Obtain the loss\n",
    "    loss = evaluation(new_model, wave)\n",
    "    # Store loss\n",
    "    store_test_loss_meta.append(loss)\n",
    "\n",
    "def train_set_evaluation(new_model,wave,store_train_loss_meta):\n",
    "    loss = evaluation(new_model, wave)\n",
    "    store_train_loss_meta.append(loss) \n",
    "\n",
    "def print_losses(epoch,store_train_loss_meta,store_test_loss_meta,printing_step=1000):\n",
    "  if epoch % printing_step == 0:\n",
    "    print(f'Epochh : {epoch}, Average Train Meta Loss : {np.mean(store_train_loss_meta)}, Average Test Meta Loss : {np.mean(store_test_loss_meta)}')\n",
    "\n",
    "#This is based on the paper update rule, we calculate the difference between parameters and then this is used by the optimizer, rather than doing the update by hand\n",
    "def reptile_parameter_update(model,new_model):\n",
    "  # Zip models for the loop\n",
    "  zip_models = zip(model.parameters(), new_model.parameters())\n",
    "  for parameter, new_parameter in zip_models:\n",
    "    if parameter.grad is None:\n",
    "      parameter.grad = torch.tensor(torch.zeros_like(parameter))\n",
    "    # Here we are adding the gradient that will later be used by the optimizer\n",
    "    parameter.grad.data.add_(parameter.data - new_parameter.data)\n",
    "\n",
    "# Define commands in order needed for the metaupdate\n",
    "# Note that if we change the order it doesn't behave the same\n",
    "def metaoptimizer_update(metaoptimizer):\n",
    "  # Take step\n",
    "  metaoptimizer.step()\n",
    "  # Reset gradients\n",
    "  metaoptimizer.zero_grad()\n",
    "\n",
    "def metaupdate(model,new_model,metaoptimizer):\n",
    "  # Combine the two previous functions into a single metaupdate function\n",
    "  # First we calculate the gradients\n",
    "  reptile_parameter_update(model,new_model)\n",
    "  # Use those gradients in the optimizer\n",
    "  metaoptimizer_update(metaoptimizer)\n",
    "\n",
    "def evaluation(new_model, wave, item = True):\n",
    "    # Get data\n",
    "    x, label = get_samples_in_good_format(wave)\n",
    "    # Make model prediction\n",
    "    prediction = new_model(x)\n",
    "    # Get loss\n",
    "    if item == True: #Depending on whether we need to return the loss value for storing or for backprop\n",
    "      loss = criterion(prediction,label).item()\n",
    "    else:\n",
    "      loss = criterion(prediction,label)\n",
    "    return loss\n",
    "\n",
    "def training(model, wave, lr_k, k):\n",
    "    # Create new model which we will train on\n",
    "    new_model = copy_existing_model(model)\n",
    "    # Define new optimizer\n",
    "    koptimizer = torch.optim.SGD(new_model.parameters(), lr=lr_k)\n",
    "    # Update the model multiple times, note that k>1 (do not confuse k with K)\n",
    "    for i in range(k):\n",
    "        # Reset optimizer\n",
    "        koptimizer.zero_grad()\n",
    "        # Evaluate the model\n",
    "        loss = evaluation(new_model, wave, item = False)\n",
    "        # Backpropagate\n",
    "        loss.backward()\n",
    "        koptimizer.step()\n",
    "    return new_model"
   ]
  },
  {
   "cell_type": "markdown",
   "id": "-4Ps8P2IRCmF",
   "metadata": {
    "id": "-4Ps8P2IRCmF"
   },
   "source": [
    "<h1> Reptile"
   ]
  },
  {
   "cell_type": "code",
   "execution_count": 7,
   "id": "8ogpg_DHizlC",
   "metadata": {
    "id": "8ogpg_DHizlC"
   },
   "outputs": [],
   "source": [
    "#Define important variables\n",
    "epochs = 10000 * 25 # match number of tasks as maml #int(1e5) # number of epochs \n",
    "lr_meta=0.001 # Learning rate for meta model (outer loop)\n",
    "printing_step=1000 # how many epochs should we wait to print the loss\n",
    "lr_k=0.01 # Internal learning rate\n",
    "k=5 # Number of internal updates for each task\n",
    "\n",
    "# Initializations\n",
    "initialization_to_store_meta_losses()\n",
    "model = Neural_Network_multi()\n",
    "metaoptimizer = torch.optim.Adam(model.parameters(), lr=lr_meta)"
   ]
  },
  {
   "cell_type": "code",
   "execution_count": 8,
   "id": "-4-zQWWKFt3s",
   "metadata": {
    "colab": {
     "base_uri": "https://localhost:8080/",
     "height": 1000
    },
    "id": "-4-zQWWKFt3s",
    "outputId": "747b2ee4-fc6a-487e-98a4-a35d0cf2f7b2"
   },
   "outputs": [
    {
     "name": "stderr",
     "output_type": "stream",
     "text": [
      "<ipython-input-6-7e1e6714c74e>:17: UserWarning: To copy construct from a tensor, it is recommended to use sourceTensor.clone().detach() or sourceTensor.clone().detach().requires_grad_(True), rather than torch.tensor(sourceTensor).\n",
      "  x = torch.tensor(x)\n",
      "<ipython-input-6-7e1e6714c74e>:18: UserWarning: To copy construct from a tensor, it is recommended to use sourceTensor.clone().detach() or sourceTensor.clone().detach().requires_grad_(True), rather than torch.tensor(sourceTensor).\n",
      "  y_true = torch.tensor(y_true)\n",
      "<ipython-input-6-7e1e6714c74e>:48: UserWarning: To copy construct from a tensor, it is recommended to use sourceTensor.clone().detach() or sourceTensor.clone().detach().requires_grad_(True), rather than torch.tensor(sourceTensor).\n",
      "  parameter.grad = torch.tensor(torch.zeros_like(parameter))\n"
     ]
    },
    {
     "name": "stdout",
     "output_type": "stream",
     "text": [
      "Epochh : 0, Average Train Meta Loss : 3.8312723636627197, Average Test Meta Loss : 5.497889995574951\n",
      "Epochh : 1000, Average Train Meta Loss : 3.1008190890768548, Average Test Meta Loss : 3.120550340586728\n",
      "Epochh : 2000, Average Train Meta Loss : 2.770542961278598, Average Test Meta Loss : 2.8045379478951684\n",
      "Epochh : 3000, Average Train Meta Loss : 2.568075731927973, Average Test Meta Loss : 2.6217076928962753\n",
      "Epochh : 4000, Average Train Meta Loss : 2.506139673357813, Average Test Meta Loss : 2.5085920410524514\n",
      "Epochh : 5000, Average Train Meta Loss : 2.450688192759054, Average Test Meta Loss : 2.4276866543843636\n",
      "Epochh : 6000, Average Train Meta Loss : 2.401952760281354, Average Test Meta Loss : 2.364029826154075\n",
      "Epochh : 7000, Average Train Meta Loss : 2.340011233632828, Average Test Meta Loss : 2.3153122909970496\n",
      "Epochh : 8000, Average Train Meta Loss : 2.2884840598115024, Average Test Meta Loss : 2.272151663908734\n",
      "Epochh : 9000, Average Train Meta Loss : 2.2368724779471623, Average Test Meta Loss : 2.2199684793439762\n",
      "Epochh : 10000, Average Train Meta Loss : 2.187448357387896, Average Test Meta Loss : 2.167207657578659\n",
      "Epochh : 11000, Average Train Meta Loss : 2.1505977489652226, Average Test Meta Loss : 2.1222879252383064\n",
      "Epochh : 12000, Average Train Meta Loss : 2.11672528641749, Average Test Meta Loss : 2.076528679389833\n",
      "Epochh : 13000, Average Train Meta Loss : 2.076934623174755, Average Test Meta Loss : 2.030474574487857\n",
      "Epochh : 14000, Average Train Meta Loss : 2.041617879711486, Average Test Meta Loss : 1.9886416310191573\n",
      "Epochh : 15000, Average Train Meta Loss : 2.0001068361871885, Average Test Meta Loss : 1.952016931920439\n",
      "Epochh : 16000, Average Train Meta Loss : 1.9587307418128803, Average Test Meta Loss : 1.9090339547097328\n",
      "Epochh : 17000, Average Train Meta Loss : 1.911631716180497, Average Test Meta Loss : 1.8671957714968825\n",
      "Epochh : 18000, Average Train Meta Loss : 1.866671234178057, Average Test Meta Loss : 1.8221352297106383\n",
      "Epochh : 19000, Average Train Meta Loss : 1.8203848893336827, Average Test Meta Loss : 1.7734805103208096\n",
      "Epochh : 20000, Average Train Meta Loss : 1.7734832876058264, Average Test Meta Loss : 1.730880505891539\n",
      "Epochh : 21000, Average Train Meta Loss : 1.7241215653727098, Average Test Meta Loss : 1.6816385487959014\n",
      "Epochh : 22000, Average Train Meta Loss : 1.6771140598066476, Average Test Meta Loss : 1.6374023275313652\n",
      "Epochh : 23000, Average Train Meta Loss : 1.6295001650326517, Average Test Meta Loss : 1.5904969719778035\n",
      "Epochh : 24000, Average Train Meta Loss : 1.5836381604808465, Average Test Meta Loss : 1.5469833819618508\n",
      "Epochh : 25000, Average Train Meta Loss : 1.5402705640321643, Average Test Meta Loss : 1.5030432090167403\n",
      "Epochh : 26000, Average Train Meta Loss : 1.498542363654432, Average Test Meta Loss : 1.464614962671329\n",
      "Epochh : 27000, Average Train Meta Loss : 1.4641871424326676, Average Test Meta Loss : 1.4300357857835992\n",
      "Epochh : 28000, Average Train Meta Loss : 1.4292821424336497, Average Test Meta Loss : 1.3962669655083833\n",
      "Epochh : 29000, Average Train Meta Loss : 1.396407320453968, Average Test Meta Loss : 1.3617639945216433\n",
      "Epochh : 30000, Average Train Meta Loss : 1.3643126953028775, Average Test Meta Loss : 1.3383946341528339\n",
      "Epochh : 31000, Average Train Meta Loss : 1.3372448458056334, Average Test Meta Loss : 1.3120422391430318\n",
      "Epochh : 32000, Average Train Meta Loss : 1.3088492651426555, Average Test Meta Loss : 1.2847388591142967\n",
      "Epochh : 33000, Average Train Meta Loss : 1.2815662937701129, Average Test Meta Loss : 1.2640414294383162\n",
      "Epochh : 34000, Average Train Meta Loss : 1.2587302220209415, Average Test Meta Loss : 1.2391769713112581\n",
      "Epochh : 35000, Average Train Meta Loss : 1.2344815053861247, Average Test Meta Loss : 1.2140148965680864\n",
      "Epochh : 36000, Average Train Meta Loss : 1.2082756999005173, Average Test Meta Loss : 1.189642576464815\n",
      "Epochh : 37000, Average Train Meta Loss : 1.1882039929896513, Average Test Meta Loss : 1.1699686885149487\n",
      "Epochh : 38000, Average Train Meta Loss : 1.164843668088002, Average Test Meta Loss : 1.1481600806161367\n",
      "Epochh : 39000, Average Train Meta Loss : 1.1448717738223604, Average Test Meta Loss : 1.126176309598829\n",
      "Epochh : 40000, Average Train Meta Loss : 1.1260512290367255, Average Test Meta Loss : 1.1052461687991104\n",
      "Epochh : 41000, Average Train Meta Loss : 1.1048574860794615, Average Test Meta Loss : 1.0852880246067487\n",
      "Epochh : 42000, Average Train Meta Loss : 1.0862867596718724, Average Test Meta Loss : 1.0680472917904633\n",
      "Epochh : 43000, Average Train Meta Loss : 1.0671807695356474, Average Test Meta Loss : 1.049415992464916\n",
      "Epochh : 44000, Average Train Meta Loss : 1.0494529840850666, Average Test Meta Loss : 1.0320186043780748\n",
      "Epochh : 45000, Average Train Meta Loss : 1.0321751790315032, Average Test Meta Loss : 1.0155967831948476\n",
      "Epochh : 46000, Average Train Meta Loss : 1.0148113065604663, Average Test Meta Loss : 1.0038459083509055\n",
      "Epochh : 47000, Average Train Meta Loss : 0.9992616642154756, Average Test Meta Loss : 0.9885312789749796\n",
      "Epochh : 48000, Average Train Meta Loss : 0.9839729736576845, Average Test Meta Loss : 0.9733975107899806\n",
      "Epochh : 49000, Average Train Meta Loss : 0.969904066647524, Average Test Meta Loss : 0.9593246293751152\n",
      "Epochh : 50000, Average Train Meta Loss : 0.9554030705851565, Average Test Meta Loss : 0.9458470003957035\n",
      "Epochh : 51000, Average Train Meta Loss : 0.9417984493582299, Average Test Meta Loss : 0.9314674449211807\n",
      "Epochh : 52000, Average Train Meta Loss : 0.9286819563366775, Average Test Meta Loss : 0.9178101009073195\n",
      "Epochh : 53000, Average Train Meta Loss : 0.9155677411668811, Average Test Meta Loss : 0.9069896336623521\n",
      "Epochh : 54000, Average Train Meta Loss : 0.9028342316601206, Average Test Meta Loss : 0.8939470708410842\n",
      "Epochh : 55000, Average Train Meta Loss : 0.8907052572897787, Average Test Meta Loss : 0.882310014831399\n",
      "Epochh : 56000, Average Train Meta Loss : 0.8787519706268332, Average Test Meta Loss : 0.8715061445013483\n",
      "Epochh : 57000, Average Train Meta Loss : 0.8671267800189552, Average Test Meta Loss : 0.8597483955609231\n",
      "Epochh : 58000, Average Train Meta Loss : 0.8551771626393238, Average Test Meta Loss : 0.8506224708216497\n",
      "Epochh : 59000, Average Train Meta Loss : 0.8454006284635417, Average Test Meta Loss : 0.8393135912427463\n",
      "Epochh : 60000, Average Train Meta Loss : 0.834983794038758, Average Test Meta Loss : 0.828912103693635\n",
      "Epochh : 61000, Average Train Meta Loss : 0.8245293619946762, Average Test Meta Loss : 0.8192298896270581\n",
      "Epochh : 62000, Average Train Meta Loss : 0.8145484224458758, Average Test Meta Loss : 0.809430389794549\n",
      "Epochh : 63000, Average Train Meta Loss : 0.8048714067643925, Average Test Meta Loss : 0.8006920534588612\n",
      "Epochh : 64000, Average Train Meta Loss : 0.7955458027514931, Average Test Meta Loss : 0.7916144327427622\n",
      "Epochh : 65000, Average Train Meta Loss : 0.7863565810031673, Average Test Meta Loss : 0.7824847675644352\n",
      "Epochh : 66000, Average Train Meta Loss : 0.777049710244784, Average Test Meta Loss : 0.7740329360561643\n",
      "Epochh : 67000, Average Train Meta Loss : 0.7687125881538693, Average Test Meta Loss : 0.7661035643306889\n",
      "Epochh : 68000, Average Train Meta Loss : 0.7603158706242172, Average Test Meta Loss : 0.757918830797599\n",
      "Epochh : 69000, Average Train Meta Loss : 0.752244402503327, Average Test Meta Loss : 0.7494944619352749\n",
      "Epochh : 70000, Average Train Meta Loss : 0.7446267335405031, Average Test Meta Loss : 0.7415409268344972\n",
      "Epochh : 71000, Average Train Meta Loss : 0.7366459975238676, Average Test Meta Loss : 0.7336574645894485\n",
      "Epochh : 72000, Average Train Meta Loss : 0.7291890756573329, Average Test Meta Loss : 0.7272376685230775\n",
      "Epochh : 73000, Average Train Meta Loss : 0.7217608299892997, Average Test Meta Loss : 0.7203216925933565\n",
      "Epochh : 74000, Average Train Meta Loss : 0.7144461984097727, Average Test Meta Loss : 0.7132807869399698\n",
      "Epochh : 75000, Average Train Meta Loss : 0.707468698261759, Average Test Meta Loss : 0.7067835094149588\n",
      "Epochh : 76000, Average Train Meta Loss : 0.701567605231581, Average Test Meta Loss : 0.6996810462975303\n",
      "Epochh : 77000, Average Train Meta Loss : 0.6943506499285368, Average Test Meta Loss : 0.6930813811083054\n"
     ]
    },
    {
     "name": "stdout",
     "output_type": "stream",
     "text": [
      "Epochh : 78000, Average Train Meta Loss : 0.6878457835695243, Average Test Meta Loss : 0.6869727775158746\n",
      "Epochh : 79000, Average Train Meta Loss : 0.6813160955216367, Average Test Meta Loss : 0.6802711396782702\n",
      "Epochh : 80000, Average Train Meta Loss : 0.6749068846396596, Average Test Meta Loss : 0.6735522508863543\n",
      "Epochh : 81000, Average Train Meta Loss : 0.669029426420928, Average Test Meta Loss : 0.6680371197165045\n",
      "Epochh : 82000, Average Train Meta Loss : 0.6628685219199306, Average Test Meta Loss : 0.661811153785355\n",
      "Epochh : 83000, Average Train Meta Loss : 0.6567413766677695, Average Test Meta Loss : 0.6560658076731826\n",
      "Epochh : 84000, Average Train Meta Loss : 0.6510719214885913, Average Test Meta Loss : 0.6504907629597521\n",
      "Epochh : 85000, Average Train Meta Loss : 0.6453012404673846, Average Test Meta Loss : 0.6447670421082324\n",
      "Epochh : 86000, Average Train Meta Loss : 0.6397797633187821, Average Test Meta Loss : 0.6395753838167568\n",
      "Epochh : 87000, Average Train Meta Loss : 0.6341081819739843, Average Test Meta Loss : 0.6342638735727235\n",
      "Epochh : 88000, Average Train Meta Loss : 0.628863020480487, Average Test Meta Loss : 0.6293679029591562\n",
      "Epochh : 89000, Average Train Meta Loss : 0.623542435156007, Average Test Meta Loss : 0.624334672121471\n",
      "Epochh : 90000, Average Train Meta Loss : 0.6189210544896626, Average Test Meta Loss : 0.6194383721174513\n",
      "Epochh : 91000, Average Train Meta Loss : 0.6142790047690003, Average Test Meta Loss : 0.6147101314552356\n",
      "Epochh : 92000, Average Train Meta Loss : 0.6092510072372309, Average Test Meta Loss : 0.6099423016386826\n",
      "Epochh : 93000, Average Train Meta Loss : 0.6043487161715702, Average Test Meta Loss : 0.6052922207786011\n",
      "Epochh : 94000, Average Train Meta Loss : 0.5994780454426275, Average Test Meta Loss : 0.6005242898546304\n",
      "Epochh : 95000, Average Train Meta Loss : 0.5948959939638383, Average Test Meta Loss : 0.5955014233350412\n",
      "Epochh : 96000, Average Train Meta Loss : 0.5901038554513739, Average Test Meta Loss : 0.5909784318662192\n",
      "Epochh : 97000, Average Train Meta Loss : 0.5855263315083767, Average Test Meta Loss : 0.586554398800462\n",
      "Epochh : 98000, Average Train Meta Loss : 0.5808745974973335, Average Test Meta Loss : 0.58207480253959\n",
      "Epochh : 99000, Average Train Meta Loss : 0.576605332120754, Average Test Meta Loss : 0.5780707478005322\n",
      "Epochh : 100000, Average Train Meta Loss : 0.5725317366407421, Average Test Meta Loss : 0.5736808660796281\n",
      "Epochh : 101000, Average Train Meta Loss : 0.5682301857318113, Average Test Meta Loss : 0.5694001250686642\n",
      "Epochh : 102000, Average Train Meta Loss : 0.5640112225914785, Average Test Meta Loss : 0.565458952265305\n",
      "Epochh : 103000, Average Train Meta Loss : 0.5597784589074724, Average Test Meta Loss : 0.5613679981998103\n",
      "Epochh : 104000, Average Train Meta Loss : 0.5555672360548553, Average Test Meta Loss : 0.5574395035501372\n",
      "Epochh : 105000, Average Train Meta Loss : 0.5516070253700768, Average Test Meta Loss : 0.5534430124882324\n",
      "Epochh : 106000, Average Train Meta Loss : 0.548039397375604, Average Test Meta Loss : 0.5496308150632307\n",
      "Epochh : 107000, Average Train Meta Loss : 0.5441113591279085, Average Test Meta Loss : 0.5454582958120561\n",
      "Epochh : 108000, Average Train Meta Loss : 0.5401662106192692, Average Test Meta Loss : 0.5417739576644575\n",
      "Epochh : 109000, Average Train Meta Loss : 0.5366225868875713, Average Test Meta Loss : 0.5382168817213208\n",
      "Epochh : 110000, Average Train Meta Loss : 0.5328102911423438, Average Test Meta Loss : 0.5342898873875491\n",
      "Epochh : 111000, Average Train Meta Loss : 0.5290884803840472, Average Test Meta Loss : 0.5305664523984318\n",
      "Epochh : 112000, Average Train Meta Loss : 0.5254615112246745, Average Test Meta Loss : 0.5269434749564144\n",
      "Epochh : 113000, Average Train Meta Loss : 0.5217675095632333, Average Test Meta Loss : 0.5233233449716223\n",
      "Epochh : 114000, Average Train Meta Loss : 0.5181040286339572, Average Test Meta Loss : 0.5199862896437226\n",
      "Epochh : 115000, Average Train Meta Loss : 0.514576213183811, Average Test Meta Loss : 0.5165084954133624\n",
      "Epochh : 116000, Average Train Meta Loss : 0.5110587323337542, Average Test Meta Loss : 0.5129817829391502\n",
      "Epochh : 117000, Average Train Meta Loss : 0.507736377744069, Average Test Meta Loss : 0.5095768953677952\n",
      "Epochh : 118000, Average Train Meta Loss : 0.504409996049848, Average Test Meta Loss : 0.5062349428271813\n",
      "Epochh : 119000, Average Train Meta Loss : 0.5010272436963995, Average Test Meta Loss : 0.5029075368915593\n",
      "Epochh : 120000, Average Train Meta Loss : 0.4978256414188596, Average Test Meta Loss : 0.4997287612100243\n",
      "Epochh : 121000, Average Train Meta Loss : 0.4944743473997155, Average Test Meta Loss : 0.496696334346513\n",
      "Epochh : 122000, Average Train Meta Loss : 0.49142004558251196, Average Test Meta Loss : 0.4936058207272385\n",
      "Epochh : 123000, Average Train Meta Loss : 0.4883061297900477, Average Test Meta Loss : 0.4904992177225558\n",
      "Epochh : 124000, Average Train Meta Loss : 0.4852350290829616, Average Test Meta Loss : 0.4875485210219762\n",
      "Epochh : 125000, Average Train Meta Loss : 0.48228209583952075, Average Test Meta Loss : 0.48470328043217636\n",
      "Epochh : 126000, Average Train Meta Loss : 0.4792013876696948, Average Test Meta Loss : 0.4816557824545777\n",
      "Epochh : 127000, Average Train Meta Loss : 0.4762167454114137, Average Test Meta Loss : 0.47892266471810424\n",
      "Epochh : 128000, Average Train Meta Loss : 0.47324136521971244, Average Test Meta Loss : 0.47587493042483553\n",
      "Epochh : 129000, Average Train Meta Loss : 0.47034060882073636, Average Test Meta Loss : 0.47297039917168354\n",
      "Epochh : 130000, Average Train Meta Loss : 0.4674367921063515, Average Test Meta Loss : 0.4701626660097492\n",
      "Epochh : 131000, Average Train Meta Loss : 0.46450559120100765, Average Test Meta Loss : 0.46734316614098415\n",
      "Epochh : 132000, Average Train Meta Loss : 0.4620592886557789, Average Test Meta Loss : 0.46444351584347654\n",
      "Epochh : 133000, Average Train Meta Loss : 0.4592516953818411, Average Test Meta Loss : 0.46191124866245187\n",
      "Epochh : 134000, Average Train Meta Loss : 0.45645622115349066, Average Test Meta Loss : 0.45996591396598574\n",
      "Epochh : 135000, Average Train Meta Loss : 0.45384356782943885, Average Test Meta Loss : 0.4571834291878663\n",
      "Epochh : 136000, Average Train Meta Loss : 0.4511601410786813, Average Test Meta Loss : 0.4548344017272731\n",
      "Epochh : 137000, Average Train Meta Loss : 0.4485709616238025, Average Test Meta Loss : 0.45230543692136477\n",
      "Epochh : 138000, Average Train Meta Loss : 0.44591765936052796, Average Test Meta Loss : 0.44964186109350335\n",
      "Epochh : 139000, Average Train Meta Loss : 0.44336858233188503, Average Test Meta Loss : 0.44751669256326665\n",
      "Epochh : 140000, Average Train Meta Loss : 0.4409012031507241, Average Test Meta Loss : 0.4450527726776039\n",
      "Epochh : 141000, Average Train Meta Loss : 0.43842640583208764, Average Test Meta Loss : 0.4426184574551659\n",
      "Epochh : 142000, Average Train Meta Loss : 0.4359800972115018, Average Test Meta Loss : 0.4401668561945378\n",
      "Epochh : 143000, Average Train Meta Loss : 0.4335767958906299, Average Test Meta Loss : 0.43772921309072954\n",
      "Epochh : 144000, Average Train Meta Loss : 0.4311644589092139, Average Test Meta Loss : 0.43555677002911747\n",
      "Epochh : 145000, Average Train Meta Loss : 0.42884727120746824, Average Test Meta Loss : 0.4333084220796022\n",
      "Epochh : 146000, Average Train Meta Loss : 0.4265092589546029, Average Test Meta Loss : 0.4309051914540334\n",
      "Epochh : 147000, Average Train Meta Loss : 0.4242176793712855, Average Test Meta Loss : 0.4286924489338429\n",
      "Epochh : 148000, Average Train Meta Loss : 0.42199003783659733, Average Test Meta Loss : 0.42650162159095173\n",
      "Epochh : 149000, Average Train Meta Loss : 0.41978665830522366, Average Test Meta Loss : 0.42416701454059896\n",
      "Epochh : 150000, Average Train Meta Loss : 0.4175266485428613, Average Test Meta Loss : 0.42189372239389755\n",
      "Epochh : 151000, Average Train Meta Loss : 0.41550796068737855, Average Test Meta Loss : 0.419943574309963\n",
      "Epochh : 152000, Average Train Meta Loss : 0.4133569243353136, Average Test Meta Loss : 0.41791427461496294\n",
      "Epochh : 153000, Average Train Meta Loss : 0.4111677863945142, Average Test Meta Loss : 0.4158458765699448\n",
      "Epochh : 154000, Average Train Meta Loss : 0.40905357727770547, Average Test Meta Loss : 0.41365745670913806\n"
     ]
    },
    {
     "name": "stdout",
     "output_type": "stream",
     "text": [
      "Epochh : 155000, Average Train Meta Loss : 0.40698955995428193, Average Test Meta Loss : 0.4118446550425316\n",
      "Epochh : 156000, Average Train Meta Loss : 0.40490291998994576, Average Test Meta Loss : 0.4097779267819339\n",
      "Epochh : 157000, Average Train Meta Loss : 0.40281034153005035, Average Test Meta Loss : 0.40776642430259485\n",
      "Epochh : 158000, Average Train Meta Loss : 0.40070145338218804, Average Test Meta Loss : 0.40572629300698027\n",
      "Epochh : 159000, Average Train Meta Loss : 0.39869376265595025, Average Test Meta Loss : 0.4038626976632505\n",
      "Epochh : 160000, Average Train Meta Loss : 0.39673399591081304, Average Test Meta Loss : 0.4019655253858456\n",
      "Epochh : 161000, Average Train Meta Loss : 0.3947633578347841, Average Test Meta Loss : 0.39996925459558635\n",
      "Epochh : 162000, Average Train Meta Loss : 0.39283996691798473, Average Test Meta Loss : 0.39826269228857236\n",
      "Epochh : 163000, Average Train Meta Loss : 0.3908786350010717, Average Test Meta Loss : 0.3962643132330394\n",
      "Epochh : 164000, Average Train Meta Loss : 0.38898778313855914, Average Test Meta Loss : 0.39449807736720155\n",
      "Epochh : 165000, Average Train Meta Loss : 0.3870888427768688, Average Test Meta Loss : 0.39284170163366516\n",
      "Epochh : 166000, Average Train Meta Loss : 0.3852478232252282, Average Test Meta Loss : 0.39095312913418034\n",
      "Epochh : 167000, Average Train Meta Loss : 0.38333655495878494, Average Test Meta Loss : 0.389211502863189\n",
      "Epochh : 168000, Average Train Meta Loss : 0.3815012547227914, Average Test Meta Loss : 0.3875739025920679\n",
      "Epochh : 169000, Average Train Meta Loss : 0.3796994721745261, Average Test Meta Loss : 0.3859048584276867\n",
      "Epochh : 170000, Average Train Meta Loss : 0.3779559571999406, Average Test Meta Loss : 0.38425323219997576\n",
      "Epochh : 171000, Average Train Meta Loss : 0.3761362298380976, Average Test Meta Loss : 0.38248491978314775\n",
      "Epochh : 172000, Average Train Meta Loss : 0.37432995256093893, Average Test Meta Loss : 0.38062763398980765\n",
      "Epochh : 173000, Average Train Meta Loss : 0.3725761333501149, Average Test Meta Loss : 0.3788612002472388\n",
      "Epochh : 174000, Average Train Meta Loss : 0.3708083284914028, Average Test Meta Loss : 0.3770491597387141\n",
      "Epochh : 175000, Average Train Meta Loss : 0.3690802886105659, Average Test Meta Loss : 0.37553476539596664\n",
      "Epochh : 176000, Average Train Meta Loss : 0.36743547649430625, Average Test Meta Loss : 0.3738770049920777\n",
      "Epochh : 177000, Average Train Meta Loss : 0.36571845529393265, Average Test Meta Loss : 0.37221464979216345\n",
      "Epochh : 178000, Average Train Meta Loss : 0.3640427434699906, Average Test Meta Loss : 0.3705243648225503\n",
      "Epochh : 179000, Average Train Meta Loss : 0.36239653887174933, Average Test Meta Loss : 0.36888986257781387\n",
      "Epochh : 180000, Average Train Meta Loss : 0.3607786958491394, Average Test Meta Loss : 0.3673672389620618\n",
      "Epochh : 181000, Average Train Meta Loss : 0.3591289543339724, Average Test Meta Loss : 0.3657328101224336\n",
      "Epochh : 182000, Average Train Meta Loss : 0.35756129573683887, Average Test Meta Loss : 0.36412113632860166\n",
      "Epochh : 183000, Average Train Meta Loss : 0.35596453300045316, Average Test Meta Loss : 0.36242194096603114\n",
      "Epochh : 184000, Average Train Meta Loss : 0.35438167270339077, Average Test Meta Loss : 0.36097683991549234\n",
      "Epochh : 185000, Average Train Meta Loss : 0.35276381732353584, Average Test Meta Loss : 0.35945662043023263\n",
      "Epochh : 186000, Average Train Meta Loss : 0.35120432773579346, Average Test Meta Loss : 0.3578415377676083\n",
      "Epochh : 187000, Average Train Meta Loss : 0.34965825716046245, Average Test Meta Loss : 0.35629528081720035\n",
      "Epochh : 188000, Average Train Meta Loss : 0.34813347108191023, Average Test Meta Loss : 0.35490802974095764\n",
      "Epochh : 189000, Average Train Meta Loss : 0.34662081394341737, Average Test Meta Loss : 0.3533861411815745\n",
      "Epochh : 190000, Average Train Meta Loss : 0.34510667256233124, Average Test Meta Loss : 0.35187231369458155\n",
      "Epochh : 191000, Average Train Meta Loss : 0.34366111936270316, Average Test Meta Loss : 0.35034657730836155\n",
      "Epochh : 192000, Average Train Meta Loss : 0.3421789331414836, Average Test Meta Loss : 0.3490305991731757\n",
      "Epochh : 193000, Average Train Meta Loss : 0.340694693791351, Average Test Meta Loss : 0.3475658355996957\n",
      "Epochh : 194000, Average Train Meta Loss : 0.33925964238321105, Average Test Meta Loss : 0.3460939624690984\n",
      "Epochh : 195000, Average Train Meta Loss : 0.33782664883544683, Average Test Meta Loss : 0.3446904382863265\n",
      "Epochh : 196000, Average Train Meta Loss : 0.33642901183977897, Average Test Meta Loss : 0.3432864215716458\n",
      "Epochh : 197000, Average Train Meta Loss : 0.3350890724573747, Average Test Meta Loss : 0.3418036031390676\n",
      "Epochh : 198000, Average Train Meta Loss : 0.3336925466226658, Average Test Meta Loss : 0.3403722262435739\n",
      "Epochh : 199000, Average Train Meta Loss : 0.3323097898488081, Average Test Meta Loss : 0.33901035228020027\n",
      "Epochh : 200000, Average Train Meta Loss : 0.3309375321975364, Average Test Meta Loss : 0.3376515425561046\n",
      "Epochh : 201000, Average Train Meta Loss : 0.3295705254894444, Average Test Meta Loss : 0.3363052550972199\n",
      "Epochh : 202000, Average Train Meta Loss : 0.32824802403554115, Average Test Meta Loss : 0.334952518268861\n",
      "Epochh : 203000, Average Train Meta Loss : 0.3269166427021411, Average Test Meta Loss : 0.33365226293020944\n",
      "Epochh : 204000, Average Train Meta Loss : 0.325616167721644, Average Test Meta Loss : 0.33239833198054497\n",
      "Epochh : 205000, Average Train Meta Loss : 0.3242628494867807, Average Test Meta Loss : 0.33107797740404793\n",
      "Epochh : 206000, Average Train Meta Loss : 0.322986159345867, Average Test Meta Loss : 0.3297966106329746\n",
      "Epochh : 207000, Average Train Meta Loss : 0.3216970352232068, Average Test Meta Loss : 0.32867288930836097\n",
      "Epochh : 208000, Average Train Meta Loss : 0.32042688284223153, Average Test Meta Loss : 0.3273764987853862\n",
      "Epochh : 209000, Average Train Meta Loss : 0.31913682636675517, Average Test Meta Loss : 0.3261903183106752\n",
      "Epochh : 210000, Average Train Meta Loss : 0.3179628251319038, Average Test Meta Loss : 0.32488233920456516\n",
      "Epochh : 211000, Average Train Meta Loss : 0.3167105187158732, Average Test Meta Loss : 0.3235967560309828\n",
      "Epochh : 212000, Average Train Meta Loss : 0.3154728255309544, Average Test Meta Loss : 0.322309669279419\n",
      "Epochh : 213000, Average Train Meta Loss : 0.31425126615257626, Average Test Meta Loss : 0.3210667967517969\n",
      "Epochh : 214000, Average Train Meta Loss : 0.31305932695309147, Average Test Meta Loss : 0.31978180886582896\n",
      "Epochh : 215000, Average Train Meta Loss : 0.3118890543874076, Average Test Meta Loss : 0.3185572663800899\n",
      "Epochh : 216000, Average Train Meta Loss : 0.3106911529970322, Average Test Meta Loss : 0.31729975261630894\n",
      "Epochh : 217000, Average Train Meta Loss : 0.30954305297268686, Average Test Meta Loss : 0.3160790200811596\n",
      "Epochh : 218000, Average Train Meta Loss : 0.30849692990281635, Average Test Meta Loss : 0.3149242607764539\n",
      "Epochh : 219000, Average Train Meta Loss : 0.3073172666484495, Average Test Meta Loss : 0.3137382943664018\n",
      "Epochh : 220000, Average Train Meta Loss : 0.30617625375014385, Average Test Meta Loss : 0.31261555817889686\n",
      "Epochh : 221000, Average Train Meta Loss : 0.3050524598301511, Average Test Meta Loss : 0.3114950153356141\n",
      "Epochh : 222000, Average Train Meta Loss : 0.3039568622311348, Average Test Meta Loss : 0.31038216000819957\n",
      "Epochh : 223000, Average Train Meta Loss : 0.3028302853847708, Average Test Meta Loss : 0.3092676627400388\n",
      "Epochh : 224000, Average Train Meta Loss : 0.3017806791601526, Average Test Meta Loss : 0.3081302326637033\n",
      "Epochh : 225000, Average Train Meta Loss : 0.30064695045546125, Average Test Meta Loss : 0.30697716574091\n",
      "Epochh : 226000, Average Train Meta Loss : 0.29951412535060407, Average Test Meta Loss : 0.30591915413794035\n",
      "Epochh : 227000, Average Train Meta Loss : 0.2984332263839462, Average Test Meta Loss : 0.3048015739229902\n",
      "Epochh : 228000, Average Train Meta Loss : 0.29736105064857227, Average Test Meta Loss : 0.3037633537370967\n",
      "Epochh : 229000, Average Train Meta Loss : 0.29635067349396804, Average Test Meta Loss : 0.3027006600168938\n",
      "Epochh : 230000, Average Train Meta Loss : 0.2952453692347336, Average Test Meta Loss : 0.30161724724876915\n"
     ]
    },
    {
     "name": "stdout",
     "output_type": "stream",
     "text": [
      "Epochh : 231000, Average Train Meta Loss : 0.29423012049695135, Average Test Meta Loss : 0.30059512886349876\n",
      "Epochh : 232000, Average Train Meta Loss : 0.2932608233517641, Average Test Meta Loss : 0.2995310665133094\n",
      "Epochh : 233000, Average Train Meta Loss : 0.29222410094855555, Average Test Meta Loss : 0.298565819457298\n",
      "Epochh : 234000, Average Train Meta Loss : 0.2911894980455414, Average Test Meta Loss : 0.29745447258508095\n",
      "Epochh : 235000, Average Train Meta Loss : 0.2902043346205143, Average Test Meta Loss : 0.2964035276845486\n",
      "Epochh : 236000, Average Train Meta Loss : 0.28917476013887533, Average Test Meta Loss : 0.29548829985605984\n",
      "Epochh : 237000, Average Train Meta Loss : 0.28822552681041247, Average Test Meta Loss : 0.29448039207195065\n",
      "Epochh : 238000, Average Train Meta Loss : 0.28721453326286184, Average Test Meta Loss : 0.29348599347172566\n",
      "Epochh : 239000, Average Train Meta Loss : 0.28625873930730744, Average Test Meta Loss : 0.2925924305221304\n",
      "Epochh : 240000, Average Train Meta Loss : 0.2852720946107231, Average Test Meta Loss : 0.29155727446284363\n",
      "Epochh : 241000, Average Train Meta Loss : 0.28432956384379793, Average Test Meta Loss : 0.290631055681051\n",
      "Epochh : 242000, Average Train Meta Loss : 0.28337337201603696, Average Test Meta Loss : 0.2896914752253027\n",
      "Epochh : 243000, Average Train Meta Loss : 0.2824276227632093, Average Test Meta Loss : 0.28870794973172875\n",
      "Epochh : 244000, Average Train Meta Loss : 0.28147853164214764, Average Test Meta Loss : 0.2877434274423462\n",
      "Epochh : 245000, Average Train Meta Loss : 0.28058116816894696, Average Test Meta Loss : 0.2867551250199864\n",
      "Epochh : 246000, Average Train Meta Loss : 0.27964123988156436, Average Test Meta Loss : 0.28583217752139156\n",
      "Epochh : 247000, Average Train Meta Loss : 0.2787149604854067, Average Test Meta Loss : 0.28492197785924134\n",
      "Epochh : 248000, Average Train Meta Loss : 0.27780210069416306, Average Test Meta Loss : 0.2840373249418124\n",
      "Epochh : 249000, Average Train Meta Loss : 0.2769254550474102, Average Test Meta Loss : 0.28314714456256584\n"
     ]
    }
   ],
   "source": [
    "# Training loop\n",
    "for epoch in range(epochs):\n",
    "        \n",
    "    # Sample a sine wave (Task from training data)\n",
    "    wave = random.sample(SINE_TRAIN, 1)\n",
    "\n",
    "    # Update model predefined number of times based on k\n",
    "    new_model = training(model, wave[0], lr_k, k)\n",
    "\n",
    "    # Evalaute the loss for the training data\n",
    "    train_set_evaluation(new_model,wave[0],store_train_loss_meta)     \n",
    "    \n",
    "    #Meta-update --> Get gradient for meta loop and update\n",
    "    metaupdate(model,new_model,metaoptimizer)\n",
    "    \n",
    "    # Evalaute the loss for the test data\n",
    "    # Note that we need to sample the wave from the test data\n",
    "    wave = random.sample(SINE_TEST, 1)\n",
    "    test_set_validation(model,new_model,wave[0],lr_k,k,store_test_loss_meta)\n",
    "\n",
    "    # Print losses every 'printing_step' epochs\n",
    "    print_losses(epoch,store_train_loss_meta,store_test_loss_meta,printing_step)"
   ]
  },
  {
   "cell_type": "markdown",
   "id": "bQjoz6FYctJM",
   "metadata": {
    "id": "bQjoz6FYctJM"
   },
   "source": [
    "<h1> Few Shot learning with new meta-model"
   ]
  },
  {
   "cell_type": "markdown",
   "id": "m-SPUG5Bfpe9",
   "metadata": {
    "id": "m-SPUG5Bfpe9"
   },
   "source": [
    "The model performs good few shot learning"
   ]
  },
  {
   "cell_type": "code",
   "execution_count": 9,
   "id": "GY84TNs8JXVH",
   "metadata": {
    "colab": {
     "base_uri": "https://localhost:8080/",
     "height": 351
    },
    "id": "GY84TNs8JXVH",
    "outputId": "1f8f1545-9c7f-4c55-bd7a-520642859f4d"
   },
   "outputs": [
    {
     "name": "stderr",
     "output_type": "stream",
     "text": [
      "<ipython-input-6-7e1e6714c74e>:17: UserWarning: To copy construct from a tensor, it is recommended to use sourceTensor.clone().detach() or sourceTensor.clone().detach().requires_grad_(True), rather than torch.tensor(sourceTensor).\n",
      "  x = torch.tensor(x)\n",
      "<ipython-input-6-7e1e6714c74e>:18: UserWarning: To copy construct from a tensor, it is recommended to use sourceTensor.clone().detach() or sourceTensor.clone().detach().requires_grad_(True), rather than torch.tensor(sourceTensor).\n",
      "  y_true = torch.tensor(y_true)\n"
     ]
    },
    {
     "data": {
      "text/plain": [
       "Text(0.5, 0, 'k shots')"
      ]
     },
     "execution_count": 9,
     "metadata": {},
     "output_type": "execute_result"
    },
    {
     "data": {
      "image/png": "[encoded data removed]",
      "text/plain": [
       "<Figure size 432x288 with 1 Axes>"
      ]
     },
     "metadata": {
      "needs_background": "light"
     },
     "output_type": "display_data"
    }
   ],
   "source": [
    "wave = SineWaveTask_multi(); \n",
    "k_shot_updates = 4\n",
    "initialization_to_store_meta_losses()\n",
    "for shots in range(k_shot_updates):\n",
    "    new_model = training(model, wave, lr_k, shots)\n",
    "    train_set_evaluation(new_model,wave,store_train_loss_meta) \n",
    "\n",
    "plt.plot(store_train_loss_meta,label = 'Loss')\n",
    "plt.legend()\n",
    "plt.xlabel('k shots')"
   ]
  },
  {
   "cell_type": "code",
   "execution_count": 12,
   "id": "5lL1NN2OPBSD",
   "metadata": {
    "id": "5lL1NN2OPBSD"
   },
   "outputs": [
    {
     "name": "stderr",
     "output_type": "stream",
     "text": [
      "<ipython-input-6-7e1e6714c74e>:17: UserWarning: To copy construct from a tensor, it is recommended to use sourceTensor.clone().detach() or sourceTensor.clone().detach().requires_grad_(True), rather than torch.tensor(sourceTensor).\n",
      "  x = torch.tensor(x)\n",
      "<ipython-input-6-7e1e6714c74e>:18: UserWarning: To copy construct from a tensor, it is recommended to use sourceTensor.clone().detach() or sourceTensor.clone().detach().requires_grad_(True), rather than torch.tensor(sourceTensor).\n",
      "  y_true = torch.tensor(y_true)\n"
     ]
    },
    {
     "data": {
      "image/png": "[encoded data removed]",
      "text/plain": [
       "<Figure size 576x288 with 1 Axes>"
      ]
     },
     "metadata": {
      "needs_background": "light"
     },
     "output_type": "display_data"
    }
   ],
   "source": [
    "all_losses = []\n",
    "num_eval = 1000\n",
    "num_k_shots = 6\n",
    "\n",
    "for test_eval in range(num_eval): \n",
    "\n",
    "    wave = SineWaveTask_multi(); \n",
    "    k_shot_updates = num_k_shots\n",
    "    initialization_to_store_meta_losses()\n",
    "    for shots in range(k_shot_updates):\n",
    "        new_model = training(model, wave, lr_k, shots)\n",
    "        train_set_evaluation(new_model,wave,store_train_loss_meta) \n",
    "        \n",
    "    all_losses.append(np.array(store_train_loss_meta))\n",
    "\n",
    "all_losses = np.array(all_losses)\n",
    "np.save(f\"reptile_multi_sine_{num_k_shots}.npy\", all_losses)\n",
    "    \n",
    "fig, ax = plt.subplots(figsize=(8,4))\n",
    "\n",
    "mean_loss = np.mean(all_losses, axis=0)\n",
    "\n",
    "# confidence interval plotting help from: https://stackoverflow.com/questions/59747313/how-to-plot-confidence-interval-in-python\n",
    "y = mean_loss\n",
    "x = list(range(num_k_shots))\n",
    "ci = 1.96 * np.std(all_losses, axis=0)**2/np.sqrt(len(y))\n",
    "\n",
    "ax_size=16\n",
    "title_size=18\n",
    "                                                  \n",
    "ax.plot(x, y, linewidth=3, label=f\"Mean Loss\")\n",
    "ax.fill_between(x, (y-ci), (y+ci), alpha=.5,label=f\"95% CI\")\n",
    "ax.set_xlabel(\"Gradient Steps\",fontsize=ax_size)\n",
    "ax.set_ylabel(\"Mean Squared Error (MSE)\",fontsize=ax_size)\n",
    "ax.set_title(\"Sine Wave Regression: k-Shot Evaluation\",fontsize=title_size)\n",
    "ax.legend()#loc=\"upper right\")\n",
    "plt.savefig(\"reptile_sine_wave_multidim_reg_kshot.png\")"
   ]
  },
  {
   "cell_type": "code",
   "execution_count": 13,
   "id": "ebd907d1",
   "metadata": {},
   "outputs": [
    {
     "name": "stdout",
     "output_type": "stream",
     "text": [
      "Step: 0, Error: 3.0552478387355806, Var: 0.3992171627993859\n",
      "Step: 1, Error: 0.5247177988365292, Var: 0.10564654234035513\n",
      "Step: 5, Error: 0.04501637527067214, Var: 0.01355739429137957\n"
     ]
    }
   ],
   "source": [
    "analysis_steps = [0, 1, num_k_shots-1]\n",
    "for analysis_step in analysis_steps: \n",
    "    print(f\"Step: {analysis_step}, Error: {mean_loss[analysis_step]}, Var: {ci[analysis_step]}\")"
   ]
  },
  {
   "cell_type": "code",
   "execution_count": null,
   "id": "e7f0a896",
   "metadata": {},
   "outputs": [],
   "source": []
  }
 ],
 "metadata": {
  "accelerator": "GPU",
  "colab": {
   "collapsed_sections": [],
   "name": "Reptile_multidimensional_sinewave.ipynb",
   "provenance": []
  },
  "kernelspec": {
   "display_name": "Python 3",
   "language": "python",
   "name": "python3"
  },
  "language_info": {
   "codemirror_mode": {
    "name": "ipython",
    "version": 3
   },
   "file_extension": ".py",
   "mimetype": "text/x-python",
   "name": "python",
   "nbconvert_exporter": "python",
   "pygments_lexer": "ipython3",
   "version": "3.8.8"
  }
 },
 "nbformat": 4,
 "nbformat_minor": 5
}
