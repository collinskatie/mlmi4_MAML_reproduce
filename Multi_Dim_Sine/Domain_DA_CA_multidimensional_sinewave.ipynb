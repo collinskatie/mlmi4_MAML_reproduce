{
 "cells": [
  {
   "cell_type": "markdown",
   "id": "UrjQGgr5nUHC",
   "metadata": {
    "id": "UrjQGgr5nUHC"
   },
   "source": [
    "<h1> Imports and Set-Up"
   ]
  },
  {
   "cell_type": "code",
   "execution_count": 1,
   "id": "eGl9mcc0nOMP",
   "metadata": {
    "id": "eGl9mcc0nOMP"
   },
   "outputs": [
    {
     "name": "stdout",
     "output_type": "stream",
     "text": [
      "Requirement already satisfied: higher in /Users/kcollins/opt/anaconda3/lib/python3.8/site-packages (0.2.1)\n",
      "Requirement already satisfied: torch in /Users/kcollins/opt/anaconda3/lib/python3.8/site-packages (from higher) (1.10.2)\n",
      "Requirement already satisfied: typing-extensions in /Users/kcollins/opt/anaconda3/lib/python3.8/site-packages (from torch->higher) (3.7.4.3)\n",
      "Available device: cpu\n"
     ]
    }
   ],
   "source": [
    "!pip3 install higher\n",
    "import matplotlib.pyplot as plt\n",
    "import numpy as np\n",
    "import torch.nn as nn\n",
    "import torch\n",
    "from torch.autograd import Variable\n",
    "import random\n",
    "from higher import innerloop_ctx\n",
    "import warnings\n",
    "\n",
    "#The code includes extensive warnings when run so have used this to ignore them\n",
    "warnings.filterwarnings(\"ignore\")\n",
    "\n",
    "#Set random seeds for reproducibility of results \n",
    "torch.manual_seed(0)\n",
    "random.seed(0)\n",
    "np.random.seed(0)\n",
    "\n",
    "# set GPU or CPU depending on available hardware\n",
    "# help from: https://stackoverflow.com/questions/46704352/porting-pytorch-code-from-cpu-to-gpu\n",
    "device = torch.device(\"cuda:0\" if torch.cuda.is_available() else \"cpu\")\n",
    "print(f\"Available device: {device}\")\n",
    "\n",
    "if device == \"cuda:0\": \n",
    "  # set default so all tensors are on GPU, if available\n",
    "  # help from: https://stackoverflow.com/questions/46704352/porting-pytorch-code-from-cpu-to-gpu\n",
    "  torch.set_default_tensor_type('torch.cuda.FloatTensor')\n",
    "\n",
    "\n",
    "domain_type = \"multidim_sine\""
   ]
  },
  {
   "cell_type": "markdown",
   "id": "T3KVOwFXFOY0",
   "metadata": {
    "id": "T3KVOwFXFOY0"
   },
   "source": [
    "<h1> Data Loading and Generation"
   ]
  },
  {
   "cell_type": "markdown",
   "id": "nMUUm70ufKHH",
   "metadata": {
    "id": "nMUUm70ufKHH"
   },
   "source": [
    "This Sine function generator is based on the repostory: https://github.com/AdrienLE/ANIML/blob/master/ANIML.ipynb"
   ]
  },
  {
   "cell_type": "code",
   "execution_count": 2,
   "id": "a3X51uGHDvSV",
   "metadata": {
    "id": "a3X51uGHDvSV"
   },
   "outputs": [],
   "source": [
    "from data import SineWaveTask_multi\n",
    "    \n",
    "\n",
    "TRAIN_SIZE = 20000\n",
    "TEST_SIZE = 1000\n",
    "SINE_TRAIN = [SineWaveTask_multi() for _ in range(TRAIN_SIZE)]\n",
    "SINE_TEST = [SineWaveTask_multi() for _ in range(TEST_SIZE)]"
   ]
  },
  {
   "cell_type": "code",
   "execution_count": 3,
   "id": "Ahv9M3tAJrG7",
   "metadata": {
    "id": "Ahv9M3tAJrG7"
   },
   "outputs": [],
   "source": [
    "x, y_true = SINE_TRAIN[0].training_set()"
   ]
  },
  {
   "cell_type": "code",
   "execution_count": 4,
   "id": "jInHQnwIKKxH",
   "metadata": {
    "colab": {
     "base_uri": "https://localhost:8080/"
    },
    "id": "jInHQnwIKKxH",
    "outputId": "8760f64a-0585-432f-fa26-e9189ee9a6dd"
   },
   "outputs": [
    {
     "data": {
      "text/plain": [
       "torch.Size([10, 20])"
      ]
     },
     "execution_count": 4,
     "metadata": {},
     "output_type": "execute_result"
    }
   ],
   "source": [
    "y_true.shape"
   ]
  },
  {
   "cell_type": "markdown",
   "id": "cu4urLF7Q88A",
   "metadata": {
    "id": "cu4urLF7Q88A"
   },
   "source": [
    "<h1> Neural Network Model"
   ]
  },
  {
   "cell_type": "code",
   "execution_count": 5,
   "id": "R1B0YTz6ytyN",
   "metadata": {
    "id": "R1B0YTz6ytyN"
   },
   "outputs": [],
   "source": [
    "# Define network\n",
    "class Neural_Network_multi(nn.Module):\n",
    "    def __init__(self, input_size=1, hidden_size=40, output_size=20):\n",
    "        super(Neural_Network_multi, self).__init__()\n",
    "        # network layers\n",
    "        self.hidden1 = nn.Linear(input_size,hidden_size)\n",
    "        self.hidden2 = nn.Linear(hidden_size,hidden_size)\n",
    "        self.output_layer = nn.Linear(hidden_size,output_size)\n",
    "\n",
    "        #Activation functions\n",
    "        self.relu = nn.ReLU()\n",
    "        \n",
    "    def forward(self, x):\n",
    "        x = self.hidden1(x)\n",
    "        x = self.relu(x)\n",
    "        x = self.hidden2(x)\n",
    "        x = self.relu(x)\n",
    "        x = self.output_layer(x)\n",
    "        y = x\n",
    "        return y\n"
   ]
  },
  {
   "cell_type": "markdown",
   "id": "G-ExWACxQ3mt",
   "metadata": {
    "id": "G-ExWACxQ3mt"
   },
   "source": [
    "<h1> Helper functions"
   ]
  },
  {
   "cell_type": "code",
   "execution_count": 6,
   "id": "1zyNHFXdOnug",
   "metadata": {
    "id": "1zyNHFXdOnug"
   },
   "outputs": [],
   "source": [
    "# The Minimum Square Error is used to evaluate the difference between prediction and ground truth\n",
    "criterion = nn.MSELoss()\n",
    "\n",
    "def copy_existing_model(model):\n",
    "    # Function to copy an existing model\n",
    "    # We initialize a new model\n",
    "    new_model = Neural_Network_multi()\n",
    "    # Copy the previous model's parameters into the new model\n",
    "    new_model.load_state_dict(model.state_dict())\n",
    "    return new_model\n",
    "\n",
    "def get_samples_in_good_format(wave, num_samples=10, force_new=False):\n",
    "  #This function is used to sample data from a wave\n",
    "  x, y_true = wave.training_set(size=num_samples, force_new=force_new)\n",
    "  # We add [:,None] to get the right dimensions to pass to the model: we want K x 1 (we have scalars inputs hence the x 1)\n",
    "  # Note that we convert everything torch tensors\n",
    "  x = torch.tensor(x)\n",
    "  y_true = torch.tensor(y_true)\n",
    "  return x,y_true\n",
    "\n",
    "def initialization_to_store_meta_losses():\n",
    "  # This function creates lists to store the meta losses\n",
    "  global store_train_loss_meta; store_train_loss_meta = []\n",
    "  global store_test_loss_meta; store_test_loss_meta = []\n",
    "\n",
    "def test_set_validation(model,new_model,wave,lr_inner,k,store_test_loss_meta):\n",
    "    # This functions does not actually affect the main algorithm, it is just used to evaluate the new model\n",
    "    new_model = training(model, wave, lr_inner, k)\n",
    "    # Obtain the loss\n",
    "    loss = evaluation(new_model, wave)\n",
    "    # Store loss\n",
    "    store_test_loss_meta.append(loss)\n",
    "\n",
    "def train_set_evaluation(new_model,wave,store_train_loss_meta):\n",
    "    loss = evaluation(new_model, wave)\n",
    "    store_train_loss_meta.append(loss) \n",
    "\n",
    "def print_losses(epoch,store_train_loss_meta,store_test_loss_meta,printing_step=1000):\n",
    "  if epoch % printing_step == 0:\n",
    "    print(f'Epochh : {epoch}, Average Train Meta Loss : {np.mean(store_train_loss_meta)}, Average Test Meta Loss : {np.mean(store_test_loss_meta)}')\n",
    "\n",
    "#This is based on the paper update rule, we calculate the difference between parameters and then this is used by the optimizer, rather than doing the update by hand\n",
    "def reptile_parameter_update(model,new_model):\n",
    "  # Zip models for the loop\n",
    "  zip_models = zip(model.parameters(), new_model.parameters())\n",
    "  for parameter, new_parameter in zip_models:\n",
    "    if parameter.grad is None:\n",
    "      parameter.grad = torch.tensor(torch.zeros_like(parameter))\n",
    "    # Here we are adding the gradient that will later be used by the optimizer\n",
    "    parameter.grad.data.add_(parameter.data - new_parameter.data)\n",
    "\n",
    "# Define commands in order needed for the metaupdate\n",
    "# Note that if we change the order it doesn't behave the same\n",
    "def metaoptimizer_update(metaoptimizer):\n",
    "  # Take step\n",
    "  metaoptimizer.step()\n",
    "  # Reset gradients\n",
    "  metaoptimizer.zero_grad()\n",
    "\n",
    "def metaupdate(model,new_model,metaoptimizer):\n",
    "  # Combine the two previous functions into a single metaupdate function\n",
    "  # First we calculate the gradients\n",
    "  reptile_parameter_update(model,new_model)\n",
    "  # Use those gradients in the optimizer\n",
    "  metaoptimizer_update(metaoptimizer)\n",
    "\n",
    "def evaluation(new_model, wave, num_samples=10, force_new=False, item = False):\n",
    "    # Get data\n",
    "    x, label = get_samples_in_good_format(wave,num_samples=num_samples, force_new=force_new)\n",
    "    # Make model prediction\n",
    "    prediction = new_model(x)\n",
    "    # Get loss\n",
    "    if item == True: #Depending on whether we need to return the loss value for storing or for backprop\n",
    "      loss = criterion(prediction,label).item()\n",
    "    else:\n",
    "      loss = criterion(prediction,label)\n",
    "    return loss\n",
    "\n",
    "def training(model, wave, lr_k, k):\n",
    "    # Create new model which we will train on\n",
    "    new_model = copy_existing_model(model)\n",
    "    # Define new optimizer\n",
    "    koptimizer = torch.optim.SGD(new_model.parameters(), lr=lr_k)\n",
    "    # Update the model multiple times, note that k>1 (do not confuse k with K)\n",
    "    for i in range(k):\n",
    "        # Reset optimizer\n",
    "        koptimizer.zero_grad()\n",
    "        # Evaluate the model\n",
    "        loss = evaluation(new_model, wave, item = False)\n",
    "        # Backpropagate\n",
    "        loss.backward()\n",
    "        koptimizer.step()\n",
    "    return new_model\n",
    "\n",
    "# for MAML -- see MAML cell for additional citations around structure inspiration\n",
    "def task_specific_train_and_eval(model, T_i, inner_loop_optimizer, N=1):\n",
    "    #Description of the loop formulation from https://higher.readthedocs.io/en/latest/toplevel.html\n",
    "    with innerloop_ctx(model, inner_loop_optimizer, copy_initial_weights = False) as (fmodel,diffopt):\n",
    "        #get our input data and our label\n",
    "        x, label = get_samples_in_good_format(T_i,num_samples=num_samples, force_new= True)\n",
    "        per_step_loss = []\n",
    "        for _ in range(N):\n",
    "            #Get the task specific loss for our model\n",
    "            task_specifc_loss = criterion(fmodel(x), label)\n",
    "\n",
    "            #Step through the inner gradient\n",
    "            diffopt.step(task_specifc_loss)\n",
    "            \n",
    "            per_step_loss.append(task_specifc_loss.item())\n",
    "            \n",
    "        held_out_task_specific_loss = evaluation(fmodel, T_i, num_samples=num_samples, force_new=True)\n",
    "        \n",
    "        return held_out_task_specific_loss, per_step_loss, fmodel"
   ]
  },
  {
   "cell_type": "markdown",
   "id": "7a4f7a50",
   "metadata": {
    "id": "5lL1NN2OPBSD"
   },
   "source": [
    "## Second-Order MAML + Reptile for DA"
   ]
  },
  {
   "cell_type": "code",
   "execution_count": 7,
   "id": "b19ec9d4",
   "metadata": {},
   "outputs": [
    {
     "name": "stdout",
     "output_type": "stream",
     "text": [
      "Iter =  0  Current Loss 3.0462889671325684  Val Loss:  3.2567930221557617\n",
      "Iter =  5000  Current Loss 2.1808641407399674  Val Loss:  2.178118727810739\n"
     ]
    }
   ],
   "source": [
    "lr_meta=0.001 # Learning rate for meta model (outer loop)\n",
    "printing_step=1000 # how many epochs should we wait to print the loss\n",
    "lr_k=0.01 # Internal learning rate\n",
    "k=5 # Number of internal updates for each task\n",
    "\n",
    "epochs = 10000\n",
    "reptile_epochs = 2500\n",
    "maml_epochs = epochs-reptile_epochs\n",
    "\n",
    "# Initializations\n",
    "initialization_to_store_meta_losses()\n",
    "model = Neural_Network_multi()\n",
    "metaoptimizer = torch.optim.Adam(model.parameters(), lr=lr_meta)\n",
    "\n",
    "# Training loop\n",
    "for epoch in range(reptile_epochs):\n",
    "        \n",
    "    # Sample a sine wave (Task from training data)\n",
    "    wave = random.sample(SINE_TRAIN, 1)\n",
    "\n",
    "    # Update model predefined number of times based on k\n",
    "    new_model = training(model, wave[0], lr_k, k)\n",
    "\n",
    "    # Evalaute the loss for the training data\n",
    "    train_set_evaluation(new_model,wave[0],store_train_loss_meta)     \n",
    "    \n",
    "    #Meta-update --> Get gradient for meta loop and update\n",
    "    metaupdate(model,new_model,metaoptimizer)\n",
    "    \n",
    "    # Evalaute the loss for the test data\n",
    "    # Note that we need to sample the wave from the test data\n",
    "    wave = random.sample(SINE_TEST, 1)\n",
    "    test_set_validation(model,new_model,wave[0],lr_k,k,store_test_loss_meta)\n",
    "\n",
    "    # Print losses every 'printing_step' epochs\n",
    "#     print_losses(epoch,store_train_loss_meta,store_test_loss_meta,printing_step)\n",
    "\n",
    "\n",
    "'''\n",
    "Handling computation graphs and second-order backprop help and partial inspiration from: \n",
    "- https://discuss.pytorch.org/t/how-to-save-computation-graph-of-a-gradient/128286/2 \n",
    "- https://discuss.pytorch.org/t/when-do-i-use-create-graph-in-autograd-grad/32853/3 \n",
    "- https://lucainiaoge.github.io/download/PyTorch-create_graph-is-true_Tutorial_and_Example.pdf\n",
    "- https://www.youtube.com/watch?v=IkDw22a8BDE\n",
    "- https://discuss.pytorch.org/t/how-to-manually-update-network-parameters-while-keeping-track-of-its-computational-graph/131642/2\n",
    "- https://discuss.pytorch.org/t/how-to-calculate-2nd-derivative-of-a-likelihood-function/15085/3\n",
    "- https://pytorch.org/tutorials/recipes/recipes/zeroing_out_gradients.html\n",
    "- https://higher.readthedocs.io/en/latest/toplevel.html\n",
    "\n",
    "Neural network configuration and helper class functions copied directly from \n",
    "-https://github.com/AdrienLE/ANIML/blob/master/ANIML.ipynb\n",
    "\n",
    "Note, different ways to refer to the task-specific vs. meta/aggregate updates to the parameters\n",
    "Sometimes called \"inner\" and \"outer\" loop, respectively\n",
    "Here, refered to as \"task_specific\" and \"agg\"/meta\" (the latter, for consistency w/ ocariz code)\n",
    "'''\n",
    "\n",
    "T = 25 # num tasks\n",
    "N = 1 # number of inner loop steps (notation from: https://www.bayeswatch.com/2018/11/30/HTYM/)\n",
    "num_samples = 10 # number of samples to draw from the task\n",
    "lr_task_specific = 0.01 # task specific learning rate\n",
    "lr_meta = 0.001 # meta-update learning rate\n",
    "printing_step = 5000 # show log of loss every x epochs\n",
    "\n",
    "#Used to store the validation losses\n",
    "metaLosses = []\n",
    "metaValLosses = []\n",
    "\n",
    "#Meta-optimizer for the outer loop\n",
    "meta_optimizer = torch.optim.Adam(model.parameters(), lr = lr_meta)\n",
    "cosScheduler = torch.optim.lr_scheduler.CosineAnnealingLR(optimizer=meta_optimizer, T_max=maml_epochs,\n",
    "                   eta_min=0, verbose = False)\n",
    "\n",
    "#Inner optimizer, we were doing this by hand previously\n",
    "inner_loop_optimizer = torch.optim.SGD(model.parameters(), lr = lr_task_specific)\n",
    "\n",
    "for epoch in range(maml_epochs):\n",
    "    cosScheduler.step(epoch=epoch)\n",
    "    # store loss over all tasks to then do a large meta-level update of initial params\n",
    "    # idea/help from video: https://www.youtube.com/watch?v=IkDw22a8BDE\n",
    "    meta_loss = None\n",
    "    \n",
    "    #Sample a new wave each time\n",
    "    waves = [SineWaveTask_multi() for _ in range(T)]\n",
    "    \n",
    "    #Loop through all of the tasks\n",
    "    for i, T_i in enumerate(waves): \n",
    "        held_out_task_specific_loss, _, _ = task_specific_train_and_eval(model, T_i, inner_loop_optimizer, N)\n",
    "        if meta_loss is None: \n",
    "            meta_loss = held_out_task_specific_loss\n",
    "        else:\n",
    "            meta_loss += held_out_task_specific_loss\n",
    "            \n",
    "    meta_optimizer.zero_grad()\n",
    "    meta_loss /= T\n",
    "    meta_loss.backward()\n",
    "    meta_optimizer.step()\n",
    "    metaLosses.append(meta_loss.item())\n",
    "    \n",
    "    # validation \n",
    "    val_wave = SineWaveTask_multi() # our own addition -- can vary\n",
    "    val_loss, _, _ = task_specific_train_and_eval(model, val_wave, inner_loop_optimizer, N)\n",
    "    metaValLosses.append(val_loss.item())\n",
    "    \n",
    "    if epoch % printing_step == 0:\n",
    "        print(\"Iter = \", epoch, \" Current Loss\", np.mean(metaLosses), \" Val Loss: \", np.mean(metaValLosses))\n",
    "        # saving model help from: \n",
    "        # https://pytorch.org/tutorials/beginner/saving_loading_models.html\n",
    "        torch.save(model.state_dict(), f\"{domain_type}_maml_model.pt\")"
   ]
  },
  {
   "cell_type": "markdown",
   "id": "07479119",
   "metadata": {},
   "source": [
    "<h1> Few Shot learning with new meta-model (MAML)"
   ]
  },
  {
   "cell_type": "code",
   "execution_count": 8,
   "id": "effd0720",
   "metadata": {},
   "outputs": [
    {
     "data": {
      "text/plain": [
       "(0.0, 10.0)"
      ]
     },
     "execution_count": 8,
     "metadata": {},
     "output_type": "execute_result"
    },
    {
     "data": {
      "image/png": "[encoded data removed]",
      "text/plain": [
       "<Figure size 432x288 with 1 Axes>"
      ]
     },
     "metadata": {
      "needs_background": "light"
     },
     "output_type": "display_data"
    }
   ],
   "source": [
    "# run k-shot to check how rapidly we are able to adapt to unseen tasks\n",
    "# starting w/ a single unseen task\n",
    "\n",
    "test_wave = SineWaveTask_multi()\n",
    "num_k_shots = 10\n",
    "\n",
    "# use model returned from earlier optimization\n",
    "inner_loop_optimizer = torch.optim.SGD(model.parameters(), lr = lr_task_specific)\n",
    "held_out_task_specific_loss, metaTrainLosses, _ = task_specific_train_and_eval(model, test_wave, inner_loop_optimizer, num_k_shots)\n",
    "\n",
    "plt.plot(metaTrainLosses)\n",
    "plt.xlim([0,num_k_shots])"
   ]
  },
  {
   "cell_type": "code",
   "execution_count": 11,
   "id": "0d7bf11f",
   "metadata": {},
   "outputs": [
    {
     "data": {
      "image/png": "[encoded data removed]",
      "text/plain": [
       "<Figure size 576x288 with 1 Axes>"
      ]
     },
     "metadata": {
      "needs_background": "light"
     },
     "output_type": "display_data"
    }
   ],
   "source": [
    "all_losses = []\n",
    "num_eval = 1000\n",
    "num_k_shots = 6\n",
    "\n",
    "for test_eval in range(num_eval): \n",
    "    test_wave = SineWaveTask_multi()\n",
    "\n",
    "    # use model returned from earlier optimization\n",
    "    inner_loop_optimizer = torch.optim.SGD(model.parameters(), lr = lr_task_specific)\n",
    "    held_out_task_specific_loss, metaTrainLosses, _ = task_specific_train_and_eval(model, test_wave, inner_loop_optimizer, num_k_shots)\n",
    "\n",
    "    all_losses.append(np.array(metaTrainLosses))\n",
    "\n",
    "all_losses = np.array(all_losses)\n",
    "np.save(f\"maml_ca_multi_sine_{num_k_shots}.npy\", all_losses)\n",
    "    \n",
    "fig, ax = plt.subplots(figsize=(8,4))\n",
    "\n",
    "mean_loss = np.mean(all_losses, axis=0)\n",
    "\n",
    "# confidence interval plotting help from: https://stackoverflow.com/questions/59747313/how-to-plot-confidence-interval-in-python\n",
    "y = mean_loss\n",
    "x = list(range(num_k_shots))\n",
    "ci = 1.96 * np.std(all_losses, axis=0)**2/np.sqrt(len(y))\n",
    "\n",
    "ax_size=16\n",
    "title_size=18\n",
    "                                                  \n",
    "ax.plot(x, y, linewidth=3, label=f\"Mean Loss\")\n",
    "ax.fill_between(x, (y-ci), (y+ci), alpha=.5,label=f\"95% CI\")\n",
    "ax.set_xlabel(\"Gradient Steps\",fontsize=ax_size)\n",
    "ax.set_ylabel(\"Mean Squared Error (MSE)\",fontsize=ax_size)\n",
    "ax.set_title(\"Sine Wave Regression: k-Shot Evaluation\",fontsize=title_size)\n",
    "ax.legend()#loc=\"upper right\")\n",
    "plt.savefig(\"sine_da_ca_wave_multidim_reg_kshot.png\")\n"
   ]
  },
  {
   "cell_type": "code",
   "execution_count": 12,
   "id": "ef57abb7",
   "metadata": {},
   "outputs": [
    {
     "name": "stdout",
     "output_type": "stream",
     "text": [
      "Step: 0, Error: 3.032713232755661, Var: 0.44325814834090566\n",
      "Step: 1, Error: 0.9622243396043777, Var: 0.11441839741567739\n",
      "Step: 5, Error: 0.4858412140905857, Var: 0.08956430797249115\n"
     ]
    }
   ],
   "source": [
    "analysis_steps = [0, 1, num_k_shots-1]\n",
    "for analysis_step in analysis_steps: \n",
    "    print(f\"Step: {analysis_step}, Error: {mean_loss[analysis_step]}, Var: {ci[analysis_step]}\")"
   ]
  },
  {
   "cell_type": "code",
   "execution_count": null,
   "id": "8352bc35",
   "metadata": {},
   "outputs": [],
   "source": []
  }
 ],
 "metadata": {
  "accelerator": "GPU",
  "colab": {
   "collapsed_sections": [],
   "name": "Reptile_multidimensional_sinewave.ipynb",
   "provenance": []
  },
  "kernelspec": {
   "display_name": "Python 3",
   "language": "python",
   "name": "python3"
  },
  "language_info": {
   "codemirror_mode": {
    "name": "ipython",
    "version": 3
   },
   "file_extension": ".py",
   "mimetype": "text/x-python",
   "name": "python",
   "nbconvert_exporter": "python",
   "pygments_lexer": "ipython3",
   "version": "3.8.8"
  }
 },
 "nbformat": 4,
 "nbformat_minor": 5
}
