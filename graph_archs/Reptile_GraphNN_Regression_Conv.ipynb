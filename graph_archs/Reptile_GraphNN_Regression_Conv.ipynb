{
 "cells": [
  {
   "cell_type": "markdown",
   "id": "UrjQGgr5nUHC",
   "metadata": {
    "id": "UrjQGgr5nUHC"
   },
   "source": [
    "<h1> Imports and Installs"
   ]
  },
  {
   "cell_type": "code",
   "execution_count": 1,
   "id": "S2WfmJiVTDpE",
   "metadata": {
    "colab": {
     "base_uri": "https://localhost:8080/"
    },
    "id": "S2WfmJiVTDpE",
    "outputId": "1efd3cbc-43ff-4794-e97c-e70d2bbdfe91"
   },
   "outputs": [
    {
     "name": "stdout",
     "output_type": "stream",
     "text": [
      "\u001b[33mWARNING: Error parsing requirements for torch-geometric: [Errno 2] No such file or directory: '/Users/kcollins/opt/anaconda3/lib/python3.8/site-packages/torch_geometric-2.0.3.dist-info/METADATA'\u001b[0m\r\n"
     ]
    }
   ],
   "source": [
    "# Install required packages.\n",
    "!pip install -q torch-scatter -f https://pytorch-geometric.com/whl/torch-1.10.0+cu113.html\n",
    "!pip install -q torch-sparse -f https://pytorch-geometric.com/whl/torch-1.10.0+cu113.html\n",
    "!pip install -q git+https://github.com/rusty1s/pytorch_geometric.git"
   ]
  },
  {
   "cell_type": "code",
   "execution_count": 2,
   "id": "eGl9mcc0nOMP",
   "metadata": {
    "id": "eGl9mcc0nOMP"
   },
   "outputs": [],
   "source": [
    "import matplotlib.pyplot as plt\n",
    "import numpy as np\n",
    "\n",
    "# Required imports for neural network\n",
    "import torch.nn as nn\n",
    "import torch\n",
    "from torch.autograd import Variable\n",
    "import random\n",
    "\n",
    "# For GNNs\n",
    "from torch.nn import Linear\n",
    "from torch.nn import BatchNorm1d\n",
    "import torch.nn.functional as F\n",
    "from torch_geometric.nn import GATConv\n",
    "from torch_geometric.nn import GraphConv\n",
    "from torch_geometric.nn import GraphNorm\n",
    "from torch_geometric.nn import global_mean_pool\n",
    "from torch_geometric.nn import global_max_pool\n",
    "import torch.nn as nn"
   ]
  },
  {
   "cell_type": "markdown",
   "id": "T3KVOwFXFOY0",
   "metadata": {
    "id": "T3KVOwFXFOY0"
   },
   "source": [
    "<h1> Data Loading and Generation\n",
    "\n",
    "Reptile for regression task using GNNs\n",
    "\n",
    "Some common GNN datasets are here:\n",
    "https://pytorch-geometric.readthedocs.io/en/latest/modules/datasets.html#torch_geometric.datasets.GNNBenchmarkDataset\n",
    "\n",
    "We will use a regression dataset with 19 regression targets from the paper:\n",
    "“MoleculeNet: A Benchmark for Molecular Machine Learning”"
   ]
  },
  {
   "cell_type": "markdown",
   "id": "jvvZSOiQe-Ne",
   "metadata": {
    "id": "jvvZSOiQe-Ne"
   },
   "source": [
    "For this implementation we focus on regressing only the Dipole moment"
   ]
  },
  {
   "cell_type": "code",
   "execution_count": 3,
   "id": "PIExsutGTQcB",
   "metadata": {
    "colab": {
     "base_uri": "https://localhost:8080/"
    },
    "id": "PIExsutGTQcB",
    "outputId": "c3cede58-a9c9-4d51-b70f-584bb6b3724d"
   },
   "outputs": [],
   "source": [
    "import torch\n",
    "from torch_geometric.datasets import QM9\n",
    "\n",
    "dataset = QM9(root='data/QM9')"
   ]
  },
  {
   "cell_type": "code",
   "execution_count": 4,
   "id": "LxK2rDRNTSxd",
   "metadata": {
    "id": "LxK2rDRNTSxd"
   },
   "outputs": [],
   "source": [
    "# This function is based on https://pytorch-geometric.readthedocs.io/en/latest/notes/colabs.html\n",
    "\n",
    "#Function to display properties of the dataset (it is not necessary for anything)\n",
    "def display_graph_dataset_properties(dataset):\n",
    "  print()\n",
    "  print(f'Dataset: {dataset}:')\n",
    "  print('====================')\n",
    "  print(f'Number of graphs: {len(dataset)}')\n",
    "  print(f'Number of features: {dataset.num_features}')\n",
    "  print(f'Number of classes: {dataset.num_classes}')\n",
    "\n",
    "  data = dataset[0]  # Get the first graph object.Ç\n",
    "\n",
    "  print()\n",
    "  print('Look at a sample graph of the dataset')\n",
    "  print(data)\n",
    "  print('=============================================================')\n",
    "\n",
    "  # Gather some statistics about the first graph.\n",
    "  print(f'Number of nodes: {data.num_nodes}')\n",
    "  print(f'Number of edges: {data.num_edges}')\n",
    "  print(f'Average node degree: {data.num_edges / data.num_nodes:.2f}')\n",
    "  print(f'Has isolated nodes: {data.has_isolated_nodes()}')\n",
    "  print(f'Has self-loops: {data.has_self_loops()}')\n",
    "  print(f'Is undirected: {data.is_undirected()}')"
   ]
  },
  {
   "cell_type": "code",
   "execution_count": 5,
   "id": "GC6T1VZPF9Ba",
   "metadata": {
    "colab": {
     "base_uri": "https://localhost:8080/"
    },
    "id": "GC6T1VZPF9Ba",
    "outputId": "b788d2e2-5402-4656-de03-a7ee740a14fd"
   },
   "outputs": [
    {
     "name": "stdout",
     "output_type": "stream",
     "text": [
      "\n",
      "Dataset: QM9(130831):\n",
      "====================\n",
      "Number of graphs: 130831\n",
      "Number of features: 11\n",
      "Number of classes: 19\n",
      "\n",
      "Look at a sample graph of the dataset\n",
      "Data(x=[5, 11], edge_index=[2, 8], edge_attr=[8, 4], y=[1, 19], pos=[5, 3], idx=[1], name='gdb_1', z=[5])\n",
      "=============================================================\n",
      "Number of nodes: 5\n",
      "Number of edges: 8\n",
      "Average node degree: 1.60\n",
      "Has isolated nodes: False\n",
      "Has self-loops: False\n",
      "Is undirected: True\n"
     ]
    }
   ],
   "source": [
    "display_graph_dataset_properties(dataset)"
   ]
  },
  {
   "cell_type": "code",
   "execution_count": 6,
   "id": "lD_MRHC8T8Za",
   "metadata": {
    "id": "lD_MRHC8T8Za"
   },
   "outputs": [],
   "source": [
    "# Transform the dataset into a list\n",
    "dataset_list = []\n",
    "\n",
    "for i in range(len(dataset)):\n",
    "  dataset_list.append(dataset[i])"
   ]
  },
  {
   "cell_type": "code",
   "execution_count": 7,
   "id": "a3X51uGHDvSV",
   "metadata": {
    "id": "a3X51uGHDvSV"
   },
   "outputs": [],
   "source": [
    "#Shuffle the dataset list\n",
    "random.shuffle(dataset_list)\n",
    "#Split into train and test\n",
    "GRAPH_TRAIN = dataset_list[:int(np.floor(len(dataset_list)*0.9))]\n",
    "GRAPH_TEST = dataset_list[int(np.floor(len(dataset_list)*0.9)):]"
   ]
  },
  {
   "cell_type": "markdown",
   "id": "cu4urLF7Q88A",
   "metadata": {
    "id": "cu4urLF7Q88A"
   },
   "source": [
    "<h1> Neural Network Model"
   ]
  },
  {
   "cell_type": "code",
   "execution_count": 8,
   "id": "R1B0YTz6ytyN",
   "metadata": {
    "id": "R1B0YTz6ytyN"
   },
   "outputs": [],
   "source": [
    "\n",
    "class GNN(torch.nn.Module):\n",
    "    def __init__(self, input_dim=11, hidden_dim=64, output_dim=1):\n",
    "        super(GNN, self).__init__()\n",
    "\n",
    "        #Hidden Layers\n",
    "        self.hidden1 = GraphConv(input_dim, hidden_dim)\n",
    "        self.hidden2 = GraphConv(hidden_dim, hidden_dim)\n",
    "        self.hidden3 = GraphConv(hidden_dim, output_dim)\n",
    "        self.norm = GraphNorm(hidden_dim)\n",
    "\n",
    "        #Activation Function\n",
    "        self.relu = nn.ReLU()\n",
    "\n",
    "        \n",
    "\n",
    "    def forward(self, input_x, edge_index, batch):\n",
    "      \n",
    "        #Standard forward\n",
    "        x = self.hidden1(input_x,edge_index)\n",
    "        x = self.norm(x)\n",
    "        x = self.relu(x)\n",
    "        x = self.hidden2(x,edge_index)\n",
    "        x = self.norm(x)\n",
    "        x = self.relu(x)\n",
    "        x = self.hidden3(x,edge_index)\n",
    "        x = self.relu(x)\n",
    "\n",
    "        #Global mean pool across batches\n",
    "        x = global_max_pool(x, batch)\n",
    "\n",
    "        \n",
    "        return x\n"
   ]
  },
  {
   "cell_type": "markdown",
   "id": "G-ExWACxQ3mt",
   "metadata": {
    "id": "G-ExWACxQ3mt"
   },
   "source": [
    "<h1> Helper functions"
   ]
  },
  {
   "cell_type": "code",
   "execution_count": 9,
   "id": "1zyNHFXdOnug",
   "metadata": {
    "id": "1zyNHFXdOnug"
   },
   "outputs": [],
   "source": [
    "# The Minimum Square Error is used to evaluate the difference between prediction and ground truth\n",
    "criterion = nn.MSELoss()\n",
    "\n",
    "def copy_existing_model(model):\n",
    "    # Function to copy an existing model\n",
    "    # We initialize a new model\n",
    "    new_model = GNN()\n",
    "    # Copy the previous model's parameters into the new model\n",
    "    new_model.load_state_dict(model.state_dict())\n",
    "    return new_model\n",
    "\n",
    "def initialization_to_store_meta_losses():\n",
    "  # This function creates lists to store the meta losses\n",
    "  global store_train_loss_meta; store_train_loss_meta = []\n",
    "  global store_test_loss_meta; store_test_loss_meta = []\n",
    "\n",
    "def test_set_validation(model,new_model,graph,lr_inner,k,store_test_loss_meta):\n",
    "    # This functions does not actually affect the main algorithm, it is just used to evaluate the new model\n",
    "    new_model = training(model, graph, lr_inner, k)\n",
    "    # Obtain the loss\n",
    "    loss = evaluation(new_model, graph)\n",
    "    # Store loss\n",
    "    store_test_loss_meta.append(loss)\n",
    "\n",
    "def train_set_evaluation(new_model,graph,store_train_loss_meta):\n",
    "    loss = evaluation(new_model, graph)\n",
    "    store_train_loss_meta.append(loss) \n",
    "\n",
    "def print_losses(epoch,store_train_loss_meta,store_test_loss_meta,printing_step=1000):\n",
    "  if epoch % printing_step == 0:\n",
    "    print(f'Epochh : {epoch}, Average Train Meta Loss : {np.mean(store_train_loss_meta)}, Average Test Meta Loss : {np.mean(store_test_loss_meta)}')\n",
    "\n",
    "#This is based on the paper update rule, we calculate the difference between parameters and then this is used by the optimizer, rather than doing the update by hand\n",
    "def reptile_parameter_update(model,new_model):\n",
    "  # Zip models for the loop\n",
    "  zip_models = zip(model.parameters(), new_model.parameters())\n",
    "  for parameter, new_parameter in zip_models:\n",
    "    if parameter.grad is None:\n",
    "      parameter.grad = torch.tensor(torch.zeros_like(parameter))\n",
    "    # Here we are adding the gradient that will later be used by the optimizer\n",
    "    parameter.grad.data.add_(parameter.data - new_parameter.data)\n",
    "\n",
    "# Define commands in order needed for the metaupdate\n",
    "# Note that if we change the order it doesn't behave the same\n",
    "def metaoptimizer_update(metaoptimizer):\n",
    "  # Take step\n",
    "  metaoptimizer.step()\n",
    "  # Reset gradients\n",
    "  metaoptimizer.zero_grad()\n",
    "\n",
    "def metaupdate(model,new_model,metaoptimizer):\n",
    "  # Combine the two previous functions into a single metaupdate function\n",
    "  # First we calculate the gradients\n",
    "  reptile_parameter_update(model,new_model)\n",
    "  # Use those gradients in the optimizer\n",
    "  metaoptimizer_update(metaoptimizer)\n",
    "\n",
    "def evaluation(new_model, graph, item = True):\n",
    "    # Make model prediction\n",
    "    prediction = new_model(graph.x,graph.edge_index,graph.batch)\n",
    "    # Get loss\n",
    "    if item == True: #Depending on whether we need to return the loss value for storing or for backprop\n",
    "      loss = criterion(prediction,graph.y[:,task:task+1]).item()\n",
    "    else:\n",
    "      loss = criterion(prediction,graph.y[:,task:task+1])\n",
    "    return loss\n",
    "\n",
    "def training(model, graph, lr_k, k):\n",
    "    # Create new model which we will train on\n",
    "    new_model = copy_existing_model(model)\n",
    "    # Define new optimizer\n",
    "    koptimizer = torch.optim.SGD(new_model.parameters(), lr=lr_k)\n",
    "    # Update the model multiple times, note that k>1 (do not confuse k with K)\n",
    "    for i in range(k):\n",
    "        # Reset optimizer\n",
    "        koptimizer.zero_grad()\n",
    "        # Evaluate the model\n",
    "        loss = evaluation(new_model, graph, item = False)\n",
    "        # Backpropagate\n",
    "        loss.backward()\n",
    "        koptimizer.step()\n",
    "    return new_model"
   ]
  },
  {
   "cell_type": "markdown",
   "id": "-4Ps8P2IRCmF",
   "metadata": {
    "id": "-4Ps8P2IRCmF"
   },
   "source": [
    "<h1> Reptile"
   ]
  },
  {
   "cell_type": "code",
   "execution_count": 10,
   "id": "8ogpg_DHizlC",
   "metadata": {
    "id": "8ogpg_DHizlC"
   },
   "outputs": [],
   "source": [
    "#Define important variables\n",
    "epochs = int(5000) # number of epochs \n",
    "lr_meta=0.001 # Learning rate for meta model (outer loop)\n",
    "printing_step=100 # how many epochs should we wait to print the loss\n",
    "lr_k=0.0005 # Internal learning rate\n",
    "k=5 # Number of internal updates for each task\n",
    "number_of_tasks=5\n",
    "# Initializations\n",
    "initialization_to_store_meta_losses()\n",
    "model = GNN()\n",
    "metaoptimizer = torch.optim.Adam(model.parameters(), lr=lr_meta)"
   ]
  },
  {
   "cell_type": "code",
   "execution_count": 11,
   "id": "-4-zQWWKFt3s",
   "metadata": {
    "colab": {
     "base_uri": "https://localhost:8080/"
    },
    "id": "-4-zQWWKFt3s",
    "outputId": "4a16e756-e4fe-4028-a1c8-518f97389e38"
   },
   "outputs": [
    {
     "name": "stderr",
     "output_type": "stream",
     "text": [
      "<ipython-input-9-6e1b143169bc>:39: UserWarning: To copy construct from a tensor, it is recommended to use sourceTensor.clone().detach() or sourceTensor.clone().detach().requires_grad_(True), rather than torch.tensor(sourceTensor).\n",
      "  parameter.grad = torch.tensor(torch.zeros_like(parameter))\n"
     ]
    },
    {
     "name": "stdout",
     "output_type": "stream",
     "text": [
      "Epochh : 0, Average Train Meta Loss : 72.7740249633789, Average Test Meta Loss : 0.017190132290124893\n",
      "Epochh : 100, Average Train Meta Loss : 15.25436590587679, Average Test Meta Loss : 25.147766204440167\n",
      "Epochh : 200, Average Train Meta Loss : 14.43057369909677, Average Test Meta Loss : 18.02291684226469\n",
      "Epochh : 300, Average Train Meta Loss : 13.305248623607456, Average Test Meta Loss : 15.716632743983368\n",
      "Epochh : 400, Average Train Meta Loss : 13.330345415573051, Average Test Meta Loss : 14.901787921446205\n",
      "Epochh : 500, Average Train Meta Loss : 12.746084111973763, Average Test Meta Loss : 14.022030824741831\n",
      "Epochh : 600, Average Train Meta Loss : 12.606978094951312, Average Test Meta Loss : 13.521274447877877\n",
      "Epochh : 700, Average Train Meta Loss : 11.823326580439131, Average Test Meta Loss : 12.662566294864025\n",
      "Epochh : 800, Average Train Meta Loss : 11.422697448101626, Average Test Meta Loss : 12.315085406180676\n",
      "Epochh : 900, Average Train Meta Loss : 11.393100621130205, Average Test Meta Loss : 11.55050966685299\n",
      "Epochh : 1000, Average Train Meta Loss : 11.357437996203826, Average Test Meta Loss : 11.645994721305941\n",
      "Epochh : 1100, Average Train Meta Loss : 11.387542792588274, Average Test Meta Loss : 11.46241860863941\n",
      "Epochh : 1200, Average Train Meta Loss : 11.404467833911008, Average Test Meta Loss : 11.498616929048657\n",
      "Epochh : 1300, Average Train Meta Loss : 11.279415333096193, Average Test Meta Loss : 11.334980169530958\n",
      "Epochh : 1400, Average Train Meta Loss : 11.38141150239005, Average Test Meta Loss : 11.388549834699493\n",
      "Epochh : 1500, Average Train Meta Loss : 11.453168014767199, Average Test Meta Loss : 11.413042053485071\n",
      "Epochh : 1600, Average Train Meta Loss : 11.184835650191587, Average Test Meta Loss : 11.195713038798791\n",
      "Epochh : 1700, Average Train Meta Loss : 11.117883297872886, Average Test Meta Loss : 11.1659256523589\n",
      "Epochh : 1800, Average Train Meta Loss : 11.001884431705324, Average Test Meta Loss : 11.071452529193225\n",
      "Epochh : 1900, Average Train Meta Loss : 11.096161559622168, Average Test Meta Loss : 11.035026329612363\n",
      "Epochh : 2000, Average Train Meta Loss : 10.953797195062416, Average Test Meta Loss : 10.93710287098111\n",
      "Epochh : 2100, Average Train Meta Loss : 10.769559866937554, Average Test Meta Loss : 10.776429611452636\n",
      "Epochh : 2200, Average Train Meta Loss : 10.628855572279985, Average Test Meta Loss : 10.701176336012145\n",
      "Epochh : 2300, Average Train Meta Loss : 10.741793584702004, Average Test Meta Loss : 10.805761673979468\n",
      "Epochh : 2400, Average Train Meta Loss : 10.725890802725306, Average Test Meta Loss : 10.716583780297842\n",
      "Epochh : 2500, Average Train Meta Loss : 10.613437244249951, Average Test Meta Loss : 10.650284506182619\n",
      "Epochh : 2600, Average Train Meta Loss : 10.628083932536484, Average Test Meta Loss : 10.649387921961926\n",
      "Epochh : 2700, Average Train Meta Loss : 10.58690982861474, Average Test Meta Loss : 10.57678362802431\n",
      "Epochh : 2800, Average Train Meta Loss : 10.624557032009676, Average Test Meta Loss : 10.659105804924979\n",
      "Epochh : 2900, Average Train Meta Loss : 10.616969229550001, Average Test Meta Loss : 10.674845847065786\n",
      "Epochh : 3000, Average Train Meta Loss : 10.566572643091828, Average Test Meta Loss : 10.626269923355336\n",
      "Epochh : 3100, Average Train Meta Loss : 10.448132353723654, Average Test Meta Loss : 10.51579954501581\n",
      "Epochh : 3200, Average Train Meta Loss : 10.347723274644636, Average Test Meta Loss : 10.422011120466253\n",
      "Epochh : 3300, Average Train Meta Loss : 10.37100974142169, Average Test Meta Loss : 10.425135455815562\n",
      "Epochh : 3400, Average Train Meta Loss : 10.240389128299435, Average Test Meta Loss : 10.333362449839614\n",
      "Epochh : 3500, Average Train Meta Loss : 10.215114284834563, Average Test Meta Loss : 10.286918494703388\n",
      "Epochh : 3600, Average Train Meta Loss : 10.323937782028224, Average Test Meta Loss : 10.383764375724295\n",
      "Epochh : 3700, Average Train Meta Loss : 10.33332150873216, Average Test Meta Loss : 10.39301284865821\n",
      "Epochh : 3800, Average Train Meta Loss : 10.350302338579334, Average Test Meta Loss : 10.430943414288993\n",
      "Epochh : 3900, Average Train Meta Loss : 10.450789377244057, Average Test Meta Loss : 10.514742801640358\n",
      "Epochh : 4000, Average Train Meta Loss : 10.411289817302487, Average Test Meta Loss : 10.496466405483552\n",
      "Epochh : 4100, Average Train Meta Loss : 10.378122939377326, Average Test Meta Loss : 10.474331018940084\n",
      "Epochh : 4200, Average Train Meta Loss : 10.351855493766779, Average Test Meta Loss : 10.479205193092216\n",
      "Epochh : 4300, Average Train Meta Loss : 10.295848579172091, Average Test Meta Loss : 10.418186438664591\n",
      "Epochh : 4400, Average Train Meta Loss : 10.311532267248532, Average Test Meta Loss : 10.467639813125901\n",
      "Epochh : 4500, Average Train Meta Loss : 10.311503511944604, Average Test Meta Loss : 10.45945025442002\n",
      "Epochh : 4600, Average Train Meta Loss : 10.274199634880045, Average Test Meta Loss : 10.410689109564494\n",
      "Epochh : 4700, Average Train Meta Loss : 10.244821112130223, Average Test Meta Loss : 10.367293263501127\n",
      "Epochh : 4800, Average Train Meta Loss : 10.213868856236212, Average Test Meta Loss : 10.318863016901247\n",
      "Epochh : 4900, Average Train Meta Loss : 10.211949148306873, Average Test Meta Loss : 10.331608984489934\n"
     ]
    }
   ],
   "source": [
    "# Training loop\n",
    "for epoch in range(epochs):\n",
    "        \n",
    "    # Sample a sine graph (Task from training data)\n",
    "    graph = random.sample(GRAPH_TRAIN, 1)\n",
    "    task = random.randint(0, number_of_tasks-1)\n",
    "\n",
    "    # Update model predefined number of times based on k\n",
    "    new_model = training(model, graph[0], lr_k, k)\n",
    "\n",
    "    # Evalaute the loss for the training data\n",
    "    train_set_evaluation(new_model,graph[0],store_train_loss_meta)     \n",
    "    \n",
    "    #Meta-update --> Get gradient for meta loop and update\n",
    "    metaupdate(model,new_model,metaoptimizer)\n",
    "    \n",
    "    # Evalaute the loss for the test data\n",
    "    # Note that we need to sample the graph from the test data\n",
    "    graph = random.sample(GRAPH_TEST, 1)\n",
    "    test_set_validation(model,new_model,graph[0],lr_k,k,store_test_loss_meta)\n",
    "\n",
    "    # Print losses every 'printing_step' epochs\n",
    "    print_losses(epoch,store_train_loss_meta,store_test_loss_meta,printing_step)"
   ]
  },
  {
   "cell_type": "markdown",
   "id": "bQjoz6FYctJM",
   "metadata": {
    "id": "bQjoz6FYctJM"
   },
   "source": [
    "<h1> Few Shot learning with new meta-model"
   ]
  },
  {
   "cell_type": "markdown",
   "id": "m-SPUG5Bfpe9",
   "metadata": {
    "id": "m-SPUG5Bfpe9"
   },
   "source": [
    "The model performs good few shot learning"
   ]
  },
  {
   "cell_type": "code",
   "execution_count": 12,
   "id": "GY84TNs8JXVH",
   "metadata": {
    "colab": {
     "base_uri": "https://localhost:8080/",
     "height": 296
    },
    "id": "GY84TNs8JXVH",
    "outputId": "ff358594-7f0a-49c9-abdb-edb84065d088"
   },
   "outputs": [
    {
     "data": {
      "text/plain": [
       "Text(0.5, 0, 'k shots')"
      ]
     },
     "execution_count": 12,
     "metadata": {},
     "output_type": "execute_result"
    },
    {
     "data": {
      "image/png": "[encoded data removed]",
      "text/plain": [
       "<Figure size 432x288 with 1 Axes>"
      ]
     },
     "metadata": {
      "needs_background": "light"
     },
     "output_type": "display_data"
    }
   ],
   "source": [
    "task = random.randint(0, number_of_tasks-1)\n",
    "graph = GRAPH_TEST[0] \n",
    "k_shot_updates = 5\n",
    "initialization_to_store_meta_losses()\n",
    "for shots in range(k_shot_updates):\n",
    "    new_model = training(model, graph, lr_k, shots)\n",
    "    train_set_evaluation(new_model,graph,store_train_loss_meta) \n",
    "\n",
    "plt.plot(store_train_loss_meta,label = 'Loss')\n",
    "plt.legend()\n",
    "plt.xlabel('k shots')"
   ]
  },
  {
   "cell_type": "code",
   "execution_count": 13,
   "id": "2IObh84sRwo2",
   "metadata": {
    "id": "2IObh84sRwo2"
   },
   "outputs": [
    {
     "name": "stdout",
     "output_type": "stream",
     "text": [
      "Step: 0, Error: 3514.2941369628907, Var: 557692.8285727118\n",
      "Step: 1, Error: 153.8470262516127, Var: 42812.86282452601\n",
      "Step: 4, Error: 17.8077134375881, Var: 1898.561007396184\n"
     ]
    },
    {
     "data": {
      "image/png": "[encoded data removed]",
      "text/plain": [
       "<Figure size 576x288 with 1 Axes>"
      ]
     },
     "metadata": {
      "needs_background": "light"
     },
     "output_type": "display_data"
    }
   ],
   "source": [
    "graph_type = \"conv\"\n",
    "\n",
    "num_evals = 100\n",
    "\n",
    "all_losses = []\n",
    "for test_eval in range(num_evals): \n",
    "\n",
    "    graph = GRAPH_TEST[test_eval] \n",
    "    k_shot_updates = 5\n",
    "    initialization_to_store_meta_losses()\n",
    "    for shots in range(k_shot_updates):\n",
    "        new_model = training(model, graph, lr_k, shots)\n",
    "        train_set_evaluation(new_model,graph,store_train_loss_meta) \n",
    "    all_losses.append(np.array(store_train_loss_meta))\n",
    "\n",
    "# plt.plot(store_train_loss_meta,label = 'Loss')\n",
    "# plt.legend()\n",
    "# plt.xlabel('k shots')\n",
    "\n",
    "\n",
    "all_losses = np.array(all_losses)\n",
    "np.save(f\"reptile_graph_{graph_type}_k.npy\", all_losses)\n",
    "    \n",
    "fig, ax = plt.subplots(figsize=(8,4))\n",
    "\n",
    "mean_loss = np.mean(all_losses, axis=0)\n",
    "\n",
    "# confidence interval plotting help from: https://stackoverflow.com/questions/59747313/how-to-plot-confidence-interval-in-python\n",
    "y = mean_loss\n",
    "x = list(range(len(mean_loss)))\n",
    "ci = 1.96 * np.std(all_losses, axis=0)**2/np.sqrt(len(y))\n",
    "\n",
    "ax_size=16\n",
    "title_size=18\n",
    "                                                  \n",
    "ax.plot(x, y, linewidth=3, label=f\"Mean Loss\")\n",
    "# to avoid having MSE < 0\n",
    "truncated_error = np.clip(y-ci, a_min=0, a_max=None)\n",
    "ax.fill_between(x, truncated_error, (y+ci), alpha=.5,label=f\"95% CI\")\n",
    "\n",
    "ax.set_xlabel(\"Gradient Steps\",fontsize=ax_size)\n",
    "ax.set_ylabel(\"Mean Squared Error (MSE)\",fontsize=ax_size)\n",
    "ax.set_title(\"Graph Regression: k-Shot Evaluation\",fontsize=title_size)\n",
    "ax.legend()#loc=\"upper right\")\n",
    "plt.savefig(f\"graph_reg_{graph_type}_kshot.png\")\n",
    "\n",
    "analysis_steps = [0, 1, k_shot_updates-1]\n",
    "for analysis_step in analysis_steps: \n",
    "    print(f\"Step: {analysis_step}, Error: {mean_loss[analysis_step]}, Var: {ci[analysis_step]}\")"
   ]
  },
  {
   "cell_type": "code",
   "execution_count": null,
   "id": "103da21e",
   "metadata": {},
   "outputs": [],
   "source": []
  }
 ],
 "metadata": {
  "accelerator": "GPU",
  "colab": {
   "collapsed_sections": [],
   "name": "Reptile_GraphNN_Regression_Conv.ipynb",
   "provenance": []
  },
  "kernelspec": {
   "display_name": "Python 3",
   "language": "python",
   "name": "python3"
  },
  "language_info": {
   "codemirror_mode": {
    "name": "ipython",
    "version": 3
   },
   "file_extension": ".py",
   "mimetype": "text/x-python",
   "name": "python",
   "nbconvert_exporter": "python",
   "pygments_lexer": "ipython3",
   "version": "3.8.8"
  }
 },
 "nbformat": 4,
 "nbformat_minor": 5
}
