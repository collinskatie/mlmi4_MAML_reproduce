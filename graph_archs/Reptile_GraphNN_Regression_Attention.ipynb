{
 "cells": [
  {
   "cell_type": "markdown",
   "id": "UrjQGgr5nUHC",
   "metadata": {
    "id": "UrjQGgr5nUHC"
   },
   "source": [
    "<h1> Imports and Installs"
   ]
  },
  {
   "cell_type": "code",
   "execution_count": 1,
   "id": "S2WfmJiVTDpE",
   "metadata": {
    "colab": {
     "base_uri": "https://localhost:8080/"
    },
    "id": "S2WfmJiVTDpE",
    "outputId": "7c5d8eda-a80d-4778-e805-d99cb8694dea"
   },
   "outputs": [],
   "source": [
    "# Install required packages.\n",
    "!pip install -q torch-scatter -f https://pytorch-geometric.com/whl/torch-1.10.0+cu113.html\n",
    "!pip install -q torch-sparse -f https://pytorch-geometric.com/whl/torch-1.10.0+cu113.html\n",
    "!pip install -q git+https://github.com/rusty1s/pytorch_geometric.git"
   ]
  },
  {
   "cell_type": "code",
   "execution_count": 2,
   "id": "eGl9mcc0nOMP",
   "metadata": {
    "id": "eGl9mcc0nOMP"
   },
   "outputs": [],
   "source": [
    "import matplotlib.pyplot as plt\n",
    "import numpy as np\n",
    "\n",
    "# Required imports for neural network\n",
    "import torch.nn as nn\n",
    "import torch\n",
    "from torch.autograd import Variable\n",
    "import random\n",
    "\n",
    "# For GNNs\n",
    "from torch.nn import Linear\n",
    "from torch.nn import BatchNorm1d\n",
    "import torch.nn.functional as F\n",
    "from torch_geometric.nn import GATConv\n",
    "from torch_geometric.nn import GraphConv\n",
    "from torch_geometric.nn import GraphNorm\n",
    "from torch_geometric.nn import global_mean_pool\n",
    "from torch_geometric.nn import global_max_pool\n",
    "import torch.nn as nn"
   ]
  },
  {
   "cell_type": "markdown",
   "id": "T3KVOwFXFOY0",
   "metadata": {
    "id": "T3KVOwFXFOY0"
   },
   "source": [
    "<h1> Data Loading and Generation\n",
    "\n",
    "Reptile for regression task using GNNs\n",
    "\n",
    "Some common GNN datasets are here:\n",
    "https://pytorch-geometric.readthedocs.io/en/latest/modules/datasets.html#torch_geometric.datasets.GNNBenchmarkDataset\n",
    "\n",
    "We will use a regression dataset with 19 regression targets from the paper:\n",
    "“MoleculeNet: A Benchmark for Molecular Machine Learning”"
   ]
  },
  {
   "cell_type": "markdown",
   "id": "jvvZSOiQe-Ne",
   "metadata": {
    "id": "jvvZSOiQe-Ne"
   },
   "source": [
    "For this implementation we focus on regressing only the Dipole moment"
   ]
  },
  {
   "cell_type": "code",
   "execution_count": 3,
   "id": "PIExsutGTQcB",
   "metadata": {
    "colab": {
     "base_uri": "https://localhost:8080/"
    },
    "id": "PIExsutGTQcB",
    "outputId": "22f32c78-5a70-437f-b4b8-b9e7c5fb2016"
   },
   "outputs": [],
   "source": [
    "import torch\n",
    "from torch_geometric.datasets import QM9\n",
    "\n",
    "dataset = QM9(root='data/QM9')"
   ]
  },
  {
   "cell_type": "code",
   "execution_count": 4,
   "id": "LxK2rDRNTSxd",
   "metadata": {
    "id": "LxK2rDRNTSxd"
   },
   "outputs": [],
   "source": [
    "# This function is based on https://pytorch-geometric.readthedocs.io/en/latest/notes/colabs.html\n",
    "\n",
    "#Function to display properties of the dataset (it is not necessary for anything)\n",
    "def display_graph_dataset_properties(dataset):\n",
    "  print()\n",
    "  print(f'Dataset: {dataset}:')\n",
    "  print('====================')\n",
    "  print(f'Number of graphs: {len(dataset)}')\n",
    "  print(f'Number of features: {dataset.num_features}')\n",
    "  print(f'Number of classes: {dataset.num_classes}')\n",
    "\n",
    "  data = dataset[0]  # Get the first graph object.Ç\n",
    "\n",
    "  print()\n",
    "  print('Look at a sample graph of the dataset')\n",
    "  print(data)\n",
    "  print('=============================================================')\n",
    "\n",
    "  # Gather some statistics about the first graph.\n",
    "  print(f'Number of nodes: {data.num_nodes}')\n",
    "  print(f'Number of edges: {data.num_edges}')\n",
    "  print(f'Average node degree: {data.num_edges / data.num_nodes:.2f}')\n",
    "  print(f'Has isolated nodes: {data.has_isolated_nodes()}')\n",
    "  print(f'Has self-loops: {data.has_self_loops()}')\n",
    "  print(f'Is undirected: {data.is_undirected()}')"
   ]
  },
  {
   "cell_type": "code",
   "execution_count": 5,
   "id": "GC6T1VZPF9Ba",
   "metadata": {
    "colab": {
     "base_uri": "https://localhost:8080/"
    },
    "id": "GC6T1VZPF9Ba",
    "outputId": "4418868e-d41d-4a40-d1f1-3d510a270bac"
   },
   "outputs": [
    {
     "name": "stdout",
     "output_type": "stream",
     "text": [
      "\n",
      "Dataset: QM9(130831):\n",
      "====================\n",
      "Number of graphs: 130831\n",
      "Number of features: 11\n",
      "Number of classes: 19\n",
      "\n",
      "Look at a sample graph of the dataset\n",
      "Data(x=[5, 11], edge_index=[2, 8], edge_attr=[8, 4], y=[1, 19], pos=[5, 3], idx=[1], name='gdb_1', z=[5])\n",
      "=============================================================\n",
      "Number of nodes: 5\n",
      "Number of edges: 8\n",
      "Average node degree: 1.60\n",
      "Has isolated nodes: False\n",
      "Has self-loops: False\n",
      "Is undirected: True\n"
     ]
    }
   ],
   "source": [
    "display_graph_dataset_properties(dataset)"
   ]
  },
  {
   "cell_type": "code",
   "execution_count": 6,
   "id": "lD_MRHC8T8Za",
   "metadata": {
    "id": "lD_MRHC8T8Za"
   },
   "outputs": [],
   "source": [
    "# Transform the dataset into a list\n",
    "dataset_list = []\n",
    "\n",
    "for i in range(len(dataset)):\n",
    "  dataset_list.append(dataset[i])"
   ]
  },
  {
   "cell_type": "code",
   "execution_count": 7,
   "id": "a3X51uGHDvSV",
   "metadata": {
    "id": "a3X51uGHDvSV"
   },
   "outputs": [],
   "source": [
    "#Shuffle the dataset list\n",
    "random.shuffle(dataset_list)\n",
    "#Split into train and test\n",
    "GRAPH_TRAIN = dataset_list[:int(np.floor(len(dataset_list)*0.9))]\n",
    "GRAPH_TEST = dataset_list[int(np.floor(len(dataset_list)*0.9)):]"
   ]
  },
  {
   "cell_type": "markdown",
   "id": "cu4urLF7Q88A",
   "metadata": {
    "id": "cu4urLF7Q88A"
   },
   "source": [
    "<h1> Neural Network Model"
   ]
  },
  {
   "cell_type": "code",
   "execution_count": 8,
   "id": "R1B0YTz6ytyN",
   "metadata": {
    "id": "R1B0YTz6ytyN"
   },
   "outputs": [],
   "source": [
    "\n",
    "class GNN(torch.nn.Module):\n",
    "    def __init__(self, input_dim=11, hidden_dim=64, output_dim=1):\n",
    "        super(GNN, self).__init__()\n",
    "\n",
    "        #Hidden Layers\n",
    "        self.hidden1 = GATConv(input_dim, hidden_dim)\n",
    "        self.hidden2 = GATConv(hidden_dim, hidden_dim)\n",
    "        self.hidden3 = GATConv(hidden_dim, output_dim)\n",
    "        self.norm = GraphNorm(hidden_dim)\n",
    "\n",
    "        #Activation Function\n",
    "        self.relu = nn.ReLU()\n",
    "\n",
    "        \n",
    "\n",
    "    def forward(self, input_x, edge_index, batch):\n",
    "      \n",
    "        #Standard forward\n",
    "        x = self.hidden1(input_x,edge_index)\n",
    "        x = self.norm(x)\n",
    "        x = self.relu(x)\n",
    "        x = self.hidden2(x,edge_index)\n",
    "        x = self.norm(x)\n",
    "        x = self.relu(x)\n",
    "        x = self.hidden3(x,edge_index)\n",
    "        x = self.relu(x)\n",
    "\n",
    "        #Global mean pool across batches\n",
    "        x = global_max_pool(x, batch)\n",
    "\n",
    "        \n",
    "        return x\n"
   ]
  },
  {
   "cell_type": "markdown",
   "id": "G-ExWACxQ3mt",
   "metadata": {
    "id": "G-ExWACxQ3mt"
   },
   "source": [
    "<h1> Helper functions"
   ]
  },
  {
   "cell_type": "code",
   "execution_count": 9,
   "id": "1zyNHFXdOnug",
   "metadata": {
    "id": "1zyNHFXdOnug"
   },
   "outputs": [],
   "source": [
    "# The Minimum Square Error is used to evaluate the difference between prediction and ground truth\n",
    "criterion = nn.MSELoss()\n",
    "\n",
    "def copy_existing_model(model):\n",
    "    # Function to copy an existing model\n",
    "    # We initialize a new model\n",
    "    new_model = GNN()\n",
    "    # Copy the previous model's parameters into the new model\n",
    "    new_model.load_state_dict(model.state_dict())\n",
    "    return new_model\n",
    "\n",
    "def initialization_to_store_meta_losses():\n",
    "  # This function creates lists to store the meta losses\n",
    "  global store_train_loss_meta; store_train_loss_meta = []\n",
    "  global store_test_loss_meta; store_test_loss_meta = []\n",
    "\n",
    "def test_set_validation(model,new_model,graph,lr_inner,k,store_test_loss_meta):\n",
    "    # This functions does not actually affect the main algorithm, it is just used to evaluate the new model\n",
    "    new_model = training(model, graph, lr_inner, k)\n",
    "    # Obtain the loss\n",
    "    loss = evaluation(new_model, graph)\n",
    "    # Store loss\n",
    "    store_test_loss_meta.append(loss)\n",
    "\n",
    "def train_set_evaluation(new_model,graph,store_train_loss_meta):\n",
    "    loss = evaluation(new_model, graph)\n",
    "    store_train_loss_meta.append(loss) \n",
    "\n",
    "def print_losses(epoch,store_train_loss_meta,store_test_loss_meta,printing_step=1000):\n",
    "  if epoch % printing_step == 0:\n",
    "    print(f'Epochh : {epoch}, Average Train Meta Loss : {np.mean(store_train_loss_meta)}, Average Test Meta Loss : {np.mean(store_test_loss_meta)}')\n",
    "\n",
    "#This is based on the paper update rule, we calculate the difference between parameters and then this is used by the optimizer, rather than doing the update by hand\n",
    "def reptile_parameter_update(model,new_model):\n",
    "  # Zip models for the loop\n",
    "  zip_models = zip(model.parameters(), new_model.parameters())\n",
    "  for parameter, new_parameter in zip_models:\n",
    "    if parameter.grad is None:\n",
    "      parameter.grad = torch.tensor(torch.zeros_like(parameter))\n",
    "    # Here we are adding the gradient that will later be used by the optimizer\n",
    "    parameter.grad.data.add_(parameter.data - new_parameter.data)\n",
    "\n",
    "# Define commands in order needed for the metaupdate\n",
    "# Note that if we change the order it doesn't behave the same\n",
    "def metaoptimizer_update(metaoptimizer):\n",
    "  # Take step\n",
    "  metaoptimizer.step()\n",
    "  # Reset gradients\n",
    "  metaoptimizer.zero_grad()\n",
    "\n",
    "def metaupdate(model,new_model,metaoptimizer):\n",
    "  # Combine the two previous functions into a single metaupdate function\n",
    "  # First we calculate the gradients\n",
    "  reptile_parameter_update(model,new_model)\n",
    "  # Use those gradients in the optimizer\n",
    "  metaoptimizer_update(metaoptimizer)\n",
    "\n",
    "def evaluation(new_model, graph, item = True):\n",
    "    # Make model prediction\n",
    "    prediction = new_model(graph.x,graph.edge_index,graph.batch)\n",
    "    # Get loss\n",
    "    if item == True: #Depending on whether we need to return the loss value for storing or for backprop\n",
    "      loss = criterion(prediction,graph.y[:,task:task+1]).item()\n",
    "    else:\n",
    "      loss = criterion(prediction,graph.y[:,task:task+1])\n",
    "    return loss\n",
    "\n",
    "def training(model, graph, lr_k, k):\n",
    "    # Create new model which we will train on\n",
    "    new_model = copy_existing_model(model)\n",
    "    # Define new optimizer\n",
    "    koptimizer = torch.optim.SGD(new_model.parameters(), lr=lr_k)\n",
    "    # Update the model multiple times, note that k>1 (do not confuse k with K)\n",
    "    for i in range(k):\n",
    "        # Reset optimizer\n",
    "        koptimizer.zero_grad()\n",
    "        # Evaluate the model\n",
    "        loss = evaluation(new_model, graph, item = False)\n",
    "        # Backpropagate\n",
    "        loss.backward()\n",
    "        koptimizer.step()\n",
    "    return new_model"
   ]
  },
  {
   "cell_type": "markdown",
   "id": "-4Ps8P2IRCmF",
   "metadata": {
    "id": "-4Ps8P2IRCmF"
   },
   "source": [
    "<h1> Reptile"
   ]
  },
  {
   "cell_type": "code",
   "execution_count": 10,
   "id": "8ogpg_DHizlC",
   "metadata": {
    "id": "8ogpg_DHizlC"
   },
   "outputs": [],
   "source": [
    "#Define important variables\n",
    "epochs = int(5000) # number of epochs \n",
    "lr_meta=0.001  # Learning rate for meta model (outer loop)\n",
    "printing_step=100 # how many epochs should we wait to print the loss\n",
    "lr_k=0.0005 # Internal learning rate\n",
    "k=5 # Number of internal updates for each task\n",
    "number_of_tasks=5\n",
    "# Initializations\n",
    "initialization_to_store_meta_losses()\n",
    "model = GNN()\n",
    "metaoptimizer = torch.optim.Adam(model.parameters(), lr=lr_meta)"
   ]
  },
  {
   "cell_type": "code",
   "execution_count": 11,
   "id": "-4-zQWWKFt3s",
   "metadata": {
    "colab": {
     "base_uri": "https://localhost:8080/"
    },
    "id": "-4-zQWWKFt3s",
    "outputId": "37560267-1fe3-416d-e6cf-a845c6ed9c83"
   },
   "outputs": [
    {
     "name": "stderr",
     "output_type": "stream",
     "text": [
      "<ipython-input-9-6e1b143169bc>:39: UserWarning: To copy construct from a tensor, it is recommended to use sourceTensor.clone().detach() or sourceTensor.clone().detach().requires_grad_(True), rather than torch.tensor(sourceTensor).\n",
      "  parameter.grad = torch.tensor(torch.zeros_like(parameter))\n"
     ]
    },
    {
     "name": "stdout",
     "output_type": "stream",
     "text": [
      "Epochh : 0, Average Train Meta Loss : 13.644158363342285, Average Test Meta Loss : 3.2553908824920654\n",
      "Epochh : 100, Average Train Meta Loss : 363.40932893354113, Average Test Meta Loss : 257.5333906162762\n",
      "Epochh : 200, Average Train Meta Loss : 236.37257528003553, Average Test Meta Loss : 162.50606831976162\n",
      "Epochh : 300, Average Train Meta Loss : 210.41344429813697, Average Test Meta Loss : 123.79619594947454\n",
      "Epochh : 400, Average Train Meta Loss : 175.42175194458864, Average Test Meta Loss : 105.52389225726219\n",
      "Epochh : 500, Average Train Meta Loss : 150.3380113992171, Average Test Meta Loss : 110.91590146263023\n",
      "Epochh : 600, Average Train Meta Loss : 141.43631740430655, Average Test Meta Loss : 95.90272898488399\n",
      "Epochh : 700, Average Train Meta Loss : 130.88760877510688, Average Test Meta Loss : 91.18792007212082\n",
      "Epochh : 800, Average Train Meta Loss : 119.63241601741257, Average Test Meta Loss : 83.18411912832852\n",
      "Epochh : 900, Average Train Meta Loss : 122.05539042179639, Average Test Meta Loss : 78.11232323427167\n",
      "Epochh : 1000, Average Train Meta Loss : 116.05158204740577, Average Test Meta Loss : 74.14548295578417\n",
      "Epochh : 1100, Average Train Meta Loss : 114.74270221954558, Average Test Meta Loss : 74.54182347093148\n",
      "Epochh : 1200, Average Train Meta Loss : 108.7768754213485, Average Test Meta Loss : 72.6391849653647\n",
      "Epochh : 1300, Average Train Meta Loss : 104.84958241172191, Average Test Meta Loss : 71.82730299448677\n",
      "Epochh : 1400, Average Train Meta Loss : 100.72321296121427, Average Test Meta Loss : 68.83352638098512\n",
      "Epochh : 1500, Average Train Meta Loss : 100.85792691681809, Average Test Meta Loss : 66.77629253308086\n",
      "Epochh : 1600, Average Train Meta Loss : 96.67436987911428, Average Test Meta Loss : 66.63099834938431\n",
      "Epochh : 1700, Average Train Meta Loss : 94.35510349573953, Average Test Meta Loss : 66.13230176623503\n",
      "Epochh : 1800, Average Train Meta Loss : 90.46087736722345, Average Test Meta Loss : 64.01078206677127\n",
      "Epochh : 1900, Average Train Meta Loss : 86.99473042558746, Average Test Meta Loss : 61.56710391838153\n",
      "Epochh : 2000, Average Train Meta Loss : 85.79187602239627, Average Test Meta Loss : 62.86843044363136\n",
      "Epochh : 2100, Average Train Meta Loss : 83.06557971798266, Average Test Meta Loss : 60.76484167489121\n",
      "Epochh : 2200, Average Train Meta Loss : 82.96053545363314, Average Test Meta Loss : 59.0786700485056\n",
      "Epochh : 2300, Average Train Meta Loss : 80.1727191639699, Average Test Meta Loss : 58.02495885004207\n",
      "Epochh : 2400, Average Train Meta Loss : 78.40776933059114, Average Test Meta Loss : 59.082523298580966\n",
      "Epochh : 2500, Average Train Meta Loss : 75.80456784184256, Average Test Meta Loss : 59.71582887868961\n",
      "Epochh : 2600, Average Train Meta Loss : 74.31869620634761, Average Test Meta Loss : 57.88368233487931\n",
      "Epochh : 2700, Average Train Meta Loss : 74.14791751450156, Average Test Meta Loss : 58.19371426137196\n",
      "Epochh : 2800, Average Train Meta Loss : 74.10790790728623, Average Test Meta Loss : 56.706143919974075\n",
      "Epochh : 2900, Average Train Meta Loss : 72.27363058619234, Average Test Meta Loss : 55.87161586364011\n",
      "Epochh : 3000, Average Train Meta Loss : 72.63477228219223, Average Test Meta Loss : 56.96501131082648\n",
      "Epochh : 3100, Average Train Meta Loss : 70.97961756805444, Average Test Meta Loss : 56.805813250454406\n",
      "Epochh : 3200, Average Train Meta Loss : 69.73640300659075, Average Test Meta Loss : 55.94186683010383\n",
      "Epochh : 3300, Average Train Meta Loss : 68.47671612741073, Average Test Meta Loss : 55.94672927223665\n",
      "Epochh : 3400, Average Train Meta Loss : 67.08785883414119, Average Test Meta Loss : 56.402970201652984\n",
      "Epochh : 3500, Average Train Meta Loss : 65.61201027887984, Average Test Meta Loss : 55.97952248493103\n",
      "Epochh : 3600, Average Train Meta Loss : 65.17816811718991, Average Test Meta Loss : 54.801500363947724\n",
      "Epochh : 3700, Average Train Meta Loss : 64.94074431274217, Average Test Meta Loss : 54.01225382237361\n",
      "Epochh : 3800, Average Train Meta Loss : 64.13708480819561, Average Test Meta Loss : 54.61143976685941\n",
      "Epochh : 3900, Average Train Meta Loss : 63.36357214616489, Average Test Meta Loss : 53.53837896615829\n",
      "Epochh : 4000, Average Train Meta Loss : 62.39912416727112, Average Test Meta Loss : 53.28632936461106\n",
      "Epochh : 4100, Average Train Meta Loss : 62.139853457369576, Average Test Meta Loss : 55.01591592042606\n",
      "Epochh : 4200, Average Train Meta Loss : 62.506914228705135, Average Test Meta Loss : 54.70751023168755\n",
      "Epochh : 4300, Average Train Meta Loss : 63.20933449515076, Average Test Meta Loss : 54.74185977910903\n",
      "Epochh : 4400, Average Train Meta Loss : 62.25978391618447, Average Test Meta Loss : 54.20318316851682\n",
      "Epochh : 4500, Average Train Meta Loss : 62.83995348680749, Average Test Meta Loss : 54.557072278354454\n",
      "Epochh : 4600, Average Train Meta Loss : 61.88219909241175, Average Test Meta Loss : 54.56677352256199\n",
      "Epochh : 4700, Average Train Meta Loss : 62.060925438063904, Average Test Meta Loss : 54.61729908393494\n",
      "Epochh : 4800, Average Train Meta Loss : 61.34909946214354, Average Test Meta Loss : 54.17535489711934\n",
      "Epochh : 4900, Average Train Meta Loss : 61.36466268081944, Average Test Meta Loss : 53.82517428846063\n"
     ]
    }
   ],
   "source": [
    "# Training loop\n",
    "for epoch in range(epochs):\n",
    "        \n",
    "    # Sample a sine graph (Task from training data)\n",
    "    graph = random.sample(GRAPH_TRAIN, 1)\n",
    "    task = random.randint(0, number_of_tasks-1)\n",
    "\n",
    "    # Update model predefined number of times based on k\n",
    "    new_model = training(model, graph[0], lr_k, k)\n",
    "\n",
    "    # Evalaute the loss for the training data\n",
    "    train_set_evaluation(new_model,graph[0],store_train_loss_meta)     \n",
    "    \n",
    "    #Meta-update --> Get gradient for meta loop and update\n",
    "    metaupdate(model,new_model,metaoptimizer)\n",
    "    \n",
    "    # Evalaute the loss for the test data\n",
    "    # Note that we need to sample the graph from the test data\n",
    "    graph = random.sample(GRAPH_TEST, 1)\n",
    "    test_set_validation(model,new_model,graph[0],lr_k,k,store_test_loss_meta)\n",
    "\n",
    "    # Print losses every 'printing_step' epochs\n",
    "    print_losses(epoch,store_train_loss_meta,store_test_loss_meta,printing_step)"
   ]
  },
  {
   "cell_type": "markdown",
   "id": "bQjoz6FYctJM",
   "metadata": {
    "id": "bQjoz6FYctJM"
   },
   "source": [
    "<h1> Few Shot learning with new meta-model"
   ]
  },
  {
   "cell_type": "markdown",
   "id": "m-SPUG5Bfpe9",
   "metadata": {
    "id": "m-SPUG5Bfpe9"
   },
   "source": [
    "The model performs good few shot learning"
   ]
  },
  {
   "cell_type": "code",
   "execution_count": 12,
   "id": "GY84TNs8JXVH",
   "metadata": {
    "colab": {
     "base_uri": "https://localhost:8080/",
     "height": 298
    },
    "id": "GY84TNs8JXVH",
    "outputId": "084f8e5d-078b-4534-cc09-cb5ba4a660e0"
   },
   "outputs": [
    {
     "data": {
      "text/plain": [
       "Text(0.5, 0, 'k shots')"
      ]
     },
     "execution_count": 12,
     "metadata": {},
     "output_type": "execute_result"
    },
    {
     "data": {
      "image/png": "[encoded data removed]",
      "text/plain": [
       "<Figure size 432x288 with 1 Axes>"
      ]
     },
     "metadata": {
      "needs_background": "light"
     },
     "output_type": "display_data"
    }
   ],
   "source": [
    "task = random.randint(0, number_of_tasks-1)\n",
    "graph = GRAPH_TEST[0] \n",
    "k_shot_updates = 5\n",
    "initialization_to_store_meta_losses()\n",
    "for shots in range(k_shot_updates):\n",
    "    new_model = training(model, graph, lr_k, shots)\n",
    "    train_set_evaluation(new_model,graph,store_train_loss_meta) \n",
    "\n",
    "plt.plot(store_train_loss_meta,label = 'Loss')\n",
    "plt.legend()\n",
    "plt.xlabel('k shots')"
   ]
  },
  {
   "cell_type": "code",
   "execution_count": 13,
   "id": "2IObh84sRwo2",
   "metadata": {
    "id": "2IObh84sRwo2"
   },
   "outputs": [
    {
     "name": "stdout",
     "output_type": "stream",
     "text": [
      "Step: 0, Error: 156.23537662506104, Var: 3363.136019195671\n",
      "Step: 1, Error: 25.422198997493833, Var: 474.121376827284\n",
      "Step: 4, Error: 1.8424519585913663, Var: 4.737089504208589\n"
     ]
    },
    {
     "data": {
      "image/png": "[encoded data removed]",
      "text/plain": [
       "<Figure size 576x288 with 1 Axes>"
      ]
     },
     "metadata": {
      "needs_background": "light"
     },
     "output_type": "display_data"
    }
   ],
   "source": [
    "graph_type = \"attention\"\n",
    "\n",
    "num_evals = 100\n",
    "\n",
    "all_losses = []\n",
    "for test_eval in range(num_evals): \n",
    "\n",
    "    graph = GRAPH_TEST[test_eval] \n",
    "    k_shot_updates = 5\n",
    "    initialization_to_store_meta_losses()\n",
    "    for shots in range(k_shot_updates):\n",
    "        new_model = training(model, graph, lr_k, shots)\n",
    "        train_set_evaluation(new_model,graph,store_train_loss_meta) \n",
    "    all_losses.append(np.array(store_train_loss_meta))\n",
    "\n",
    "# plt.plot(store_train_loss_meta,label = 'Loss')\n",
    "# plt.legend()\n",
    "# plt.xlabel('k shots')\n",
    "\n",
    "\n",
    "all_losses = np.array(all_losses)\n",
    "np.save(f\"reptile_graph_{graph_type}_k.npy\", all_losses)\n",
    "    \n",
    "fig, ax = plt.subplots(figsize=(8,4))\n",
    "\n",
    "mean_loss = np.mean(all_losses, axis=0)\n",
    "\n",
    "# confidence interval plotting help from: https://stackoverflow.com/questions/59747313/how-to-plot-confidence-interval-in-python\n",
    "y = mean_loss\n",
    "x = list(range(len(mean_loss)))\n",
    "ci = 1.96 * np.std(all_losses, axis=0)**2/np.sqrt(len(y))\n",
    "\n",
    "ax_size=16\n",
    "title_size=18\n",
    "                                                  \n",
    "ax.plot(x, y, linewidth=3, label=f\"Mean Loss\")\n",
    "# to avoid having MSE < 0\n",
    "truncated_error = np.clip(y-ci, a_min=0, a_max=None)\n",
    "ax.fill_between(x, truncated_error, (y+ci), alpha=.5,label=f\"95% CI\")\n",
    "\n",
    "ax.set_xlabel(\"Gradient Steps\",fontsize=ax_size)\n",
    "ax.set_ylabel(\"Mean Squared Error (MSE)\",fontsize=ax_size)\n",
    "ax.set_title(\"Graph Regression: k-Shot Evaluation\",fontsize=title_size)\n",
    "ax.legend()#loc=\"upper right\")\n",
    "plt.savefig(f\"graph_reg_{graph_type}_kshot.png\")\n",
    "\n",
    "analysis_steps = [0, 1, k_shot_updates-1]\n",
    "for analysis_step in analysis_steps: \n",
    "    print(f\"Step: {analysis_step}, Error: {mean_loss[analysis_step]}, Var: {ci[analysis_step]}\")"
   ]
  },
  {
   "cell_type": "code",
   "execution_count": 14,
   "id": "f473389b",
   "metadata": {},
   "outputs": [
    {
     "data": {
      "text/plain": [
       "array([[1.93094406e+02, 1.18621035e+01, 2.38930151e-01, 2.93226782e-02,\n",
       "        3.74783622e-03],\n",
       "       [9.26187592e+01, 2.92832375e+01, 5.62211609e+00, 6.57940447e-01,\n",
       "        6.54962361e-02],\n",
       "       [1.54495132e+02, 3.32158966e+01, 1.32752371e+01, 4.62612438e+00,\n",
       "        3.81307006e+00],\n",
       "       [1.29985229e+02, 3.92914886e+01, 8.79787731e+00, 4.35121107e+00,\n",
       "        2.51315403e+00],\n",
       "       [1.37686432e+02, 2.38764744e+01, 1.12739439e+01, 5.72924328e+00,\n",
       "        2.80204225e+00],\n",
       "       [1.28071884e+02, 2.24777164e+01, 1.23082876e+00, 4.09451902e-01,\n",
       "        3.12002420e-01],\n",
       "       [9.18123779e+01, 5.82696533e+01, 6.33417034e+00, 7.37099648e-01,\n",
       "        4.34754940e-04],\n",
       "       [2.38508835e+02, 7.74074614e-01, 3.31397176e-01, 1.38389394e-01,\n",
       "        1.12482876e-01],\n",
       "       [1.27716751e+02, 6.56720200e+01, 7.28072691e+00, 3.67922878e+00,\n",
       "        2.09862375e+00],\n",
       "       [1.26070679e+02, 1.28030276e+00, 6.52687773e-02, 3.30320792e-03,\n",
       "        1.57556278e-04],\n",
       "       [1.86308319e+02, 6.02571487e+00, 1.80074584e+00, 9.87107992e-01,\n",
       "        8.38212669e-01],\n",
       "       [2.46169327e+02, 1.62668809e-01, 1.64229167e-03, 1.36531071e-05,\n",
       "        2.10859298e-07],\n",
       "       [1.07216339e+02, 3.04592304e+01, 2.49503279e+00, 1.34452319e+00,\n",
       "        2.92613804e-01],\n",
       "       [1.83299942e+02, 1.10998100e+02, 2.86069298e+00, 1.43942225e+00,\n",
       "        1.10107696e+00],\n",
       "       [1.25415794e+02, 1.21093531e+01, 5.45572758e+00, 3.05130100e+00,\n",
       "        1.82861769e+00],\n",
       "       [2.13856033e+02, 4.57074432e+01, 1.66008377e+00, 1.86423111e+00,\n",
       "        1.32269108e+00],\n",
       "       [1.07880180e+02, 2.40985947e+01, 1.78885078e+01, 3.39931130e+00,\n",
       "        1.69246602e+00],\n",
       "       [1.64203659e+02, 3.11692734e+01, 1.35009127e+01, 7.32078886e+00,\n",
       "        5.56907606e+00],\n",
       "       [9.47770538e+01, 4.02459946e+01, 1.12969112e+01, 3.99164343e+00,\n",
       "        1.53926730e+00],\n",
       "       [1.34072372e+02, 6.05794830e+01, 4.49440765e+00, 3.74951553e+00,\n",
       "        8.02440107e-01],\n",
       "       [1.47919693e+02, 1.98653069e+01, 7.17654467e+00, 4.19096518e+00,\n",
       "        8.33105505e-01],\n",
       "       [2.94868195e+02, 3.43153700e-02, 1.12530794e-02, 3.65458662e-03,\n",
       "        1.12001179e-03],\n",
       "       [1.77604324e+02, 5.00311470e+01, 2.34436798e+01, 1.53815203e+01,\n",
       "        9.45061970e+00],\n",
       "       [1.07205597e+02, 3.11557026e+01, 1.82145634e+01, 6.47421885e+00,\n",
       "        3.00403047e+00],\n",
       "       [2.22149689e+02, 3.20672417e+01, 7.83374596e+00, 4.49103403e+00,\n",
       "        1.96876657e+00],\n",
       "       [1.38234970e+02, 1.96328468e+01, 5.31793404e+00, 1.48681378e+00,\n",
       "        4.24474448e-01],\n",
       "       [1.86010696e+02, 9.75792694e+00, 3.98331952e+00, 6.40956998e-01,\n",
       "        1.15558922e+00],\n",
       "       [1.03842995e+02, 3.26249152e-01, 5.58265299e-02, 1.24847870e-02,\n",
       "        2.83183903e-03],\n",
       "       [1.54164200e+02, 3.53461571e+01, 4.85870695e+00, 1.06526673e+00,\n",
       "        3.22344095e-01],\n",
       "       [2.23717667e+02, 5.54929972e-01, 3.10153693e-01, 1.81450412e-01,\n",
       "        1.09557115e-01],\n",
       "       [1.10612411e+02, 1.84911327e+01, 1.21737518e+01, 8.41127300e+00,\n",
       "        5.67781353e+00],\n",
       "       [1.55762283e+02, 1.79221306e+01, 4.72056484e+00, 1.49584162e+00,\n",
       "        5.84332347e-01],\n",
       "       [1.27490112e+02, 2.15917759e+01, 1.72562256e+01, 6.62054586e+00,\n",
       "        1.75941515e+00],\n",
       "       [7.82206497e+01, 1.65245972e+01, 8.34267330e+00, 1.12089539e+00,\n",
       "        7.34435737e-01],\n",
       "       [1.03439690e+02, 1.13409977e+01, 4.49863720e+00, 2.30622768e+00,\n",
       "        1.29833615e+00],\n",
       "       [9.40472641e+01, 9.37805405e+01, 1.08327894e+01, 2.70072937e+00,\n",
       "        1.55579865e+00],\n",
       "       [1.06232307e+02, 8.23089027e+00, 4.72385979e+00, 2.93781805e+00,\n",
       "        1.84608066e+00],\n",
       "       [4.77936676e+02, 1.38623998e-01, 1.02321081e-01, 7.51544386e-02,\n",
       "        5.47927022e-02],\n",
       "       [1.19902138e+02, 1.40192043e-02, 2.52583460e-03, 4.55014640e-04,\n",
       "        8.19696143e-05],\n",
       "       [1.20287811e+02, 1.81702461e+01, 1.34580600e+00, 4.87668216e-02,\n",
       "        2.13896204e-03],\n",
       "       [2.16518570e+02, 1.25759993e+01, 7.69504642e+00, 2.93148565e+00,\n",
       "        3.42391515e+00],\n",
       "       [1.01688972e+02, 2.29865932e+01, 5.16554499e+00, 3.65471625e+00,\n",
       "        1.23769164e+00],\n",
       "       [2.44573242e+02, 2.04445877e+01, 3.33074093e+00, 2.19337082e+00,\n",
       "        1.97151804e+00],\n",
       "       [2.61619690e+02, 2.98683319e+01, 4.01507664e+00, 1.09893525e+00,\n",
       "        1.02606177e+00],\n",
       "       [9.20455627e+01, 1.50967731e+01, 6.33593321e+00, 2.86809945e+00,\n",
       "        1.33152652e+00],\n",
       "       [1.37780060e+02, 1.96154480e+01, 7.35627556e+00, 3.70135689e+00,\n",
       "        2.08756113e+00],\n",
       "       [1.61449661e+02, 7.21912918e+01, 1.33131561e+01, 1.50920379e+00,\n",
       "        3.54240626e-01],\n",
       "       [1.05550591e+02, 2.16297436e+01, 6.82736254e+00, 2.37383676e+00,\n",
       "        8.19750309e-01],\n",
       "       [1.16865639e+02, 6.46809816e+00, 2.88297629e+00, 1.51406276e+00,\n",
       "        8.42476249e-01],\n",
       "       [1.90540482e+02, 2.32079506e+00, 6.90375149e-01, 5.13603449e-01,\n",
       "        4.18533683e-01],\n",
       "       [1.57393616e+02, 1.24507113e+01, 7.36349916e+00, 1.93337870e+00,\n",
       "        9.75740373e-01],\n",
       "       [2.28933380e+02, 7.88620615e+00, 1.85029852e+00, 1.56681240e+00,\n",
       "        1.56681240e+00],\n",
       "       [1.25498299e+02, 1.54527702e+01, 5.42465270e-01, 9.39547643e-03,\n",
       "        1.47954110e-04],\n",
       "       [9.87077026e+01, 3.68906670e+01, 4.31015472e+01, 8.01181507e+00,\n",
       "        6.00878572e+00],\n",
       "       [1.21774590e+02, 2.78540211e+01, 1.18369274e+01, 6.90358877e+00,\n",
       "        3.65216160e+00],\n",
       "       [9.62576447e+01, 1.11763367e+02, 6.19145584e+00, 2.58936548e+00,\n",
       "        1.17209601e+00],\n",
       "       [1.16867096e+02, 3.32193184e+01, 1.71680622e+01, 1.35429850e+01,\n",
       "        1.04388618e+01],\n",
       "       [1.48145538e+02, 4.09410782e+01, 2.35856361e+01, 1.42005739e+01,\n",
       "        1.01437798e+01],\n",
       "       [1.51578751e+02, 2.21940918e+01, 1.27741110e+00, 3.02981585e-01,\n",
       "        9.23114195e-02],\n",
       "       [1.81791718e+02, 4.19087372e+01, 1.98605804e+01, 1.04833307e+01,\n",
       "        7.94666576e+00],\n",
       "       [2.25332977e+02, 5.92514336e-01, 2.54278211e-03, 3.25138490e-06,\n",
       "        3.38422979e-09],\n",
       "       [2.20467545e+02, 1.89986420e+00, 8.17656457e-01, 3.32755446e-01,\n",
       "        2.19236746e-01],\n",
       "       [1.99833328e+02, 1.21781750e+01, 1.04231129e+01, 9.81660557e+00,\n",
       "        7.10543489e+00],\n",
       "       [1.24671852e+02, 3.76084023e+01, 1.56068268e+01, 3.13080120e+00,\n",
       "        1.03590441e+00],\n",
       "       [1.99213409e+02, 1.32477283e+01, 6.49024773e+00, 3.16348648e+00,\n",
       "        1.16070080e+00],\n",
       "       [1.15329834e+02, 1.06720285e+01, 8.26172054e-01, 6.52251303e-01,\n",
       "        1.58723563e-01],\n",
       "       [1.80284073e+02, 2.26890678e+01, 1.72209053e+01, 6.09135771e+00,\n",
       "        2.12558413e+00],\n",
       "       [1.28735382e+02, 4.59103432e+01, 1.30513325e+01, 2.78969908e+00,\n",
       "        6.39356852e-01],\n",
       "       [1.20253586e+02, 1.62156487e+01, 1.04839957e+00, 1.69459596e-01,\n",
       "        2.09690277e-02],\n",
       "       [1.51549088e+02, 7.12466145e+00, 3.04659081e+00, 8.83598328e-01,\n",
       "        1.46822095e-01],\n",
       "       [2.12009415e+02, 1.02602301e+01, 4.51063108e+00, 1.66380680e+00,\n",
       "        5.44062316e-01],\n",
       "       [1.35208099e+02, 4.98856783e+00, 1.65932691e+00, 1.37397790e+00,\n",
       "        4.74566787e-01],\n",
       "       [1.62665207e+02, 1.48662262e+01, 1.02027559e+01, 6.97171068e+00,\n",
       "        5.17905712e+00],\n",
       "       [2.34047348e+02, 5.89732456e+00, 2.08205390e+00, 1.73425448e+00,\n",
       "        1.35867107e+00],\n",
       "       [1.46826630e+02, 1.82102737e+01, 3.13817896e-02, 3.55970883e-03,\n",
       "        4.22425510e-04],\n",
       "       [1.52024521e+02, 3.11495819e+01, 9.50671291e+00, 6.45895386e+00,\n",
       "        6.39094019e+00],\n",
       "       [1.96439835e+02, 5.64262848e+01, 2.73771143e+00, 2.80428195e+00,\n",
       "        1.71437812e+00],\n",
       "       [6.02821465e+01, 1.63670063e+01, 5.38615847e+00, 1.95079756e+00,\n",
       "        7.28892088e-01],\n",
       "       [2.23583572e+02, 2.70086746e+01, 1.23345871e+01, 1.24242277e+01,\n",
       "        7.12386990e+00],\n",
       "       [1.13818619e+02, 2.07593708e+01, 9.42770541e-01, 3.43406290e-01,\n",
       "        1.30460858e-01],\n",
       "       [8.68337555e+01, 2.95936375e+01, 1.25114527e+01, 4.62196827e+00,\n",
       "        1.95804739e+00],\n",
       "       [1.35298325e+02, 4.09822693e+01, 1.26597176e+01, 2.59644508e+00,\n",
       "        6.08049452e-01],\n",
       "       [6.72373505e+01, 6.72650766e+00, 3.09575272e+00, 1.78551292e+00,\n",
       "        1.17678773e+00],\n",
       "       [1.52919250e+02, 3.00395260e+01, 9.56542778e+00, 3.48708153e+00,\n",
       "        2.80479693e+00],\n",
       "       [9.64381256e+01, 3.09602566e+01, 1.63145580e+01, 8.13523293e+00,\n",
       "        4.29738235e+00],\n",
       "       [2.26926392e+02, 1.08485556e+01, 2.64493966e+00, 1.86010897e+00,\n",
       "        6.57160640e-01],\n",
       "       [8.99513092e+01, 3.76847696e+00, 4.68909883e+00, 1.04203916e+00,\n",
       "        6.94679976e-01],\n",
       "       [2.51960999e+02, 1.97907906e+01, 7.35440540e+00, 7.26752329e+00,\n",
       "        6.75256395e+00],\n",
       "       [1.89420990e+02, 2.66247392e+00, 8.59631658e-01, 2.28973895e-01,\n",
       "        2.73770899e-01],\n",
       "       [1.85427689e+02, 3.21368103e+01, 1.87163658e+01, 3.00258517e+00,\n",
       "        1.74195302e+00],\n",
       "       [1.15263336e+02, 7.92228241e+01, 2.98406053e+00, 2.12159562e+00,\n",
       "        1.84917307e+00],\n",
       "       [2.18957581e+02, 9.14987850e+00, 3.95182228e+00, 1.93195248e+00,\n",
       "        1.64204359e+00],\n",
       "       [1.17842400e+02, 1.18367004e+01, 4.05081749e+00, 2.52451181e+00,\n",
       "        1.65848124e+00],\n",
       "       [1.05551903e+02, 8.68728256e+01, 2.49362946e+00, 2.38868093e+00,\n",
       "        1.37354955e-01],\n",
       "       [1.27824142e+02, 1.89287262e+01, 1.11201038e+01, 6.74506617e+00,\n",
       "        4.07566977e+00],\n",
       "       [3.23513885e+02, 3.99014056e-01, 2.03804076e-01, 1.05375715e-01,\n",
       "        5.54496832e-02],\n",
       "       [9.99713516e+01, 2.45711517e+01, 6.67867327e+00, 1.06895816e+00,\n",
       "        4.02203411e-01],\n",
       "       [9.43563995e+01, 1.86410465e+01, 9.24549675e+00, 5.14514494e+00,\n",
       "        2.91780305e+00],\n",
       "       [1.47128326e+02, 7.44810638e+01, 3.94568503e-01, 2.69710481e-01,\n",
       "        1.83418244e-01],\n",
       "       [1.99648010e+02, 1.02411585e+01, 3.85091162e+00, 2.07834840e+00,\n",
       "        1.09637666e+00]])"
      ]
     },
     "execution_count": 14,
     "metadata": {},
     "output_type": "execute_result"
    }
   ],
   "source": [
    "all_losses"
   ]
  },
  {
   "cell_type": "code",
   "execution_count": null,
   "id": "a0bbd0f9",
   "metadata": {},
   "outputs": [],
   "source": []
  }
 ],
 "metadata": {
  "accelerator": "GPU",
  "colab": {
   "collapsed_sections": [],
   "name": "Reptile_GraphNN_Regression_Attention.ipynb",
   "provenance": []
  },
  "kernelspec": {
   "display_name": "Python 3",
   "language": "python",
   "name": "python3"
  },
  "language_info": {
   "codemirror_mode": {
    "name": "ipython",
    "version": 3
   },
   "file_extension": ".py",
   "mimetype": "text/x-python",
   "name": "python",
   "nbconvert_exporter": "python",
   "pygments_lexer": "ipython3",
   "version": "3.8.8"
  }
 },
 "nbformat": 4,
 "nbformat_minor": 5
}
