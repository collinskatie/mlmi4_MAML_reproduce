{
 "cells": [
  {
   "cell_type": "markdown",
   "id": "UrjQGgr5nUHC",
   "metadata": {
    "id": "UrjQGgr5nUHC"
   },
   "source": [
    "<h1> Imports and Set-Up"
   ]
  },
  {
   "cell_type": "code",
   "execution_count": 1,
   "id": "eGl9mcc0nOMP",
   "metadata": {
    "id": "eGl9mcc0nOMP"
   },
   "outputs": [
    {
     "name": "stdout",
     "output_type": "stream",
     "text": [
      "Requirement already satisfied: higher in /Users/kcollins/opt/anaconda3/lib/python3.8/site-packages (0.2.1)\n",
      "Requirement already satisfied: torch in /Users/kcollins/opt/anaconda3/lib/python3.8/site-packages (from higher) (1.10.2)\n",
      "Requirement already satisfied: typing-extensions in /Users/kcollins/opt/anaconda3/lib/python3.8/site-packages (from torch->higher) (3.7.4.3)\n",
      "Available device: cpu\n"
     ]
    }
   ],
   "source": [
    "!pip3 install higher\n",
    "import matplotlib.pyplot as plt\n",
    "import numpy as np\n",
    "import torch.nn as nn\n",
    "import torch\n",
    "from torch.autograd import Variable\n",
    "import random\n",
    "from higher import innerloop_ctx\n",
    "import warnings\n",
    "\n",
    "#The code includes extensive warnings when run so have used this to ignore them\n",
    "warnings.filterwarnings(\"ignore\")\n",
    "\n",
    "#Set random seeds for reproducibility of results \n",
    "torch.manual_seed(0)\n",
    "random.seed(0)\n",
    "np.random.seed(0)\n",
    "\n",
    "# set GPU or CPU depending on available hardware\n",
    "# help from: https://stackoverflow.com/questions/46704352/porting-pytorch-code-from-cpu-to-gpu\n",
    "device = torch.device(\"cuda:0\" if torch.cuda.is_available() else \"cpu\")\n",
    "print(f\"Available device: {device}\")\n",
    "\n",
    "if device == \"cuda:0\": \n",
    "  # set default so all tensors are on GPU, if available\n",
    "  # help from: https://stackoverflow.com/questions/46704352/porting-pytorch-code-from-cpu-to-gpu\n",
    "  torch.set_default_tensor_type('torch.cuda.FloatTensor')\n",
    "\n",
    "\n",
    "domain_type = \"multidim_sine\""
   ]
  },
  {
   "cell_type": "markdown",
   "id": "T3KVOwFXFOY0",
   "metadata": {
    "id": "T3KVOwFXFOY0"
   },
   "source": [
    "<h1> Data Loading and Generation"
   ]
  },
  {
   "cell_type": "markdown",
   "id": "nMUUm70ufKHH",
   "metadata": {
    "id": "nMUUm70ufKHH"
   },
   "source": [
    "This Sine function generator is based on the repostory: https://github.com/AdrienLE/ANIML/blob/master/ANIML.ipynb"
   ]
  },
  {
   "cell_type": "code",
   "execution_count": 2,
   "id": "a3X51uGHDvSV",
   "metadata": {
    "id": "a3X51uGHDvSV"
   },
   "outputs": [],
   "source": [
    "class SineWaveTask_multi:\n",
    "    def __init__(self,dimensions=20):\n",
    "        self.dimensions = dimensions\n",
    "        self.a = []\n",
    "        self.b = []\n",
    "        for dim in range(self.dimensions):\n",
    "          self.a.append(np.random.uniform(0.1, 5.0))\n",
    "          self.b.append(np.random.uniform(0, 2*np.pi))\n",
    "        self.train_x = None\n",
    "        \n",
    "    def f(self, x,a,b):\n",
    "        return a * np.sin(x + b)\n",
    "        \n",
    "    def training_set(self, size=10, force_new=False):\n",
    "        if self.train_x is None and not force_new:\n",
    "            self.train_x = np.random.uniform(-5, 5, size)\n",
    "            x = self.train_x\n",
    "\n",
    "        elif not force_new:\n",
    "            x = self.train_x\n",
    "        else:\n",
    "            x = np.random.uniform(-5, 5, size)\n",
    "\n",
    "        y = self.f(x,self.a[0],self.b[0])[:,None]\n",
    "\n",
    "        for dim in range(self.dimensions-1):\n",
    "          y = np.concatenate((y,self.f(x,self.a[dim+1],self.b[dim+1])[:,None]),axis=-1)\n",
    "\n",
    "        return torch.Tensor(x[:,None]), torch.Tensor(y)\n",
    "    \n",
    "    def test_set(self, size=50):\n",
    "        x = np.linspace(-5, 5, size)\n",
    "        y = self.f(x,self.a[0],self.b[0])[:,None]\n",
    "\n",
    "        for dim in range(self.dimensions-1):\n",
    "          y = np.concatenate((y,self.f(x,self.a[dim+1],self.b[dim+1])[:,None]),axis=-1)\n",
    "\n",
    "        return torch.Tensor(x[:,None]), torch.Tensor(y)\n",
    "    \n",
    "\n",
    "TRAIN_SIZE = 20000\n",
    "TEST_SIZE = 1000\n",
    "SINE_TRAIN = [SineWaveTask_multi() for _ in range(TRAIN_SIZE)]\n",
    "SINE_TEST = [SineWaveTask_multi() for _ in range(TEST_SIZE)]"
   ]
  },
  {
   "cell_type": "code",
   "execution_count": 5,
   "id": "Ahv9M3tAJrG7",
   "metadata": {
    "id": "Ahv9M3tAJrG7"
   },
   "outputs": [],
   "source": [
    "x, y_true = SINE_TRAIN[0].training_set()"
   ]
  },
  {
   "cell_type": "code",
   "execution_count": 6,
   "id": "jInHQnwIKKxH",
   "metadata": {
    "colab": {
     "base_uri": "https://localhost:8080/"
    },
    "id": "jInHQnwIKKxH",
    "outputId": "8760f64a-0585-432f-fa26-e9189ee9a6dd"
   },
   "outputs": [
    {
     "data": {
      "text/plain": [
       "torch.Size([10, 20])"
      ]
     },
     "execution_count": 6,
     "metadata": {},
     "output_type": "execute_result"
    }
   ],
   "source": [
    "y_true.shape"
   ]
  },
  {
   "cell_type": "markdown",
   "id": "cu4urLF7Q88A",
   "metadata": {
    "id": "cu4urLF7Q88A"
   },
   "source": [
    "<h1> Neural Network Model"
   ]
  },
  {
   "cell_type": "code",
   "execution_count": 7,
   "id": "R1B0YTz6ytyN",
   "metadata": {
    "id": "R1B0YTz6ytyN"
   },
   "outputs": [],
   "source": [
    "# Define network\n",
    "class Neural_Network_multi(nn.Module):\n",
    "    def __init__(self, input_size=1, hidden_size=40, output_size=20):\n",
    "        super(Neural_Network_multi, self).__init__()\n",
    "        # network layers\n",
    "        self.hidden1 = nn.Linear(input_size,hidden_size)\n",
    "        self.hidden2 = nn.Linear(hidden_size,hidden_size)\n",
    "        self.output_layer = nn.Linear(hidden_size,output_size)\n",
    "\n",
    "        #Activation functions\n",
    "        self.relu = nn.ReLU()\n",
    "        \n",
    "    def forward(self, x):\n",
    "        x = self.hidden1(x)\n",
    "        x = self.relu(x)\n",
    "        x = self.hidden2(x)\n",
    "        x = self.relu(x)\n",
    "        x = self.output_layer(x)\n",
    "        y = x\n",
    "        return y\n"
   ]
  },
  {
   "cell_type": "markdown",
   "id": "G-ExWACxQ3mt",
   "metadata": {
    "id": "G-ExWACxQ3mt"
   },
   "source": [
    "<h1> Helper functions"
   ]
  },
  {
   "cell_type": "code",
   "execution_count": 14,
   "id": "1zyNHFXdOnug",
   "metadata": {
    "id": "1zyNHFXdOnug"
   },
   "outputs": [],
   "source": [
    "# The Minimum Square Error is used to evaluate the difference between prediction and ground truth\n",
    "criterion = nn.MSELoss()\n",
    "\n",
    "def copy_existing_model(model):\n",
    "    # Function to copy an existing model\n",
    "    # We initialize a new model\n",
    "    new_model = Neural_Network_multi()\n",
    "    # Copy the previous model's parameters into the new model\n",
    "    new_model.load_state_dict(model.state_dict())\n",
    "    return new_model\n",
    "\n",
    "def get_samples_in_good_format(wave, num_samples=10, force_new=False):\n",
    "  #This function is used to sample data from a wave\n",
    "  x, y_true = wave.training_set(size=num_samples, force_new=force_new)\n",
    "  # We add [:,None] to get the right dimensions to pass to the model: we want K x 1 (we have scalars inputs hence the x 1)\n",
    "  # Note that we convert everything torch tensors\n",
    "  x = torch.tensor(x)\n",
    "  y_true = torch.tensor(y_true)\n",
    "  return x.to(device),y_true.to(device)\n",
    "\n",
    "def initialization_to_store_meta_losses():\n",
    "  # This function creates lists to store the meta losses\n",
    "  global store_train_loss_meta; store_train_loss_meta = []\n",
    "  global store_test_loss_meta; store_test_loss_meta = []\n",
    "\n",
    "def test_set_validation(model,new_model,wave,lr_inner,k,store_test_loss_meta):\n",
    "    # This functions does not actually affect the main algorithm, it is just used to evaluate the new model\n",
    "    new_model = training(model, wave, lr_inner, k)\n",
    "    # Obtain the loss\n",
    "    loss = evaluation(new_model, wave)\n",
    "    # Store loss\n",
    "    store_test_loss_meta.append(loss)\n",
    "\n",
    "def train_set_evaluation(new_model,wave,store_train_loss_meta):\n",
    "    loss = evaluation(new_model, wave)\n",
    "    store_train_loss_meta.append(loss) \n",
    "\n",
    "def print_losses(epoch,store_train_loss_meta,store_test_loss_meta,printing_step=1000):\n",
    "  if epoch % printing_step == 0:\n",
    "    print(f'Epochh : {epoch}, Average Train Meta Loss : {np.mean(store_train_loss_meta)}, Average Test Meta Loss : {np.mean(store_test_loss_meta)}')\n",
    "\n",
    "#This is based on the paper update rule, we calculate the difference between parameters and then this is used by the optimizer, rather than doing the update by hand\n",
    "def reptile_parameter_update(model,new_model):\n",
    "  # Zip models for the loop\n",
    "  zip_models = zip(model.parameters(), new_model.parameters())\n",
    "  for parameter, new_parameter in zip_models:\n",
    "    if parameter.grad is None:\n",
    "      parameter.grad = torch.tensor(torch.zeros_like(parameter))\n",
    "    # Here we are adding the gradient that will later be used by the optimizer\n",
    "    parameter.grad.data.add_(parameter.data - new_parameter.data)\n",
    "\n",
    "# Define commands in order needed for the metaupdate\n",
    "# Note that if we change the order it doesn't behave the same\n",
    "def metaoptimizer_update(metaoptimizer):\n",
    "  # Take step\n",
    "  metaoptimizer.step()\n",
    "  # Reset gradients\n",
    "  metaoptimizer.zero_grad()\n",
    "\n",
    "def metaupdate(model,new_model,metaoptimizer):\n",
    "  # Combine the two previous functions into a single metaupdate function\n",
    "  # First we calculate the gradients\n",
    "  reptile_parameter_update(model,new_model)\n",
    "  # Use those gradients in the optimizer\n",
    "  metaoptimizer_update(metaoptimizer)\n",
    "\n",
    "def evaluation(new_model, wave, num_samples=10, force_new=False, item = False):\n",
    "    # Get data\n",
    "    x, label = get_samples_in_good_format(wave,num_samples=num_samples, force_new=force_new)\n",
    "    # Make model prediction\n",
    "    prediction = new_model(x)\n",
    "    # Get loss\n",
    "    if item == True: #Depending on whether we need to return the loss value for storing or for backprop\n",
    "      loss = criterion(prediction,label).item()\n",
    "    else:\n",
    "      loss = criterion(prediction,label)\n",
    "    return loss\n",
    "\n",
    "def training(model, wave, lr_k, k):\n",
    "    # Create new model which we will train on\n",
    "    new_model = copy_existing_model(model)\n",
    "    # Define new optimizer\n",
    "    koptimizer = torch.optim.SGD(new_model.parameters(), lr=lr_k)\n",
    "    # Update the model multiple times, note that k>1 (do not confuse k with K)\n",
    "    for i in range(k):\n",
    "        # Reset optimizer\n",
    "        koptimizer.zero_grad()\n",
    "        # Evaluate the model\n",
    "        loss = evaluation(new_model, wave, item = False)\n",
    "        # Backpropagate\n",
    "        loss.backward()\n",
    "        koptimizer.step()\n",
    "    return new_model\n",
    "\n",
    "# for MAML -- see MAML cell for additional citations around structure inspiration\n",
    "def task_specific_train_and_eval(model, T_i, inner_loop_optimizer, N=1):\n",
    "    #Description of the loop formulation from https://higher.readthedocs.io/en/latest/toplevel.html\n",
    "    with innerloop_ctx(model, inner_loop_optimizer, copy_initial_weights = False) as (fmodel,diffopt):\n",
    "        #get our input data and our label\n",
    "        x, label = get_samples_in_good_format(T_i,num_samples=num_samples, force_new= True)\n",
    "        per_step_loss = []\n",
    "        for _ in range(N):\n",
    "            #Get the task specific loss for our model\n",
    "            task_specifc_loss = criterion(fmodel(x), label)\n",
    "\n",
    "            #Step through the inner gradient\n",
    "            diffopt.step(task_specifc_loss)\n",
    "            \n",
    "            per_step_loss.append(task_specifc_loss.item())\n",
    "            \n",
    "        held_out_task_specific_loss = evaluation(fmodel, T_i, num_samples=num_samples, force_new=True)\n",
    "        \n",
    "        return held_out_task_specific_loss, per_step_loss, fmodel"
   ]
  },
  {
   "cell_type": "markdown",
   "id": "-4Ps8P2IRCmF",
   "metadata": {
    "id": "-4Ps8P2IRCmF"
   },
   "source": [
    "<h1> Reptile"
   ]
  },
  {
   "cell_type": "code",
   "execution_count": 9,
   "id": "8ogpg_DHizlC",
   "metadata": {
    "id": "8ogpg_DHizlC"
   },
   "outputs": [],
   "source": [
    "#Define important variables\n",
    "epochs = int(1e5) # number of epochs \n",
    "lr_meta=0.001 # Learning rate for meta model (outer loop)\n",
    "printing_step=1000 # how many epochs should we wait to print the loss\n",
    "lr_k=0.01 # Internal learning rate\n",
    "k=5 # Number of internal updates for each task\n",
    "\n",
    "# Initializations\n",
    "initialization_to_store_meta_losses()\n",
    "model = Neural_Network_multi()\n",
    "metaoptimizer = torch.optim.Adam(model.parameters(), lr=lr_meta)"
   ]
  },
  {
   "cell_type": "code",
   "execution_count": 8,
   "id": "-4-zQWWKFt3s",
   "metadata": {
    "colab": {
     "base_uri": "https://localhost:8080/",
     "height": 1000
    },
    "id": "-4-zQWWKFt3s",
    "outputId": "747b2ee4-fc6a-487e-98a4-a35d0cf2f7b2"
   },
   "outputs": [
    {
     "name": "stderr",
     "output_type": "stream",
     "text": [
      "/usr/local/lib/python3.7/dist-packages/ipykernel_launcher.py:17: UserWarning: To copy construct from a tensor, it is recommended to use sourceTensor.clone().detach() or sourceTensor.clone().detach().requires_grad_(True), rather than torch.tensor(sourceTensor).\n",
      "/usr/local/lib/python3.7/dist-packages/ipykernel_launcher.py:18: UserWarning: To copy construct from a tensor, it is recommended to use sourceTensor.clone().detach() or sourceTensor.clone().detach().requires_grad_(True), rather than torch.tensor(sourceTensor).\n",
      "/usr/local/lib/python3.7/dist-packages/ipykernel_launcher.py:48: UserWarning: To copy construct from a tensor, it is recommended to use sourceTensor.clone().detach() or sourceTensor.clone().detach().requires_grad_(True), rather than torch.tensor(sourceTensor).\n"
     ]
    },
    {
     "name": "stdout",
     "output_type": "stream",
     "text": [
      "Epochh : 0, Average Train Meta Loss : 4.744680404663086, Average Test Meta Loss : 3.1243340969085693\n",
      "Epochh : 1000, Average Train Meta Loss : 4.126384561473912, Average Test Meta Loss : 4.2037262361604615\n",
      "Epochh : 2000, Average Train Meta Loss : 3.8655842161369227, Average Test Meta Loss : 3.9251257088230824\n",
      "Epochh : 3000, Average Train Meta Loss : 3.6657534340587072, Average Test Meta Loss : 3.7080528013748313\n",
      "Epochh : 4000, Average Train Meta Loss : 3.5173155824651245, Average Test Meta Loss : 3.5404870014463596\n",
      "Epochh : 5000, Average Train Meta Loss : 3.388938419939494, Average Test Meta Loss : 3.412119527395619\n",
      "Epochh : 6000, Average Train Meta Loss : 3.2925204327555027, Average Test Meta Loss : 3.321483292483902\n",
      "Epochh : 7000, Average Train Meta Loss : 3.2239420816585382, Average Test Meta Loss : 3.2542117909607997\n",
      "Epochh : 8000, Average Train Meta Loss : 3.169752593681732, Average Test Meta Loss : 3.2057592086815236\n",
      "Epochh : 9000, Average Train Meta Loss : 3.136593209638978, Average Test Meta Loss : 3.1615019086969784\n",
      "Epochh : 10000, Average Train Meta Loss : 3.1052962327322926, Average Test Meta Loss : 3.1276765389450074\n",
      "Epochh : 11000, Average Train Meta Loss : 3.075070533050471, Average Test Meta Loss : 3.101650482767788\n",
      "Epochh : 12000, Average Train Meta Loss : 3.0470134202177035, Average Test Meta Loss : 3.0756117426726273\n",
      "Epochh : 13000, Average Train Meta Loss : 3.022298805627096, Average Test Meta Loss : 3.0562873980868974\n",
      "Epochh : 14000, Average Train Meta Loss : 3.007465878343354, Average Test Meta Loss : 3.0377470182057884\n",
      "Epochh : 15000, Average Train Meta Loss : 2.9939885417641534, Average Test Meta Loss : 3.0242352608831458\n",
      "Epochh : 16000, Average Train Meta Loss : 2.983129062542177, Average Test Meta Loss : 3.00959424927163\n",
      "Epochh : 17000, Average Train Meta Loss : 2.971097851078634, Average Test Meta Loss : 2.9985821044702377\n",
      "Epochh : 18000, Average Train Meta Loss : 2.957192650027265, Average Test Meta Loss : 2.9875673664774434\n",
      "Epochh : 19000, Average Train Meta Loss : 2.9442536476524084, Average Test Meta Loss : 2.975433169095229\n",
      "Epochh : 20000, Average Train Meta Loss : 2.9282407201616105, Average Test Meta Loss : 2.9608481404161604\n",
      "Epochh : 21000, Average Train Meta Loss : 2.912358712164608, Average Test Meta Loss : 2.9456552187066256\n",
      "Epochh : 22000, Average Train Meta Loss : 2.8973391310506873, Average Test Meta Loss : 2.926022713457767\n",
      "Epochh : 23000, Average Train Meta Loss : 2.8802099712780933, Average Test Meta Loss : 2.907947436915103\n",
      "Epochh : 24000, Average Train Meta Loss : 2.8626207199167606, Average Test Meta Loss : 2.8885745741040463\n",
      "Epochh : 25000, Average Train Meta Loss : 2.838560246864818, Average Test Meta Loss : 2.8646398438181353\n",
      "Epochh : 26000, Average Train Meta Loss : 2.8106413000336308, Average Test Meta Loss : 2.840936234641876\n",
      "Epochh : 27000, Average Train Meta Loss : 2.783415939558577, Average Test Meta Loss : 2.8133721797891265\n",
      "Epochh : 28000, Average Train Meta Loss : 2.7562680294256476, Average Test Meta Loss : 2.786204209926192\n",
      "Epochh : 29000, Average Train Meta Loss : 2.7314848055683667, Average Test Meta Loss : 2.7616799934356937\n",
      "Epochh : 30000, Average Train Meta Loss : 2.7067551485065904, Average Test Meta Loss : 2.7365548375246824\n",
      "Epochh : 31000, Average Train Meta Loss : 2.6835308742756414, Average Test Meta Loss : 2.7128084554596796\n",
      "Epochh : 32000, Average Train Meta Loss : 2.6606203283747787, Average Test Meta Loss : 2.6897111996248855\n",
      "Epochh : 33000, Average Train Meta Loss : 2.6384129988938936, Average Test Meta Loss : 2.66713882950446\n",
      "Epochh : 34000, Average Train Meta Loss : 2.6182128918785015, Average Test Meta Loss : 2.645254269120013\n",
      "Epochh : 35000, Average Train Meta Loss : 2.598701587454588, Average Test Meta Loss : 2.625226677135891\n",
      "Epochh : 36000, Average Train Meta Loss : 2.5797890475171563, Average Test Meta Loss : 2.6061398266540667\n",
      "Epochh : 37000, Average Train Meta Loss : 2.5601320836097723, Average Test Meta Loss : 2.58728709112006\n",
      "Epochh : 38000, Average Train Meta Loss : 2.543578188101046, Average Test Meta Loss : 2.56960105714442\n",
      "Epochh : 39000, Average Train Meta Loss : 2.5268060987997365, Average Test Meta Loss : 2.5529697241225255\n",
      "Epochh : 40000, Average Train Meta Loss : 2.510013569134381, Average Test Meta Loss : 2.536843846832698\n",
      "Epochh : 41000, Average Train Meta Loss : 2.4951686287670727, Average Test Meta Loss : 2.521981095904121\n",
      "Epochh : 42000, Average Train Meta Loss : 2.4801928262383917, Average Test Meta Loss : 2.50671593652209\n",
      "Epochh : 43000, Average Train Meta Loss : 2.465855417798814, Average Test Meta Loss : 2.491884450465202\n",
      "Epochh : 44000, Average Train Meta Loss : 2.452440348981169, Average Test Meta Loss : 2.4783077234334696\n",
      "Epochh : 45000, Average Train Meta Loss : 2.4396387894184297, Average Test Meta Loss : 2.4647069657363616\n",
      "Epochh : 46000, Average Train Meta Loss : 2.425429240553908, Average Test Meta Loss : 2.4517849375651153\n",
      "Epochh : 47000, Average Train Meta Loss : 2.4122084358027456, Average Test Meta Loss : 2.4391358956786227\n",
      "Epochh : 48000, Average Train Meta Loss : 2.3994904139506446, Average Test Meta Loss : 2.4262875973338898\n",
      "Epochh : 49000, Average Train Meta Loss : 2.3867731100164082, Average Test Meta Loss : 2.4138609691957136\n",
      "Epochh : 50000, Average Train Meta Loss : 2.3739769859808115, Average Test Meta Loss : 2.4016119063327306\n",
      "Epochh : 51000, Average Train Meta Loss : 2.361532881229398, Average Test Meta Loss : 2.389439706443485\n",
      "Epochh : 52000, Average Train Meta Loss : 2.3491268385895085, Average Test Meta Loss : 2.378088794339884\n",
      "Epochh : 53000, Average Train Meta Loss : 2.3367224598098866, Average Test Meta Loss : 2.365887557495783\n",
      "Epochh : 54000, Average Train Meta Loss : 2.324484592490757, Average Test Meta Loss : 2.3535653854097025\n",
      "Epochh : 55000, Average Train Meta Loss : 2.312951556526004, Average Test Meta Loss : 2.3409113794458456\n",
      "Epochh : 56000, Average Train Meta Loss : 2.3010351522499453, Average Test Meta Loss : 2.328999504025235\n",
      "Epochh : 57000, Average Train Meta Loss : 2.289021973154579, Average Test Meta Loss : 2.31629045190808\n",
      "Epochh : 58000, Average Train Meta Loss : 2.2763238252019815, Average Test Meta Loss : 2.3038961048248594\n",
      "Epochh : 59000, Average Train Meta Loss : 2.264285107487886, Average Test Meta Loss : 2.2917494390118365\n",
      "Epochh : 60000, Average Train Meta Loss : 2.2521588531020584, Average Test Meta Loss : 2.279637878260925\n",
      "Epochh : 61000, Average Train Meta Loss : 2.2405216759377473, Average Test Meta Loss : 2.2680584964421975\n",
      "Epochh : 62000, Average Train Meta Loss : 2.2289352528382578, Average Test Meta Loss : 2.256273531885013\n",
      "Epochh : 63000, Average Train Meta Loss : 2.2169801268699802, Average Test Meta Loss : 2.2442444345751116\n",
      "Epochh : 64000, Average Train Meta Loss : 2.205319085153038, Average Test Meta Loss : 2.2323704335126515\n",
      "Epochh : 65000, Average Train Meta Loss : 2.193856204356791, Average Test Meta Loss : 2.220965901091327\n",
      "Epochh : 66000, Average Train Meta Loss : 2.1821466609729514, Average Test Meta Loss : 2.2091745217355516\n",
      "Epochh : 67000, Average Train Meta Loss : 2.170633523986087, Average Test Meta Loss : 2.1976115573224013\n",
      "Epochh : 68000, Average Train Meta Loss : 2.1588226286046464, Average Test Meta Loss : 2.185830558890213\n",
      "Epochh : 69000, Average Train Meta Loss : 2.1473592158376578, Average Test Meta Loss : 2.1745238913766087\n"
     ]
    },
    {
     "ename": "KeyboardInterrupt",
     "evalue": "ignored",
     "output_type": "error",
     "traceback": [
      "\u001b[0;31m---------------------------------------------------------------------------\u001b[0m",
      "\u001b[0;31mKeyboardInterrupt\u001b[0m                         Traceback (most recent call last)",
      "\u001b[0;32m<ipython-input-8-3cd69cebc74b>\u001b[0m in \u001b[0;36m<module>\u001b[0;34m()\u001b[0m\n\u001b[1;32m     17\u001b[0m     \u001b[0;31m# Note that we need to sample the wave from the test data\u001b[0m\u001b[0;34m\u001b[0m\u001b[0;34m\u001b[0m\u001b[0;34m\u001b[0m\u001b[0m\n\u001b[1;32m     18\u001b[0m     \u001b[0mwave\u001b[0m \u001b[0;34m=\u001b[0m \u001b[0mrandom\u001b[0m\u001b[0;34m.\u001b[0m\u001b[0msample\u001b[0m\u001b[0;34m(\u001b[0m\u001b[0mSINE_TEST\u001b[0m\u001b[0;34m,\u001b[0m \u001b[0;36m1\u001b[0m\u001b[0;34m)\u001b[0m\u001b[0;34m\u001b[0m\u001b[0;34m\u001b[0m\u001b[0m\n\u001b[0;32m---> 19\u001b[0;31m     \u001b[0mtest_set_validation\u001b[0m\u001b[0;34m(\u001b[0m\u001b[0mmodel\u001b[0m\u001b[0;34m,\u001b[0m\u001b[0mnew_model\u001b[0m\u001b[0;34m,\u001b[0m\u001b[0mwave\u001b[0m\u001b[0;34m[\u001b[0m\u001b[0;36m0\u001b[0m\u001b[0;34m]\u001b[0m\u001b[0;34m,\u001b[0m\u001b[0mlr_k\u001b[0m\u001b[0;34m,\u001b[0m\u001b[0mk\u001b[0m\u001b[0;34m,\u001b[0m\u001b[0mstore_test_loss_meta\u001b[0m\u001b[0;34m)\u001b[0m\u001b[0;34m\u001b[0m\u001b[0;34m\u001b[0m\u001b[0m\n\u001b[0m\u001b[1;32m     20\u001b[0m \u001b[0;34m\u001b[0m\u001b[0m\n\u001b[1;32m     21\u001b[0m     \u001b[0;31m# Print losses every 'printing_step' epochs\u001b[0m\u001b[0;34m\u001b[0m\u001b[0;34m\u001b[0m\u001b[0;34m\u001b[0m\u001b[0m\n",
      "\u001b[0;32m<ipython-input-6-7e1e6714c74e>\u001b[0m in \u001b[0;36mtest_set_validation\u001b[0;34m(model, new_model, wave, lr_inner, k, store_test_loss_meta)\u001b[0m\n\u001b[1;32m     26\u001b[0m \u001b[0;32mdef\u001b[0m \u001b[0mtest_set_validation\u001b[0m\u001b[0;34m(\u001b[0m\u001b[0mmodel\u001b[0m\u001b[0;34m,\u001b[0m\u001b[0mnew_model\u001b[0m\u001b[0;34m,\u001b[0m\u001b[0mwave\u001b[0m\u001b[0;34m,\u001b[0m\u001b[0mlr_inner\u001b[0m\u001b[0;34m,\u001b[0m\u001b[0mk\u001b[0m\u001b[0;34m,\u001b[0m\u001b[0mstore_test_loss_meta\u001b[0m\u001b[0;34m)\u001b[0m\u001b[0;34m:\u001b[0m\u001b[0;34m\u001b[0m\u001b[0;34m\u001b[0m\u001b[0m\n\u001b[1;32m     27\u001b[0m     \u001b[0;31m# This functions does not actually affect the main algorithm, it is just used to evaluate the new model\u001b[0m\u001b[0;34m\u001b[0m\u001b[0;34m\u001b[0m\u001b[0;34m\u001b[0m\u001b[0m\n\u001b[0;32m---> 28\u001b[0;31m     \u001b[0mnew_model\u001b[0m \u001b[0;34m=\u001b[0m \u001b[0mtraining\u001b[0m\u001b[0;34m(\u001b[0m\u001b[0mmodel\u001b[0m\u001b[0;34m,\u001b[0m \u001b[0mwave\u001b[0m\u001b[0;34m,\u001b[0m \u001b[0mlr_inner\u001b[0m\u001b[0;34m,\u001b[0m \u001b[0mk\u001b[0m\u001b[0;34m)\u001b[0m\u001b[0;34m\u001b[0m\u001b[0;34m\u001b[0m\u001b[0m\n\u001b[0m\u001b[1;32m     29\u001b[0m     \u001b[0;31m# Obtain the loss\u001b[0m\u001b[0;34m\u001b[0m\u001b[0;34m\u001b[0m\u001b[0;34m\u001b[0m\u001b[0m\n\u001b[1;32m     30\u001b[0m     \u001b[0mloss\u001b[0m \u001b[0;34m=\u001b[0m \u001b[0mevaluation\u001b[0m\u001b[0;34m(\u001b[0m\u001b[0mnew_model\u001b[0m\u001b[0;34m,\u001b[0m \u001b[0mwave\u001b[0m\u001b[0;34m)\u001b[0m\u001b[0;34m\u001b[0m\u001b[0;34m\u001b[0m\u001b[0m\n",
      "\u001b[0;32m<ipython-input-6-7e1e6714c74e>\u001b[0m in \u001b[0;36mtraining\u001b[0;34m(model, wave, lr_k, k)\u001b[0m\n\u001b[1;32m     87\u001b[0m         \u001b[0mkoptimizer\u001b[0m\u001b[0;34m.\u001b[0m\u001b[0mzero_grad\u001b[0m\u001b[0;34m(\u001b[0m\u001b[0;34m)\u001b[0m\u001b[0;34m\u001b[0m\u001b[0;34m\u001b[0m\u001b[0m\n\u001b[1;32m     88\u001b[0m         \u001b[0;31m# Evaluate the model\u001b[0m\u001b[0;34m\u001b[0m\u001b[0;34m\u001b[0m\u001b[0;34m\u001b[0m\u001b[0m\n\u001b[0;32m---> 89\u001b[0;31m         \u001b[0mloss\u001b[0m \u001b[0;34m=\u001b[0m \u001b[0mevaluation\u001b[0m\u001b[0;34m(\u001b[0m\u001b[0mnew_model\u001b[0m\u001b[0;34m,\u001b[0m \u001b[0mwave\u001b[0m\u001b[0;34m,\u001b[0m \u001b[0mitem\u001b[0m \u001b[0;34m=\u001b[0m \u001b[0;32mFalse\u001b[0m\u001b[0;34m)\u001b[0m\u001b[0;34m\u001b[0m\u001b[0;34m\u001b[0m\u001b[0m\n\u001b[0m\u001b[1;32m     90\u001b[0m         \u001b[0;31m# Backpropagate\u001b[0m\u001b[0;34m\u001b[0m\u001b[0;34m\u001b[0m\u001b[0;34m\u001b[0m\u001b[0m\n\u001b[1;32m     91\u001b[0m         \u001b[0mloss\u001b[0m\u001b[0;34m.\u001b[0m\u001b[0mbackward\u001b[0m\u001b[0;34m(\u001b[0m\u001b[0;34m)\u001b[0m\u001b[0;34m\u001b[0m\u001b[0;34m\u001b[0m\u001b[0m\n",
      "\u001b[0;32m<ipython-input-6-7e1e6714c74e>\u001b[0m in \u001b[0;36mevaluation\u001b[0;34m(new_model, wave, item)\u001b[0m\n\u001b[1;32m     69\u001b[0m     \u001b[0mx\u001b[0m\u001b[0;34m,\u001b[0m \u001b[0mlabel\u001b[0m \u001b[0;34m=\u001b[0m \u001b[0mget_samples_in_good_format\u001b[0m\u001b[0;34m(\u001b[0m\u001b[0mwave\u001b[0m\u001b[0;34m)\u001b[0m\u001b[0;34m\u001b[0m\u001b[0;34m\u001b[0m\u001b[0m\n\u001b[1;32m     70\u001b[0m     \u001b[0;31m# Make model prediction\u001b[0m\u001b[0;34m\u001b[0m\u001b[0;34m\u001b[0m\u001b[0;34m\u001b[0m\u001b[0m\n\u001b[0;32m---> 71\u001b[0;31m     \u001b[0mprediction\u001b[0m \u001b[0;34m=\u001b[0m \u001b[0mnew_model\u001b[0m\u001b[0;34m(\u001b[0m\u001b[0mx\u001b[0m\u001b[0;34m)\u001b[0m\u001b[0;34m\u001b[0m\u001b[0;34m\u001b[0m\u001b[0m\n\u001b[0m\u001b[1;32m     72\u001b[0m     \u001b[0;31m# Get loss\u001b[0m\u001b[0;34m\u001b[0m\u001b[0;34m\u001b[0m\u001b[0;34m\u001b[0m\u001b[0m\n\u001b[1;32m     73\u001b[0m     \u001b[0;32mif\u001b[0m \u001b[0mitem\u001b[0m \u001b[0;34m==\u001b[0m \u001b[0;32mTrue\u001b[0m\u001b[0;34m:\u001b[0m \u001b[0;31m#Depending on whether we need to return the loss value for storing or for backprop\u001b[0m\u001b[0;34m\u001b[0m\u001b[0;34m\u001b[0m\u001b[0m\n",
      "\u001b[0;32m/usr/local/lib/python3.7/dist-packages/torch/nn/modules/module.py\u001b[0m in \u001b[0;36m_call_impl\u001b[0;34m(self, *input, **kwargs)\u001b[0m\n\u001b[1;32m   1100\u001b[0m         if not (self._backward_hooks or self._forward_hooks or self._forward_pre_hooks or _global_backward_hooks\n\u001b[1;32m   1101\u001b[0m                 or _global_forward_hooks or _global_forward_pre_hooks):\n\u001b[0;32m-> 1102\u001b[0;31m             \u001b[0;32mreturn\u001b[0m \u001b[0mforward_call\u001b[0m\u001b[0;34m(\u001b[0m\u001b[0;34m*\u001b[0m\u001b[0minput\u001b[0m\u001b[0;34m,\u001b[0m \u001b[0;34m**\u001b[0m\u001b[0mkwargs\u001b[0m\u001b[0;34m)\u001b[0m\u001b[0;34m\u001b[0m\u001b[0;34m\u001b[0m\u001b[0m\n\u001b[0m\u001b[1;32m   1103\u001b[0m         \u001b[0;31m# Do not call functions when jit is used\u001b[0m\u001b[0;34m\u001b[0m\u001b[0;34m\u001b[0m\u001b[0;34m\u001b[0m\u001b[0m\n\u001b[1;32m   1104\u001b[0m         \u001b[0mfull_backward_hooks\u001b[0m\u001b[0;34m,\u001b[0m \u001b[0mnon_full_backward_hooks\u001b[0m \u001b[0;34m=\u001b[0m \u001b[0;34m[\u001b[0m\u001b[0;34m]\u001b[0m\u001b[0;34m,\u001b[0m \u001b[0;34m[\u001b[0m\u001b[0;34m]\u001b[0m\u001b[0;34m\u001b[0m\u001b[0;34m\u001b[0m\u001b[0m\n",
      "\u001b[0;32m<ipython-input-5-c1aae08626a2>\u001b[0m in \u001b[0;36mforward\u001b[0;34m(self, x)\u001b[0m\n\u001b[1;32m     15\u001b[0m         \u001b[0mx\u001b[0m \u001b[0;34m=\u001b[0m \u001b[0mself\u001b[0m\u001b[0;34m.\u001b[0m\u001b[0mrelu\u001b[0m\u001b[0;34m(\u001b[0m\u001b[0mx\u001b[0m\u001b[0;34m)\u001b[0m\u001b[0;34m\u001b[0m\u001b[0;34m\u001b[0m\u001b[0m\n\u001b[1;32m     16\u001b[0m         \u001b[0mx\u001b[0m \u001b[0;34m=\u001b[0m \u001b[0mself\u001b[0m\u001b[0;34m.\u001b[0m\u001b[0mhidden2\u001b[0m\u001b[0;34m(\u001b[0m\u001b[0mx\u001b[0m\u001b[0;34m)\u001b[0m\u001b[0;34m\u001b[0m\u001b[0;34m\u001b[0m\u001b[0m\n\u001b[0;32m---> 17\u001b[0;31m         \u001b[0mx\u001b[0m \u001b[0;34m=\u001b[0m \u001b[0mself\u001b[0m\u001b[0;34m.\u001b[0m\u001b[0mrelu\u001b[0m\u001b[0;34m(\u001b[0m\u001b[0mx\u001b[0m\u001b[0;34m)\u001b[0m\u001b[0;34m\u001b[0m\u001b[0;34m\u001b[0m\u001b[0m\n\u001b[0m\u001b[1;32m     18\u001b[0m         \u001b[0mx\u001b[0m \u001b[0;34m=\u001b[0m \u001b[0mself\u001b[0m\u001b[0;34m.\u001b[0m\u001b[0moutput_layer\u001b[0m\u001b[0;34m(\u001b[0m\u001b[0mx\u001b[0m\u001b[0;34m)\u001b[0m\u001b[0;34m\u001b[0m\u001b[0;34m\u001b[0m\u001b[0m\n\u001b[1;32m     19\u001b[0m         \u001b[0my\u001b[0m \u001b[0;34m=\u001b[0m \u001b[0mx\u001b[0m\u001b[0;34m\u001b[0m\u001b[0;34m\u001b[0m\u001b[0m\n",
      "\u001b[0;32m/usr/local/lib/python3.7/dist-packages/torch/nn/modules/module.py\u001b[0m in \u001b[0;36m_call_impl\u001b[0;34m(self, *input, **kwargs)\u001b[0m\n\u001b[1;32m   1100\u001b[0m         if not (self._backward_hooks or self._forward_hooks or self._forward_pre_hooks or _global_backward_hooks\n\u001b[1;32m   1101\u001b[0m                 or _global_forward_hooks or _global_forward_pre_hooks):\n\u001b[0;32m-> 1102\u001b[0;31m             \u001b[0;32mreturn\u001b[0m \u001b[0mforward_call\u001b[0m\u001b[0;34m(\u001b[0m\u001b[0;34m*\u001b[0m\u001b[0minput\u001b[0m\u001b[0;34m,\u001b[0m \u001b[0;34m**\u001b[0m\u001b[0mkwargs\u001b[0m\u001b[0;34m)\u001b[0m\u001b[0;34m\u001b[0m\u001b[0;34m\u001b[0m\u001b[0m\n\u001b[0m\u001b[1;32m   1103\u001b[0m         \u001b[0;31m# Do not call functions when jit is used\u001b[0m\u001b[0;34m\u001b[0m\u001b[0;34m\u001b[0m\u001b[0;34m\u001b[0m\u001b[0m\n\u001b[1;32m   1104\u001b[0m         \u001b[0mfull_backward_hooks\u001b[0m\u001b[0;34m,\u001b[0m \u001b[0mnon_full_backward_hooks\u001b[0m \u001b[0;34m=\u001b[0m \u001b[0;34m[\u001b[0m\u001b[0;34m]\u001b[0m\u001b[0;34m,\u001b[0m \u001b[0;34m[\u001b[0m\u001b[0;34m]\u001b[0m\u001b[0;34m\u001b[0m\u001b[0;34m\u001b[0m\u001b[0m\n",
      "\u001b[0;32m/usr/local/lib/python3.7/dist-packages/torch/nn/modules/activation.py\u001b[0m in \u001b[0;36mforward\u001b[0;34m(self, input)\u001b[0m\n\u001b[1;32m     96\u001b[0m \u001b[0;34m\u001b[0m\u001b[0m\n\u001b[1;32m     97\u001b[0m     \u001b[0;32mdef\u001b[0m \u001b[0mforward\u001b[0m\u001b[0;34m(\u001b[0m\u001b[0mself\u001b[0m\u001b[0;34m,\u001b[0m \u001b[0minput\u001b[0m\u001b[0;34m:\u001b[0m \u001b[0mTensor\u001b[0m\u001b[0;34m)\u001b[0m \u001b[0;34m->\u001b[0m \u001b[0mTensor\u001b[0m\u001b[0;34m:\u001b[0m\u001b[0;34m\u001b[0m\u001b[0;34m\u001b[0m\u001b[0m\n\u001b[0;32m---> 98\u001b[0;31m         \u001b[0;32mreturn\u001b[0m \u001b[0mF\u001b[0m\u001b[0;34m.\u001b[0m\u001b[0mrelu\u001b[0m\u001b[0;34m(\u001b[0m\u001b[0minput\u001b[0m\u001b[0;34m,\u001b[0m \u001b[0minplace\u001b[0m\u001b[0;34m=\u001b[0m\u001b[0mself\u001b[0m\u001b[0;34m.\u001b[0m\u001b[0minplace\u001b[0m\u001b[0;34m)\u001b[0m\u001b[0;34m\u001b[0m\u001b[0;34m\u001b[0m\u001b[0m\n\u001b[0m\u001b[1;32m     99\u001b[0m \u001b[0;34m\u001b[0m\u001b[0m\n\u001b[1;32m    100\u001b[0m     \u001b[0;32mdef\u001b[0m \u001b[0mextra_repr\u001b[0m\u001b[0;34m(\u001b[0m\u001b[0mself\u001b[0m\u001b[0;34m)\u001b[0m \u001b[0;34m->\u001b[0m \u001b[0mstr\u001b[0m\u001b[0;34m:\u001b[0m\u001b[0;34m\u001b[0m\u001b[0;34m\u001b[0m\u001b[0m\n",
      "\u001b[0;32m/usr/local/lib/python3.7/dist-packages/torch/nn/functional.py\u001b[0m in \u001b[0;36mrelu\u001b[0;34m(input, inplace)\u001b[0m\n\u001b[1;32m   1297\u001b[0m         \u001b[0mresult\u001b[0m \u001b[0;34m=\u001b[0m \u001b[0mtorch\u001b[0m\u001b[0;34m.\u001b[0m\u001b[0mrelu_\u001b[0m\u001b[0;34m(\u001b[0m\u001b[0minput\u001b[0m\u001b[0;34m)\u001b[0m\u001b[0;34m\u001b[0m\u001b[0;34m\u001b[0m\u001b[0m\n\u001b[1;32m   1298\u001b[0m     \u001b[0;32melse\u001b[0m\u001b[0;34m:\u001b[0m\u001b[0;34m\u001b[0m\u001b[0;34m\u001b[0m\u001b[0m\n\u001b[0;32m-> 1299\u001b[0;31m         \u001b[0mresult\u001b[0m \u001b[0;34m=\u001b[0m \u001b[0mtorch\u001b[0m\u001b[0;34m.\u001b[0m\u001b[0mrelu\u001b[0m\u001b[0;34m(\u001b[0m\u001b[0minput\u001b[0m\u001b[0;34m)\u001b[0m\u001b[0;34m\u001b[0m\u001b[0;34m\u001b[0m\u001b[0m\n\u001b[0m\u001b[1;32m   1300\u001b[0m     \u001b[0;32mreturn\u001b[0m \u001b[0mresult\u001b[0m\u001b[0;34m\u001b[0m\u001b[0;34m\u001b[0m\u001b[0m\n\u001b[1;32m   1301\u001b[0m \u001b[0;34m\u001b[0m\u001b[0m\n",
      "\u001b[0;31mKeyboardInterrupt\u001b[0m: "
     ]
    }
   ],
   "source": [
    "# Training loop\n",
    "for epoch in range(epochs):\n",
    "        \n",
    "    # Sample a sine wave (Task from training data)\n",
    "    wave = random.sample(SINE_TRAIN, 1)\n",
    "\n",
    "    # Update model predefined number of times based on k\n",
    "    new_model = training(model, wave[0], lr_k, k)\n",
    "\n",
    "    # Evalaute the loss for the training data\n",
    "    train_set_evaluation(new_model,wave[0],store_train_loss_meta)     \n",
    "    \n",
    "    #Meta-update --> Get gradient for meta loop and update\n",
    "    metaupdate(model,new_model,metaoptimizer)\n",
    "    \n",
    "    # Evalaute the loss for the test data\n",
    "    # Note that we need to sample the wave from the test data\n",
    "    wave = random.sample(SINE_TEST, 1)\n",
    "    test_set_validation(model,new_model,wave[0],lr_k,k,store_test_loss_meta)\n",
    "\n",
    "    # Print losses every 'printing_step' epochs\n",
    "    print_losses(epoch,store_train_loss_meta,store_test_loss_meta,printing_step)"
   ]
  },
  {
   "cell_type": "markdown",
   "id": "bQjoz6FYctJM",
   "metadata": {
    "id": "bQjoz6FYctJM"
   },
   "source": [
    "<h1> Few Shot learning with new meta-model"
   ]
  },
  {
   "cell_type": "markdown",
   "id": "m-SPUG5Bfpe9",
   "metadata": {
    "id": "m-SPUG5Bfpe9"
   },
   "source": [
    "The model performs good few shot learning"
   ]
  },
  {
   "cell_type": "code",
   "execution_count": 9,
   "id": "GY84TNs8JXVH",
   "metadata": {
    "colab": {
     "base_uri": "https://localhost:8080/",
     "height": 351
    },
    "id": "GY84TNs8JXVH",
    "outputId": "1f8f1545-9c7f-4c55-bd7a-520642859f4d"
   },
   "outputs": [
    {
     "name": "stderr",
     "output_type": "stream",
     "text": [
      "/usr/local/lib/python3.7/dist-packages/ipykernel_launcher.py:17: UserWarning: To copy construct from a tensor, it is recommended to use sourceTensor.clone().detach() or sourceTensor.clone().detach().requires_grad_(True), rather than torch.tensor(sourceTensor).\n",
      "/usr/local/lib/python3.7/dist-packages/ipykernel_launcher.py:18: UserWarning: To copy construct from a tensor, it is recommended to use sourceTensor.clone().detach() or sourceTensor.clone().detach().requires_grad_(True), rather than torch.tensor(sourceTensor).\n"
     ]
    },
    {
     "data": {
      "text/plain": [
       "Text(0.5, 0, 'k shots')"
      ]
     },
     "execution_count": 9,
     "metadata": {},
     "output_type": "execute_result"
    },
    {
     "data": {
      "image/png": "[encoded data removed]",
      "text/plain": [
       "<Figure size 432x288 with 1 Axes>"
      ]
     },
     "metadata": {
      "needs_background": "light"
     },
     "output_type": "display_data"
    }
   ],
   "source": [
    "wave = SineWaveTask_multi(); \n",
    "k_shot_updates = 4\n",
    "initialization_to_store_meta_losses()\n",
    "for shots in range(k_shot_updates):\n",
    "    new_model = training(model, wave, lr_k, shots)\n",
    "    train_set_evaluation(new_model,wave,store_train_loss_meta) \n",
    "\n",
    "plt.plot(store_train_loss_meta,label = 'Loss')\n",
    "plt.legend()\n",
    "plt.xlabel('k shots')"
   ]
  },
  {
   "cell_type": "markdown",
   "id": "7a4f7a50",
   "metadata": {
    "id": "5lL1NN2OPBSD"
   },
   "source": [
    "## Second-Order MAML "
   ]
  },
  {
   "cell_type": "code",
   "execution_count": 16,
   "id": "b19ec9d4",
   "metadata": {},
   "outputs": [
    {
     "name": "stdout",
     "output_type": "stream",
     "text": [
      "Iter =  0  Current Loss 4.405134677886963  Val Loss:  3.7866437435150146\n",
      "Iter =  5000  Current Loss 3.3949404376860834  Val Loss:  3.385582734503476\n"
     ]
    }
   ],
   "source": [
    "'''\n",
    "Handling computation graphs and second-order backprop help and partial inspiration from: \n",
    "- https://discuss.pytorch.org/t/how-to-save-computation-graph-of-a-gradient/128286/2 \n",
    "- https://discuss.pytorch.org/t/when-do-i-use-create-graph-in-autograd-grad/32853/3 \n",
    "- https://lucainiaoge.github.io/download/PyTorch-create_graph-is-true_Tutorial_and_Example.pdf\n",
    "- https://www.youtube.com/watch?v=IkDw22a8BDE\n",
    "- https://discuss.pytorch.org/t/how-to-manually-update-network-parameters-while-keeping-track-of-its-computational-graph/131642/2\n",
    "- https://discuss.pytorch.org/t/how-to-calculate-2nd-derivative-of-a-likelihood-function/15085/3\n",
    "- https://pytorch.org/tutorials/recipes/recipes/zeroing_out_gradients.html\n",
    "- https://higher.readthedocs.io/en/latest/toplevel.html\n",
    "\n",
    "Neural network configuration and helper class functions copied directly from \n",
    "-https://github.com/AdrienLE/ANIML/blob/master/ANIML.ipynb\n",
    "\n",
    "Note, different ways to refer to the task-specific vs. meta/aggregate updates to the parameters\n",
    "Sometimes called \"inner\" and \"outer\" loop, respectively\n",
    "Here, refered to as \"task_specific\" and \"agg\"/meta\" (the latter, for consistency w/ ocariz code)\n",
    "'''\n",
    "\n",
    "\n",
    "#Instantiate the model network\n",
    "model = Neural_Network_multi()\n",
    "# move to the current device (GPU or CPU)\n",
    "# help from: https://stackoverflow.com/questions/46704352/porting-pytorch-code-from-cpu-to-gpu\n",
    "model.to(device)\n",
    "\n",
    "T = 25 # num tasks\n",
    "N = 1 # number of inner loop steps (notation from: https://www.bayeswatch.com/2018/11/30/HTYM/)\n",
    "num_samples = 10 # number of samples to draw from the task\n",
    "lr_task_specific = 0.01 # task specific learning rate\n",
    "lr_meta = 0.001 # meta-update learning rate\n",
    "num_epochs = 10000#70001 #Number of iterations for outer loop\n",
    "printing_step = 5000 # show log of loss every x epochs\n",
    "\n",
    "#Used to store the validation losses\n",
    "metaLosses = []\n",
    "metaValLosses = []\n",
    "\n",
    "#Meta-optimizer for the outer loop\n",
    "meta_optimizer = torch.optim.Adam(model.parameters(), lr = lr_meta)\n",
    "\n",
    "#Inner optimizer, we were doing this by hand previously\n",
    "inner_loop_optimizer = torch.optim.SGD(model.parameters(), lr = lr_task_specific)\n",
    "\n",
    "for epoch in range(num_epochs):\n",
    "    # store loss over all tasks to then do a large meta-level update of initial params\n",
    "    # idea/help from video: https://www.youtube.com/watch?v=IkDw22a8BDE\n",
    "    meta_loss = None\n",
    "    \n",
    "    #Sample a new wave each time\n",
    "    waves = [SineWaveTask_multi() for _ in range(T)]\n",
    "    \n",
    "    #Loop through all of the tasks\n",
    "    for i, T_i in enumerate(waves): \n",
    "        held_out_task_specific_loss, _, _ = task_specific_train_and_eval(model, T_i, inner_loop_optimizer, N)\n",
    "        if meta_loss is None: \n",
    "            meta_loss = held_out_task_specific_loss\n",
    "        else:\n",
    "            meta_loss += held_out_task_specific_loss\n",
    "            \n",
    "    meta_optimizer.zero_grad()\n",
    "    meta_loss /= T\n",
    "    meta_loss.backward()\n",
    "    meta_optimizer.step()\n",
    "    metaLosses.append(meta_loss.item())\n",
    "    \n",
    "    # validation \n",
    "    val_wave = SineWaveTask_multi() # our own addition -- can vary\n",
    "    val_loss, _, _ = task_specific_train_and_eval(model, val_wave, inner_loop_optimizer, N)\n",
    "    metaValLosses.append(val_loss.item())\n",
    "    \n",
    "    if epoch % printing_step == 0:\n",
    "        print(\"Iter = \", epoch, \" Current Loss\", np.mean(metaLosses), \" Val Loss: \", np.mean(metaValLosses))\n",
    "        # saving model help from: \n",
    "        # https://pytorch.org/tutorials/beginner/saving_loading_models.html\n",
    "        torch.save(model.state_dict(), f\"{domain_type}_maml_model.pt\")"
   ]
  },
  {
   "cell_type": "markdown",
   "id": "07479119",
   "metadata": {},
   "source": [
    "<h1> Few Shot learning with new meta-model (MAML)"
   ]
  },
  {
   "cell_type": "code",
   "execution_count": 17,
   "id": "effd0720",
   "metadata": {},
   "outputs": [
    {
     "data": {
      "text/plain": [
       "(0.0, 10.0)"
      ]
     },
     "execution_count": 17,
     "metadata": {},
     "output_type": "execute_result"
    },
    {
     "data": {
      "image/png": "[encoded data removed]",
      "text/plain": [
       "<Figure size 432x288 with 1 Axes>"
      ]
     },
     "metadata": {
      "needs_background": "light"
     },
     "output_type": "display_data"
    }
   ],
   "source": [
    "# run k-shot to check how rapidly we are able to adapt to unseen tasks\n",
    "# starting w/ a single unseen task\n",
    "\n",
    "test_wave = SineWaveTask_multi()\n",
    "num_k_shots = 10\n",
    "\n",
    "# use model returned from earlier optimization\n",
    "inner_loop_optimizer = torch.optim.SGD(model.parameters(), lr = lr_task_specific)\n",
    "held_out_task_specific_loss, metaTrainLosses, _ = task_specific_train_and_eval(model, test_wave, inner_loop_optimizer, num_k_shots)\n",
    "\n",
    "plt.plot(metaTrainLosses)\n",
    "plt.xlim([0,num_k_shots])"
   ]
  },
  {
   "cell_type": "code",
   "execution_count": null,
   "id": "15a737d5",
   "metadata": {},
   "outputs": [],
   "source": []
  }
 ],
 "metadata": {
  "accelerator": "GPU",
  "colab": {
   "collapsed_sections": [],
   "name": "Reptile_multidimensional_sinewave.ipynb",
   "provenance": []
  },
  "kernelspec": {
   "display_name": "Python 3",
   "language": "python",
   "name": "python3"
  },
  "language_info": {
   "codemirror_mode": {
    "name": "ipython",
    "version": 3
   },
   "file_extension": ".py",
   "mimetype": "text/x-python",
   "name": "python",
   "nbconvert_exporter": "python",
   "pygments_lexer": "ipython3",
   "version": "3.8.8"
  }
 },
 "nbformat": 4,
 "nbformat_minor": 5
}
