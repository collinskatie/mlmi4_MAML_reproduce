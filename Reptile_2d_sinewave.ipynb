{
  "cells": [
    {
      "cell_type": "markdown",
      "source": [
        "<h1> Imports"
      ],
      "metadata": {
        "id": "UrjQGgr5nUHC"
      },
      "id": "UrjQGgr5nUHC"
    },
    {
      "cell_type": "code",
      "source": [
        "import matplotlib.pyplot as plt\n",
        "import numpy as np\n",
        "\n",
        "# Required imports for neural network\n",
        "import torch.nn as nn\n",
        "import torch\n",
        "from torch.autograd import Variable\n",
        "import random"
      ],
      "metadata": {
        "id": "eGl9mcc0nOMP"
      },
      "id": "eGl9mcc0nOMP",
      "execution_count": 1,
      "outputs": []
    },
    {
      "cell_type": "markdown",
      "source": [
        "<h1> Data Loading and Generation"
      ],
      "metadata": {
        "id": "T3KVOwFXFOY0"
      },
      "id": "T3KVOwFXFOY0"
    },
    {
      "cell_type": "markdown",
      "source": [
        "This Sine function generator is based on the repostory: https://github.com/AdrienLE/ANIML/blob/master/ANIML.ipynb"
      ],
      "metadata": {
        "id": "nMUUm70ufKHH"
      },
      "id": "nMUUm70ufKHH"
    },
    {
      "cell_type": "code",
      "source": [
        "class SineWaveTask_2d:\n",
        "    def __init__(self):\n",
        "        self.a1 = np.random.uniform(0.1, 5.0)\n",
        "        self.b1 = np.random.uniform(0, 2*np.pi)\n",
        "        self.a2 = np.random.uniform(0.1, 5.0)\n",
        "        self.b2 = np.random.uniform(0, 2*np.pi)\n",
        "        self.train_x = None\n",
        "        \n",
        "    def f(self, x,a,b):\n",
        "        return a * np.sin(x + b)\n",
        "        \n",
        "    def training_set(self, size=10, force_new=False):\n",
        "        if self.train_x is None and not force_new:\n",
        "            self.train_x = np.random.uniform(-5, 5, size)\n",
        "            x = self.train_x\n",
        "\n",
        "        elif not force_new:\n",
        "            x = self.train_x\n",
        "        else:\n",
        "            x = np.random.uniform(-5, 5, size)\n",
        "\n",
        "        y = self.f(x,self.a1,self.b1)\n",
        "        z = self.f(x,self.a2,self.b2)\n",
        "        return torch.Tensor(x[:,None]), torch.Tensor(np.concatenate((y[:,None],z[:,None]),axis=-1))\n",
        "    \n",
        "    def test_set(self, size=50):\n",
        "        x = np.linspace(-5, 5, size)\n",
        "        y = self.f(x,self.a1,self.b1)\n",
        "        z = self.f(x,self.a2,self.b2)\n",
        "\n",
        "        return torch.Tensor(x[:,None]), torch.Tensor(np.concatenate((y[:,None],z[:,None]),axis=-1))\n",
        "    \n",
        "\n",
        "TRAIN_SIZE = 20000\n",
        "TEST_SIZE = 1000\n",
        "SINE_TRAIN = [SineWaveTask_2d() for _ in range(TRAIN_SIZE)]\n",
        "SINE_TEST = [SineWaveTask_2d() for _ in range(TEST_SIZE)]"
      ],
      "metadata": {
        "id": "a3X51uGHDvSV"
      },
      "id": "a3X51uGHDvSV",
      "execution_count": 2,
      "outputs": []
    },
    {
      "cell_type": "code",
      "source": [
        "x, y_true = SINE_TRAIN[0].training_set()"
      ],
      "metadata": {
        "id": "Ahv9M3tAJrG7"
      },
      "id": "Ahv9M3tAJrG7",
      "execution_count": 3,
      "outputs": []
    },
    {
      "cell_type": "code",
      "source": [
        "y_true.shape"
      ],
      "metadata": {
        "colab": {
          "base_uri": "https://localhost:8080/"
        },
        "id": "jInHQnwIKKxH",
        "outputId": "84572d3f-0723-4b41-cf18-77c89ab69958"
      },
      "id": "jInHQnwIKKxH",
      "execution_count": 4,
      "outputs": [
        {
          "output_type": "execute_result",
          "data": {
            "text/plain": [
              "torch.Size([10, 2])"
            ]
          },
          "metadata": {},
          "execution_count": 4
        }
      ]
    },
    {
      "cell_type": "markdown",
      "source": [
        "<h1> Neural Network Model"
      ],
      "metadata": {
        "id": "cu4urLF7Q88A"
      },
      "id": "cu4urLF7Q88A"
    },
    {
      "cell_type": "code",
      "source": [
        "# Define network\n",
        "class Neural_Network_2d(nn.Module):\n",
        "    def __init__(self, input_size=1, hidden_size=40, output_size=2):\n",
        "        super(Neural_Network_2d, self).__init__()\n",
        "        # network layers\n",
        "        self.hidden1 = nn.Linear(input_size,hidden_size)\n",
        "        self.hidden2 = nn.Linear(hidden_size,hidden_size)\n",
        "        self.output_layer = nn.Linear(hidden_size,output_size)\n",
        "\n",
        "        #Activation functions\n",
        "        self.relu = nn.ReLU()\n",
        "        \n",
        "    def forward(self, x):\n",
        "        x = self.hidden1(x)\n",
        "        x = self.relu(x)\n",
        "        x = self.hidden2(x)\n",
        "        x = self.relu(x)\n",
        "        x = self.output_layer(x)\n",
        "        y = x\n",
        "        return y\n"
      ],
      "metadata": {
        "id": "R1B0YTz6ytyN"
      },
      "id": "R1B0YTz6ytyN",
      "execution_count": 5,
      "outputs": []
    },
    {
      "cell_type": "markdown",
      "source": [
        "<h1> Helper functions"
      ],
      "metadata": {
        "id": "G-ExWACxQ3mt"
      },
      "id": "G-ExWACxQ3mt"
    },
    {
      "cell_type": "code",
      "source": [
        "# The Minimum Square Error is used to evaluate the difference between prediction and ground truth\n",
        "criterion = nn.MSELoss()\n",
        "\n",
        "def copy_existing_model(model):\n",
        "    # Function to copy an existing model\n",
        "    # We initialize a new model\n",
        "    new_model = Neural_Network_2d()\n",
        "    # Copy the previous model's parameters into the new model\n",
        "    new_model.load_state_dict(model.state_dict())\n",
        "    return new_model\n",
        "\n",
        "def get_samples_in_good_format(wave):\n",
        "  #This function is used to sample data from a wave\n",
        "  x, y_true = wave.training_set()\n",
        "  # We add [:,None] to get the right dimensions to pass to the model: we want K x 1 (we have scalars inputs hence the x 1)\n",
        "  # Note that we convert everything torch tensors\n",
        "  x = torch.tensor(x)\n",
        "  y_true = torch.tensor(y_true)\n",
        "  return x,y_true\n",
        "\n",
        "def initialization_to_store_meta_losses():\n",
        "  # This function creates lists to store the meta losses\n",
        "  global store_train_loss_meta; store_train_loss_meta = []\n",
        "  global store_test_loss_meta; store_test_loss_meta = []\n",
        "\n",
        "def test_set_validation(model,new_model,wave,lr_inner,k,store_test_loss_meta):\n",
        "    # This functions does not actually affect the main algorithm, it is just used to evaluate the new model\n",
        "    new_model = training(model, wave, lr_inner, k)\n",
        "    # Obtain the loss\n",
        "    loss = evaluation(new_model, wave)\n",
        "    # Store loss\n",
        "    store_test_loss_meta.append(loss)\n",
        "\n",
        "def train_set_evaluation(new_model,wave,store_train_loss_meta):\n",
        "    loss = evaluation(new_model, wave)\n",
        "    store_train_loss_meta.append(loss) \n",
        "\n",
        "def print_losses(epoch,store_train_loss_meta,store_test_loss_meta,printing_step=1000):\n",
        "  if epoch % printing_step == 0:\n",
        "    print(f'Epochh : {epoch}, Average Train Meta Loss : {np.mean(store_train_loss_meta)}, Average Test Meta Loss : {np.mean(store_test_loss_meta)}')\n",
        "\n",
        "#This is based on the paper update rule, we calculate the difference between parameters and then this is used by the optimizer, rather than doing the update by hand\n",
        "def reptile_parameter_update(model,new_model):\n",
        "  # Zip models for the loop\n",
        "  zip_models = zip(model.parameters(), new_model.parameters())\n",
        "  for parameter, new_parameter in zip_models:\n",
        "    if parameter.grad is None:\n",
        "      parameter.grad = torch.tensor(torch.zeros_like(parameter))\n",
        "    # Here we are adding the gradient that will later be used by the optimizer\n",
        "    parameter.grad.data.add_(parameter.data - new_parameter.data)\n",
        "\n",
        "# Define commands in order needed for the metaupdate\n",
        "# Note that if we change the order it doesn't behave the same\n",
        "def metaoptimizer_update(metaoptimizer):\n",
        "  # Take step\n",
        "  metaoptimizer.step()\n",
        "  # Reset gradients\n",
        "  metaoptimizer.zero_grad()\n",
        "\n",
        "def metaupdate(model,new_model,metaoptimizer):\n",
        "  # Combine the two previous functions into a single metaupdate function\n",
        "  # First we calculate the gradients\n",
        "  reptile_parameter_update(model,new_model)\n",
        "  # Use those gradients in the optimizer\n",
        "  metaoptimizer_update(metaoptimizer)\n",
        "\n",
        "def evaluation(new_model, wave, item = True):\n",
        "    # Get data\n",
        "    x, label = get_samples_in_good_format(wave)\n",
        "    # Make model prediction\n",
        "    prediction = new_model(x)\n",
        "    # Get loss\n",
        "    if item == True: #Depending on whether we need to return the loss value for storing or for backprop\n",
        "      loss = criterion(prediction,label).item()\n",
        "    else:\n",
        "      loss = criterion(prediction,label)\n",
        "    return loss\n",
        "\n",
        "def training(model, wave, lr_k, k):\n",
        "    # Create new model which we will train on\n",
        "    new_model = copy_existing_model(model)\n",
        "    # Define new optimizer\n",
        "    koptimizer = torch.optim.SGD(new_model.parameters(), lr=lr_k)\n",
        "    # Update the model multiple times, note that k>1 (do not confuse k with K)\n",
        "    for i in range(k):\n",
        "        # Reset optimizer\n",
        "        koptimizer.zero_grad()\n",
        "        # Evaluate the model\n",
        "        loss = evaluation(new_model, wave, item = False)\n",
        "        # Backpropagate\n",
        "        loss.backward()\n",
        "        koptimizer.step()\n",
        "    return new_model"
      ],
      "metadata": {
        "id": "1zyNHFXdOnug"
      },
      "id": "1zyNHFXdOnug",
      "execution_count": 6,
      "outputs": []
    },
    {
      "cell_type": "markdown",
      "source": [
        "<h1> Reptile"
      ],
      "metadata": {
        "id": "-4Ps8P2IRCmF"
      },
      "id": "-4Ps8P2IRCmF"
    },
    {
      "cell_type": "code",
      "source": [
        "#Define important variables\n",
        "epochs = int(1e5) # number of epochs \n",
        "lr_meta=0.001 # Learning rate for meta model (outer loop)\n",
        "printing_step=1000 # how many epochs should we wait to print the loss\n",
        "lr_k=0.01 # Internal learning rate\n",
        "k=5 # Number of internal updates for each task\n",
        "\n",
        "# Initializations\n",
        "initialization_to_store_meta_losses()\n",
        "model = Neural_Network_2d()\n",
        "metaoptimizer = torch.optim.Adam(model.parameters(), lr=lr_meta)"
      ],
      "metadata": {
        "id": "8ogpg_DHizlC"
      },
      "id": "8ogpg_DHizlC",
      "execution_count": 7,
      "outputs": []
    },
    {
      "cell_type": "code",
      "source": [
        "# Training loop\n",
        "for epoch in range(epochs):\n",
        "        \n",
        "    # Sample a sine wave (Task from training data)\n",
        "    wave = random.sample(SINE_TRAIN, 1)\n",
        "\n",
        "    # Update model predefined number of times based on k\n",
        "    new_model = training(model, wave[0], lr_k, k)\n",
        "\n",
        "    # Evalaute the loss for the training data\n",
        "    train_set_evaluation(new_model,wave[0],store_train_loss_meta)     \n",
        "    \n",
        "    #Meta-update --> Get gradient for meta loop and update\n",
        "    metaupdate(model,new_model,metaoptimizer)\n",
        "    \n",
        "    # Evalaute the loss for the test data\n",
        "    # Note that we need to sample the wave from the test data\n",
        "    wave = random.sample(SINE_TEST, 1)\n",
        "    test_set_validation(model,new_model,wave[0],lr_k,k,store_test_loss_meta)\n",
        "\n",
        "    # Print losses every 'printing_step' epochs\n",
        "    print_losses(epoch,store_train_loss_meta,store_test_loss_meta,printing_step)"
      ],
      "metadata": {
        "colab": {
          "base_uri": "https://localhost:8080/",
          "height": 1000
        },
        "id": "-4-zQWWKFt3s",
        "outputId": "adce3b9d-c7fc-4e0a-96bc-b47ae28cb13e"
      },
      "id": "-4-zQWWKFt3s",
      "execution_count": 8,
      "outputs": [
        {
          "output_type": "stream",
          "name": "stderr",
          "text": [
            "/usr/local/lib/python3.7/dist-packages/ipykernel_launcher.py:17: UserWarning: To copy construct from a tensor, it is recommended to use sourceTensor.clone().detach() or sourceTensor.clone().detach().requires_grad_(True), rather than torch.tensor(sourceTensor).\n",
            "/usr/local/lib/python3.7/dist-packages/ipykernel_launcher.py:18: UserWarning: To copy construct from a tensor, it is recommended to use sourceTensor.clone().detach() or sourceTensor.clone().detach().requires_grad_(True), rather than torch.tensor(sourceTensor).\n",
            "/usr/local/lib/python3.7/dist-packages/ipykernel_launcher.py:48: UserWarning: To copy construct from a tensor, it is recommended to use sourceTensor.clone().detach() or sourceTensor.clone().detach().requires_grad_(True), rather than torch.tensor(sourceTensor).\n"
          ]
        },
        {
          "output_type": "stream",
          "name": "stdout",
          "text": [
            "Epochh : 0, Average Train Meta Loss : 0.36255255341529846, Average Test Meta Loss : 0.07969143241643906\n",
            "Epochh : 1000, Average Train Meta Loss : 2.8062072619405036, Average Test Meta Loss : 2.8535413439371635\n",
            "Epochh : 2000, Average Train Meta Loss : 2.7312388927836357, Average Test Meta Loss : 2.7455873146545198\n",
            "Epochh : 3000, Average Train Meta Loss : 2.640660595238489, Average Test Meta Loss : 2.6786386189440448\n",
            "Epochh : 4000, Average Train Meta Loss : 2.5298041050765554, Average Test Meta Loss : 2.539439231088868\n",
            "Epochh : 5000, Average Train Meta Loss : 2.3634023491470666, Average Test Meta Loss : 2.3674584637278526\n",
            "Epochh : 6000, Average Train Meta Loss : 2.160077544926422, Average Test Meta Loss : 2.161568236242253\n",
            "Epochh : 7000, Average Train Meta Loss : 1.9534735327667412, Average Test Meta Loss : 1.9545850346790494\n",
            "Epochh : 8000, Average Train Meta Loss : 1.7739084462751387, Average Test Meta Loss : 1.7792212764790216\n",
            "Epochh : 9000, Average Train Meta Loss : 1.627936845396052, Average Test Meta Loss : 1.6329237959509748\n",
            "Epochh : 10000, Average Train Meta Loss : 1.50273780964257, Average Test Meta Loss : 1.5092165478923176\n",
            "Epochh : 11000, Average Train Meta Loss : 1.3988906572535933, Average Test Meta Loss : 1.4064417594006973\n",
            "Epochh : 12000, Average Train Meta Loss : 1.3149315023365582, Average Test Meta Loss : 1.3216939361820168\n",
            "Epochh : 13000, Average Train Meta Loss : 1.2425653981265166, Average Test Meta Loss : 1.2496389770233856\n",
            "Epochh : 14000, Average Train Meta Loss : 1.176649791190833, Average Test Meta Loss : 1.187235009549299\n",
            "Epochh : 15000, Average Train Meta Loss : 1.119060876590259, Average Test Meta Loss : 1.1275156392115921\n",
            "Epochh : 16000, Average Train Meta Loss : 1.0683835075623782, Average Test Meta Loss : 1.0760044119488714\n",
            "Epochh : 17000, Average Train Meta Loss : 1.0249170878174785, Average Test Meta Loss : 1.032186851130477\n",
            "Epochh : 18000, Average Train Meta Loss : 0.9824514026924156, Average Test Meta Loss : 0.9929721658441427\n",
            "Epochh : 19000, Average Train Meta Loss : 0.9461376540690912, Average Test Meta Loss : 0.9573982967438182\n",
            "Epochh : 20000, Average Train Meta Loss : 0.9132823596753434, Average Test Meta Loss : 0.9219427037705146\n",
            "Epochh : 21000, Average Train Meta Loss : 0.8827632151606157, Average Test Meta Loss : 0.8915475198721793\n",
            "Epochh : 22000, Average Train Meta Loss : 0.8537910641138338, Average Test Meta Loss : 0.8625020956271333\n",
            "Epochh : 23000, Average Train Meta Loss : 0.8283358318127677, Average Test Meta Loss : 0.8368364327193791\n",
            "Epochh : 24000, Average Train Meta Loss : 0.8057145632606542, Average Test Meta Loss : 0.8127873461425354\n",
            "Epochh : 25000, Average Train Meta Loss : 0.7829327440904142, Average Test Meta Loss : 0.7927361038663009\n",
            "Epochh : 26000, Average Train Meta Loss : 0.7627261291164156, Average Test Meta Loss : 0.7724017856438007\n",
            "Epochh : 27000, Average Train Meta Loss : 0.7436138215626235, Average Test Meta Loss : 0.752743357987455\n",
            "Epochh : 28000, Average Train Meta Loss : 0.725100950601599, Average Test Meta Loss : 0.735879551717958\n",
            "Epochh : 29000, Average Train Meta Loss : 0.7077186292446779, Average Test Meta Loss : 0.7186164517728192\n",
            "Epochh : 30000, Average Train Meta Loss : 0.6925036366728319, Average Test Meta Loss : 0.7037489836548968\n",
            "Epochh : 31000, Average Train Meta Loss : 0.6773865179757482, Average Test Meta Loss : 0.6887314481447645\n",
            "Epochh : 32000, Average Train Meta Loss : 0.6641352896692951, Average Test Meta Loss : 0.6753664436100398\n",
            "Epochh : 33000, Average Train Meta Loss : 0.6512581458154616, Average Test Meta Loss : 0.6618825864436905\n",
            "Epochh : 34000, Average Train Meta Loss : 0.6381554846862205, Average Test Meta Loss : 0.6490863714129939\n",
            "Epochh : 35000, Average Train Meta Loss : 0.6266194092739665, Average Test Meta Loss : 0.6376304866456838\n",
            "Epochh : 36000, Average Train Meta Loss : 0.6157210977044866, Average Test Meta Loss : 0.6270669799026876\n",
            "Epochh : 37000, Average Train Meta Loss : 0.6043218259979721, Average Test Meta Loss : 0.6161447443553016\n",
            "Epochh : 38000, Average Train Meta Loss : 0.5947125037263351, Average Test Meta Loss : 0.6064843603597376\n",
            "Epochh : 39000, Average Train Meta Loss : 0.584706611942319, Average Test Meta Loss : 0.5963553793089161\n",
            "Epochh : 40000, Average Train Meta Loss : 0.5761878319875352, Average Test Meta Loss : 0.5869330944014967\n",
            "Epochh : 41000, Average Train Meta Loss : 0.567732201937105, Average Test Meta Loss : 0.5774521355395944\n",
            "Epochh : 42000, Average Train Meta Loss : 0.5592004757317139, Average Test Meta Loss : 0.5683346788002867\n",
            "Epochh : 43000, Average Train Meta Loss : 0.5508375847281758, Average Test Meta Loss : 0.559653858262853\n",
            "Epochh : 44000, Average Train Meta Loss : 0.5432918949159802, Average Test Meta Loss : 0.551284784079555\n",
            "Epochh : 45000, Average Train Meta Loss : 0.5354857069146732, Average Test Meta Loss : 0.5436401789174985\n",
            "Epochh : 46000, Average Train Meta Loss : 0.5284139512337213, Average Test Meta Loss : 0.5360910881634331\n",
            "Epochh : 47000, Average Train Meta Loss : 0.5222077459771612, Average Test Meta Loss : 0.528523765518435\n",
            "Epochh : 48000, Average Train Meta Loss : 0.5155473002628463, Average Test Meta Loss : 0.520901351869332\n",
            "Epochh : 49000, Average Train Meta Loss : 0.5088580631601302, Average Test Meta Loss : 0.5144006282758664\n",
            "Epochh : 50000, Average Train Meta Loss : 0.5023301723191426, Average Test Meta Loss : 0.5075254543926672\n",
            "Epochh : 51000, Average Train Meta Loss : 0.4964684679004194, Average Test Meta Loss : 0.5011082583999373\n",
            "Epochh : 52000, Average Train Meta Loss : 0.4902666013055739, Average Test Meta Loss : 0.49477056893989135\n",
            "Epochh : 53000, Average Train Meta Loss : 0.484143555239048, Average Test Meta Loss : 0.4886561375123648\n",
            "Epochh : 54000, Average Train Meta Loss : 0.4782892619454583, Average Test Meta Loss : 0.4824279235476793\n",
            "Epochh : 55000, Average Train Meta Loss : 0.4728342114273183, Average Test Meta Loss : 0.4768537894346811\n",
            "Epochh : 56000, Average Train Meta Loss : 0.4675588394245526, Average Test Meta Loss : 0.4709582025869577\n",
            "Epochh : 57000, Average Train Meta Loss : 0.46260003346200224, Average Test Meta Loss : 0.4655939975313995\n",
            "Epochh : 58000, Average Train Meta Loss : 0.4574393076588255, Average Test Meta Loss : 0.4600158591314364\n",
            "Epochh : 59000, Average Train Meta Loss : 0.4527812416173431, Average Test Meta Loss : 0.4552924819489729\n",
            "Epochh : 60000, Average Train Meta Loss : 0.4479617891611655, Average Test Meta Loss : 0.45037137111885284\n",
            "Epochh : 61000, Average Train Meta Loss : 0.4436462249926252, Average Test Meta Loss : 0.445267834734204\n",
            "Epochh : 62000, Average Train Meta Loss : 0.43943449359776027, Average Test Meta Loss : 0.44042703112056775\n",
            "Epochh : 63000, Average Train Meta Loss : 0.4346939155008596, Average Test Meta Loss : 0.4361321297620651\n",
            "Epochh : 64000, Average Train Meta Loss : 0.43038159859472574, Average Test Meta Loss : 0.43181795064790646\n",
            "Epochh : 65000, Average Train Meta Loss : 0.4261745912382898, Average Test Meta Loss : 0.4280836821621482\n",
            "Epochh : 66000, Average Train Meta Loss : 0.42244559461593106, Average Test Meta Loss : 0.42398640152937367\n",
            "Epochh : 67000, Average Train Meta Loss : 0.41866462947608724, Average Test Meta Loss : 0.4200382134307062\n",
            "Epochh : 68000, Average Train Meta Loss : 0.4145115184357188, Average Test Meta Loss : 0.4160672254845814\n",
            "Epochh : 69000, Average Train Meta Loss : 0.410614865218595, Average Test Meta Loss : 0.4120533077398193\n",
            "Epochh : 70000, Average Train Meta Loss : 0.4069885402223142, Average Test Meta Loss : 0.40834589313609726\n",
            "Epochh : 71000, Average Train Meta Loss : 0.4036721987579573, Average Test Meta Loss : 0.40509552070918436\n",
            "Epochh : 72000, Average Train Meta Loss : 0.40081778228222037, Average Test Meta Loss : 0.4021736539343156\n",
            "Epochh : 73000, Average Train Meta Loss : 0.397567716851481, Average Test Meta Loss : 0.3985366575066036\n",
            "Epochh : 74000, Average Train Meta Loss : 0.3944677258295658, Average Test Meta Loss : 0.39522062063982205\n",
            "Epochh : 75000, Average Train Meta Loss : 0.39122611016784714, Average Test Meta Loss : 0.39201645197156637\n",
            "Epochh : 76000, Average Train Meta Loss : 0.38831022666146725, Average Test Meta Loss : 0.3889227424239683\n",
            "Epochh : 77000, Average Train Meta Loss : 0.38526272534783224, Average Test Meta Loss : 0.3855669219632381\n",
            "Epochh : 78000, Average Train Meta Loss : 0.3820523623286831, Average Test Meta Loss : 0.38230917427920813\n",
            "Epochh : 79000, Average Train Meta Loss : 0.3792392015812127, Average Test Meta Loss : 0.3790940995093474\n",
            "Epochh : 80000, Average Train Meta Loss : 0.3766288023531762, Average Test Meta Loss : 0.3760136887604532\n",
            "Epochh : 81000, Average Train Meta Loss : 0.37367288436541435, Average Test Meta Loss : 0.3727200970646059\n",
            "Epochh : 82000, Average Train Meta Loss : 0.37058825155586955, Average Test Meta Loss : 0.3696899005647178\n",
            "Epochh : 83000, Average Train Meta Loss : 0.3679301309213974, Average Test Meta Loss : 0.3668229348421868\n",
            "Epochh : 84000, Average Train Meta Loss : 0.36543048148418356, Average Test Meta Loss : 0.363771925833002\n",
            "Epochh : 85000, Average Train Meta Loss : 0.36266433993248864, Average Test Meta Loss : 0.3612043539345923\n",
            "Epochh : 86000, Average Train Meta Loss : 0.3601987114466882, Average Test Meta Loss : 0.3583789594068763\n",
            "Epochh : 87000, Average Train Meta Loss : 0.35761464610854576, Average Test Meta Loss : 0.3556085891383756\n",
            "Epochh : 88000, Average Train Meta Loss : 0.3550042379813813, Average Test Meta Loss : 0.3533656798898604\n",
            "Epochh : 89000, Average Train Meta Loss : 0.3523868893966572, Average Test Meta Loss : 0.3506101458515611\n",
            "Epochh : 90000, Average Train Meta Loss : 0.34964322848200075, Average Test Meta Loss : 0.3484829967936215\n",
            "Epochh : 91000, Average Train Meta Loss : 0.3471875087996068, Average Test Meta Loss : 0.34613014357759003\n",
            "Epochh : 92000, Average Train Meta Loss : 0.344845974109924, Average Test Meta Loss : 0.343529254509779\n",
            "Epochh : 93000, Average Train Meta Loss : 0.34252579123698956, Average Test Meta Loss : 0.34077720255582256\n",
            "Epochh : 94000, Average Train Meta Loss : 0.33999094731482193, Average Test Meta Loss : 0.3382076541556843\n",
            "Epochh : 95000, Average Train Meta Loss : 0.3376019729982514, Average Test Meta Loss : 0.33567616442804143\n"
          ]
        },
        {
          "output_type": "error",
          "ename": "KeyboardInterrupt",
          "evalue": "ignored",
          "traceback": [
            "\u001b[0;31m---------------------------------------------------------------------------\u001b[0m",
            "\u001b[0;31mKeyboardInterrupt\u001b[0m                         Traceback (most recent call last)",
            "\u001b[0;32m<ipython-input-8-3cd69cebc74b>\u001b[0m in \u001b[0;36m<module>\u001b[0;34m()\u001b[0m\n\u001b[1;32m     17\u001b[0m     \u001b[0;31m# Note that we need to sample the wave from the test data\u001b[0m\u001b[0;34m\u001b[0m\u001b[0;34m\u001b[0m\u001b[0;34m\u001b[0m\u001b[0m\n\u001b[1;32m     18\u001b[0m     \u001b[0mwave\u001b[0m \u001b[0;34m=\u001b[0m \u001b[0mrandom\u001b[0m\u001b[0;34m.\u001b[0m\u001b[0msample\u001b[0m\u001b[0;34m(\u001b[0m\u001b[0mSINE_TEST\u001b[0m\u001b[0;34m,\u001b[0m \u001b[0;36m1\u001b[0m\u001b[0;34m)\u001b[0m\u001b[0;34m\u001b[0m\u001b[0;34m\u001b[0m\u001b[0m\n\u001b[0;32m---> 19\u001b[0;31m     \u001b[0mtest_set_validation\u001b[0m\u001b[0;34m(\u001b[0m\u001b[0mmodel\u001b[0m\u001b[0;34m,\u001b[0m\u001b[0mnew_model\u001b[0m\u001b[0;34m,\u001b[0m\u001b[0mwave\u001b[0m\u001b[0;34m[\u001b[0m\u001b[0;36m0\u001b[0m\u001b[0;34m]\u001b[0m\u001b[0;34m,\u001b[0m\u001b[0mlr_k\u001b[0m\u001b[0;34m,\u001b[0m\u001b[0mk\u001b[0m\u001b[0;34m,\u001b[0m\u001b[0mstore_test_loss_meta\u001b[0m\u001b[0;34m)\u001b[0m\u001b[0;34m\u001b[0m\u001b[0;34m\u001b[0m\u001b[0m\n\u001b[0m\u001b[1;32m     20\u001b[0m \u001b[0;34m\u001b[0m\u001b[0m\n\u001b[1;32m     21\u001b[0m     \u001b[0;31m# Print losses every 'printing_step' epochs\u001b[0m\u001b[0;34m\u001b[0m\u001b[0;34m\u001b[0m\u001b[0;34m\u001b[0m\u001b[0m\n",
            "\u001b[0;32m<ipython-input-6-262b3d038012>\u001b[0m in \u001b[0;36mtest_set_validation\u001b[0;34m(model, new_model, wave, lr_inner, k, store_test_loss_meta)\u001b[0m\n\u001b[1;32m     26\u001b[0m \u001b[0;32mdef\u001b[0m \u001b[0mtest_set_validation\u001b[0m\u001b[0;34m(\u001b[0m\u001b[0mmodel\u001b[0m\u001b[0;34m,\u001b[0m\u001b[0mnew_model\u001b[0m\u001b[0;34m,\u001b[0m\u001b[0mwave\u001b[0m\u001b[0;34m,\u001b[0m\u001b[0mlr_inner\u001b[0m\u001b[0;34m,\u001b[0m\u001b[0mk\u001b[0m\u001b[0;34m,\u001b[0m\u001b[0mstore_test_loss_meta\u001b[0m\u001b[0;34m)\u001b[0m\u001b[0;34m:\u001b[0m\u001b[0;34m\u001b[0m\u001b[0;34m\u001b[0m\u001b[0m\n\u001b[1;32m     27\u001b[0m     \u001b[0;31m# This functions does not actually affect the main algorithm, it is just used to evaluate the new model\u001b[0m\u001b[0;34m\u001b[0m\u001b[0;34m\u001b[0m\u001b[0;34m\u001b[0m\u001b[0m\n\u001b[0;32m---> 28\u001b[0;31m     \u001b[0mnew_model\u001b[0m \u001b[0;34m=\u001b[0m \u001b[0mtraining\u001b[0m\u001b[0;34m(\u001b[0m\u001b[0mmodel\u001b[0m\u001b[0;34m,\u001b[0m \u001b[0mwave\u001b[0m\u001b[0;34m,\u001b[0m \u001b[0mlr_inner\u001b[0m\u001b[0;34m,\u001b[0m \u001b[0mk\u001b[0m\u001b[0;34m)\u001b[0m\u001b[0;34m\u001b[0m\u001b[0;34m\u001b[0m\u001b[0m\n\u001b[0m\u001b[1;32m     29\u001b[0m     \u001b[0;31m# Obtain the loss\u001b[0m\u001b[0;34m\u001b[0m\u001b[0;34m\u001b[0m\u001b[0;34m\u001b[0m\u001b[0m\n\u001b[1;32m     30\u001b[0m     \u001b[0mloss\u001b[0m \u001b[0;34m=\u001b[0m \u001b[0mevaluation\u001b[0m\u001b[0;34m(\u001b[0m\u001b[0mnew_model\u001b[0m\u001b[0;34m,\u001b[0m \u001b[0mwave\u001b[0m\u001b[0;34m)\u001b[0m\u001b[0;34m\u001b[0m\u001b[0;34m\u001b[0m\u001b[0m\n",
            "\u001b[0;32m<ipython-input-6-262b3d038012>\u001b[0m in \u001b[0;36mtraining\u001b[0;34m(model, wave, lr_k, k)\u001b[0m\n\u001b[1;32m     89\u001b[0m         \u001b[0mloss\u001b[0m \u001b[0;34m=\u001b[0m \u001b[0mevaluation\u001b[0m\u001b[0;34m(\u001b[0m\u001b[0mnew_model\u001b[0m\u001b[0;34m,\u001b[0m \u001b[0mwave\u001b[0m\u001b[0;34m,\u001b[0m \u001b[0mitem\u001b[0m \u001b[0;34m=\u001b[0m \u001b[0;32mFalse\u001b[0m\u001b[0;34m)\u001b[0m\u001b[0;34m\u001b[0m\u001b[0;34m\u001b[0m\u001b[0m\n\u001b[1;32m     90\u001b[0m         \u001b[0;31m# Backpropagate\u001b[0m\u001b[0;34m\u001b[0m\u001b[0;34m\u001b[0m\u001b[0;34m\u001b[0m\u001b[0m\n\u001b[0;32m---> 91\u001b[0;31m         \u001b[0mloss\u001b[0m\u001b[0;34m.\u001b[0m\u001b[0mbackward\u001b[0m\u001b[0;34m(\u001b[0m\u001b[0;34m)\u001b[0m\u001b[0;34m\u001b[0m\u001b[0;34m\u001b[0m\u001b[0m\n\u001b[0m\u001b[1;32m     92\u001b[0m         \u001b[0mkoptimizer\u001b[0m\u001b[0;34m.\u001b[0m\u001b[0mstep\u001b[0m\u001b[0;34m(\u001b[0m\u001b[0;34m)\u001b[0m\u001b[0;34m\u001b[0m\u001b[0;34m\u001b[0m\u001b[0m\n\u001b[1;32m     93\u001b[0m     \u001b[0;32mreturn\u001b[0m \u001b[0mnew_model\u001b[0m\u001b[0;34m\u001b[0m\u001b[0;34m\u001b[0m\u001b[0m\n",
            "\u001b[0;32m/usr/local/lib/python3.7/dist-packages/torch/_tensor.py\u001b[0m in \u001b[0;36mbackward\u001b[0;34m(self, gradient, retain_graph, create_graph, inputs)\u001b[0m\n\u001b[1;32m    305\u001b[0m                 \u001b[0mcreate_graph\u001b[0m\u001b[0;34m=\u001b[0m\u001b[0mcreate_graph\u001b[0m\u001b[0;34m,\u001b[0m\u001b[0;34m\u001b[0m\u001b[0;34m\u001b[0m\u001b[0m\n\u001b[1;32m    306\u001b[0m                 inputs=inputs)\n\u001b[0;32m--> 307\u001b[0;31m         \u001b[0mtorch\u001b[0m\u001b[0;34m.\u001b[0m\u001b[0mautograd\u001b[0m\u001b[0;34m.\u001b[0m\u001b[0mbackward\u001b[0m\u001b[0;34m(\u001b[0m\u001b[0mself\u001b[0m\u001b[0;34m,\u001b[0m \u001b[0mgradient\u001b[0m\u001b[0;34m,\u001b[0m \u001b[0mretain_graph\u001b[0m\u001b[0;34m,\u001b[0m \u001b[0mcreate_graph\u001b[0m\u001b[0;34m,\u001b[0m \u001b[0minputs\u001b[0m\u001b[0;34m=\u001b[0m\u001b[0minputs\u001b[0m\u001b[0;34m)\u001b[0m\u001b[0;34m\u001b[0m\u001b[0;34m\u001b[0m\u001b[0m\n\u001b[0m\u001b[1;32m    308\u001b[0m \u001b[0;34m\u001b[0m\u001b[0m\n\u001b[1;32m    309\u001b[0m     \u001b[0;32mdef\u001b[0m \u001b[0mregister_hook\u001b[0m\u001b[0;34m(\u001b[0m\u001b[0mself\u001b[0m\u001b[0;34m,\u001b[0m \u001b[0mhook\u001b[0m\u001b[0;34m)\u001b[0m\u001b[0;34m:\u001b[0m\u001b[0;34m\u001b[0m\u001b[0;34m\u001b[0m\u001b[0m\n",
            "\u001b[0;32m/usr/local/lib/python3.7/dist-packages/torch/autograd/__init__.py\u001b[0m in \u001b[0;36mbackward\u001b[0;34m(tensors, grad_tensors, retain_graph, create_graph, grad_variables, inputs)\u001b[0m\n\u001b[1;32m    154\u001b[0m     Variable._execution_engine.run_backward(\n\u001b[1;32m    155\u001b[0m         \u001b[0mtensors\u001b[0m\u001b[0;34m,\u001b[0m \u001b[0mgrad_tensors_\u001b[0m\u001b[0;34m,\u001b[0m \u001b[0mretain_graph\u001b[0m\u001b[0;34m,\u001b[0m \u001b[0mcreate_graph\u001b[0m\u001b[0;34m,\u001b[0m \u001b[0minputs\u001b[0m\u001b[0;34m,\u001b[0m\u001b[0;34m\u001b[0m\u001b[0;34m\u001b[0m\u001b[0m\n\u001b[0;32m--> 156\u001b[0;31m         allow_unreachable=True, accumulate_grad=True)  # allow_unreachable flag\n\u001b[0m\u001b[1;32m    157\u001b[0m \u001b[0;34m\u001b[0m\u001b[0m\n\u001b[1;32m    158\u001b[0m \u001b[0;34m\u001b[0m\u001b[0m\n",
            "\u001b[0;31mKeyboardInterrupt\u001b[0m: "
          ]
        }
      ]
    },
    {
      "cell_type": "markdown",
      "source": [
        "<h1> Few Shot learning with new meta-model"
      ],
      "metadata": {
        "id": "bQjoz6FYctJM"
      },
      "id": "bQjoz6FYctJM"
    },
    {
      "cell_type": "markdown",
      "source": [
        "The model performs good few shot learning"
      ],
      "metadata": {
        "id": "m-SPUG5Bfpe9"
      },
      "id": "m-SPUG5Bfpe9"
    },
    {
      "cell_type": "code",
      "source": [
        "wave = SineWaveTask_2d(); \n",
        "k_shot_updates = 4\n",
        "initialization_to_store_meta_losses()\n",
        "for shots in range(k_shot_updates):\n",
        "    new_model = training(model, wave, lr_k, shots)\n",
        "    train_set_evaluation(new_model,wave,store_train_loss_meta) \n",
        "\n",
        "plt.plot(store_train_loss_meta,label = 'Loss')\n",
        "plt.legend()\n",
        "plt.xlabel('k shots')"
      ],
      "metadata": {
        "colab": {
          "base_uri": "https://localhost:8080/",
          "height": 353
        },
        "id": "GY84TNs8JXVH",
        "outputId": "7806e761-dd72-4b36-9410-1ac9c35ba552"
      },
      "id": "GY84TNs8JXVH",
      "execution_count": 9,
      "outputs": [
        {
          "output_type": "stream",
          "name": "stderr",
          "text": [
            "/usr/local/lib/python3.7/dist-packages/ipykernel_launcher.py:17: UserWarning: To copy construct from a tensor, it is recommended to use sourceTensor.clone().detach() or sourceTensor.clone().detach().requires_grad_(True), rather than torch.tensor(sourceTensor).\n",
            "/usr/local/lib/python3.7/dist-packages/ipykernel_launcher.py:18: UserWarning: To copy construct from a tensor, it is recommended to use sourceTensor.clone().detach() or sourceTensor.clone().detach().requires_grad_(True), rather than torch.tensor(sourceTensor).\n"
          ]
        },
        {
          "output_type": "execute_result",
          "data": {
            "text/plain": [
              "Text(0.5, 0, 'k shots')"
            ]
          },
          "metadata": {},
          "execution_count": 9
        },
        {
          "output_type": "display_data",
          "data": {
            "image/png": "[encoded data removed]",
            "text/plain": [
              "<Figure size 432x288 with 1 Axes>"
            ]
          },
          "metadata": {
            "needs_background": "light"
          }
        }
      ]
    },
    {
      "cell_type": "code",
      "source": [
        ""
      ],
      "metadata": {
        "id": "5lL1NN2OPBSD"
      },
      "id": "5lL1NN2OPBSD",
      "execution_count": null,
      "outputs": []
    }
  ],
  "metadata": {
    "kernelspec": {
      "display_name": "Python 3",
      "language": "python",
      "name": "python3"
    },
    "language_info": {
      "codemirror_mode": {
        "name": "ipython",
        "version": 3
      },
      "file_extension": ".py",
      "mimetype": "text/x-python",
      "name": "python",
      "nbconvert_exporter": "python",
      "pygments_lexer": "ipython3",
      "version": "3.8.8"
    },
    "colab": {
      "name": "Reptile_2d_sinewave.ipynb",
      "provenance": [],
      "collapsed_sections": []
    },
    "accelerator": "GPU"
  },
  "nbformat": 4,
  "nbformat_minor": 5
}