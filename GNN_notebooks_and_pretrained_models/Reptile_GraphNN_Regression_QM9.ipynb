{
  "cells": [
    {
      "cell_type": "markdown",
      "metadata": {
        "id": "jNrO9U6opKV0"
      },
      "source": [
        "Notes: \n",
        "- some helper functions have been modified for this task\n",
        "- graph specific extra helper functions have been added\n",
        "- A normalization trick has been used to bound the regression target of all tasks between 0 and 1 and ease meta learning (note that in the original sinewave regression, a bound also existed on the y target based on the wave amplitude)."
      ],
      "id": "jNrO9U6opKV0"
    },
    {
      "cell_type": "markdown",
      "metadata": {
        "id": "UrjQGgr5nUHC"
      },
      "source": [
        "<h1> Imports and Installs"
      ],
      "id": "UrjQGgr5nUHC"
    },
    {
      "cell_type": "code",
      "execution_count": null,
      "metadata": {
        "id": "S2WfmJiVTDpE",
        "colab": {
          "base_uri": "https://localhost:8080/"
        },
        "outputId": "237bf9eb-807d-43bd-bb0e-7b1f8043b7b7"
      },
      "outputs": [
        {
          "output_type": "stream",
          "name": "stdout",
          "text": [
            "\u001b[K     |████████████████████████████████| 7.9 MB 9.6 MB/s \n",
            "\u001b[K     |████████████████████████████████| 3.5 MB 12.5 MB/s \n",
            "\u001b[?25h  Building wheel for torch-geometric (setup.py) ... \u001b[?25l\u001b[?25hdone\n"
          ]
        }
      ],
      "source": [
        "# Install required packages.\n",
        "!pip install -q torch-scatter -f https://pytorch-geometric.com/whl/torch-1.10.0+cu113.html\n",
        "!pip install -q torch-sparse -f https://pytorch-geometric.com/whl/torch-1.10.0+cu113.html\n",
        "!pip install -q git+https://github.com/rusty1s/pytorch_geometric.git"
      ],
      "id": "S2WfmJiVTDpE"
    },
    {
      "cell_type": "code",
      "execution_count": null,
      "metadata": {
        "id": "eGl9mcc0nOMP"
      },
      "outputs": [],
      "source": [
        "import matplotlib.pyplot as plt\n",
        "import numpy as np\n",
        "\n",
        "# Required imports for neural network\n",
        "import torch.nn as nn\n",
        "import torch\n",
        "from torch.autograd import Variable\n",
        "import random\n",
        "\n",
        "# For GNNs\n",
        "from torch.nn import Linear\n",
        "from torch.nn import BatchNorm1d\n",
        "import torch.nn.functional as F\n",
        "from torch_geometric.nn import GATv2Conv\n",
        "from torch_geometric.nn import GraphConv\n",
        "from torch_geometric.nn import GraphNorm\n",
        "from torch_geometric.nn import global_mean_pool\n",
        "from torch_geometric.nn import global_max_pool\n",
        "import torch.nn as nn"
      ],
      "id": "eGl9mcc0nOMP"
    },
    {
      "cell_type": "markdown",
      "metadata": {
        "id": "T3KVOwFXFOY0"
      },
      "source": [
        "<h1> Data Loading and Generation\n",
        "\n",
        "Reptile for regression task using GNNs\n",
        "\n",
        "Some common GNN datasets are here:\n",
        "https://pytorch-geometric.readthedocs.io/en/latest/modules/datasets.html#torch_geometric.datasets.GNNBenchmarkDataset\n",
        "\n",
        "We will use a regression dataset with 19 regression targets from the paper:\n",
        "“MoleculeNet: A Benchmark for Molecular Machine Learning”"
      ],
      "id": "T3KVOwFXFOY0"
    },
    {
      "cell_type": "markdown",
      "metadata": {
        "id": "jvvZSOiQe-Ne"
      },
      "source": [
        "For this implementation we focus on regressing only the Dipole moment"
      ],
      "id": "jvvZSOiQe-Ne"
    },
    {
      "cell_type": "code",
      "execution_count": null,
      "metadata": {
        "id": "4f6ABEuNpIBM"
      },
      "outputs": [],
      "source": [
        "# url = 'https://anaconda.org/rdkit/rdkit/2018.09.1.0/download/linux-64/rdkit-2018.09.1.0-py36h71b666b_1.tar.bz2'\n",
        "# !curl -L $url | tar xj lib\n",
        "# # move to python packages directory\n",
        "# !mv lib/python3.6/site-packages/rdkit /usr/local/lib/python3.6/dist-packages/\n",
        "# x86 = '/usr/lib/x86_64-linux-gnu'\n",
        "# !mv lib/*.so.* $x86/\n",
        "# # rdkit need libboost_python3.so.1.65.1\n",
        "# !ln -s $x86/libboost_python3-py36.so.1.65.1 $x86/libboost_python3.so.1.65.1"
      ],
      "id": "4f6ABEuNpIBM"
    },
    {
      "cell_type": "code",
      "execution_count": null,
      "metadata": {
        "id": "js9YzS3vpPOi"
      },
      "outputs": [],
      "source": [
        "# !pip install kora -q\n",
        "# import kora.install.rdkit"
      ],
      "id": "js9YzS3vpPOi"
    },
    {
      "cell_type": "code",
      "execution_count": null,
      "metadata": {
        "id": "PIExsutGTQcB",
        "colab": {
          "base_uri": "https://localhost:8080/"
        },
        "outputId": "939ba3c4-5486-4c4f-d073-b8c44da96a41"
      },
      "outputs": [
        {
          "output_type": "stream",
          "name": "stderr",
          "text": [
            "Downloading https://data.pyg.org/datasets/qm9_v3.zip\n",
            "Extracting data/QM9/raw/qm9_v3.zip\n",
            "Processing...\n",
            "Using a pre-processed version of the dataset. Please install 'rdkit' to alternatively process the raw data.\n",
            "Done!\n"
          ]
        }
      ],
      "source": [
        "import torch\n",
        "from torch_geometric.datasets import QM9\n",
        "#https://chrsmrrs.github.io/datasets/docs/datasets/ alchemy full from the TUDataset\n",
        "dataset = QM9(root='data/QM9')"
      ],
      "id": "PIExsutGTQcB"
    },
    {
      "cell_type": "code",
      "execution_count": null,
      "metadata": {
        "id": "LxK2rDRNTSxd"
      },
      "outputs": [],
      "source": [
        "# This function is based on https://pytorch-geometric.readthedocs.io/en/latest/notes/colabs.html\n",
        "\n",
        "#Function to display properties of the dataset (it is not necessary for anything)\n",
        "def display_graph_dataset_properties(dataset):\n",
        "  print()\n",
        "  print(f'Dataset: {dataset}:')\n",
        "  print('====================')\n",
        "  print(f'Number of graphs: {len(dataset)}')\n",
        "  print(f'Number of features: {dataset.num_features}')\n",
        "  print(f'Number of classes: {dataset.num_classes}')\n",
        "\n",
        "  data = dataset[0]  # Get the first graph object.Ç\n",
        "\n",
        "  print()\n",
        "  print('Look at a sample graph of the dataset')\n",
        "  print(data)\n",
        "  print('=============================================================')\n",
        "\n",
        "  # Gather some statistics about the first graph.\n",
        "  print(f'Number of nodes: {data.num_nodes}')\n",
        "  print(f'Number of edges: {data.num_edges}')\n",
        "  print(f'Average node degree: {data.num_edges / data.num_nodes:.2f}')\n",
        "  print(f'Has isolated nodes: {data.has_isolated_nodes()}')\n",
        "  print(f'Has self-loops: {data.has_self_loops()}')\n",
        "  print(f'Is undirected: {data.is_undirected()}')"
      ],
      "id": "LxK2rDRNTSxd"
    },
    {
      "cell_type": "code",
      "execution_count": null,
      "metadata": {
        "colab": {
          "base_uri": "https://localhost:8080/"
        },
        "id": "GC6T1VZPF9Ba",
        "outputId": "5ccc103b-032b-4deb-83fe-e3d218d2a490"
      },
      "outputs": [
        {
          "output_type": "stream",
          "name": "stdout",
          "text": [
            "\n",
            "Dataset: QM9(130831):\n",
            "====================\n",
            "Number of graphs: 130831\n",
            "Number of features: 11\n",
            "Number of classes: 19\n",
            "\n",
            "Look at a sample graph of the dataset\n",
            "Data(x=[5, 11], edge_index=[2, 8], edge_attr=[8, 4], y=[1, 19], pos=[5, 3], idx=[1], name='gdb_1', z=[5])\n",
            "=============================================================\n",
            "Number of nodes: 5\n",
            "Number of edges: 8\n",
            "Average node degree: 1.60\n",
            "Has isolated nodes: False\n",
            "Has self-loops: False\n",
            "Is undirected: True\n"
          ]
        }
      ],
      "source": [
        "display_graph_dataset_properties(dataset)"
      ],
      "id": "GC6T1VZPF9Ba"
    },
    {
      "cell_type": "code",
      "execution_count": null,
      "metadata": {
        "id": "lD_MRHC8T8Za"
      },
      "outputs": [],
      "source": [
        "# Transform the dataset into a list\n",
        "dataset_list = []\n",
        "\n",
        "for i in range(len(dataset)):\n",
        "  dataset_list.append(dataset[i])"
      ],
      "id": "lD_MRHC8T8Za"
    },
    {
      "cell_type": "code",
      "execution_count": null,
      "metadata": {
        "id": "a3X51uGHDvSV"
      },
      "outputs": [],
      "source": [
        "#Shuffle the dataset list\n",
        "random.shuffle(dataset_list)\n",
        "#Split into train and test\n",
        "GRAPH_TRAIN = dataset_list[:int(np.floor(len(dataset_list)*0.9))]\n",
        "GRAPH_TEST = dataset_list[int(np.floor(len(dataset_list)*0.9)):]"
      ],
      "id": "a3X51uGHDvSV"
    },
    {
      "cell_type": "code",
      "source": [
        "import torch.nn as nn"
      ],
      "metadata": {
        "id": "jSsIsC8MT2t0"
      },
      "id": "jSsIsC8MT2t0",
      "execution_count": null,
      "outputs": []
    },
    {
      "cell_type": "code",
      "source": [
        "y_values = []\n",
        "for i in range(len(GRAPH_TRAIN)):\n",
        "  for j in range(19):\n",
        "    y_values.append(GRAPH_TRAIN[i].y[0][j].item())\n",
        "\n",
        "for i in range(len(GRAPH_TEST)):\n",
        "  for j in range(19):\n",
        "    y_values.append(GRAPH_TEST[i].y[0][j].item())\n",
        "\n",
        "mean = np.mean(np.array(y_values))\n",
        "std = np.std(np.array(y_values))\n",
        "\n",
        "for i in range(len(GRAPH_TRAIN)):\n",
        "  for j in range(19):\n",
        "    GRAPH_TRAIN[i].y[0][j]=(GRAPH_TRAIN[i].y[0][j]-mean)/std\n",
        "\n",
        "for i in range(len(GRAPH_TEST)):\n",
        "  for j in range(19):\n",
        "    GRAPH_TEST[i].y[0][j]=(GRAPH_TEST[i].y[0][j]-mean)/std"
      ],
      "metadata": {
        "id": "FBOloyjUVDIE"
      },
      "id": "FBOloyjUVDIE",
      "execution_count": null,
      "outputs": []
    },
    {
      "cell_type": "markdown",
      "metadata": {
        "id": "i8e0UtCj9yUh"
      },
      "source": [
        "<h1> Equivariant Message Passing Model (based on Haitz Sáez de Ocáriz Borde's coursework for L45)"
      ],
      "id": "i8e0UtCj9yUh"
    },
    {
      "cell_type": "code",
      "execution_count": null,
      "metadata": {
        "id": "NLQskUOr_Q8E",
        "colab": {
          "base_uri": "https://localhost:8080/"
        },
        "outputId": "389ff226-96dc-4494-e9b1-9042506bdc87"
      },
      "outputs": [
        {
          "output_type": "stream",
          "name": "stdout",
          "text": [
            "\u001b[K     |████████████████████████████████| 370 kB 11.8 MB/s \n",
            "\u001b[K     |████████████████████████████████| 482 kB 37.5 MB/s \n",
            "\u001b[K     |████████████████████████████████| 41 kB 396 kB/s \n",
            "\u001b[?25h  Building wheel for torch-geometric (setup.py) ... \u001b[?25l\u001b[?25hdone\n"
          ]
        }
      ],
      "source": [
        "!pip install -q torch-scatter -f https://pytorch-geometric.com/whl/torch-1.10.0+cu111.html\n",
        "!pip install -q torch-geometric==2.0.3"
      ],
      "id": "NLQskUOr_Q8E"
    },
    {
      "cell_type": "code",
      "execution_count": null,
      "metadata": {
        "id": "iVImWCea--7k"
      },
      "outputs": [],
      "source": [
        "from torch_geometric.nn import MessagePassing\n",
        "#To calculate euclidean distance\n",
        "import torch.nn as nn\n",
        "pdist = nn.PairwiseDistance(p=2)\n",
        "from torch.nn import Linear, ReLU, BatchNorm1d, Module, Sequential\n",
        "from torch_scatter import scatter\n",
        "from torch_scatter import scatter_mean"
      ],
      "id": "iVImWCea--7k"
    },
    {
      "cell_type": "code",
      "execution_count": null,
      "metadata": {
        "id": "o3Rbh_Rg-9Bw"
      },
      "outputs": [],
      "source": [
        "class MPNNLayer(MessagePassing):\n",
        "    def __init__(self, emb_dim=64, edge_dim=4, aggr='add'):\n",
        "        \"\"\"Message Passing Neural Network Layer\n",
        "\n",
        "        Args:\n",
        "            emb_dim: (int) - hidden dimension `d`\n",
        "            edge_dim: (int) - edge feature dimension `d_e`\n",
        "            aggr: (str) - aggregation function `\\oplus` (sum/mean/max)\n",
        "        \"\"\"\n",
        "        # Set the aggregation function\n",
        "        super().__init__(aggr=aggr)\n",
        "\n",
        "        self.emb_dim = emb_dim\n",
        "        self.edge_dim = edge_dim\n",
        "\n",
        "        # MLP `\\psi` for computing messages `m_ij`\n",
        "        # Implemented as a stack of Linear->BN->ReLU->Linear->BN->ReLU\n",
        "        # dims: (2d + d_e) -> d\n",
        "        self.mlp_msg = Sequential(\n",
        "            Linear(2*emb_dim + edge_dim, emb_dim), BatchNorm1d(emb_dim), ReLU(),\n",
        "            Linear(emb_dim, emb_dim), BatchNorm1d(emb_dim), ReLU()\n",
        "          )\n",
        "        \n",
        "        # MLP `\\phi` for computing updated node features `h_i^{l+1}`\n",
        "        # Implemented as a stack of Linear->BN->ReLU->Linear->BN->ReLU\n",
        "        # dims: 2d -> d\n",
        "        self.mlp_upd = Sequential(\n",
        "            Linear(2*emb_dim, emb_dim), BatchNorm1d(emb_dim), ReLU(), \n",
        "            Linear(emb_dim, emb_dim), BatchNorm1d(emb_dim), ReLU()\n",
        "          )\n",
        "\n",
        "    def forward(self, h, edge_index, edge_attr):\n",
        "        \"\"\"\n",
        "        The forward pass updates node features `h` via one round of message passing.\n",
        "\n",
        "        As our MPNNLayer class inherits from the PyG MessagePassing parent class,\n",
        "        we simply need to call the `propagate()` function which starts the \n",
        "        message passing procedure: `message()` -> `aggregate()` -> `update()`.\n",
        "        \n",
        "        The MessagePassing class handles most of the logic for the implementation.\n",
        "        To build custom GNNs, we only need to define our own `message()`, \n",
        "        `aggregate()`, and `update()` functions (defined subsequently).\n",
        "\n",
        "        Args:\n",
        "            h: (n, d) - initial node features\n",
        "            edge_index: (e, 2) - pairs of edges (i, j)\n",
        "            edge_attr: (e, d_e) - edge features\n",
        "\n",
        "        Returns:\n",
        "            out: (n, d) - updated node features\n",
        "        \"\"\"\n",
        "        out = self.propagate(edge_index, h=h, edge_attr=edge_attr)\n",
        "        return out\n",
        "\n",
        "    def message(self, h_i, h_j, edge_attr):\n",
        "        \"\"\"Step (1) Message\n",
        "\n",
        "        The `message()` function constructs messages from source nodes j \n",
        "        to destination nodes i for each edge (i, j) in `edge_index`.\n",
        "\n",
        "        The arguments can be a bit tricky to understand: `message()` can take \n",
        "        any arguments that were initially passed to `propagate`. Additionally, \n",
        "        we can differentiate destination nodes and source nodes by appending \n",
        "        `_i` or `_j` to the variable name, e.g. for the node features `h`, we\n",
        "        can use `h_i` and `h_j`. \n",
        "        \n",
        "        This part is critical to understand as the `message()` function\n",
        "        constructs messages for each edge in the graph. The indexing of the\n",
        "        original node features `h` (or other node variables) is handled under\n",
        "        the hood by PyG.\n",
        "\n",
        "        Args:\n",
        "            h_i: (e, d) - destination node features\n",
        "            h_j: (e, d) - source node features\n",
        "            edge_attr: (e, d_e) - edge features\n",
        "        \n",
        "        Returns:\n",
        "            msg: (e, d) - messages `m_ij` passed through MLP `\\psi`\n",
        "        \"\"\"\n",
        "        msg = torch.cat([h_i, h_j, edge_attr], dim=-1)\n",
        "        return self.mlp_msg(msg)\n",
        "    \n",
        "    def aggregate(self, inputs, index):\n",
        "        \"\"\"Step (2) Aggregate\n",
        "\n",
        "        The `aggregate` function aggregates the messages from neighboring nodes,\n",
        "        according to the chosen aggregation function ('sum' by default).\n",
        "\n",
        "        Args:\n",
        "            inputs: (e, d) - messages `m_ij` from destination to source nodes\n",
        "            index: (e, 1) - list of source nodes for each edge/message in `input`\n",
        "\n",
        "        Returns:\n",
        "            aggr_out: (n, d) - aggregated messages `m_i`\n",
        "        \"\"\"\n",
        "        return scatter(inputs, index, dim=self.node_dim, reduce=self.aggr)\n",
        "    \n",
        "    def update(self, aggr_out, h):\n",
        "        \"\"\"\n",
        "        Step (3) Update\n",
        "\n",
        "        The `update()` function computes the final node features by combining the \n",
        "        aggregated messages with the initial node features.\n",
        "\n",
        "        `update()` takes the first argument `aggr_out`, the result of `aggregate()`, \n",
        "        as well as any optional arguments that were initially passed to \n",
        "        `propagate()`. E.g. in this case, we additionally pass `h`.\n",
        "\n",
        "        Args:\n",
        "            aggr_out: (n, d) - aggregated messages `m_i`\n",
        "            h: (n, d) - initial node features\n",
        "\n",
        "        Returns:\n",
        "            upd_out: (n, d) - updated node features passed through MLP `\\phi`\n",
        "        \"\"\"\n",
        "        upd_out = torch.cat([h, aggr_out], dim=-1)\n",
        "        return self.mlp_upd(upd_out)\n",
        "\n",
        "    def __repr__(self) -> str:\n",
        "        return (f'{self.__class__.__name__}(emb_dim={self.emb_dim}, aggr={self.aggr})')\n",
        "\n",
        "class MPNNModel(Module):\n",
        "    def __init__(self, num_layers=3, emb_dim=64, in_dim=11, edge_dim=4, out_dim=1):\n",
        "        \"\"\"Message Passing Neural Network model for graph property prediction\n",
        "\n",
        "        Args:\n",
        "            num_layers: (int) - number of message passing layers `L`\n",
        "            emb_dim: (int) - hidden dimension `d`\n",
        "            in_dim: (int) - initial node feature dimension `d_n`\n",
        "            edge_dim: (int) - edge feature dimension `d_e`\n",
        "            out_dim: (int) - output dimension (fixed to 1)\n",
        "        \"\"\"\n",
        "        super().__init__()\n",
        "        \n",
        "        # Linear projection for initial node features\n",
        "        # dim: d_n -> d\n",
        "        self.lin_in = Linear(in_dim, emb_dim)\n",
        "        \n",
        "        # Stack of MPNN layers\n",
        "        self.convs = torch.nn.ModuleList()\n",
        "        for layer in range(num_layers):\n",
        "            self.convs.append(MPNNLayer(emb_dim, edge_dim, aggr='add'))\n",
        "        \n",
        "        # Global pooling/readout function `R` (mean pooling)\n",
        "        # PyG handles the underlying logic via `global_mean_pool()`\n",
        "        self.pool = global_max_pool\n",
        "\n",
        "        # Linear prediction head\n",
        "        # dim: d -> out_dim\n",
        "        self.lin_pred = Linear(emb_dim, out_dim)\n",
        "        \n",
        "    def forward(self, data):\n",
        "        \"\"\"\n",
        "        Args:\n",
        "            data: (PyG.Data) - batch of PyG graphs\n",
        "\n",
        "        Returns: \n",
        "            out: (batch_size, out_dim) - prediction for each graph\n",
        "        \"\"\"\n",
        "        h = self.lin_in(data.x) # (n, d_n) -> (n, d)\n",
        "        \n",
        "        for conv in self.convs:\n",
        "            h = h + conv(h, data.edge_index, data.edge_attr) # (n, d) -> (n, d)\n",
        "            # Note that we add a residual connection after each MPNN layer\n",
        "\n",
        "        h_graph = self.pool(h, data.batch) # (n, d) -> (batch_size, d)\n",
        "\n",
        "        out = self.lin_pred(h_graph) # (batch_size, d) -> (batch_size, 1)\n",
        "\n",
        "        return out.view(-1)"
      ],
      "id": "o3Rbh_Rg-9Bw"
    },
    {
      "cell_type": "markdown",
      "metadata": {
        "id": "cu4urLF7Q88A"
      },
      "source": [
        "<h1> Simplistic GNN Model"
      ],
      "id": "cu4urLF7Q88A"
    },
    {
      "cell_type": "code",
      "execution_count": null,
      "metadata": {
        "id": "R1B0YTz6ytyN"
      },
      "outputs": [],
      "source": [
        "from torch_geometric.nn import GCNConv\n",
        "from torch_geometric.nn import GATConv\n",
        "from torch_geometric.nn import GraphNorm\n",
        "\n",
        "class GCN(torch.nn.Module):\n",
        "    def __init__(self, input_dim=11, hidden_dim=64, output_dim=1):\n",
        "        super(GCN, self).__init__()\n",
        "\n",
        "        #Hidden Layers\n",
        "        self.hidden1 = GCNConv(input_dim, hidden_dim)\n",
        "        self.hidden2 = GCNConv(hidden_dim, hidden_dim)\n",
        "        self.hidden3 = GCNConv(hidden_dim, output_dim)\n",
        "        self.norm = GraphNorm(hidden_dim)\n",
        "\n",
        "        #Activation Function\n",
        "        self.relu = nn.ReLU()\n",
        "\n",
        "        \n",
        "\n",
        "    def forward(self, data):\n",
        "        edge_index = data.edge_index\n",
        "        batch = data.batch\n",
        "        input_x = data.x\n",
        "      \n",
        "        #Standard forward\n",
        "        x = self.hidden1(input_x,edge_index)\n",
        "        x = self.norm(x)\n",
        "        x = self.relu(x)\n",
        "        x = self.hidden2(x,edge_index)\n",
        "        x = self.norm(x)\n",
        "        x = self.relu(x)\n",
        "        x = self.hidden3(x,edge_index)\n",
        "\n",
        "        #Global mean pool across batches\n",
        "        x = global_max_pool(x, batch)\n",
        "\n",
        "        \n",
        "        return x\n"
      ],
      "id": "R1B0YTz6ytyN"
    },
    {
      "cell_type": "code",
      "source": [
        "class GAT(torch.nn.Module):\n",
        "    def __init__(self, input_dim=11, hidden_dim=64, output_dim=1):\n",
        "        super(GAT, self).__init__()\n",
        "\n",
        "        #Hidden Layers\n",
        "        self.hidden1 = GATConv(input_dim, hidden_dim)\n",
        "        self.hidden2 = GATConv(hidden_dim, hidden_dim)\n",
        "        self.hidden3 = GATConv(hidden_dim, output_dim)\n",
        "        self.norm = GraphNorm(hidden_dim)\n",
        "\n",
        "        #Activation Function\n",
        "        self.relu = nn.ReLU()\n",
        "\n",
        "        \n",
        "\n",
        "    def forward(self, data):\n",
        "        edge_index = data.edge_index\n",
        "        batch = data.batch\n",
        "        input_x = data.x\n",
        "      \n",
        "        #Standard forward\n",
        "        x = self.hidden1(input_x,edge_index)\n",
        "        x = self.norm(x)\n",
        "        x = self.relu(x)\n",
        "        x = self.hidden2(x,edge_index)\n",
        "        x = self.norm(x)\n",
        "        x = self.relu(x)\n",
        "        x = self.hidden3(x,edge_index)\n",
        "\n",
        "        #Global mean pool across batches\n",
        "        x = global_max_pool(x, batch)\n",
        "\n",
        "        \n",
        "        return x"
      ],
      "metadata": {
        "id": "GuyqQ9RWz7nc"
      },
      "id": "GuyqQ9RWz7nc",
      "execution_count": null,
      "outputs": []
    },
    {
      "cell_type": "code",
      "source": [
        "choose_model = input('Convolutional:C,Attentional:A,Message Passing:MP')"
      ],
      "metadata": {
        "colab": {
          "base_uri": "https://localhost:8080/"
        },
        "id": "QcuGpAlszD4o",
        "outputId": "2e2bf1ea-69f3-4d26-898e-032fc9ac522f"
      },
      "id": "QcuGpAlszD4o",
      "execution_count": null,
      "outputs": [
        {
          "name": "stdout",
          "output_type": "stream",
          "text": [
            "Convolutional:C,Attentional:A,Message Passing:MPMP\n"
          ]
        }
      ]
    },
    {
      "cell_type": "markdown",
      "metadata": {
        "id": "G-ExWACxQ3mt"
      },
      "source": [
        "<h1> Helper functions"
      ],
      "id": "G-ExWACxQ3mt"
    },
    {
      "cell_type": "code",
      "execution_count": null,
      "metadata": {
        "id": "1zyNHFXdOnug"
      },
      "outputs": [],
      "source": [
        "# The Minimum Square Error is used to evaluate the difference between prediction and ground truth\n",
        "criterion = nn.MSELoss()\n",
        "\n",
        "def copy_existing_model(model):\n",
        "    # Function to copy an existing model\n",
        "    # We initialize a new model\n",
        "    if choose_model == 'C':\n",
        "      new_model = GCN()\n",
        "    elif choose_model == 'A':\n",
        "      new_model = GAT()\n",
        "    elif choose_model == 'MP':\n",
        "      new_model = MPNNModel()\n",
        "    # Copy the previous model's parameters into the new model\n",
        "    new_model.load_state_dict(model.state_dict())\n",
        "    return new_model\n",
        "\n",
        "def initialization_to_store_meta_losses():\n",
        "  # This function creates lists to store the meta losses\n",
        "  global store_train_loss_meta; store_train_loss_meta = []\n",
        "  global store_test_loss_meta; store_test_loss_meta = []\n",
        "\n",
        "def test_set_validation(model,new_model,graph,lr_inner,k,store_test_loss_meta,task):\n",
        "    # This functions does not actually affect the main algorithm, it is just used to evaluate the new model\n",
        "    new_model = training(model, graph, lr_inner, k,task)\n",
        "    # Obtain the loss\n",
        "    loss = evaluation(new_model, graph,task)\n",
        "    # Store loss\n",
        "    store_test_loss_meta.append(loss)\n",
        "\n",
        "def train_set_evaluation(new_model,graph,store_train_loss_meta,task):\n",
        "    loss = evaluation(new_model, graph,task)\n",
        "    store_train_loss_meta.append(loss) \n",
        "\n",
        "def print_losses(epoch,store_train_loss_meta,store_test_loss_meta,printing_step=1000):\n",
        "  if epoch % printing_step == 0:\n",
        "    print(f'Epochh : {epoch}, Average Train Meta Loss : {np.mean(store_train_loss_meta)}, Average Test Meta Loss : {np.mean(store_test_loss_meta)}')\n",
        "\n",
        "#This is based on the paper update rule, we calculate the difference between parameters and then this is used by the optimizer, rather than doing the update by hand\n",
        "def reptile_parameter_update(model,new_model):\n",
        "  # Zip models for the loop\n",
        "  zip_models = zip(model.parameters(), new_model.parameters())\n",
        "  for parameter, new_parameter in zip_models:\n",
        "    if parameter.grad is None:\n",
        "      parameter.grad = torch.tensor(torch.zeros_like(parameter))\n",
        "    # Here we are adding the gradient that will later be used by the optimizer\n",
        "    parameter.grad.data.add_(parameter.data - new_parameter.data)\n",
        "\n",
        "# Define commands in order needed for the metaupdate\n",
        "# Note that if we change the order it doesn't behave the same\n",
        "def metaoptimizer_update(metaoptimizer):\n",
        "  # Take step\n",
        "  metaoptimizer.step()\n",
        "  # Reset gradients\n",
        "  metaoptimizer.zero_grad()\n",
        "\n",
        "def metaupdate(model,new_model,metaoptimizer):\n",
        "  # Combine the two previous functions into a single metaupdate function\n",
        "  # First we calculate the gradients\n",
        "  reptile_parameter_update(model,new_model)\n",
        "  # Use those gradients in the optimizer\n",
        "  metaoptimizer_update(metaoptimizer)\n",
        "\n",
        "def evaluation(new_model, graph, task, item = True):\n",
        "    # Make model prediction\n",
        "    prediction = new_model(graph)[:,None]\n",
        "\n",
        "    label = graph.y[:,task:task+1]\n",
        "\n",
        "    # Get loss\n",
        "    if item == True: #Depending on whether we need to return the loss value for storing or for backprop\n",
        "      loss = criterion(prediction,label).item()\n",
        "    else:\n",
        "      loss = criterion(prediction,label)\n",
        "    return loss\n",
        "\n",
        "def training(model, graph, lr_k, k,task):\n",
        "    # Create new model which we will train on\n",
        "    new_model = copy_existing_model(model)\n",
        "    # Define new optimizer\n",
        "    koptimizer = torch.optim.SGD(new_model.parameters(), lr=lr_k)\n",
        "    # Update the model multiple times, note that k>1 (do not confuse k with K)\n",
        "    for i in range(k):\n",
        "        # Reset optimizer\n",
        "        koptimizer.zero_grad()\n",
        "        # Evaluate the model\n",
        "        loss = evaluation(new_model, graph, task, item = False)\n",
        "        # Backpropagate\n",
        "        loss.backward()\n",
        "        koptimizer.step()\n",
        "    return new_model"
      ],
      "id": "1zyNHFXdOnug"
    },
    {
      "cell_type": "markdown",
      "metadata": {
        "id": "7jkgwwMJUSbL"
      },
      "source": [
        "<h1> Additional GNN Helper Functions"
      ],
      "id": "7jkgwwMJUSbL"
    },
    {
      "cell_type": "markdown",
      "metadata": {
        "id": "hsATAza-UtiF"
      },
      "source": [
        "Additional helper functions to handle minibatching based on coursework by Haitz Sáez de Ocáriz for L45 Practical 1. The code was partially given in the practical and we had to fill it in, so this is based on my solution. Also, some further modification applied for our implementation: for message passing we include coordinate encoding features and edge attributes, apart from node features, labels, and the adjancency metrics that describes node connectivity."
      ],
      "id": "hsATAza-UtiF"
    },
    {
      "cell_type": "code",
      "execution_count": null,
      "metadata": {
        "id": "iHFyLSSKUoYG"
      },
      "outputs": [],
      "source": [
        "class Graph(object):\n",
        "    def __init__(self, edge_index, x, y,edge_attr):\n",
        "        \"\"\" Graph structure \n",
        "            for a mini-batch it will store a big (sparse) graph \n",
        "            representing the entire batch\n",
        "        Args:\n",
        "            x: node features  [num_nodes x num_feats]\n",
        "            y: graph labels   [num_graphs]\n",
        "            edge_index: list of edges [2 x num_edges]\n",
        "        \"\"\"\n",
        "        self.edge_index = edge_index\n",
        "        self.x = x.to(torch.float32)\n",
        "        self.y = y\n",
        "        self.num_nodes = self.x.shape[0]\n",
        "        self.edge_attr = edge_attr\n",
        "\n",
        "    #ignore this for now, it will be useful for batching\n",
        "    def set_batch(self, batch):\n",
        "        \"\"\" list of ints that maps each node to the graph it belongs to\n",
        "            e.g. for batch = [0,0,0,1,1,1,1]: the first 3 nodes belong to graph_0 while\n",
        "            the last 4 belong to graph_1\n",
        "        \"\"\"\n",
        "        self.batch = batch\n",
        "\n",
        "    # this function return a sparse tensor\n",
        "    def get_adjacency_matrix(self):\n",
        "        \"\"\" from the list of edges create \n",
        "        a num_nodes x num_nodes sparse adjacency matrix\n",
        "        \"\"\"\n",
        "        return torch.sparse.LongTensor(self.edge_index, \n",
        "                              # we work with a binary adj containing 1 if an edge exist\n",
        "                              torch.ones((self.edge_index.shape[1])), \n",
        "                              torch.Size((self.num_nodes, self.num_nodes))\n",
        "                              )\n"
      ],
      "id": "iHFyLSSKUoYG"
    },
    {
      "cell_type": "code",
      "execution_count": null,
      "metadata": {
        "id": "WHUDCDbqUc2A"
      },
      "outputs": [],
      "source": [
        "def create_mini_batch(graph_list):\n",
        "    \"\"\" Built a sparse graph from a batch of graphs\n",
        "    Args:\n",
        "        graph_list: list of Graph objects in a batch\n",
        "    Returns:\n",
        "        a big (sparse) Graph representing the entire batch\n",
        "    \"\"\"\n",
        "    #insert first graph into the structure\n",
        "    batch_edge_index = graph_list[0].edge_index\n",
        "    batch_x = graph_list[0].x\n",
        "    batch_y = graph_list[0].y\n",
        "    batch_edge_attr = graph_list[0].edge_attr\n",
        "    batch_batch = torch.zeros((graph_list[0].num_nodes), dtype=torch.int64)\n",
        "    # ============ YOUR CODE HERE =============\n",
        "    # you may need additional variables\n",
        "    num_nodes_added= graph_list[0].num_nodes\n",
        "    # ==========================================\n",
        "\n",
        "    #append the rest of the graphs to the structure\n",
        "    for idx, graph in enumerate(graph_list[1:]):\n",
        "        # ============ YOUR CODE HERE =============\n",
        "        # concat the features\n",
        "        batch_x = torch.cat((batch_x,graph.x))\n",
        "        # concat the labels\n",
        "        batch_y = torch.cat((batch_y,graph.y))\n",
        "\n",
        "        # concat the adjacency matrix as a block diagonal matrix\n",
        "        batch_edge_index = torch.cat((batch_edge_index, torch.add(graph.edge_index, num_nodes_added)), dim=1)\n",
        "        batch_edge_attr = torch.cat((batch_edge_attr, graph.edge_attr))\n",
        "        num_nodes_added += graph.num_nodes\n",
        "        # ==========================================\n",
        "\n",
        "        # ============ YOUR CODE HERE =============\n",
        "        # create the array of indexes mapping nodes in the batch-graph\n",
        "        # to the graph they belong to\n",
        "        # specify the mapping between the new nodes and the graph they belong to (idx+1)\n",
        "        batch_batch = torch.cat((batch_batch, torch.full((graph.num_nodes,), idx + 1)))\n",
        "        # ==========================================\n",
        "    #create the big sparse graph \n",
        "    batch_graph = Graph(batch_edge_index, batch_x, batch_y, batch_edge_attr)\n",
        "    #attach the index array to the Graph structure\n",
        "    batch_graph.set_batch(batch_batch)\n",
        "    return batch_graph"
      ],
      "id": "WHUDCDbqUc2A"
    },
    {
      "cell_type": "markdown",
      "metadata": {
        "id": "-4Ps8P2IRCmF"
      },
      "source": [
        "<h1> Reptile"
      ],
      "id": "-4Ps8P2IRCmF"
    },
    {
      "cell_type": "code",
      "execution_count": null,
      "metadata": {
        "id": "8ogpg_DHizlC"
      },
      "outputs": [],
      "source": [
        "#Define important variables \n",
        "lr_meta=0.001 # Learning rate for meta model (outer loop)\n",
        "printing_step=40 # how many epochs should we wait to print the loss\n",
        "lr_k=0.0005 # Internal learning rate\n",
        "k=5 # Number of internal updates for each task\n",
        "K = 10 #Number of samples per task\n",
        "number_of_tasks = 5 #number of tasks for metalearning (max is 19), using 5 converges relatively fast, otherwise it is a bit of a pain\n",
        "# Initializations\n",
        "initialization_to_store_meta_losses()\n",
        "\n",
        "if choose_model == 'C':\n",
        "  model = GCN()\n",
        "elif choose_model == 'A':\n",
        "  model = GAT()\n",
        "elif choose_model == 'MP':\n",
        "  model = MPNNModel()\n",
        "\n",
        "metaoptimizer = torch.optim.Adam(model.parameters(), lr=lr_meta)"
      ],
      "id": "8ogpg_DHizlC"
    },
    {
      "cell_type": "code",
      "execution_count": null,
      "metadata": {
        "colab": {
          "base_uri": "https://localhost:8080/"
        },
        "id": "-4-zQWWKFt3s",
        "outputId": "293ffbcc-28da-4235-8dd6-8c28e167cbf4"
      },
      "outputs": [
        {
          "output_type": "stream",
          "name": "stdout",
          "text": [
            "Epochh : 0, Average Train Meta Loss : 0.015076991512189337, Average Test Meta Loss : 0.015066215250303555\n",
            "Epochh : 40, Average Train Meta Loss : 0.014993504361742146, Average Test Meta Loss : 0.014933842786202538\n",
            "Epochh : 80, Average Train Meta Loss : 0.01484189795717761, Average Test Meta Loss : 0.014774759480675883\n",
            "Epochh : 120, Average Train Meta Loss : 0.014728255970177693, Average Test Meta Loss : 0.014620319161481671\n",
            "Epochh : 160, Average Train Meta Loss : 0.01459291148545206, Average Test Meta Loss : 0.014498162427658003\n",
            "Epochh : 200, Average Train Meta Loss : 0.014495150525655134, Average Test Meta Loss : 0.014420819131517106\n",
            "Epochh : 240, Average Train Meta Loss : 0.014378782062311446, Average Test Meta Loss : 0.014321370869997551\n",
            "Epochh : 280, Average Train Meta Loss : 0.014266620726520957, Average Test Meta Loss : 0.014168743079276907\n",
            "Epochh : 320, Average Train Meta Loss : 0.014184784456273813, Average Test Meta Loss : 0.014091555673024348\n",
            "Epochh : 360, Average Train Meta Loss : 0.014127695767316869, Average Test Meta Loss : 0.013994286327476091\n",
            "Epochh : 400, Average Train Meta Loss : 0.014002781916526437, Average Test Meta Loss : 0.013908213429372462\n",
            "Epochh : 440, Average Train Meta Loss : 0.013895605386546293, Average Test Meta Loss : 0.01378693343268833\n",
            "Epochh : 480, Average Train Meta Loss : 0.013824152611902464, Average Test Meta Loss : 0.01372336251695083\n",
            "Epochh : 520, Average Train Meta Loss : 0.013670518012922721, Average Test Meta Loss : 0.013634837289843075\n",
            "Epochh : 560, Average Train Meta Loss : 0.013580219979735561, Average Test Meta Loss : 0.01352861235659981\n",
            "Epochh : 600, Average Train Meta Loss : 0.013496322878406589, Average Test Meta Loss : 0.013469999118902369\n",
            "Epochh : 640, Average Train Meta Loss : 0.013367706607612736, Average Test Meta Loss : 0.013345531960547512\n",
            "Epochh : 680, Average Train Meta Loss : 0.013273883608537597, Average Test Meta Loss : 0.013251389098812962\n",
            "Epochh : 720, Average Train Meta Loss : 0.013162735940058984, Average Test Meta Loss : 0.01311654108834785\n",
            "Epochh : 760, Average Train Meta Loss : 0.013094050296797867, Average Test Meta Loss : 0.01303064234894337\n",
            "Epochh : 800, Average Train Meta Loss : 0.013016753884633397, Average Test Meta Loss : 0.012988568880568126\n",
            "Epochh : 840, Average Train Meta Loss : 0.012904925339352509, Average Test Meta Loss : 0.012874475035085035\n",
            "Epochh : 880, Average Train Meta Loss : 0.01281960315818654, Average Test Meta Loss : 0.012814373422991252\n",
            "Epochh : 920, Average Train Meta Loss : 0.012779304395540467, Average Test Meta Loss : 0.012771512236791203\n",
            "Epochh : 960, Average Train Meta Loss : 0.012666943183745184, Average Test Meta Loss : 0.012726661788313597\n",
            "Epochh : 1000, Average Train Meta Loss : 0.012565643246733007, Average Test Meta Loss : 0.0126332839259468\n",
            "Epochh : 1040, Average Train Meta Loss : 0.012519370310848392, Average Test Meta Loss : 0.012553750012950119\n",
            "Epochh : 1080, Average Train Meta Loss : 0.012441544752818785, Average Test Meta Loss : 0.01247238654553218\n",
            "Epochh : 1120, Average Train Meta Loss : 0.012360048888023317, Average Test Meta Loss : 0.012407019006068831\n",
            "Epochh : 1160, Average Train Meta Loss : 0.012316466784960787, Average Test Meta Loss : 0.01232531355329959\n",
            "Epochh : 1200, Average Train Meta Loss : 0.012251915572532388, Average Test Meta Loss : 0.012258524007277921\n",
            "Epochh : 1240, Average Train Meta Loss : 0.012168906927783694, Average Test Meta Loss : 0.012161363386755055\n",
            "Epochh : 1280, Average Train Meta Loss : 0.012139489650682676, Average Test Meta Loss : 0.012124719821969642\n",
            "Epochh : 1320, Average Train Meta Loss : 0.01206195912214102, Average Test Meta Loss : 0.012068464923708042\n",
            "Epochh : 1360, Average Train Meta Loss : 0.011980290817427372, Average Test Meta Loss : 0.012013106635445999\n",
            "Epochh : 1400, Average Train Meta Loss : 0.011911523613714692, Average Test Meta Loss : 0.0119174456950363\n",
            "Epochh : 1440, Average Train Meta Loss : 0.011808555721594505, Average Test Meta Loss : 0.011822287626292494\n",
            "Epochh : 1480, Average Train Meta Loss : 0.011784650604524905, Average Test Meta Loss : 0.011757938881753994\n",
            "Epochh : 1520, Average Train Meta Loss : 0.011747103117327918, Average Test Meta Loss : 0.011734013482551108\n",
            "Epochh : 1560, Average Train Meta Loss : 0.011663672163086058, Average Test Meta Loss : 0.011685290602174842\n",
            "Epochh : 1600, Average Train Meta Loss : 0.011615002447044801, Average Test Meta Loss : 0.011658875632499599\n",
            "Epochh : 1640, Average Train Meta Loss : 0.011560558148964385, Average Test Meta Loss : 0.0116287554175814\n",
            "Epochh : 1680, Average Train Meta Loss : 0.011472985988868204, Average Test Meta Loss : 0.011567197049391735\n",
            "Epochh : 1720, Average Train Meta Loss : 0.011437068224112907, Average Test Meta Loss : 0.011512942883450394\n",
            "Epochh : 1760, Average Train Meta Loss : 0.011387532819879677, Average Test Meta Loss : 0.011471217168877007\n",
            "Epochh : 1800, Average Train Meta Loss : 0.011311943412999442, Average Test Meta Loss : 0.011403615873874319\n",
            "Epochh : 1840, Average Train Meta Loss : 0.011253610621711365, Average Test Meta Loss : 0.01133909991963403\n",
            "Epochh : 1880, Average Train Meta Loss : 0.01120848692491626, Average Test Meta Loss : 0.011311327109491034\n",
            "Epochh : 1920, Average Train Meta Loss : 0.011181738086928955, Average Test Meta Loss : 0.011245598809014476\n",
            "Epochh : 1960, Average Train Meta Loss : 0.01112730603584007, Average Test Meta Loss : 0.011194602434382521\n",
            "Epochh : 2000, Average Train Meta Loss : 0.011066330655982467, Average Test Meta Loss : 0.01113283414660457\n",
            "Epochh : 2040, Average Train Meta Loss : 0.011002030471861135, Average Test Meta Loss : 0.01107313584671923\n",
            "Epochh : 2080, Average Train Meta Loss : 0.010954394174588216, Average Test Meta Loss : 0.01101608686943824\n",
            "Epochh : 2120, Average Train Meta Loss : 0.010896097482085896, Average Test Meta Loss : 0.010973281419763567\n",
            "Epochh : 2160, Average Train Meta Loss : 0.010832332755448692, Average Test Meta Loss : 0.01091749031566254\n",
            "Epochh : 2200, Average Train Meta Loss : 0.010775769042932653, Average Test Meta Loss : 0.010870210659382453\n",
            "Epochh : 2240, Average Train Meta Loss : 0.010754011581587826, Average Test Meta Loss : 0.010816616958450438\n",
            "Epochh : 2280, Average Train Meta Loss : 0.010771309496852196, Average Test Meta Loss : 0.010799746172913816\n",
            "Epochh : 2320, Average Train Meta Loss : 0.010739795215369358, Average Test Meta Loss : 0.010760424542889084\n",
            "Epochh : 2360, Average Train Meta Loss : 0.010718634031431968, Average Test Meta Loss : 0.010717265336401485\n",
            "Epochh : 2400, Average Train Meta Loss : 0.010659476175929774, Average Test Meta Loss : 0.010676868945316526\n",
            "Epochh : 2440, Average Train Meta Loss : 0.010610503978359791, Average Test Meta Loss : 0.010609353459288328\n",
            "Epochh : 2480, Average Train Meta Loss : 0.010559539623706527, Average Test Meta Loss : 0.010567473724367834\n",
            "Epochh : 2520, Average Train Meta Loss : 0.010512932942458768, Average Test Meta Loss : 0.01052809332423638\n",
            "Epochh : 2560, Average Train Meta Loss : 0.010464787651013814, Average Test Meta Loss : 0.010472515912094634\n",
            "Epochh : 2600, Average Train Meta Loss : 0.010420688378373469, Average Test Meta Loss : 0.010428732616906758\n",
            "Epochh : 2640, Average Train Meta Loss : 0.01038329936860839, Average Test Meta Loss : 0.010405408539947938\n",
            "Epochh : 2680, Average Train Meta Loss : 0.01033500161836022, Average Test Meta Loss : 0.01036078181295797\n",
            "Epochh : 2720, Average Train Meta Loss : 0.010278009736473479, Average Test Meta Loss : 0.010313822087986518\n",
            "Epochh : 2760, Average Train Meta Loss : 0.010276248745229975, Average Test Meta Loss : 0.010272761001058957\n",
            "Epochh : 2800, Average Train Meta Loss : 0.010237965571262678, Average Test Meta Loss : 0.010265981475806867\n",
            "Epochh : 2840, Average Train Meta Loss : 0.0101997839551933, Average Test Meta Loss : 0.010234910633708703\n",
            "Epochh : 2880, Average Train Meta Loss : 0.010173390735497933, Average Test Meta Loss : 0.010210382697284729\n",
            "Epochh : 2920, Average Train Meta Loss : 0.010126379116687755, Average Test Meta Loss : 0.01016101914977209\n",
            "Epochh : 2960, Average Train Meta Loss : 0.010115832289228072, Average Test Meta Loss : 0.010124847167579379\n",
            "Epochh : 3000, Average Train Meta Loss : 0.010085289465050244, Average Test Meta Loss : 0.010113907478203595\n",
            "Epochh : 3040, Average Train Meta Loss : 0.010081630809450261, Average Test Meta Loss : 0.01009119447974413\n",
            "Epochh : 3080, Average Train Meta Loss : 0.010033074767389847, Average Test Meta Loss : 0.010030826121062831\n",
            "Epochh : 3120, Average Train Meta Loss : 0.01001083230783767, Average Test Meta Loss : 0.010016784654017383\n",
            "Epochh : 3160, Average Train Meta Loss : 0.009982687301131343, Average Test Meta Loss : 0.0099950737349061\n",
            "Epochh : 3200, Average Train Meta Loss : 0.009923613764516554, Average Test Meta Loss : 0.00994570096893737\n",
            "Epochh : 3240, Average Train Meta Loss : 0.00987569492839269, Average Test Meta Loss : 0.009904044395218942\n",
            "Epochh : 3280, Average Train Meta Loss : 0.009868343116493202, Average Test Meta Loss : 0.009900248571846935\n",
            "Epochh : 3320, Average Train Meta Loss : 0.009827445824790216, Average Test Meta Loss : 0.009861889075591457\n",
            "Epochh : 3360, Average Train Meta Loss : 0.009783710699289077, Average Test Meta Loss : 0.009842344719538227\n",
            "Epochh : 3400, Average Train Meta Loss : 0.009750826947886062, Average Test Meta Loss : 0.009800126814623656\n",
            "Epochh : 3440, Average Train Meta Loss : 0.00972821148719938, Average Test Meta Loss : 0.009778352093383232\n",
            "Epochh : 3480, Average Train Meta Loss : 0.009696878060534634, Average Test Meta Loss : 0.009756390667366676\n",
            "Epochh : 3520, Average Train Meta Loss : 0.009683054605880786, Average Test Meta Loss : 0.0097396474858325\n",
            "Epochh : 3560, Average Train Meta Loss : 0.009657279800967469, Average Test Meta Loss : 0.00970892851612793\n",
            "Epochh : 3600, Average Train Meta Loss : 0.009656856586807252, Average Test Meta Loss : 0.009686887166936263\n",
            "Epochh : 3640, Average Train Meta Loss : 0.009654915494464395, Average Test Meta Loss : 0.009649752048823835\n",
            "Epochh : 3680, Average Train Meta Loss : 0.00963422711931473, Average Test Meta Loss : 0.009617347475031193\n",
            "Epochh : 3720, Average Train Meta Loss : 0.009633553444110106, Average Test Meta Loss : 0.009591576276708832\n",
            "Epochh : 3760, Average Train Meta Loss : 0.009593960521724565, Average Test Meta Loss : 0.009559914976410256\n",
            "Epochh : 3800, Average Train Meta Loss : 0.009569945290382001, Average Test Meta Loss : 0.009529302905019141\n",
            "Epochh : 3840, Average Train Meta Loss : 0.009556773666038283, Average Test Meta Loss : 0.009514549565504451\n",
            "Epochh : 3880, Average Train Meta Loss : 0.009527590350396275, Average Test Meta Loss : 0.00947789615515406\n",
            "Epochh : 3920, Average Train Meta Loss : 0.009525855382666516, Average Test Meta Loss : 0.009456084594694849\n",
            "Epochh : 3960, Average Train Meta Loss : 0.009507686091251714, Average Test Meta Loss : 0.009455090239456421\n",
            "Epochh : 4000, Average Train Meta Loss : 0.009465194158876202, Average Test Meta Loss : 0.009413753707310176\n",
            "Epochh : 4040, Average Train Meta Loss : 0.009454745333259964, Average Test Meta Loss : 0.00940734157358997\n",
            "Epochh : 4080, Average Train Meta Loss : 0.009416039834916245, Average Test Meta Loss : 0.009368838884768055\n",
            "Epochh : 4120, Average Train Meta Loss : 0.009396548445813545, Average Test Meta Loss : 0.009351440532643843\n",
            "Epochh : 4160, Average Train Meta Loss : 0.00936744487532655, Average Test Meta Loss : 0.0093208844041506\n",
            "Epochh : 4200, Average Train Meta Loss : 0.009367983796194298, Average Test Meta Loss : 0.009331479803660711\n",
            "Epochh : 4240, Average Train Meta Loss : 0.009380248111955978, Average Test Meta Loss : 0.009319360573692816\n",
            "Epochh : 4280, Average Train Meta Loss : 0.00937955669877001, Average Test Meta Loss : 0.009331349085162921\n",
            "Epochh : 4320, Average Train Meta Loss : 0.009369170101788985, Average Test Meta Loss : 0.009319914003184165\n",
            "Epochh : 4360, Average Train Meta Loss : 0.009341075261759096, Average Test Meta Loss : 0.009281731944007434\n",
            "Epochh : 4400, Average Train Meta Loss : 0.009336806004110968, Average Test Meta Loss : 0.009286663661920396\n",
            "Epochh : 4440, Average Train Meta Loss : 0.009311361728391237, Average Test Meta Loss : 0.009285248483183179\n",
            "Epochh : 4480, Average Train Meta Loss : 0.009290275551422188, Average Test Meta Loss : 0.009253277315244907\n",
            "Epochh : 4520, Average Train Meta Loss : 0.009258792234590429, Average Test Meta Loss : 0.009218711023170692\n",
            "Epochh : 4560, Average Train Meta Loss : 0.009225849793911077, Average Test Meta Loss : 0.00918442703593266\n",
            "Epochh : 4600, Average Train Meta Loss : 0.009198103986666779, Average Test Meta Loss : 0.009163303075627856\n",
            "Epochh : 4640, Average Train Meta Loss : 0.0091645267315295, Average Test Meta Loss : 0.00914269517468697\n",
            "Epochh : 4680, Average Train Meta Loss : 0.009139816444167613, Average Test Meta Loss : 0.009115254434449752\n",
            "Epochh : 4720, Average Train Meta Loss : 0.009128124546760007, Average Test Meta Loss : 0.009093261249245466\n",
            "Epochh : 4760, Average Train Meta Loss : 0.009113958826782766, Average Test Meta Loss : 0.0090555001700845\n",
            "Epochh : 4800, Average Train Meta Loss : 0.009085905866914754, Average Test Meta Loss : 0.009032466965120868\n",
            "Epochh : 4840, Average Train Meta Loss : 0.009059408531815695, Average Test Meta Loss : 0.008998170409302253\n",
            "Epochh : 4880, Average Train Meta Loss : 0.00902312025956433, Average Test Meta Loss : 0.008964421942454896\n",
            "Epochh : 4920, Average Train Meta Loss : 0.009024401204857252, Average Test Meta Loss : 0.008962237941131648\n",
            "Epochh : 4960, Average Train Meta Loss : 0.009010101566221188, Average Test Meta Loss : 0.008949147531498322\n",
            "Epochh : 5000, Average Train Meta Loss : 0.00898018074143371, Average Test Meta Loss : 0.008927847467791402\n",
            "Epochh : 5040, Average Train Meta Loss : 0.008964026296828425, Average Test Meta Loss : 0.00890804867403627\n",
            "Epochh : 5080, Average Train Meta Loss : 0.00896223638129941, Average Test Meta Loss : 0.008888785071767671\n",
            "Epochh : 5120, Average Train Meta Loss : 0.008947337874144617, Average Test Meta Loss : 0.008882537890425129\n",
            "Epochh : 5160, Average Train Meta Loss : 0.008928769106363687, Average Test Meta Loss : 0.008862455040601408\n",
            "Epochh : 5200, Average Train Meta Loss : 0.008905966281553454, Average Test Meta Loss : 0.008834681675038886\n",
            "Epochh : 5240, Average Train Meta Loss : 0.008905626865661187, Average Test Meta Loss : 0.008839629231832034\n",
            "Epochh : 5280, Average Train Meta Loss : 0.008889564460331872, Average Test Meta Loss : 0.00883427882593142\n",
            "Epochh : 5320, Average Train Meta Loss : 0.008883874517614182, Average Test Meta Loss : 0.008815167277823093\n",
            "Epochh : 5360, Average Train Meta Loss : 0.00887431082449379, Average Test Meta Loss : 0.008802325329000172\n",
            "Epochh : 5400, Average Train Meta Loss : 0.008859184480577306, Average Test Meta Loss : 0.00877627529334102\n",
            "Epochh : 5440, Average Train Meta Loss : 0.008839030008030794, Average Test Meta Loss : 0.008754763043928464\n",
            "Epochh : 5480, Average Train Meta Loss : 0.0088083539631082, Average Test Meta Loss : 0.008740934989991785\n",
            "Epochh : 5520, Average Train Meta Loss : 0.00878846333315223, Average Test Meta Loss : 0.008737646433077577\n",
            "Epochh : 5560, Average Train Meta Loss : 0.00877476026615205, Average Test Meta Loss : 0.008715868788414695\n",
            "Epochh : 5600, Average Train Meta Loss : 0.00875607785979468, Average Test Meta Loss : 0.008693269276984135\n",
            "Epochh : 5640, Average Train Meta Loss : 0.008738833043682842, Average Test Meta Loss : 0.00866755838793915\n",
            "Epochh : 5680, Average Train Meta Loss : 0.008717486260500068, Average Test Meta Loss : 0.0086414765190405\n",
            "Epochh : 5720, Average Train Meta Loss : 0.008694200743094727, Average Test Meta Loss : 0.008614672577828601\n",
            "Epochh : 5760, Average Train Meta Loss : 0.008665980018120948, Average Test Meta Loss : 0.00858283148683601\n",
            "Epochh : 5800, Average Train Meta Loss : 0.008656483416300329, Average Test Meta Loss : 0.008564271045238379\n",
            "Epochh : 5840, Average Train Meta Loss : 0.008641414691230387, Average Test Meta Loss : 0.008559729578446548\n",
            "Epochh : 5880, Average Train Meta Loss : 0.008621026436562882, Average Test Meta Loss : 0.0085419828998256\n",
            "Epochh : 5920, Average Train Meta Loss : 0.008615003374818509, Average Test Meta Loss : 0.008520269205896228\n",
            "Epochh : 5960, Average Train Meta Loss : 0.008592787544360967, Average Test Meta Loss : 0.008497496391428862\n",
            "Epochh : 6000, Average Train Meta Loss : 0.0085732561452583, Average Test Meta Loss : 0.008477332913681593\n",
            "Epochh : 6040, Average Train Meta Loss : 0.008572156087073521, Average Test Meta Loss : 0.008460888653527635\n",
            "Epochh : 6080, Average Train Meta Loss : 0.008565758561787788, Average Test Meta Loss : 0.00845166568346388\n",
            "Epochh : 6120, Average Train Meta Loss : 0.008544522964906787, Average Test Meta Loss : 0.00842989234087545\n",
            "Epochh : 6160, Average Train Meta Loss : 0.008528912325329758, Average Test Meta Loss : 0.008408373588692064\n",
            "Epochh : 6200, Average Train Meta Loss : 0.00850428437894057, Average Test Meta Loss : 0.008391895107662077\n",
            "Epochh : 6240, Average Train Meta Loss : 0.008500878297626259, Average Test Meta Loss : 0.008380055598173845\n",
            "Epochh : 6280, Average Train Meta Loss : 0.008487008507192024, Average Test Meta Loss : 0.00836886660340851\n",
            "Epochh : 6320, Average Train Meta Loss : 0.008468712831925329, Average Test Meta Loss : 0.008348716129155118\n",
            "Epochh : 6360, Average Train Meta Loss : 0.008450054132785816, Average Test Meta Loss : 0.00832782546184741\n",
            "Epochh : 6400, Average Train Meta Loss : 0.008439213775805674, Average Test Meta Loss : 0.008305433918678738\n",
            "Epochh : 6440, Average Train Meta Loss : 0.008420442800238208, Average Test Meta Loss : 0.008282727186518556\n",
            "Epochh : 6480, Average Train Meta Loss : 0.008395996188351707, Average Test Meta Loss : 0.008265798465082031\n",
            "Epochh : 6520, Average Train Meta Loss : 0.008379487234796628, Average Test Meta Loss : 0.008246101894871521\n",
            "Epochh : 6560, Average Train Meta Loss : 0.008359401125622347, Average Test Meta Loss : 0.008224553835186804\n",
            "Epochh : 6600, Average Train Meta Loss : 0.008339822190114676, Average Test Meta Loss : 0.008205134622230763\n",
            "Epochh : 6640, Average Train Meta Loss : 0.008331334090047354, Average Test Meta Loss : 0.008184366208436367\n",
            "Epochh : 6680, Average Train Meta Loss : 0.008322051029541021, Average Test Meta Loss : 0.008171277413157069\n",
            "Epochh : 6720, Average Train Meta Loss : 0.008303966752272065, Average Test Meta Loss : 0.008151582685151823\n",
            "Epochh : 6760, Average Train Meta Loss : 0.008283564251044302, Average Test Meta Loss : 0.008138301349834015\n",
            "Epochh : 6800, Average Train Meta Loss : 0.008274394446440524, Average Test Meta Loss : 0.008117973021980225\n",
            "Epochh : 6840, Average Train Meta Loss : 0.008264813949733435, Average Test Meta Loss : 0.008116974493732927\n",
            "Epochh : 6880, Average Train Meta Loss : 0.00823717917317774, Average Test Meta Loss : 0.00808933955033044\n",
            "Epochh : 6920, Average Train Meta Loss : 0.008217556966678604, Average Test Meta Loss : 0.008067577588989912\n",
            "Epochh : 6960, Average Train Meta Loss : 0.008190129286114806, Average Test Meta Loss : 0.008046180462642194\n",
            "Epochh : 7000, Average Train Meta Loss : 0.008174213616527969, Average Test Meta Loss : 0.008032299969433231\n",
            "Epochh : 7040, Average Train Meta Loss : 0.00817337870435486, Average Test Meta Loss : 0.008025967614974882\n",
            "Epochh : 7080, Average Train Meta Loss : 0.00815238302713884, Average Test Meta Loss : 0.008005575372155314\n",
            "Epochh : 7120, Average Train Meta Loss : 0.008151985770602622, Average Test Meta Loss : 0.007993710699206884\n",
            "Epochh : 7160, Average Train Meta Loss : 0.008135022783613971, Average Test Meta Loss : 0.007981614817184518\n",
            "Epochh : 7200, Average Train Meta Loss : 0.008126970148390134, Average Test Meta Loss : 0.007960885563909424\n",
            "Epochh : 7240, Average Train Meta Loss : 0.008114094097309602, Average Test Meta Loss : 0.007950142843974328\n",
            "Epochh : 7280, Average Train Meta Loss : 0.00812318420272725, Average Test Meta Loss : 0.007946122803296143\n",
            "Epochh : 7320, Average Train Meta Loss : 0.008116845665978886, Average Test Meta Loss : 0.007937235468676383\n",
            "Epochh : 7360, Average Train Meta Loss : 0.008104466044091534, Average Test Meta Loss : 0.00793967499231992\n",
            "Epochh : 7400, Average Train Meta Loss : 0.008090919070831527, Average Test Meta Loss : 0.007939258830482817\n",
            "Epochh : 7440, Average Train Meta Loss : 0.008071420685828888, Average Test Meta Loss : 0.007925148028280617\n",
            "Epochh : 7480, Average Train Meta Loss : 0.008054209124822338, Average Test Meta Loss : 0.007910201543251479\n",
            "Epochh : 7520, Average Train Meta Loss : 0.00804198558018487, Average Test Meta Loss : 0.007897594331185196\n",
            "Epochh : 7560, Average Train Meta Loss : 0.008025557713603488, Average Test Meta Loss : 0.007875284284951408\n",
            "Epochh : 7600, Average Train Meta Loss : 0.008022887840690565, Average Test Meta Loss : 0.00786572107977993\n",
            "Epochh : 7640, Average Train Meta Loss : 0.008016367848550539, Average Test Meta Loss : 0.007860967003579734\n",
            "Epochh : 7680, Average Train Meta Loss : 0.007995430537502575, Average Test Meta Loss : 0.007850519816712875\n",
            "Epochh : 7720, Average Train Meta Loss : 0.007973672814758392, Average Test Meta Loss : 0.00783020563880569\n",
            "Epochh : 7760, Average Train Meta Loss : 0.007996755427860425, Average Test Meta Loss : 0.007826935878835893\n",
            "Epochh : 7800, Average Train Meta Loss : 0.007985126433655206, Average Test Meta Loss : 0.007813998844148717\n",
            "Epochh : 7840, Average Train Meta Loss : 0.007986125054093093, Average Test Meta Loss : 0.00781569099214409\n",
            "Epochh : 7880, Average Train Meta Loss : 0.007973491574053132, Average Test Meta Loss : 0.0078043220438625315\n",
            "Epochh : 7920, Average Train Meta Loss : 0.00796532876697396, Average Test Meta Loss : 0.007801301143314931\n",
            "Epochh : 7960, Average Train Meta Loss : 0.007951866783334597, Average Test Meta Loss : 0.007788651373063996\n",
            "Epochh : 8000, Average Train Meta Loss : 0.007940439395770108, Average Test Meta Loss : 0.007776749523176565\n",
            "Epochh : 8040, Average Train Meta Loss : 0.007935494985193916, Average Test Meta Loss : 0.007764501016754022\n",
            "Epochh : 8080, Average Train Meta Loss : 0.00791866880880382, Average Test Meta Loss : 0.007749287972247644\n",
            "Epochh : 8120, Average Train Meta Loss : 0.007921479420494627, Average Test Meta Loss : 0.007744967884076635\n",
            "Epochh : 8160, Average Train Meta Loss : 0.00790834284241003, Average Test Meta Loss : 0.007745416276422062\n",
            "Epochh : 8200, Average Train Meta Loss : 0.007891724481898791, Average Test Meta Loss : 0.007727610091580126\n",
            "Epochh : 8240, Average Train Meta Loss : 0.007875820365363318, Average Test Meta Loss : 0.0077086742789013495\n",
            "Epochh : 8280, Average Train Meta Loss : 0.00786088414654628, Average Test Meta Loss : 0.007691603346670552\n",
            "Epochh : 8320, Average Train Meta Loss : 0.007846413503114035, Average Test Meta Loss : 0.007678159578350333\n",
            "Epochh : 8360, Average Train Meta Loss : 0.007835586355063028, Average Test Meta Loss : 0.0076630380777691545\n",
            "Epochh : 8400, Average Train Meta Loss : 0.007824090234737131, Average Test Meta Loss : 0.007643602383334332\n",
            "Epochh : 8440, Average Train Meta Loss : 0.0078088280701785135, Average Test Meta Loss : 0.007631779731580657\n",
            "Epochh : 8480, Average Train Meta Loss : 0.007803270763804753, Average Test Meta Loss : 0.007618465113783567\n",
            "Epochh : 8520, Average Train Meta Loss : 0.007796617260500731, Average Test Meta Loss : 0.00761263675539535\n",
            "Epochh : 8560, Average Train Meta Loss : 0.007779755407389929, Average Test Meta Loss : 0.007597736663066469\n",
            "Epochh : 8600, Average Train Meta Loss : 0.007770874625424506, Average Test Meta Loss : 0.007581168813485029\n",
            "Epochh : 8640, Average Train Meta Loss : 0.007759756511539319, Average Test Meta Loss : 0.007566648744280877\n",
            "Epochh : 8680, Average Train Meta Loss : 0.007754847289634797, Average Test Meta Loss : 0.007551645501895462\n",
            "Epochh : 8720, Average Train Meta Loss : 0.007754339566891704, Average Test Meta Loss : 0.0075508544319062435\n",
            "Epochh : 8760, Average Train Meta Loss : 0.007742850977844108, Average Test Meta Loss : 0.007540913578678541\n",
            "Epochh : 8800, Average Train Meta Loss : 0.00773374865279762, Average Test Meta Loss : 0.00753825272536884\n",
            "Epochh : 8840, Average Train Meta Loss : 0.007730033865958924, Average Test Meta Loss : 0.0075294216700200435\n",
            "Epochh : 8880, Average Train Meta Loss : 0.0077335688990440915, Average Test Meta Loss : 0.007522798351998805\n",
            "Epochh : 8920, Average Train Meta Loss : 0.007718740538302245, Average Test Meta Loss : 0.007519092247614958\n",
            "Epochh : 8960, Average Train Meta Loss : 0.007719584481377261, Average Test Meta Loss : 0.007532534815352698\n",
            "Epochh : 9000, Average Train Meta Loss : 0.007706106730984538, Average Test Meta Loss : 0.007527766321087651\n",
            "Epochh : 9040, Average Train Meta Loss : 0.007687762734609703, Average Test Meta Loss : 0.0075151798001741\n",
            "Epochh : 9080, Average Train Meta Loss : 0.007680317775850977, Average Test Meta Loss : 0.0075277434301077315\n",
            "Epochh : 9120, Average Train Meta Loss : 0.007665811650608753, Average Test Meta Loss : 0.007509662009038594\n",
            "Epochh : 9160, Average Train Meta Loss : 0.007654168510063976, Average Test Meta Loss : 0.007490553373017509\n",
            "Epochh : 9200, Average Train Meta Loss : 0.007639324298612834, Average Test Meta Loss : 0.007480952690027645\n",
            "Epochh : 9240, Average Train Meta Loss : 0.007633184831750118, Average Test Meta Loss : 0.007476224570511378\n",
            "Epochh : 9280, Average Train Meta Loss : 0.007629592697867458, Average Test Meta Loss : 0.00746953491013467\n",
            "Epochh : 9320, Average Train Meta Loss : 0.007618139742541886, Average Test Meta Loss : 0.007460505812851\n",
            "Epochh : 9360, Average Train Meta Loss : 0.0076114194398374056, Average Test Meta Loss : 0.007452416590755706\n",
            "Epochh : 9400, Average Train Meta Loss : 0.007611759539175632, Average Test Meta Loss : 0.007453933449100272\n",
            "Epochh : 9440, Average Train Meta Loss : 0.007599826621276154, Average Test Meta Loss : 0.007447414797191898\n",
            "Epochh : 9480, Average Train Meta Loss : 0.00758333853651548, Average Test Meta Loss : 0.007438733206192292\n",
            "Epochh : 9520, Average Train Meta Loss : 0.007573574149899492, Average Test Meta Loss : 0.007424825262064094\n",
            "Epochh : 9560, Average Train Meta Loss : 0.007566435369025613, Average Test Meta Loss : 0.007419724127449172\n",
            "Epochh : 9600, Average Train Meta Loss : 0.007554468385068076, Average Test Meta Loss : 0.007409666745606741\n",
            "Epochh : 9640, Average Train Meta Loss : 0.00754451954096252, Average Test Meta Loss : 0.007401892475236553\n",
            "Epochh : 9680, Average Train Meta Loss : 0.007539321758255493, Average Test Meta Loss : 0.007395721228108594\n",
            "Epochh : 9720, Average Train Meta Loss : 0.007529449688512881, Average Test Meta Loss : 0.007389400975878477\n",
            "Epochh : 9760, Average Train Meta Loss : 0.007521673936807816, Average Test Meta Loss : 0.007396872347912246\n",
            "Epochh : 9800, Average Train Meta Loss : 0.007523373720714052, Average Test Meta Loss : 0.007400400993734549\n",
            "Epochh : 9840, Average Train Meta Loss : 0.0075068262442917295, Average Test Meta Loss : 0.007390800251102862\n",
            "Epochh : 9880, Average Train Meta Loss : 0.007499404352004782, Average Test Meta Loss : 0.007390517267765771\n",
            "Epochh : 9920, Average Train Meta Loss : 0.0074921009697834625, Average Test Meta Loss : 0.007383836288043735\n",
            "Epochh : 9960, Average Train Meta Loss : 0.007483160410567153, Average Test Meta Loss : 0.007372444523566856\n",
            "Epochh : 10000, Average Train Meta Loss : 0.0074749408342618, Average Test Meta Loss : 0.007371810628551592\n",
            "Epochh : 10040, Average Train Meta Loss : 0.0074609126737193035, Average Test Meta Loss : 0.00736563019317743\n",
            "Epochh : 10080, Average Train Meta Loss : 0.0074506968373421675, Average Test Meta Loss : 0.007363098054429933\n",
            "Epochh : 10120, Average Train Meta Loss : 0.007452010955883207, Average Test Meta Loss : 0.007364534385217061\n",
            "Epochh : 10160, Average Train Meta Loss : 0.007448843820137854, Average Test Meta Loss : 0.007350537460364506\n",
            "Epochh : 10200, Average Train Meta Loss : 0.007441986957324655, Average Test Meta Loss : 0.00733851646519992\n",
            "Epochh : 10240, Average Train Meta Loss : 0.007440092667471509, Average Test Meta Loss : 0.007335312762131385\n",
            "Epochh : 10280, Average Train Meta Loss : 0.00743944988627032, Average Test Meta Loss : 0.0073348518658725185\n",
            "Epochh : 10320, Average Train Meta Loss : 0.00743279799915941, Average Test Meta Loss : 0.0073249049207013\n",
            "Epochh : 10360, Average Train Meta Loss : 0.0074250422655729835, Average Test Meta Loss : 0.007311966231662\n",
            "Epochh : 10400, Average Train Meta Loss : 0.007430219082622967, Average Test Meta Loss : 0.007301873868067406\n",
            "Epochh : 10440, Average Train Meta Loss : 0.00743345197780937, Average Test Meta Loss : 0.007308329979721847\n",
            "Epochh : 10480, Average Train Meta Loss : 0.007440625276203725, Average Test Meta Loss : 0.007313220172934374\n",
            "Epochh : 10520, Average Train Meta Loss : 0.007444611426796271, Average Test Meta Loss : 0.007307001761102819\n",
            "Epochh : 10560, Average Train Meta Loss : 0.00743573469254529, Average Test Meta Loss : 0.007301139216265871\n",
            "Epochh : 10600, Average Train Meta Loss : 0.007440365950504974, Average Test Meta Loss : 0.00729519845947624\n",
            "Epochh : 10640, Average Train Meta Loss : 0.0074293335731018635, Average Test Meta Loss : 0.007294137351413599\n",
            "Epochh : 10680, Average Train Meta Loss : 0.007426725051208994, Average Test Meta Loss : 0.007290683806599068\n",
            "Epochh : 10720, Average Train Meta Loss : 0.007411254000945879, Average Test Meta Loss : 0.007280076066695187\n",
            "Epochh : 10760, Average Train Meta Loss : 0.007398702013073271, Average Test Meta Loss : 0.0072683080458636135\n",
            "Epochh : 10800, Average Train Meta Loss : 0.007389061582337381, Average Test Meta Loss : 0.007256566564645542\n",
            "Epochh : 10840, Average Train Meta Loss : 0.007379596080104423, Average Test Meta Loss : 0.007252223644602695\n",
            "Epochh : 10880, Average Train Meta Loss : 0.007371846212148926, Average Test Meta Loss : 0.0072375455338768175\n",
            "Epochh : 10920, Average Train Meta Loss : 0.007363517170549371, Average Test Meta Loss : 0.00722631590485394\n",
            "Epochh : 10960, Average Train Meta Loss : 0.00735106903893616, Average Test Meta Loss : 0.00721565434124177\n",
            "Epochh : 11000, Average Train Meta Loss : 0.007350892768550095, Average Test Meta Loss : 0.007218904292119778\n",
            "Epochh : 11040, Average Train Meta Loss : 0.007338213055509756, Average Test Meta Loss : 0.007207553955547655\n",
            "Epochh : 11080, Average Train Meta Loss : 0.007335863720200667, Average Test Meta Loss : 0.007215375604661104\n",
            "Epochh : 11120, Average Train Meta Loss : 0.007322465687459834, Average Test Meta Loss : 0.007209478183545679\n",
            "Epochh : 11160, Average Train Meta Loss : 0.007320002142910925, Average Test Meta Loss : 0.007207049458501718\n",
            "Epochh : 11200, Average Train Meta Loss : 0.007307154262283724, Average Test Meta Loss : 0.007196761747313241\n",
            "Epochh : 11240, Average Train Meta Loss : 0.007296273978908518, Average Test Meta Loss : 0.007202914768446518\n",
            "Epochh : 11280, Average Train Meta Loss : 0.007294931017369029, Average Test Meta Loss : 0.007194782677523279\n",
            "Epochh : 11320, Average Train Meta Loss : 0.0072947696859691595, Average Test Meta Loss : 0.007190848456969491\n",
            "Epochh : 11360, Average Train Meta Loss : 0.007299332580976048, Average Test Meta Loss : 0.007181141404670449\n",
            "Epochh : 11400, Average Train Meta Loss : 0.007300691708024024, Average Test Meta Loss : 0.007178315020072184\n",
            "Epochh : 11440, Average Train Meta Loss : 0.0072980358780522486, Average Test Meta Loss : 0.007175103902148319\n",
            "Epochh : 11480, Average Train Meta Loss : 0.007297689272020605, Average Test Meta Loss : 0.007173342681809404\n",
            "Epochh : 11520, Average Train Meta Loss : 0.007281165764004172, Average Test Meta Loss : 0.007158146601531547\n",
            "Epochh : 11560, Average Train Meta Loss : 0.0072761227338903655, Average Test Meta Loss : 0.007150739430018157\n",
            "Epochh : 11600, Average Train Meta Loss : 0.007274131152203902, Average Test Meta Loss : 0.007144462576156597\n",
            "Epochh : 11640, Average Train Meta Loss : 0.007262569391382882, Average Test Meta Loss : 0.007132345015906629\n",
            "Epochh : 11680, Average Train Meta Loss : 0.0072562344467835185, Average Test Meta Loss : 0.007128012675764177\n",
            "Epochh : 11720, Average Train Meta Loss : 0.007264398568502866, Average Test Meta Loss : 0.007121316038286535\n",
            "Epochh : 11760, Average Train Meta Loss : 0.00727014306187508, Average Test Meta Loss : 0.007117787012562105\n",
            "Epochh : 11800, Average Train Meta Loss : 0.0072673388292382275, Average Test Meta Loss : 0.0071163014801959934\n",
            "Epochh : 11840, Average Train Meta Loss : 0.007258453549161724, Average Test Meta Loss : 0.0071076774697471255\n",
            "Epochh : 11880, Average Train Meta Loss : 0.007263153265368368, Average Test Meta Loss : 0.007106855802599078\n",
            "Epochh : 11920, Average Train Meta Loss : 0.007252014260904048, Average Test Meta Loss : 0.007101407360407721\n",
            "Epochh : 11960, Average Train Meta Loss : 0.007248871134916403, Average Test Meta Loss : 0.007095864120196354\n",
            "Epochh : 12000, Average Train Meta Loss : 0.007238020885876131, Average Test Meta Loss : 0.007087869498106081\n",
            "Epochh : 12040, Average Train Meta Loss : 0.00722501662937023, Average Test Meta Loss : 0.007085672305558193\n",
            "Epochh : 12080, Average Train Meta Loss : 0.007228515892825999, Average Test Meta Loss : 0.007087758498036872\n",
            "Epochh : 12120, Average Train Meta Loss : 0.007214732466063501, Average Test Meta Loss : 0.007076228468681754\n",
            "Epochh : 12160, Average Train Meta Loss : 0.0072055508800219015, Average Test Meta Loss : 0.007069507532046261\n",
            "Epochh : 12200, Average Train Meta Loss : 0.007210178973881423, Average Test Meta Loss : 0.007061150238994816\n",
            "Epochh : 12240, Average Train Meta Loss : 0.007209403250596293, Average Test Meta Loss : 0.00705978526940656\n",
            "Epochh : 12280, Average Train Meta Loss : 0.007202918409668396, Average Test Meta Loss : 0.007062100020696071\n",
            "Epochh : 12320, Average Train Meta Loss : 0.007205328781754955, Average Test Meta Loss : 0.007059011842471888\n",
            "Epochh : 12360, Average Train Meta Loss : 0.0071972074125517356, Average Test Meta Loss : 0.007059335664445385\n",
            "Epochh : 12400, Average Train Meta Loss : 0.007186880627513095, Average Test Meta Loss : 0.007049523179470542\n",
            "Epochh : 12440, Average Train Meta Loss : 0.00717368552426992, Average Test Meta Loss : 0.007045170665958368\n",
            "Epochh : 12480, Average Train Meta Loss : 0.007175030504473775, Average Test Meta Loss : 0.007067609896398126\n",
            "Epochh : 12520, Average Train Meta Loss : 0.0071673925016491015, Average Test Meta Loss : 0.00705981768325558\n",
            "Epochh : 12560, Average Train Meta Loss : 0.007167135135479, Average Test Meta Loss : 0.007069985221082764\n",
            "Epochh : 12600, Average Train Meta Loss : 0.0071585510600055205, Average Test Meta Loss : 0.007064243277250683\n",
            "Epochh : 12640, Average Train Meta Loss : 0.007153113662203343, Average Test Meta Loss : 0.007054490281987021\n",
            "Epochh : 12680, Average Train Meta Loss : 0.007142709041934879, Average Test Meta Loss : 0.007047566644103367\n",
            "Epochh : 12720, Average Train Meta Loss : 0.007132407977600173, Average Test Meta Loss : 0.007035258422035682\n",
            "Epochh : 12760, Average Train Meta Loss : 0.007120059236893945, Average Test Meta Loss : 0.0070228464283114125\n",
            "Epochh : 12800, Average Train Meta Loss : 0.007116452167305971, Average Test Meta Loss : 0.007024284123366815\n",
            "Epochh : 12840, Average Train Meta Loss : 0.007110670345539574, Average Test Meta Loss : 0.007017018799276548\n",
            "Epochh : 12880, Average Train Meta Loss : 0.0071056768161214204, Average Test Meta Loss : 0.007009277643869038\n",
            "Epochh : 12920, Average Train Meta Loss : 0.007100090281537326, Average Test Meta Loss : 0.006998468265149745\n",
            "Epochh : 12960, Average Train Meta Loss : 0.007086355600212457, Average Test Meta Loss : 0.006986548450120985\n"
          ]
        }
      ],
      "source": [
        "# Training loop\n",
        "for epoch in range(13000):\n",
        "        \n",
        "    # Sample a task at random 0-18 regression tasks --> T, task should only change per epoch, so it is only updated here\n",
        "    task = random.randint(0,17) #Note that for this problem 'task' must be passed to the evaluation function --> graph.y has all the selection targets, we only use the one specified by task\n",
        "\n",
        "    # Empty list\n",
        "    graph = []\n",
        "\n",
        "    for i in range(K): #Store graphs\n",
        "      graph.append(random.sample(GRAPH_TRAIN, 1)[0])\n",
        "\n",
        "    # Create graph mini batch from list\n",
        "    graph = create_mini_batch(graph)\n",
        "\n",
        "    # Update model predefined number of times based on k\n",
        "    new_model = training(model, graph, lr_k, k,task)\n",
        "\n",
        "    # Evalaute the loss for the training data\n",
        "    train_set_evaluation(new_model,graph,store_train_loss_meta,task)     \n",
        "    \n",
        "    #Meta-update --> Get gradient for meta loop and update\n",
        "    metaupdate(model,new_model,metaoptimizer)\n",
        "    \n",
        "    # Evalaute the loss for the test data\n",
        "    # Note that we need to sample the graph from the test data\n",
        "\n",
        "    graph = []\n",
        "    for i in range(K): #Store graphs\n",
        "      graph.append(random.sample(GRAPH_TEST, 1)[0])\n",
        "    graph = create_mini_batch(graph)\n",
        "\n",
        "    test_set_validation(model,new_model,graph,lr_k,k,store_test_loss_meta,task)\n",
        "\n",
        "    # Print losses every 'printing_step' epochs\n",
        "    print_losses(epoch,store_train_loss_meta,store_test_loss_meta,printing_step)"
      ],
      "id": "-4-zQWWKFt3s"
    },
    {
      "cell_type": "code",
      "source": [
        "graph_type = \"equiv\"\n",
        "\n",
        "num_evals = 100\n",
        "\n",
        "all_losses = []\n",
        "for test_eval in range(num_evals): \n",
        "\n",
        "    task = 18\n",
        "    graph = []\n",
        "    for i in range(K): #Store graphs\n",
        "        graph.append(random.sample(GRAPH_TEST, 1)[0])\n",
        "    graph = create_mini_batch(graph)\n",
        "\n",
        "    k_shot_updates = 6\n",
        "    initialization_to_store_meta_losses()\n",
        "    for shots in range(k_shot_updates):\n",
        "        new_model = training(model, graph, lr_k,shots, task)\n",
        "        train_set_evaluation(new_model,graph,store_train_loss_meta, task) \n",
        "    all_losses.append(np.array(store_train_loss_meta))\n",
        "\n",
        "# plt.plot(store_train_loss_meta,label = 'Loss')\n",
        "# plt.legend()\n",
        "# plt.xlabel('k shots')\n",
        "\n",
        "\n",
        "all_losses = np.array(all_losses)\n",
        "np.save(f\"reptile_graph_{graph_type}_k.npy\", all_losses)\n",
        "    \n",
        "fig, ax = plt.subplots(figsize=(8,4))\n",
        "\n",
        "mean_loss = np.mean(all_losses, axis=0)\n",
        "\n",
        "# confidence interval plotting help from: https://stackoverflow.com/questions/59747313/how-to-plot-confidence-interval-in-python\n",
        "y = mean_loss\n",
        "x = list(range(len(mean_loss)))\n",
        "ci = 1.96 * np.std(all_losses, axis=0)**2/np.sqrt(len(y))\n",
        "\n",
        "ax_size=16\n",
        "title_size=18\n",
        "                                                  \n",
        "ax.plot(x, y, linewidth=3, label=f\"Mean Loss\")\n",
        "# to avoid having MSE < 0\n",
        "truncated_error = np.clip(y-ci, a_min=0, a_max=None)\n",
        "ax.fill_between(x, truncated_error, (y+ci), alpha=.5,label=f\"95% CI\")\n",
        "\n",
        "ax.set_xlabel(\"Gradient Steps\",fontsize=ax_size)\n",
        "ax.set_ylabel(\"Mean Squared Error (MSE)\",fontsize=ax_size)\n",
        "ax.set_title(\"Graph Regression: k-Shot Evaluation\",fontsize=title_size)\n",
        "ax.legend()#loc=\"upper right\")\n",
        "plt.savefig(f\"graph_reg_{graph_type}_kshot.png\")"
      ],
      "metadata": {
        "colab": {
          "base_uri": "https://localhost:8080/",
          "height": 304
        },
        "id": "Xl8uaKm-DI96",
        "outputId": "1eebb717-385a-416d-d0bc-56e42544978e"
      },
      "id": "Xl8uaKm-DI96",
      "execution_count": null,
      "outputs": [
        {
          "output_type": "display_data",
          "data": {
            "text/plain": [
              "<Figure size 576x288 with 1 Axes>"
            ],
            "image/png": "[encoded data removed]"
          },
          "metadata": {
            "needs_background": "light"
          }
        }
      ]
    },
    {
      "cell_type": "code",
      "source": [
        "truncated_error"
      ],
      "metadata": {
        "colab": {
          "base_uri": "https://localhost:8080/"
        },
        "id": "4LZXDZsej4b9",
        "outputId": "509217d8-5b28-45b1-ce11-e14ec0636775"
      },
      "id": "4LZXDZsej4b9",
      "execution_count": null,
      "outputs": [
        {
          "output_type": "execute_result",
          "data": {
            "text/plain": [
              "array([0.06999899, 0.00041966, 0.00028433, 0.00028311, 0.0002827 ,\n",
              "       0.0002823 ])"
            ]
          },
          "metadata": {},
          "execution_count": 50
        }
      ]
    },
    {
      "cell_type": "code",
      "source": [
        "ci"
      ],
      "metadata": {
        "colab": {
          "base_uri": "https://localhost:8080/"
        },
        "id": "yo7tzXMAqmKm",
        "outputId": "c9970086-3912-41bc-80ae-0b8975281195"
      },
      "id": "yo7tzXMAqmKm",
      "execution_count": null,
      "outputs": [
        {
          "output_type": "execute_result",
          "data": {
            "text/plain": [
              "array([5.46815887e-05, 7.48171870e-08, 4.74492172e-08, 4.68984933e-08,\n",
              "       4.62964109e-08, 4.57051227e-08])"
            ]
          },
          "metadata": {},
          "execution_count": 51
        }
      ]
    },
    {
      "cell_type": "code",
      "source": [
        "torch.save(model,'mp_qm9')"
      ],
      "metadata": {
        "id": "mKAYctDRpcc8"
      },
      "id": "mKAYctDRpcc8",
      "execution_count": null,
      "outputs": []
    },
    {
      "cell_type": "markdown",
      "metadata": {
        "id": "bQjoz6FYctJM"
      },
      "source": [
        "<h1> Few Shot learning with new meta-model"
      ],
      "id": "bQjoz6FYctJM"
    },
    {
      "cell_type": "markdown",
      "metadata": {
        "id": "m-SPUG5Bfpe9"
      },
      "source": [
        "The model performs good few shot learning"
      ],
      "id": "m-SPUG5Bfpe9"
    },
    {
      "cell_type": "code",
      "execution_count": null,
      "metadata": {
        "id": "3hxgwCdOsXrt"
      },
      "outputs": [],
      "source": [
        "model_copy = copy_existing_model(model)"
      ],
      "id": "3hxgwCdOsXrt"
    },
    {
      "cell_type": "code",
      "execution_count": null,
      "metadata": {
        "id": "TzbsmD4msnm1"
      },
      "outputs": [],
      "source": [
        "if choose_model == 'C':\n",
        "  model_random = GCN()\n",
        "elif choose_model == 'A':\n",
        "  model_random = GAT()\n",
        "elif choose_model == 'MP':\n",
        "  model_random = MPNNModel()"
      ],
      "id": "TzbsmD4msnm1"
    },
    {
      "cell_type": "code",
      "execution_count": null,
      "metadata": {
        "colab": {
          "base_uri": "https://localhost:8080/",
          "height": 351
        },
        "id": "GY84TNs8JXVH",
        "outputId": "1b96818b-a885-43fd-a314-d7f045b977fd"
      },
      "outputs": [
        {
          "output_type": "stream",
          "name": "stderr",
          "text": [
            "/usr/local/lib/python3.7/dist-packages/torch/nn/modules/loss.py:520: UserWarning: Using a target size (torch.Size([10, 1])) that is different to the input size (torch.Size([10, 1, 1])). This will likely lead to incorrect results due to broadcasting. Please ensure they have the same size.\n",
            "  return F.mse_loss(input, target, reduction=self.reduction)\n"
          ]
        },
        {
          "output_type": "execute_result",
          "data": {
            "text/plain": [
              "Text(0.5, 0, 'k shots')"
            ]
          },
          "metadata": {},
          "execution_count": 58
        },
        {
          "output_type": "display_data",
          "data": {
            "text/plain": [
              "<Figure size 432x288 with 1 Axes>"
            ],
            "image/png": "[encoded data removed]"
          },
          "metadata": {
            "needs_background": "light"
          }
        }
      ],
      "source": [
        "task = 18\n",
        "graph = []\n",
        "for i in range(K): #Store graphs\n",
        "    graph.append(random.sample(GRAPH_TEST, 1)[0])\n",
        "graph = create_mini_batch(graph)\n",
        "\n",
        "k_shot_updates = 6\n",
        "initialization_to_store_meta_losses()\n",
        "for shots in range(k_shot_updates):\n",
        "    new_model = training(model, graph, lr_k,shots, task)\n",
        "    train_set_evaluation(new_model,graph,store_train_loss_meta, task) \n",
        "\n",
        "plt.plot(store_train_loss_meta,label = 'Loss')\n",
        "plt.legend()\n",
        "plt.xlabel('k shots')"
      ],
      "id": "GY84TNs8JXVH"
    },
    {
      "cell_type": "code",
      "source": [
        "store_train_loss_meta"
      ],
      "metadata": {
        "colab": {
          "base_uri": "https://localhost:8080/"
        },
        "id": "WCRk4IGouEfI",
        "outputId": "08fdccf3-8549-4ca7-89bc-2676bac72f5d"
      },
      "id": "WCRk4IGouEfI",
      "execution_count": null,
      "outputs": [
        {
          "output_type": "execute_result",
          "data": {
            "text/plain": [
              "[0.10129471868276596,\n",
              " 0.025039002299308777,\n",
              " 0.014029200188815594,\n",
              " 0.013444460928440094,\n",
              " 0.013142049312591553,\n",
              " 0.013015979900956154]"
            ]
          },
          "metadata": {},
          "execution_count": 59
        }
      ]
    },
    {
      "cell_type": "code",
      "source": [
        ""
      ],
      "metadata": {
        "id": "OYXyAYuduGO5"
      },
      "id": "OYXyAYuduGO5",
      "execution_count": null,
      "outputs": []
    }
  ],
  "metadata": {
    "accelerator": "GPU",
    "colab": {
      "collapsed_sections": [],
      "name": "Reptile_GraphNN_Regression_QM9.ipynb",
      "provenance": []
    },
    "kernelspec": {
      "display_name": "Python 3",
      "language": "python",
      "name": "python3"
    },
    "language_info": {
      "codemirror_mode": {
        "name": "ipython",
        "version": 3
      },
      "file_extension": ".py",
      "mimetype": "text/x-python",
      "name": "python",
      "nbconvert_exporter": "python",
      "pygments_lexer": "ipython3",
      "version": "3.8.8"
    }
  },
  "nbformat": 4,
  "nbformat_minor": 5
}