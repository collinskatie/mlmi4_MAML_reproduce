{
  "cells": [
    {
      "cell_type": "markdown",
      "metadata": {
        "id": "jNrO9U6opKV0"
      },
      "source": [
        "Notes: \n",
        "- some helper functions have been modified for this task\n",
        "- graph specific extra helper functions have been added\n",
        "- A normalization trick has been used to bound the regression target of all tasks between 0 and 1 and ease meta learning (note that in the original sinewave regression, a bound also existed on the y target based on the wave amplitude)."
      ],
      "id": "jNrO9U6opKV0"
    },
    {
      "cell_type": "markdown",
      "metadata": {
        "id": "UrjQGgr5nUHC"
      },
      "source": [
        "<h1> Imports and Installs"
      ],
      "id": "UrjQGgr5nUHC"
    },
    {
      "cell_type": "code",
      "execution_count": null,
      "metadata": {
        "id": "S2WfmJiVTDpE",
        "colab": {
          "base_uri": "https://localhost:8080/"
        },
        "outputId": "d4d3bcad-9518-4aa9-d7d7-4390ab1a655f"
      },
      "outputs": [
        {
          "output_type": "stream",
          "name": "stdout",
          "text": [
            "\u001b[K     |████████████████████████████████| 7.9 MB 4.3 MB/s \n",
            "\u001b[K     |████████████████████████████████| 3.5 MB 4.0 MB/s \n",
            "\u001b[?25h  Building wheel for torch-geometric (setup.py) ... \u001b[?25l\u001b[?25hdone\n"
          ]
        }
      ],
      "source": [
        "# Install required packages.\n",
        "!pip install -q torch-scatter -f https://pytorch-geometric.com/whl/torch-1.10.0+cu113.html\n",
        "!pip install -q torch-sparse -f https://pytorch-geometric.com/whl/torch-1.10.0+cu113.html\n",
        "!pip install -q git+https://github.com/rusty1s/pytorch_geometric.git"
      ],
      "id": "S2WfmJiVTDpE"
    },
    {
      "cell_type": "code",
      "execution_count": null,
      "metadata": {
        "id": "eGl9mcc0nOMP"
      },
      "outputs": [],
      "source": [
        "import matplotlib.pyplot as plt\n",
        "import numpy as np\n",
        "\n",
        "# Required imports for neural network\n",
        "import torch.nn as nn\n",
        "import torch\n",
        "from torch.autograd import Variable\n",
        "import random\n",
        "\n",
        "# For GNNs\n",
        "from torch.nn import Linear\n",
        "from torch.nn import BatchNorm1d\n",
        "import torch.nn.functional as F\n",
        "from torch_geometric.nn import GATv2Conv\n",
        "from torch_geometric.nn import GraphConv\n",
        "from torch_geometric.nn import GraphNorm\n",
        "from torch_geometric.nn import global_mean_pool\n",
        "from torch_geometric.nn import global_max_pool\n",
        "import torch.nn as nn"
      ],
      "id": "eGl9mcc0nOMP"
    },
    {
      "cell_type": "markdown",
      "metadata": {
        "id": "T3KVOwFXFOY0"
      },
      "source": [
        "<h1> Data Loading and Generation\n",
        "\n",
        "Reptile for regression task using GNNs\n",
        "\n",
        "Some common GNN datasets are here:\n",
        "https://pytorch-geometric.readthedocs.io/en/latest/modules/datasets.html#torch_geometric.datasets.GNNBenchmarkDataset\n",
        "\n",
        "We will use a regression dataset with 19 regression targets from the paper:\n",
        "“MoleculeNet: A Benchmark for Molecular Machine Learning”"
      ],
      "id": "T3KVOwFXFOY0"
    },
    {
      "cell_type": "markdown",
      "metadata": {
        "id": "jvvZSOiQe-Ne"
      },
      "source": [
        "For this implementation we focus on regressing only the Dipole moment"
      ],
      "id": "jvvZSOiQe-Ne"
    },
    {
      "cell_type": "code",
      "execution_count": null,
      "metadata": {
        "id": "4f6ABEuNpIBM"
      },
      "outputs": [],
      "source": [
        "# url = 'https://anaconda.org/rdkit/rdkit/2018.09.1.0/download/linux-64/rdkit-2018.09.1.0-py36h71b666b_1.tar.bz2'\n",
        "# !curl -L $url | tar xj lib\n",
        "# # move to python packages directory\n",
        "# !mv lib/python3.6/site-packages/rdkit /usr/local/lib/python3.6/dist-packages/\n",
        "# x86 = '/usr/lib/x86_64-linux-gnu'\n",
        "# !mv lib/*.so.* $x86/\n",
        "# # rdkit need libboost_python3.so.1.65.1\n",
        "# !ln -s $x86/libboost_python3-py36.so.1.65.1 $x86/libboost_python3.so.1.65.1"
      ],
      "id": "4f6ABEuNpIBM"
    },
    {
      "cell_type": "code",
      "execution_count": null,
      "metadata": {
        "id": "js9YzS3vpPOi"
      },
      "outputs": [],
      "source": [
        "# !pip install kora -q\n",
        "# import kora.install.rdkit"
      ],
      "id": "js9YzS3vpPOi"
    },
    {
      "cell_type": "code",
      "execution_count": null,
      "metadata": {
        "id": "PIExsutGTQcB"
      },
      "outputs": [],
      "source": [
        "import torch\n",
        "from torch_geometric.datasets import TUDataset\n",
        "#https://chrsmrrs.github.io/datasets/docs/datasets/ alchemy full from the TUDataset\n",
        "dataset = TUDataset(root='data/TUDataset',name=\"alchemy_full\")"
      ],
      "id": "PIExsutGTQcB"
    },
    {
      "cell_type": "code",
      "execution_count": null,
      "metadata": {
        "id": "LxK2rDRNTSxd"
      },
      "outputs": [],
      "source": [
        "# This function is based on https://pytorch-geometric.readthedocs.io/en/latest/notes/colabs.html\n",
        "\n",
        "#Function to display properties of the dataset (it is not necessary for anything)\n",
        "def display_graph_dataset_properties(dataset):\n",
        "  print()\n",
        "  print(f'Dataset: {dataset}:')\n",
        "  print('====================')\n",
        "  print(f'Number of graphs: {len(dataset)}')\n",
        "  print(f'Number of features: {dataset.num_features}')\n",
        "  print(f'Number of classes: {dataset.num_classes}')\n",
        "\n",
        "  data = dataset[0]  # Get the first graph object.Ç\n",
        "\n",
        "  print()\n",
        "  print('Look at a sample graph of the dataset')\n",
        "  print(data)\n",
        "  print('=============================================================')\n",
        "\n",
        "  # Gather some statistics about the first graph.\n",
        "  print(f'Number of nodes: {data.num_nodes}')\n",
        "  print(f'Number of edges: {data.num_edges}')\n",
        "  print(f'Average node degree: {data.num_edges / data.num_nodes:.2f}')\n",
        "  print(f'Has isolated nodes: {data.has_isolated_nodes()}')\n",
        "  print(f'Has self-loops: {data.has_self_loops()}')\n",
        "  print(f'Is undirected: {data.is_undirected()}')"
      ],
      "id": "LxK2rDRNTSxd"
    },
    {
      "cell_type": "code",
      "execution_count": null,
      "metadata": {
        "colab": {
          "base_uri": "https://localhost:8080/"
        },
        "id": "GC6T1VZPF9Ba",
        "outputId": "deebaa1b-7335-4096-c851-61ed35bef61a"
      },
      "outputs": [
        {
          "output_type": "stream",
          "name": "stdout",
          "text": [
            "\n",
            "Dataset: alchemy_full(202579):\n",
            "====================\n",
            "Number of graphs: 202579\n",
            "Number of features: 6\n",
            "Number of classes: 12\n",
            "\n",
            "Look at a sample graph of the dataset\n",
            "Data(edge_index=[2, 20], x=[10, 6], edge_attr=[20, 4], y=[1, 12])\n",
            "=============================================================\n",
            "Number of nodes: 10\n",
            "Number of edges: 20\n",
            "Average node degree: 2.00\n",
            "Has isolated nodes: False\n",
            "Has self-loops: False\n",
            "Is undirected: True\n"
          ]
        }
      ],
      "source": [
        "display_graph_dataset_properties(dataset)"
      ],
      "id": "GC6T1VZPF9Ba"
    },
    {
      "cell_type": "code",
      "execution_count": null,
      "metadata": {
        "id": "lD_MRHC8T8Za"
      },
      "outputs": [],
      "source": [
        "# Transform the dataset into a list\n",
        "dataset_list = []\n",
        "\n",
        "for i in range(len(dataset)):\n",
        "  dataset_list.append(dataset[i])"
      ],
      "id": "lD_MRHC8T8Za"
    },
    {
      "cell_type": "code",
      "execution_count": null,
      "metadata": {
        "id": "a3X51uGHDvSV"
      },
      "outputs": [],
      "source": [
        "#Shuffle the dataset list\n",
        "random.shuffle(dataset_list)\n",
        "#Split into train and test\n",
        "GRAPH_TRAIN = dataset_list[:int(np.floor(len(dataset_list)*0.9))]\n",
        "GRAPH_TEST = dataset_list[int(np.floor(len(dataset_list)*0.9)):]"
      ],
      "id": "a3X51uGHDvSV"
    },
    {
      "cell_type": "code",
      "execution_count": null,
      "metadata": {
        "id": "Jg-MK0_ArOB6"
      },
      "outputs": [],
      "source": [
        "y_values = []\n",
        "for i in range(len(GRAPH_TRAIN)):\n",
        "  for j in range(12):\n",
        "    y_values.append(GRAPH_TRAIN[i].y[0][j].item())\n",
        "\n",
        "for i in range(len(GRAPH_TEST)):\n",
        "  for j in range(12):\n",
        "    y_values.append(GRAPH_TEST[i].y[0][j].item())\n",
        "\n",
        "mean = np.mean(np.array(y_values))\n",
        "std = np.std(np.array(y_values))\n",
        "\n",
        "for i in range(len(GRAPH_TRAIN)):\n",
        "  for j in range(12):\n",
        "    GRAPH_TRAIN[i].y[0][j]=(GRAPH_TRAIN[i].y[0][j]-mean)/std\n",
        "\n",
        "for i in range(len(GRAPH_TEST)):\n",
        "  for j in range(12):\n",
        "    GRAPH_TEST[i].y[0][j]=(GRAPH_TEST[i].y[0][j]-mean)/std"
      ],
      "id": "Jg-MK0_ArOB6"
    },
    {
      "cell_type": "markdown",
      "metadata": {
        "id": "i8e0UtCj9yUh"
      },
      "source": [
        "<h1> Equivariant Message Passing Model (based on Haitz Sáez de Ocáriz Borde's coursework for L45)"
      ],
      "id": "i8e0UtCj9yUh"
    },
    {
      "cell_type": "code",
      "execution_count": null,
      "metadata": {
        "id": "NLQskUOr_Q8E",
        "colab": {
          "base_uri": "https://localhost:8080/"
        },
        "outputId": "ebd95436-9928-48e8-b2e4-9fe51f2f11be"
      },
      "outputs": [
        {
          "output_type": "stream",
          "name": "stdout",
          "text": [
            "\u001b[K     |████████████████████████████████| 370 kB 4.3 MB/s \n",
            "\u001b[K     |████████████████████████████████| 482 kB 55.2 MB/s \n",
            "\u001b[K     |████████████████████████████████| 41 kB 619 kB/s \n",
            "\u001b[?25h  Building wheel for torch-geometric (setup.py) ... \u001b[?25l\u001b[?25hdone\n"
          ]
        }
      ],
      "source": [
        "!pip install -q torch-scatter -f https://pytorch-geometric.com/whl/torch-1.10.0+cu111.html\n",
        "!pip install -q torch-geometric==2.0.3"
      ],
      "id": "NLQskUOr_Q8E"
    },
    {
      "cell_type": "code",
      "execution_count": null,
      "metadata": {
        "id": "iVImWCea--7k"
      },
      "outputs": [],
      "source": [
        "from torch_geometric.nn import MessagePassing\n",
        "#To calculate euclidean distance\n",
        "import torch.nn as nn\n",
        "pdist = nn.PairwiseDistance(p=2)\n",
        "from torch.nn import Linear, ReLU, BatchNorm1d, Module, Sequential\n",
        "from torch_scatter import scatter\n",
        "from torch_scatter import scatter_mean"
      ],
      "id": "iVImWCea--7k"
    },
    {
      "cell_type": "code",
      "execution_count": null,
      "metadata": {
        "id": "o3Rbh_Rg-9Bw"
      },
      "outputs": [],
      "source": [
        "class MPNNLayer(MessagePassing):\n",
        "    def __init__(self, emb_dim=64, edge_dim=4, aggr='add'):\n",
        "        \"\"\"Message Passing Neural Network Layer\n",
        "\n",
        "        Args:\n",
        "            emb_dim: (int) - hidden dimension `d`\n",
        "            edge_dim: (int) - edge feature dimension `d_e`\n",
        "            aggr: (str) - aggregation function `\\oplus` (sum/mean/max)\n",
        "        \"\"\"\n",
        "        # Set the aggregation function\n",
        "        super().__init__(aggr=aggr)\n",
        "\n",
        "        self.emb_dim = emb_dim\n",
        "        self.edge_dim = edge_dim\n",
        "\n",
        "        # MLP `\\psi` for computing messages `m_ij`\n",
        "        # Implemented as a stack of Linear->BN->ReLU->Linear->BN->ReLU\n",
        "        # dims: (2d + d_e) -> d\n",
        "        self.mlp_msg = Sequential(\n",
        "            Linear(2*emb_dim + edge_dim, emb_dim), BatchNorm1d(emb_dim), ReLU(),\n",
        "            Linear(emb_dim, emb_dim), BatchNorm1d(emb_dim), ReLU()\n",
        "          )\n",
        "        \n",
        "        # MLP `\\phi` for computing updated node features `h_i^{l+1}`\n",
        "        # Implemented as a stack of Linear->BN->ReLU->Linear->BN->ReLU\n",
        "        # dims: 2d -> d\n",
        "        self.mlp_upd = Sequential(\n",
        "            Linear(2*emb_dim, emb_dim), BatchNorm1d(emb_dim), ReLU(), \n",
        "            Linear(emb_dim, emb_dim), BatchNorm1d(emb_dim), ReLU()\n",
        "          )\n",
        "\n",
        "    def forward(self, h, edge_index, edge_attr):\n",
        "        \"\"\"\n",
        "        The forward pass updates node features `h` via one round of message passing.\n",
        "\n",
        "        As our MPNNLayer class inherits from the PyG MessagePassing parent class,\n",
        "        we simply need to call the `propagate()` function which starts the \n",
        "        message passing procedure: `message()` -> `aggregate()` -> `update()`.\n",
        "        \n",
        "        The MessagePassing class handles most of the logic for the implementation.\n",
        "        To build custom GNNs, we only need to define our own `message()`, \n",
        "        `aggregate()`, and `update()` functions (defined subsequently).\n",
        "\n",
        "        Args:\n",
        "            h: (n, d) - initial node features\n",
        "            edge_index: (e, 2) - pairs of edges (i, j)\n",
        "            edge_attr: (e, d_e) - edge features\n",
        "\n",
        "        Returns:\n",
        "            out: (n, d) - updated node features\n",
        "        \"\"\"\n",
        "        out = self.propagate(edge_index, h=h, edge_attr=edge_attr)\n",
        "        return out\n",
        "\n",
        "    def message(self, h_i, h_j, edge_attr):\n",
        "        \"\"\"Step (1) Message\n",
        "\n",
        "        The `message()` function constructs messages from source nodes j \n",
        "        to destination nodes i for each edge (i, j) in `edge_index`.\n",
        "\n",
        "        The arguments can be a bit tricky to understand: `message()` can take \n",
        "        any arguments that were initially passed to `propagate`. Additionally, \n",
        "        we can differentiate destination nodes and source nodes by appending \n",
        "        `_i` or `_j` to the variable name, e.g. for the node features `h`, we\n",
        "        can use `h_i` and `h_j`. \n",
        "        \n",
        "        This part is critical to understand as the `message()` function\n",
        "        constructs messages for each edge in the graph. The indexing of the\n",
        "        original node features `h` (or other node variables) is handled under\n",
        "        the hood by PyG.\n",
        "\n",
        "        Args:\n",
        "            h_i: (e, d) - destination node features\n",
        "            h_j: (e, d) - source node features\n",
        "            edge_attr: (e, d_e) - edge features\n",
        "        \n",
        "        Returns:\n",
        "            msg: (e, d) - messages `m_ij` passed through MLP `\\psi`\n",
        "        \"\"\"\n",
        "        msg = torch.cat([h_i, h_j, edge_attr], dim=-1)\n",
        "        return self.mlp_msg(msg)\n",
        "    \n",
        "    def aggregate(self, inputs, index):\n",
        "        \"\"\"Step (2) Aggregate\n",
        "\n",
        "        The `aggregate` function aggregates the messages from neighboring nodes,\n",
        "        according to the chosen aggregation function ('sum' by default).\n",
        "\n",
        "        Args:\n",
        "            inputs: (e, d) - messages `m_ij` from destination to source nodes\n",
        "            index: (e, 1) - list of source nodes for each edge/message in `input`\n",
        "\n",
        "        Returns:\n",
        "            aggr_out: (n, d) - aggregated messages `m_i`\n",
        "        \"\"\"\n",
        "        return scatter(inputs, index, dim=self.node_dim, reduce=self.aggr)\n",
        "    \n",
        "    def update(self, aggr_out, h):\n",
        "        \"\"\"\n",
        "        Step (3) Update\n",
        "\n",
        "        The `update()` function computes the final node features by combining the \n",
        "        aggregated messages with the initial node features.\n",
        "\n",
        "        `update()` takes the first argument `aggr_out`, the result of `aggregate()`, \n",
        "        as well as any optional arguments that were initially passed to \n",
        "        `propagate()`. E.g. in this case, we additionally pass `h`.\n",
        "\n",
        "        Args:\n",
        "            aggr_out: (n, d) - aggregated messages `m_i`\n",
        "            h: (n, d) - initial node features\n",
        "\n",
        "        Returns:\n",
        "            upd_out: (n, d) - updated node features passed through MLP `\\phi`\n",
        "        \"\"\"\n",
        "        upd_out = torch.cat([h, aggr_out], dim=-1)\n",
        "        return self.mlp_upd(upd_out)\n",
        "\n",
        "    def __repr__(self) -> str:\n",
        "        return (f'{self.__class__.__name__}(emb_dim={self.emb_dim}, aggr={self.aggr})')\n",
        "\n",
        "class MPNNModel(Module):\n",
        "    def __init__(self, num_layers=3, emb_dim=64, in_dim=6, edge_dim=4, out_dim=1):\n",
        "        \"\"\"Message Passing Neural Network model for graph property prediction\n",
        "\n",
        "        Args:\n",
        "            num_layers: (int) - number of message passing layers `L`\n",
        "            emb_dim: (int) - hidden dimension `d`\n",
        "            in_dim: (int) - initial node feature dimension `d_n`\n",
        "            edge_dim: (int) - edge feature dimension `d_e`\n",
        "            out_dim: (int) - output dimension (fixed to 1)\n",
        "        \"\"\"\n",
        "        super().__init__()\n",
        "        \n",
        "        # Linear projection for initial node features\n",
        "        # dim: d_n -> d\n",
        "        self.lin_in = Linear(in_dim, emb_dim)\n",
        "        \n",
        "        # Stack of MPNN layers\n",
        "        self.convs = torch.nn.ModuleList()\n",
        "        for layer in range(num_layers):\n",
        "            self.convs.append(MPNNLayer(emb_dim, edge_dim, aggr='add'))\n",
        "        \n",
        "        # Global pooling/readout function `R` (mean pooling)\n",
        "        # PyG handles the underlying logic via `global_mean_pool()`\n",
        "        self.pool = global_max_pool\n",
        "\n",
        "        # Linear prediction head\n",
        "        # dim: d -> out_dim\n",
        "        self.lin_pred = Linear(emb_dim, out_dim)\n",
        "        \n",
        "    def forward(self, data):\n",
        "        \"\"\"\n",
        "        Args:\n",
        "            data: (PyG.Data) - batch of PyG graphs\n",
        "\n",
        "        Returns: \n",
        "            out: (batch_size, out_dim) - prediction for each graph\n",
        "        \"\"\"\n",
        "        h = self.lin_in(data.x) # (n, d_n) -> (n, d)\n",
        "        \n",
        "        for conv in self.convs:\n",
        "            h = h + conv(h, data.edge_index, data.edge_attr) # (n, d) -> (n, d)\n",
        "            # Note that we add a residual connection after each MPNN layer\n",
        "\n",
        "        h_graph = self.pool(h, data.batch) # (n, d) -> (batch_size, d)\n",
        "\n",
        "        out = self.lin_pred(h_graph) # (batch_size, d) -> (batch_size, 1)\n",
        "\n",
        "        return out.view(-1)"
      ],
      "id": "o3Rbh_Rg-9Bw"
    },
    {
      "cell_type": "markdown",
      "metadata": {
        "id": "cu4urLF7Q88A"
      },
      "source": [
        "<h1> Simplistic GNN Model"
      ],
      "id": "cu4urLF7Q88A"
    },
    {
      "cell_type": "code",
      "execution_count": null,
      "metadata": {
        "id": "R1B0YTz6ytyN"
      },
      "outputs": [],
      "source": [
        "from torch_geometric.nn import GCNConv\n",
        "from torch_geometric.nn import GATConv\n",
        "from torch_geometric.nn import GraphNorm\n",
        "\n",
        "class GCN(torch.nn.Module):\n",
        "    def __init__(self, input_dim=6, hidden_dim=64, output_dim=1):\n",
        "        super(GCN, self).__init__()\n",
        "\n",
        "        #Hidden Layers\n",
        "        self.hidden1 = GCNConv(input_dim, hidden_dim)\n",
        "        self.hidden2 = GCNConv(hidden_dim, hidden_dim)\n",
        "        self.hidden3 = GCNConv(hidden_dim, output_dim)\n",
        "        self.norm = GraphNorm(hidden_dim)\n",
        "\n",
        "        #Activation Function\n",
        "        self.relu = nn.ReLU()\n",
        "\n",
        "        \n",
        "\n",
        "    def forward(self, data):\n",
        "        edge_index = data.edge_index\n",
        "        batch = data.batch\n",
        "        input_x = data.x\n",
        "      \n",
        "        #Standard forward\n",
        "        x = self.hidden1(input_x,edge_index)\n",
        "        x = self.norm(x)\n",
        "        x = self.relu(x)\n",
        "        x = self.hidden2(x,edge_index)\n",
        "        x = self.norm(x)\n",
        "        x = self.relu(x)\n",
        "        x = self.hidden3(x,edge_index)\n",
        "\n",
        "        #Global mean pool across batches\n",
        "        x = global_max_pool(x, batch)\n",
        "\n",
        "        \n",
        "        return x\n"
      ],
      "id": "R1B0YTz6ytyN"
    },
    {
      "cell_type": "code",
      "source": [
        "class GAT(torch.nn.Module):\n",
        "    def __init__(self, input_dim=6, hidden_dim=64, output_dim=1):\n",
        "        super(GAT, self).__init__()\n",
        "\n",
        "        #Hidden Layers\n",
        "        self.hidden1 = GATConv(input_dim, hidden_dim)\n",
        "        self.hidden2 = GATConv(hidden_dim, hidden_dim)\n",
        "        self.hidden3 = GATConv(hidden_dim, output_dim)\n",
        "        self.norm = GraphNorm(hidden_dim)\n",
        "\n",
        "        #Activation Function\n",
        "        self.relu = nn.ReLU()\n",
        "\n",
        "        \n",
        "\n",
        "    def forward(self, data):\n",
        "        edge_index = data.edge_index\n",
        "        batch = data.batch\n",
        "        input_x = data.x\n",
        "      \n",
        "        #Standard forward\n",
        "        x = self.hidden1(input_x,edge_index)\n",
        "        x = self.norm(x)\n",
        "        x = self.relu(x)\n",
        "        x = self.hidden2(x,edge_index)\n",
        "        x = self.norm(x)\n",
        "        x = self.relu(x)\n",
        "        x = self.hidden3(x,edge_index)\n",
        "\n",
        "        #Global mean pool across batches\n",
        "        x = global_max_pool(x, batch)\n",
        "\n",
        "        \n",
        "        return x"
      ],
      "metadata": {
        "id": "GuyqQ9RWz7nc"
      },
      "id": "GuyqQ9RWz7nc",
      "execution_count": null,
      "outputs": []
    },
    {
      "cell_type": "code",
      "source": [
        "choose_model = input('Convolutional:C,Attentional:A,Message Passing:MP')"
      ],
      "metadata": {
        "colab": {
          "base_uri": "https://localhost:8080/"
        },
        "id": "QcuGpAlszD4o",
        "outputId": "b9afeb70-021b-4719-8a7f-2ec417fec75f"
      },
      "id": "QcuGpAlszD4o",
      "execution_count": null,
      "outputs": [
        {
          "name": "stdout",
          "output_type": "stream",
          "text": [
            "Convolutional:C,Attentional:A,Message Passing:MPMP\n"
          ]
        }
      ]
    },
    {
      "cell_type": "markdown",
      "metadata": {
        "id": "G-ExWACxQ3mt"
      },
      "source": [
        "<h1> Helper functions"
      ],
      "id": "G-ExWACxQ3mt"
    },
    {
      "cell_type": "code",
      "execution_count": null,
      "metadata": {
        "id": "1zyNHFXdOnug"
      },
      "outputs": [],
      "source": [
        "# The Minimum Square Error is used to evaluate the difference between prediction and ground truth\n",
        "criterion = nn.MSELoss()\n",
        "\n",
        "def copy_existing_model(model):\n",
        "    # Function to copy an existing model\n",
        "    # We initialize a new model\n",
        "    if choose_model == 'C':\n",
        "      new_model = GCN()\n",
        "    elif choose_model == 'A':\n",
        "      new_model = GAT()\n",
        "    elif choose_model == 'MP':\n",
        "      new_model = MPNNModel()\n",
        "    # Copy the previous model's parameters into the new model\n",
        "    new_model.load_state_dict(model.state_dict())\n",
        "    return new_model\n",
        "\n",
        "def initialization_to_store_meta_losses():\n",
        "  # This function creates lists to store the meta losses\n",
        "  global store_train_loss_meta; store_train_loss_meta = []\n",
        "  global store_test_loss_meta; store_test_loss_meta = []\n",
        "\n",
        "def test_set_validation(model,new_model,graph,lr_inner,k,store_test_loss_meta,task):\n",
        "    # This functions does not actually affect the main algorithm, it is just used to evaluate the new model\n",
        "    new_model = training(model, graph, lr_inner, k,task)\n",
        "    # Obtain the loss\n",
        "    loss = evaluation(new_model, graph,task)\n",
        "    # Store loss\n",
        "    store_test_loss_meta.append(loss)\n",
        "\n",
        "def train_set_evaluation(new_model,graph,store_train_loss_meta,task):\n",
        "    loss = evaluation(new_model, graph,task)\n",
        "    store_train_loss_meta.append(loss) \n",
        "\n",
        "def print_losses(epoch,store_train_loss_meta,store_test_loss_meta,printing_step=1000):\n",
        "  if epoch % printing_step == 0:\n",
        "    print(f'Epochh : {epoch}, Average Train Meta Loss : {np.mean(store_train_loss_meta)}, Average Test Meta Loss : {np.mean(store_test_loss_meta)}')\n",
        "\n",
        "#This is based on the paper update rule, we calculate the difference between parameters and then this is used by the optimizer, rather than doing the update by hand\n",
        "def reptile_parameter_update(model,new_model):\n",
        "  # Zip models for the loop\n",
        "  zip_models = zip(model.parameters(), new_model.parameters())\n",
        "  for parameter, new_parameter in zip_models:\n",
        "    if parameter.grad is None:\n",
        "      parameter.grad = torch.tensor(torch.zeros_like(parameter))\n",
        "    # Here we are adding the gradient that will later be used by the optimizer\n",
        "    parameter.grad.data.add_(parameter.data - new_parameter.data)\n",
        "\n",
        "# Define commands in order needed for the metaupdate\n",
        "# Note that if we change the order it doesn't behave the same\n",
        "def metaoptimizer_update(metaoptimizer):\n",
        "  # Take step\n",
        "  metaoptimizer.step()\n",
        "  # Reset gradients\n",
        "  metaoptimizer.zero_grad()\n",
        "\n",
        "def metaupdate(model,new_model,metaoptimizer):\n",
        "  # Combine the two previous functions into a single metaupdate function\n",
        "  # First we calculate the gradients\n",
        "  reptile_parameter_update(model,new_model)\n",
        "  # Use those gradients in the optimizer\n",
        "  metaoptimizer_update(metaoptimizer)\n",
        "\n",
        "def evaluation(new_model, graph, task, item = True, normalization = True):\n",
        "    # Make model prediction\n",
        "    prediction = new_model(graph)[:,None]\n",
        "\n",
        "    label = graph.y[:,task:task+1]\n",
        "\n",
        "    # Get loss\n",
        "    if item == True: #Depending on whether we need to return the loss value for storing or for backprop\n",
        "      loss = criterion(prediction,label).item()\n",
        "    else:\n",
        "      loss = criterion(prediction,label)\n",
        "    return loss\n",
        "\n",
        "def training(model, graph, lr_k, k,task):\n",
        "    # Create new model which we will train on\n",
        "    new_model = copy_existing_model(model)\n",
        "    # Define new optimizer\n",
        "    koptimizer = torch.optim.SGD(new_model.parameters(), lr=lr_k)\n",
        "    # Update the model multiple times, note that k>1 (do not confuse k with K)\n",
        "    for i in range(k):\n",
        "        # Reset optimizer\n",
        "        koptimizer.zero_grad()\n",
        "        # Evaluate the model\n",
        "        loss = evaluation(new_model, graph, task, item = False)\n",
        "        # Backpropagate\n",
        "        loss.backward()\n",
        "        koptimizer.step()\n",
        "    return new_model"
      ],
      "id": "1zyNHFXdOnug"
    },
    {
      "cell_type": "markdown",
      "metadata": {
        "id": "7jkgwwMJUSbL"
      },
      "source": [
        "<h1> Additional GNN Helper Functions"
      ],
      "id": "7jkgwwMJUSbL"
    },
    {
      "cell_type": "markdown",
      "metadata": {
        "id": "hsATAza-UtiF"
      },
      "source": [
        "Additional helper functions to handle minibatching based on coursework by Haitz Sáez de Ocáriz for L45 Practical 1. The code was partially given in the practical and we had to fill it in, so this is based on my solution. Also, some further modification applied for our implementation: for message passing we include coordinate encoding features and edge attributes, apart from node features, labels, and the adjancency metrics that describes node connectivity."
      ],
      "id": "hsATAza-UtiF"
    },
    {
      "cell_type": "code",
      "execution_count": null,
      "metadata": {
        "id": "iHFyLSSKUoYG"
      },
      "outputs": [],
      "source": [
        "class Graph(object):\n",
        "    def __init__(self, edge_index, x, y,edge_attr):\n",
        "        \"\"\" Graph structure \n",
        "            for a mini-batch it will store a big (sparse) graph \n",
        "            representing the entire batch\n",
        "        Args:\n",
        "            x: node features  [num_nodes x num_feats]\n",
        "            y: graph labels   [num_graphs]\n",
        "            edge_index: list of edges [2 x num_edges]\n",
        "        \"\"\"\n",
        "        self.edge_index = edge_index\n",
        "        self.x = x.to(torch.float32)\n",
        "        self.y = y\n",
        "        self.num_nodes = self.x.shape[0]\n",
        "        self.edge_attr = edge_attr\n",
        "\n",
        "    #ignore this for now, it will be useful for batching\n",
        "    def set_batch(self, batch):\n",
        "        \"\"\" list of ints that maps each node to the graph it belongs to\n",
        "            e.g. for batch = [0,0,0,1,1,1,1]: the first 3 nodes belong to graph_0 while\n",
        "            the last 4 belong to graph_1\n",
        "        \"\"\"\n",
        "        self.batch = batch\n",
        "\n",
        "    # this function return a sparse tensor\n",
        "    def get_adjacency_matrix(self):\n",
        "        \"\"\" from the list of edges create \n",
        "        a num_nodes x num_nodes sparse adjacency matrix\n",
        "        \"\"\"\n",
        "        return torch.sparse.LongTensor(self.edge_index, \n",
        "                              # we work with a binary adj containing 1 if an edge exist\n",
        "                              torch.ones((self.edge_index.shape[1])), \n",
        "                              torch.Size((self.num_nodes, self.num_nodes))\n",
        "                              )\n"
      ],
      "id": "iHFyLSSKUoYG"
    },
    {
      "cell_type": "code",
      "execution_count": null,
      "metadata": {
        "id": "WHUDCDbqUc2A"
      },
      "outputs": [],
      "source": [
        "def create_mini_batch(graph_list):\n",
        "    \"\"\" Built a sparse graph from a batch of graphs\n",
        "    Args:\n",
        "        graph_list: list of Graph objects in a batch\n",
        "    Returns:\n",
        "        a big (sparse) Graph representing the entire batch\n",
        "    \"\"\"\n",
        "    #insert first graph into the structure\n",
        "    batch_edge_index = graph_list[0].edge_index\n",
        "    batch_x = graph_list[0].x\n",
        "    batch_y = graph_list[0].y\n",
        "    batch_edge_attr = graph_list[0].edge_attr\n",
        "    batch_batch = torch.zeros((graph_list[0].num_nodes), dtype=torch.int64)\n",
        "    # ============ YOUR CODE HERE =============\n",
        "    # you may need additional variables\n",
        "    num_nodes_added= graph_list[0].num_nodes\n",
        "    # ==========================================\n",
        "\n",
        "    #append the rest of the graphs to the structure\n",
        "    for idx, graph in enumerate(graph_list[1:]):\n",
        "        # ============ YOUR CODE HERE =============\n",
        "        # concat the features\n",
        "        batch_x = torch.cat((batch_x,graph.x))\n",
        "        # concat the labels\n",
        "        batch_y = torch.cat((batch_y,graph.y))\n",
        "\n",
        "        # concat the adjacency matrix as a block diagonal matrix\n",
        "        batch_edge_index = torch.cat((batch_edge_index, torch.add(graph.edge_index, num_nodes_added)), dim=1)\n",
        "        batch_edge_attr = torch.cat((batch_edge_attr, graph.edge_attr))\n",
        "        num_nodes_added += graph.num_nodes\n",
        "        # ==========================================\n",
        "\n",
        "        # ============ YOUR CODE HERE =============\n",
        "        # create the array of indexes mapping nodes in the batch-graph\n",
        "        # to the graph they belong to\n",
        "        # specify the mapping between the new nodes and the graph they belong to (idx+1)\n",
        "        batch_batch = torch.cat((batch_batch, torch.full((graph.num_nodes,), idx + 1)))\n",
        "        # ==========================================\n",
        "    #create the big sparse graph \n",
        "    batch_graph = Graph(batch_edge_index, batch_x, batch_y, batch_edge_attr)\n",
        "    #attach the index array to the Graph structure\n",
        "    batch_graph.set_batch(batch_batch)\n",
        "    return batch_graph"
      ],
      "id": "WHUDCDbqUc2A"
    },
    {
      "cell_type": "markdown",
      "metadata": {
        "id": "-4Ps8P2IRCmF"
      },
      "source": [
        "<h1> Reptile"
      ],
      "id": "-4Ps8P2IRCmF"
    },
    {
      "cell_type": "code",
      "execution_count": null,
      "metadata": {
        "id": "8ogpg_DHizlC"
      },
      "outputs": [],
      "source": [
        "#Define important variables\n",
        "epochs = int(15000) # number of epochs \n",
        "lr_meta=0.001 # Learning rate for meta model (outer loop)\n",
        "printing_step=100 # how many epochs should we wait to print the loss\n",
        "lr_k=0.0005 # Internal learning rate\n",
        "k=5 # Number of internal updates for each task\n",
        "K = 10 #Number of samples per task\n",
        "number_of_tasks = 5 #number of tasks for metalearning (max is 19), using 5 converges relatively fast, otherwise it is a bit of a pain\n",
        "# Initializations\n",
        "initialization_to_store_meta_losses()\n",
        "\n",
        "if choose_model == 'C':\n",
        "  model = GCN()\n",
        "elif choose_model == 'A':\n",
        "  model = GAT()\n",
        "elif choose_model == 'MP':\n",
        "  model = MPNNModel()\n",
        "\n",
        "metaoptimizer = torch.optim.Adam(model.parameters(), lr=lr_meta)"
      ],
      "id": "8ogpg_DHizlC"
    },
    {
      "cell_type": "code",
      "execution_count": null,
      "metadata": {
        "colab": {
          "base_uri": "https://localhost:8080/",
          "height": 1000
        },
        "id": "-4-zQWWKFt3s",
        "outputId": "41d21cf4-45be-4b1d-ef78-3e4eb00e1966"
      },
      "outputs": [
        {
          "output_type": "stream",
          "name": "stdout",
          "text": [
            "Epochh : 0, Average Train Meta Loss : 0.023144422697701623, Average Test Meta Loss : 0.0020210694056004286\n",
            "Epochh : 100, Average Train Meta Loss : 0.01712372866796469, Average Test Meta Loss : 0.013824959372292448\n",
            "Epochh : 200, Average Train Meta Loss : 0.02315247799286727, Average Test Meta Loss : 0.019691545214354574\n",
            "Epochh : 300, Average Train Meta Loss : 0.026727076103104618, Average Test Meta Loss : 0.02331701621566582\n",
            "Epochh : 400, Average Train Meta Loss : 0.0293010778823328, Average Test Meta Loss : 0.028497241028783985\n",
            "Epochh : 500, Average Train Meta Loss : 0.029738357504512893, Average Test Meta Loss : 0.028716537947463244\n",
            "Epochh : 600, Average Train Meta Loss : 0.028057505704906133, Average Test Meta Loss : 0.02794183791066309\n",
            "Epochh : 700, Average Train Meta Loss : 0.027549973878071083, Average Test Meta Loss : 0.02642562551308156\n",
            "Epochh : 800, Average Train Meta Loss : 0.02668078380037195, Average Test Meta Loss : 0.026852480493479096\n",
            "Epochh : 900, Average Train Meta Loss : 0.026342169987098745, Average Test Meta Loss : 0.026517071787113003\n",
            "Epochh : 1000, Average Train Meta Loss : 0.0262952023830727, Average Test Meta Loss : 0.02663812736153324\n",
            "Epochh : 1100, Average Train Meta Loss : 0.02625716273612568, Average Test Meta Loss : 0.026258936464589544\n",
            "Epochh : 1200, Average Train Meta Loss : 0.025807917790293834, Average Test Meta Loss : 0.02584090488728496\n",
            "Epochh : 1300, Average Train Meta Loss : 0.025911926879270436, Average Test Meta Loss : 0.026557599315830065\n",
            "Epochh : 1400, Average Train Meta Loss : 0.02507565495125228, Average Test Meta Loss : 0.02685096612328148\n",
            "Epochh : 1500, Average Train Meta Loss : 0.02476744045033064, Average Test Meta Loss : 0.026232405897096276\n",
            "Epochh : 1600, Average Train Meta Loss : 0.024147923904322303, Average Test Meta Loss : 0.025695786480262144\n",
            "Epochh : 1700, Average Train Meta Loss : 0.024886326719115406, Average Test Meta Loss : 0.026456429521854147\n",
            "Epochh : 1800, Average Train Meta Loss : 0.024721124131880226, Average Test Meta Loss : 0.026204312333358758\n",
            "Epochh : 1900, Average Train Meta Loss : 0.024269839803269817, Average Test Meta Loss : 0.025428057223327125\n",
            "Epochh : 2000, Average Train Meta Loss : 0.023967077069234625, Average Test Meta Loss : 0.025434043630226007\n",
            "Epochh : 2100, Average Train Meta Loss : 0.02385320814335688, Average Test Meta Loss : 0.02544164948749516\n",
            "Epochh : 2200, Average Train Meta Loss : 0.023549905465536012, Average Test Meta Loss : 0.026090580916462682\n",
            "Epochh : 2300, Average Train Meta Loss : 0.02297847947282331, Average Test Meta Loss : 0.0258347291636244\n",
            "Epochh : 2400, Average Train Meta Loss : 0.022885227166274152, Average Test Meta Loss : 0.025815959277224656\n",
            "Epochh : 2500, Average Train Meta Loss : 0.022785961001072753, Average Test Meta Loss : 0.02559456170420395\n",
            "Epochh : 2600, Average Train Meta Loss : 0.02286394644303187, Average Test Meta Loss : 0.025863482365458997\n",
            "Epochh : 2700, Average Train Meta Loss : 0.0229176379098696, Average Test Meta Loss : 0.0259309976501942\n",
            "Epochh : 2800, Average Train Meta Loss : 0.022863930840957666, Average Test Meta Loss : 0.025654634203818256\n",
            "Epochh : 2900, Average Train Meta Loss : 0.02242172455523676, Average Test Meta Loss : 0.025119138714003928\n",
            "Epochh : 3000, Average Train Meta Loss : 0.02252067650243448, Average Test Meta Loss : 0.024733394831934347\n",
            "Epochh : 3100, Average Train Meta Loss : 0.02284172677845844, Average Test Meta Loss : 0.02493448002993686\n",
            "Epochh : 3200, Average Train Meta Loss : 0.0228117456128954, Average Test Meta Loss : 0.024756621668712682\n",
            "Epochh : 3300, Average Train Meta Loss : 0.02245459280148117, Average Test Meta Loss : 0.024380646045550205\n",
            "Epochh : 3400, Average Train Meta Loss : 0.02272100985245873, Average Test Meta Loss : 0.024819010151534256\n",
            "Epochh : 3500, Average Train Meta Loss : 0.023209820747934526, Average Test Meta Loss : 0.0251019097890872\n",
            "Epochh : 3600, Average Train Meta Loss : 0.023415632836361007, Average Test Meta Loss : 0.02490133889841622\n",
            "Epochh : 3700, Average Train Meta Loss : 0.023653744775488327, Average Test Meta Loss : 0.024928753286624743\n",
            "Epochh : 3800, Average Train Meta Loss : 0.023525995428981764, Average Test Meta Loss : 0.024642193814998478\n",
            "Epochh : 3900, Average Train Meta Loss : 0.02365173926257895, Average Test Meta Loss : 0.025185331492458725\n",
            "Epochh : 4000, Average Train Meta Loss : 0.023433901634226244, Average Test Meta Loss : 0.025006142042990613\n",
            "Epochh : 4100, Average Train Meta Loss : 0.023361532532447212, Average Test Meta Loss : 0.024859129396499213\n",
            "Epochh : 4200, Average Train Meta Loss : 0.023370358069560664, Average Test Meta Loss : 0.024726808669050113\n",
            "Epochh : 4300, Average Train Meta Loss : 0.02314765515846853, Average Test Meta Loss : 0.024726959119546255\n",
            "Epochh : 4400, Average Train Meta Loss : 0.02306577114591869, Average Test Meta Loss : 0.024734734750678663\n",
            "Epochh : 4500, Average Train Meta Loss : 0.02286523317807229, Average Test Meta Loss : 0.02482623289230692\n",
            "Epochh : 4600, Average Train Meta Loss : 0.022802728452159506, Average Test Meta Loss : 0.024586724704763026\n",
            "Epochh : 4700, Average Train Meta Loss : 0.022596312262186148, Average Test Meta Loss : 0.02430317289226241\n",
            "Epochh : 4800, Average Train Meta Loss : 0.02240604120897163, Average Test Meta Loss : 0.024074626581934582\n",
            "Epochh : 4900, Average Train Meta Loss : 0.022134586262331935, Average Test Meta Loss : 0.0238850183593842\n",
            "Epochh : 5000, Average Train Meta Loss : 0.02216137302122257, Average Test Meta Loss : 0.023861891939037067\n",
            "Epochh : 5100, Average Train Meta Loss : 0.022235648130260202, Average Test Meta Loss : 0.023907423896495132\n",
            "Epochh : 5200, Average Train Meta Loss : 0.0223678699871645, Average Test Meta Loss : 0.02417299275647672\n",
            "Epochh : 5300, Average Train Meta Loss : 0.0224104766803186, Average Test Meta Loss : 0.024177519841978717\n",
            "Epochh : 5400, Average Train Meta Loss : 0.02235209005533449, Average Test Meta Loss : 0.0240820382632627\n",
            "Epochh : 5500, Average Train Meta Loss : 0.022382971937875126, Average Test Meta Loss : 0.02402631665913952\n",
            "Epochh : 5600, Average Train Meta Loss : 0.02225450069903047, Average Test Meta Loss : 0.023992434749762714\n",
            "Epochh : 5700, Average Train Meta Loss : 0.022259479907965663, Average Test Meta Loss : 0.024137332610058453\n",
            "Epochh : 5800, Average Train Meta Loss : 0.022129808112567602, Average Test Meta Loss : 0.024050263201734607\n",
            "Epochh : 5900, Average Train Meta Loss : 0.022025763813256015, Average Test Meta Loss : 0.023898432637421158\n",
            "Epochh : 6000, Average Train Meta Loss : 0.022331777411372215, Average Test Meta Loss : 0.024023981823054794\n",
            "Epochh : 6100, Average Train Meta Loss : 0.02243726068921658, Average Test Meta Loss : 0.024077763802549203\n",
            "Epochh : 6200, Average Train Meta Loss : 0.022536032343209323, Average Test Meta Loss : 0.02399408478396843\n",
            "Epochh : 6300, Average Train Meta Loss : 0.022549190099938225, Average Test Meta Loss : 0.023857935014439554\n",
            "Epochh : 6400, Average Train Meta Loss : 0.022378068500397676, Average Test Meta Loss : 0.023714301964357334\n",
            "Epochh : 6500, Average Train Meta Loss : 0.022480070210140757, Average Test Meta Loss : 0.023659091536525567\n",
            "Epochh : 6600, Average Train Meta Loss : 0.022499070530740923, Average Test Meta Loss : 0.02371180879019718\n",
            "Epochh : 6700, Average Train Meta Loss : 0.022449954923081984, Average Test Meta Loss : 0.0237793803614932\n",
            "Epochh : 6800, Average Train Meta Loss : 0.022521568127086115, Average Test Meta Loss : 0.02390758073112788\n",
            "Epochh : 6900, Average Train Meta Loss : 0.022488259075522862, Average Test Meta Loss : 0.023805160945477122\n",
            "Epochh : 7000, Average Train Meta Loss : 0.022476485726224425, Average Test Meta Loss : 0.023743633767896885\n",
            "Epochh : 7100, Average Train Meta Loss : 0.022554280336085083, Average Test Meta Loss : 0.023855216209915313\n",
            "Epochh : 7200, Average Train Meta Loss : 0.022498077682122898, Average Test Meta Loss : 0.023737768137603785\n",
            "Epochh : 7300, Average Train Meta Loss : 0.022457403553695205, Average Test Meta Loss : 0.02370738788224207\n",
            "Epochh : 7400, Average Train Meta Loss : 0.02246199580674599, Average Test Meta Loss : 0.02361750948970647\n",
            "Epochh : 7500, Average Train Meta Loss : 0.022310488477217047, Average Test Meta Loss : 0.023502065653057277\n",
            "Epochh : 7600, Average Train Meta Loss : 0.022355790624307214, Average Test Meta Loss : 0.023558943240254756\n",
            "Epochh : 7700, Average Train Meta Loss : 0.022338954735158362, Average Test Meta Loss : 0.0235384042717936\n",
            "Epochh : 7800, Average Train Meta Loss : 0.022308900636493458, Average Test Meta Loss : 0.023429412509829616\n",
            "Epochh : 7900, Average Train Meta Loss : 0.022279015952563246, Average Test Meta Loss : 0.02340768951598159\n",
            "Epochh : 8000, Average Train Meta Loss : 0.02232607511750665, Average Test Meta Loss : 0.023445726630724934\n",
            "Epochh : 8100, Average Train Meta Loss : 0.022397139406509007, Average Test Meta Loss : 0.023543264543427114\n",
            "Epochh : 8200, Average Train Meta Loss : 0.022311454342316232, Average Test Meta Loss : 0.02344162719041025\n",
            "Epochh : 8300, Average Train Meta Loss : 0.02232942683332324, Average Test Meta Loss : 0.023412424911753035\n",
            "Epochh : 8400, Average Train Meta Loss : 0.02231898254772297, Average Test Meta Loss : 0.023365706090273497\n",
            "Epochh : 8500, Average Train Meta Loss : 0.022286528276716015, Average Test Meta Loss : 0.023342488975887914\n",
            "Epochh : 8600, Average Train Meta Loss : 0.02226069100436463, Average Test Meta Loss : 0.02329028409886813\n",
            "Epochh : 8700, Average Train Meta Loss : 0.02215018918226702, Average Test Meta Loss : 0.023194989807189308\n",
            "Epochh : 8800, Average Train Meta Loss : 0.022087078147315177, Average Test Meta Loss : 0.02322317071768443\n",
            "Epochh : 8900, Average Train Meta Loss : 0.022082808434384246, Average Test Meta Loss : 0.023293156992701024\n",
            "Epochh : 9000, Average Train Meta Loss : 0.02243407056092266, Average Test Meta Loss : 0.023286593521155755\n",
            "Epochh : 9100, Average Train Meta Loss : 0.02247046439701257, Average Test Meta Loss : 0.023323554941998757\n",
            "Epochh : 9200, Average Train Meta Loss : 0.022467351121659866, Average Test Meta Loss : 0.023367084399793386\n",
            "Epochh : 9300, Average Train Meta Loss : 0.02256915530649548, Average Test Meta Loss : 0.023339229759807352\n",
            "Epochh : 9400, Average Train Meta Loss : 0.022510154278481003, Average Test Meta Loss : 0.02327004620835909\n",
            "Epochh : 9500, Average Train Meta Loss : 0.022453158670790528, Average Test Meta Loss : 0.023180471307729003\n",
            "Epochh : 9600, Average Train Meta Loss : 0.022519834213490977, Average Test Meta Loss : 0.0233667382925459\n",
            "Epochh : 9700, Average Train Meta Loss : 0.022522012251287263, Average Test Meta Loss : 0.023415099900258744\n",
            "Epochh : 9800, Average Train Meta Loss : 0.02236876110875805, Average Test Meta Loss : 0.023261831391569347\n",
            "Epochh : 9900, Average Train Meta Loss : 0.022346946944579563, Average Test Meta Loss : 0.02326336107377896\n",
            "Epochh : 10000, Average Train Meta Loss : 0.02227527335496818, Average Test Meta Loss : 0.023289141893514456\n",
            "Epochh : 10100, Average Train Meta Loss : 0.022229904699760116, Average Test Meta Loss : 0.023323277246145514\n",
            "Epochh : 10200, Average Train Meta Loss : 0.02220728446247068, Average Test Meta Loss : 0.023281691663067122\n",
            "Epochh : 10300, Average Train Meta Loss : 0.022146685309972217, Average Test Meta Loss : 0.023221331807476923\n",
            "Epochh : 10400, Average Train Meta Loss : 0.022129631747484616, Average Test Meta Loss : 0.023190813434274947\n",
            "Epochh : 10500, Average Train Meta Loss : 0.022148292358213986, Average Test Meta Loss : 0.023348022907965674\n",
            "Epochh : 10600, Average Train Meta Loss : 0.022103898212372738, Average Test Meta Loss : 0.023395599865646127\n",
            "Epochh : 10700, Average Train Meta Loss : 0.022061961204178374, Average Test Meta Loss : 0.02335013654340225\n",
            "Epochh : 10800, Average Train Meta Loss : 0.022092111795673334, Average Test Meta Loss : 0.02347487013541818\n",
            "Epochh : 10900, Average Train Meta Loss : 0.022137579757777116, Average Test Meta Loss : 0.023505052352271193\n",
            "Epochh : 11000, Average Train Meta Loss : 0.022128618864494295, Average Test Meta Loss : 0.0234964614304952\n",
            "Epochh : 11100, Average Train Meta Loss : 0.022101402882388828, Average Test Meta Loss : 0.023492585260765503\n",
            "Epochh : 11200, Average Train Meta Loss : 0.02206292051137076, Average Test Meta Loss : 0.023493426778777936\n",
            "Epochh : 11300, Average Train Meta Loss : 0.022019979640162095, Average Test Meta Loss : 0.023462850760790643\n",
            "Epochh : 11400, Average Train Meta Loss : 0.022048917133703626, Average Test Meta Loss : 0.023497867945425726\n",
            "Epochh : 11500, Average Train Meta Loss : 0.02207037922897983, Average Test Meta Loss : 0.02342839788653696\n",
            "Epochh : 11600, Average Train Meta Loss : 0.022122271930448884, Average Test Meta Loss : 0.023446047341917946\n",
            "Epochh : 11700, Average Train Meta Loss : 0.022096400697561046, Average Test Meta Loss : 0.023563996686756523\n",
            "Epochh : 11800, Average Train Meta Loss : 0.02216011748015954, Average Test Meta Loss : 0.023671930501321454\n",
            "Epochh : 11900, Average Train Meta Loss : 0.02222416618346782, Average Test Meta Loss : 0.023671055682022567\n",
            "Epochh : 12000, Average Train Meta Loss : 0.022201600389841657, Average Test Meta Loss : 0.0236762654903101\n",
            "Epochh : 12100, Average Train Meta Loss : 0.022160738599754405, Average Test Meta Loss : 0.02368967523573093\n",
            "Epochh : 12200, Average Train Meta Loss : 0.02212220528806372, Average Test Meta Loss : 0.023598569587664903\n",
            "Epochh : 12300, Average Train Meta Loss : 0.022146025966141663, Average Test Meta Loss : 0.023648921136130305\n",
            "Epochh : 12400, Average Train Meta Loss : 0.022240661888152068, Average Test Meta Loss : 0.02368477647272276\n",
            "Epochh : 12500, Average Train Meta Loss : 0.02227443049303458, Average Test Meta Loss : 0.023691887456014967\n",
            "Epochh : 12600, Average Train Meta Loss : 0.022261338054186054, Average Test Meta Loss : 0.023831019811808855\n",
            "Epochh : 12700, Average Train Meta Loss : 0.022233263144098715, Average Test Meta Loss : 0.023801143920103546\n",
            "Epochh : 12800, Average Train Meta Loss : 0.022155721547699143, Average Test Meta Loss : 0.023745141030239697\n",
            "Epochh : 12900, Average Train Meta Loss : 0.022180802062982237, Average Test Meta Loss : 0.023684313265081337\n",
            "Epochh : 13000, Average Train Meta Loss : 0.022152023196183406, Average Test Meta Loss : 0.023717253572485657\n",
            "Epochh : 13100, Average Train Meta Loss : 0.02215987484375793, Average Test Meta Loss : 0.023776958717548702\n"
          ]
        },
        {
          "output_type": "error",
          "ename": "KeyboardInterrupt",
          "evalue": "ignored",
          "traceback": [
            "\u001b[0;31m---------------------------------------------------------------------------\u001b[0m",
            "\u001b[0;31mKeyboardInterrupt\u001b[0m                         Traceback (most recent call last)",
            "\u001b[0;32m<ipython-input-88-960ec0901941>\u001b[0m in \u001b[0;36m<module>\u001b[0;34m()\u001b[0m\n\u001b[1;32m     15\u001b[0m \u001b[0;34m\u001b[0m\u001b[0m\n\u001b[1;32m     16\u001b[0m     \u001b[0;31m# Update model predefined number of times based on k\u001b[0m\u001b[0;34m\u001b[0m\u001b[0;34m\u001b[0m\u001b[0;34m\u001b[0m\u001b[0m\n\u001b[0;32m---> 17\u001b[0;31m     \u001b[0mnew_model\u001b[0m \u001b[0;34m=\u001b[0m \u001b[0mtraining\u001b[0m\u001b[0;34m(\u001b[0m\u001b[0mmodel\u001b[0m\u001b[0;34m,\u001b[0m \u001b[0mgraph\u001b[0m\u001b[0;34m,\u001b[0m \u001b[0mlr_k\u001b[0m\u001b[0;34m,\u001b[0m \u001b[0mk\u001b[0m\u001b[0;34m,\u001b[0m\u001b[0mtask\u001b[0m\u001b[0;34m)\u001b[0m\u001b[0;34m\u001b[0m\u001b[0;34m\u001b[0m\u001b[0m\n\u001b[0m\u001b[1;32m     18\u001b[0m \u001b[0;34m\u001b[0m\u001b[0m\n\u001b[1;32m     19\u001b[0m     \u001b[0;31m# Evalaute the loss for the training data\u001b[0m\u001b[0;34m\u001b[0m\u001b[0;34m\u001b[0m\u001b[0;34m\u001b[0m\u001b[0m\n",
            "\u001b[0;32m<ipython-input-71-7af9fecdfe9a>\u001b[0m in \u001b[0;36mtraining\u001b[0;34m(model, graph, lr_k, k, task)\u001b[0m\n\u001b[1;32m     86\u001b[0m         \u001b[0mloss\u001b[0m \u001b[0;34m=\u001b[0m \u001b[0mevaluation\u001b[0m\u001b[0;34m(\u001b[0m\u001b[0mnew_model\u001b[0m\u001b[0;34m,\u001b[0m \u001b[0mgraph\u001b[0m\u001b[0;34m,\u001b[0m \u001b[0mtask\u001b[0m\u001b[0;34m,\u001b[0m \u001b[0mitem\u001b[0m \u001b[0;34m=\u001b[0m \u001b[0;32mFalse\u001b[0m\u001b[0;34m)\u001b[0m\u001b[0;34m\u001b[0m\u001b[0;34m\u001b[0m\u001b[0m\n\u001b[1;32m     87\u001b[0m         \u001b[0;31m# Backpropagate\u001b[0m\u001b[0;34m\u001b[0m\u001b[0;34m\u001b[0m\u001b[0;34m\u001b[0m\u001b[0m\n\u001b[0;32m---> 88\u001b[0;31m         \u001b[0mloss\u001b[0m\u001b[0;34m.\u001b[0m\u001b[0mbackward\u001b[0m\u001b[0;34m(\u001b[0m\u001b[0;34m)\u001b[0m\u001b[0;34m\u001b[0m\u001b[0;34m\u001b[0m\u001b[0m\n\u001b[0m\u001b[1;32m     89\u001b[0m         \u001b[0mkoptimizer\u001b[0m\u001b[0;34m.\u001b[0m\u001b[0mstep\u001b[0m\u001b[0;34m(\u001b[0m\u001b[0;34m)\u001b[0m\u001b[0;34m\u001b[0m\u001b[0;34m\u001b[0m\u001b[0m\n\u001b[1;32m     90\u001b[0m     \u001b[0;32mreturn\u001b[0m \u001b[0mnew_model\u001b[0m\u001b[0;34m\u001b[0m\u001b[0;34m\u001b[0m\u001b[0m\n",
            "\u001b[0;32m/usr/local/lib/python3.7/dist-packages/torch/_tensor.py\u001b[0m in \u001b[0;36mbackward\u001b[0;34m(self, gradient, retain_graph, create_graph, inputs)\u001b[0m\n\u001b[1;32m    305\u001b[0m                 \u001b[0mcreate_graph\u001b[0m\u001b[0;34m=\u001b[0m\u001b[0mcreate_graph\u001b[0m\u001b[0;34m,\u001b[0m\u001b[0;34m\u001b[0m\u001b[0;34m\u001b[0m\u001b[0m\n\u001b[1;32m    306\u001b[0m                 inputs=inputs)\n\u001b[0;32m--> 307\u001b[0;31m         \u001b[0mtorch\u001b[0m\u001b[0;34m.\u001b[0m\u001b[0mautograd\u001b[0m\u001b[0;34m.\u001b[0m\u001b[0mbackward\u001b[0m\u001b[0;34m(\u001b[0m\u001b[0mself\u001b[0m\u001b[0;34m,\u001b[0m \u001b[0mgradient\u001b[0m\u001b[0;34m,\u001b[0m \u001b[0mretain_graph\u001b[0m\u001b[0;34m,\u001b[0m \u001b[0mcreate_graph\u001b[0m\u001b[0;34m,\u001b[0m \u001b[0minputs\u001b[0m\u001b[0;34m=\u001b[0m\u001b[0minputs\u001b[0m\u001b[0;34m)\u001b[0m\u001b[0;34m\u001b[0m\u001b[0;34m\u001b[0m\u001b[0m\n\u001b[0m\u001b[1;32m    308\u001b[0m \u001b[0;34m\u001b[0m\u001b[0m\n\u001b[1;32m    309\u001b[0m     \u001b[0;32mdef\u001b[0m \u001b[0mregister_hook\u001b[0m\u001b[0;34m(\u001b[0m\u001b[0mself\u001b[0m\u001b[0;34m,\u001b[0m \u001b[0mhook\u001b[0m\u001b[0;34m)\u001b[0m\u001b[0;34m:\u001b[0m\u001b[0;34m\u001b[0m\u001b[0;34m\u001b[0m\u001b[0m\n",
            "\u001b[0;32m/usr/local/lib/python3.7/dist-packages/torch/autograd/__init__.py\u001b[0m in \u001b[0;36mbackward\u001b[0;34m(tensors, grad_tensors, retain_graph, create_graph, grad_variables, inputs)\u001b[0m\n\u001b[1;32m    154\u001b[0m     Variable._execution_engine.run_backward(\n\u001b[1;32m    155\u001b[0m         \u001b[0mtensors\u001b[0m\u001b[0;34m,\u001b[0m \u001b[0mgrad_tensors_\u001b[0m\u001b[0;34m,\u001b[0m \u001b[0mretain_graph\u001b[0m\u001b[0;34m,\u001b[0m \u001b[0mcreate_graph\u001b[0m\u001b[0;34m,\u001b[0m \u001b[0minputs\u001b[0m\u001b[0;34m,\u001b[0m\u001b[0;34m\u001b[0m\u001b[0;34m\u001b[0m\u001b[0m\n\u001b[0;32m--> 156\u001b[0;31m         allow_unreachable=True, accumulate_grad=True)  # allow_unreachable flag\n\u001b[0m\u001b[1;32m    157\u001b[0m \u001b[0;34m\u001b[0m\u001b[0m\n\u001b[1;32m    158\u001b[0m \u001b[0;34m\u001b[0m\u001b[0m\n",
            "\u001b[0;31mKeyboardInterrupt\u001b[0m: "
          ]
        }
      ],
      "source": [
        "# Training loop\n",
        "for epoch in range(15000):\n",
        "        \n",
        "    # Sample a task at random 0-18 regression tasks --> T, task should only change per epoch, so it is only updated here\n",
        "    task = random.randint(1,11) #Note that for this problem 'task' must be passed to the evaluation function --> graph.y has all the selection targets, we only use the one specified by task\n",
        "\n",
        "    # Empty list\n",
        "    graph = []\n",
        "\n",
        "    for i in range(K): #Store graphs\n",
        "      graph.append(random.sample(GRAPH_TRAIN, 1)[0])\n",
        "\n",
        "    # Create graph mini batch from list\n",
        "    graph = create_mini_batch(graph)\n",
        "\n",
        "    # Update model predefined number of times based on k\n",
        "    new_model = training(model, graph, lr_k, k,task)\n",
        "\n",
        "    # Evalaute the loss for the training data\n",
        "    train_set_evaluation(new_model,graph,store_train_loss_meta,task)     \n",
        "    \n",
        "    #Meta-update --> Get gradient for meta loop and update\n",
        "    metaupdate(model,new_model,metaoptimizer)\n",
        "    \n",
        "    # Evalaute the loss for the test data\n",
        "    # Note that we need to sample the graph from the test data\n",
        "\n",
        "    graph = []\n",
        "    for i in range(K): #Store graphs\n",
        "      graph.append(random.sample(GRAPH_TEST, 1)[0])\n",
        "    graph = create_mini_batch(graph)\n",
        "\n",
        "    test_set_validation(model,new_model,graph,lr_k,k,store_test_loss_meta,task)\n",
        "\n",
        "    # Print losses every 'printing_step' epochs\n",
        "    print_losses(epoch,store_train_loss_meta,store_test_loss_meta,printing_step)"
      ],
      "id": "-4-zQWWKFt3s"
    },
    {
      "cell_type": "code",
      "source": [
        "graph_type = \"equiv\"\n",
        "\n",
        "num_evals = 100\n",
        "\n",
        "all_losses = []\n",
        "for test_eval in range(num_evals): \n",
        "\n",
        "    task = 0\n",
        "    graph = []\n",
        "    for i in range(K): #Store graphs\n",
        "        graph.append(random.sample(GRAPH_TEST, 1)[0])\n",
        "    graph = create_mini_batch(graph)\n",
        "\n",
        "    k_shot_updates = 6\n",
        "    initialization_to_store_meta_losses()\n",
        "    for shots in range(k_shot_updates):\n",
        "        new_model = training(model, graph, lr_k,shots, task)\n",
        "        train_set_evaluation(new_model,graph,store_train_loss_meta, task) \n",
        "    all_losses.append(np.array(store_train_loss_meta))\n",
        "\n",
        "# plt.plot(store_train_loss_meta,label = 'Loss')\n",
        "# plt.legend()\n",
        "# plt.xlabel('k shots')\n",
        "\n",
        "\n",
        "all_losses = np.array(all_losses)\n",
        "np.save(f\"reptile_graph_{graph_type}_k.npy\", all_losses)\n",
        "    \n",
        "fig, ax = plt.subplots(figsize=(8,4))\n",
        "\n",
        "mean_loss = np.mean(all_losses, axis=0)\n",
        "\n",
        "# confidence interval plotting help from: https://stackoverflow.com/questions/59747313/how-to-plot-confidence-interval-in-python\n",
        "y = mean_loss\n",
        "x = list(range(len(mean_loss)))\n",
        "ci = 1.96 * np.std(all_losses, axis=0)**2/np.sqrt(len(y))\n",
        "\n",
        "ax_size=16\n",
        "title_size=18\n",
        "                                                  \n",
        "ax.plot(x, y, linewidth=3, label=f\"Mean Loss\")\n",
        "# to avoid having MSE < 0\n",
        "truncated_error = np.clip(y-ci, a_min=0, a_max=None)\n",
        "ax.fill_between(x, truncated_error, (y+ci), alpha=.5,label=f\"95% CI\")\n",
        "\n",
        "ax.set_xlabel(\"Gradient Steps\",fontsize=ax_size)\n",
        "ax.set_ylabel(\"Mean Squared Error (MSE)\",fontsize=ax_size)\n",
        "ax.set_title(\"Graph Regression: k-Shot Evaluation\",fontsize=title_size)\n",
        "ax.legend()#loc=\"upper right\")\n",
        "plt.savefig(f\"graph_reg_{graph_type}_kshot.png\")"
      ],
      "metadata": {
        "colab": {
          "base_uri": "https://localhost:8080/",
          "height": 304
        },
        "id": "Xl8uaKm-DI96",
        "outputId": "06a16f0b-46b2-44d8-ed87-b20658a19e87"
      },
      "id": "Xl8uaKm-DI96",
      "execution_count": null,
      "outputs": [
        {
          "output_type": "display_data",
          "data": {
            "text/plain": [
              "<Figure size 576x288 with 1 Axes>"
            ],
            "image/png": "[encoded data removed]"
          },
          "metadata": {
            "needs_background": "light"
          }
        }
      ]
    },
    {
      "cell_type": "code",
      "source": [
        "truncated_error"
      ],
      "metadata": {
        "colab": {
          "base_uri": "https://localhost:8080/"
        },
        "id": "zbtBmLrNA3kc",
        "outputId": "24e97d4b-70f3-4ae6-f97b-191e425a34ad"
      },
      "id": "zbtBmLrNA3kc",
      "execution_count": null,
      "outputs": [
        {
          "output_type": "execute_result",
          "data": {
            "text/plain": [
              "array([0.04833843, 0.00150928, 0.00111212, 0.00090122, 0.00075848,\n",
              "       0.00066132])"
            ]
          },
          "metadata": {},
          "execution_count": 90
        }
      ]
    },
    {
      "cell_type": "code",
      "source": [
        "ci"
      ],
      "metadata": {
        "colab": {
          "base_uri": "https://localhost:8080/"
        },
        "id": "Sgns7cVuA5mb",
        "outputId": "711650a5-6ffa-43ac-e2bb-dd5605a3575e"
      },
      "id": "Sgns7cVuA5mb",
      "execution_count": null,
      "outputs": [
        {
          "output_type": "execute_result",
          "data": {
            "text/plain": [
              "array([4.83066871e-05, 6.30814744e-07, 2.82584646e-07, 1.46118689e-07,\n",
              "       8.96603477e-08, 6.62799969e-08])"
            ]
          },
          "metadata": {},
          "execution_count": 91
        }
      ]
    },
    {
      "cell_type": "code",
      "source": [
        "torch.save(model,'mp_alchemy')"
      ],
      "metadata": {
        "id": "s_njpmpZ9OoQ"
      },
      "id": "s_njpmpZ9OoQ",
      "execution_count": null,
      "outputs": []
    },
    {
      "cell_type": "markdown",
      "metadata": {
        "id": "bQjoz6FYctJM"
      },
      "source": [
        "<h1> Few Shot learning with new meta-model"
      ],
      "id": "bQjoz6FYctJM"
    },
    {
      "cell_type": "markdown",
      "metadata": {
        "id": "m-SPUG5Bfpe9"
      },
      "source": [
        "The model performs good few shot learning"
      ],
      "id": "m-SPUG5Bfpe9"
    },
    {
      "cell_type": "code",
      "execution_count": null,
      "metadata": {
        "id": "3hxgwCdOsXrt"
      },
      "outputs": [],
      "source": [
        "model_copy = copy_existing_model(model)"
      ],
      "id": "3hxgwCdOsXrt"
    },
    {
      "cell_type": "code",
      "execution_count": null,
      "metadata": {
        "id": "TzbsmD4msnm1"
      },
      "outputs": [],
      "source": [
        "if choose_model == 'C':\n",
        "  model_random = GCN()\n",
        "elif choose_model == 'A':\n",
        "  model_random = GAT()\n",
        "elif choose_model == 'MP':\n",
        "  model_random = MPNNModel()"
      ],
      "id": "TzbsmD4msnm1"
    },
    {
      "cell_type": "code",
      "execution_count": null,
      "metadata": {
        "colab": {
          "base_uri": "https://localhost:8080/",
          "height": 351
        },
        "id": "GY84TNs8JXVH",
        "outputId": "4622fda0-4fe3-404a-afce-c24c3f9cab4a"
      },
      "outputs": [
        {
          "output_type": "stream",
          "name": "stderr",
          "text": [
            "/usr/local/lib/python3.7/dist-packages/torch/nn/modules/loss.py:520: UserWarning: Using a target size (torch.Size([10, 1])) that is different to the input size (torch.Size([10, 1, 1])). This will likely lead to incorrect results due to broadcasting. Please ensure they have the same size.\n",
            "  return F.mse_loss(input, target, reduction=self.reduction)\n"
          ]
        },
        {
          "output_type": "execute_result",
          "data": {
            "text/plain": [
              "Text(0.5, 0, 'k shots')"
            ]
          },
          "metadata": {},
          "execution_count": 57
        },
        {
          "output_type": "display_data",
          "data": {
            "text/plain": [
              "<Figure size 432x288 with 1 Axes>"
            ],
            "image/png": "[encoded data removed]"
          },
          "metadata": {
            "needs_background": "light"
          }
        }
      ],
      "source": [
        "task = 11\n",
        "graph = []\n",
        "for i in range(K): #Store graphs\n",
        "    graph.append(random.sample(GRAPH_TEST, 1)[0])\n",
        "graph = create_mini_batch(graph)\n",
        "\n",
        "k_shot_updates = 6\n",
        "initialization_to_store_meta_losses()\n",
        "for shots in range(k_shot_updates):\n",
        "    new_model = training(model, graph, lr_k,shots, task)\n",
        "    train_set_evaluation(new_model,graph,store_train_loss_meta, task) \n",
        "\n",
        "plt.plot(store_train_loss_meta,label = 'Loss')\n",
        "plt.legend()\n",
        "plt.xlabel('k shots')"
      ],
      "id": "GY84TNs8JXVH"
    },
    {
      "cell_type": "code",
      "source": [
        ""
      ],
      "metadata": {
        "id": "NvhxR1EY9Lgt"
      },
      "id": "NvhxR1EY9Lgt",
      "execution_count": null,
      "outputs": []
    }
  ],
  "metadata": {
    "accelerator": "GPU",
    "colab": {
      "collapsed_sections": [],
      "name": "Reptile_GraphNN_Regression_alchemy.ipynb",
      "provenance": []
    },
    "kernelspec": {
      "display_name": "Python 3",
      "language": "python",
      "name": "python3"
    },
    "language_info": {
      "codemirror_mode": {
        "name": "ipython",
        "version": 3
      },
      "file_extension": ".py",
      "mimetype": "text/x-python",
      "name": "python",
      "nbconvert_exporter": "python",
      "pygments_lexer": "ipython3",
      "version": "3.8.8"
    }
  },
  "nbformat": 4,
  "nbformat_minor": 5
}