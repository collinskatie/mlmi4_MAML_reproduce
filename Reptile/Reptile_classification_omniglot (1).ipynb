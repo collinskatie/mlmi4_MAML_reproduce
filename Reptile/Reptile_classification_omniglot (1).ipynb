{
  "cells": [
    {
      "cell_type": "markdown",
      "source": [
        "<h1> Imports"
      ],
      "metadata": {
        "id": "UrjQGgr5nUHC"
      },
      "id": "UrjQGgr5nUHC"
    },
    {
      "cell_type": "code",
      "source": [
        "import matplotlib.pyplot as plt\n",
        "import numpy as np\n",
        "\n",
        "# Required imports for neural network\n",
        "import torch.nn as nn\n",
        "import torch\n",
        "from torch.autograd import Variable\n",
        "import random\n",
        "import torchvision\n"
      ],
      "metadata": {
        "id": "eGl9mcc0nOMP"
      },
      "id": "eGl9mcc0nOMP",
      "execution_count": 1,
      "outputs": []
    },
    {
      "cell_type": "markdown",
      "source": [
        "<h1> Data Loading and Generation"
      ],
      "metadata": {
        "id": "T3KVOwFXFOY0"
      },
      "id": "T3KVOwFXFOY0"
    },
    {
      "cell_type": "markdown",
      "source": [
        "Omniglot dataset\n",
        "\n",
        "Note this omniglot dataset has just 1000 images in the paper they report using 1200 for training"
      ],
      "metadata": {
        "id": "9nDo1jnW4wo4"
      },
      "id": "9nDo1jnW4wo4"
    },
    {
      "cell_type": "code",
      "source": [
        "# Import omniglot dataset\n",
        "dataset = torchvision.datasets.Omniglot(\n",
        "    root=\"./data\", download=True, transform=torchvision.transforms.ToTensor()\n",
        ")"
      ],
      "metadata": {
        "colab": {
          "base_uri": "https://localhost:8080/"
        },
        "id": "AqnEGwSRnOgX",
        "outputId": "35f504bc-fbfb-4694-dec8-ed04fac402c8"
      },
      "id": "AqnEGwSRnOgX",
      "execution_count": 2,
      "outputs": [
        {
          "output_type": "stream",
          "name": "stdout",
          "text": [
            "Files already downloaded and verified\n"
          ]
        }
      ]
    },
    {
      "cell_type": "code",
      "source": [
        "# Create dictionary for all classes there is 50\n",
        "dataset_classes={}\n",
        "for i in range(len(dataset)):\n",
        "  image, label = dataset[i]\n",
        "  try:\n",
        "    dataset_classes[f'{label}']= torch.cat((dataset_classes[f'{label}'],image[None,:,:,:]))\n",
        "  except:\n",
        "    dataset_classes[f'{label}']=image[None,:,:,:]\n",
        "\n",
        "  "
      ],
      "metadata": {
        "id": "HEkrsJBool3Q"
      },
      "id": "HEkrsJBool3Q",
      "execution_count": 3,
      "outputs": []
    },
    {
      "cell_type": "code",
      "source": [
        "class Omni:\n",
        "  x = []\n",
        "  y = []"
      ],
      "metadata": {
        "id": "bfYGR92aDqui"
      },
      "id": "bfYGR92aDqui",
      "execution_count": 4,
      "outputs": []
    },
    {
      "cell_type": "code",
      "source": [
        "# number_of_classes = 964 #Define how money classes to train on, max is 50\n",
        "\n",
        "# # Create empty lists\n",
        "# dataset_list_train = []\n",
        "# dataset_list_train_label = []\n",
        "# dataset_list_test = []\n",
        "# dataset_list_test_label = []\n",
        "\n",
        "# # Extract traning data\n",
        "# for label in range(number_of_classes):\n",
        "#   for j in range(len(dataset_classes[f'{label}'])-1):\n",
        "#     dataset_list_train.append(dataset_classes[f'{label}'][j])\n",
        "#     dataset_list_train_label.append(label)\n",
        "\n",
        "# # Shuffle training data and labels\n",
        "# zip_train_for_shuffling = list(zip(dataset_list_train,dataset_list_train_label))\n",
        "# random.shuffle(zip_train_for_shuffling)\n",
        "# dataset_list_train,dataset_list_train_label = zip(*zip_train_for_shuffling)\n",
        "\n",
        "# # Extr<ct test data\n",
        "# for label in range(number_of_classes):\n",
        "#   dataset_list_test.append(dataset_classes[f'{label}'][-1])\n",
        "#   dataset_list_test_label.append(label)\n",
        "\n",
        "# # Shuffle test data and labels\n",
        "# zip_test_for_shuffling = list(zip(dataset_list_test,dataset_list_test_label))\n",
        "# random.shuffle(zip_test_for_shuffling)\n",
        "# dataset_list_test,dataset_list_test_label = zip(*zip_test_for_shuffling)\n",
        "\n",
        "# OMNI_TRAIN=[]\n",
        "# for _ in range(len(dataset_list_train_label)):\n",
        "#   OMNI_TRAIN.append(Omni())\n",
        "\n",
        "# OMNI_TEST=[]\n",
        "# for _ in range(len(dataset_list_test_label)):\n",
        "#   OMNI_TEST.append(Omni())\n",
        "\n",
        "# for i in range(len(dataset_list_train_label)):\n",
        "#   OMNI_TRAIN[i].x = dataset_list_train[i][None,:,:,:]\n",
        "#   OMNI_TRAIN[i].y = dataset_list_train_label[i]\n",
        "\n",
        "# for i in range(len(dataset_list_test_label)):\n",
        "#   OMNI_TEST[i].x = dataset_list_test[i][None,:,:,:]\n",
        "#   OMNI_TEST[i].y = dataset_list_test_label[i]\n",
        "\n"
      ],
      "metadata": {
        "id": "vzxOBfUN3Q24"
      },
      "id": "vzxOBfUN3Q24",
      "execution_count": 5,
      "outputs": []
    },
    {
      "cell_type": "markdown",
      "source": [
        "<h1> Neural Network Model"
      ],
      "metadata": {
        "id": "cu4urLF7Q88A"
      },
      "id": "cu4urLF7Q88A"
    },
    {
      "cell_type": "code",
      "source": [
        "# Define network\n",
        "class Neural_Network(nn.Module):\n",
        "    def __init__(self, input_size=1, hidden_size=64, output_size=964):\n",
        "        super(Neural_Network, self).__init__()\n",
        "        # network layers\n",
        "        self.hidden1 = nn.Conv2d(input_size,hidden_size,kernel_size=3)\n",
        "        self.hidden2 = nn.Conv2d(hidden_size,hidden_size,kernel_size=3)\n",
        "        self.hidden3 = nn.Conv2d(hidden_size,hidden_size,kernel_size=3)\n",
        "        self.hidden4 = nn.Conv2d(hidden_size,hidden_size,kernel_size=3)\n",
        "        self.batchnorm = nn.BatchNorm2d(hidden_size)\n",
        "        self.maxpool = nn.MaxPool2d(kernel_size=2)\n",
        "        self.flatten = nn.Flatten()\n",
        "        self.linear = nn.Linear(1024,output_size)\n",
        "\n",
        "        #Activation functions\n",
        "        self.relu = nn.ReLU()\n",
        "        self.softmax = nn.Softmax(dim=-1)\n",
        "\n",
        "\n",
        "\n",
        "        \n",
        "    def forward(self, x):\n",
        "\n",
        "        # Convolutional part\n",
        "        x = self.hidden1(x)\n",
        "        x = self.batchnorm(x)\n",
        "        x = self.maxpool(x)\n",
        "        x = self.relu(x)\n",
        "        x = self.hidden2(x)\n",
        "        x = self.batchnorm(x)\n",
        "        x = self.maxpool(x)\n",
        "        x = self.relu(x)\n",
        "        x = self.hidden3(x)\n",
        "        x = self.batchnorm(x)\n",
        "        x = self.maxpool(x)\n",
        "        x = self.relu(x)\n",
        "        x = self.hidden4(x)\n",
        "        x = self.batchnorm(x)\n",
        "        x = self.maxpool(x)\n",
        "        x = self.relu(x)\n",
        "\n",
        "        # Fully-connected part\n",
        "        x = self.flatten(x)\n",
        "        x = self.linear(x)\n",
        "        x = self.softmax(x)\n",
        "\n",
        "        return x\n"
      ],
      "metadata": {
        "id": "R1B0YTz6ytyN"
      },
      "id": "R1B0YTz6ytyN",
      "execution_count": 6,
      "outputs": []
    },
    {
      "cell_type": "markdown",
      "source": [
        "<h1> Helper functions"
      ],
      "metadata": {
        "id": "G-ExWACxQ3mt"
      },
      "id": "G-ExWACxQ3mt"
    },
    {
      "cell_type": "code",
      "source": [
        "# The Minimum Square Error is used to evaluate the difference between prediction and ground truth\n",
        "criterion = nn.BCELoss()\n",
        "\n",
        "def transform_label(label,K=5):\n",
        "    label_tensor=torch.zeros((1,964))\n",
        "    label_tensor[:,label]=1\n",
        "\n",
        "    return label_tensor.repeat(K, 1).float()\n",
        "\n",
        "def copy_existing_model(model):\n",
        "    # Function to copy an existing model\n",
        "    # We initialize a new model\n",
        "    new_model = Neural_Network()\n",
        "    # Copy the previous model's parameters into the new model\n",
        "    new_model.load_state_dict(model.state_dict())\n",
        "    return new_model\n",
        "\n",
        "def initialization_to_store_meta_losses():\n",
        "  # This function creates lists to store the meta losses\n",
        "  global store_train_loss_meta; store_train_loss_meta = []\n",
        "  global store_test_loss_meta; store_test_loss_meta = []\n",
        "\n",
        "def test_set_validation(model,new_model,omni,lr_inner,k,store_test_loss_meta,K=1):\n",
        "    # This functions does not actually affect the main algorithm, it is just used to evaluate the new model\n",
        "    new_model = training(model, omni, lr_inner, k,K)\n",
        "    # Obtain the loss\n",
        "    loss = evaluation(new_model, omni,K)\n",
        "    # Store loss\n",
        "    store_test_loss_meta.append(loss)\n",
        "\n",
        "def train_set_evaluation(new_model,omni,store_train_loss_meta,K):\n",
        "    loss = evaluation(new_model, omni,K)\n",
        "    store_train_loss_meta.append(loss) \n",
        "\n",
        "def print_losses(epoch,store_train_loss_meta,store_test_loss_meta,printing_step=1000):\n",
        "  if epoch % printing_step == 0:\n",
        "    print(f'Epochh : {epoch}, Average Train Meta Loss : {np.mean(store_train_loss_meta)}, Average Test Meta Loss : {np.mean(store_test_loss_meta)}')\n",
        "\n",
        "#This is based on the paper update rule, we calculate the difference between parameters and then this is used by the optimizer, rather than doing the update by hand\n",
        "def reptile_parameter_update(model,new_model):\n",
        "  # Zip models for the loop\n",
        "  zip_models = zip(model.parameters(), new_model.parameters())\n",
        "  for parameter, new_parameter in zip_models:\n",
        "    if parameter.grad is None:\n",
        "      parameter.grad = torch.tensor(torch.zeros_like(parameter))\n",
        "    # Here we are adding the gradient that will later be used by the optimizer\n",
        "    parameter.grad.data.add_(parameter.data - new_parameter.data)\n",
        "\n",
        "# Define commands in order needed for the metaupdate\n",
        "# Note that if we change the order it doesn't behave the same\n",
        "def metaoptimizer_update(metaoptimizer):\n",
        "  # Take step\n",
        "  metaoptimizer.step()\n",
        "  # Reset gradients\n",
        "  metaoptimizer.zero_grad()\n",
        "\n",
        "def metaupdate(model,new_model,metaoptimizer):\n",
        "  # Combine the two previous functions into a single metaupdate function\n",
        "  # First we calculate the gradients\n",
        "  reptile_parameter_update(model,new_model)\n",
        "  # Use those gradients in the optimizer\n",
        "  metaoptimizer_update(metaoptimizer)\n",
        "\n",
        "def evaluation(new_model, omni, K, item = True):\n",
        "    # Get data\n",
        "    x, label = omni.x,omni.y\n",
        "    # Make model prediction\n",
        "    prediction = new_model(x)\n",
        "    # Get loss\n",
        "    if item == True: #Depending on whether we need to return the loss value for storing or for backprop\n",
        "      loss = criterion(prediction,transform_label(label,K=K)).item()\n",
        "    else:\n",
        "      loss = criterion(prediction,transform_label(label,K=K))\n",
        "    return loss\n",
        "\n",
        "def training(model, omni, lr_k, k, K):\n",
        "    # Create new model which we will train on\n",
        "    new_model = copy_existing_model(model)\n",
        "    # Define new optimizer\n",
        "    koptimizer = torch.optim.SGD(new_model.parameters(), lr=lr_k)\n",
        "    # Update the model multiple times, note that k>1 (do not confuse k with K)\n",
        "    for i in range(k):\n",
        "        # Reset optimizer\n",
        "        koptimizer.zero_grad()\n",
        "        # Evaluate the model\n",
        "        loss = evaluation(new_model, omni, K, item = False)\n",
        "        # Backpropagate\n",
        "        loss.backward()\n",
        "        koptimizer.step()\n",
        "    return new_model"
      ],
      "metadata": {
        "id": "1zyNHFXdOnug"
      },
      "id": "1zyNHFXdOnug",
      "execution_count": 7,
      "outputs": []
    },
    {
      "cell_type": "markdown",
      "source": [
        "<h1> Reptile"
      ],
      "metadata": {
        "id": "-4Ps8P2IRCmF"
      },
      "id": "-4Ps8P2IRCmF"
    },
    {
      "cell_type": "code",
      "source": [
        "#Define important variables\n",
        "epochs = int(1e4) # number of epochs \n",
        "lr_meta=0.001 # Learning rate for meta model (outer loop)\n",
        "printing_step=100 # how many epochs should we wait to print the loss\n",
        "lr_k=0.0005 # Internal learning rate\n",
        "k=5 # Number of internal updates for each task\n",
        "\n",
        "# Training loop\n",
        "K = 5 #Max is 20\n",
        "number_of_tasks = 963 #Max 964\n",
        "\n",
        "# Initializations\n",
        "initialization_to_store_meta_losses()\n",
        "model = Neural_Network()\n",
        "metaoptimizer = torch.optim.Adam(model.parameters(), lr=lr_meta,betas=(0, 0.999))"
      ],
      "metadata": {
        "id": "8ogpg_DHizlC"
      },
      "id": "8ogpg_DHizlC",
      "execution_count": 8,
      "outputs": []
    },
    {
      "cell_type": "code",
      "source": [
        "\n",
        "for epoch in range(epochs):\n",
        "        \n",
        "    # Sample a sine omni (Task from training data)\n",
        "    label = random.randint(0,number_of_tasks-1)\n",
        "    sampling = random.randint(0,15)\n",
        "    #need a random shuffle function\n",
        "    data = dataset_classes[f'{label}'][sampling:sampling+5,:,:,:]\n",
        "    omni = Omni()\n",
        "    omni.x = data\n",
        "    omni.y = label\n",
        "\n",
        "    # Update model predefined number of times based on k\n",
        "    new_model = training(model, omni, lr_k, k,K=K)\n",
        "\n",
        "    # Evalaute the loss for the training data\n",
        "    train_set_evaluation(new_model,omni,store_train_loss_meta,K=K)     \n",
        "    \n",
        "    #Meta-update --> Get gradient for meta loop and update\n",
        "    metaupdate(model,new_model,metaoptimizer)\n",
        "    \n",
        "    # Evalaute the loss for the test data\n",
        "    # Note that we need to sample the omni from the test data\n",
        "    # Sample a sine omni (Task from training data)\n",
        "    label = 963\n",
        "    data = dataset_classes[f'{label}'][sampling:sampling+5,:,:,:]\n",
        "      \n",
        "    omni = Omni()\n",
        "    omni.x = data\n",
        "    omni.y = label\n",
        "\n",
        "\n",
        "    test_set_validation(model,new_model,omni,lr_k,k,store_test_loss_meta,K=K)\n",
        "\n",
        "    # Print losses every 'printing_step' epochs\n",
        "    print_losses(epoch,store_train_loss_meta,store_test_loss_meta,printing_step)"
      ],
      "metadata": {
        "colab": {
          "base_uri": "https://localhost:8080/",
          "height": 436
        },
        "id": "-4-zQWWKFt3s",
        "outputId": "b8a68158-2bb7-4565-86cc-ae188d2dda13"
      },
      "id": "-4-zQWWKFt3s",
      "execution_count": 9,
      "outputs": [
        {
          "output_type": "stream",
          "name": "stderr",
          "text": [
            "/usr/local/lib/python3.7/dist-packages/ipykernel_launcher.py:45: UserWarning: To copy construct from a tensor, it is recommended to use sourceTensor.clone().detach() or sourceTensor.clone().detach().requires_grad_(True), rather than torch.tensor(sourceTensor).\n"
          ]
        },
        {
          "output_type": "stream",
          "name": "stdout",
          "text": [
            "Epochh : 0, Average Train Meta Loss : 0.007717070169746876, Average Test Meta Loss : 0.008455774746835232\n"
          ]
        },
        {
          "output_type": "error",
          "ename": "KeyboardInterrupt",
          "evalue": "ignored",
          "traceback": [
            "\u001b[0;31m---------------------------------------------------------------------------\u001b[0m",
            "\u001b[0;31mKeyboardInterrupt\u001b[0m                         Traceback (most recent call last)",
            "\u001b[0;32m<ipython-input-9-1c04f4cb2a39>\u001b[0m in \u001b[0;36m<module>\u001b[0;34m()\u001b[0m\n\u001b[1;32m     12\u001b[0m \u001b[0;34m\u001b[0m\u001b[0m\n\u001b[1;32m     13\u001b[0m     \u001b[0;31m# Update model predefined number of times based on k\u001b[0m\u001b[0;34m\u001b[0m\u001b[0;34m\u001b[0m\u001b[0;34m\u001b[0m\u001b[0m\n\u001b[0;32m---> 14\u001b[0;31m     \u001b[0mnew_model\u001b[0m \u001b[0;34m=\u001b[0m \u001b[0mtraining\u001b[0m\u001b[0;34m(\u001b[0m\u001b[0mmodel\u001b[0m\u001b[0;34m,\u001b[0m \u001b[0momni\u001b[0m\u001b[0;34m,\u001b[0m \u001b[0mlr_k\u001b[0m\u001b[0;34m,\u001b[0m \u001b[0mk\u001b[0m\u001b[0;34m,\u001b[0m\u001b[0mK\u001b[0m\u001b[0;34m=\u001b[0m\u001b[0mK\u001b[0m\u001b[0;34m)\u001b[0m\u001b[0;34m\u001b[0m\u001b[0;34m\u001b[0m\u001b[0m\n\u001b[0m\u001b[1;32m     15\u001b[0m \u001b[0;34m\u001b[0m\u001b[0m\n\u001b[1;32m     16\u001b[0m     \u001b[0;31m# Evalaute the loss for the training data\u001b[0m\u001b[0;34m\u001b[0m\u001b[0;34m\u001b[0m\u001b[0;34m\u001b[0m\u001b[0m\n",
            "\u001b[0;32m<ipython-input-7-fa1acda1cde4>\u001b[0m in \u001b[0;36mtraining\u001b[0;34m(model, omni, lr_k, k, K)\u001b[0m\n\u001b[1;32m     86\u001b[0m         \u001b[0mloss\u001b[0m \u001b[0;34m=\u001b[0m \u001b[0mevaluation\u001b[0m\u001b[0;34m(\u001b[0m\u001b[0mnew_model\u001b[0m\u001b[0;34m,\u001b[0m \u001b[0momni\u001b[0m\u001b[0;34m,\u001b[0m \u001b[0mK\u001b[0m\u001b[0;34m,\u001b[0m \u001b[0mitem\u001b[0m \u001b[0;34m=\u001b[0m \u001b[0;32mFalse\u001b[0m\u001b[0;34m)\u001b[0m\u001b[0;34m\u001b[0m\u001b[0;34m\u001b[0m\u001b[0m\n\u001b[1;32m     87\u001b[0m         \u001b[0;31m# Backpropagate\u001b[0m\u001b[0;34m\u001b[0m\u001b[0;34m\u001b[0m\u001b[0;34m\u001b[0m\u001b[0m\n\u001b[0;32m---> 88\u001b[0;31m         \u001b[0mloss\u001b[0m\u001b[0;34m.\u001b[0m\u001b[0mbackward\u001b[0m\u001b[0;34m(\u001b[0m\u001b[0;34m)\u001b[0m\u001b[0;34m\u001b[0m\u001b[0;34m\u001b[0m\u001b[0m\n\u001b[0m\u001b[1;32m     89\u001b[0m         \u001b[0mkoptimizer\u001b[0m\u001b[0;34m.\u001b[0m\u001b[0mstep\u001b[0m\u001b[0;34m(\u001b[0m\u001b[0;34m)\u001b[0m\u001b[0;34m\u001b[0m\u001b[0;34m\u001b[0m\u001b[0m\n\u001b[1;32m     90\u001b[0m     \u001b[0;32mreturn\u001b[0m \u001b[0mnew_model\u001b[0m\u001b[0;34m\u001b[0m\u001b[0;34m\u001b[0m\u001b[0m\n",
            "\u001b[0;32m/usr/local/lib/python3.7/dist-packages/torch/_tensor.py\u001b[0m in \u001b[0;36mbackward\u001b[0;34m(self, gradient, retain_graph, create_graph, inputs)\u001b[0m\n\u001b[1;32m    305\u001b[0m                 \u001b[0mcreate_graph\u001b[0m\u001b[0;34m=\u001b[0m\u001b[0mcreate_graph\u001b[0m\u001b[0;34m,\u001b[0m\u001b[0;34m\u001b[0m\u001b[0;34m\u001b[0m\u001b[0m\n\u001b[1;32m    306\u001b[0m                 inputs=inputs)\n\u001b[0;32m--> 307\u001b[0;31m         \u001b[0mtorch\u001b[0m\u001b[0;34m.\u001b[0m\u001b[0mautograd\u001b[0m\u001b[0;34m.\u001b[0m\u001b[0mbackward\u001b[0m\u001b[0;34m(\u001b[0m\u001b[0mself\u001b[0m\u001b[0;34m,\u001b[0m \u001b[0mgradient\u001b[0m\u001b[0;34m,\u001b[0m \u001b[0mretain_graph\u001b[0m\u001b[0;34m,\u001b[0m \u001b[0mcreate_graph\u001b[0m\u001b[0;34m,\u001b[0m \u001b[0minputs\u001b[0m\u001b[0;34m=\u001b[0m\u001b[0minputs\u001b[0m\u001b[0;34m)\u001b[0m\u001b[0;34m\u001b[0m\u001b[0;34m\u001b[0m\u001b[0m\n\u001b[0m\u001b[1;32m    308\u001b[0m \u001b[0;34m\u001b[0m\u001b[0m\n\u001b[1;32m    309\u001b[0m     \u001b[0;32mdef\u001b[0m \u001b[0mregister_hook\u001b[0m\u001b[0;34m(\u001b[0m\u001b[0mself\u001b[0m\u001b[0;34m,\u001b[0m \u001b[0mhook\u001b[0m\u001b[0;34m)\u001b[0m\u001b[0;34m:\u001b[0m\u001b[0;34m\u001b[0m\u001b[0;34m\u001b[0m\u001b[0m\n",
            "\u001b[0;32m/usr/local/lib/python3.7/dist-packages/torch/autograd/__init__.py\u001b[0m in \u001b[0;36mbackward\u001b[0;34m(tensors, grad_tensors, retain_graph, create_graph, grad_variables, inputs)\u001b[0m\n\u001b[1;32m    154\u001b[0m     Variable._execution_engine.run_backward(\n\u001b[1;32m    155\u001b[0m         \u001b[0mtensors\u001b[0m\u001b[0;34m,\u001b[0m \u001b[0mgrad_tensors_\u001b[0m\u001b[0;34m,\u001b[0m \u001b[0mretain_graph\u001b[0m\u001b[0;34m,\u001b[0m \u001b[0mcreate_graph\u001b[0m\u001b[0;34m,\u001b[0m \u001b[0minputs\u001b[0m\u001b[0;34m,\u001b[0m\u001b[0;34m\u001b[0m\u001b[0;34m\u001b[0m\u001b[0m\n\u001b[0;32m--> 156\u001b[0;31m         allow_unreachable=True, accumulate_grad=True)  # allow_unreachable flag\n\u001b[0m\u001b[1;32m    157\u001b[0m \u001b[0;34m\u001b[0m\u001b[0m\n\u001b[1;32m    158\u001b[0m \u001b[0;34m\u001b[0m\u001b[0m\n",
            "\u001b[0;31mKeyboardInterrupt\u001b[0m: "
          ]
        }
      ]
    },
    {
      "cell_type": "code",
      "source": [
        "torch.save(model, 'reptile_classification')"
      ],
      "metadata": {
        "id": "4455Z3LWx9jG"
      },
      "id": "4455Z3LWx9jG",
      "execution_count": 10,
      "outputs": []
    },
    {
      "cell_type": "code",
      "source": [
        "model = torch.load('reptile_classification')"
      ],
      "metadata": {
        "id": "NZmTOUuKyG25"
      },
      "id": "NZmTOUuKyG25",
      "execution_count": 11,
      "outputs": []
    },
    {
      "cell_type": "markdown",
      "source": [
        "<h1> Few Shot learning with new meta-model"
      ],
      "metadata": {
        "id": "bQjoz6FYctJM"
      },
      "id": "bQjoz6FYctJM"
    },
    {
      "cell_type": "markdown",
      "source": [
        "The model performs good few shot learning"
      ],
      "metadata": {
        "id": "m-SPUG5Bfpe9"
      },
      "id": "m-SPUG5Bfpe9"
    },
    {
      "cell_type": "code",
      "source": [
        "label = 963\n",
        "data = dataset_classes[f'{label}'][0:K,:,:,:]\n",
        "      \n",
        "omni = Omni()\n",
        "omni.x = data\n",
        "omni.y = label\n",
        "k_shot_updates = 5\n",
        "initialization_to_store_meta_losses()\n",
        "for shots in range(k_shot_updates):\n",
        "    new_model = training(model, omni, lr_k, shots,K)\n",
        "    train_set_evaluation(new_model,omni,store_train_loss_meta,K) \n",
        "\n",
        "plt.plot(store_train_loss_meta,label = 'Loss')\n",
        "plt.legend()\n",
        "plt.xlabel('k shots')"
      ],
      "metadata": {
        "colab": {
          "base_uri": "https://localhost:8080/",
          "height": 296
        },
        "id": "GY84TNs8JXVH",
        "outputId": "c174c2d4-b83a-47c8-dadd-10a77b600447"
      },
      "id": "GY84TNs8JXVH",
      "execution_count": 12,
      "outputs": [
        {
          "output_type": "execute_result",
          "data": {
            "text/plain": [
              "Text(0.5, 0, 'k shots')"
            ]
          },
          "metadata": {},
          "execution_count": 12
        },
        {
          "output_type": "display_data",
          "data": {
            "text/plain": [
              "<Figure size 432x288 with 1 Axes>"
            ],
            "image/png": "[encoded data removed]"
          },
          "metadata": {
            "needs_background": "light"
          }
        }
      ]
    },
    {
      "cell_type": "code",
      "source": [
        "label"
      ],
      "metadata": {
        "colab": {
          "base_uri": "https://localhost:8080/"
        },
        "id": "B3HnhyvJRa_H",
        "outputId": "0bbec6f0-cdcb-473c-dcd3-6e6e9cf93e27"
      },
      "id": "B3HnhyvJRa_H",
      "execution_count": null,
      "outputs": [
        {
          "output_type": "execute_result",
          "data": {
            "text/plain": [
              "2"
            ]
          },
          "metadata": {},
          "execution_count": 24
        }
      ]
    },
    {
      "cell_type": "code",
      "source": [
        ""
      ],
      "metadata": {
        "id": "1-7gq-dsIM21"
      },
      "id": "1-7gq-dsIM21",
      "execution_count": null,
      "outputs": []
    }
  ],
  "metadata": {
    "kernelspec": {
      "display_name": "Python 3",
      "language": "python",
      "name": "python3"
    },
    "language_info": {
      "codemirror_mode": {
        "name": "ipython",
        "version": 3
      },
      "file_extension": ".py",
      "mimetype": "text/x-python",
      "name": "python",
      "nbconvert_exporter": "python",
      "pygments_lexer": "ipython3",
      "version": "3.8.8"
    },
    "colab": {
      "name": "Reptile_classification_omniglot.ipynb",
      "provenance": [],
      "collapsed_sections": []
    },
    "accelerator": "GPU"
  },
  "nbformat": 4,
  "nbformat_minor": 5
}