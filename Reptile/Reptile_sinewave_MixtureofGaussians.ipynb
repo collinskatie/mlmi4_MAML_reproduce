{
  "cells": [
    {
      "cell_type": "markdown",
      "id": "UrjQGgr5nUHC",
      "metadata": {
        "id": "UrjQGgr5nUHC"
      },
      "source": [
        "<h1> Imports"
      ]
    },
    {
      "cell_type": "code",
      "execution_count": 1,
      "id": "eGl9mcc0nOMP",
      "metadata": {
        "id": "eGl9mcc0nOMP"
      },
      "outputs": [],
      "source": [
        "import matplotlib.pyplot as plt\n",
        "import numpy as np\n",
        "\n",
        "# Required imports for neural network\n",
        "import torch.nn as nn\n",
        "import torch\n",
        "from torch.autograd import Variable\n",
        "import random"
      ]
    },
    {
      "cell_type": "markdown",
      "id": "T3KVOwFXFOY0",
      "metadata": {
        "id": "T3KVOwFXFOY0"
      },
      "source": [
        "<h1> Data Loading and Generation"
      ]
    },
    {
      "cell_type": "markdown",
      "id": "nMUUm70ufKHH",
      "metadata": {
        "id": "nMUUm70ufKHH"
      },
      "source": [
        "This Sine function generator is based on the repostory: https://github.com/AdrienLE/ANIML/blob/master/ANIML.ipynb"
      ]
    },
    {
      "cell_type": "code",
      "execution_count": 2,
      "id": "a3X51uGHDvSV",
      "metadata": {
        "id": "a3X51uGHDvSV"
      },
      "outputs": [],
      "source": [
        "class SineWaveTask:\n",
        "    def __init__(self):\n",
        "        self.a = np.random.uniform(0.1, 5.0)\n",
        "        self.b = np.random.uniform(0, 2*np.pi)\n",
        "        self.train_x = None\n",
        "        \n",
        "    def f(self, x):\n",
        "        return self.a * np.sin(x + self.b)\n",
        "        \n",
        "    def training_set(self, size=10, force_new=False):\n",
        "        if self.train_x is None and not force_new:\n",
        "            self.train_x = np.random.uniform(-5, 5, size)\n",
        "            x = self.train_x\n",
        "        elif not force_new:\n",
        "            x = self.train_x\n",
        "        else:\n",
        "            x = np.random.uniform(-5, 5, size)\n",
        "        y = self.f(x)\n",
        "        return torch.Tensor(x), torch.Tensor(y)\n",
        "    \n",
        "    def test_set(self, size=50):\n",
        "        x = np.linspace(-5, 5, size)\n",
        "        y = self.f(x)\n",
        "        return torch.Tensor(x), torch.Tensor(y)\n",
        "    \n",
        "    def plot(self, *args, **kwargs):\n",
        "        x, y = self.test_set(size=100)\n",
        "        return plt.plot(x.numpy(), y.numpy(), *args, **kwargs)\n",
        "    \n",
        "    def plot_model(self, new_model, *args, **kwargs):\n",
        "        x, y_true = self.test_set(size=100)\n",
        "        x = Variable(x[:, None])\n",
        "        y_true = Variable(y_true[:, None])    \n",
        "\n",
        "        y_pred = new_model(x)\n",
        "\n",
        "        plt.plot(x.data.numpy().flatten(),\n",
        "                 y_pred.data.numpy().flatten(),\n",
        "                 *args, **kwargs)\n",
        "\n",
        "TRAIN_SIZE = 20000\n",
        "TEST_SIZE = 1000\n",
        "SINE_TRAIN = [SineWaveTask() for _ in range(TRAIN_SIZE)]\n",
        "SINE_TEST = [SineWaveTask() for _ in range(TEST_SIZE)]"
      ]
    },
    {
      "cell_type": "markdown",
      "id": "cu4urLF7Q88A",
      "metadata": {
        "id": "cu4urLF7Q88A"
      },
      "source": [
        "<h1> Neural Network Model"
      ]
    },
    {
      "cell_type": "code",
      "execution_count": 36,
      "id": "R1B0YTz6ytyN",
      "metadata": {
        "id": "R1B0YTz6ytyN"
      },
      "outputs": [],
      "source": [
        "# Define network\n",
        "class Neural_Network(nn.Module):\n",
        "    def __init__(self, input_size=1, hidden_size=40, number_of_gaussians=10):\n",
        "        super(Neural_Network, self).__init__()\n",
        "        # network layers\n",
        "        self.output_size = number_of_gaussians*3\n",
        "        self.hidden1 = nn.Linear(input_size,hidden_size)\n",
        "        self.hidden2 = nn.Linear(hidden_size,hidden_size)\n",
        "        self.hidden3 = nn.Linear(hidden_size,hidden_size)\n",
        "        self.output_layer = nn.Linear(hidden_size,self.output_size)\n",
        "        \n",
        "\n",
        "        #Activation functions\n",
        "        self.relu = nn.ReLU()\n",
        "        self.softmax = nn.Softmax()\n",
        "        \n",
        "    def forward(self, x):\n",
        "        x = self.hidden1(x)\n",
        "        x = self.relu(x)\n",
        "        x = self.hidden2(x)\n",
        "        x = self.relu(x)\n",
        "        x = self.hidden3(x)\n",
        "        x = self.relu(x)\n",
        "        x = self.output_layer(x)\n",
        "        means = x[:,0:int(self.output_size/3)] \n",
        "        stds = self.relu(x[:,int(self.output_size/3):int(2*self.output_size/3)]) \n",
        "        weights = self.softmax(x[:,int(2*self.output_size/3):self.output_size]) \n",
        "        y = torch.cat((means,stds,weights),dim=-1)\n",
        "        return y\n"
      ]
    },
    {
      "cell_type": "markdown",
      "id": "G-ExWACxQ3mt",
      "metadata": {
        "id": "G-ExWACxQ3mt"
      },
      "source": [
        "<h1> Helper functions"
      ]
    },
    {
      "cell_type": "code",
      "source": [
        "import math\n",
        "#https://towardsdatascience.com/predicting-probability-distributions-using-neural-networks-abef7db10eac\n",
        "def loss_gaussian(prediction,label,number_of_gaussians=10):\n",
        "  epsilon = 1e-20 #avoid division by 0\n",
        "  avoid_inf = 1e-20\n",
        "  number_of_gaussians=number_of_gaussians*3\n",
        "  loss = avoid_inf\n",
        "  means = prediction[:,0:int(number_of_gaussians/3)] \n",
        "  stds = prediction[:,int(number_of_gaussians/3):int(2*number_of_gaussians/3)]\n",
        "  weights = prediction[:,int(2*number_of_gaussians/3):number_of_gaussians]\n",
        "  for i in range(int(number_of_gaussians/3)):\n",
        "    mean = means[:,i]\n",
        "    std = stds[:,i]\n",
        "    weight = weights[:,i]\n",
        "    a = 1/(torch.sqrt(2*math.pi*std**2)+epsilon)\n",
        "    b = -((label-mean)**2)/(2*std**2+epsilon)\n",
        "    loss = loss + weight*a*torch.exp(b)\n",
        "  return torch.mean(-torch.log(loss))"
      ],
      "metadata": {
        "id": "J8_PXVPWckoc"
      },
      "id": "J8_PXVPWckoc",
      "execution_count": 43,
      "outputs": []
    },
    {
      "cell_type": "code",
      "execution_count": 44,
      "id": "1zyNHFXdOnug",
      "metadata": {
        "id": "1zyNHFXdOnug"
      },
      "outputs": [],
      "source": [
        "\n",
        "\n",
        "def copy_existing_model(model):\n",
        "    # Function to copy an existing model\n",
        "    # We initialize a new model\n",
        "    new_model = Neural_Network()\n",
        "    # Copy the previous model's parameters into the new model\n",
        "    new_model.load_state_dict(model.state_dict())\n",
        "    return new_model\n",
        "\n",
        "def get_samples_in_good_format(wave):\n",
        "  #This function is used to sample data from a wave\n",
        "  x, y_true = wave.training_set()\n",
        "  # We add [:,None] to get the right dimensions to pass to the model: we want K x 1 (we have scalars inputs hence the x 1)\n",
        "  # Note that we convert everything torch tensors\n",
        "  x = torch.tensor(x[:,None])\n",
        "  y_true = torch.tensor(y_true[:,None])\n",
        "  return x,y_true\n",
        "\n",
        "def initialization_to_store_meta_losses():\n",
        "  # This function creates lists to store the meta losses\n",
        "  global store_train_loss_meta; store_train_loss_meta = []\n",
        "  global store_test_loss_meta; store_test_loss_meta = []\n",
        "\n",
        "def test_set_validation(model,new_model,wave,lr_inner,k,store_test_loss_meta):\n",
        "    # This functions does not actually affect the main algorithm, it is just used to evaluate the new model\n",
        "    new_model = training(model, wave, lr_inner, k)\n",
        "    # Obtain the loss\n",
        "    loss = evaluation(new_model, wave)\n",
        "    # Store loss\n",
        "    store_test_loss_meta.append(loss)\n",
        "\n",
        "def train_set_evaluation(new_model,wave,store_train_loss_meta):\n",
        "    loss = evaluation(new_model, wave)\n",
        "    store_train_loss_meta.append(loss) \n",
        "\n",
        "def print_losses(epoch,store_train_loss_meta,store_test_loss_meta,printing_step=1000):\n",
        "  if epoch % printing_step == 0:\n",
        "    print(f'Epochh : {epoch}, Average Train Meta Loss : {np.mean(store_train_loss_meta)}, Average Test Meta Loss : {np.mean(store_test_loss_meta)}')\n",
        "\n",
        "#This is based on the paper update rule, we calculate the difference between parameters and then this is used by the optimizer, rather than doing the update by hand\n",
        "def reptile_parameter_update(model,new_model):\n",
        "  # Zip models for the loop\n",
        "  zip_models = zip(model.parameters(), new_model.parameters())\n",
        "  for parameter, new_parameter in zip_models:\n",
        "    if parameter.grad is None:\n",
        "      parameter.grad = torch.tensor(torch.zeros_like(parameter))\n",
        "    # Here we are adding the gradient that will later be used by the optimizer\n",
        "    parameter.grad.data.add_(parameter.data - new_parameter.data)\n",
        "\n",
        "# Define commands in order needed for the metaupdate\n",
        "# Note that if we change the order it doesn't behave the same\n",
        "def metaoptimizer_update(metaoptimizer):\n",
        "  # Take step\n",
        "  metaoptimizer.step()\n",
        "  # Reset gradients\n",
        "  metaoptimizer.zero_grad()\n",
        "\n",
        "def metaupdate(model,new_model,metaoptimizer):\n",
        "  # Combine the two previous functions into a single metaupdate function\n",
        "  # First we calculate the gradients\n",
        "  reptile_parameter_update(model,new_model)\n",
        "  # Use those gradients in the optimizer\n",
        "  metaoptimizer_update(metaoptimizer)\n",
        "\n",
        "def evaluation(new_model, wave, item = True):\n",
        "    # Get data\n",
        "    x, label = get_samples_in_good_format(wave)\n",
        "    # Make model prediction\n",
        "    prediction = new_model(x)\n",
        "    # Get loss\n",
        "    if item == True: #Depending on whether we need to return the loss value for storing or for backprop\n",
        "      loss = loss_gaussian(prediction,label).item()\n",
        "    else:\n",
        "      loss = loss_gaussian(prediction,label)\n",
        "    return loss\n",
        "\n",
        "def training(model, wave, lr_k, k):\n",
        "    # Create new model which we will train on\n",
        "    new_model = copy_existing_model(model)\n",
        "    # Define new optimizer\n",
        "    koptimizer = torch.optim.SGD(new_model.parameters(), lr=lr_k)\n",
        "    # Update the model multiple times, note that k>1 (do not confuse k with K)\n",
        "    for i in range(k):\n",
        "        # Reset optimizer\n",
        "        koptimizer.zero_grad()\n",
        "        # Evaluate the model\n",
        "        loss = evaluation(new_model, wave, item = False)\n",
        "        # Backpropagate\n",
        "        loss.backward()\n",
        "        koptimizer.step()\n",
        "    return new_model"
      ]
    },
    {
      "cell_type": "markdown",
      "id": "-4Ps8P2IRCmF",
      "metadata": {
        "id": "-4Ps8P2IRCmF"
      },
      "source": [
        "<h1> Reptile"
      ]
    },
    {
      "cell_type": "code",
      "execution_count": 45,
      "id": "8ogpg_DHizlC",
      "metadata": {
        "id": "8ogpg_DHizlC"
      },
      "outputs": [],
      "source": [
        "#Define important variables\n",
        "epochs = int(1e5) # number of epochs \n",
        "lr_meta=0.0001 # Learning rate for meta model (outer loop)\n",
        "printing_step=100 # how many epochs should we wait to print the loss\n",
        "lr_k=0.01 # Internal learning rate\n",
        "k=5 # Number of internal updates for each task\n",
        "\n",
        "# Initializations\n",
        "initialization_to_store_meta_losses()\n",
        "model = Neural_Network()\n",
        "metaoptimizer = torch.optim.Adam(model.parameters(), lr=lr_meta)"
      ]
    },
    {
      "cell_type": "code",
      "execution_count": 49,
      "id": "-4-zQWWKFt3s",
      "metadata": {
        "colab": {
          "base_uri": "https://localhost:8080/",
          "height": 1000
        },
        "id": "-4-zQWWKFt3s",
        "outputId": "928d8730-adbe-4e23-d9e8-973607474edc"
      },
      "outputs": [
        {
          "output_type": "stream",
          "name": "stderr",
          "text": [
            "/usr/local/lib/python3.7/dist-packages/ipykernel_launcher.py:16: UserWarning: To copy construct from a tensor, it is recommended to use sourceTensor.clone().detach() or sourceTensor.clone().detach().requires_grad_(True), rather than torch.tensor(sourceTensor).\n",
            "  app.launch_new_instance()\n",
            "/usr/local/lib/python3.7/dist-packages/ipykernel_launcher.py:17: UserWarning: To copy construct from a tensor, it is recommended to use sourceTensor.clone().detach() or sourceTensor.clone().detach().requires_grad_(True), rather than torch.tensor(sourceTensor).\n",
            "/usr/local/lib/python3.7/dist-packages/ipykernel_launcher.py:27: UserWarning: Implicit dimension choice for softmax has been deprecated. Change the call to include dim=X as an argument.\n"
          ]
        },
        {
          "output_type": "stream",
          "name": "stdout",
          "text": [
            "Epochh : 0, Average Train Meta Loss : 2.686812496185303, Average Test Meta Loss : 2.8577725887298584\n",
            "Epochh : 100, Average Train Meta Loss : 1.8711074198995317, Average Test Meta Loss : 1.9430882464541066\n",
            "Epochh : 200, Average Train Meta Loss : 1.8805116839525176, Average Test Meta Loss : 1.8883670865006708\n",
            "Epochh : 300, Average Train Meta Loss : 1.8757274964793784, Average Test Meta Loss : 1.8769991508750028\n",
            "Epochh : 400, Average Train Meta Loss : 1.8834272890179247, Average Test Meta Loss : 1.9032756286369\n",
            "Epochh : 500, Average Train Meta Loss : 1.8821902436195033, Average Test Meta Loss : 1.8988114228981459\n",
            "Epochh : 600, Average Train Meta Loss : 1.8795503456237888, Average Test Meta Loss : 1.8983171905535032\n",
            "Epochh : 700, Average Train Meta Loss : 1.8680356701637837, Average Test Meta Loss : 1.8900596126595168\n",
            "Epochh : 800, Average Train Meta Loss : 1.856002918144931, Average Test Meta Loss : 1.8938024550787964\n",
            "Epochh : 900, Average Train Meta Loss : 1.853977792302548, Average Test Meta Loss : 1.8826196762949194\n",
            "Epochh : 1000, Average Train Meta Loss : 1.8562388091241542, Average Test Meta Loss : 1.8800883274395148\n",
            "Epochh : 1100, Average Train Meta Loss : 1.8624576958326193, Average Test Meta Loss : 1.8884445014972235\n",
            "Epochh : 1200, Average Train Meta Loss : 1.8688710061099025, Average Test Meta Loss : 1.889276886537212\n",
            "Epochh : 1300, Average Train Meta Loss : 1.8700079708263793, Average Test Meta Loss : 1.8826841926180702\n",
            "Epochh : 1400, Average Train Meta Loss : 1.8625761860630266, Average Test Meta Loss : 1.8850121052668487\n",
            "Epochh : 1500, Average Train Meta Loss : 1.865671994876228, Average Test Meta Loss : 1.8847324998675785\n",
            "Epochh : 1600, Average Train Meta Loss : 1.8659594610472705, Average Test Meta Loss : 1.8842144858936718\n",
            "Epochh : 1700, Average Train Meta Loss : 1.8632692692566477, Average Test Meta Loss : 1.876695189743288\n",
            "Epochh : 1800, Average Train Meta Loss : 1.8626418807830176, Average Test Meta Loss : 1.879941274039137\n",
            "Epochh : 1900, Average Train Meta Loss : 1.865269466960837, Average Test Meta Loss : 1.879289080260977\n",
            "Epochh : 2000, Average Train Meta Loss : 1.8710076422465411, Average Test Meta Loss : 1.8801560799187718\n",
            "Epochh : 2100, Average Train Meta Loss : 1.8724155574541477, Average Test Meta Loss : 1.8848824546907783\n",
            "Epochh : 2200, Average Train Meta Loss : 1.8801162798253317, Average Test Meta Loss : 1.8894774220437014\n",
            "Epochh : 2300, Average Train Meta Loss : 1.8777159361350562, Average Test Meta Loss : 1.889532115517661\n",
            "Epochh : 2400, Average Train Meta Loss : 1.8818715489517874, Average Test Meta Loss : 1.892209790878212\n",
            "Epochh : 2500, Average Train Meta Loss : 1.885726338107429, Average Test Meta Loss : 1.886859213062724\n",
            "Epochh : 2600, Average Train Meta Loss : 1.8873140999371625, Average Test Meta Loss : 1.886731669895411\n",
            "Epochh : 2700, Average Train Meta Loss : 1.8928489321095665, Average Test Meta Loss : 1.8945347455870505\n",
            "Epochh : 2800, Average Train Meta Loss : 1.8957318242858439, Average Test Meta Loss : 1.8925904368689788\n",
            "Epochh : 2900, Average Train Meta Loss : 1.9002810425889676, Average Test Meta Loss : 1.8968626908156654\n",
            "Epochh : 3000, Average Train Meta Loss : 1.9021688197000253, Average Test Meta Loss : 1.9025567857631145\n",
            "Epochh : 3100, Average Train Meta Loss : 1.9053545317980018, Average Test Meta Loss : 1.9004928637734442\n",
            "Epochh : 3200, Average Train Meta Loss : 1.9104591011443115, Average Test Meta Loss : 1.897133225754895\n",
            "Epochh : 3300, Average Train Meta Loss : 1.909823836032273, Average Test Meta Loss : 1.896297624178391\n",
            "Epochh : 3400, Average Train Meta Loss : 1.9103000465709383, Average Test Meta Loss : 1.8990622533058654\n",
            "Epochh : 3500, Average Train Meta Loss : 1.9108925272390438, Average Test Meta Loss : 1.9006233673741717\n",
            "Epochh : 3600, Average Train Meta Loss : 1.9106776125450076, Average Test Meta Loss : 1.903993226868126\n",
            "Epochh : 3700, Average Train Meta Loss : 1.9134369532287363, Average Test Meta Loss : 1.9072364088791072\n",
            "Epochh : 3800, Average Train Meta Loss : 1.9156171686487191, Average Test Meta Loss : 1.9079883999150307\n",
            "Epochh : 3900, Average Train Meta Loss : 1.9197210777832359, Average Test Meta Loss : 1.909727691745558\n",
            "Epochh : 4000, Average Train Meta Loss : 1.9205692385633786, Average Test Meta Loss : 1.9133307463914282\n",
            "Epochh : 4100, Average Train Meta Loss : 1.9174278133043998, Average Test Meta Loss : 1.91338343762172\n",
            "Epochh : 4200, Average Train Meta Loss : 1.9169164007487536, Average Test Meta Loss : 1.9157692667915336\n",
            "Epochh : 4300, Average Train Meta Loss : 1.9196383893299462, Average Test Meta Loss : 1.9180257579736573\n",
            "Epochh : 4400, Average Train Meta Loss : 1.9184153963654185, Average Test Meta Loss : 1.9176067781271284\n",
            "Epochh : 4500, Average Train Meta Loss : 1.9196916477082837, Average Test Meta Loss : 1.9157362157605975\n",
            "Epochh : 4600, Average Train Meta Loss : 1.9190267804342682, Average Test Meta Loss : 1.9155916527708738\n",
            "Epochh : 4700, Average Train Meta Loss : 1.919029417892128, Average Test Meta Loss : 1.9137250975248243\n",
            "Epochh : 4800, Average Train Meta Loss : 1.9204280726324756, Average Test Meta Loss : 1.9155802516318303\n",
            "Epochh : 4900, Average Train Meta Loss : 1.9210630675293618, Average Test Meta Loss : 1.9143143280560728\n",
            "Epochh : 5000, Average Train Meta Loss : 1.9201887260322328, Average Test Meta Loss : 1.9141986861316962\n",
            "Epochh : 5100, Average Train Meta Loss : 1.918054568853656, Average Test Meta Loss : 1.915962694002101\n",
            "Epochh : 5200, Average Train Meta Loss : 1.9242535791453779, Average Test Meta Loss : 1.9181720640168662\n",
            "Epochh : 5300, Average Train Meta Loss : 1.9247283882332455, Average Test Meta Loss : 1.9175504102981096\n",
            "Epochh : 5400, Average Train Meta Loss : 1.9241796524283734, Average Test Meta Loss : 1.9171613183785061\n",
            "Epochh : 5500, Average Train Meta Loss : 1.9243632495010798, Average Test Meta Loss : 1.91774072251446\n",
            "Epochh : 5600, Average Train Meta Loss : 1.9260178926783837, Average Test Meta Loss : 1.9182967858306215\n",
            "Epochh : 5700, Average Train Meta Loss : 1.9258118886823825, Average Test Meta Loss : 1.9179546959597569\n",
            "Epochh : 5800, Average Train Meta Loss : 1.9253097745119037, Average Test Meta Loss : 1.9159082099345814\n",
            "Epochh : 5900, Average Train Meta Loss : 1.9243958120082114, Average Test Meta Loss : 1.9153965844974299\n",
            "Epochh : 6000, Average Train Meta Loss : 1.9251578451009417, Average Test Meta Loss : 1.9135149577432344\n",
            "Epochh : 6100, Average Train Meta Loss : 1.9246714510957206, Average Test Meta Loss : 1.9134998752472538\n",
            "Epochh : 6200, Average Train Meta Loss : 1.924599110423366, Average Test Meta Loss : 1.9120345737516562\n"
          ]
        },
        {
          "output_type": "error",
          "ename": "KeyboardInterrupt",
          "evalue": "ignored",
          "traceback": [
            "\u001b[0;31m---------------------------------------------------------------------------\u001b[0m",
            "\u001b[0;31mKeyboardInterrupt\u001b[0m                         Traceback (most recent call last)",
            "\u001b[0;32m<ipython-input-49-8ad4544552ca>\u001b[0m in \u001b[0;36m<module>\u001b[0;34m()\u001b[0m\n\u001b[1;32m     18\u001b[0m     \u001b[0;31m# Note that we need to sample the wave from the test data\u001b[0m\u001b[0;34m\u001b[0m\u001b[0;34m\u001b[0m\u001b[0;34m\u001b[0m\u001b[0m\n\u001b[1;32m     19\u001b[0m     \u001b[0mwave\u001b[0m \u001b[0;34m=\u001b[0m \u001b[0mrandom\u001b[0m\u001b[0;34m.\u001b[0m\u001b[0msample\u001b[0m\u001b[0;34m(\u001b[0m\u001b[0mSINE_TEST\u001b[0m\u001b[0;34m,\u001b[0m \u001b[0;36m1\u001b[0m\u001b[0;34m)\u001b[0m\u001b[0;34m\u001b[0m\u001b[0;34m\u001b[0m\u001b[0m\n\u001b[0;32m---> 20\u001b[0;31m     \u001b[0mtest_set_validation\u001b[0m\u001b[0;34m(\u001b[0m\u001b[0mmodel\u001b[0m\u001b[0;34m,\u001b[0m\u001b[0mnew_model\u001b[0m\u001b[0;34m,\u001b[0m\u001b[0mwave\u001b[0m\u001b[0;34m[\u001b[0m\u001b[0;36m0\u001b[0m\u001b[0;34m]\u001b[0m\u001b[0;34m,\u001b[0m\u001b[0mlr_k\u001b[0m\u001b[0;34m,\u001b[0m\u001b[0mk\u001b[0m\u001b[0;34m,\u001b[0m\u001b[0mstore_test_loss_meta\u001b[0m\u001b[0;34m)\u001b[0m\u001b[0;34m\u001b[0m\u001b[0;34m\u001b[0m\u001b[0m\n\u001b[0m\u001b[1;32m     21\u001b[0m \u001b[0;34m\u001b[0m\u001b[0m\n\u001b[1;32m     22\u001b[0m     \u001b[0;31m# Print losses every 'printing_step' epochs\u001b[0m\u001b[0;34m\u001b[0m\u001b[0;34m\u001b[0m\u001b[0;34m\u001b[0m\u001b[0m\n",
            "\u001b[0;32m<ipython-input-44-5e4139a492c9>\u001b[0m in \u001b[0;36mtest_set_validation\u001b[0;34m(model, new_model, wave, lr_inner, k, store_test_loss_meta)\u001b[0m\n\u001b[1;32m     27\u001b[0m     \u001b[0mnew_model\u001b[0m \u001b[0;34m=\u001b[0m \u001b[0mtraining\u001b[0m\u001b[0;34m(\u001b[0m\u001b[0mmodel\u001b[0m\u001b[0;34m,\u001b[0m \u001b[0mwave\u001b[0m\u001b[0;34m,\u001b[0m \u001b[0mlr_inner\u001b[0m\u001b[0;34m,\u001b[0m \u001b[0mk\u001b[0m\u001b[0;34m)\u001b[0m\u001b[0;34m\u001b[0m\u001b[0;34m\u001b[0m\u001b[0m\n\u001b[1;32m     28\u001b[0m     \u001b[0;31m# Obtain the loss\u001b[0m\u001b[0;34m\u001b[0m\u001b[0;34m\u001b[0m\u001b[0;34m\u001b[0m\u001b[0m\n\u001b[0;32m---> 29\u001b[0;31m     \u001b[0mloss\u001b[0m \u001b[0;34m=\u001b[0m \u001b[0mevaluation\u001b[0m\u001b[0;34m(\u001b[0m\u001b[0mnew_model\u001b[0m\u001b[0;34m,\u001b[0m \u001b[0mwave\u001b[0m\u001b[0;34m)\u001b[0m\u001b[0;34m\u001b[0m\u001b[0;34m\u001b[0m\u001b[0m\n\u001b[0m\u001b[1;32m     30\u001b[0m     \u001b[0;31m# Store loss\u001b[0m\u001b[0;34m\u001b[0m\u001b[0;34m\u001b[0m\u001b[0;34m\u001b[0m\u001b[0m\n\u001b[1;32m     31\u001b[0m     \u001b[0mstore_test_loss_meta\u001b[0m\u001b[0;34m.\u001b[0m\u001b[0mappend\u001b[0m\u001b[0;34m(\u001b[0m\u001b[0mloss\u001b[0m\u001b[0;34m)\u001b[0m\u001b[0;34m\u001b[0m\u001b[0;34m\u001b[0m\u001b[0m\n",
            "\u001b[0;32m<ipython-input-44-5e4139a492c9>\u001b[0m in \u001b[0;36mevaluation\u001b[0;34m(new_model, wave, item)\u001b[0m\n\u001b[1;32m     71\u001b[0m     \u001b[0;31m# Get loss\u001b[0m\u001b[0;34m\u001b[0m\u001b[0;34m\u001b[0m\u001b[0;34m\u001b[0m\u001b[0m\n\u001b[1;32m     72\u001b[0m     \u001b[0;32mif\u001b[0m \u001b[0mitem\u001b[0m \u001b[0;34m==\u001b[0m \u001b[0;32mTrue\u001b[0m\u001b[0;34m:\u001b[0m \u001b[0;31m#Depending on whether we need to return the loss value for storing or for backprop\u001b[0m\u001b[0;34m\u001b[0m\u001b[0;34m\u001b[0m\u001b[0m\n\u001b[0;32m---> 73\u001b[0;31m       \u001b[0mloss\u001b[0m \u001b[0;34m=\u001b[0m \u001b[0mloss_gaussian\u001b[0m\u001b[0;34m(\u001b[0m\u001b[0mprediction\u001b[0m\u001b[0;34m,\u001b[0m\u001b[0mlabel\u001b[0m\u001b[0;34m)\u001b[0m\u001b[0;34m.\u001b[0m\u001b[0mitem\u001b[0m\u001b[0;34m(\u001b[0m\u001b[0;34m)\u001b[0m\u001b[0;34m\u001b[0m\u001b[0;34m\u001b[0m\u001b[0m\n\u001b[0m\u001b[1;32m     74\u001b[0m     \u001b[0;32melse\u001b[0m\u001b[0;34m:\u001b[0m\u001b[0;34m\u001b[0m\u001b[0;34m\u001b[0m\u001b[0m\n\u001b[1;32m     75\u001b[0m       \u001b[0mloss\u001b[0m \u001b[0;34m=\u001b[0m \u001b[0mloss_gaussian\u001b[0m\u001b[0;34m(\u001b[0m\u001b[0mprediction\u001b[0m\u001b[0;34m,\u001b[0m\u001b[0mlabel\u001b[0m\u001b[0;34m)\u001b[0m\u001b[0;34m\u001b[0m\u001b[0;34m\u001b[0m\u001b[0m\n",
            "\u001b[0;32m<ipython-input-43-09b6bbea144b>\u001b[0m in \u001b[0;36mloss_gaussian\u001b[0;34m(prediction, label, number_of_gaussians)\u001b[0m\n\u001b[1;32m     12\u001b[0m     \u001b[0mmean\u001b[0m \u001b[0;34m=\u001b[0m \u001b[0mmeans\u001b[0m\u001b[0;34m[\u001b[0m\u001b[0;34m:\u001b[0m\u001b[0;34m,\u001b[0m\u001b[0mi\u001b[0m\u001b[0;34m]\u001b[0m\u001b[0;34m\u001b[0m\u001b[0;34m\u001b[0m\u001b[0m\n\u001b[1;32m     13\u001b[0m     \u001b[0mstd\u001b[0m \u001b[0;34m=\u001b[0m \u001b[0mstds\u001b[0m\u001b[0;34m[\u001b[0m\u001b[0;34m:\u001b[0m\u001b[0;34m,\u001b[0m\u001b[0mi\u001b[0m\u001b[0;34m]\u001b[0m\u001b[0;34m\u001b[0m\u001b[0;34m\u001b[0m\u001b[0m\n\u001b[0;32m---> 14\u001b[0;31m     \u001b[0mweight\u001b[0m \u001b[0;34m=\u001b[0m \u001b[0mweights\u001b[0m\u001b[0;34m[\u001b[0m\u001b[0;34m:\u001b[0m\u001b[0;34m,\u001b[0m\u001b[0mi\u001b[0m\u001b[0;34m]\u001b[0m\u001b[0;34m\u001b[0m\u001b[0;34m\u001b[0m\u001b[0m\n\u001b[0m\u001b[1;32m     15\u001b[0m     \u001b[0ma\u001b[0m \u001b[0;34m=\u001b[0m \u001b[0;36m1\u001b[0m\u001b[0;34m/\u001b[0m\u001b[0;34m(\u001b[0m\u001b[0mtorch\u001b[0m\u001b[0;34m.\u001b[0m\u001b[0msqrt\u001b[0m\u001b[0;34m(\u001b[0m\u001b[0;36m2\u001b[0m\u001b[0;34m*\u001b[0m\u001b[0mmath\u001b[0m\u001b[0;34m.\u001b[0m\u001b[0mpi\u001b[0m\u001b[0;34m*\u001b[0m\u001b[0mstd\u001b[0m\u001b[0;34m**\u001b[0m\u001b[0;36m2\u001b[0m\u001b[0;34m)\u001b[0m\u001b[0;34m+\u001b[0m\u001b[0mepsilon\u001b[0m\u001b[0;34m)\u001b[0m\u001b[0;34m\u001b[0m\u001b[0;34m\u001b[0m\u001b[0m\n\u001b[1;32m     16\u001b[0m     \u001b[0mb\u001b[0m \u001b[0;34m=\u001b[0m \u001b[0;34m-\u001b[0m\u001b[0;34m(\u001b[0m\u001b[0;34m(\u001b[0m\u001b[0mlabel\u001b[0m\u001b[0;34m-\u001b[0m\u001b[0mmean\u001b[0m\u001b[0;34m)\u001b[0m\u001b[0;34m**\u001b[0m\u001b[0;36m2\u001b[0m\u001b[0;34m)\u001b[0m\u001b[0;34m/\u001b[0m\u001b[0;34m(\u001b[0m\u001b[0;36m2\u001b[0m\u001b[0;34m*\u001b[0m\u001b[0mstd\u001b[0m\u001b[0;34m**\u001b[0m\u001b[0;36m2\u001b[0m\u001b[0;34m+\u001b[0m\u001b[0mepsilon\u001b[0m\u001b[0;34m)\u001b[0m\u001b[0;34m\u001b[0m\u001b[0;34m\u001b[0m\u001b[0m\n",
            "\u001b[0;31mKeyboardInterrupt\u001b[0m: "
          ]
        }
      ],
      "source": [
        "# Training loop\n",
        "T = 10\n",
        "for epoch in range(10000000):\n",
        "        \n",
        "    # Sample a sine wave (Task from training data)\n",
        "    wave = random.sample(SINE_TRAIN, T)\n",
        "\n",
        "    # Update model predefined number of times based on k\n",
        "    new_model = training(model, wave[0], lr_k, k)\n",
        "\n",
        "    # Evalaute the loss for the training data\n",
        "    train_set_evaluation(new_model,wave[0],store_train_loss_meta)     \n",
        "    \n",
        "    #Meta-update --> Get gradient for meta loop and update\n",
        "    metaupdate(model,new_model,metaoptimizer)\n",
        "    \n",
        "    # Evalaute the loss for the test data\n",
        "    # Note that we need to sample the wave from the test data\n",
        "    wave = random.sample(SINE_TEST, 1)\n",
        "    test_set_validation(model,new_model,wave[0],lr_k,k,store_test_loss_meta)\n",
        "\n",
        "    # Print losses every 'printing_step' epochs\n",
        "    print_losses(epoch,store_train_loss_meta,store_test_loss_meta,printing_step)"
      ]
    },
    {
      "cell_type": "markdown",
      "id": "bQjoz6FYctJM",
      "metadata": {
        "id": "bQjoz6FYctJM"
      },
      "source": [
        "<h1> Few Shot learning with new meta-model"
      ]
    },
    {
      "cell_type": "markdown",
      "id": "m-SPUG5Bfpe9",
      "metadata": {
        "id": "m-SPUG5Bfpe9"
      },
      "source": [
        "The model performs good few shot learning"
      ]
    },
    {
      "cell_type": "code",
      "execution_count": 47,
      "id": "GY84TNs8JXVH",
      "metadata": {
        "colab": {
          "base_uri": "https://localhost:8080/"
        },
        "id": "GY84TNs8JXVH",
        "outputId": "979fcd50-0bb8-4563-a98a-2de81dffff60"
      },
      "outputs": [
        {
          "output_type": "stream",
          "name": "stderr",
          "text": [
            "/usr/local/lib/python3.7/dist-packages/ipykernel_launcher.py:16: UserWarning: To copy construct from a tensor, it is recommended to use sourceTensor.clone().detach() or sourceTensor.clone().detach().requires_grad_(True), rather than torch.tensor(sourceTensor).\n",
            "  app.launch_new_instance()\n",
            "/usr/local/lib/python3.7/dist-packages/ipykernel_launcher.py:17: UserWarning: To copy construct from a tensor, it is recommended to use sourceTensor.clone().detach() or sourceTensor.clone().detach().requires_grad_(True), rather than torch.tensor(sourceTensor).\n",
            "/usr/local/lib/python3.7/dist-packages/ipykernel_launcher.py:27: UserWarning: Implicit dimension choice for softmax has been deprecated. Change the call to include dim=X as an argument.\n"
          ]
        }
      ],
      "source": [
        "wave = SineWaveTask(); \n",
        "k_shot_updates = 4\n",
        "initialization_to_store_meta_losses()\n",
        "for shots in range(k_shot_updates):\n",
        "    new_model = training(model, wave, lr_k, shots)\n",
        "    train_set_evaluation(new_model,wave,store_train_loss_meta) "
      ]
    },
    {
      "cell_type": "code",
      "execution_count": 48,
      "id": "F4_Y4VF_dpNb",
      "metadata": {
        "colab": {
          "base_uri": "https://localhost:8080/",
          "height": 296
        },
        "id": "F4_Y4VF_dpNb",
        "outputId": "be1068ec-7849-423e-b7cc-d06056d03a8d"
      },
      "outputs": [
        {
          "output_type": "execute_result",
          "data": {
            "text/plain": [
              "Text(0.5, 0, 'k shots')"
            ]
          },
          "metadata": {},
          "execution_count": 48
        },
        {
          "output_type": "display_data",
          "data": {
            "text/plain": [
              "<Figure size 432x288 with 1 Axes>"
            ],
            "image/png": "[encoded data removed]"
          },
          "metadata": {
            "needs_background": "light"
          }
        }
      ],
      "source": [
        "plt.plot(store_train_loss_meta,label = 'Loss')\n",
        "plt.legend()\n",
        "plt.xlabel('k shots')"
      ]
    },
    {
      "cell_type": "code",
      "execution_count": null,
      "id": "-4nGnU0foEYo",
      "metadata": {
        "id": "-4nGnU0foEYo"
      },
      "outputs": [],
      "source": [
        ""
      ]
    }
  ],
  "metadata": {
    "accelerator": "GPU",
    "colab": {
      "collapsed_sections": [],
      "name": "Reptile_sinewave_MixtureofGaussians.ipynb",
      "provenance": []
    },
    "kernelspec": {
      "display_name": "Python 3",
      "language": "python",
      "name": "python3"
    },
    "language_info": {
      "codemirror_mode": {
        "name": "ipython",
        "version": 3
      },
      "file_extension": ".py",
      "mimetype": "text/x-python",
      "name": "python",
      "nbconvert_exporter": "python",
      "pygments_lexer": "ipython3",
      "version": "3.8.8"
    }
  },
  "nbformat": 4,
  "nbformat_minor": 5
}