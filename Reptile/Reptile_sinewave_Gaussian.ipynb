{
  "cells": [
    {
      "cell_type": "markdown",
      "id": "UrjQGgr5nUHC",
      "metadata": {
        "id": "UrjQGgr5nUHC"
      },
      "source": [
        "<h1> Imports"
      ]
    },
    {
      "cell_type": "code",
      "execution_count": 1,
      "id": "eGl9mcc0nOMP",
      "metadata": {
        "id": "eGl9mcc0nOMP"
      },
      "outputs": [],
      "source": [
        "import matplotlib.pyplot as plt\n",
        "import numpy as np\n",
        "\n",
        "# Required imports for neural network\n",
        "import torch.nn as nn\n",
        "import torch\n",
        "from torch.autograd import Variable\n",
        "import random"
      ]
    },
    {
      "cell_type": "markdown",
      "id": "T3KVOwFXFOY0",
      "metadata": {
        "id": "T3KVOwFXFOY0"
      },
      "source": [
        "<h1> Data Loading and Generation"
      ]
    },
    {
      "cell_type": "markdown",
      "id": "nMUUm70ufKHH",
      "metadata": {
        "id": "nMUUm70ufKHH"
      },
      "source": [
        "This Sine function generator is based on the repostory: https://github.com/AdrienLE/ANIML/blob/master/ANIML.ipynb"
      ]
    },
    {
      "cell_type": "code",
      "execution_count": 2,
      "id": "a3X51uGHDvSV",
      "metadata": {
        "id": "a3X51uGHDvSV"
      },
      "outputs": [],
      "source": [
        "class SineWaveTask:\n",
        "    def __init__(self):\n",
        "        self.a = np.random.uniform(0.1, 5.0)\n",
        "        self.b = np.random.uniform(0, 2*np.pi)\n",
        "        self.train_x = None\n",
        "        \n",
        "    def f(self, x):\n",
        "        return self.a * np.sin(x + self.b)\n",
        "        \n",
        "    def training_set(self, size=10, force_new=False):\n",
        "        if self.train_x is None and not force_new:\n",
        "            self.train_x = np.random.uniform(-5, 5, size)\n",
        "            x = self.train_x\n",
        "        elif not force_new:\n",
        "            x = self.train_x\n",
        "        else:\n",
        "            x = np.random.uniform(-5, 5, size)\n",
        "        y = self.f(x)\n",
        "        return torch.Tensor(x), torch.Tensor(y)\n",
        "    \n",
        "    def test_set(self, size=50):\n",
        "        x = np.linspace(-5, 5, size)\n",
        "        y = self.f(x)\n",
        "        return torch.Tensor(x), torch.Tensor(y)\n",
        "    \n",
        "    def plot(self, *args, **kwargs):\n",
        "        x, y = self.test_set(size=100)\n",
        "        return plt.plot(x.numpy(), y.numpy(), *args, **kwargs)\n",
        "    \n",
        "    def plot_model(self, new_model, *args, **kwargs):\n",
        "        x, y_true = self.test_set(size=100)\n",
        "        x = Variable(x[:, None])\n",
        "        y_true = Variable(y_true[:, None])    \n",
        "\n",
        "        y_pred = new_model(x)\n",
        "\n",
        "        plt.plot(x.data.numpy().flatten(),\n",
        "                 y_pred.data.numpy().flatten(),\n",
        "                 *args, **kwargs)\n",
        "\n",
        "TRAIN_SIZE = 20000\n",
        "TEST_SIZE = 1000\n",
        "SINE_TRAIN = [SineWaveTask() for _ in range(TRAIN_SIZE)]\n",
        "SINE_TEST = [SineWaveTask() for _ in range(TEST_SIZE)]"
      ]
    },
    {
      "cell_type": "markdown",
      "id": "cu4urLF7Q88A",
      "metadata": {
        "id": "cu4urLF7Q88A"
      },
      "source": [
        "<h1> Neural Network Model"
      ]
    },
    {
      "cell_type": "code",
      "execution_count": 19,
      "id": "R1B0YTz6ytyN",
      "metadata": {
        "id": "R1B0YTz6ytyN"
      },
      "outputs": [],
      "source": [
        "# Define network\n",
        "class Neural_Network(nn.Module):\n",
        "    def __init__(self, input_size=1, hidden_size=40, output_size=2):\n",
        "        super(Neural_Network, self).__init__()\n",
        "        # network layers\n",
        "        self.hidden1 = nn.Linear(input_size,hidden_size)\n",
        "        self.hidden2 = nn.Linear(hidden_size,hidden_size)\n",
        "        self.hidden3 = nn.Linear(hidden_size,hidden_size)\n",
        "        self.output_layer = nn.Linear(hidden_size,output_size)\n",
        "\n",
        "        #Activation functions\n",
        "        self.relu = nn.ReLU()\n",
        "        \n",
        "    def forward(self, x):\n",
        "        x = self.hidden1(x)\n",
        "        x = self.relu(x)\n",
        "        x = self.hidden2(x)\n",
        "        x = self.relu(x)\n",
        "        x = self.hidden3(x)\n",
        "        x = self.relu(x)\n",
        "        x = self.output_layer(x)\n",
        "        mean = x[:,0][:,None] \n",
        "        std = self.relu(x[:,1][:,None]) \n",
        "        return mean,std\n"
      ]
    },
    {
      "cell_type": "markdown",
      "id": "G-ExWACxQ3mt",
      "metadata": {
        "id": "G-ExWACxQ3mt"
      },
      "source": [
        "<h1> Helper functions"
      ]
    },
    {
      "cell_type": "code",
      "source": [
        "import math\n",
        "#https://towardsdatascience.com/predicting-probability-distributions-using-neural-networks-abef7db10eac\n",
        "def loss_gaussian(mean,std,label):\n",
        "  epsilon = 1e-10 #avoid division by 0\n",
        "  avoid_inf = 1e-3\n",
        "  a = 1/(torch.sqrt(2*math.pi*std**2)+epsilon )\n",
        "  b = -((label-mean)**2)/(2*std**2+epsilon )\n",
        "  loss = -torch.log(a*torch.exp(b)+avoid_inf)\n",
        "  return torch.mean(loss)"
      ],
      "metadata": {
        "id": "J8_PXVPWckoc"
      },
      "id": "J8_PXVPWckoc",
      "execution_count": 50,
      "outputs": []
    },
    {
      "cell_type": "code",
      "execution_count": 51,
      "id": "1zyNHFXdOnug",
      "metadata": {
        "id": "1zyNHFXdOnug"
      },
      "outputs": [],
      "source": [
        "# The Minimum Square Error is used to evaluate the difference between prediction and ground truth\n",
        "\n",
        "def copy_existing_model(model):\n",
        "    # Function to copy an existing model\n",
        "    # We initialize a new model\n",
        "    new_model = Neural_Network()\n",
        "    # Copy the previous model's parameters into the new model\n",
        "    new_model.load_state_dict(model.state_dict())\n",
        "    return new_model\n",
        "\n",
        "def get_samples_in_good_format(wave):\n",
        "  #This function is used to sample data from a wave\n",
        "  x, y_true = wave.training_set()\n",
        "  # We add [:,None] to get the right dimensions to pass to the model: we want K x 1 (we have scalars inputs hence the x 1)\n",
        "  # Note that we convert everything torch tensors\n",
        "  x = torch.tensor(x[:,None])\n",
        "  y_true = torch.tensor(y_true[:,None])\n",
        "  return x,y_true\n",
        "\n",
        "def initialization_to_store_meta_losses():\n",
        "  # This function creates lists to store the meta losses\n",
        "  global store_train_loss_meta; store_train_loss_meta = []\n",
        "  global store_test_loss_meta; store_test_loss_meta = []\n",
        "\n",
        "def test_set_validation(model,new_model,wave,lr_inner,k,store_test_loss_meta):\n",
        "    # This functions does not actually affect the main algorithm, it is just used to evaluate the new model\n",
        "    new_model = training(model, wave, lr_inner, k)\n",
        "    # Obtain the loss\n",
        "    loss = evaluation(new_model, wave)\n",
        "    # Store loss\n",
        "    store_test_loss_meta.append(loss)\n",
        "\n",
        "def train_set_evaluation(new_model,wave,store_train_loss_meta):\n",
        "    loss = evaluation(new_model, wave)\n",
        "    store_train_loss_meta.append(loss) \n",
        "\n",
        "def print_losses(epoch,store_train_loss_meta,store_test_loss_meta,printing_step=1000):\n",
        "  if epoch % printing_step == 0:\n",
        "    print(f'Epochh : {epoch}, Average Train Meta Loss : {np.mean(store_train_loss_meta)}, Average Test Meta Loss : {np.mean(store_test_loss_meta)}')\n",
        "\n",
        "#This is based on the paper update rule, we calculate the difference between parameters and then this is used by the optimizer, rather than doing the update by hand\n",
        "def reptile_parameter_update(model,new_model):\n",
        "  # Zip models for the loop\n",
        "  zip_models = zip(model.parameters(), new_model.parameters())\n",
        "  for parameter, new_parameter in zip_models:\n",
        "    if parameter.grad is None:\n",
        "      parameter.grad = torch.tensor(torch.zeros_like(parameter))\n",
        "    # Here we are adding the gradient that will later be used by the optimizer\n",
        "    parameter.grad.data.add_(parameter.data - new_parameter.data)\n",
        "\n",
        "# Define commands in order needed for the metaupdate\n",
        "# Note that if we change the order it doesn't behave the same\n",
        "def metaoptimizer_update(metaoptimizer):\n",
        "  # Take step\n",
        "  metaoptimizer.step()\n",
        "  # Reset gradients\n",
        "  metaoptimizer.zero_grad()\n",
        "\n",
        "def metaupdate(model,new_model,metaoptimizer):\n",
        "  # Combine the two previous functions into a single metaupdate function\n",
        "  # First we calculate the gradients\n",
        "  reptile_parameter_update(model,new_model)\n",
        "  # Use those gradients in the optimizer\n",
        "  metaoptimizer_update(metaoptimizer)\n",
        "\n",
        "def evaluation(new_model, wave, item = True):\n",
        "    # Get data\n",
        "    x, label = get_samples_in_good_format(wave)\n",
        "    # Make model prediction\n",
        "    mean,std = new_model(x)\n",
        "    # Get loss\n",
        "    if item == True: #Depending on whether we need to return the loss value for storing or for backprop\n",
        "      loss = loss_gaussian(mean,std,label).item()\n",
        "    else:\n",
        "      loss = loss_gaussian(mean,std,label)\n",
        "    return loss\n",
        "\n",
        "def training(model, wave, lr_k, k):\n",
        "    # Create new model which we will train on\n",
        "    new_model = copy_existing_model(model)\n",
        "    # Define new optimizer\n",
        "    koptimizer = torch.optim.SGD(new_model.parameters(), lr=lr_k)\n",
        "    # Update the model multiple times, note that k>1 (do not confuse k with K)\n",
        "    for i in range(k):\n",
        "        # Reset optimizer\n",
        "        koptimizer.zero_grad()\n",
        "        # Evaluate the model\n",
        "        loss = evaluation(new_model, wave, item = False)\n",
        "        # Backpropagate\n",
        "        loss.backward()\n",
        "        koptimizer.step()\n",
        "    return new_model"
      ]
    },
    {
      "cell_type": "markdown",
      "id": "-4Ps8P2IRCmF",
      "metadata": {
        "id": "-4Ps8P2IRCmF"
      },
      "source": [
        "<h1> Reptile"
      ]
    },
    {
      "cell_type": "code",
      "execution_count": 52,
      "id": "8ogpg_DHizlC",
      "metadata": {
        "id": "8ogpg_DHizlC"
      },
      "outputs": [],
      "source": [
        "#Define important variables\n",
        "epochs = int(1e5) # number of epochs \n",
        "lr_meta=0.001 # Learning rate for meta model (outer loop)\n",
        "printing_step=1000 # how many epochs should we wait to print the loss\n",
        "lr_k=0.01 # Internal learning rate\n",
        "k=5 # Number of internal updates for each task\n",
        "\n",
        "# Initializations\n",
        "initialization_to_store_meta_losses()\n",
        "model = Neural_Network()\n",
        "metaoptimizer = torch.optim.Adam(model.parameters(), lr=lr_meta)"
      ]
    },
    {
      "cell_type": "code",
      "source": [
        "# Initializations\n",
        "initialization_to_store_meta_losses()\n",
        "model = Neural_Network()\n",
        "metaoptimizer = torch.optim.Adam(model.parameters(), lr=lr_meta)"
      ],
      "metadata": {
        "id": "2S5HwmWhTf6a"
      },
      "id": "2S5HwmWhTf6a",
      "execution_count": 60,
      "outputs": []
    },
    {
      "cell_type": "code",
      "source": [
        "lr_meta=0.001 # Learning rate for meta model (outer loop)\n",
        "printing_step=100 # how many epochs should we wait to print the loss\n",
        "lr_k=0.01 # Internal learning rate\n",
        "k=5 # Number of internal updates for each task"
      ],
      "metadata": {
        "id": "w9uXhLxuS9bn"
      },
      "id": "w9uXhLxuS9bn",
      "execution_count": 61,
      "outputs": []
    },
    {
      "cell_type": "code",
      "execution_count": 65,
      "id": "-4-zQWWKFt3s",
      "metadata": {
        "colab": {
          "base_uri": "https://localhost:8080/",
          "height": 1000
        },
        "id": "-4-zQWWKFt3s",
        "outputId": "6908262f-e906-43fa-eeeb-b0ebb2f71d67"
      },
      "outputs": [
        {
          "output_type": "stream",
          "name": "stderr",
          "text": [
            "/usr/local/lib/python3.7/dist-packages/ipykernel_launcher.py:16: UserWarning: To copy construct from a tensor, it is recommended to use sourceTensor.clone().detach() or sourceTensor.clone().detach().requires_grad_(True), rather than torch.tensor(sourceTensor).\n",
            "  app.launch_new_instance()\n",
            "/usr/local/lib/python3.7/dist-packages/ipykernel_launcher.py:17: UserWarning: To copy construct from a tensor, it is recommended to use sourceTensor.clone().detach() or sourceTensor.clone().detach().requires_grad_(True), rather than torch.tensor(sourceTensor).\n"
          ]
        },
        {
          "output_type": "stream",
          "name": "stdout",
          "text": [
            "Epochh : 0, Average Train Meta Loss : 0.8178308121860027, Average Test Meta Loss : 1.1398650407791138\n",
            "Epochh : 100, Average Train Meta Loss : 1.6173798925465062, Average Test Meta Loss : 1.5393028413452725\n",
            "Epochh : 200, Average Train Meta Loss : 1.6465531480748479, Average Test Meta Loss : 1.600215228339333\n",
            "Epochh : 300, Average Train Meta Loss : 1.65055178153466, Average Test Meta Loss : 1.6258989883481565\n",
            "Epochh : 400, Average Train Meta Loss : 1.6798679040445958, Average Test Meta Loss : 1.6579290848095296\n",
            "Epochh : 500, Average Train Meta Loss : 1.7087893894845896, Average Test Meta Loss : 1.6564045054968186\n",
            "Epochh : 600, Average Train Meta Loss : 1.7130623998843935, Average Test Meta Loss : 1.622899954779052\n",
            "Epochh : 700, Average Train Meta Loss : 1.704875602293099, Average Test Meta Loss : 1.6260643548407883\n",
            "Epochh : 800, Average Train Meta Loss : 1.7010266816856698, Average Test Meta Loss : 1.649335198618295\n",
            "Epochh : 900, Average Train Meta Loss : 1.72341473398123, Average Test Meta Loss : 1.6482246171452568\n",
            "Epochh : 1000, Average Train Meta Loss : 1.7306995562949583, Average Test Meta Loss : 1.6588762239171573\n",
            "Epochh : 1100, Average Train Meta Loss : 1.7275001323242498, Average Test Meta Loss : 1.6651166315430725\n",
            "Epochh : 1200, Average Train Meta Loss : 1.7388807120640217, Average Test Meta Loss : 1.6978976182902479\n",
            "Epochh : 1300, Average Train Meta Loss : 1.7516461788562494, Average Test Meta Loss : 1.6994849884482408\n",
            "Epochh : 1400, Average Train Meta Loss : 1.750909816405779, Average Test Meta Loss : 1.6964221212592143\n",
            "Epochh : 1500, Average Train Meta Loss : 1.7436928694130251, Average Test Meta Loss : 1.6776238158639944\n",
            "Epochh : 1600, Average Train Meta Loss : 1.7459696587972993, Average Test Meta Loss : 1.7013807474102691\n",
            "Epochh : 1700, Average Train Meta Loss : 1.739590485861301, Average Test Meta Loss : 1.709120319460599\n",
            "Epochh : 1800, Average Train Meta Loss : 1.7322370257979347, Average Test Meta Loss : 1.7129336492502871\n",
            "Epochh : 1900, Average Train Meta Loss : 1.7356692176397763, Average Test Meta Loss : 1.7222368484443795\n",
            "Epochh : 2000, Average Train Meta Loss : 1.7398032723415058, Average Test Meta Loss : 1.732989557684799\n",
            "Epochh : 2100, Average Train Meta Loss : 1.7439756973947436, Average Test Meta Loss : 1.736411868346574\n",
            "Epochh : 2200, Average Train Meta Loss : 1.757895190987415, Average Test Meta Loss : 1.7319152354650362\n",
            "Epochh : 2300, Average Train Meta Loss : 1.7563589537195021, Average Test Meta Loss : 1.7271191164208046\n",
            "Epochh : 2400, Average Train Meta Loss : 1.752155424236841, Average Test Meta Loss : 1.7311942859371268\n",
            "Epochh : 2500, Average Train Meta Loss : 1.751979754706603, Average Test Meta Loss : 1.7381501959494186\n",
            "Epochh : 2600, Average Train Meta Loss : 1.7567928945483022, Average Test Meta Loss : 1.7399169310570402\n",
            "Epochh : 2700, Average Train Meta Loss : 1.7497249511542237, Average Test Meta Loss : 1.7357872804223053\n",
            "Epochh : 2800, Average Train Meta Loss : 1.7438101630310947, Average Test Meta Loss : 1.726626120302733\n",
            "Epochh : 2900, Average Train Meta Loss : 1.7452214978511882, Average Test Meta Loss : 1.7247892293706022\n",
            "Epochh : 3000, Average Train Meta Loss : 1.748483034169856, Average Test Meta Loss : 1.723788959469481\n",
            "Epochh : 3100, Average Train Meta Loss : 1.7431771384367656, Average Test Meta Loss : 1.72319468448881\n",
            "Epochh : 3200, Average Train Meta Loss : 1.7442446882586617, Average Test Meta Loss : 1.7216893116580145\n",
            "Epochh : 3300, Average Train Meta Loss : 1.741643877372388, Average Test Meta Loss : 1.72584141308334\n",
            "Epochh : 3400, Average Train Meta Loss : 1.7391223535990608, Average Test Meta Loss : 1.7203479620404334\n",
            "Epochh : 3500, Average Train Meta Loss : 1.7327839204718687, Average Test Meta Loss : 1.7129609432181578\n",
            "Epochh : 3600, Average Train Meta Loss : 1.7246255751558413, Average Test Meta Loss : 1.7120564139573025\n",
            "Epochh : 3700, Average Train Meta Loss : 1.717780983655031, Average Test Meta Loss : 1.709211300748761\n",
            "Epochh : 3800, Average Train Meta Loss : 1.719338962837011, Average Test Meta Loss : 1.7047136944628736\n",
            "Epochh : 3900, Average Train Meta Loss : 1.7165532878414036, Average Test Meta Loss : 1.6997416320134415\n",
            "Epochh : 4000, Average Train Meta Loss : 1.7140019222111504, Average Test Meta Loss : 1.6950569536066267\n",
            "Epochh : 4100, Average Train Meta Loss : 1.7152976258485448, Average Test Meta Loss : 1.6950571455006478\n",
            "Epochh : 4200, Average Train Meta Loss : 1.715830311071411, Average Test Meta Loss : 1.6932746600814144\n",
            "Epochh : 4300, Average Train Meta Loss : 1.7111605713607982, Average Test Meta Loss : 1.6909358541127593\n",
            "Epochh : 4400, Average Train Meta Loss : 1.7058374736359752, Average Test Meta Loss : 1.6912674017644567\n",
            "Epochh : 4500, Average Train Meta Loss : 1.7054859523328598, Average Test Meta Loss : 1.690589934795014\n",
            "Epochh : 4600, Average Train Meta Loss : 1.7016462449246288, Average Test Meta Loss : 1.6872824094879872\n",
            "Epochh : 4700, Average Train Meta Loss : 1.7014746346370406, Average Test Meta Loss : 1.6844514929100085\n",
            "Epochh : 4800, Average Train Meta Loss : 1.6977837007916285, Average Test Meta Loss : 1.6782079177350504\n",
            "Epochh : 4900, Average Train Meta Loss : 1.6930191508036725, Average Test Meta Loss : 1.6714652442010194\n",
            "Epochh : 5000, Average Train Meta Loss : 1.6876502741852981, Average Test Meta Loss : 1.6683264336036807\n",
            "Epochh : 5100, Average Train Meta Loss : 1.682845201764263, Average Test Meta Loss : 1.66779643085425\n",
            "Epochh : 5200, Average Train Meta Loss : 1.681173885150792, Average Test Meta Loss : 1.6654514483564924\n",
            "Epochh : 5300, Average Train Meta Loss : 1.6781373449521355, Average Test Meta Loss : 1.664428868600872\n",
            "Epochh : 5400, Average Train Meta Loss : 1.672662248953343, Average Test Meta Loss : 1.6579967936127757\n",
            "Epochh : 5500, Average Train Meta Loss : 1.6693928979826138, Average Test Meta Loss : 1.6584279844784555\n",
            "Epochh : 5600, Average Train Meta Loss : 1.668075722867804, Average Test Meta Loss : 1.6549295976449059\n",
            "Epochh : 5700, Average Train Meta Loss : 1.6646510976632791, Average Test Meta Loss : 1.6491420470343776\n",
            "Epochh : 5800, Average Train Meta Loss : 1.6615686946744253, Average Test Meta Loss : 1.6489213409487957\n",
            "Epochh : 5900, Average Train Meta Loss : 1.6615412261892997, Average Test Meta Loss : 1.6470398618286506\n",
            "Epochh : 6000, Average Train Meta Loss : 1.6619397564007932, Average Test Meta Loss : 1.6438771114890895\n",
            "Epochh : 6100, Average Train Meta Loss : 1.6609685563897283, Average Test Meta Loss : 1.6438158831959524\n",
            "Epochh : 6200, Average Train Meta Loss : 1.6595716972811347, Average Test Meta Loss : 1.6432420842812412\n",
            "Epochh : 6300, Average Train Meta Loss : 1.6599701123148893, Average Test Meta Loss : 1.6455188356010326\n",
            "Epochh : 6400, Average Train Meta Loss : 1.6618463640944605, Average Test Meta Loss : 1.6442312217791695\n",
            "Epochh : 6500, Average Train Meta Loss : 1.6605011208408114, Average Test Meta Loss : 1.6459458040656862\n",
            "Epochh : 6600, Average Train Meta Loss : 1.6619742300922586, Average Test Meta Loss : 1.6471241813189994\n",
            "Epochh : 6700, Average Train Meta Loss : 1.6590057360651465, Average Test Meta Loss : 1.6469459161803086\n",
            "Epochh : 6800, Average Train Meta Loss : 1.6585439301036369, Average Test Meta Loss : 1.6454592704508109\n",
            "Epochh : 6900, Average Train Meta Loss : 1.6593355230857592, Average Test Meta Loss : 1.6503446383519904\n",
            "Epochh : 7000, Average Train Meta Loss : 1.657391139387893, Average Test Meta Loss : 1.6511544840386871\n",
            "Epochh : 7100, Average Train Meta Loss : 1.6588684956066673, Average Test Meta Loss : 1.6492233867426842\n",
            "Epochh : 7200, Average Train Meta Loss : 1.6551982689072364, Average Test Meta Loss : 1.6464649264380549\n",
            "Epochh : 7300, Average Train Meta Loss : 1.656353110804501, Average Test Meta Loss : 1.646426675371756\n",
            "Epochh : 7400, Average Train Meta Loss : 1.6580655588947644, Average Test Meta Loss : 1.6482164155633159\n",
            "Epochh : 7500, Average Train Meta Loss : 1.6594377180406306, Average Test Meta Loss : 1.6457227936739067\n",
            "Epochh : 7600, Average Train Meta Loss : 1.6577292827148429, Average Test Meta Loss : 1.64667876242511\n",
            "Epochh : 7700, Average Train Meta Loss : 1.656119307435899, Average Test Meta Loss : 1.64682008573073\n",
            "Epochh : 7800, Average Train Meta Loss : 1.6572735581761804, Average Test Meta Loss : 1.6461265425104004\n",
            "Epochh : 7900, Average Train Meta Loss : 1.6562218313168435, Average Test Meta Loss : 1.644933586622823\n",
            "Epochh : 8000, Average Train Meta Loss : 1.6551878916077563, Average Test Meta Loss : 1.6433399038705878\n",
            "Epochh : 8100, Average Train Meta Loss : 1.6556082622427895, Average Test Meta Loss : 1.645182318649624\n",
            "Epochh : 8200, Average Train Meta Loss : 1.6577225056117642, Average Test Meta Loss : 1.647082250487472\n",
            "Epochh : 8300, Average Train Meta Loss : 1.6577783408012379, Average Test Meta Loss : 1.6471640142064259\n",
            "Epochh : 8400, Average Train Meta Loss : 1.6576821387060106, Average Test Meta Loss : 1.6468033440353833\n",
            "Epochh : 8500, Average Train Meta Loss : 1.6561831189213274, Average Test Meta Loss : 1.6435185638782506\n",
            "Epochh : 8600, Average Train Meta Loss : 1.6583788399952033, Average Test Meta Loss : 1.643540450810745\n",
            "Epochh : 8700, Average Train Meta Loss : 1.6563862389690707, Average Test Meta Loss : 1.645012337994735\n",
            "Epochh : 8800, Average Train Meta Loss : 1.6584986842597567, Average Test Meta Loss : 1.647226512655035\n",
            "Epochh : 8900, Average Train Meta Loss : 1.6582104539056295, Average Test Meta Loss : 1.648302121143965\n",
            "Epochh : 9000, Average Train Meta Loss : 1.6594386063131408, Average Test Meta Loss : 1.651874204962607\n",
            "Epochh : 9100, Average Train Meta Loss : 1.6614949907536758, Average Test Meta Loss : 1.6532565360499107\n",
            "Epochh : 9200, Average Train Meta Loss : 1.661274098969555, Average Test Meta Loss : 1.6513140210137232\n",
            "Epochh : 9300, Average Train Meta Loss : 1.6623663724301516, Average Test Meta Loss : 1.651051433601481\n",
            "Epochh : 9400, Average Train Meta Loss : 1.6647307088025258, Average Test Meta Loss : 1.6530972019353642\n",
            "Epochh : 9500, Average Train Meta Loss : 1.665654514873423, Average Test Meta Loss : 1.655795169646778\n",
            "Epochh : 9600, Average Train Meta Loss : 1.6661941899949533, Average Test Meta Loss : 1.6563505268470904\n",
            "Epochh : 9700, Average Train Meta Loss : 1.6681715672887527, Average Test Meta Loss : 1.657964030973021\n",
            "Epochh : 9800, Average Train Meta Loss : 1.668425152064878, Average Test Meta Loss : 1.658830146335136\n",
            "Epochh : 9900, Average Train Meta Loss : 1.6665508734541845, Average Test Meta Loss : 1.656113766873818\n",
            "Epochh : 10000, Average Train Meta Loss : 1.6666632185220487, Average Test Meta Loss : 1.655833582404476\n",
            "Epochh : 10100, Average Train Meta Loss : 1.6658653592806032, Average Test Meta Loss : 1.6555374567488104\n",
            "Epochh : 10200, Average Train Meta Loss : 1.6702076984920786, Average Test Meta Loss : 1.6581059170022814\n",
            "Epochh : 10300, Average Train Meta Loss : 1.670709131760744, Average Test Meta Loss : 1.6586812734796796\n",
            "Epochh : 10400, Average Train Meta Loss : 1.6694085019295575, Average Test Meta Loss : 1.6557074851755154\n",
            "Epochh : 10500, Average Train Meta Loss : 1.6690565340685481, Average Test Meta Loss : 1.6549034402247984\n",
            "Epochh : 10600, Average Train Meta Loss : 1.6703572818980443, Average Test Meta Loss : 1.6565906506973156\n",
            "Epochh : 10700, Average Train Meta Loss : 1.6715189640844803, Average Test Meta Loss : 1.6585873649084744\n",
            "Epochh : 10800, Average Train Meta Loss : 1.6707851756420995, Average Test Meta Loss : 1.657090118213894\n",
            "Epochh : 10900, Average Train Meta Loss : 1.6714813873455345, Average Test Meta Loss : 1.6569085470953406\n",
            "Epochh : 11000, Average Train Meta Loss : 1.6712975593590969, Average Test Meta Loss : 1.6564643113158772\n",
            "Epochh : 11100, Average Train Meta Loss : 1.6719121863425637, Average Test Meta Loss : 1.6567680991737712\n",
            "Epochh : 11200, Average Train Meta Loss : 1.673886548462541, Average Test Meta Loss : 1.6566554933665976\n",
            "Epochh : 11300, Average Train Meta Loss : 1.6728562511096063, Average Test Meta Loss : 1.6584216686067002\n",
            "Epochh : 11400, Average Train Meta Loss : 1.6722903419536859, Average Test Meta Loss : 1.6584804435735914\n",
            "Epochh : 11500, Average Train Meta Loss : 1.6743173616415108, Average Test Meta Loss : 1.6598901453317902\n",
            "Epochh : 11600, Average Train Meta Loss : 1.6756412191359973, Average Test Meta Loss : 1.6612634790409553\n",
            "Epochh : 11700, Average Train Meta Loss : 1.6745950129226204, Average Test Meta Loss : 1.6599172719225042\n",
            "Epochh : 11800, Average Train Meta Loss : 1.6749662987775191, Average Test Meta Loss : 1.658572541827705\n",
            "Epochh : 11900, Average Train Meta Loss : 1.6766490037929833, Average Test Meta Loss : 1.6590348118711418\n",
            "Epochh : 12000, Average Train Meta Loss : 1.6801605639627184, Average Test Meta Loss : 1.6596737178255456\n",
            "Epochh : 12100, Average Train Meta Loss : 1.6773361085313727, Average Test Meta Loss : 1.6594875337528279\n",
            "Epochh : 12200, Average Train Meta Loss : 1.6748602415523293, Average Test Meta Loss : 1.659056406323075\n",
            "Epochh : 12300, Average Train Meta Loss : 1.6761412865373047, Average Test Meta Loss : 1.6598378028368845\n",
            "Epochh : 12400, Average Train Meta Loss : 1.677099203722658, Average Test Meta Loss : 1.6611506450463014\n",
            "Epochh : 12500, Average Train Meta Loss : 1.6771015207376805, Average Test Meta Loss : 1.6598972258913811\n",
            "Epochh : 12600, Average Train Meta Loss : 1.6795446954145339, Average Test Meta Loss : 1.6609258531903406\n",
            "Epochh : 12700, Average Train Meta Loss : 1.6806268568684486, Average Test Meta Loss : 1.6638322081497046\n",
            "Epochh : 12800, Average Train Meta Loss : 1.6795366804314893, Average Test Meta Loss : 1.6645056900534603\n",
            "Epochh : 12900, Average Train Meta Loss : 1.683005645676576, Average Test Meta Loss : 1.6667656720825617\n",
            "Epochh : 13000, Average Train Meta Loss : 1.684730213544868, Average Test Meta Loss : 1.6679851111040216\n",
            "Epochh : 13100, Average Train Meta Loss : 1.6846268410562184, Average Test Meta Loss : 1.6678547329744413\n",
            "Epochh : 13200, Average Train Meta Loss : 1.6855036138966797, Average Test Meta Loss : 1.670786663888712\n",
            "Epochh : 13300, Average Train Meta Loss : 1.685152369576118, Average Test Meta Loss : 1.669862290267251\n",
            "Epochh : 13400, Average Train Meta Loss : 1.6856122065493004, Average Test Meta Loss : 1.6691605553849063\n",
            "Epochh : 13500, Average Train Meta Loss : 1.6848679179631671, Average Test Meta Loss : 1.670073940122755\n",
            "Epochh : 13600, Average Train Meta Loss : 1.685020714327165, Average Test Meta Loss : 1.6712976054892443\n",
            "Epochh : 13700, Average Train Meta Loss : 1.6848679682923304, Average Test Meta Loss : 1.671200917201937\n",
            "Epochh : 13800, Average Train Meta Loss : 1.68423675460417, Average Test Meta Loss : 1.671907919376067\n",
            "Epochh : 13900, Average Train Meta Loss : 1.6823853751360298, Average Test Meta Loss : 1.6714417853515986\n",
            "Epochh : 14000, Average Train Meta Loss : 1.682052970952302, Average Test Meta Loss : 1.6712637996928839\n",
            "Epochh : 14100, Average Train Meta Loss : 1.682138108031045, Average Test Meta Loss : 1.6713836127216728\n",
            "Epochh : 14200, Average Train Meta Loss : 1.6810774273019562, Average Test Meta Loss : 1.6699857416758217\n",
            "Epochh : 14300, Average Train Meta Loss : 1.6828980007278016, Average Test Meta Loss : 1.6706775715842521\n",
            "Epochh : 14400, Average Train Meta Loss : 1.683983272849958, Average Test Meta Loss : 1.6715817343711352\n",
            "Epochh : 14500, Average Train Meta Loss : 1.6852623298289537, Average Test Meta Loss : 1.6709341519129632\n",
            "Epochh : 14600, Average Train Meta Loss : 1.6853519273680608, Average Test Meta Loss : 1.6719066872525836\n",
            "Epochh : 14700, Average Train Meta Loss : 1.686050656498971, Average Test Meta Loss : 1.6722670191040838\n",
            "Epochh : 14800, Average Train Meta Loss : 1.6857639347033349, Average Test Meta Loss : 1.672489144061611\n",
            "Epochh : 14900, Average Train Meta Loss : 1.6852818701657872, Average Test Meta Loss : 1.6716882221510785\n",
            "Epochh : 15000, Average Train Meta Loss : 1.6844885436185963, Average Test Meta Loss : 1.6712291511557866\n",
            "Epochh : 15100, Average Train Meta Loss : 1.6837973476778578, Average Test Meta Loss : 1.6711296966120732\n",
            "Epochh : 15200, Average Train Meta Loss : 1.6838592293898396, Average Test Meta Loss : 1.6702761359724836\n",
            "Epochh : 15300, Average Train Meta Loss : 1.6838505137322737, Average Test Meta Loss : 1.6716305924568227\n",
            "Epochh : 15400, Average Train Meta Loss : 1.6863771159555339, Average Test Meta Loss : 1.672859706459831\n",
            "Epochh : 15500, Average Train Meta Loss : 1.6870468714615754, Average Test Meta Loss : 1.672647376084302\n",
            "Epochh : 15600, Average Train Meta Loss : 1.6862758160724056, Average Test Meta Loss : 1.6707233972348923\n",
            "Epochh : 15700, Average Train Meta Loss : 1.68490859475827, Average Test Meta Loss : 1.669661434913178\n",
            "Epochh : 15800, Average Train Meta Loss : 1.6854154138719288, Average Test Meta Loss : 1.6709652915260336\n",
            "Epochh : 15900, Average Train Meta Loss : 1.6859825842861689, Average Test Meta Loss : 1.6709359322362496\n",
            "Epochh : 16000, Average Train Meta Loss : 1.6860522418342971, Average Test Meta Loss : 1.6710476439902342\n",
            "Epochh : 16100, Average Train Meta Loss : 1.6861517806679815, Average Test Meta Loss : 1.6706344231153405\n",
            "Epochh : 16200, Average Train Meta Loss : 1.6858205653894116, Average Test Meta Loss : 1.6709115607485712\n"
          ]
        },
        {
          "output_type": "error",
          "ename": "KeyboardInterrupt",
          "evalue": "ignored",
          "traceback": [
            "\u001b[0;31m---------------------------------------------------------------------------\u001b[0m",
            "\u001b[0;31mKeyboardInterrupt\u001b[0m                         Traceback (most recent call last)",
            "\u001b[0;32m<ipython-input-65-0cce8e1208a9>\u001b[0m in \u001b[0;36m<module>\u001b[0;34m()\u001b[0m\n\u001b[1;32m      7\u001b[0m \u001b[0;34m\u001b[0m\u001b[0m\n\u001b[1;32m      8\u001b[0m     \u001b[0;31m# Update model predefined number of times based on k\u001b[0m\u001b[0;34m\u001b[0m\u001b[0;34m\u001b[0m\u001b[0;34m\u001b[0m\u001b[0m\n\u001b[0;32m----> 9\u001b[0;31m     \u001b[0mnew_model\u001b[0m \u001b[0;34m=\u001b[0m \u001b[0mtraining\u001b[0m\u001b[0;34m(\u001b[0m\u001b[0mmodel\u001b[0m\u001b[0;34m,\u001b[0m \u001b[0mwave\u001b[0m\u001b[0;34m[\u001b[0m\u001b[0;36m0\u001b[0m\u001b[0;34m]\u001b[0m\u001b[0;34m,\u001b[0m \u001b[0mlr_k\u001b[0m\u001b[0;34m,\u001b[0m \u001b[0mk\u001b[0m\u001b[0;34m)\u001b[0m\u001b[0;34m\u001b[0m\u001b[0;34m\u001b[0m\u001b[0m\n\u001b[0m\u001b[1;32m     10\u001b[0m \u001b[0;34m\u001b[0m\u001b[0m\n\u001b[1;32m     11\u001b[0m     \u001b[0;31m# Evalaute the loss for the training data\u001b[0m\u001b[0;34m\u001b[0m\u001b[0;34m\u001b[0m\u001b[0;34m\u001b[0m\u001b[0m\n",
            "\u001b[0;32m<ipython-input-51-d0f8c60077ce>\u001b[0m in \u001b[0;36mtraining\u001b[0;34m(model, wave, lr_k, k)\u001b[0m\n\u001b[1;32m     88\u001b[0m         \u001b[0mloss\u001b[0m \u001b[0;34m=\u001b[0m \u001b[0mevaluation\u001b[0m\u001b[0;34m(\u001b[0m\u001b[0mnew_model\u001b[0m\u001b[0;34m,\u001b[0m \u001b[0mwave\u001b[0m\u001b[0;34m,\u001b[0m \u001b[0mitem\u001b[0m \u001b[0;34m=\u001b[0m \u001b[0;32mFalse\u001b[0m\u001b[0;34m)\u001b[0m\u001b[0;34m\u001b[0m\u001b[0;34m\u001b[0m\u001b[0m\n\u001b[1;32m     89\u001b[0m         \u001b[0;31m# Backpropagate\u001b[0m\u001b[0;34m\u001b[0m\u001b[0;34m\u001b[0m\u001b[0;34m\u001b[0m\u001b[0m\n\u001b[0;32m---> 90\u001b[0;31m         \u001b[0mloss\u001b[0m\u001b[0;34m.\u001b[0m\u001b[0mbackward\u001b[0m\u001b[0;34m(\u001b[0m\u001b[0;34m)\u001b[0m\u001b[0;34m\u001b[0m\u001b[0;34m\u001b[0m\u001b[0m\n\u001b[0m\u001b[1;32m     91\u001b[0m         \u001b[0mkoptimizer\u001b[0m\u001b[0;34m.\u001b[0m\u001b[0mstep\u001b[0m\u001b[0;34m(\u001b[0m\u001b[0;34m)\u001b[0m\u001b[0;34m\u001b[0m\u001b[0;34m\u001b[0m\u001b[0m\n\u001b[1;32m     92\u001b[0m     \u001b[0;32mreturn\u001b[0m \u001b[0mnew_model\u001b[0m\u001b[0;34m\u001b[0m\u001b[0;34m\u001b[0m\u001b[0m\n",
            "\u001b[0;32m/usr/local/lib/python3.7/dist-packages/torch/_tensor.py\u001b[0m in \u001b[0;36mbackward\u001b[0;34m(self, gradient, retain_graph, create_graph, inputs)\u001b[0m\n\u001b[1;32m    305\u001b[0m                 \u001b[0mcreate_graph\u001b[0m\u001b[0;34m=\u001b[0m\u001b[0mcreate_graph\u001b[0m\u001b[0;34m,\u001b[0m\u001b[0;34m\u001b[0m\u001b[0;34m\u001b[0m\u001b[0m\n\u001b[1;32m    306\u001b[0m                 inputs=inputs)\n\u001b[0;32m--> 307\u001b[0;31m         \u001b[0mtorch\u001b[0m\u001b[0;34m.\u001b[0m\u001b[0mautograd\u001b[0m\u001b[0;34m.\u001b[0m\u001b[0mbackward\u001b[0m\u001b[0;34m(\u001b[0m\u001b[0mself\u001b[0m\u001b[0;34m,\u001b[0m \u001b[0mgradient\u001b[0m\u001b[0;34m,\u001b[0m \u001b[0mretain_graph\u001b[0m\u001b[0;34m,\u001b[0m \u001b[0mcreate_graph\u001b[0m\u001b[0;34m,\u001b[0m \u001b[0minputs\u001b[0m\u001b[0;34m=\u001b[0m\u001b[0minputs\u001b[0m\u001b[0;34m)\u001b[0m\u001b[0;34m\u001b[0m\u001b[0;34m\u001b[0m\u001b[0m\n\u001b[0m\u001b[1;32m    308\u001b[0m \u001b[0;34m\u001b[0m\u001b[0m\n\u001b[1;32m    309\u001b[0m     \u001b[0;32mdef\u001b[0m \u001b[0mregister_hook\u001b[0m\u001b[0;34m(\u001b[0m\u001b[0mself\u001b[0m\u001b[0;34m,\u001b[0m \u001b[0mhook\u001b[0m\u001b[0;34m)\u001b[0m\u001b[0;34m:\u001b[0m\u001b[0;34m\u001b[0m\u001b[0;34m\u001b[0m\u001b[0m\n",
            "\u001b[0;32m/usr/local/lib/python3.7/dist-packages/torch/autograd/__init__.py\u001b[0m in \u001b[0;36mbackward\u001b[0;34m(tensors, grad_tensors, retain_graph, create_graph, grad_variables, inputs)\u001b[0m\n\u001b[1;32m    154\u001b[0m     Variable._execution_engine.run_backward(\n\u001b[1;32m    155\u001b[0m         \u001b[0mtensors\u001b[0m\u001b[0;34m,\u001b[0m \u001b[0mgrad_tensors_\u001b[0m\u001b[0;34m,\u001b[0m \u001b[0mretain_graph\u001b[0m\u001b[0;34m,\u001b[0m \u001b[0mcreate_graph\u001b[0m\u001b[0;34m,\u001b[0m \u001b[0minputs\u001b[0m\u001b[0;34m,\u001b[0m\u001b[0;34m\u001b[0m\u001b[0;34m\u001b[0m\u001b[0m\n\u001b[0;32m--> 156\u001b[0;31m         allow_unreachable=True, accumulate_grad=True)  # allow_unreachable flag\n\u001b[0m\u001b[1;32m    157\u001b[0m \u001b[0;34m\u001b[0m\u001b[0m\n\u001b[1;32m    158\u001b[0m \u001b[0;34m\u001b[0m\u001b[0m\n",
            "\u001b[0;31mKeyboardInterrupt\u001b[0m: "
          ]
        }
      ],
      "source": [
        "# Training loop\n",
        "T = 10\n",
        "for epoch in range(1000000):\n",
        "        \n",
        "    # Sample a sine wave (Task from training data)\n",
        "    wave = random.sample(SINE_TRAIN, T)\n",
        "\n",
        "    # Update model predefined number of times based on k\n",
        "    new_model = training(model, wave[0], lr_k, k)\n",
        "\n",
        "    # Evalaute the loss for the training data\n",
        "    train_set_evaluation(new_model,wave[0],store_train_loss_meta)     \n",
        "    \n",
        "    #Meta-update --> Get gradient for meta loop and update\n",
        "    metaupdate(model,new_model,metaoptimizer)\n",
        "    \n",
        "    # Evalaute the loss for the test data\n",
        "    # Note that we need to sample the wave from the test data\n",
        "    wave = random.sample(SINE_TEST, 1)\n",
        "    test_set_validation(model,new_model,wave[0],lr_k,k,store_test_loss_meta)\n",
        "\n",
        "    # Print losses every 'printing_step' epochs\n",
        "    print_losses(epoch,store_train_loss_meta,store_test_loss_meta,printing_step)"
      ]
    },
    {
      "cell_type": "markdown",
      "id": "bQjoz6FYctJM",
      "metadata": {
        "id": "bQjoz6FYctJM"
      },
      "source": [
        "<h1> Few Shot learning with new meta-model"
      ]
    },
    {
      "cell_type": "markdown",
      "id": "m-SPUG5Bfpe9",
      "metadata": {
        "id": "m-SPUG5Bfpe9"
      },
      "source": [
        "The model performs good few shot learning"
      ]
    },
    {
      "cell_type": "code",
      "execution_count": 63,
      "id": "GY84TNs8JXVH",
      "metadata": {
        "colab": {
          "base_uri": "https://localhost:8080/"
        },
        "id": "GY84TNs8JXVH",
        "outputId": "22f76827-0ac5-4909-9c0a-fc249d06c507"
      },
      "outputs": [
        {
          "output_type": "stream",
          "name": "stderr",
          "text": [
            "/usr/local/lib/python3.7/dist-packages/ipykernel_launcher.py:16: UserWarning: To copy construct from a tensor, it is recommended to use sourceTensor.clone().detach() or sourceTensor.clone().detach().requires_grad_(True), rather than torch.tensor(sourceTensor).\n",
            "  app.launch_new_instance()\n",
            "/usr/local/lib/python3.7/dist-packages/ipykernel_launcher.py:17: UserWarning: To copy construct from a tensor, it is recommended to use sourceTensor.clone().detach() or sourceTensor.clone().detach().requires_grad_(True), rather than torch.tensor(sourceTensor).\n"
          ]
        }
      ],
      "source": [
        "wave = SineWaveTask(); \n",
        "k_shot_updates = 4\n",
        "initialization_to_store_meta_losses()\n",
        "for shots in range(k_shot_updates):\n",
        "    new_model = training(model, wave, lr_k, shots)\n",
        "    train_set_evaluation(new_model,wave,store_train_loss_meta) "
      ]
    },
    {
      "cell_type": "code",
      "execution_count": 64,
      "id": "F4_Y4VF_dpNb",
      "metadata": {
        "colab": {
          "base_uri": "https://localhost:8080/",
          "height": 296
        },
        "id": "F4_Y4VF_dpNb",
        "outputId": "9b00b3a0-dc8f-47a3-e1b5-4f5cf0e532de"
      },
      "outputs": [
        {
          "output_type": "execute_result",
          "data": {
            "text/plain": [
              "Text(0.5, 0, 'k shots')"
            ]
          },
          "metadata": {},
          "execution_count": 64
        },
        {
          "output_type": "display_data",
          "data": {
            "text/plain": [
              "<Figure size 432x288 with 1 Axes>"
            ],
            "image/png": "[encoded data removed]"
          },
          "metadata": {
            "needs_background": "light"
          }
        }
      ],
      "source": [
        "plt.plot(store_train_loss_meta,label = 'Loss')\n",
        "plt.legend()\n",
        "plt.xlabel('k shots')"
      ]
    },
    {
      "cell_type": "code",
      "execution_count": null,
      "id": "-4nGnU0foEYo",
      "metadata": {
        "id": "-4nGnU0foEYo"
      },
      "outputs": [],
      "source": [
        ""
      ]
    }
  ],
  "metadata": {
    "accelerator": "GPU",
    "colab": {
      "collapsed_sections": [],
      "name": "Reptile_sinewave_Gaussian.ipynb",
      "provenance": []
    },
    "kernelspec": {
      "display_name": "Python 3",
      "language": "python",
      "name": "python3"
    },
    "language_info": {
      "codemirror_mode": {
        "name": "ipython",
        "version": 3
      },
      "file_extension": ".py",
      "mimetype": "text/x-python",
      "name": "python",
      "nbconvert_exporter": "python",
      "pygments_lexer": "ipython3",
      "version": "3.8.8"
    }
  },
  "nbformat": 4,
  "nbformat_minor": 5
}