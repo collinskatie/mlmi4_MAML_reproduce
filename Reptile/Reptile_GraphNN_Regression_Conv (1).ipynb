{
  "cells": [
    {
      "cell_type": "markdown",
      "source": [
        "<h1> Imports and Installs"
      ],
      "metadata": {
        "id": "UrjQGgr5nUHC"
      },
      "id": "UrjQGgr5nUHC"
    },
    {
      "cell_type": "code",
      "source": [
        "# Install required packages.\n",
        "!pip install -q torch-scatter -f https://pytorch-geometric.com/whl/torch-1.10.0+cu113.html\n",
        "!pip install -q torch-sparse -f https://pytorch-geometric.com/whl/torch-1.10.0+cu113.html\n",
        "!pip install -q git+https://github.com/rusty1s/pytorch_geometric.git"
      ],
      "metadata": {
        "colab": {
          "base_uri": "https://localhost:8080/"
        },
        "id": "S2WfmJiVTDpE",
        "outputId": "1efd3cbc-43ff-4794-e97c-e70d2bbdfe91"
      },
      "id": "S2WfmJiVTDpE",
      "execution_count": 1,
      "outputs": [
        {
          "output_type": "stream",
          "name": "stdout",
          "text": [
            "\u001b[K     |████████████████████████████████| 7.9 MB 4.6 MB/s \n",
            "\u001b[K     |████████████████████████████████| 3.5 MB 3.9 MB/s \n",
            "\u001b[?25h  Building wheel for torch-geometric (setup.py) ... \u001b[?25l\u001b[?25hdone\n"
          ]
        }
      ]
    },
    {
      "cell_type": "code",
      "source": [
        "import matplotlib.pyplot as plt\n",
        "import numpy as np\n",
        "\n",
        "# Required imports for neural network\n",
        "import torch.nn as nn\n",
        "import torch\n",
        "from torch.autograd import Variable\n",
        "import random\n",
        "\n",
        "# For GNNs\n",
        "from torch.nn import Linear\n",
        "from torch.nn import BatchNorm1d\n",
        "import torch.nn.functional as F\n",
        "from torch_geometric.nn import GATConv\n",
        "from torch_geometric.nn import GraphConv\n",
        "from torch_geometric.nn import GraphNorm\n",
        "from torch_geometric.nn import global_mean_pool\n",
        "from torch_geometric.nn import global_max_pool\n",
        "import torch.nn as nn"
      ],
      "metadata": {
        "id": "eGl9mcc0nOMP"
      },
      "id": "eGl9mcc0nOMP",
      "execution_count": 2,
      "outputs": []
    },
    {
      "cell_type": "markdown",
      "source": [
        "<h1> Data Loading and Generation\n",
        "\n",
        "Reptile for regression task using GNNs\n",
        "\n",
        "Some common GNN datasets are here:\n",
        "https://pytorch-geometric.readthedocs.io/en/latest/modules/datasets.html#torch_geometric.datasets.GNNBenchmarkDataset\n",
        "\n",
        "We will use a regression dataset with 19 regression targets from the paper:\n",
        "“MoleculeNet: A Benchmark for Molecular Machine Learning”"
      ],
      "metadata": {
        "id": "T3KVOwFXFOY0"
      },
      "id": "T3KVOwFXFOY0"
    },
    {
      "cell_type": "markdown",
      "source": [
        "For this implementation we focus on regressing only the Dipole moment"
      ],
      "metadata": {
        "id": "jvvZSOiQe-Ne"
      },
      "id": "jvvZSOiQe-Ne"
    },
    {
      "cell_type": "code",
      "source": [
        "import torch\n",
        "from torch_geometric.datasets import QM9\n",
        "\n",
        "dataset = QM9(root='data/QM9')"
      ],
      "metadata": {
        "colab": {
          "base_uri": "https://localhost:8080/"
        },
        "id": "PIExsutGTQcB",
        "outputId": "c3cede58-a9c9-4d51-b70f-584bb6b3724d"
      },
      "id": "PIExsutGTQcB",
      "execution_count": 3,
      "outputs": [
        {
          "output_type": "stream",
          "name": "stderr",
          "text": [
            "Downloading https://data.pyg.org/datasets/qm9_v3.zip\n",
            "Extracting data/QM9/raw/qm9_v3.zip\n",
            "Processing...\n",
            "Using a pre-processed version of the dataset. Please install 'rdkit' to alternatively process the raw data.\n",
            "Done!\n"
          ]
        }
      ]
    },
    {
      "cell_type": "code",
      "source": [
        "# This function is based on https://pytorch-geometric.readthedocs.io/en/latest/notes/colabs.html\n",
        "\n",
        "#Function to display properties of the dataset (it is not necessary for anything)\n",
        "def display_graph_dataset_properties(dataset):\n",
        "  print()\n",
        "  print(f'Dataset: {dataset}:')\n",
        "  print('====================')\n",
        "  print(f'Number of graphs: {len(dataset)}')\n",
        "  print(f'Number of features: {dataset.num_features}')\n",
        "  print(f'Number of classes: {dataset.num_classes}')\n",
        "\n",
        "  data = dataset[0]  # Get the first graph object.Ç\n",
        "\n",
        "  print()\n",
        "  print('Look at a sample graph of the dataset')\n",
        "  print(data)\n",
        "  print('=============================================================')\n",
        "\n",
        "  # Gather some statistics about the first graph.\n",
        "  print(f'Number of nodes: {data.num_nodes}')\n",
        "  print(f'Number of edges: {data.num_edges}')\n",
        "  print(f'Average node degree: {data.num_edges / data.num_nodes:.2f}')\n",
        "  print(f'Has isolated nodes: {data.has_isolated_nodes()}')\n",
        "  print(f'Has self-loops: {data.has_self_loops()}')\n",
        "  print(f'Is undirected: {data.is_undirected()}')"
      ],
      "metadata": {
        "id": "LxK2rDRNTSxd"
      },
      "id": "LxK2rDRNTSxd",
      "execution_count": 4,
      "outputs": []
    },
    {
      "cell_type": "code",
      "source": [
        "display_graph_dataset_properties(dataset)"
      ],
      "metadata": {
        "colab": {
          "base_uri": "https://localhost:8080/"
        },
        "id": "GC6T1VZPF9Ba",
        "outputId": "b788d2e2-5402-4656-de03-a7ee740a14fd"
      },
      "id": "GC6T1VZPF9Ba",
      "execution_count": 5,
      "outputs": [
        {
          "output_type": "stream",
          "name": "stdout",
          "text": [
            "\n",
            "Dataset: QM9(130831):\n",
            "====================\n",
            "Number of graphs: 130831\n",
            "Number of features: 11\n",
            "Number of classes: 19\n",
            "\n",
            "Look at a sample graph of the dataset\n",
            "Data(x=[5, 11], edge_index=[2, 8], edge_attr=[8, 4], y=[1, 19], pos=[5, 3], idx=[1], name='gdb_1', z=[5])\n",
            "=============================================================\n",
            "Number of nodes: 5\n",
            "Number of edges: 8\n",
            "Average node degree: 1.60\n",
            "Has isolated nodes: False\n",
            "Has self-loops: False\n",
            "Is undirected: True\n"
          ]
        }
      ]
    },
    {
      "cell_type": "code",
      "source": [
        "# Transform the dataset into a list\n",
        "dataset_list = []\n",
        "\n",
        "for i in range(len(dataset)):\n",
        "  dataset_list.append(dataset[i])"
      ],
      "metadata": {
        "id": "lD_MRHC8T8Za"
      },
      "id": "lD_MRHC8T8Za",
      "execution_count": 6,
      "outputs": []
    },
    {
      "cell_type": "code",
      "source": [
        "#Shuffle the dataset list\n",
        "random.shuffle(dataset_list)\n",
        "#Split into train and test\n",
        "GRAPH_TRAIN = dataset_list[:int(np.floor(len(dataset_list)*0.9))]\n",
        "GRAPH_TEST = dataset_list[int(np.floor(len(dataset_list)*0.9)):]"
      ],
      "metadata": {
        "id": "a3X51uGHDvSV"
      },
      "id": "a3X51uGHDvSV",
      "execution_count": 7,
      "outputs": []
    },
    {
      "cell_type": "markdown",
      "source": [
        "<h1> Neural Network Model"
      ],
      "metadata": {
        "id": "cu4urLF7Q88A"
      },
      "id": "cu4urLF7Q88A"
    },
    {
      "cell_type": "code",
      "source": [
        "\n",
        "class GNN(torch.nn.Module):\n",
        "    def __init__(self, input_dim=11, hidden_dim=64, output_dim=1):\n",
        "        super(GNN, self).__init__()\n",
        "\n",
        "        #Hidden Layers\n",
        "        self.hidden1 = GraphConv(input_dim, hidden_dim)\n",
        "        self.hidden2 = GraphConv(hidden_dim, hidden_dim)\n",
        "        self.hidden3 = GraphConv(hidden_dim, output_dim)\n",
        "        self.norm = GraphNorm(hidden_dim)\n",
        "\n",
        "        #Activation Function\n",
        "        self.relu = nn.ReLU()\n",
        "\n",
        "        \n",
        "\n",
        "    def forward(self, input_x, edge_index, batch):\n",
        "      \n",
        "        #Standard forward\n",
        "        x = self.hidden1(input_x,edge_index)\n",
        "        x = self.norm(x)\n",
        "        x = self.relu(x)\n",
        "        x = self.hidden2(x,edge_index)\n",
        "        x = self.norm(x)\n",
        "        x = self.relu(x)\n",
        "        x = self.hidden3(x,edge_index)\n",
        "        x = self.relu(x)\n",
        "\n",
        "        #Global mean pool across batches\n",
        "        x = global_max_pool(x, batch)\n",
        "\n",
        "        \n",
        "        return x\n"
      ],
      "metadata": {
        "id": "R1B0YTz6ytyN"
      },
      "id": "R1B0YTz6ytyN",
      "execution_count": 8,
      "outputs": []
    },
    {
      "cell_type": "markdown",
      "source": [
        "<h1> Helper functions"
      ],
      "metadata": {
        "id": "G-ExWACxQ3mt"
      },
      "id": "G-ExWACxQ3mt"
    },
    {
      "cell_type": "code",
      "source": [
        "# The Minimum Square Error is used to evaluate the difference between prediction and ground truth\n",
        "criterion = nn.MSELoss()\n",
        "\n",
        "def copy_existing_model(model):\n",
        "    # Function to copy an existing model\n",
        "    # We initialize a new model\n",
        "    new_model = GNN()\n",
        "    # Copy the previous model's parameters into the new model\n",
        "    new_model.load_state_dict(model.state_dict())\n",
        "    return new_model\n",
        "\n",
        "def initialization_to_store_meta_losses():\n",
        "  # This function creates lists to store the meta losses\n",
        "  global store_train_loss_meta; store_train_loss_meta = []\n",
        "  global store_test_loss_meta; store_test_loss_meta = []\n",
        "\n",
        "def test_set_validation(model,new_model,graph,lr_inner,k,store_test_loss_meta):\n",
        "    # This functions does not actually affect the main algorithm, it is just used to evaluate the new model\n",
        "    new_model = training(model, graph, lr_inner, k)\n",
        "    # Obtain the loss\n",
        "    loss = evaluation(new_model, graph)\n",
        "    # Store loss\n",
        "    store_test_loss_meta.append(loss)\n",
        "\n",
        "def train_set_evaluation(new_model,graph,store_train_loss_meta):\n",
        "    loss = evaluation(new_model, graph)\n",
        "    store_train_loss_meta.append(loss) \n",
        "\n",
        "def print_losses(epoch,store_train_loss_meta,store_test_loss_meta,printing_step=1000):\n",
        "  if epoch % printing_step == 0:\n",
        "    print(f'Epochh : {epoch}, Average Train Meta Loss : {np.mean(store_train_loss_meta)}, Average Test Meta Loss : {np.mean(store_test_loss_meta)}')\n",
        "\n",
        "#This is based on the paper update rule, we calculate the difference between parameters and then this is used by the optimizer, rather than doing the update by hand\n",
        "def reptile_parameter_update(model,new_model):\n",
        "  # Zip models for the loop\n",
        "  zip_models = zip(model.parameters(), new_model.parameters())\n",
        "  for parameter, new_parameter in zip_models:\n",
        "    if parameter.grad is None:\n",
        "      parameter.grad = torch.tensor(torch.zeros_like(parameter))\n",
        "    # Here we are adding the gradient that will later be used by the optimizer\n",
        "    parameter.grad.data.add_(parameter.data - new_parameter.data)\n",
        "\n",
        "# Define commands in order needed for the metaupdate\n",
        "# Note that if we change the order it doesn't behave the same\n",
        "def metaoptimizer_update(metaoptimizer):\n",
        "  # Take step\n",
        "  metaoptimizer.step()\n",
        "  # Reset gradients\n",
        "  metaoptimizer.zero_grad()\n",
        "\n",
        "def metaupdate(model,new_model,metaoptimizer):\n",
        "  # Combine the two previous functions into a single metaupdate function\n",
        "  # First we calculate the gradients\n",
        "  reptile_parameter_update(model,new_model)\n",
        "  # Use those gradients in the optimizer\n",
        "  metaoptimizer_update(metaoptimizer)\n",
        "\n",
        "def evaluation(new_model, graph, item = True):\n",
        "    # Make model prediction\n",
        "    prediction = new_model(graph.x,graph.edge_index,graph.batch)\n",
        "    # Get loss\n",
        "    if item == True: #Depending on whether we need to return the loss value for storing or for backprop\n",
        "      loss = criterion(prediction,graph.y[:,task:task+1]).item()\n",
        "    else:\n",
        "      loss = criterion(prediction,graph.y[:,task:task+1])\n",
        "    return loss\n",
        "\n",
        "def training(model, graph, lr_k, k):\n",
        "    # Create new model which we will train on\n",
        "    new_model = copy_existing_model(model)\n",
        "    # Define new optimizer\n",
        "    koptimizer = torch.optim.SGD(new_model.parameters(), lr=lr_k)\n",
        "    # Update the model multiple times, note that k>1 (do not confuse k with K)\n",
        "    for i in range(k):\n",
        "        # Reset optimizer\n",
        "        koptimizer.zero_grad()\n",
        "        # Evaluate the model\n",
        "        loss = evaluation(new_model, graph, item = False)\n",
        "        # Backpropagate\n",
        "        loss.backward()\n",
        "        koptimizer.step()\n",
        "    return new_model"
      ],
      "metadata": {
        "id": "1zyNHFXdOnug"
      },
      "id": "1zyNHFXdOnug",
      "execution_count": 9,
      "outputs": []
    },
    {
      "cell_type": "markdown",
      "source": [
        "<h1> Reptile"
      ],
      "metadata": {
        "id": "-4Ps8P2IRCmF"
      },
      "id": "-4Ps8P2IRCmF"
    },
    {
      "cell_type": "code",
      "source": [
        "#Define important variables\n",
        "epochs = int(5000) # number of epochs \n",
        "lr_meta=0.001 # Learning rate for meta model (outer loop)\n",
        "printing_step=100 # how many epochs should we wait to print the loss\n",
        "lr_k=0.0005 # Internal learning rate\n",
        "k=5 # Number of internal updates for each task\n",
        "number_of_tasks=5\n",
        "# Initializations\n",
        "initialization_to_store_meta_losses()\n",
        "model = GNN()\n",
        "metaoptimizer = torch.optim.Adam(model.parameters(), lr=lr_meta)"
      ],
      "metadata": {
        "id": "8ogpg_DHizlC"
      },
      "id": "8ogpg_DHizlC",
      "execution_count": 10,
      "outputs": []
    },
    {
      "cell_type": "code",
      "source": [
        "# Training loop\n",
        "for epoch in range(epochs):\n",
        "        \n",
        "    # Sample a sine graph (Task from training data)\n",
        "    graph = random.sample(GRAPH_TRAIN, 1)\n",
        "    task = random.randint(0, number_of_tasks-1)\n",
        "\n",
        "    # Update model predefined number of times based on k\n",
        "    new_model = training(model, graph[0], lr_k, k)\n",
        "\n",
        "    # Evalaute the loss for the training data\n",
        "    train_set_evaluation(new_model,graph[0],store_train_loss_meta)     \n",
        "    \n",
        "    #Meta-update --> Get gradient for meta loop and update\n",
        "    metaupdate(model,new_model,metaoptimizer)\n",
        "    \n",
        "    # Evalaute the loss for the test data\n",
        "    # Note that we need to sample the graph from the test data\n",
        "    graph = random.sample(GRAPH_TEST, 1)\n",
        "    test_set_validation(model,new_model,graph[0],lr_k,k,store_test_loss_meta)\n",
        "\n",
        "    # Print losses every 'printing_step' epochs\n",
        "    print_losses(epoch,store_train_loss_meta,store_test_loss_meta,printing_step)"
      ],
      "metadata": {
        "colab": {
          "base_uri": "https://localhost:8080/"
        },
        "id": "-4-zQWWKFt3s",
        "outputId": "4a16e756-e4fe-4028-a1c8-518f97389e38"
      },
      "id": "-4-zQWWKFt3s",
      "execution_count": 11,
      "outputs": [
        {
          "output_type": "stream",
          "name": "stderr",
          "text": [
            "/usr/local/lib/python3.7/dist-packages/ipykernel_launcher.py:39: UserWarning: To copy construct from a tensor, it is recommended to use sourceTensor.clone().detach() or sourceTensor.clone().detach().requires_grad_(True), rather than torch.tensor(sourceTensor).\n"
          ]
        },
        {
          "output_type": "stream",
          "name": "stdout",
          "text": [
            "Epochh : 0, Average Train Meta Loss : 37.92018127441406, Average Test Meta Loss : 28.44548797607422\n",
            "Epochh : 100, Average Train Meta Loss : 21.04031746013633, Average Test Meta Loss : 14.872699325786199\n",
            "Epochh : 200, Average Train Meta Loss : 17.80700865332838, Average Test Meta Loss : 12.102489672295762\n",
            "Epochh : 300, Average Train Meta Loss : 16.943974031062528, Average Test Meta Loss : 12.261640542682072\n",
            "Epochh : 400, Average Train Meta Loss : 14.82547196305932, Average Test Meta Loss : 11.628098973370754\n",
            "Epochh : 500, Average Train Meta Loss : 13.801036924530445, Average Test Meta Loss : 11.903012045743171\n",
            "Epochh : 600, Average Train Meta Loss : 13.14530590367035, Average Test Meta Loss : 11.330081259494849\n",
            "Epochh : 700, Average Train Meta Loss : 12.541891051395611, Average Test Meta Loss : 11.330347870297159\n",
            "Epochh : 800, Average Train Meta Loss : 12.290456863169513, Average Test Meta Loss : 11.214755815989005\n",
            "Epochh : 900, Average Train Meta Loss : 12.166179963047577, Average Test Meta Loss : 11.122667916234082\n",
            "Epochh : 1000, Average Train Meta Loss : 12.034874860184004, Average Test Meta Loss : 11.2079425538196\n",
            "Epochh : 1100, Average Train Meta Loss : 11.980056618823669, Average Test Meta Loss : 11.28534436365033\n",
            "Epochh : 1200, Average Train Meta Loss : 12.315235002406101, Average Test Meta Loss : 11.521594628292457\n",
            "Epochh : 1300, Average Train Meta Loss : 12.806069866349558, Average Test Meta Loss : 11.778596190681897\n",
            "Epochh : 1400, Average Train Meta Loss : 12.69060807850158, Average Test Meta Loss : 11.721196067650723\n",
            "Epochh : 1500, Average Train Meta Loss : 12.356673518294118, Average Test Meta Loss : 11.469982479372764\n",
            "Epochh : 1600, Average Train Meta Loss : 12.126955409045259, Average Test Meta Loss : 11.607269434641296\n",
            "Epochh : 1700, Average Train Meta Loss : 12.014725887384513, Average Test Meta Loss : 11.596174910792959\n",
            "Epochh : 1800, Average Train Meta Loss : 11.906831462781332, Average Test Meta Loss : 11.44321203837774\n",
            "Epochh : 1900, Average Train Meta Loss : 11.814587183049603, Average Test Meta Loss : 11.323381371634369\n",
            "Epochh : 2000, Average Train Meta Loss : 11.731229662670673, Average Test Meta Loss : 11.257064577453122\n",
            "Epochh : 2100, Average Train Meta Loss : 11.60895620293417, Average Test Meta Loss : 11.187236198587051\n",
            "Epochh : 2200, Average Train Meta Loss : 11.453557954377548, Average Test Meta Loss : 11.070940760553762\n",
            "Epochh : 2300, Average Train Meta Loss : 11.42354861099073, Average Test Meta Loss : 11.092014835046424\n",
            "Epochh : 2400, Average Train Meta Loss : 11.322156284124597, Average Test Meta Loss : 11.026443541948943\n",
            "Epochh : 2500, Average Train Meta Loss : 11.279895005239865, Average Test Meta Loss : 10.99698573531015\n",
            "Epochh : 2600, Average Train Meta Loss : 11.28323473283997, Average Test Meta Loss : 11.012149002248057\n",
            "Epochh : 2700, Average Train Meta Loss : 11.276235926817602, Average Test Meta Loss : 10.996029775996286\n",
            "Epochh : 2800, Average Train Meta Loss : 11.21757059544109, Average Test Meta Loss : 10.935056409780204\n",
            "Epochh : 2900, Average Train Meta Loss : 11.260838869614846, Average Test Meta Loss : 10.930325183135194\n",
            "Epochh : 3000, Average Train Meta Loss : 11.191458326901152, Average Test Meta Loss : 10.946002731305546\n",
            "Epochh : 3100, Average Train Meta Loss : 11.09828514476361, Average Test Meta Loss : 10.852321301934783\n",
            "Epochh : 3200, Average Train Meta Loss : 11.070134197491699, Average Test Meta Loss : 10.823179779041846\n",
            "Epochh : 3300, Average Train Meta Loss : 11.11248159285004, Average Test Meta Loss : 10.831297702687145\n",
            "Epochh : 3400, Average Train Meta Loss : 11.053116780147796, Average Test Meta Loss : 10.752065874286208\n",
            "Epochh : 3500, Average Train Meta Loss : 11.051318666613662, Average Test Meta Loss : 10.733188570212153\n",
            "Epochh : 3600, Average Train Meta Loss : 10.985181504914554, Average Test Meta Loss : 10.69357439071282\n",
            "Epochh : 3700, Average Train Meta Loss : 10.962409532400514, Average Test Meta Loss : 10.632629471405801\n",
            "Epochh : 3800, Average Train Meta Loss : 10.898320494690127, Average Test Meta Loss : 10.570090876370099\n",
            "Epochh : 3900, Average Train Meta Loss : 10.813076946843621, Average Test Meta Loss : 10.48834088491284\n",
            "Epochh : 4000, Average Train Meta Loss : 10.72443141630793, Average Test Meta Loss : 10.404640056122657\n",
            "Epochh : 4100, Average Train Meta Loss : 10.636853941593076, Average Test Meta Loss : 10.304522796937993\n",
            "Epochh : 4200, Average Train Meta Loss : 10.702796063263706, Average Test Meta Loss : 10.384706143150455\n",
            "Epochh : 4300, Average Train Meta Loss : 10.68556155510713, Average Test Meta Loss : 10.36908161158999\n",
            "Epochh : 4400, Average Train Meta Loss : 10.665239090629274, Average Test Meta Loss : 10.345589612374317\n",
            "Epochh : 4500, Average Train Meta Loss : 10.67968669153347, Average Test Meta Loss : 10.339038263767543\n",
            "Epochh : 4600, Average Train Meta Loss : 10.66209801100579, Average Test Meta Loss : 10.319087667430203\n",
            "Epochh : 4700, Average Train Meta Loss : 10.669353632980387, Average Test Meta Loss : 10.341245383619468\n",
            "Epochh : 4800, Average Train Meta Loss : 10.614546321770897, Average Test Meta Loss : 10.298155148023863\n",
            "Epochh : 4900, Average Train Meta Loss : 10.602025761416012, Average Test Meta Loss : 10.290078177023455\n"
          ]
        }
      ]
    },
    {
      "cell_type": "markdown",
      "source": [
        "<h1> Few Shot learning with new meta-model"
      ],
      "metadata": {
        "id": "bQjoz6FYctJM"
      },
      "id": "bQjoz6FYctJM"
    },
    {
      "cell_type": "markdown",
      "source": [
        "The model performs good few shot learning"
      ],
      "metadata": {
        "id": "m-SPUG5Bfpe9"
      },
      "id": "m-SPUG5Bfpe9"
    },
    {
      "cell_type": "code",
      "source": [
        "task = random.randint(0, number_of_tasks-1)\n",
        "graph = GRAPH_TEST[0] \n",
        "k_shot_updates = 5\n",
        "initialization_to_store_meta_losses()\n",
        "for shots in range(k_shot_updates):\n",
        "    new_model = training(model, graph, lr_k, shots)\n",
        "    train_set_evaluation(new_model,graph,store_train_loss_meta) \n",
        "\n",
        "plt.plot(store_train_loss_meta,label = 'Loss')\n",
        "plt.legend()\n",
        "plt.xlabel('k shots')"
      ],
      "metadata": {
        "colab": {
          "base_uri": "https://localhost:8080/",
          "height": 296
        },
        "id": "GY84TNs8JXVH",
        "outputId": "ff358594-7f0a-49c9-abdb-edb84065d088"
      },
      "id": "GY84TNs8JXVH",
      "execution_count": 13,
      "outputs": [
        {
          "output_type": "execute_result",
          "data": {
            "text/plain": [
              "Text(0.5, 0, 'k shots')"
            ]
          },
          "metadata": {},
          "execution_count": 13
        },
        {
          "output_type": "display_data",
          "data": {
            "text/plain": [
              "<Figure size 432x288 with 1 Axes>"
            ],
            "image/png": "[encoded data removed]"
          },
          "metadata": {
            "needs_background": "light"
          }
        }
      ]
    },
    {
      "cell_type": "code",
      "source": [
        ""
      ],
      "metadata": {
        "id": "2IObh84sRwo2"
      },
      "id": "2IObh84sRwo2",
      "execution_count": null,
      "outputs": []
    }
  ],
  "metadata": {
    "kernelspec": {
      "display_name": "Python 3",
      "language": "python",
      "name": "python3"
    },
    "language_info": {
      "codemirror_mode": {
        "name": "ipython",
        "version": 3
      },
      "file_extension": ".py",
      "mimetype": "text/x-python",
      "name": "python",
      "nbconvert_exporter": "python",
      "pygments_lexer": "ipython3",
      "version": "3.8.8"
    },
    "colab": {
      "name": "Reptile_GraphNN_Regression_Conv.ipynb",
      "provenance": [],
      "collapsed_sections": []
    },
    "accelerator": "GPU"
  },
  "nbformat": 4,
  "nbformat_minor": 5
}