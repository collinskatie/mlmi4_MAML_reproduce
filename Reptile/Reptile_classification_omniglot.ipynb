{
 "cells": [
  {
   "cell_type": "markdown",
   "id": "UrjQGgr5nUHC",
   "metadata": {
    "id": "UrjQGgr5nUHC"
   },
   "source": [
    "<h1> Imports"
   ]
  },
  {
   "cell_type": "code",
   "execution_count": 1,
   "id": "eGl9mcc0nOMP",
   "metadata": {
    "id": "eGl9mcc0nOMP"
   },
   "outputs": [],
   "source": [
    "import matplotlib.pyplot as plt\n",
    "import numpy as np\n",
    "\n",
    "# Required imports for neural network\n",
    "import torch.nn as nn\n",
    "import torch\n",
    "from torch.autograd import Variable\n",
    "import random\n",
    "import torchvision\n"
   ]
  },
  {
   "cell_type": "markdown",
   "id": "T3KVOwFXFOY0",
   "metadata": {
    "id": "T3KVOwFXFOY0"
   },
   "source": [
    "<h1> Data Loading and Generation"
   ]
  },
  {
   "cell_type": "markdown",
   "id": "9nDo1jnW4wo4",
   "metadata": {
    "id": "9nDo1jnW4wo4"
   },
   "source": [
    "Omniglot dataset\n",
    "\n",
    "Note this omniglot dataset has just 1000 images in the paper they report using 1200 for training"
   ]
  },
  {
   "cell_type": "code",
   "execution_count": 2,
   "id": "AqnEGwSRnOgX",
   "metadata": {
    "colab": {
     "base_uri": "https://localhost:8080/"
    },
    "id": "AqnEGwSRnOgX",
    "outputId": "35f504bc-fbfb-4694-dec8-ed04fac402c8"
   },
   "outputs": [
    {
     "name": "stdout",
     "output_type": "stream",
     "text": [
      "Files already downloaded and verified\n"
     ]
    }
   ],
   "source": [
    "# Import omniglot dataset\n",
    "dataset = torchvision.datasets.Omniglot(\n",
    "    root=\"./data\", download=True, transform=torchvision.transforms.ToTensor()\n",
    ")"
   ]
  },
  {
   "cell_type": "code",
   "execution_count": 3,
   "id": "HEkrsJBool3Q",
   "metadata": {
    "id": "HEkrsJBool3Q"
   },
   "outputs": [],
   "source": [
    "# Create dictionary for all classes there is 50\n",
    "dataset_classes={}\n",
    "for i in range(len(dataset)):\n",
    "  image, label = dataset[i]\n",
    "  try:\n",
    "    dataset_classes[f'{label}']= torch.cat((dataset_classes[f'{label}'],image[None,:,:,:]))\n",
    "  except:\n",
    "    dataset_classes[f'{label}']=image[None,:,:,:]\n",
    "\n",
    "  "
   ]
  },
  {
   "cell_type": "code",
   "execution_count": 4,
   "id": "bfYGR92aDqui",
   "metadata": {
    "id": "bfYGR92aDqui"
   },
   "outputs": [],
   "source": [
    "class Omni:\n",
    "  x = []\n",
    "  y = []"
   ]
  },
  {
   "cell_type": "code",
   "execution_count": 5,
   "id": "vzxOBfUN3Q24",
   "metadata": {
    "id": "vzxOBfUN3Q24"
   },
   "outputs": [],
   "source": [
    "# number_of_classes = 964 #Define how money classes to train on, max is 50\n",
    "\n",
    "# # Create empty lists\n",
    "# dataset_list_train = []\n",
    "# dataset_list_train_label = []\n",
    "# dataset_list_test = []\n",
    "# dataset_list_test_label = []\n",
    "\n",
    "# # Extract traning data\n",
    "# for label in range(number_of_classes):\n",
    "#   for j in range(len(dataset_classes[f'{label}'])-1):\n",
    "#     dataset_list_train.append(dataset_classes[f'{label}'][j])\n",
    "#     dataset_list_train_label.append(label)\n",
    "\n",
    "# # Shuffle training data and labels\n",
    "# zip_train_for_shuffling = list(zip(dataset_list_train,dataset_list_train_label))\n",
    "# random.shuffle(zip_train_for_shuffling)\n",
    "# dataset_list_train,dataset_list_train_label = zip(*zip_train_for_shuffling)\n",
    "\n",
    "# # Extr<ct test data\n",
    "# for label in range(number_of_classes):\n",
    "#   dataset_list_test.append(dataset_classes[f'{label}'][-1])\n",
    "#   dataset_list_test_label.append(label)\n",
    "\n",
    "# # Shuffle test data and labels\n",
    "# zip_test_for_shuffling = list(zip(dataset_list_test,dataset_list_test_label))\n",
    "# random.shuffle(zip_test_for_shuffling)\n",
    "# dataset_list_test,dataset_list_test_label = zip(*zip_test_for_shuffling)\n",
    "\n",
    "# OMNI_TRAIN=[]\n",
    "# for _ in range(len(dataset_list_train_label)):\n",
    "#   OMNI_TRAIN.append(Omni())\n",
    "\n",
    "# OMNI_TEST=[]\n",
    "# for _ in range(len(dataset_list_test_label)):\n",
    "#   OMNI_TEST.append(Omni())\n",
    "\n",
    "# for i in range(len(dataset_list_train_label)):\n",
    "#   OMNI_TRAIN[i].x = dataset_list_train[i][None,:,:,:]\n",
    "#   OMNI_TRAIN[i].y = dataset_list_train_label[i]\n",
    "\n",
    "# for i in range(len(dataset_list_test_label)):\n",
    "#   OMNI_TEST[i].x = dataset_list_test[i][None,:,:,:]\n",
    "#   OMNI_TEST[i].y = dataset_list_test_label[i]\n",
    "\n"
   ]
  },
  {
   "cell_type": "markdown",
   "id": "cu4urLF7Q88A",
   "metadata": {
    "id": "cu4urLF7Q88A"
   },
   "source": [
    "<h1> Neural Network Model"
   ]
  },
  {
   "cell_type": "code",
   "execution_count": 6,
   "id": "R1B0YTz6ytyN",
   "metadata": {
    "id": "R1B0YTz6ytyN"
   },
   "outputs": [],
   "source": [
    "# Define network\n",
    "class Neural_Network(nn.Module):\n",
    "    def __init__(self, input_size=1, hidden_size=64, output_size=964):\n",
    "        super(Neural_Network, self).__init__()\n",
    "        # network layers\n",
    "        self.hidden1 = nn.Conv2d(input_size,hidden_size,kernel_size=3)\n",
    "        self.hidden2 = nn.Conv2d(hidden_size,hidden_size,kernel_size=3)\n",
    "        self.hidden3 = nn.Conv2d(hidden_size,hidden_size,kernel_size=3)\n",
    "        self.hidden4 = nn.Conv2d(hidden_size,hidden_size,kernel_size=3)\n",
    "        self.batchnorm = nn.BatchNorm2d(hidden_size)\n",
    "        self.maxpool = nn.MaxPool2d(kernel_size=2)\n",
    "        self.flatten = nn.Flatten()\n",
    "        self.linear = nn.Linear(1024,output_size)\n",
    "\n",
    "        #Activation functions\n",
    "        self.relu = nn.ReLU()\n",
    "        self.softmax = nn.Softmax(dim=-1)\n",
    "\n",
    "\n",
    "\n",
    "        \n",
    "    def forward(self, x):\n",
    "\n",
    "        # Convolutional part\n",
    "        x = self.hidden1(x)\n",
    "        x = self.batchnorm(x)\n",
    "        x = self.maxpool(x)\n",
    "        x = self.relu(x)\n",
    "        x = self.hidden2(x)\n",
    "        x = self.batchnorm(x)\n",
    "        x = self.maxpool(x)\n",
    "        x = self.relu(x)\n",
    "        x = self.hidden3(x)\n",
    "        x = self.batchnorm(x)\n",
    "        x = self.maxpool(x)\n",
    "        x = self.relu(x)\n",
    "        x = self.hidden4(x)\n",
    "        x = self.batchnorm(x)\n",
    "        x = self.maxpool(x)\n",
    "        x = self.relu(x)\n",
    "\n",
    "        # Fully-connected part\n",
    "        x = self.flatten(x)\n",
    "        x = self.linear(x)\n",
    "        x = self.softmax(x)\n",
    "\n",
    "        return x\n"
   ]
  },
  {
   "cell_type": "markdown",
   "id": "G-ExWACxQ3mt",
   "metadata": {
    "id": "G-ExWACxQ3mt"
   },
   "source": [
    "<h1> Helper functions"
   ]
  },
  {
   "cell_type": "code",
   "execution_count": 7,
   "id": "1zyNHFXdOnug",
   "metadata": {
    "id": "1zyNHFXdOnug"
   },
   "outputs": [],
   "source": [
    "# The Minimum Square Error is used to evaluate the difference between prediction and ground truth\n",
    "criterion = nn.BCELoss()\n",
    "\n",
    "def transform_label(label,K=5):\n",
    "    label_tensor=torch.zeros((1,964))\n",
    "    label_tensor[:,label]=1\n",
    "\n",
    "    return label_tensor.repeat(K, 1).float()\n",
    "\n",
    "def copy_existing_model(model):\n",
    "    # Function to copy an existing model\n",
    "    # We initialize a new model\n",
    "    new_model = Neural_Network()\n",
    "    # Copy the previous model's parameters into the new model\n",
    "    new_model.load_state_dict(model.state_dict())\n",
    "    return new_model\n",
    "\n",
    "def initialization_to_store_meta_losses():\n",
    "  # This function creates lists to store the meta losses\n",
    "  global store_train_loss_meta; store_train_loss_meta = []\n",
    "  global store_test_loss_meta; store_test_loss_meta = []\n",
    "\n",
    "def test_set_validation(model,new_model,omni,lr_inner,k,store_test_loss_meta,K=1):\n",
    "    # This functions does not actually affect the main algorithm, it is just used to evaluate the new model\n",
    "    new_model = training(model, omni, lr_inner, k,K)\n",
    "    # Obtain the loss\n",
    "    loss = evaluation(new_model, omni,K)\n",
    "    # Store loss\n",
    "    store_test_loss_meta.append(loss)\n",
    "\n",
    "def train_set_evaluation(new_model,omni,store_train_loss_meta,K):\n",
    "    loss = evaluation(new_model, omni,K)\n",
    "    store_train_loss_meta.append(loss) \n",
    "\n",
    "def print_losses(epoch,store_train_loss_meta,store_test_loss_meta,printing_step=1000):\n",
    "  if epoch % printing_step == 0:\n",
    "    print(f'Epochh : {epoch}, Average Train Meta Loss : {np.mean(store_train_loss_meta)}, Average Test Meta Loss : {np.mean(store_test_loss_meta)}')\n",
    "\n",
    "#This is based on the paper update rule, we calculate the difference between parameters and then this is used by the optimizer, rather than doing the update by hand\n",
    "def reptile_parameter_update(model,new_model):\n",
    "  # Zip models for the loop\n",
    "  zip_models = zip(model.parameters(), new_model.parameters())\n",
    "  for parameter, new_parameter in zip_models:\n",
    "    if parameter.grad is None:\n",
    "      parameter.grad = torch.tensor(torch.zeros_like(parameter))\n",
    "    # Here we are adding the gradient that will later be used by the optimizer\n",
    "    parameter.grad.data.add_(parameter.data - new_parameter.data)\n",
    "\n",
    "# Define commands in order needed for the metaupdate\n",
    "# Note that if we change the order it doesn't behave the same\n",
    "def metaoptimizer_update(metaoptimizer):\n",
    "  # Take step\n",
    "  metaoptimizer.step()\n",
    "  # Reset gradients\n",
    "  metaoptimizer.zero_grad()\n",
    "\n",
    "def metaupdate(model,new_model,metaoptimizer):\n",
    "  # Combine the two previous functions into a single metaupdate function\n",
    "  # First we calculate the gradients\n",
    "  reptile_parameter_update(model,new_model)\n",
    "  # Use those gradients in the optimizer\n",
    "  metaoptimizer_update(metaoptimizer)\n",
    "\n",
    "def evaluation(new_model, omni, K, item = True):\n",
    "    # Get data\n",
    "    x, label = omni.x,omni.y\n",
    "    # Make model prediction\n",
    "    prediction = new_model(x)\n",
    "    # Get loss\n",
    "    if item == True: #Depending on whether we need to return the loss value for storing or for backprop\n",
    "      loss = criterion(prediction,transform_label(label,K=K)).item()\n",
    "    else:\n",
    "      loss = criterion(prediction,transform_label(label,K=K))\n",
    "    return loss\n",
    "\n",
    "def training(model, omni, lr_k, k, K):\n",
    "    # Create new model which we will train on\n",
    "    new_model = copy_existing_model(model)\n",
    "    # Define new optimizer\n",
    "    koptimizer = torch.optim.SGD(new_model.parameters(), lr=lr_k)\n",
    "    # Update the model multiple times, note that k>1 (do not confuse k with K)\n",
    "    for i in range(k):\n",
    "        # Reset optimizer\n",
    "        koptimizer.zero_grad()\n",
    "        # Evaluate the model\n",
    "        loss = evaluation(new_model, omni, K, item = False)\n",
    "        # Backpropagate\n",
    "        loss.backward()\n",
    "        koptimizer.step()\n",
    "    return new_model"
   ]
  },
  {
   "cell_type": "markdown",
   "id": "-4Ps8P2IRCmF",
   "metadata": {
    "id": "-4Ps8P2IRCmF"
   },
   "source": [
    "<h1> Reptile"
   ]
  },
  {
   "cell_type": "code",
   "execution_count": 10,
   "id": "8ogpg_DHizlC",
   "metadata": {
    "id": "8ogpg_DHizlC"
   },
   "outputs": [],
   "source": [
    "#Define important variables\n",
    "epochs = 7000#int(1e4) # number of epochs \n",
    "lr_meta=0.001 # Learning rate for meta model (outer loop)\n",
    "printing_step=100 # how many epochs should we wait to print the loss\n",
    "lr_k=0.0005 # Internal learning rate\n",
    "k=5 # Number of internal updates for each task\n",
    "\n",
    "# Training loop\n",
    "K = 5 #Max is 20\n",
    "number_of_tasks = 964-193 #Max 964\n",
    "\n",
    "# Initializations\n",
    "initialization_to_store_meta_losses()\n",
    "model = Neural_Network()\n",
    "metaoptimizer = torch.optim.Adam(model.parameters(), lr=lr_meta,betas=(0, 0.999))"
   ]
  },
  {
   "cell_type": "code",
   "execution_count": null,
   "id": "-4-zQWWKFt3s",
   "metadata": {
    "colab": {
     "base_uri": "https://localhost:8080/",
     "height": 436
    },
    "id": "-4-zQWWKFt3s",
    "outputId": "b8a68158-2bb7-4565-86cc-ae188d2dda13"
   },
   "outputs": [
    {
     "name": "stdout",
     "output_type": "stream",
     "text": [
      "Epochh : 0, Average Train Meta Loss : 0.008463156664886085, Average Test Meta Loss : 0.009050192490080924\n",
      "Epochh : 100, Average Train Meta Loss : 0.008420659048631247, Average Test Meta Loss : 0.008994645648602131\n",
      "Epochh : 200, Average Train Meta Loss : 0.008372159375620511, Average Test Meta Loss : 0.008976492328458338\n",
      "Epochh : 300, Average Train Meta Loss : 0.008305799502492201, Average Test Meta Loss : 0.008963978873446366\n",
      "Epochh : 400, Average Train Meta Loss : 0.008267309670242471, Average Test Meta Loss : 0.008953125011722046\n",
      "Epochh : 500, Average Train Meta Loss : 0.008234281941966385, Average Test Meta Loss : 0.008939067293488728\n",
      "Epochh : 600, Average Train Meta Loss : 0.008210699730787521, Average Test Meta Loss : 0.008935998717935472\n",
      "Epochh : 700, Average Train Meta Loss : 0.00816648331770399, Average Test Meta Loss : 0.008947523981274977\n",
      "Epochh : 800, Average Train Meta Loss : 0.008137629337260406, Average Test Meta Loss : 0.008963415029749027\n",
      "Epochh : 900, Average Train Meta Loss : 0.008107736237322125, Average Test Meta Loss : 0.008979217680965478\n",
      "Epochh : 1000, Average Train Meta Loss : 0.008070221813044176, Average Test Meta Loss : 0.009008054924534506\n",
      "Epochh : 1100, Average Train Meta Loss : 0.008037435513584924, Average Test Meta Loss : 0.0090321002223696\n",
      "Epochh : 1200, Average Train Meta Loss : 0.007995930206103449, Average Test Meta Loss : 0.009061689725975507\n",
      "Epochh : 1300, Average Train Meta Loss : 0.007970464739840102, Average Test Meta Loss : 0.009084240274573836\n",
      "Epochh : 1400, Average Train Meta Loss : 0.007937720366379237, Average Test Meta Loss : 0.009109393250554905\n",
      "Epochh : 1500, Average Train Meta Loss : 0.007900218553417786, Average Test Meta Loss : 0.009137913985949146\n",
      "Epochh : 1600, Average Train Meta Loss : 0.007862204863779145, Average Test Meta Loss : 0.009163015389320593\n",
      "Epochh : 1700, Average Train Meta Loss : 0.007826678512829425, Average Test Meta Loss : 0.009196278229420912\n",
      "Epochh : 1800, Average Train Meta Loss : 0.007794045587654798, Average Test Meta Loss : 0.009229196521678496\n",
      "Epochh : 1900, Average Train Meta Loss : 0.007759133696062378, Average Test Meta Loss : 0.009259470215373343\n",
      "Epochh : 2000, Average Train Meta Loss : 0.007722354177241735, Average Test Meta Loss : 0.009289378389520458\n",
      "Epochh : 2100, Average Train Meta Loss : 0.007682366817834749, Average Test Meta Loss : 0.009326656306056495\n",
      "Epochh : 2200, Average Train Meta Loss : 0.007637243561687008, Average Test Meta Loss : 0.00936889118762395\n",
      "Epochh : 2300, Average Train Meta Loss : 0.007585967804190854, Average Test Meta Loss : 0.009412041221196963\n",
      "Epochh : 2400, Average Train Meta Loss : 0.007536863411907542, Average Test Meta Loss : 0.009455994470122867\n",
      "Epochh : 2500, Average Train Meta Loss : 0.007496046221176084, Average Test Meta Loss : 0.00949153989763293\n",
      "Epochh : 2600, Average Train Meta Loss : 0.007456862570193879, Average Test Meta Loss : 0.009528089030834155\n",
      "Epochh : 2700, Average Train Meta Loss : 0.007414871310329738, Average Test Meta Loss : 0.009564687284409058\n",
      "Epochh : 2800, Average Train Meta Loss : 0.007375829077204195, Average Test Meta Loss : 0.009604178333869898\n",
      "Epochh : 2900, Average Train Meta Loss : 0.0073248277119938605, Average Test Meta Loss : 0.009647583549451985\n",
      "Epochh : 3000, Average Train Meta Loss : 0.007283964276788523, Average Test Meta Loss : 0.009690687217090281\n",
      "Epochh : 3100, Average Train Meta Loss : 0.007240448951475741, Average Test Meta Loss : 0.00972581972759626\n",
      "Epochh : 3200, Average Train Meta Loss : 0.007186443330385258, Average Test Meta Loss : 0.009770927754102737\n",
      "Epochh : 3300, Average Train Meta Loss : 0.00714610453115526, Average Test Meta Loss : 0.009809989053023202\n",
      "Epochh : 3400, Average Train Meta Loss : 0.0070966046519054075, Average Test Meta Loss : 0.009858128022870404\n",
      "Epochh : 3500, Average Train Meta Loss : 0.007046472105555678, Average Test Meta Loss : 0.00990026182383226\n",
      "Epochh : 3600, Average Train Meta Loss : 0.0070044434009170434, Average Test Meta Loss : 0.009938008538572934\n",
      "Epochh : 3700, Average Train Meta Loss : 0.006959647602136551, Average Test Meta Loss : 0.009971637972998616\n",
      "Epochh : 3800, Average Train Meta Loss : 0.0069101100748339625, Average Test Meta Loss : 0.01001167654380878\n",
      "Epochh : 3900, Average Train Meta Loss : 0.0068587252989339795, Average Test Meta Loss : 0.010050736157330221\n",
      "Epochh : 4000, Average Train Meta Loss : 0.006811119569884005, Average Test Meta Loss : 0.010090391603163525\n",
      "Epochh : 4100, Average Train Meta Loss : 0.0067608502605154405, Average Test Meta Loss : 0.010126928067540697\n",
      "Epochh : 4200, Average Train Meta Loss : 0.0067149376410333295, Average Test Meta Loss : 0.010163441959066103\n",
      "Epochh : 4300, Average Train Meta Loss : 0.0066782537440720335, Average Test Meta Loss : 0.010194996128414617\n",
      "Epochh : 4400, Average Train Meta Loss : 0.006635589207120163, Average Test Meta Loss : 0.010231771136752218\n",
      "Epochh : 4500, Average Train Meta Loss : 0.006580132843075534, Average Test Meta Loss : 0.010270160651077841\n",
      "Epochh : 4600, Average Train Meta Loss : 0.0065399263672581845, Average Test Meta Loss : 0.010304311801901809\n",
      "Epochh : 4700, Average Train Meta Loss : 0.006488689877241411, Average Test Meta Loss : 0.010340196266453407\n",
      "Epochh : 4800, Average Train Meta Loss : 0.0064390551074591205, Average Test Meta Loss : 0.01038293385441664\n",
      "Epochh : 4900, Average Train Meta Loss : 0.00639244772240029, Average Test Meta Loss : 0.01042027862603074\n",
      "Epochh : 5000, Average Train Meta Loss : 0.006350597677692919, Average Test Meta Loss : 0.01045460119296254\n",
      "Epochh : 5100, Average Train Meta Loss : 0.006299488269764871, Average Test Meta Loss : 0.010492645971029132\n",
      "Epochh : 5200, Average Train Meta Loss : 0.006256145842139937, Average Test Meta Loss : 0.010528521850546842\n",
      "Epochh : 5300, Average Train Meta Loss : 0.0062129807441598335, Average Test Meta Loss : 0.010568164268596799\n",
      "Epochh : 5400, Average Train Meta Loss : 0.006162824664878794, Average Test Meta Loss : 0.010608207417932232\n",
      "Epochh : 5500, Average Train Meta Loss : 0.006117598917205762, Average Test Meta Loss : 0.010644341787480284\n",
      "Epochh : 5600, Average Train Meta Loss : 0.006076385421489037, Average Test Meta Loss : 0.010674365018767548\n",
      "Epochh : 5700, Average Train Meta Loss : 0.006033993729498407, Average Test Meta Loss : 0.010707884309447604\n",
      "Epochh : 5800, Average Train Meta Loss : 0.005994015302092802, Average Test Meta Loss : 0.01073683912509119\n",
      "Epochh : 5900, Average Train Meta Loss : 0.005956688412567938, Average Test Meta Loss : 0.010765284843947225\n",
      "Epochh : 6000, Average Train Meta Loss : 0.005915183081127747, Average Test Meta Loss : 0.010790639901684962\n",
      "Epochh : 6100, Average Train Meta Loss : 0.005874698208604854, Average Test Meta Loss : 0.010822390583059074\n",
      "Epochh : 6200, Average Train Meta Loss : 0.0058276683945311745, Average Test Meta Loss : 0.01086076864656371\n",
      "Epochh : 6300, Average Train Meta Loss : 0.005787207229268236, Average Test Meta Loss : 0.01089374649588931\n",
      "Epochh : 6400, Average Train Meta Loss : 0.005752212385744397, Average Test Meta Loss : 0.010922852594984808\n",
      "Epochh : 6500, Average Train Meta Loss : 0.005710607397821776, Average Test Meta Loss : 0.010956226598977463\n"
     ]
    }
   ],
   "source": [
    "\n",
    "for epoch in range(epochs):\n",
    "        \n",
    "    # Sample a sine omni (Task from training data)\n",
    "    label = random.randint(0,number_of_tasks-1)\n",
    "    sampling = random.randint(0,15)\n",
    "    #need a random shuffle function\n",
    "    data = dataset_classes[f'{label}'][sampling:sampling+5,:,:,:]\n",
    "    omni = Omni()\n",
    "    omni.x = data\n",
    "    omni.y = label\n",
    "\n",
    "    # Update model predefined number of times based on k\n",
    "    new_model = training(model, omni, lr_k, k,K=K)\n",
    "\n",
    "    # Evalaute the loss for the training data\n",
    "    train_set_evaluation(new_model,omni,store_train_loss_meta,K=K)     \n",
    "    \n",
    "    #Meta-update --> Get gradient for meta loop and update\n",
    "    metaupdate(model,new_model,metaoptimizer)\n",
    "    \n",
    "    # Evalaute the loss for the test data\n",
    "    # Note that we need to sample the omni from the test data\n",
    "    # Sample a sine omni (Task from training data)\n",
    "    label = random.randint(number_of_tasks,963)\n",
    "    data = dataset_classes[f'{label}'][sampling:sampling+5,:,:,:]\n",
    "      \n",
    "    omni = Omni()\n",
    "    omni.x = data\n",
    "    omni.y = label\n",
    "\n",
    "\n",
    "    test_set_validation(model,new_model,omni,lr_k,k,store_test_loss_meta,K=K)\n",
    "\n",
    "    # Print losses every 'printing_step' epochs\n",
    "    print_losses(epoch,store_train_loss_meta,store_test_loss_meta,printing_step)"
   ]
  },
  {
   "cell_type": "code",
   "execution_count": null,
   "id": "4455Z3LWx9jG",
   "metadata": {
    "id": "4455Z3LWx9jG"
   },
   "outputs": [],
   "source": [
    "torch.save(model, 'reptile_classification')"
   ]
  },
  {
   "cell_type": "code",
   "execution_count": null,
   "id": "NZmTOUuKyG25",
   "metadata": {
    "id": "NZmTOUuKyG25"
   },
   "outputs": [],
   "source": [
    "# model = torch.load('reptile_classification')"
   ]
  },
  {
   "cell_type": "markdown",
   "id": "bQjoz6FYctJM",
   "metadata": {
    "id": "bQjoz6FYctJM"
   },
   "source": [
    "<h1> Few Shot learning with new meta-model"
   ]
  },
  {
   "cell_type": "markdown",
   "id": "m-SPUG5Bfpe9",
   "metadata": {
    "id": "m-SPUG5Bfpe9"
   },
   "source": [
    "The model performs good few shot learning"
   ]
  },
  {
   "cell_type": "code",
   "execution_count": null,
   "id": "GY84TNs8JXVH",
   "metadata": {
    "colab": {
     "base_uri": "https://localhost:8080/",
     "height": 296
    },
    "id": "GY84TNs8JXVH",
    "outputId": "c174c2d4-b83a-47c8-dadd-10a77b600447"
   },
   "outputs": [],
   "source": [
    "label = 963\n",
    "data = dataset_classes[f'{label}'][0:K,:,:,:]\n",
    "      \n",
    "omni = Omni()\n",
    "omni.x = data\n",
    "omni.y = label\n",
    "k_shot_updates = 5\n",
    "initialization_to_store_meta_losses()\n",
    "for shots in range(k_shot_updates):\n",
    "    new_model = training(model, omni, lr_k, shots,K)\n",
    "    train_set_evaluation(new_model,omni,store_train_loss_meta,K) \n",
    "\n",
    "plt.plot(store_train_loss_meta,label = 'Loss')\n",
    "plt.legend()\n",
    "plt.xlabel('k shots')"
   ]
  },
  {
   "cell_type": "code",
   "execution_count": null,
   "id": "963fef4a",
   "metadata": {},
   "outputs": [],
   "source": [
    "store_train_loss_meta[-1]"
   ]
  },
  {
   "cell_type": "code",
   "execution_count": null,
   "id": "B3HnhyvJRa_H",
   "metadata": {
    "colab": {
     "base_uri": "https://localhost:8080/"
    },
    "id": "B3HnhyvJRa_H",
    "outputId": "0bbec6f0-cdcb-473c-dcd3-6e6e9cf93e27"
   },
   "outputs": [],
   "source": [
    "new_model"
   ]
  },
  {
   "cell_type": "code",
   "execution_count": null,
   "id": "1-7gq-dsIM21",
   "metadata": {
    "id": "1-7gq-dsIM21"
   },
   "outputs": [],
   "source": []
  }
 ],
 "metadata": {
  "accelerator": "GPU",
  "colab": {
   "collapsed_sections": [],
   "name": "Reptile_classification_omniglot.ipynb",
   "provenance": []
  },
  "kernelspec": {
   "display_name": "Python 3",
   "language": "python",
   "name": "python3"
  },
  "language_info": {
   "codemirror_mode": {
    "name": "ipython",
    "version": 3
   },
   "file_extension": ".py",
   "mimetype": "text/x-python",
   "name": "python",
   "nbconvert_exporter": "python",
   "pygments_lexer": "ipython3",
   "version": "3.8.8"
  }
 },
 "nbformat": 4,
 "nbformat_minor": 5
}
