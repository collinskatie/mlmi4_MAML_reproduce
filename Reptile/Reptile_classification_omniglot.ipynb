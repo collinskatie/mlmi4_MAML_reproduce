{
  "cells": [
    {
      "cell_type": "markdown",
      "source": [
        "<h1> Imports"
      ],
      "metadata": {
        "id": "UrjQGgr5nUHC"
      },
      "id": "UrjQGgr5nUHC"
    },
    {
      "cell_type": "code",
      "source": [
        "import matplotlib.pyplot as plt\n",
        "import numpy as np\n",
        "\n",
        "# Required imports for neural network\n",
        "import torch.nn as nn\n",
        "import torch\n",
        "from torch.autograd import Variable\n",
        "import random\n",
        "import torchvision\n"
      ],
      "metadata": {
        "id": "eGl9mcc0nOMP"
      },
      "id": "eGl9mcc0nOMP",
      "execution_count": 2,
      "outputs": []
    },
    {
      "cell_type": "markdown",
      "source": [
        "<h1> Data Loading and Generation"
      ],
      "metadata": {
        "id": "T3KVOwFXFOY0"
      },
      "id": "T3KVOwFXFOY0"
    },
    {
      "cell_type": "markdown",
      "source": [
        "Omniglot dataset\n",
        "\n",
        "Note this omniglot dataset has just 1000 images in the paper they report using 1200 for training"
      ],
      "metadata": {
        "id": "9nDo1jnW4wo4"
      },
      "id": "9nDo1jnW4wo4"
    },
    {
      "cell_type": "code",
      "source": [
        "# Import omniglot dataset\n",
        "dataset = torchvision.datasets.Omniglot(\n",
        "    root=\"./data\", download=True, transform=torchvision.transforms.ToTensor()\n",
        ")"
      ],
      "metadata": {
        "colab": {
          "base_uri": "https://localhost:8080/"
        },
        "id": "AqnEGwSRnOgX",
        "outputId": "91e4aa46-b7a6-4184-a22c-2446bda6d420"
      },
      "id": "AqnEGwSRnOgX",
      "execution_count": 3,
      "outputs": [
        {
          "output_type": "stream",
          "name": "stdout",
          "text": [
            "Files already downloaded and verified\n"
          ]
        }
      ]
    },
    {
      "cell_type": "code",
      "source": [
        "# Create dictionary for all classes there is 50\n",
        "dataset_classes={}\n",
        "for i in range(len(dataset)):\n",
        "  image, label = dataset[i]\n",
        "  try:\n",
        "    dataset_classes[f'{label}']= torch.cat((dataset_classes[f'{label}'],image[None,:,:,:]))\n",
        "  except:\n",
        "    dataset_classes[f'{label}']=image[None,:,:,:]\n",
        "\n",
        "  "
      ],
      "metadata": {
        "id": "HEkrsJBool3Q"
      },
      "id": "HEkrsJBool3Q",
      "execution_count": 23,
      "outputs": []
    },
    {
      "cell_type": "code",
      "source": [
        "class Omni:\n",
        "  x = []\n",
        "  y = []"
      ],
      "metadata": {
        "id": "bfYGR92aDqui"
      },
      "id": "bfYGR92aDqui",
      "execution_count": 24,
      "outputs": []
    },
    {
      "cell_type": "code",
      "source": [
        "# number_of_classes = 964 #Define how money classes to train on, max is 50\n",
        "\n",
        "# # Create empty lists\n",
        "# dataset_list_train = []\n",
        "# dataset_list_train_label = []\n",
        "# dataset_list_test = []\n",
        "# dataset_list_test_label = []\n",
        "\n",
        "# # Extract traning data\n",
        "# for label in range(number_of_classes):\n",
        "#   for j in range(len(dataset_classes[f'{label}'])-1):\n",
        "#     dataset_list_train.append(dataset_classes[f'{label}'][j])\n",
        "#     dataset_list_train_label.append(label)\n",
        "\n",
        "# # Shuffle training data and labels\n",
        "# zip_train_for_shuffling = list(zip(dataset_list_train,dataset_list_train_label))\n",
        "# random.shuffle(zip_train_for_shuffling)\n",
        "# dataset_list_train,dataset_list_train_label = zip(*zip_train_for_shuffling)\n",
        "\n",
        "# # Extr<ct test data\n",
        "# for label in range(number_of_classes):\n",
        "#   dataset_list_test.append(dataset_classes[f'{label}'][-1])\n",
        "#   dataset_list_test_label.append(label)\n",
        "\n",
        "# # Shuffle test data and labels\n",
        "# zip_test_for_shuffling = list(zip(dataset_list_test,dataset_list_test_label))\n",
        "# random.shuffle(zip_test_for_shuffling)\n",
        "# dataset_list_test,dataset_list_test_label = zip(*zip_test_for_shuffling)\n",
        "\n",
        "# OMNI_TRAIN=[]\n",
        "# for _ in range(len(dataset_list_train_label)):\n",
        "#   OMNI_TRAIN.append(Omni())\n",
        "\n",
        "# OMNI_TEST=[]\n",
        "# for _ in range(len(dataset_list_test_label)):\n",
        "#   OMNI_TEST.append(Omni())\n",
        "\n",
        "# for i in range(len(dataset_list_train_label)):\n",
        "#   OMNI_TRAIN[i].x = dataset_list_train[i][None,:,:,:]\n",
        "#   OMNI_TRAIN[i].y = dataset_list_train_label[i]\n",
        "\n",
        "# for i in range(len(dataset_list_test_label)):\n",
        "#   OMNI_TEST[i].x = dataset_list_test[i][None,:,:,:]\n",
        "#   OMNI_TEST[i].y = dataset_list_test_label[i]\n",
        "\n"
      ],
      "metadata": {
        "id": "vzxOBfUN3Q24"
      },
      "id": "vzxOBfUN3Q24",
      "execution_count": 25,
      "outputs": []
    },
    {
      "cell_type": "markdown",
      "source": [
        "<h1> Neural Network Model"
      ],
      "metadata": {
        "id": "cu4urLF7Q88A"
      },
      "id": "cu4urLF7Q88A"
    },
    {
      "cell_type": "code",
      "source": [
        "# Define network\n",
        "class Neural_Network(nn.Module):\n",
        "    def __init__(self, input_size=1, hidden_size=64, output_size=964):\n",
        "        super(Neural_Network, self).__init__()\n",
        "        # network layers\n",
        "        self.hidden1 = nn.Conv2d(input_size,hidden_size,kernel_size=3)\n",
        "        self.hidden2 = nn.Conv2d(hidden_size,hidden_size,kernel_size=3)\n",
        "        self.hidden3 = nn.Conv2d(hidden_size,hidden_size,kernel_size=3)\n",
        "        self.hidden4 = nn.Conv2d(hidden_size,hidden_size,kernel_size=3)\n",
        "        self.batchnorm = nn.BatchNorm2d(hidden_size)\n",
        "        self.maxpool = nn.MaxPool2d(kernel_size=2)\n",
        "        self.flatten = nn.Flatten()\n",
        "        self.linear = nn.Linear(1024,output_size)\n",
        "\n",
        "        #Activation functions\n",
        "        self.relu = nn.ReLU()\n",
        "        self.softmax = nn.Softmax(dim=-1)\n",
        "\n",
        "\n",
        "\n",
        "        \n",
        "    def forward(self, x):\n",
        "\n",
        "        # Convolutional part\n",
        "        x = self.hidden1(x)\n",
        "        x = self.batchnorm(x)\n",
        "        x = self.maxpool(x)\n",
        "        x = self.relu(x)\n",
        "        x = self.hidden2(x)\n",
        "        x = self.batchnorm(x)\n",
        "        x = self.maxpool(x)\n",
        "        x = self.relu(x)\n",
        "        x = self.hidden3(x)\n",
        "        x = self.batchnorm(x)\n",
        "        x = self.maxpool(x)\n",
        "        x = self.relu(x)\n",
        "        x = self.hidden4(x)\n",
        "        x = self.batchnorm(x)\n",
        "        x = self.maxpool(x)\n",
        "        x = self.relu(x)\n",
        "\n",
        "        # Fully-connected part\n",
        "        x = self.flatten(x)\n",
        "        x = self.linear(x)\n",
        "        x = self.softmax(x)\n",
        "\n",
        "        return x\n"
      ],
      "metadata": {
        "id": "R1B0YTz6ytyN"
      },
      "id": "R1B0YTz6ytyN",
      "execution_count": 26,
      "outputs": []
    },
    {
      "cell_type": "markdown",
      "source": [
        "<h1> Helper functions"
      ],
      "metadata": {
        "id": "G-ExWACxQ3mt"
      },
      "id": "G-ExWACxQ3mt"
    },
    {
      "cell_type": "code",
      "source": [
        "# The Minimum Square Error is used to evaluate the difference between prediction and ground truth\n",
        "criterion = nn.BCELoss()\n",
        "\n",
        "def transform_label(label,K=5):\n",
        "    label_tensor=torch.zeros((1,number_of_tasks))\n",
        "    label_tensor[:,label]=1\n",
        "\n",
        "    return label_tensor.repeat(K, 1).float()\n",
        "\n",
        "def copy_existing_model(model):\n",
        "    # Function to copy an existing model\n",
        "    # We initialize a new model\n",
        "    new_model = Neural_Network(output_size=number_of_tasks)\n",
        "    # Copy the previous model's parameters into the new model\n",
        "    new_model.load_state_dict(model.state_dict())\n",
        "    return new_model\n",
        "\n",
        "def initialization_to_store_meta_losses():\n",
        "  # This function creates lists to store the meta losses\n",
        "  global store_train_loss_meta; store_train_loss_meta = []\n",
        "  global store_test_loss_meta; store_test_loss_meta = []\n",
        "\n",
        "def test_set_validation(model,new_model,omni,lr_inner,k,store_test_loss_meta,K=1):\n",
        "    # This functions does not actually affect the main algorithm, it is just used to evaluate the new model\n",
        "    new_model = training(model, omni, lr_inner, k,K)\n",
        "    # Obtain the loss\n",
        "    loss = evaluation(new_model, omni,K)\n",
        "    # Store loss\n",
        "    store_test_loss_meta.append(loss)\n",
        "\n",
        "def train_set_evaluation(new_model,omni,store_train_loss_meta,K):\n",
        "    loss = evaluation(new_model, omni,K)\n",
        "    store_train_loss_meta.append(loss) \n",
        "\n",
        "def print_losses(epoch,store_train_loss_meta,store_test_loss_meta,printing_step=1000):\n",
        "  if epoch % printing_step == 0:\n",
        "    print(f'Epochh : {epoch}, Average Train Meta Loss : {np.mean(store_train_loss_meta)}, Average Test Meta Loss : {np.mean(store_test_loss_meta)}')\n",
        "\n",
        "#This is based on the paper update rule, we calculate the difference between parameters and then this is used by the optimizer, rather than doing the update by hand\n",
        "def reptile_parameter_update(model,new_model):\n",
        "  # Zip models for the loop\n",
        "  zip_models = zip(model.parameters(), new_model.parameters())\n",
        "  for parameter, new_parameter in zip_models:\n",
        "    if parameter.grad is None:\n",
        "      parameter.grad = torch.tensor(torch.zeros_like(parameter))\n",
        "    # Here we are adding the gradient that will later be used by the optimizer\n",
        "    parameter.grad.data.add_(parameter.data - new_parameter.data)\n",
        "\n",
        "# Define commands in order needed for the metaupdate\n",
        "# Note that if we change the order it doesn't behave the same\n",
        "def metaoptimizer_update(metaoptimizer):\n",
        "  # Take step\n",
        "  metaoptimizer.step()\n",
        "  # Reset gradients\n",
        "  metaoptimizer.zero_grad()\n",
        "\n",
        "def metaupdate(model,new_model,metaoptimizer):\n",
        "  # Combine the two previous functions into a single metaupdate function\n",
        "  # First we calculate the gradients\n",
        "  reptile_parameter_update(model,new_model)\n",
        "  # Use those gradients in the optimizer\n",
        "  metaoptimizer_update(metaoptimizer)\n",
        "\n",
        "def evaluation(new_model, omni, K, item = True):\n",
        "    # Get data\n",
        "    x, label = omni.x,omni.y\n",
        "    # Make model prediction\n",
        "    prediction = new_model(x)\n",
        "    # Get loss\n",
        "    if item == True: #Depending on whether we need to return the loss value for storing or for backprop\n",
        "      loss = criterion(prediction,transform_label(label,K=K)).item()\n",
        "    else:\n",
        "      loss = criterion(prediction,transform_label(label,K=K))\n",
        "    return loss\n",
        "\n",
        "def training(model, omni, lr_k, k, K):\n",
        "    # Create new model which we will train on\n",
        "    new_model = copy_existing_model(model)\n",
        "    # Define new optimizer\n",
        "    koptimizer = torch.optim.SGD(new_model.parameters(), lr=lr_k)\n",
        "    # Update the model multiple times, note that k>1 (do not confuse k with K)\n",
        "    for i in range(k):\n",
        "        # Reset optimizer\n",
        "        koptimizer.zero_grad()\n",
        "        # Evaluate the model\n",
        "        loss = evaluation(new_model, omni, K, item = False)\n",
        "        # Backpropagate\n",
        "        loss.backward()\n",
        "        koptimizer.step()\n",
        "    return new_model"
      ],
      "metadata": {
        "id": "1zyNHFXdOnug"
      },
      "id": "1zyNHFXdOnug",
      "execution_count": 27,
      "outputs": []
    },
    {
      "cell_type": "markdown",
      "source": [
        "<h1> Reptile"
      ],
      "metadata": {
        "id": "-4Ps8P2IRCmF"
      },
      "id": "-4Ps8P2IRCmF"
    },
    {
      "cell_type": "code",
      "source": [
        "#Define important variables\n",
        "epochs = int(1e5) # number of epochs \n",
        "lr_meta=0.001 # Learning rate for meta model (outer loop)\n",
        "printing_step=10 # how many epochs should we wait to print the loss\n",
        "lr_k=0.0005 # Internal learning rate\n",
        "k=3 # Number of internal updates for each task\n",
        "\n",
        "# Training loop\n",
        "K = 20 #Max is 20\n",
        "number_of_tasks = 20 #Max 964\n",
        "\n",
        "# Initializations\n",
        "initialization_to_store_meta_losses()\n",
        "model = Neural_Network(output_size=number_of_tasks)\n",
        "metaoptimizer = torch.optim.Adam(model.parameters(), lr=lr_meta,betas=(0, 0.999))"
      ],
      "metadata": {
        "id": "8ogpg_DHizlC"
      },
      "id": "8ogpg_DHizlC",
      "execution_count": 37,
      "outputs": []
    },
    {
      "cell_type": "code",
      "source": [
        "\n",
        "for epoch in range(epochs):\n",
        "        \n",
        "    # Sample a sine omni (Task from training data)\n",
        "    label = random.randint(0,number_of_tasks-1)\n",
        "    #need a random shuffle function\n",
        "    data = dataset_classes[f'{label}'][0:K,:,:,:]\n",
        "    omni = Omni()\n",
        "    omni.x = data\n",
        "    omni.y = label\n",
        "\n",
        "    # Update model predefined number of times based on k\n",
        "    new_model = training(model, omni, lr_k, k,K=K)\n",
        "\n",
        "    # Evalaute the loss for the training data\n",
        "    train_set_evaluation(new_model,omni,store_train_loss_meta,K=K)     \n",
        "    \n",
        "    #Meta-update --> Get gradient for meta loop and update\n",
        "    metaupdate(model,new_model,metaoptimizer)\n",
        "    \n",
        "    # Evalaute the loss for the test data\n",
        "    # Note that we need to sample the omni from the test data\n",
        "    # Sample a sine omni (Task from training data)\n",
        "    label = random.randint(0,number_of_tasks-1)\n",
        "    data = dataset_classes[f'{label}'][0,:,:,:][None,:,:,:]\n",
        "      \n",
        "    omni = Omni()\n",
        "    omni.x = data\n",
        "    omni.y = label\n",
        "\n",
        "\n",
        "    test_set_validation(model,new_model,omni,lr_k,k,store_test_loss_meta,K=1)\n",
        "\n",
        "    # Print losses every 'printing_step' epochs\n",
        "    print_losses(epoch,store_train_loss_meta,store_test_loss_meta,printing_step)"
      ],
      "metadata": {
        "colab": {
          "base_uri": "https://localhost:8080/",
          "height": 1000
        },
        "id": "-4-zQWWKFt3s",
        "outputId": "8a16877d-f6ed-4cb5-c1ed-1e7995ad5169"
      },
      "id": "-4-zQWWKFt3s",
      "execution_count": 38,
      "outputs": [
        {
          "output_type": "stream",
          "name": "stderr",
          "text": [
            "/usr/local/lib/python3.7/dist-packages/ipykernel_launcher.py:45: UserWarning: To copy construct from a tensor, it is recommended to use sourceTensor.clone().detach() or sourceTensor.clone().detach().requires_grad_(True), rather than torch.tensor(sourceTensor).\n"
          ]
        },
        {
          "output_type": "stream",
          "name": "stdout",
          "text": [
            "Epochh : 0, Average Train Meta Loss : 0.16319586336612701, Average Test Meta Loss : 0.19966642558574677\n",
            "Epochh : 10, Average Train Meta Loss : 0.247772678732872, Average Test Meta Loss : 0.21417584812099283\n",
            "Epochh : 20, Average Train Meta Loss : 0.2260817326161833, Average Test Meta Loss : 0.22723884295139993\n",
            "Epochh : 30, Average Train Meta Loss : 0.22782214595786027, Average Test Meta Loss : 0.219878239737403\n",
            "Epochh : 40, Average Train Meta Loss : 0.22405931396727882, Average Test Meta Loss : 0.20866878367051844\n",
            "Epochh : 50, Average Train Meta Loss : 0.22236560568140418, Average Test Meta Loss : 0.20393037489231894\n",
            "Epochh : 60, Average Train Meta Loss : 0.21729641131384939, Average Test Meta Loss : 0.20549485001896248\n",
            "Epochh : 70, Average Train Meta Loss : 0.2122869021849523, Average Test Meta Loss : 0.202840551576564\n",
            "Epochh : 80, Average Train Meta Loss : 0.20423819985884575, Average Test Meta Loss : 0.1979321349458194\n",
            "Epochh : 90, Average Train Meta Loss : 0.20108444707283935, Average Test Meta Loss : 0.19397319001810892\n",
            "Epochh : 100, Average Train Meta Loss : 0.19994947680336708, Average Test Meta Loss : 0.18571249336594403\n",
            "Epochh : 110, Average Train Meta Loss : 0.19490052173165856, Average Test Meta Loss : 0.1824805363005883\n",
            "Epochh : 120, Average Train Meta Loss : 0.19171331432640307, Average Test Meta Loss : 0.17810020192472403\n",
            "Epochh : 130, Average Train Meta Loss : 0.18790518131306153, Average Test Meta Loss : 0.17816735468520464\n",
            "Epochh : 140, Average Train Meta Loss : 0.18474504399172803, Average Test Meta Loss : 0.17705817636868632\n",
            "Epochh : 150, Average Train Meta Loss : 0.18131988394438037, Average Test Meta Loss : 0.1702008998601247\n",
            "Epochh : 160, Average Train Meta Loss : 0.17883896885543876, Average Test Meta Loss : 0.16698812853012765\n",
            "Epochh : 170, Average Train Meta Loss : 0.17502605700484145, Average Test Meta Loss : 0.16346084404932826\n",
            "Epochh : 180, Average Train Meta Loss : 0.1717771471514063, Average Test Meta Loss : 0.16105013270733765\n",
            "Epochh : 190, Average Train Meta Loss : 0.16747864520089475, Average Test Meta Loss : 0.15755026317469736\n",
            "Epochh : 200, Average Train Meta Loss : 0.16456540003048248, Average Test Meta Loss : 0.15514864652088625\n",
            "Epochh : 210, Average Train Meta Loss : 0.16259824370709358, Average Test Meta Loss : 0.15193857637485622\n",
            "Epochh : 220, Average Train Meta Loss : 0.15780615887280167, Average Test Meta Loss : 0.1475853238621415\n",
            "Epochh : 230, Average Train Meta Loss : 0.15509830882724424, Average Test Meta Loss : 0.14478963006940948\n",
            "Epochh : 240, Average Train Meta Loss : 0.15194310644000028, Average Test Meta Loss : 0.14169841052150872\n",
            "Epochh : 250, Average Train Meta Loss : 0.14922186173869675, Average Test Meta Loss : 0.13899498050652104\n",
            "Epochh : 260, Average Train Meta Loss : 0.14627701372543342, Average Test Meta Loss : 0.1369142956631187\n",
            "Epochh : 270, Average Train Meta Loss : 0.14392709667619139, Average Test Meta Loss : 0.13443010040761635\n",
            "Epochh : 280, Average Train Meta Loss : 0.14070716054341176, Average Test Meta Loss : 0.1310481596622099\n",
            "Epochh : 290, Average Train Meta Loss : 0.1373243750844317, Average Test Meta Loss : 0.12864266714829067\n",
            "Epochh : 300, Average Train Meta Loss : 0.1338171400941995, Average Test Meta Loss : 0.12632046610046763\n",
            "Epochh : 310, Average Train Meta Loss : 0.13119321469879347, Average Test Meta Loss : 0.12389091287060736\n",
            "Epochh : 320, Average Train Meta Loss : 0.12803413043149697, Average Test Meta Loss : 0.1217891442511217\n",
            "Epochh : 330, Average Train Meta Loss : 0.12585432727622808, Average Test Meta Loss : 0.12050306569424203\n",
            "Epochh : 340, Average Train Meta Loss : 0.12332178253640866, Average Test Meta Loss : 0.11813261428366714\n",
            "Epochh : 350, Average Train Meta Loss : 0.12059316300737945, Average Test Meta Loss : 0.11608467637484149\n",
            "Epochh : 360, Average Train Meta Loss : 0.11859607635552213, Average Test Meta Loss : 0.11347286941555691\n",
            "Epochh : 370, Average Train Meta Loss : 0.11600066398708477, Average Test Meta Loss : 0.11072693898331097\n",
            "Epochh : 380, Average Train Meta Loss : 0.11349634530561734, Average Test Meta Loss : 0.10888649007375627\n",
            "Epochh : 390, Average Train Meta Loss : 0.11127590817426715, Average Test Meta Loss : 0.10672482407646333\n",
            "Epochh : 400, Average Train Meta Loss : 0.109101997985983, Average Test Meta Loss : 0.10429590661902453\n",
            "Epochh : 410, Average Train Meta Loss : 0.10718128232000998, Average Test Meta Loss : 0.10229129060958268\n",
            "Epochh : 420, Average Train Meta Loss : 0.10505055516516909, Average Test Meta Loss : 0.10017472244737612\n",
            "Epochh : 430, Average Train Meta Loss : 0.1029608638068767, Average Test Meta Loss : 0.09817083242152555\n",
            "Epochh : 440, Average Train Meta Loss : 0.10092513218071722, Average Test Meta Loss : 0.0961959701883245\n",
            "Epochh : 450, Average Train Meta Loss : 0.0988596518034324, Average Test Meta Loss : 0.09433179345483837\n",
            "Epochh : 460, Average Train Meta Loss : 0.0970555296559907, Average Test Meta Loss : 0.09301747531676059\n",
            "Epochh : 470, Average Train Meta Loss : 0.09524754205540183, Average Test Meta Loss : 0.09204228579723167\n",
            "Epochh : 480, Average Train Meta Loss : 0.09355029070073653, Average Test Meta Loss : 0.09047093383012836\n",
            "Epochh : 490, Average Train Meta Loss : 0.09172266694447291, Average Test Meta Loss : 0.08874589915490708\n",
            "Epochh : 500, Average Train Meta Loss : 0.09006597298746297, Average Test Meta Loss : 0.08713583243911353\n",
            "Epochh : 510, Average Train Meta Loss : 0.08845846866083891, Average Test Meta Loss : 0.08559527435137684\n"
          ]
        },
        {
          "output_type": "error",
          "ename": "KeyboardInterrupt",
          "evalue": "ignored",
          "traceback": [
            "\u001b[0;31m---------------------------------------------------------------------------\u001b[0m",
            "\u001b[0;31mKeyboardInterrupt\u001b[0m                         Traceback (most recent call last)",
            "\u001b[0;32m<ipython-input-38-0f3425f94624>\u001b[0m in \u001b[0;36m<module>\u001b[0;34m()\u001b[0m\n\u001b[1;32m     14\u001b[0m \u001b[0;34m\u001b[0m\u001b[0m\n\u001b[1;32m     15\u001b[0m     \u001b[0;31m# Evalaute the loss for the training data\u001b[0m\u001b[0;34m\u001b[0m\u001b[0;34m\u001b[0m\u001b[0;34m\u001b[0m\u001b[0m\n\u001b[0;32m---> 16\u001b[0;31m     \u001b[0mtrain_set_evaluation\u001b[0m\u001b[0;34m(\u001b[0m\u001b[0mnew_model\u001b[0m\u001b[0;34m,\u001b[0m\u001b[0momni\u001b[0m\u001b[0;34m,\u001b[0m\u001b[0mstore_train_loss_meta\u001b[0m\u001b[0;34m,\u001b[0m\u001b[0mK\u001b[0m\u001b[0;34m=\u001b[0m\u001b[0mK\u001b[0m\u001b[0;34m)\u001b[0m\u001b[0;34m\u001b[0m\u001b[0;34m\u001b[0m\u001b[0m\n\u001b[0m\u001b[1;32m     17\u001b[0m \u001b[0;34m\u001b[0m\u001b[0m\n\u001b[1;32m     18\u001b[0m     \u001b[0;31m#Meta-update --> Get gradient for meta loop and update\u001b[0m\u001b[0;34m\u001b[0m\u001b[0;34m\u001b[0m\u001b[0;34m\u001b[0m\u001b[0m\n",
            "\u001b[0;32m<ipython-input-27-ecdd748a8ec6>\u001b[0m in \u001b[0;36mtrain_set_evaluation\u001b[0;34m(new_model, omni, store_train_loss_meta, K)\u001b[0m\n\u001b[1;32m     30\u001b[0m \u001b[0;34m\u001b[0m\u001b[0m\n\u001b[1;32m     31\u001b[0m \u001b[0;32mdef\u001b[0m \u001b[0mtrain_set_evaluation\u001b[0m\u001b[0;34m(\u001b[0m\u001b[0mnew_model\u001b[0m\u001b[0;34m,\u001b[0m\u001b[0momni\u001b[0m\u001b[0;34m,\u001b[0m\u001b[0mstore_train_loss_meta\u001b[0m\u001b[0;34m,\u001b[0m\u001b[0mK\u001b[0m\u001b[0;34m)\u001b[0m\u001b[0;34m:\u001b[0m\u001b[0;34m\u001b[0m\u001b[0;34m\u001b[0m\u001b[0m\n\u001b[0;32m---> 32\u001b[0;31m     \u001b[0mloss\u001b[0m \u001b[0;34m=\u001b[0m \u001b[0mevaluation\u001b[0m\u001b[0;34m(\u001b[0m\u001b[0mnew_model\u001b[0m\u001b[0;34m,\u001b[0m \u001b[0momni\u001b[0m\u001b[0;34m,\u001b[0m\u001b[0mK\u001b[0m\u001b[0;34m)\u001b[0m\u001b[0;34m\u001b[0m\u001b[0;34m\u001b[0m\u001b[0m\n\u001b[0m\u001b[1;32m     33\u001b[0m     \u001b[0mstore_train_loss_meta\u001b[0m\u001b[0;34m.\u001b[0m\u001b[0mappend\u001b[0m\u001b[0;34m(\u001b[0m\u001b[0mloss\u001b[0m\u001b[0;34m)\u001b[0m\u001b[0;34m\u001b[0m\u001b[0;34m\u001b[0m\u001b[0m\n\u001b[1;32m     34\u001b[0m \u001b[0;34m\u001b[0m\u001b[0m\n",
            "\u001b[0;32m<ipython-input-27-ecdd748a8ec6>\u001b[0m in \u001b[0;36mevaluation\u001b[0;34m(new_model, omni, K, item)\u001b[0m\n\u001b[1;32m     66\u001b[0m     \u001b[0mx\u001b[0m\u001b[0;34m,\u001b[0m \u001b[0mlabel\u001b[0m \u001b[0;34m=\u001b[0m \u001b[0momni\u001b[0m\u001b[0;34m.\u001b[0m\u001b[0mx\u001b[0m\u001b[0;34m,\u001b[0m\u001b[0momni\u001b[0m\u001b[0;34m.\u001b[0m\u001b[0my\u001b[0m\u001b[0;34m\u001b[0m\u001b[0;34m\u001b[0m\u001b[0m\n\u001b[1;32m     67\u001b[0m     \u001b[0;31m# Make model prediction\u001b[0m\u001b[0;34m\u001b[0m\u001b[0;34m\u001b[0m\u001b[0;34m\u001b[0m\u001b[0m\n\u001b[0;32m---> 68\u001b[0;31m     \u001b[0mprediction\u001b[0m \u001b[0;34m=\u001b[0m \u001b[0mnew_model\u001b[0m\u001b[0;34m(\u001b[0m\u001b[0mx\u001b[0m\u001b[0;34m)\u001b[0m\u001b[0;34m\u001b[0m\u001b[0;34m\u001b[0m\u001b[0m\n\u001b[0m\u001b[1;32m     69\u001b[0m     \u001b[0;31m# Get loss\u001b[0m\u001b[0;34m\u001b[0m\u001b[0;34m\u001b[0m\u001b[0;34m\u001b[0m\u001b[0m\n\u001b[1;32m     70\u001b[0m     \u001b[0;32mif\u001b[0m \u001b[0mitem\u001b[0m \u001b[0;34m==\u001b[0m \u001b[0;32mTrue\u001b[0m\u001b[0;34m:\u001b[0m \u001b[0;31m#Depending on whether we need to return the loss value for storing or for backprop\u001b[0m\u001b[0;34m\u001b[0m\u001b[0;34m\u001b[0m\u001b[0m\n",
            "\u001b[0;32m/usr/local/lib/python3.7/dist-packages/torch/nn/modules/module.py\u001b[0m in \u001b[0;36m_call_impl\u001b[0;34m(self, *input, **kwargs)\u001b[0m\n\u001b[1;32m   1100\u001b[0m         if not (self._backward_hooks or self._forward_hooks or self._forward_pre_hooks or _global_backward_hooks\n\u001b[1;32m   1101\u001b[0m                 or _global_forward_hooks or _global_forward_pre_hooks):\n\u001b[0;32m-> 1102\u001b[0;31m             \u001b[0;32mreturn\u001b[0m \u001b[0mforward_call\u001b[0m\u001b[0;34m(\u001b[0m\u001b[0;34m*\u001b[0m\u001b[0minput\u001b[0m\u001b[0;34m,\u001b[0m \u001b[0;34m**\u001b[0m\u001b[0mkwargs\u001b[0m\u001b[0;34m)\u001b[0m\u001b[0;34m\u001b[0m\u001b[0;34m\u001b[0m\u001b[0m\n\u001b[0m\u001b[1;32m   1103\u001b[0m         \u001b[0;31m# Do not call functions when jit is used\u001b[0m\u001b[0;34m\u001b[0m\u001b[0;34m\u001b[0m\u001b[0;34m\u001b[0m\u001b[0m\n\u001b[1;32m   1104\u001b[0m         \u001b[0mfull_backward_hooks\u001b[0m\u001b[0;34m,\u001b[0m \u001b[0mnon_full_backward_hooks\u001b[0m \u001b[0;34m=\u001b[0m \u001b[0;34m[\u001b[0m\u001b[0;34m]\u001b[0m\u001b[0;34m,\u001b[0m \u001b[0;34m[\u001b[0m\u001b[0;34m]\u001b[0m\u001b[0;34m\u001b[0m\u001b[0;34m\u001b[0m\u001b[0m\n",
            "\u001b[0;32m<ipython-input-26-bc0a7a739b9f>\u001b[0m in \u001b[0;36mforward\u001b[0;34m(self, x)\u001b[0m\n\u001b[1;32m     31\u001b[0m         \u001b[0mx\u001b[0m \u001b[0;34m=\u001b[0m \u001b[0mself\u001b[0m\u001b[0;34m.\u001b[0m\u001b[0mmaxpool\u001b[0m\u001b[0;34m(\u001b[0m\u001b[0mx\u001b[0m\u001b[0;34m)\u001b[0m\u001b[0;34m\u001b[0m\u001b[0;34m\u001b[0m\u001b[0m\n\u001b[1;32m     32\u001b[0m         \u001b[0mx\u001b[0m \u001b[0;34m=\u001b[0m \u001b[0mself\u001b[0m\u001b[0;34m.\u001b[0m\u001b[0mrelu\u001b[0m\u001b[0;34m(\u001b[0m\u001b[0mx\u001b[0m\u001b[0;34m)\u001b[0m\u001b[0;34m\u001b[0m\u001b[0;34m\u001b[0m\u001b[0m\n\u001b[0;32m---> 33\u001b[0;31m         \u001b[0mx\u001b[0m \u001b[0;34m=\u001b[0m \u001b[0mself\u001b[0m\u001b[0;34m.\u001b[0m\u001b[0mhidden3\u001b[0m\u001b[0;34m(\u001b[0m\u001b[0mx\u001b[0m\u001b[0;34m)\u001b[0m\u001b[0;34m\u001b[0m\u001b[0;34m\u001b[0m\u001b[0m\n\u001b[0m\u001b[1;32m     34\u001b[0m         \u001b[0mx\u001b[0m \u001b[0;34m=\u001b[0m \u001b[0mself\u001b[0m\u001b[0;34m.\u001b[0m\u001b[0mbatchnorm\u001b[0m\u001b[0;34m(\u001b[0m\u001b[0mx\u001b[0m\u001b[0;34m)\u001b[0m\u001b[0;34m\u001b[0m\u001b[0;34m\u001b[0m\u001b[0m\n\u001b[1;32m     35\u001b[0m         \u001b[0mx\u001b[0m \u001b[0;34m=\u001b[0m \u001b[0mself\u001b[0m\u001b[0;34m.\u001b[0m\u001b[0mmaxpool\u001b[0m\u001b[0;34m(\u001b[0m\u001b[0mx\u001b[0m\u001b[0;34m)\u001b[0m\u001b[0;34m\u001b[0m\u001b[0;34m\u001b[0m\u001b[0m\n",
            "\u001b[0;32m/usr/local/lib/python3.7/dist-packages/torch/nn/modules/module.py\u001b[0m in \u001b[0;36m_call_impl\u001b[0;34m(self, *input, **kwargs)\u001b[0m\n\u001b[1;32m   1100\u001b[0m         if not (self._backward_hooks or self._forward_hooks or self._forward_pre_hooks or _global_backward_hooks\n\u001b[1;32m   1101\u001b[0m                 or _global_forward_hooks or _global_forward_pre_hooks):\n\u001b[0;32m-> 1102\u001b[0;31m             \u001b[0;32mreturn\u001b[0m \u001b[0mforward_call\u001b[0m\u001b[0;34m(\u001b[0m\u001b[0;34m*\u001b[0m\u001b[0minput\u001b[0m\u001b[0;34m,\u001b[0m \u001b[0;34m**\u001b[0m\u001b[0mkwargs\u001b[0m\u001b[0;34m)\u001b[0m\u001b[0;34m\u001b[0m\u001b[0;34m\u001b[0m\u001b[0m\n\u001b[0m\u001b[1;32m   1103\u001b[0m         \u001b[0;31m# Do not call functions when jit is used\u001b[0m\u001b[0;34m\u001b[0m\u001b[0;34m\u001b[0m\u001b[0;34m\u001b[0m\u001b[0m\n\u001b[1;32m   1104\u001b[0m         \u001b[0mfull_backward_hooks\u001b[0m\u001b[0;34m,\u001b[0m \u001b[0mnon_full_backward_hooks\u001b[0m \u001b[0;34m=\u001b[0m \u001b[0;34m[\u001b[0m\u001b[0;34m]\u001b[0m\u001b[0;34m,\u001b[0m \u001b[0;34m[\u001b[0m\u001b[0;34m]\u001b[0m\u001b[0;34m\u001b[0m\u001b[0;34m\u001b[0m\u001b[0m\n",
            "\u001b[0;32m/usr/local/lib/python3.7/dist-packages/torch/nn/modules/conv.py\u001b[0m in \u001b[0;36mforward\u001b[0;34m(self, input)\u001b[0m\n\u001b[1;32m    444\u001b[0m \u001b[0;34m\u001b[0m\u001b[0m\n\u001b[1;32m    445\u001b[0m     \u001b[0;32mdef\u001b[0m \u001b[0mforward\u001b[0m\u001b[0;34m(\u001b[0m\u001b[0mself\u001b[0m\u001b[0;34m,\u001b[0m \u001b[0minput\u001b[0m\u001b[0;34m:\u001b[0m \u001b[0mTensor\u001b[0m\u001b[0;34m)\u001b[0m \u001b[0;34m->\u001b[0m \u001b[0mTensor\u001b[0m\u001b[0;34m:\u001b[0m\u001b[0;34m\u001b[0m\u001b[0;34m\u001b[0m\u001b[0m\n\u001b[0;32m--> 446\u001b[0;31m         \u001b[0;32mreturn\u001b[0m \u001b[0mself\u001b[0m\u001b[0;34m.\u001b[0m\u001b[0m_conv_forward\u001b[0m\u001b[0;34m(\u001b[0m\u001b[0minput\u001b[0m\u001b[0;34m,\u001b[0m \u001b[0mself\u001b[0m\u001b[0;34m.\u001b[0m\u001b[0mweight\u001b[0m\u001b[0;34m,\u001b[0m \u001b[0mself\u001b[0m\u001b[0;34m.\u001b[0m\u001b[0mbias\u001b[0m\u001b[0;34m)\u001b[0m\u001b[0;34m\u001b[0m\u001b[0;34m\u001b[0m\u001b[0m\n\u001b[0m\u001b[1;32m    447\u001b[0m \u001b[0;34m\u001b[0m\u001b[0m\n\u001b[1;32m    448\u001b[0m \u001b[0;32mclass\u001b[0m \u001b[0mConv3d\u001b[0m\u001b[0;34m(\u001b[0m\u001b[0m_ConvNd\u001b[0m\u001b[0;34m)\u001b[0m\u001b[0;34m:\u001b[0m\u001b[0;34m\u001b[0m\u001b[0;34m\u001b[0m\u001b[0m\n",
            "\u001b[0;32m/usr/local/lib/python3.7/dist-packages/torch/nn/modules/conv.py\u001b[0m in \u001b[0;36m_conv_forward\u001b[0;34m(self, input, weight, bias)\u001b[0m\n\u001b[1;32m    441\u001b[0m                             _pair(0), self.dilation, self.groups)\n\u001b[1;32m    442\u001b[0m         return F.conv2d(input, weight, bias, self.stride,\n\u001b[0;32m--> 443\u001b[0;31m                         self.padding, self.dilation, self.groups)\n\u001b[0m\u001b[1;32m    444\u001b[0m \u001b[0;34m\u001b[0m\u001b[0m\n\u001b[1;32m    445\u001b[0m     \u001b[0;32mdef\u001b[0m \u001b[0mforward\u001b[0m\u001b[0;34m(\u001b[0m\u001b[0mself\u001b[0m\u001b[0;34m,\u001b[0m \u001b[0minput\u001b[0m\u001b[0;34m:\u001b[0m \u001b[0mTensor\u001b[0m\u001b[0;34m)\u001b[0m \u001b[0;34m->\u001b[0m \u001b[0mTensor\u001b[0m\u001b[0;34m:\u001b[0m\u001b[0;34m\u001b[0m\u001b[0;34m\u001b[0m\u001b[0m\n",
            "\u001b[0;31mKeyboardInterrupt\u001b[0m: "
          ]
        }
      ]
    },
    {
      "cell_type": "markdown",
      "source": [
        "<h1> Few Shot learning with new meta-model"
      ],
      "metadata": {
        "id": "bQjoz6FYctJM"
      },
      "id": "bQjoz6FYctJM"
    },
    {
      "cell_type": "markdown",
      "source": [
        "The model performs good few shot learning"
      ],
      "metadata": {
        "id": "m-SPUG5Bfpe9"
      },
      "id": "m-SPUG5Bfpe9"
    },
    {
      "cell_type": "code",
      "source": [
        "label = random.randint(0,number_of_tasks-1)\n",
        "chosen = dataset_classes[f'{label}']\n",
        "data = random.choice(chosen)[None,:,:,:]\n",
        "omni = Omni()\n",
        "omni.x = data\n",
        "omni.y = label\n",
        "k_shot_updates = 5\n",
        "initialization_to_store_meta_losses()\n",
        "for shots in range(k_shot_updates):\n",
        "    new_model = training(model, omni, lr_k, shots,K=1)\n",
        "    train_set_evaluation(new_model,omni,store_train_loss_meta,K=1) \n",
        "\n",
        "plt.plot(store_train_loss_meta,label = 'Loss')\n",
        "plt.legend()\n",
        "plt.xlabel('k shots')"
      ],
      "metadata": {
        "colab": {
          "base_uri": "https://localhost:8080/",
          "height": 296
        },
        "id": "GY84TNs8JXVH",
        "outputId": "a39cb539-4148-4464-bae5-f1ccdc75457e"
      },
      "id": "GY84TNs8JXVH",
      "execution_count": 39,
      "outputs": [
        {
          "output_type": "execute_result",
          "data": {
            "text/plain": [
              "Text(0.5, 0, 'k shots')"
            ]
          },
          "metadata": {},
          "execution_count": 39
        },
        {
          "output_type": "display_data",
          "data": {
            "text/plain": [
              "<Figure size 432x288 with 1 Axes>"
            ],
            "image/png": "[encoded data removed]"
          },
          "metadata": {
            "needs_background": "light"
          }
        }
      ]
    },
    {
      "cell_type": "code",
      "source": [
        ""
      ],
      "metadata": {
        "id": "B3HnhyvJRa_H"
      },
      "id": "B3HnhyvJRa_H",
      "execution_count": null,
      "outputs": []
    }
  ],
  "metadata": {
    "kernelspec": {
      "display_name": "Python 3",
      "language": "python",
      "name": "python3"
    },
    "language_info": {
      "codemirror_mode": {
        "name": "ipython",
        "version": 3
      },
      "file_extension": ".py",
      "mimetype": "text/x-python",
      "name": "python",
      "nbconvert_exporter": "python",
      "pygments_lexer": "ipython3",
      "version": "3.8.8"
    },
    "colab": {
      "name": "Reptile_classification_omniglot.ipynb",
      "provenance": [],
      "collapsed_sections": []
    },
    "accelerator": "GPU"
  },
  "nbformat": 4,
  "nbformat_minor": 5
}