{
  "cells": [
    {
      "cell_type": "markdown",
      "source": [
        "<h1> Imports and Installs"
      ],
      "metadata": {
        "id": "UrjQGgr5nUHC"
      },
      "id": "UrjQGgr5nUHC"
    },
    {
      "cell_type": "code",
      "source": [
        "# Install required packages.\n",
        "!pip install -q torch-scatter -f https://pytorch-geometric.com/whl/torch-1.10.0+cu113.html\n",
        "!pip install -q torch-sparse -f https://pytorch-geometric.com/whl/torch-1.10.0+cu113.html\n",
        "!pip install -q git+https://github.com/rusty1s/pytorch_geometric.git"
      ],
      "metadata": {
        "colab": {
          "base_uri": "https://localhost:8080/"
        },
        "id": "S2WfmJiVTDpE",
        "outputId": "7c5d8eda-a80d-4778-e805-d99cb8694dea"
      },
      "id": "S2WfmJiVTDpE",
      "execution_count": 1,
      "outputs": [
        {
          "output_type": "stream",
          "name": "stdout",
          "text": [
            "\u001b[K     |████████████████████████████████| 7.9 MB 13.0 MB/s \n",
            "\u001b[K     |████████████████████████████████| 3.5 MB 1.5 MB/s \n",
            "\u001b[?25h  Building wheel for torch-geometric (setup.py) ... \u001b[?25l\u001b[?25hdone\n"
          ]
        }
      ]
    },
    {
      "cell_type": "code",
      "source": [
        "import matplotlib.pyplot as plt\n",
        "import numpy as np\n",
        "\n",
        "# Required imports for neural network\n",
        "import torch.nn as nn\n",
        "import torch\n",
        "from torch.autograd import Variable\n",
        "import random\n",
        "\n",
        "# For GNNs\n",
        "from torch.nn import Linear\n",
        "from torch.nn import BatchNorm1d\n",
        "import torch.nn.functional as F\n",
        "from torch_geometric.nn import GATConv\n",
        "from torch_geometric.nn import GraphConv\n",
        "from torch_geometric.nn import GraphNorm\n",
        "from torch_geometric.nn import global_mean_pool\n",
        "from torch_geometric.nn import global_max_pool\n",
        "import torch.nn as nn"
      ],
      "metadata": {
        "id": "eGl9mcc0nOMP"
      },
      "id": "eGl9mcc0nOMP",
      "execution_count": 2,
      "outputs": []
    },
    {
      "cell_type": "markdown",
      "source": [
        "<h1> Data Loading and Generation\n",
        "\n",
        "Reptile for regression task using GNNs\n",
        "\n",
        "Some common GNN datasets are here:\n",
        "https://pytorch-geometric.readthedocs.io/en/latest/modules/datasets.html#torch_geometric.datasets.GNNBenchmarkDataset\n",
        "\n",
        "We will use a regression dataset with 19 regression targets from the paper:\n",
        "“MoleculeNet: A Benchmark for Molecular Machine Learning”"
      ],
      "metadata": {
        "id": "T3KVOwFXFOY0"
      },
      "id": "T3KVOwFXFOY0"
    },
    {
      "cell_type": "markdown",
      "source": [
        "For this implementation we focus on regressing only the Dipole moment"
      ],
      "metadata": {
        "id": "jvvZSOiQe-Ne"
      },
      "id": "jvvZSOiQe-Ne"
    },
    {
      "cell_type": "code",
      "source": [
        "import torch\n",
        "from torch_geometric.datasets import QM9\n",
        "\n",
        "dataset = QM9(root='data/QM9')"
      ],
      "metadata": {
        "colab": {
          "base_uri": "https://localhost:8080/"
        },
        "id": "PIExsutGTQcB",
        "outputId": "22f32c78-5a70-437f-b4b8-b9e7c5fb2016"
      },
      "id": "PIExsutGTQcB",
      "execution_count": 3,
      "outputs": [
        {
          "output_type": "stream",
          "name": "stderr",
          "text": [
            "Downloading https://data.pyg.org/datasets/qm9_v3.zip\n",
            "Extracting data/QM9/raw/qm9_v3.zip\n",
            "Processing...\n",
            "Using a pre-processed version of the dataset. Please install 'rdkit' to alternatively process the raw data.\n",
            "Done!\n"
          ]
        }
      ]
    },
    {
      "cell_type": "code",
      "source": [
        "# This function is based on https://pytorch-geometric.readthedocs.io/en/latest/notes/colabs.html\n",
        "\n",
        "#Function to display properties of the dataset (it is not necessary for anything)\n",
        "def display_graph_dataset_properties(dataset):\n",
        "  print()\n",
        "  print(f'Dataset: {dataset}:')\n",
        "  print('====================')\n",
        "  print(f'Number of graphs: {len(dataset)}')\n",
        "  print(f'Number of features: {dataset.num_features}')\n",
        "  print(f'Number of classes: {dataset.num_classes}')\n",
        "\n",
        "  data = dataset[0]  # Get the first graph object.Ç\n",
        "\n",
        "  print()\n",
        "  print('Look at a sample graph of the dataset')\n",
        "  print(data)\n",
        "  print('=============================================================')\n",
        "\n",
        "  # Gather some statistics about the first graph.\n",
        "  print(f'Number of nodes: {data.num_nodes}')\n",
        "  print(f'Number of edges: {data.num_edges}')\n",
        "  print(f'Average node degree: {data.num_edges / data.num_nodes:.2f}')\n",
        "  print(f'Has isolated nodes: {data.has_isolated_nodes()}')\n",
        "  print(f'Has self-loops: {data.has_self_loops()}')\n",
        "  print(f'Is undirected: {data.is_undirected()}')"
      ],
      "metadata": {
        "id": "LxK2rDRNTSxd"
      },
      "id": "LxK2rDRNTSxd",
      "execution_count": 4,
      "outputs": []
    },
    {
      "cell_type": "code",
      "source": [
        "display_graph_dataset_properties(dataset)"
      ],
      "metadata": {
        "colab": {
          "base_uri": "https://localhost:8080/"
        },
        "id": "GC6T1VZPF9Ba",
        "outputId": "4418868e-d41d-4a40-d1f1-3d510a270bac"
      },
      "id": "GC6T1VZPF9Ba",
      "execution_count": 5,
      "outputs": [
        {
          "output_type": "stream",
          "name": "stdout",
          "text": [
            "\n",
            "Dataset: QM9(130831):\n",
            "====================\n",
            "Number of graphs: 130831\n",
            "Number of features: 11\n",
            "Number of classes: 19\n",
            "\n",
            "Look at a sample graph of the dataset\n",
            "Data(x=[5, 11], edge_index=[2, 8], edge_attr=[8, 4], y=[1, 19], pos=[5, 3], idx=[1], name='gdb_1', z=[5])\n",
            "=============================================================\n",
            "Number of nodes: 5\n",
            "Number of edges: 8\n",
            "Average node degree: 1.60\n",
            "Has isolated nodes: False\n",
            "Has self-loops: False\n",
            "Is undirected: True\n"
          ]
        }
      ]
    },
    {
      "cell_type": "code",
      "source": [
        "# Transform the dataset into a list\n",
        "dataset_list = []\n",
        "\n",
        "for i in range(len(dataset)):\n",
        "  dataset_list.append(dataset[i])"
      ],
      "metadata": {
        "id": "lD_MRHC8T8Za"
      },
      "id": "lD_MRHC8T8Za",
      "execution_count": 6,
      "outputs": []
    },
    {
      "cell_type": "code",
      "source": [
        "#Shuffle the dataset list\n",
        "random.shuffle(dataset_list)\n",
        "#Split into train and test\n",
        "GRAPH_TRAIN = dataset_list[:int(np.floor(len(dataset_list)*0.9))]\n",
        "GRAPH_TEST = dataset_list[int(np.floor(len(dataset_list)*0.9)):]"
      ],
      "metadata": {
        "id": "a3X51uGHDvSV"
      },
      "id": "a3X51uGHDvSV",
      "execution_count": 7,
      "outputs": []
    },
    {
      "cell_type": "markdown",
      "source": [
        "<h1> Neural Network Model"
      ],
      "metadata": {
        "id": "cu4urLF7Q88A"
      },
      "id": "cu4urLF7Q88A"
    },
    {
      "cell_type": "code",
      "source": [
        "\n",
        "class GNN(torch.nn.Module):\n",
        "    def __init__(self, input_dim=11, hidden_dim=64, output_dim=1):\n",
        "        super(GNN, self).__init__()\n",
        "\n",
        "        #Hidden Layers\n",
        "        self.hidden1 = GATConv(input_dim, hidden_dim)\n",
        "        self.hidden2 = GATConv(hidden_dim, hidden_dim)\n",
        "        self.hidden3 = GATConv(hidden_dim, output_dim)\n",
        "        self.norm = GraphNorm(hidden_dim)\n",
        "\n",
        "        #Activation Function\n",
        "        self.relu = nn.ReLU()\n",
        "\n",
        "        \n",
        "\n",
        "    def forward(self, input_x, edge_index, batch):\n",
        "      \n",
        "        #Standard forward\n",
        "        x = self.hidden1(input_x,edge_index)\n",
        "        x = self.norm(x)\n",
        "        x = self.relu(x)\n",
        "        x = self.hidden2(x,edge_index)\n",
        "        x = self.norm(x)\n",
        "        x = self.relu(x)\n",
        "        x = self.hidden3(x,edge_index)\n",
        "        x = self.relu(x)\n",
        "\n",
        "        #Global mean pool across batches\n",
        "        x = global_max_pool(x, batch)\n",
        "\n",
        "        \n",
        "        return x\n"
      ],
      "metadata": {
        "id": "R1B0YTz6ytyN"
      },
      "id": "R1B0YTz6ytyN",
      "execution_count": 8,
      "outputs": []
    },
    {
      "cell_type": "markdown",
      "source": [
        "<h1> Helper functions"
      ],
      "metadata": {
        "id": "G-ExWACxQ3mt"
      },
      "id": "G-ExWACxQ3mt"
    },
    {
      "cell_type": "code",
      "source": [
        "# The Minimum Square Error is used to evaluate the difference between prediction and ground truth\n",
        "criterion = nn.MSELoss()\n",
        "\n",
        "def copy_existing_model(model):\n",
        "    # Function to copy an existing model\n",
        "    # We initialize a new model\n",
        "    new_model = GNN()\n",
        "    # Copy the previous model's parameters into the new model\n",
        "    new_model.load_state_dict(model.state_dict())\n",
        "    return new_model\n",
        "\n",
        "def initialization_to_store_meta_losses():\n",
        "  # This function creates lists to store the meta losses\n",
        "  global store_train_loss_meta; store_train_loss_meta = []\n",
        "  global store_test_loss_meta; store_test_loss_meta = []\n",
        "\n",
        "def test_set_validation(model,new_model,graph,lr_inner,k,store_test_loss_meta):\n",
        "    # This functions does not actually affect the main algorithm, it is just used to evaluate the new model\n",
        "    new_model = training(model, graph, lr_inner, k)\n",
        "    # Obtain the loss\n",
        "    loss = evaluation(new_model, graph)\n",
        "    # Store loss\n",
        "    store_test_loss_meta.append(loss)\n",
        "\n",
        "def train_set_evaluation(new_model,graph,store_train_loss_meta):\n",
        "    loss = evaluation(new_model, graph)\n",
        "    store_train_loss_meta.append(loss) \n",
        "\n",
        "def print_losses(epoch,store_train_loss_meta,store_test_loss_meta,printing_step=1000):\n",
        "  if epoch % printing_step == 0:\n",
        "    print(f'Epochh : {epoch}, Average Train Meta Loss : {np.mean(store_train_loss_meta)}, Average Test Meta Loss : {np.mean(store_test_loss_meta)}')\n",
        "\n",
        "#This is based on the paper update rule, we calculate the difference between parameters and then this is used by the optimizer, rather than doing the update by hand\n",
        "def reptile_parameter_update(model,new_model):\n",
        "  # Zip models for the loop\n",
        "  zip_models = zip(model.parameters(), new_model.parameters())\n",
        "  for parameter, new_parameter in zip_models:\n",
        "    if parameter.grad is None:\n",
        "      parameter.grad = torch.tensor(torch.zeros_like(parameter))\n",
        "    # Here we are adding the gradient that will later be used by the optimizer\n",
        "    parameter.grad.data.add_(parameter.data - new_parameter.data)\n",
        "\n",
        "# Define commands in order needed for the metaupdate\n",
        "# Note that if we change the order it doesn't behave the same\n",
        "def metaoptimizer_update(metaoptimizer):\n",
        "  # Take step\n",
        "  metaoptimizer.step()\n",
        "  # Reset gradients\n",
        "  metaoptimizer.zero_grad()\n",
        "\n",
        "def metaupdate(model,new_model,metaoptimizer):\n",
        "  # Combine the two previous functions into a single metaupdate function\n",
        "  # First we calculate the gradients\n",
        "  reptile_parameter_update(model,new_model)\n",
        "  # Use those gradients in the optimizer\n",
        "  metaoptimizer_update(metaoptimizer)\n",
        "\n",
        "def evaluation(new_model, graph, item = True):\n",
        "    # Make model prediction\n",
        "    prediction = new_model(graph.x,graph.edge_index,graph.batch)\n",
        "    # Get loss\n",
        "    if item == True: #Depending on whether we need to return the loss value for storing or for backprop\n",
        "      loss = criterion(prediction,graph.y[:,task:task+1]).item()\n",
        "    else:\n",
        "      loss = criterion(prediction,graph.y[:,task:task+1])\n",
        "    return loss\n",
        "\n",
        "def training(model, graph, lr_k, k):\n",
        "    # Create new model which we will train on\n",
        "    new_model = copy_existing_model(model)\n",
        "    # Define new optimizer\n",
        "    koptimizer = torch.optim.SGD(new_model.parameters(), lr=lr_k)\n",
        "    # Update the model multiple times, note that k>1 (do not confuse k with K)\n",
        "    for i in range(k):\n",
        "        # Reset optimizer\n",
        "        koptimizer.zero_grad()\n",
        "        # Evaluate the model\n",
        "        loss = evaluation(new_model, graph, item = False)\n",
        "        # Backpropagate\n",
        "        loss.backward()\n",
        "        koptimizer.step()\n",
        "    return new_model"
      ],
      "metadata": {
        "id": "1zyNHFXdOnug"
      },
      "id": "1zyNHFXdOnug",
      "execution_count": 9,
      "outputs": []
    },
    {
      "cell_type": "markdown",
      "source": [
        "<h1> Reptile"
      ],
      "metadata": {
        "id": "-4Ps8P2IRCmF"
      },
      "id": "-4Ps8P2IRCmF"
    },
    {
      "cell_type": "code",
      "source": [
        "#Define important variables\n",
        "epochs = int(5000) # number of epochs \n",
        "lr_meta=0.001  # Learning rate for meta model (outer loop)\n",
        "printing_step=100 # how many epochs should we wait to print the loss\n",
        "lr_k=0.0005 # Internal learning rate\n",
        "k=5 # Number of internal updates for each task\n",
        "number_of_tasks=5\n",
        "# Initializations\n",
        "initialization_to_store_meta_losses()\n",
        "model = GNN()\n",
        "metaoptimizer = torch.optim.Adam(model.parameters(), lr=lr_meta)"
      ],
      "metadata": {
        "id": "8ogpg_DHizlC"
      },
      "id": "8ogpg_DHizlC",
      "execution_count": 12,
      "outputs": []
    },
    {
      "cell_type": "code",
      "source": [
        "# Training loop\n",
        "for epoch in range(epochs):\n",
        "        \n",
        "    # Sample a sine graph (Task from training data)\n",
        "    graph = random.sample(GRAPH_TRAIN, 1)\n",
        "    task = random.randint(0, number_of_tasks-1)\n",
        "\n",
        "    # Update model predefined number of times based on k\n",
        "    new_model = training(model, graph[0], lr_k, k)\n",
        "\n",
        "    # Evalaute the loss for the training data\n",
        "    train_set_evaluation(new_model,graph[0],store_train_loss_meta)     \n",
        "    \n",
        "    #Meta-update --> Get gradient for meta loop and update\n",
        "    metaupdate(model,new_model,metaoptimizer)\n",
        "    \n",
        "    # Evalaute the loss for the test data\n",
        "    # Note that we need to sample the graph from the test data\n",
        "    graph = random.sample(GRAPH_TEST, 1)\n",
        "    test_set_validation(model,new_model,graph[0],lr_k,k,store_test_loss_meta)\n",
        "\n",
        "    # Print losses every 'printing_step' epochs\n",
        "    print_losses(epoch,store_train_loss_meta,store_test_loss_meta,printing_step)"
      ],
      "metadata": {
        "colab": {
          "base_uri": "https://localhost:8080/"
        },
        "id": "-4-zQWWKFt3s",
        "outputId": "37560267-1fe3-416d-e6cf-a845c6ed9c83"
      },
      "id": "-4-zQWWKFt3s",
      "execution_count": 13,
      "outputs": [
        {
          "output_type": "stream",
          "name": "stderr",
          "text": [
            "/usr/local/lib/python3.7/dist-packages/ipykernel_launcher.py:39: UserWarning: To copy construct from a tensor, it is recommended to use sourceTensor.clone().detach() or sourceTensor.clone().detach().requires_grad_(True), rather than torch.tensor(sourceTensor).\n"
          ]
        },
        {
          "output_type": "stream",
          "name": "stdout",
          "text": [
            "Epochh : 0, Average Train Meta Loss : 4.846166133880615, Average Test Meta Loss : 2.595043897628784\n",
            "Epochh : 100, Average Train Meta Loss : 230.7417899258776, Average Test Meta Loss : 363.7409948818409\n",
            "Epochh : 200, Average Train Meta Loss : 220.22929868447576, Average Test Meta Loss : 269.84928176505235\n",
            "Epochh : 300, Average Train Meta Loss : 183.02961209682357, Average Test Meta Loss : 197.1197354189864\n",
            "Epochh : 400, Average Train Meta Loss : 185.630411372396, Average Test Meta Loss : 179.62760794598105\n",
            "Epochh : 500, Average Train Meta Loss : 170.02360010126839, Average Test Meta Loss : 160.87595731137745\n",
            "Epochh : 600, Average Train Meta Loss : 155.270210227454, Average Test Meta Loss : 151.43399545221334\n",
            "Epochh : 700, Average Train Meta Loss : 144.8417231346324, Average Test Meta Loss : 146.45682757016408\n",
            "Epochh : 800, Average Train Meta Loss : 134.44395282667946, Average Test Meta Loss : 136.79831788684953\n",
            "Epochh : 900, Average Train Meta Loss : 129.72657765753195, Average Test Meta Loss : 136.94033126014895\n",
            "Epochh : 1000, Average Train Meta Loss : 127.37789400248597, Average Test Meta Loss : 135.03944020396267\n",
            "Epochh : 1100, Average Train Meta Loss : 125.43491652892287, Average Test Meta Loss : 130.4925765326111\n",
            "Epochh : 1200, Average Train Meta Loss : 124.83330593971792, Average Test Meta Loss : 130.28499011587462\n",
            "Epochh : 1300, Average Train Meta Loss : 120.39654829212, Average Test Meta Loss : 126.3500172152998\n",
            "Epochh : 1400, Average Train Meta Loss : 118.69365415447106, Average Test Meta Loss : 121.67930181886919\n",
            "Epochh : 1500, Average Train Meta Loss : 116.98930294315204, Average Test Meta Loss : 117.93295655534418\n",
            "Epochh : 1600, Average Train Meta Loss : 112.44420541746953, Average Test Meta Loss : 115.9529757910729\n",
            "Epochh : 1700, Average Train Meta Loss : 107.94431678557514, Average Test Meta Loss : 110.45871631050828\n",
            "Epochh : 1800, Average Train Meta Loss : 107.38640110915864, Average Test Meta Loss : 110.04406385406875\n",
            "Epochh : 1900, Average Train Meta Loss : 104.3712204761692, Average Test Meta Loss : 107.8942566860473\n",
            "Epochh : 2000, Average Train Meta Loss : 101.34306161738542, Average Test Meta Loss : 104.15470727461046\n",
            "Epochh : 2100, Average Train Meta Loss : 98.62795971067513, Average Test Meta Loss : 101.63918283275538\n",
            "Epochh : 2200, Average Train Meta Loss : 97.24867631433266, Average Test Meta Loss : 102.17761199290958\n",
            "Epochh : 2300, Average Train Meta Loss : 96.037618665542, Average Test Meta Loss : 101.45618999300699\n",
            "Epochh : 2400, Average Train Meta Loss : 94.57598612877291, Average Test Meta Loss : 98.59800181914243\n",
            "Epochh : 2500, Average Train Meta Loss : 92.48576626479563, Average Test Meta Loss : 98.4845130396\n",
            "Epochh : 2600, Average Train Meta Loss : 93.52982276717498, Average Test Meta Loss : 96.32826234497544\n",
            "Epochh : 2700, Average Train Meta Loss : 92.43679574699942, Average Test Meta Loss : 95.55863437291927\n",
            "Epochh : 2800, Average Train Meta Loss : 91.46333697994845, Average Test Meta Loss : 93.04843315302041\n",
            "Epochh : 2900, Average Train Meta Loss : 93.17427476776172, Average Test Meta Loss : 93.74097654017322\n",
            "Epochh : 3000, Average Train Meta Loss : 91.87530093804219, Average Test Meta Loss : 91.3670974067859\n",
            "Epochh : 3100, Average Train Meta Loss : 91.43916557182114, Average Test Meta Loss : 90.32861908996789\n",
            "Epochh : 3200, Average Train Meta Loss : 90.6793965438544, Average Test Meta Loss : 89.4040237739799\n",
            "Epochh : 3300, Average Train Meta Loss : 89.21532457932726, Average Test Meta Loss : 87.93368550900756\n",
            "Epochh : 3400, Average Train Meta Loss : 88.31682969570485, Average Test Meta Loss : 88.81302548771279\n",
            "Epochh : 3500, Average Train Meta Loss : 87.71028787615789, Average Test Meta Loss : 87.81036789079695\n",
            "Epochh : 3600, Average Train Meta Loss : 86.5017558812578, Average Test Meta Loss : 87.9699922267427\n",
            "Epochh : 3700, Average Train Meta Loss : 85.76671777326636, Average Test Meta Loss : 86.49230252073255\n",
            "Epochh : 3800, Average Train Meta Loss : 85.87582998515474, Average Test Meta Loss : 86.45623007825968\n",
            "Epochh : 3900, Average Train Meta Loss : 84.63848230179156, Average Test Meta Loss : 85.07373730658279\n",
            "Epochh : 4000, Average Train Meta Loss : 84.08828774209813, Average Test Meta Loss : 83.37545277388938\n",
            "Epochh : 4100, Average Train Meta Loss : 82.44141536316558, Average Test Meta Loss : 82.17740909419031\n",
            "Epochh : 4200, Average Train Meta Loss : 81.5759897868002, Average Test Meta Loss : 81.45216676900714\n",
            "Epochh : 4300, Average Train Meta Loss : 81.35090598016853, Average Test Meta Loss : 80.67048979505527\n",
            "Epochh : 4400, Average Train Meta Loss : 80.10121193666464, Average Test Meta Loss : 79.8526503439668\n",
            "Epochh : 4500, Average Train Meta Loss : 80.13041972558482, Average Test Meta Loss : 78.85957213205373\n",
            "Epochh : 4600, Average Train Meta Loss : 79.69255945355219, Average Test Meta Loss : 78.02879555734489\n",
            "Epochh : 4700, Average Train Meta Loss : 78.90256482972028, Average Test Meta Loss : 77.4441765768392\n",
            "Epochh : 4800, Average Train Meta Loss : 77.98283683468482, Average Test Meta Loss : 77.2791702287818\n",
            "Epochh : 4900, Average Train Meta Loss : 76.81464093961088, Average Test Meta Loss : 76.67236721003329\n"
          ]
        }
      ]
    },
    {
      "cell_type": "markdown",
      "source": [
        "<h1> Few Shot learning with new meta-model"
      ],
      "metadata": {
        "id": "bQjoz6FYctJM"
      },
      "id": "bQjoz6FYctJM"
    },
    {
      "cell_type": "markdown",
      "source": [
        "The model performs good few shot learning"
      ],
      "metadata": {
        "id": "m-SPUG5Bfpe9"
      },
      "id": "m-SPUG5Bfpe9"
    },
    {
      "cell_type": "code",
      "source": [
        "task = random.randint(0, number_of_tasks-1)\n",
        "graph = GRAPH_TEST[0] \n",
        "k_shot_updates = 5\n",
        "initialization_to_store_meta_losses()\n",
        "for shots in range(k_shot_updates):\n",
        "    new_model = training(model, graph, lr_k, shots)\n",
        "    train_set_evaluation(new_model,graph,store_train_loss_meta) \n",
        "\n",
        "plt.plot(store_train_loss_meta,label = 'Loss')\n",
        "plt.legend()\n",
        "plt.xlabel('k shots')"
      ],
      "metadata": {
        "colab": {
          "base_uri": "https://localhost:8080/",
          "height": 298
        },
        "id": "GY84TNs8JXVH",
        "outputId": "084f8e5d-078b-4534-cc09-cb5ba4a660e0"
      },
      "id": "GY84TNs8JXVH",
      "execution_count": 14,
      "outputs": [
        {
          "output_type": "execute_result",
          "data": {
            "text/plain": [
              "Text(0.5, 0, 'k shots')"
            ]
          },
          "metadata": {},
          "execution_count": 14
        },
        {
          "output_type": "display_data",
          "data": {
            "text/plain": [
              "<Figure size 432x288 with 1 Axes>"
            ],
            "image/png": "[encoded data removed]"
          },
          "metadata": {
            "needs_background": "light"
          }
        }
      ]
    },
    {
      "cell_type": "code",
      "source": [
        ""
      ],
      "metadata": {
        "id": "2IObh84sRwo2"
      },
      "id": "2IObh84sRwo2",
      "execution_count": null,
      "outputs": []
    }
  ],
  "metadata": {
    "kernelspec": {
      "display_name": "Python 3",
      "language": "python",
      "name": "python3"
    },
    "language_info": {
      "codemirror_mode": {
        "name": "ipython",
        "version": 3
      },
      "file_extension": ".py",
      "mimetype": "text/x-python",
      "name": "python",
      "nbconvert_exporter": "python",
      "pygments_lexer": "ipython3",
      "version": "3.8.8"
    },
    "colab": {
      "name": "Reptile_GraphNN_Regression_Attention.ipynb",
      "provenance": [],
      "collapsed_sections": []
    },
    "accelerator": "GPU"
  },
  "nbformat": 4,
  "nbformat_minor": 5
}