{
 "cells": [
  {
   "cell_type": "markdown",
   "id": "UrjQGgr5nUHC",
   "metadata": {
    "id": "UrjQGgr5nUHC"
   },
   "source": [
    "<h1> Imports"
   ]
  },
  {
   "cell_type": "code",
   "execution_count": 2,
   "id": "eGl9mcc0nOMP",
   "metadata": {
    "id": "eGl9mcc0nOMP"
   },
   "outputs": [],
   "source": [
    "import numpy as np\n",
    "import pandas as pd\n",
    "import matplotlib.pylab as plt\n",
    "import seaborn as sns \n",
    "from math import pi as PI\n",
    "import random\n",
    "# !pip3 install higher\n",
    "import torch.nn as nn\n",
    "import torch\n",
    "import random\n",
    "from higher import innerloop_ctx\n",
    "import warnings\n",
    "\n",
    "ax_size = 14\n",
    "title_size = 16"
   ]
  },
  {
   "cell_type": "markdown",
   "id": "T3KVOwFXFOY0",
   "metadata": {
    "id": "T3KVOwFXFOY0"
   },
   "source": [
    "<h1> Data Loading and Generation"
   ]
  },
  {
   "cell_type": "code",
   "execution_count": 3,
   "id": "a3X51uGHDvSV",
   "metadata": {
    "id": "a3X51uGHDvSV"
   },
   "outputs": [],
   "source": [
    "'''\n",
    "Create a master data class to ensure analogous structure across tasks\n",
    "Help on writing abstract classes from: \n",
    "https://www.geeksforgeeks.org/abstract-classes-in-python/\n",
    "\n",
    "Meta-train has training and test sets\n",
    "Also have meta-val and meta-test sets (at the task level)\n",
    "Help for understanding training and test set structure from [see especially for classification]: \n",
    "https://meta-learning.fastforwardlabs.com/\n",
    "\n",
    "\n",
    "What do we want out of our data generation code? \n",
    "- specify a particular task instance\n",
    "(e.g., amplitude and phase; N number of discrete classes)\n",
    "- extract batches of tasks for train, val, and test\n",
    "- extract sample from a given task of size K for training (and other for testing)\n",
    "'''\n",
    "\n",
    "class Domain(): \n",
    "    \n",
    "    def get_meta_train_batch(self, task_batch_size):\n",
    "        # yields the set of meta-training tasks, each of which has train and test sets\n",
    "        pass \n",
    "    \n",
    "    def get_meta_val_batch(self, task_batch_size):\n",
    "        # yields meta-val tasks (each just has a single data set)\n",
    "        pass\n",
    "\n",
    "    def get_meta_test_batch(self, task_batch_size):\n",
    "        # yields meta-test tasks (each just has a single data set)\n",
    "        pass\n",
    "    \n",
    "'''\n",
    "Regression task, as per MAML Section 5.1 (https://arxiv.org/pdf/1703.03400.pdf)\n",
    "Specifically, sine wave generation \n",
    "\n",
    "Code inspired by and modified from: \n",
    "https://github.com/AdrienLE/ANIML/blob/master/ANIML.ipynb\n",
    "\n",
    "Checked original MAML code to ensure resampling for all stages of sinusoid:\n",
    "https://github.com/cbfinn/maml/blob/master/data_generator.py\n",
    "'''\n",
    "\n",
    "class RegressionDomain(Domain): \n",
    "    \n",
    "    '''\n",
    "    Each task is a sine wave\n",
    "    Parameterized by amplitude and phase \n",
    "    Always drawn from w/in a specified range of x vals\n",
    "    [Values from Section 5.1 -- but we could vary??]\n",
    "    '''\n",
    "    \n",
    "    def __init__(self, amp_min=0.1, amp_max=0.5, \n",
    "                 phase_min=0, phase_max=PI,\n",
    "                train_size=1000, val_size=100, test_size=1000): \n",
    "        \n",
    "        self.amp_min = amp_min\n",
    "        self.amp_max = amp_max\n",
    "        self.phase_min = phase_min\n",
    "        self.phase_max = phase_max\n",
    "        \n",
    "        # create initial train, val, and test \n",
    "        # parameters specify the number of unique functions we want\n",
    "        self.train_size = train_size\n",
    "        self.val_size = val_size\n",
    "        self.test_size = test_size\n",
    "        # looping to instantiate tasks idea from: https://github.com/AdrienLE/ANIML/blob/master/ANIML.ipynb\n",
    "        # help on generating random numbers in range from: https://pynative.com/python-get-random-float-numbers/\n",
    "        self.tasks = {}\n",
    "        # note: code would be more structured b/w task type for classification\n",
    "        for task_type, num_tasks in zip([\"train\", \"val\", \"test\"], [train_size, val_size, test_size]):\n",
    "            tasks = [SineFunction(amplitude = random.uniform(self.amp_min, self.amp_max), \n",
    "                                     phase=random.uniform(self.phase_min, self.phase_max)) for _ in range(num_tasks)]\n",
    "            self.tasks[task_type] = tasks\n",
    "    \n",
    "    def get_batch_of_tasks(self, task_type, task_batch_size): \n",
    "        # helper function since same sampling per type for regression-specific domain\n",
    "        if task_batch_size is None: \n",
    "            # return all \n",
    "            return self.tasks[task_type]\n",
    "        else: \n",
    "            # sub-sample\n",
    "            # note: we could investigate impact of weighted sub-sampling in batch (?)\n",
    "            # see documentation: https://numpy.org/doc/stable/reference/random/generated/numpy.random.choice.html\n",
    "            task_batch = np.random.choice(self.tasks[task_type], size=task_batch_size, replace=False)\n",
    "            return task_batch\n",
    "    \n",
    "    def get_meta_train_batch(self, task_batch_size=10): \n",
    "        return self.get_batch_of_tasks(\"train\", task_batch_size)\n",
    "        \n",
    "    def get_meta_val_batch(self, task_batch_size=None): \n",
    "        return self.get_batch_of_tasks(\"val\", task_batch_size) \n",
    "        \n",
    "    def get_meta_test_batch(self, task_batch_size=None): \n",
    "        return self.get_batch_of_tasks(\"test\", task_batch_size)\n",
    "\n",
    "        \n",
    "class SineFunction(): \n",
    "    \n",
    "    def __init__(self, amplitude, phase): \n",
    "        self.amplitude = amplitude\n",
    "        self.phase = phase\n",
    "        \n",
    "    def draw_sample(self, x): \n",
    "        '''\n",
    "        Sample from the specified sine wave \n",
    "        '''\n",
    "        # help to sample from a sine function:\n",
    "        # https://stackoverflow.com/questions/48043004/how-do-i-generate-a-sine-wave-using-python\n",
    "        freq = 1 # TODO: check???\n",
    "        return self.amplitude * np.sin(freq * x + self.phase)\n",
    "    \n",
    "    def get_samples(self, num_samples=10, \n",
    "                    min_query_x=-5.0, max_query_x=5.0): \n",
    "        '''\n",
    "        Return samples drawn from this specific function (e.g., K for training set in meta-train)\n",
    "        Note, input range uses values from paper (Section 5.1)\n",
    "        But modification allowed thru function so we can test generalization beyond??\n",
    "        '''\n",
    "        x_vals = [random.uniform(min_query_x, max_query_x) for _ in range(num_samples)]\n",
    "        y_vals = [self.draw_sample(x) for x in x_vals]\n",
    "        # conversion to tensor idea and code help from: https://github.com/AdrienLE/ANIML/blob/master/ANIML.ipynb\n",
    "        return {\"input\": torch.Tensor(x_vals), \"output\": torch.Tensor(y_vals)}\n",
    "        "
   ]
  },
  {
   "cell_type": "markdown",
   "id": "cu4urLF7Q88A",
   "metadata": {
    "id": "cu4urLF7Q88A"
   },
   "source": [
    "<h1> Neural Network Model"
   ]
  },
  {
   "cell_type": "code",
   "execution_count": 4,
   "id": "R1B0YTz6ytyN",
   "metadata": {
    "id": "R1B0YTz6ytyN"
   },
   "outputs": [],
   "source": [
    "# Define network\n",
    "class Neural_Network(nn.Module):\n",
    "    def __init__(self, input_size=1, hidden_size=40, output_size=1):\n",
    "        super(Neural_Network, self).__init__()\n",
    "        # network layers\n",
    "        self.hidden1 = nn.Linear(input_size,hidden_size)\n",
    "        self.hidden2 = nn.Linear(hidden_size,hidden_size)\n",
    "        self.output_layer = nn.Linear(hidden_size,output_size)\n",
    "\n",
    "        #Activation functions\n",
    "        self.relu = nn.ReLU()\n",
    "        \n",
    "    def forward(self, x):\n",
    "        x = self.hidden1(x)\n",
    "        x = self.relu(x)\n",
    "        x = self.hidden2(x)\n",
    "        x = self.relu(x)\n",
    "        x = self.output_layer(x)\n",
    "        y = x\n",
    "        return y\n"
   ]
  },
  {
   "cell_type": "markdown",
   "id": "G-ExWACxQ3mt",
   "metadata": {
    "id": "G-ExWACxQ3mt"
   },
   "source": [
    "<h1> Helper functions"
   ]
  },
  {
   "cell_type": "code",
   "execution_count": 20,
   "id": "1zyNHFXdOnug",
   "metadata": {
    "id": "1zyNHFXdOnug"
   },
   "outputs": [],
   "source": [
    "# The Minimum Square Error is used to evaluate the difference between prediction and ground truth\n",
    "criterion = nn.MSELoss()\n",
    "\n",
    "def copy_existing_model(model):\n",
    "    # Function to copy an existing model\n",
    "    # We initialize a new model\n",
    "    new_model = Neural_Network()\n",
    "    # Copy the previous model's parameters into the new model\n",
    "    new_model.load_state_dict(model.state_dict())\n",
    "    return new_model\n",
    "\n",
    "def get_samples_in_good_format(wave, num_samples=10):\n",
    "    #This function is used to sample data from a wave\n",
    "    sample_data = wave.get_samples(num_samples=num_samples)\n",
    "    x = sample_data[\"input\"]\n",
    "    y_true = sample_data[\"output\"]\n",
    "    # We add [:,None] to get the right dimensions to pass to the model: we want K x 1 (we have scalars inputs hence the x 1)\n",
    "    # Note that we convert everything torch tensors\n",
    "    x = torch.tensor(x[:,None])\n",
    "    y_true = torch.tensor(y_true[:,None])\n",
    "    return x,y_true\n",
    "#     # set to whatever the base device is (GPU or CPU)\n",
    "#     # help from: https://stackoverflow.com/questions/46704352/porting-pytorch-code-from-cpu-to-gpu\n",
    "#     return x.to(device),y_true.to(device) \n",
    "\n",
    "def initialization_to_store_meta_losses():\n",
    "  # This function creates lists to store the meta losses\n",
    "  global store_train_loss_meta; store_train_loss_meta = []\n",
    "  global store_test_loss_meta; store_test_loss_meta = []\n",
    "\n",
    "def test_set_validation(model,new_model,wave,lr_inner,k,store_test_loss_meta):\n",
    "    # This functions does not actually affect the main algorithm, it is just used to evaluate the new model\n",
    "    new_model,losses = training(model, wave, lr_inner, k)\n",
    "    # Obtain the loss\n",
    "    loss = evaluation(new_model, wave)\n",
    "    # Store loss\n",
    "    store_test_loss_meta.append(loss)\n",
    "    return losses\n",
    "\n",
    "def train_set_evaluation(new_model,wave,store_train_loss_meta):\n",
    "    loss = evaluation(new_model, wave)\n",
    "    store_train_loss_meta.append(loss) \n",
    "\n",
    "def print_losses(epoch,store_train_loss_meta,store_test_loss_meta,printing_step=1000):\n",
    "  if epoch % printing_step == 0:\n",
    "    print(f'Epochh : {epoch}, Average Train Meta Loss : {np.mean(store_train_loss_meta)}, Average Test Meta Loss : {np.mean(store_test_loss_meta)}')\n",
    "\n",
    "#This is based on the paper update rule, we calculate the difference between parameters and then this is used by the optimizer, rather than doing the update by hand\n",
    "def reptile_parameter_update(model,new_model):\n",
    "  # Zip models for the loop\n",
    "  zip_models = zip(model.parameters(), new_model.parameters())\n",
    "  for parameter, new_parameter in zip_models:\n",
    "    if parameter.grad is None:\n",
    "      parameter.grad = torch.tensor(torch.zeros_like(parameter))\n",
    "    # Here we are adding the gradient that will later be used by the optimizer\n",
    "    parameter.grad.data.add_(parameter.data - new_parameter.data)\n",
    "\n",
    "# Define commands in order needed for the metaupdate\n",
    "# Note that if we change the order it doesn't behave the same\n",
    "def metaoptimizer_update(metaoptimizer):\n",
    "  # Take step\n",
    "  metaoptimizer.step()\n",
    "  # Reset gradients\n",
    "  metaoptimizer.zero_grad()\n",
    "\n",
    "def metaupdate(model,new_model,metaoptimizer):\n",
    "  # Combine the two previous functions into a single metaupdate function\n",
    "  # First we calculate the gradients\n",
    "  reptile_parameter_update(model,new_model)\n",
    "  # Use those gradients in the optimizer\n",
    "  metaoptimizer_update(metaoptimizer)\n",
    "\n",
    "def evaluation(new_model, wave, item = True):\n",
    "    # Get data\n",
    "    x, label = get_samples_in_good_format(wave)\n",
    "    # Make model prediction\n",
    "    prediction = new_model(x)\n",
    "    # Get loss\n",
    "    if item == True: #Depending on whether we need to return the loss value for storing or for backprop\n",
    "      loss = criterion(prediction,label).item()\n",
    "    else:\n",
    "      loss = criterion(prediction,label)\n",
    "    return loss\n",
    "\n",
    "def training(model, wave, lr_k, k):\n",
    "    # Create new model which we will train on\n",
    "    new_model = copy_existing_model(model)\n",
    "    # Define new optimizer\n",
    "    koptimizer = torch.optim.SGD(new_model.parameters(), lr=lr_k)\n",
    "    # Update the model multiple times, note that k>1 (do not confuse k with K)\n",
    "    losses = []\n",
    "    for i in range(k):\n",
    "        # Reset optimizer\n",
    "        koptimizer.zero_grad()\n",
    "        # Evaluate the model\n",
    "        loss = evaluation(new_model, wave, item = False)\n",
    "        # Backpropagate\n",
    "        loss.backward()\n",
    "        koptimizer.step()\n",
    "        losses.append(loss.item())\n",
    "    return new_model, losses"
   ]
  },
  {
   "cell_type": "markdown",
   "id": "-4Ps8P2IRCmF",
   "metadata": {
    "id": "-4Ps8P2IRCmF"
   },
   "source": [
    "<h1> Reptile"
   ]
  },
  {
   "cell_type": "code",
   "execution_count": 11,
   "id": "8ogpg_DHizlC",
   "metadata": {
    "id": "8ogpg_DHizlC"
   },
   "outputs": [],
   "source": [
    "#Define important variables\n",
    "epochs = int(1e5) # number of epochs \n",
    "lr_meta=0.001 # Learning rate for meta model (outer loop)\n",
    "printing_step=1000 # how many epochs should we wait to print the loss\n",
    "lr_k=0.01 # Internal learning rate\n",
    "k=5 # Number of internal updates for each task\n",
    "\n",
    "# Initializations\n",
    "initialization_to_store_meta_losses()\n",
    "model = Neural_Network()\n",
    "metaoptimizer = torch.optim.Adam(model.parameters(), lr=lr_meta)"
   ]
  },
  {
   "cell_type": "code",
   "execution_count": 12,
   "id": "e0ce395f",
   "metadata": {},
   "outputs": [
    {
     "data": {
      "text/plain": [
       "{'input': tensor([ 4.9709, -0.1401,  1.2311,  4.1330, -2.8615,  2.8029,  3.8531, -3.7313,\n",
       "         -3.8877, -3.8172]),\n",
       " 'output': tensor([ 1.5082,  4.0338,  0.8611, -1.7719, -3.7084, -3.9422, -2.7042, -3.6058,\n",
       "         -3.2800, -3.4373])}"
      ]
     },
     "execution_count": 12,
     "metadata": {},
     "output_type": "execute_result"
    }
   ],
   "source": [
    "# using parameters from original MAML Section 5.1 (https://arxiv.org/pdf/1703.03400.pdf)\n",
    "amp_min=0.1\n",
    "amp_max=5.0\n",
    "phase_min=0\n",
    "phase_max=PI\n",
    "K = 10\n",
    "\n",
    "meta_train_size=1000\n",
    "meta_val_size=100\n",
    "meta_test_size=1000\n",
    "meta_train_eval_size = 20\n",
    "\n",
    "task_batch_size = 10  \n",
    "\n",
    "dataset = RegressionDomain(amp_min=amp_min, amp_max=amp_max, \n",
    "                           phase_min=phase_min, phase_max=phase_max, \n",
    "                           train_size=meta_train_size, val_size=meta_val_size, test_size=meta_test_size)\n",
    "\n",
    "meta_val_set = dataset.get_meta_val_batch()\n",
    "meta_test_set = dataset.get_meta_test_batch()\n",
    "\n",
    "meta_train_sample = dataset.get_meta_train_batch(task_batch_size=task_batch_size)\n",
    "\n",
    "meta_train_sample[0].get_samples()"
   ]
  },
  {
   "cell_type": "code",
   "execution_count": 13,
   "id": "-4-zQWWKFt3s",
   "metadata": {
    "colab": {
     "base_uri": "https://localhost:8080/",
     "height": 887
    },
    "id": "-4-zQWWKFt3s",
    "outputId": "a90fc4c6-006c-43c8-d882-4c3a983a5923"
   },
   "outputs": [
    {
     "name": "stderr",
     "output_type": "stream",
     "text": [
      "<ipython-input-10-12ae40307b21>:19: UserWarning: To copy construct from a tensor, it is recommended to use sourceTensor.clone().detach() or sourceTensor.clone().detach().requires_grad_(True), rather than torch.tensor(sourceTensor).\n",
      "  x = torch.tensor(x[:,None])\n",
      "<ipython-input-10-12ae40307b21>:20: UserWarning: To copy construct from a tensor, it is recommended to use sourceTensor.clone().detach() or sourceTensor.clone().detach().requires_grad_(True), rather than torch.tensor(sourceTensor).\n",
      "  y_true = torch.tensor(y_true[:,None])\n",
      "<ipython-input-10-12ae40307b21>:53: UserWarning: To copy construct from a tensor, it is recommended to use sourceTensor.clone().detach() or sourceTensor.clone().detach().requires_grad_(True), rather than torch.tensor(sourceTensor).\n",
      "  parameter.grad = torch.tensor(torch.zeros_like(parameter))\n"
     ]
    },
    {
     "name": "stdout",
     "output_type": "stream",
     "text": [
      "Epochh : 0, Average Train Meta Loss : 7.478808403015137, Average Test Meta Loss : 4.267937183380127\n",
      "Epochh : 1000, Average Train Meta Loss : 2.216651119131755, Average Test Meta Loss : 2.74260658747912\n",
      "Epochh : 2000, Average Train Meta Loss : 1.7268342335235098, Average Test Meta Loss : 2.0666405896775832\n",
      "Epochh : 3000, Average Train Meta Loss : 1.4600633438170745, Average Test Meta Loss : 1.7411175031697217\n",
      "Epochh : 4000, Average Train Meta Loss : 1.2691587046604864, Average Test Meta Loss : 1.5022620122066903\n",
      "Epochh : 5000, Average Train Meta Loss : 1.1221323363646647, Average Test Meta Loss : 1.3160355743107834\n",
      "Epochh : 6000, Average Train Meta Loss : 1.006336556598569, Average Test Meta Loss : 1.1716582864555758\n",
      "Epochh : 7000, Average Train Meta Loss : 0.915831670078029, Average Test Meta Loss : 1.0565290810437422\n",
      "Epochh : 8000, Average Train Meta Loss : 0.842000216348375, Average Test Meta Loss : 0.9649435884980461\n",
      "Epochh : 9000, Average Train Meta Loss : 0.7748058336264564, Average Test Meta Loss : 0.891365442361043\n",
      "Epochh : 10000, Average Train Meta Loss : 0.7244639697801942, Average Test Meta Loss : 0.8270617483829712\n",
      "Epochh : 11000, Average Train Meta Loss : 0.6769707085203434, Average Test Meta Loss : 0.7729183351116787\n",
      "Epochh : 12000, Average Train Meta Loss : 0.6367521488896525, Average Test Meta Loss : 0.7270260727293846\n",
      "Epochh : 13000, Average Train Meta Loss : 0.6007651080314881, Average Test Meta Loss : 0.6845757753173172\n",
      "Epochh : 14000, Average Train Meta Loss : 0.5694730615829059, Average Test Meta Loss : 0.6478859985777621\n",
      "Epochh : 15000, Average Train Meta Loss : 0.5406756841855385, Average Test Meta Loss : 0.6139823074540226\n",
      "Epochh : 16000, Average Train Meta Loss : 0.5167444307504052, Average Test Meta Loss : 0.5840725996981827\n",
      "Epochh : 17000, Average Train Meta Loss : 0.49465568876745103, Average Test Meta Loss : 0.5582632663937543\n",
      "Epochh : 18000, Average Train Meta Loss : 0.47409053605136275, Average Test Meta Loss : 0.534426704512657\n",
      "Epochh : 19000, Average Train Meta Loss : 0.4544866287566258, Average Test Meta Loss : 0.5130166989458802\n",
      "Epochh : 20000, Average Train Meta Loss : 0.4369222468083499, Average Test Meta Loss : 0.49331959179652923\n",
      "Epochh : 21000, Average Train Meta Loss : 0.4207599942950325, Average Test Meta Loss : 0.47493933455195914\n",
      "Epochh : 22000, Average Train Meta Loss : 0.4062539742437102, Average Test Meta Loss : 0.45761611951297404\n",
      "Epochh : 23000, Average Train Meta Loss : 0.39206138886530356, Average Test Meta Loss : 0.44164770487590604\n",
      "Epochh : 24000, Average Train Meta Loss : 0.37940485575564853, Average Test Meta Loss : 0.4270443912407105\n",
      "Epochh : 25000, Average Train Meta Loss : 0.3671488891385439, Average Test Meta Loss : 0.4134851230749978\n",
      "Epochh : 26000, Average Train Meta Loss : 0.35584032424744183, Average Test Meta Loss : 0.4004349105628562\n",
      "Epochh : 27000, Average Train Meta Loss : 0.3449823941403256, Average Test Meta Loss : 0.38808277615216047\n",
      "Epochh : 28000, Average Train Meta Loss : 0.3348743397123776, Average Test Meta Loss : 0.37675449869083244\n",
      "Epochh : 29000, Average Train Meta Loss : 0.3255902892142621, Average Test Meta Loss : 0.365983460077268\n",
      "Epochh : 30000, Average Train Meta Loss : 0.3168344064952309, Average Test Meta Loss : 0.3558604245350846\n",
      "Epochh : 31000, Average Train Meta Loss : 0.30881084672818937, Average Test Meta Loss : 0.34630974846762347\n",
      "Epochh : 32000, Average Train Meta Loss : 0.30092015697438246, Average Test Meta Loss : 0.3372245527074226\n",
      "Epochh : 33000, Average Train Meta Loss : 0.29364126206153546, Average Test Meta Loss : 0.3288581008480737\n",
      "Epochh : 34000, Average Train Meta Loss : 0.28657539919842456, Average Test Meta Loss : 0.3207955937603254\n",
      "Epochh : 35000, Average Train Meta Loss : 0.2800749335910563, Average Test Meta Loss : 0.31344215789728347\n",
      "Epochh : 36000, Average Train Meta Loss : 0.2737507640802636, Average Test Meta Loss : 0.3063806323321794\n",
      "Epochh : 37000, Average Train Meta Loss : 0.26779995076182345, Average Test Meta Loss : 0.29976910406052554\n",
      "Epochh : 38000, Average Train Meta Loss : 0.2621890540059351, Average Test Meta Loss : 0.29327438083919033\n",
      "Epochh : 39000, Average Train Meta Loss : 0.25680533686129503, Average Test Meta Loss : 0.28713198405434587\n",
      "Epochh : 40000, Average Train Meta Loss : 0.2517920957883977, Average Test Meta Loss : 0.28129705869074656\n",
      "Epochh : 41000, Average Train Meta Loss : 0.2469235152687395, Average Test Meta Loss : 0.27564377328757095\n",
      "Epochh : 42000, Average Train Meta Loss : 0.24214400869376057, Average Test Meta Loss : 0.2702751958554637\n",
      "Epochh : 43000, Average Train Meta Loss : 0.23762560636363775, Average Test Meta Loss : 0.2652223675537927\n",
      "Epochh : 44000, Average Train Meta Loss : 0.23327292447354145, Average Test Meta Loss : 0.26034957638598094\n",
      "Epochh : 45000, Average Train Meta Loss : 0.2292115101211855, Average Test Meta Loss : 0.25560440149397085\n",
      "Epochh : 46000, Average Train Meta Loss : 0.22512435268610934, Average Test Meta Loss : 0.2510579776457129\n",
      "Epochh : 47000, Average Train Meta Loss : 0.22134024941001676, Average Test Meta Loss : 0.24664183767840928\n",
      "Epochh : 48000, Average Train Meta Loss : 0.21758345963713974, Average Test Meta Loss : 0.24269227047239392\n",
      "Epochh : 49000, Average Train Meta Loss : 0.21400159849595402, Average Test Meta Loss : 0.23864607030181065\n",
      "Epochh : 50000, Average Train Meta Loss : 0.21067238629763915, Average Test Meta Loss : 0.23478773840490752\n",
      "Epochh : 51000, Average Train Meta Loss : 0.2074149658184734, Average Test Meta Loss : 0.23120866519277297\n",
      "Epochh : 52000, Average Train Meta Loss : 0.20424780328751949, Average Test Meta Loss : 0.22756141174198324\n",
      "Epochh : 53000, Average Train Meta Loss : 0.20109957976641868, Average Test Meta Loss : 0.22407994402063905\n",
      "Epochh : 54000, Average Train Meta Loss : 0.19815872899493703, Average Test Meta Loss : 0.22073128801299255\n",
      "Epochh : 55000, Average Train Meta Loss : 0.19528665969879788, Average Test Meta Loss : 0.21748358281481628\n",
      "Epochh : 56000, Average Train Meta Loss : 0.1925130734925553, Average Test Meta Loss : 0.21441489703333758\n",
      "Epochh : 57000, Average Train Meta Loss : 0.18992988438219904, Average Test Meta Loss : 0.2115069886271089\n",
      "Epochh : 58000, Average Train Meta Loss : 0.18732440113150153, Average Test Meta Loss : 0.20857601474573537\n",
      "Epochh : 59000, Average Train Meta Loss : 0.1847952909969587, Average Test Meta Loss : 0.2057669131672063\n",
      "Epochh : 60000, Average Train Meta Loss : 0.18235007881862228, Average Test Meta Loss : 0.20307819383644943\n",
      "Epochh : 61000, Average Train Meta Loss : 0.18000799701725279, Average Test Meta Loss : 0.20046833869296798\n",
      "Epochh : 62000, Average Train Meta Loss : 0.17772584128583932, Average Test Meta Loss : 0.19785253180223866\n",
      "Epochh : 63000, Average Train Meta Loss : 0.17554247138390838, Average Test Meta Loss : 0.19532141172838097\n",
      "Epochh : 64000, Average Train Meta Loss : 0.1734515779619604, Average Test Meta Loss : 0.19291374806687728\n",
      "Epochh : 65000, Average Train Meta Loss : 0.17138828192728894, Average Test Meta Loss : 0.1905688688647641\n",
      "Epochh : 66000, Average Train Meta Loss : 0.16936702992249564, Average Test Meta Loss : 0.1882614229742435\n",
      "Epochh : 67000, Average Train Meta Loss : 0.16745003941772438, Average Test Meta Loss : 0.18608929589150716\n",
      "Epochh : 68000, Average Train Meta Loss : 0.16553710364428825, Average Test Meta Loss : 0.183959304173145\n",
      "Epochh : 69000, Average Train Meta Loss : 0.16366671847819714, Average Test Meta Loss : 0.1818758023422139\n",
      "Epochh : 70000, Average Train Meta Loss : 0.16191267188706115, Average Test Meta Loss : 0.1798252218338893\n",
      "Epochh : 71000, Average Train Meta Loss : 0.16013538368557162, Average Test Meta Loss : 0.1778221566984347\n",
      "Epochh : 72000, Average Train Meta Loss : 0.1584100888840731, Average Test Meta Loss : 0.17587982868091878\n",
      "Epochh : 73000, Average Train Meta Loss : 0.15672819495812546, Average Test Meta Loss : 0.17396308270301727\n",
      "Epochh : 74000, Average Train Meta Loss : 0.15513492011572544, Average Test Meta Loss : 0.17213709561638282\n",
      "Epochh : 75000, Average Train Meta Loss : 0.15353049475402056, Average Test Meta Loss : 0.17033794630224308\n",
      "Epochh : 76000, Average Train Meta Loss : 0.1520000072149032, Average Test Meta Loss : 0.1686044049493726\n"
     ]
    },
    {
     "name": "stdout",
     "output_type": "stream",
     "text": [
      "Epochh : 77000, Average Train Meta Loss : 0.15051545527683094, Average Test Meta Loss : 0.16691708948556716\n",
      "Epochh : 78000, Average Train Meta Loss : 0.1490085279135063, Average Test Meta Loss : 0.16526329774409296\n",
      "Epochh : 79000, Average Train Meta Loss : 0.14756034040174684, Average Test Meta Loss : 0.16361415516816952\n",
      "Epochh : 80000, Average Train Meta Loss : 0.14616135563978486, Average Test Meta Loss : 0.1620796431157788\n",
      "Epochh : 81000, Average Train Meta Loss : 0.14479022951074905, Average Test Meta Loss : 0.16052348758344043\n",
      "Epochh : 82000, Average Train Meta Loss : 0.14341978740520106, Average Test Meta Loss : 0.15903916797689277\n",
      "Epochh : 83000, Average Train Meta Loss : 0.14206659186480441, Average Test Meta Loss : 0.1575486296456015\n",
      "Epochh : 84000, Average Train Meta Loss : 0.14074475253996244, Average Test Meta Loss : 0.15613359298452012\n",
      "Epochh : 85000, Average Train Meta Loss : 0.1394943728489158, Average Test Meta Loss : 0.15471475348299982\n",
      "Epochh : 86000, Average Train Meta Loss : 0.1382482044701693, Average Test Meta Loss : 0.15332623180789\n",
      "Epochh : 87000, Average Train Meta Loss : 0.13704700933864952, Average Test Meta Loss : 0.15199841214500742\n",
      "Epochh : 88000, Average Train Meta Loss : 0.13587150974472503, Average Test Meta Loss : 0.1506782928956568\n",
      "Epochh : 89000, Average Train Meta Loss : 0.13473111345935068, Average Test Meta Loss : 0.1494198620082456\n",
      "Epochh : 90000, Average Train Meta Loss : 0.13360421656315222, Average Test Meta Loss : 0.14812847103576912\n",
      "Epochh : 91000, Average Train Meta Loss : 0.13247804272896846, Average Test Meta Loss : 0.14687875268260686\n",
      "Epochh : 92000, Average Train Meta Loss : 0.13137849612118907, Average Test Meta Loss : 0.14567051811577328\n",
      "Epochh : 93000, Average Train Meta Loss : 0.1303074160945392, Average Test Meta Loss : 0.14447913871908005\n",
      "Epochh : 94000, Average Train Meta Loss : 0.129251207959383, Average Test Meta Loss : 0.1433144418882279\n",
      "Epochh : 95000, Average Train Meta Loss : 0.1282067825780638, Average Test Meta Loss : 0.14219283618646222\n",
      "Epochh : 96000, Average Train Meta Loss : 0.12719491434765293, Average Test Meta Loss : 0.1410834980733083\n",
      "Epochh : 97000, Average Train Meta Loss : 0.12617923024055122, Average Test Meta Loss : 0.13998621472625566\n",
      "Epochh : 98000, Average Train Meta Loss : 0.12520925471262065, Average Test Meta Loss : 0.13890110012415666\n",
      "Epochh : 99000, Average Train Meta Loss : 0.12425035812451043, Average Test Meta Loss : 0.137831657830216\n"
     ]
    }
   ],
   "source": [
    "# Training loop\n",
    "for epoch in range(epochs):\n",
    "        \n",
    "    # Sample a sine wave (Task from training data)\n",
    "    wave = dataset.get_meta_train_batch(task_batch_size=1)#wave = random.sample(SINE_TRAIN, 1)\n",
    "\n",
    "    # Update model predefined number of times based on k\n",
    "    new_model,_ = training(model, wave[0], lr_k, k)\n",
    "\n",
    "    # Evalaute the loss for the training data\n",
    "    train_set_evaluation(new_model,wave[0],store_train_loss_meta)     \n",
    "    \n",
    "    #Meta-update --> Get gradient for meta loop and update\n",
    "    metaupdate(model,new_model,metaoptimizer)\n",
    "    \n",
    "    # Evalaute the loss for the test data\n",
    "    # Note that we need to sample the wave from the test data\n",
    "    wave = dataset.get_meta_val_batch(task_batch_size=1)#wave = random.sample(SINE_TEST, 1)\n",
    "    test_set_validation(model,new_model,wave[0],lr_k,k,store_test_loss_meta)\n",
    "\n",
    "    # Print losses every 'printing_step' epochs\n",
    "    print_losses(epoch,store_train_loss_meta,store_test_loss_meta,printing_step)"
   ]
  },
  {
   "cell_type": "markdown",
   "id": "bQjoz6FYctJM",
   "metadata": {
    "id": "bQjoz6FYctJM"
   },
   "source": [
    "<h1> Few Shot learning with new meta-model"
   ]
  },
  {
   "cell_type": "code",
   "execution_count": 25,
   "id": "e313217d",
   "metadata": {},
   "outputs": [
    {
     "name": "stderr",
     "output_type": "stream",
     "text": [
      "<ipython-input-20-94f2234b00e2>:19: UserWarning: To copy construct from a tensor, it is recommended to use sourceTensor.clone().detach() or sourceTensor.clone().detach().requires_grad_(True), rather than torch.tensor(sourceTensor).\n",
      "  x = torch.tensor(x[:,None])\n",
      "<ipython-input-20-94f2234b00e2>:20: UserWarning: To copy construct from a tensor, it is recommended to use sourceTensor.clone().detach() or sourceTensor.clone().detach().requires_grad_(True), rather than torch.tensor(sourceTensor).\n",
      "  y_true = torch.tensor(y_true[:,None])\n"
     ]
    },
    {
     "data": {
      "image/png": "[encoded data removed]",
      "text/plain": [
       "<Figure size 576x288 with 1 Axes>"
      ]
     },
     "metadata": {
      "needs_background": "light"
     },
     "output_type": "display_data"
    }
   ],
   "source": [
    "# wave = dataset.get_meta_val_batch(task_batch_size=1)#wave = random.sample(SINE_TEST, 1)\n",
    "#     test_set_validation(model,new_model,wave[0],lr_k,k,store_test_loss_meta)\n",
    "\n",
    "all_losses = []\n",
    "num_eval = 100 \n",
    "num_k_shots = 10\n",
    "\n",
    "test_waves = dataset.get_meta_test_batch(task_batch_size=num_eval)\n",
    "for test_eval in range(num_eval): \n",
    "    test_wave = test_waves[test_eval]\n",
    "    metaTrainLosses = test_set_validation(model,new_model,wave[0],lr_k,num_k_shots,store_test_loss_meta)\n",
    "    all_losses.append(np.array(metaTrainLosses))\n",
    "    \n",
    "\n",
    "all_losses = np.array(all_losses)\n",
    "np.save(f\"reptile_sine_{num_k_shots}.npy\", all_losses)\n",
    "    \n",
    "fig, ax = plt.subplots(figsize=(8,4))\n",
    "\n",
    "mean_loss = np.mean(all_losses, axis=0)\n",
    "\n",
    "# confidence interval plotting help from: https://stackoverflow.com/questions/59747313/how-to-plot-confidence-interval-in-python\n",
    "y = mean_loss\n",
    "x = list(range(num_k_shots))\n",
    "ci = 1.96 * np.std(all_losses, axis=0)**2/np.sqrt(len(y))\n",
    "\n",
    "ax_size=16\n",
    "title_size=18\n",
    "                                                  \n",
    "ax.plot(x, y, linewidth=3, label=f\"Mean Loss\")\n",
    "# to avoid having MSE < 0\n",
    "truncated_error = np.clip(y-ci, a_min=0, a_max=None)\n",
    "ax.fill_between(x, truncated_error, (y+ci), alpha=.5,label=f\"95% CI\")\n",
    "\n",
    "ax.set_xlabel(\"Gradient Steps\",fontsize=ax_size)\n",
    "ax.set_ylabel(\"Mean Squared Error (MSE)\",fontsize=ax_size)\n",
    "ax.set_title(\"Sine Wave Regression: k-Shot Evaluation\",fontsize=title_size)\n",
    "ax.legend()#loc=\"upper right\")\n",
    "plt.savefig(\"reptile_sine_wave_reg_kshot.png\")\n",
    "# ax.set_ylim([0,7])"
   ]
  },
  {
   "cell_type": "code",
   "execution_count": 27,
   "id": "b3c91a84",
   "metadata": {},
   "outputs": [
    {
     "data": {
      "text/plain": [
       "<matplotlib.legend.Legend at 0x7f9de7237eb0>"
      ]
     },
     "execution_count": 27,
     "metadata": {},
     "output_type": "execute_result"
    },
    {
     "data": {
      "image/png": "[encoded data removed]",
      "text/plain": [
       "<Figure size 432x288 with 1 Axes>"
      ]
     },
     "metadata": {
      "needs_background": "light"
     },
     "output_type": "display_data"
    }
   ],
   "source": [
    "num = 20\n",
    "avgTrain = []\n",
    "avgVal = []\n",
    "metaLosses = store_train_loss_meta\n",
    "metaValLosses = store_test_loss_meta\n",
    "for r in range(int(num/2),int(len(metaLosses)-num/2)):\n",
    "    currSum1 = 0\n",
    "    for t in range(int(-num/2),int(num/2)):\n",
    "        currSum1 += metaLosses[r+t]\n",
    "    currSum1 /= num\n",
    "    avgTrain.append(currSum1)\n",
    "    \n",
    "    currSum2 = 0\n",
    "    for s in range(int(-num/2),int(num/2)):\n",
    "        currSum2 += metaValLosses[r+s]\n",
    "    currSum2 /= num\n",
    "    avgVal.append(currSum2)\n",
    "    \n",
    "    \n",
    "plt.plot(avgVal) \n",
    "plt.plot(avgTrain) \n",
    "plt.legend(['Validation Loss','Train Loss'])"
   ]
  },
  {
   "cell_type": "code",
   "execution_count": 14,
   "id": "F4_Y4VF_dpNb",
   "metadata": {
    "colab": {
     "base_uri": "https://localhost:8080/",
     "height": 296
    },
    "id": "F4_Y4VF_dpNb",
    "outputId": "4e200e1a-efb2-40a8-e404-dbdd3386a355"
   },
   "outputs": [
    {
     "data": {
      "text/plain": [
       "Text(0.5, 0, 'k shots')"
      ]
     },
     "execution_count": 14,
     "metadata": {},
     "output_type": "execute_result"
    },
    {
     "data": {
      "image/png": "[encoded data removed]",
      "text/plain": [
       "<Figure size 432x288 with 1 Axes>"
      ]
     },
     "metadata": {
      "needs_background": "light"
     },
     "output_type": "display_data"
    }
   ],
   "source": [
    "plt.plot(store_train_loss_meta,label = 'Loss')\n",
    "plt.legend()\n",
    "plt.xlabel('k shots')"
   ]
  },
  {
   "cell_type": "code",
   "execution_count": null,
   "id": "-4nGnU0foEYo",
   "metadata": {
    "id": "-4nGnU0foEYo"
   },
   "outputs": [],
   "source": []
  }
 ],
 "metadata": {
  "accelerator": "GPU",
  "colab": {
   "collapsed_sections": [],
   "name": "Reptile.ipynb",
   "provenance": []
  },
  "kernelspec": {
   "display_name": "Python 3",
   "language": "python",
   "name": "python3"
  },
  "language_info": {
   "codemirror_mode": {
    "name": "ipython",
    "version": 3
   },
   "file_extension": ".py",
   "mimetype": "text/x-python",
   "name": "python",
   "nbconvert_exporter": "python",
   "pygments_lexer": "ipython3",
   "version": "3.8.8"
  }
 },
 "nbformat": 4,
 "nbformat_minor": 5
}
