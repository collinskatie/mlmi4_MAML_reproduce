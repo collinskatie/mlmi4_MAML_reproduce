{
 "cells": [
  {
   "cell_type": "markdown",
   "id": "UrjQGgr5nUHC",
   "metadata": {
    "id": "UrjQGgr5nUHC"
   },
   "source": [
    "<h1> Imports"
   ]
  },
  {
   "cell_type": "code",
   "execution_count": 1,
   "id": "eGl9mcc0nOMP",
   "metadata": {
    "id": "eGl9mcc0nOMP"
   },
   "outputs": [],
   "source": [
    "import matplotlib.pyplot as plt\n",
    "import numpy as np\n",
    "\n",
    "# Required imports for neural network\n",
    "import torch.nn as nn\n",
    "import torch\n",
    "from torch.autograd import Variable\n",
    "import random"
   ]
  },
  {
   "cell_type": "markdown",
   "id": "T3KVOwFXFOY0",
   "metadata": {
    "id": "T3KVOwFXFOY0"
   },
   "source": [
    "<h1> Data Loading and Generation"
   ]
  },
  {
   "cell_type": "markdown",
   "id": "nMUUm70ufKHH",
   "metadata": {
    "id": "nMUUm70ufKHH"
   },
   "source": [
    "This Sine function generator is based on the repostory: https://github.com/AdrienLE/ANIML/blob/master/ANIML.ipynb"
   ]
  },
  {
   "cell_type": "code",
   "execution_count": 2,
   "id": "a3X51uGHDvSV",
   "metadata": {
    "id": "a3X51uGHDvSV"
   },
   "outputs": [],
   "source": [
    "class SineWaveTask_multi:\n",
    "    def __init__(self,dimensionss=20):\n",
    "        self.dimensions = dimensions\n",
    "        self.a = []\n",
    "        self.b = []\n",
    "        for dim in range(self.dimensions):\n",
    "          self.a.append(np.random.uniform(0.1, 5.0))\n",
    "          self.b.append(np.random.uniform(0, 2*np.pi))\n",
    "        self.train_x = None\n",
    "        \n",
    "    def f(self, x,a,b):\n",
    "        return a * np.sin(x + b)\n",
    "        \n",
    "    def training_set(self, size=10, force_new=False):\n",
    "        if self.train_x is None and not force_new:\n",
    "            self.train_x = np.random.uniform(-5, 5, size)\n",
    "            x = self.train_x\n",
    "\n",
    "        elif not force_new:\n",
    "            x = self.train_x\n",
    "        else:\n",
    "            x = np.random.uniform(-5, 5, size)\n",
    "\n",
    "        y = self.f(x,self.a[0],self.b[0])[:,None]\n",
    "\n",
    "        for dim in range(self.dimensions-1):\n",
    "          y = np.concatenate((y,self.f(x,self.a[dim+1],self.b[dim+1])[:,None]),axis=-1)\n",
    "\n",
    "        return torch.Tensor(x[:,None]), torch.Tensor(y)\n",
    "    \n",
    "    def test_set(self, size=50):\n",
    "        x = np.linspace(-5, 5, size)\n",
    "        y = self.f(x,self.a[0],self.b[0])[:,None]\n",
    "\n",
    "        for dim in range(self.dimensions-1):\n",
    "          y = np.concatenate((y,self.f(x,self.a[dim+1],self.b[dim+1])[:,None]),axis=-1)\n",
    "\n",
    "        return torch.Tensor(x[:,None]), torch.Tensor(y)\n",
    "    \n",
    "\n",
    "TRAIN_SIZE = 20000\n",
    "TEST_SIZE = 1000\n",
    "SINE_TRAIN = [SineWaveTask_multi() for _ in range(TRAIN_SIZE)]\n",
    "SINE_TEST = [SineWaveTask_multi() for _ in range(TEST_SIZE)]"
   ]
  },
  {
   "cell_type": "code",
   "execution_count": 3,
   "id": "Ahv9M3tAJrG7",
   "metadata": {
    "id": "Ahv9M3tAJrG7"
   },
   "outputs": [],
   "source": [
    "x, y_true = SINE_TRAIN[0].training_set()"
   ]
  },
  {
   "cell_type": "code",
   "execution_count": 4,
   "id": "jInHQnwIKKxH",
   "metadata": {
    "colab": {
     "base_uri": "https://localhost:8080/"
    },
    "id": "jInHQnwIKKxH",
    "outputId": "8760f64a-0585-432f-fa26-e9189ee9a6dd"
   },
   "outputs": [
    {
     "data": {
      "text/plain": [
       "torch.Size([10, 20])"
      ]
     },
     "execution_count": 4,
     "metadata": {},
     "output_type": "execute_result"
    }
   ],
   "source": [
    "y_true.shape"
   ]
  },
  {
   "cell_type": "markdown",
   "id": "cu4urLF7Q88A",
   "metadata": {
    "id": "cu4urLF7Q88A"
   },
   "source": [
    "<h1> Neural Network Model"
   ]
  },
  {
   "cell_type": "code",
   "execution_count": 5,
   "id": "R1B0YTz6ytyN",
   "metadata": {
    "id": "R1B0YTz6ytyN"
   },
   "outputs": [],
   "source": [
    "# Define network\n",
    "class Neural_Network_multi(nn.Module):\n",
    "    def __init__(self, input_size=1, hidden_size=40, output_size=20):\n",
    "        super(Neural_Network_multi, self).__init__()\n",
    "        # network layers\n",
    "        self.hidden1 = nn.Linear(input_size,hidden_size)\n",
    "        self.hidden2 = nn.Linear(hidden_size,hidden_size)\n",
    "        self.output_layer = nn.Linear(hidden_size,output_size)\n",
    "\n",
    "        #Activation functions\n",
    "        self.relu = nn.ReLU()\n",
    "        \n",
    "    def forward(self, x):\n",
    "        x = self.hidden1(x)\n",
    "        x = self.relu(x)\n",
    "        x = self.hidden2(x)\n",
    "        x = self.relu(x)\n",
    "        x = self.output_layer(x)\n",
    "        y = x\n",
    "        return y\n"
   ]
  },
  {
   "cell_type": "markdown",
   "id": "G-ExWACxQ3mt",
   "metadata": {
    "id": "G-ExWACxQ3mt"
   },
   "source": [
    "<h1> Helper functions"
   ]
  },
  {
   "cell_type": "code",
   "execution_count": 6,
   "id": "1zyNHFXdOnug",
   "metadata": {
    "id": "1zyNHFXdOnug"
   },
   "outputs": [],
   "source": [
    "# The Minimum Square Error is used to evaluate the difference between prediction and ground truth\n",
    "criterion = nn.MSELoss()\n",
    "\n",
    "def copy_existing_model(model):\n",
    "    # Function to copy an existing model\n",
    "    # We initialize a new model\n",
    "    new_model = Neural_Network_multi()\n",
    "    # Copy the previous model's parameters into the new model\n",
    "    new_model.load_state_dict(model.state_dict())\n",
    "    return new_model\n",
    "\n",
    "def get_samples_in_good_format(wave):\n",
    "  #This function is used to sample data from a wave\n",
    "  x, y_true = wave.training_set()\n",
    "  # We add [:,None] to get the right dimensions to pass to the model: we want K x 1 (we have scalars inputs hence the x 1)\n",
    "  # Note that we convert everything torch tensors\n",
    "  x = torch.tensor(x)\n",
    "  y_true = torch.tensor(y_true)\n",
    "  return x,y_true\n",
    "\n",
    "def initialization_to_store_meta_losses():\n",
    "  # This function creates lists to store the meta losses\n",
    "  global store_train_loss_meta; store_train_loss_meta = []\n",
    "  global store_test_loss_meta; store_test_loss_meta = []\n",
    "\n",
    "def test_set_validation(model,new_model,wave,lr_inner,k,store_test_loss_meta):\n",
    "    # This functions does not actually affect the main algorithm, it is just used to evaluate the new model\n",
    "    new_model = training(model, wave, lr_inner, k)\n",
    "    # Obtain the loss\n",
    "    loss = evaluation(new_model, wave)\n",
    "    # Store loss\n",
    "    store_test_loss_meta.append(loss)\n",
    "\n",
    "def train_set_evaluation(new_model,wave,store_train_loss_meta):\n",
    "    loss = evaluation(new_model, wave)\n",
    "    store_train_loss_meta.append(loss) \n",
    "\n",
    "def print_losses(epoch,store_train_loss_meta,store_test_loss_meta,printing_step=1000):\n",
    "  if epoch % printing_step == 0:\n",
    "    print(f'Epochh : {epoch}, Average Train Meta Loss : {np.mean(store_train_loss_meta)}, Average Test Meta Loss : {np.mean(store_test_loss_meta)}')\n",
    "\n",
    "#This is based on the paper update rule, we calculate the difference between parameters and then this is used by the optimizer, rather than doing the update by hand\n",
    "def reptile_parameter_update(model,new_model):\n",
    "  # Zip models for the loop\n",
    "  zip_models = zip(model.parameters(), new_model.parameters())\n",
    "  for parameter, new_parameter in zip_models:\n",
    "    if parameter.grad is None:\n",
    "      parameter.grad = torch.tensor(torch.zeros_like(parameter))\n",
    "    # Here we are adding the gradient that will later be used by the optimizer\n",
    "    parameter.grad.data.add_(parameter.data - new_parameter.data)\n",
    "\n",
    "# Define commands in order needed for the metaupdate\n",
    "# Note that if we change the order it doesn't behave the same\n",
    "def metaoptimizer_update(metaoptimizer):\n",
    "  # Take step\n",
    "  metaoptimizer.step()\n",
    "  # Reset gradients\n",
    "  metaoptimizer.zero_grad()\n",
    "\n",
    "def metaupdate(model,new_model,metaoptimizer):\n",
    "  # Combine the two previous functions into a single metaupdate function\n",
    "  # First we calculate the gradients\n",
    "  reptile_parameter_update(model,new_model)\n",
    "  # Use those gradients in the optimizer\n",
    "  metaoptimizer_update(metaoptimizer)\n",
    "\n",
    "def evaluation(new_model, wave, item = True):\n",
    "    # Get data\n",
    "    x, label = get_samples_in_good_format(wave)\n",
    "    # Make model prediction\n",
    "    prediction = new_model(x)\n",
    "    # Get loss\n",
    "    if item == True: #Depending on whether we need to return the loss value for storing or for backprop\n",
    "      loss = criterion(prediction,label).item()\n",
    "    else:\n",
    "      loss = criterion(prediction,label)\n",
    "    return loss\n",
    "\n",
    "def training(model, wave, lr_k, k):\n",
    "    # Create new model which we will train on\n",
    "    new_model = copy_existing_model(model)\n",
    "    # Define new optimizer\n",
    "    koptimizer = torch.optim.SGD(new_model.parameters(), lr=lr_k)\n",
    "    # Update the model multiple times, note that k>1 (do not confuse k with K)\n",
    "    for i in range(k):\n",
    "        # Reset optimizer\n",
    "        koptimizer.zero_grad()\n",
    "        # Evaluate the model\n",
    "        loss = evaluation(new_model, wave, item = False)\n",
    "        # Backpropagate\n",
    "        loss.backward()\n",
    "        koptimizer.step()\n",
    "    return new_model"
   ]
  },
  {
   "cell_type": "markdown",
   "id": "-4Ps8P2IRCmF",
   "metadata": {
    "id": "-4Ps8P2IRCmF"
   },
   "source": [
    "<h1> Reptile"
   ]
  },
  {
   "cell_type": "code",
   "execution_count": 9,
   "id": "8ogpg_DHizlC",
   "metadata": {
    "id": "8ogpg_DHizlC"
   },
   "outputs": [],
   "source": [
    "#Define important variables\n",
    "epochs = 10000 * 25 # match number of tasks as maml #int(1e5) # number of epochs \n",
    "lr_meta=0.001 # Learning rate for meta model (outer loop)\n",
    "printing_step=1000 # how many epochs should we wait to print the loss\n",
    "lr_k=0.01 # Internal learning rate\n",
    "k=5 # Number of internal updates for each task\n",
    "\n",
    "# Initializations\n",
    "initialization_to_store_meta_losses()\n",
    "model = Neural_Network_multi()\n",
    "metaoptimizer = torch.optim.Adam(model.parameters(), lr=lr_meta)"
   ]
  },
  {
   "cell_type": "code",
   "execution_count": 10,
   "id": "-4-zQWWKFt3s",
   "metadata": {
    "colab": {
     "base_uri": "https://localhost:8080/",
     "height": 1000
    },
    "id": "-4-zQWWKFt3s",
    "outputId": "747b2ee4-fc6a-487e-98a4-a35d0cf2f7b2"
   },
   "outputs": [
    {
     "name": "stderr",
     "output_type": "stream",
     "text": [
      "<ipython-input-6-7e1e6714c74e>:17: UserWarning: To copy construct from a tensor, it is recommended to use sourceTensor.clone().detach() or sourceTensor.clone().detach().requires_grad_(True), rather than torch.tensor(sourceTensor).\n",
      "  x = torch.tensor(x)\n",
      "<ipython-input-6-7e1e6714c74e>:18: UserWarning: To copy construct from a tensor, it is recommended to use sourceTensor.clone().detach() or sourceTensor.clone().detach().requires_grad_(True), rather than torch.tensor(sourceTensor).\n",
      "  y_true = torch.tensor(y_true)\n",
      "<ipython-input-6-7e1e6714c74e>:48: UserWarning: To copy construct from a tensor, it is recommended to use sourceTensor.clone().detach() or sourceTensor.clone().detach().requires_grad_(True), rather than torch.tensor(sourceTensor).\n",
      "  parameter.grad = torch.tensor(torch.zeros_like(parameter))\n"
     ]
    },
    {
     "name": "stdout",
     "output_type": "stream",
     "text": [
      "Epochh : 0, Average Train Meta Loss : 3.3502609729766846, Average Test Meta Loss : 4.1124114990234375\n",
      "Epochh : 1000, Average Train Meta Loss : 3.900453130324761, Average Test Meta Loss : 3.917694209338902\n",
      "Epochh : 2000, Average Train Meta Loss : 3.5197313318307373, Average Test Meta Loss : 3.544909173402114\n",
      "Epochh : 3000, Average Train Meta Loss : 3.317859416661839, Average Test Meta Loss : 3.346317815049733\n",
      "Epochh : 4000, Average Train Meta Loss : 3.196215017233393, Average Test Meta Loss : 3.2317256881755103\n",
      "Epochh : 5000, Average Train Meta Loss : 3.1138881211327543, Average Test Meta Loss : 3.1610038158917897\n",
      "Epochh : 6000, Average Train Meta Loss : 3.0586615891044207, Average Test Meta Loss : 3.1068280675951154\n",
      "Epochh : 7000, Average Train Meta Loss : 3.0146391687436096, Average Test Meta Loss : 3.0678567603952014\n",
      "Epochh : 8000, Average Train Meta Loss : 2.9803396476356556, Average Test Meta Loss : 3.032469659168383\n",
      "Epochh : 9000, Average Train Meta Loss : 2.9430513087278896, Average Test Meta Loss : 3.004529709564873\n",
      "Epochh : 10000, Average Train Meta Loss : 2.9034527971343795, Average Test Meta Loss : 2.9686899272552334\n",
      "Epochh : 11000, Average Train Meta Loss : 2.861651022752169, Average Test Meta Loss : 2.9279935115543823\n",
      "Epochh : 12000, Average Train Meta Loss : 2.824360243626589, Average Test Meta Loss : 2.8859160100457153\n",
      "Epochh : 13000, Average Train Meta Loss : 2.7834940712187493, Average Test Meta Loss : 2.8399643999697126\n",
      "Epochh : 14000, Average Train Meta Loss : 2.7449895065219545, Average Test Meta Loss : 2.8014278803993213\n",
      "Epochh : 15000, Average Train Meta Loss : 2.703501413334736, Average Test Meta Loss : 2.7597927635776607\n",
      "Epochh : 16000, Average Train Meta Loss : 2.6568979798134515, Average Test Meta Loss : 2.7142230236737417\n",
      "Epochh : 17000, Average Train Meta Loss : 2.6130057714275177, Average Test Meta Loss : 2.670020578631681\n",
      "Epochh : 18000, Average Train Meta Loss : 2.5731253272364203, Average Test Meta Loss : 2.628069426497051\n",
      "Epochh : 19000, Average Train Meta Loss : 2.536407710757609, Average Test Meta Loss : 2.5904470397248955\n",
      "Epochh : 20000, Average Train Meta Loss : 2.500104872782608, Average Test Meta Loss : 2.5555311566987315\n",
      "Epochh : 21000, Average Train Meta Loss : 2.468037527505287, Average Test Meta Loss : 2.5233072167997967\n",
      "Epochh : 22000, Average Train Meta Loss : 2.438680993266325, Average Test Meta Loss : 2.4928723561953947\n",
      "Epochh : 23000, Average Train Meta Loss : 2.410392378911802, Average Test Meta Loss : 2.464884102750066\n",
      "Epochh : 24000, Average Train Meta Loss : 2.3856191537123532, Average Test Meta Loss : 2.4373929024110224\n",
      "Epochh : 25000, Average Train Meta Loss : 2.3626873050987527, Average Test Meta Loss : 2.411552770399512\n",
      "Epochh : 26000, Average Train Meta Loss : 2.3393839450203395, Average Test Meta Loss : 2.3858984740409643\n",
      "Epochh : 27000, Average Train Meta Loss : 2.3162125386919943, Average Test Meta Loss : 2.3608756847783092\n",
      "Epochh : 28000, Average Train Meta Loss : 2.2935820502958735, Average Test Meta Loss : 2.336718920593683\n",
      "Epochh : 29000, Average Train Meta Loss : 2.2713224838501067, Average Test Meta Loss : 2.314494607042746\n",
      "Epochh : 30000, Average Train Meta Loss : 2.250660012604447, Average Test Meta Loss : 2.292460935000026\n",
      "Epochh : 31000, Average Train Meta Loss : 2.229604854179999, Average Test Meta Loss : 2.2702126267463836\n",
      "Epochh : 32000, Average Train Meta Loss : 2.207348413815022, Average Test Meta Loss : 2.248737240225251\n",
      "Epochh : 33000, Average Train Meta Loss : 2.1841731422708985, Average Test Meta Loss : 2.2261184299105223\n",
      "Epochh : 34000, Average Train Meta Loss : 2.1593974556641657, Average Test Meta Loss : 2.1999495040918635\n",
      "Epochh : 35000, Average Train Meta Loss : 2.1311554406727504, Average Test Meta Loss : 2.1692592336195324\n",
      "Epochh : 36000, Average Train Meta Loss : 2.0969631033145664, Average Test Meta Loss : 2.1342523714353074\n",
      "Epochh : 37000, Average Train Meta Loss : 2.0596253306548715, Average Test Meta Loss : 2.096245375001841\n",
      "Epochh : 38000, Average Train Meta Loss : 2.0205879379163347, Average Test Meta Loss : 2.0560566635198465\n",
      "Epochh : 39000, Average Train Meta Loss : 1.9806652330420897, Average Test Meta Loss : 2.0147350266220867\n",
      "Epochh : 40000, Average Train Meta Loss : 1.9403958270642294, Average Test Meta Loss : 1.9749643534803007\n",
      "Epochh : 41000, Average Train Meta Loss : 1.9019012379008402, Average Test Meta Loss : 1.9361086146584516\n",
      "Epochh : 42000, Average Train Meta Loss : 1.8670383344410009, Average Test Meta Loss : 1.898904860270381\n",
      "Epochh : 43000, Average Train Meta Loss : 1.8318551002909649, Average Test Meta Loss : 1.8631467311036745\n",
      "Epochh : 44000, Average Train Meta Loss : 1.7999511906542187, Average Test Meta Loss : 1.8297078546454275\n",
      "Epochh : 45000, Average Train Meta Loss : 1.7689260821900845, Average Test Meta Loss : 1.7977392211883343\n",
      "Epochh : 46000, Average Train Meta Loss : 1.739949598008584, Average Test Meta Loss : 1.7681885021675643\n",
      "Epochh : 47000, Average Train Meta Loss : 1.710691427109778, Average Test Meta Loss : 1.7397257966244608\n",
      "Epochh : 48000, Average Train Meta Loss : 1.683821697797023, Average Test Meta Loss : 1.7111259114118833\n",
      "Epochh : 49000, Average Train Meta Loss : 1.6585775980999307, Average Test Meta Loss : 1.685176440618759\n",
      "Epochh : 50000, Average Train Meta Loss : 1.6324344188414803, Average Test Meta Loss : 1.6595575825744542\n",
      "Epochh : 51000, Average Train Meta Loss : 1.6076577823231917, Average Test Meta Loss : 1.6343903983402004\n",
      "Epochh : 52000, Average Train Meta Loss : 1.5846637820428495, Average Test Meta Loss : 1.6134354615514634\n",
      "Epochh : 53000, Average Train Meta Loss : 1.5621326475466355, Average Test Meta Loss : 1.5905960518743072\n",
      "Epochh : 54000, Average Train Meta Loss : 1.5399179684136854, Average Test Meta Loss : 1.567948329101337\n",
      "Epochh : 55000, Average Train Meta Loss : 1.5184468646502614, Average Test Meta Loss : 1.547186338796543\n",
      "Epochh : 56000, Average Train Meta Loss : 1.4990183735346054, Average Test Meta Loss : 1.5270954587869623\n",
      "Epochh : 57000, Average Train Meta Loss : 1.4784819048739302, Average Test Meta Loss : 1.5073322629012733\n",
      "Epochh : 58000, Average Train Meta Loss : 1.4602926702331542, Average Test Meta Loss : 1.4878633682582834\n",
      "Epochh : 59000, Average Train Meta Loss : 1.4409594341969971, Average Test Meta Loss : 1.470339414911956\n",
      "Epochh : 60000, Average Train Meta Loss : 1.4228948500203338, Average Test Meta Loss : 1.4505058402386397\n",
      "Epochh : 61000, Average Train Meta Loss : 1.4057684747709203, Average Test Meta Loss : 1.432675211161338\n",
      "Epochh : 62000, Average Train Meta Loss : 1.3881604891183636, Average Test Meta Loss : 1.4139231617374304\n",
      "Epochh : 63000, Average Train Meta Loss : 1.3722261042833483, Average Test Meta Loss : 1.3968853206222067\n",
      "Epochh : 64000, Average Train Meta Loss : 1.3558171336527434, Average Test Meta Loss : 1.3810746249185637\n",
      "Epochh : 65000, Average Train Meta Loss : 1.3406497516365339, Average Test Meta Loss : 1.3656614426165767\n",
      "Epochh : 66000, Average Train Meta Loss : 1.32502367652814, Average Test Meta Loss : 1.3493682868089594\n",
      "Epochh : 67000, Average Train Meta Loss : 1.3095575565080066, Average Test Meta Loss : 1.334465687427652\n",
      "Epochh : 68000, Average Train Meta Loss : 1.2942380209447748, Average Test Meta Loss : 1.3195318792211463\n",
      "Epochh : 69000, Average Train Meta Loss : 1.279968356312218, Average Test Meta Loss : 1.3043456743910187\n",
      "Epochh : 70000, Average Train Meta Loss : 1.2655268611898878, Average Test Meta Loss : 1.2894353080380099\n",
      "Epochh : 71000, Average Train Meta Loss : 1.2514664774203104, Average Test Meta Loss : 1.275684517964561\n",
      "Epochh : 72000, Average Train Meta Loss : 1.2374091685482913, Average Test Meta Loss : 1.2619021050039583\n",
      "Epochh : 73000, Average Train Meta Loss : 1.2241415892240726, Average Test Meta Loss : 1.2481265174698615\n",
      "Epochh : 74000, Average Train Meta Loss : 1.210729643201349, Average Test Meta Loss : 1.2351039952256482\n",
      "Epochh : 75000, Average Train Meta Loss : 1.19791989846128, Average Test Meta Loss : 1.2224442171479208\n",
      "Epochh : 76000, Average Train Meta Loss : 1.1850992155284217, Average Test Meta Loss : 1.210262148731583\n",
      "Epochh : 77000, Average Train Meta Loss : 1.1729494713427666, Average Test Meta Loss : 1.1973568369020013\n"
     ]
    },
    {
     "name": "stdout",
     "output_type": "stream",
     "text": [
      "Epochh : 78000, Average Train Meta Loss : 1.1612565595430206, Average Test Meta Loss : 1.1859315880728967\n",
      "Epochh : 79000, Average Train Meta Loss : 1.1494810408301295, Average Test Meta Loss : 1.1738448640207797\n",
      "Epochh : 80000, Average Train Meta Loss : 1.1377161970537026, Average Test Meta Loss : 1.1624335212406949\n",
      "Epochh : 81000, Average Train Meta Loss : 1.126434935900806, Average Test Meta Loss : 1.150803844994755\n",
      "Epochh : 82000, Average Train Meta Loss : 1.1158765873461762, Average Test Meta Loss : 1.1393402296613702\n",
      "Epochh : 83000, Average Train Meta Loss : 1.1048359024220988, Average Test Meta Loss : 1.1289231663705825\n",
      "Epochh : 84000, Average Train Meta Loss : 1.0943356457961448, Average Test Meta Loss : 1.118679189820455\n",
      "Epochh : 85000, Average Train Meta Loss : 1.0841953145088181, Average Test Meta Loss : 1.1091557129692797\n",
      "Epochh : 86000, Average Train Meta Loss : 1.074246551765471, Average Test Meta Loss : 1.0993100122039483\n",
      "Epochh : 87000, Average Train Meta Loss : 1.0642974564827068, Average Test Meta Loss : 1.0896487969573099\n",
      "Epochh : 88000, Average Train Meta Loss : 1.055056466670956, Average Test Meta Loss : 1.0798385421212948\n",
      "Epochh : 89000, Average Train Meta Loss : 1.0454134200513574, Average Test Meta Loss : 1.070340538622066\n",
      "Epochh : 90000, Average Train Meta Loss : 1.0362845270699585, Average Test Meta Loss : 1.061274026754258\n",
      "Epochh : 91000, Average Train Meta Loss : 1.0269919932741192, Average Test Meta Loss : 1.0529700225736716\n",
      "Epochh : 92000, Average Train Meta Loss : 1.018779495173879, Average Test Meta Loss : 1.044138363463299\n",
      "Epochh : 93000, Average Train Meta Loss : 1.0099226903932261, Average Test Meta Loss : 1.0353788909017956\n",
      "Epochh : 94000, Average Train Meta Loss : 1.0018957116558038, Average Test Meta Loss : 1.0277967708921707\n",
      "Epochh : 95000, Average Train Meta Loss : 0.9935021150509908, Average Test Meta Loss : 1.0192159972965817\n",
      "Epochh : 96000, Average Train Meta Loss : 0.9856386230050085, Average Test Meta Loss : 1.0108463814314903\n",
      "Epochh : 97000, Average Train Meta Loss : 0.9774956893911684, Average Test Meta Loss : 1.0031533393139451\n",
      "Epochh : 98000, Average Train Meta Loss : 0.9702735205390232, Average Test Meta Loss : 0.9951184198950696\n",
      "Epochh : 99000, Average Train Meta Loss : 0.962352619550642, Average Test Meta Loss : 0.9874047631573909\n",
      "Epochh : 100000, Average Train Meta Loss : 0.9551638867970181, Average Test Meta Loss : 0.9798581087401887\n",
      "Epochh : 101000, Average Train Meta Loss : 0.9481365273874085, Average Test Meta Loss : 0.9729946435545865\n",
      "Epochh : 102000, Average Train Meta Loss : 0.9408069741678171, Average Test Meta Loss : 0.9659075529142769\n",
      "Epochh : 103000, Average Train Meta Loss : 0.9337728245716546, Average Test Meta Loss : 0.9588915232046793\n",
      "Epochh : 104000, Average Train Meta Loss : 0.9267924560872196, Average Test Meta Loss : 0.9522764655923764\n",
      "Epochh : 105000, Average Train Meta Loss : 0.9200481526632739, Average Test Meta Loss : 0.9453194198744623\n",
      "Epochh : 106000, Average Train Meta Loss : 0.913420648761186, Average Test Meta Loss : 0.9387471790817308\n",
      "Epochh : 107000, Average Train Meta Loss : 0.9072258610738254, Average Test Meta Loss : 0.9326493932121841\n",
      "Epochh : 108000, Average Train Meta Loss : 0.9010346809313047, Average Test Meta Loss : 0.9259857526768803\n",
      "Epochh : 109000, Average Train Meta Loss : 0.8948731991508967, Average Test Meta Loss : 0.9203958134928566\n",
      "Epochh : 110000, Average Train Meta Loss : 0.888782922554546, Average Test Meta Loss : 0.9144218972482053\n",
      "Epochh : 111000, Average Train Meta Loss : 0.8825694385621011, Average Test Meta Loss : 0.9086650492634154\n",
      "Epochh : 112000, Average Train Meta Loss : 0.8768261701758411, Average Test Meta Loss : 0.9027578219073282\n",
      "Epochh : 113000, Average Train Meta Loss : 0.8708958138383508, Average Test Meta Loss : 0.8971496003565677\n",
      "Epochh : 114000, Average Train Meta Loss : 0.8651665024742604, Average Test Meta Loss : 0.8910067487652445\n",
      "Epochh : 115000, Average Train Meta Loss : 0.8594793616779229, Average Test Meta Loss : 0.8854696382736585\n",
      "Epochh : 116000, Average Train Meta Loss : 0.8542805623110481, Average Test Meta Loss : 0.8799350507665505\n",
      "Epochh : 117000, Average Train Meta Loss : 0.848757110938697, Average Test Meta Loss : 0.8746793942509729\n",
      "Epochh : 118000, Average Train Meta Loss : 0.8435780625218973, Average Test Meta Loss : 0.8694422770857033\n",
      "Epochh : 119000, Average Train Meta Loss : 0.8381706470209694, Average Test Meta Loss : 0.864000655358895\n",
      "Epochh : 120000, Average Train Meta Loss : 0.8329553947796043, Average Test Meta Loss : 0.8589636734903594\n",
      "Epochh : 121000, Average Train Meta Loss : 0.8279655798531359, Average Test Meta Loss : 0.8544662268485123\n",
      "Epochh : 122000, Average Train Meta Loss : 0.8229818515354723, Average Test Meta Loss : 0.8499118618786685\n",
      "Epochh : 123000, Average Train Meta Loss : 0.8180952043783498, Average Test Meta Loss : 0.845308188498231\n",
      "Epochh : 124000, Average Train Meta Loss : 0.813451231501692, Average Test Meta Loss : 0.8405208709099207\n",
      "Epochh : 125000, Average Train Meta Loss : 0.808681972151497, Average Test Meta Loss : 0.836174990192889\n",
      "Epochh : 126000, Average Train Meta Loss : 0.8039190656293806, Average Test Meta Loss : 0.8319074803281566\n",
      "Epochh : 127000, Average Train Meta Loss : 0.7990674530325427, Average Test Meta Loss : 0.8276652502836549\n",
      "Epochh : 128000, Average Train Meta Loss : 0.7944241962988594, Average Test Meta Loss : 0.8237752440364704\n",
      "Epochh : 129000, Average Train Meta Loss : 0.7901734078298164, Average Test Meta Loss : 0.8190568133868048\n",
      "Epochh : 130000, Average Train Meta Loss : 0.785549307621092, Average Test Meta Loss : 0.8142786568420205\n",
      "Epochh : 131000, Average Train Meta Loss : 0.7809610654511567, Average Test Meta Loss : 0.8102486765640833\n",
      "Epochh : 132000, Average Train Meta Loss : 0.776858149021346, Average Test Meta Loss : 0.8055898039575744\n",
      "Epochh : 133000, Average Train Meta Loss : 0.7724210471275182, Average Test Meta Loss : 0.801253608410646\n",
      "Epochh : 134000, Average Train Meta Loss : 0.7683955387553149, Average Test Meta Loss : 0.7967949942498392\n",
      "Epochh : 135000, Average Train Meta Loss : 0.7643493512272382, Average Test Meta Loss : 0.7925978843051941\n",
      "Epochh : 136000, Average Train Meta Loss : 0.7603333838596253, Average Test Meta Loss : 0.7887001823434607\n",
      "Epochh : 137000, Average Train Meta Loss : 0.7562526729569847, Average Test Meta Loss : 0.7847027502541957\n",
      "Epochh : 138000, Average Train Meta Loss : 0.7521825390928425, Average Test Meta Loss : 0.7816524850390445\n",
      "Epochh : 139000, Average Train Meta Loss : 0.7483269817872926, Average Test Meta Loss : 0.7777175217361146\n",
      "Epochh : 140000, Average Train Meta Loss : 0.7442917257059621, Average Test Meta Loss : 0.7742918654231994\n",
      "Epochh : 141000, Average Train Meta Loss : 0.7404992411654411, Average Test Meta Loss : 0.7708215775941386\n",
      "Epochh : 142000, Average Train Meta Loss : 0.7369249294415176, Average Test Meta Loss : 0.7670805691608596\n",
      "Epochh : 143000, Average Train Meta Loss : 0.7332978270375832, Average Test Meta Loss : 0.7639593001874558\n",
      "Epochh : 144000, Average Train Meta Loss : 0.7295589318179366, Average Test Meta Loss : 0.7601001401402762\n",
      "Epochh : 145000, Average Train Meta Loss : 0.7259999825630177, Average Test Meta Loss : 0.7566206859079326\n",
      "Epochh : 146000, Average Train Meta Loss : 0.7227125064494088, Average Test Meta Loss : 0.7530267932283444\n",
      "Epochh : 147000, Average Train Meta Loss : 0.7191127787759816, Average Test Meta Loss : 0.7495184373377193\n",
      "Epochh : 148000, Average Train Meta Loss : 0.7156116912176298, Average Test Meta Loss : 0.7462891785944884\n",
      "Epochh : 149000, Average Train Meta Loss : 0.7124717952567184, Average Test Meta Loss : 0.742791434480823\n",
      "Epochh : 150000, Average Train Meta Loss : 0.7090114501392766, Average Test Meta Loss : 0.7391414318188454\n",
      "Epochh : 151000, Average Train Meta Loss : 0.7057699105552491, Average Test Meta Loss : 0.735679483239035\n",
      "Epochh : 152000, Average Train Meta Loss : 0.702725402179152, Average Test Meta Loss : 0.7323522806059821\n",
      "Epochh : 153000, Average Train Meta Loss : 0.6993740324438839, Average Test Meta Loss : 0.7294479402415067\n",
      "Epochh : 154000, Average Train Meta Loss : 0.6964043388966732, Average Test Meta Loss : 0.7264679174745293\n"
     ]
    },
    {
     "name": "stdout",
     "output_type": "stream",
     "text": [
      "Epochh : 155000, Average Train Meta Loss : 0.6933158941355757, Average Test Meta Loss : 0.7233345425578039\n",
      "Epochh : 156000, Average Train Meta Loss : 0.6900944579846569, Average Test Meta Loss : 0.7204490225248525\n",
      "Epochh : 157000, Average Train Meta Loss : 0.6870292720849563, Average Test Meta Loss : 0.7187577228445605\n",
      "Epochh : 158000, Average Train Meta Loss : 0.6840462100514477, Average Test Meta Loss : 0.7161084058042655\n",
      "Epochh : 159000, Average Train Meta Loss : 0.6812153967232056, Average Test Meta Loss : 0.7131568722361857\n",
      "Epochh : 160000, Average Train Meta Loss : 0.6781240234597915, Average Test Meta Loss : 0.7102965882752977\n",
      "Epochh : 161000, Average Train Meta Loss : 0.6752901526375065, Average Test Meta Loss : 0.707487425819898\n",
      "Epochh : 162000, Average Train Meta Loss : 0.6725525716137125, Average Test Meta Loss : 0.704573202068017\n",
      "Epochh : 163000, Average Train Meta Loss : 0.669593033643375, Average Test Meta Loss : 0.7015202575463755\n",
      "Epochh : 164000, Average Train Meta Loss : 0.6666472497040686, Average Test Meta Loss : 0.6986694346862075\n",
      "Epochh : 165000, Average Train Meta Loss : 0.6639400364545103, Average Test Meta Loss : 0.6962116873797588\n",
      "Epochh : 166000, Average Train Meta Loss : 0.6612300268219982, Average Test Meta Loss : 0.6933398985744839\n",
      "Epochh : 167000, Average Train Meta Loss : 0.6588814999087222, Average Test Meta Loss : 0.69071479001015\n",
      "Epochh : 168000, Average Train Meta Loss : 0.6560591215050204, Average Test Meta Loss : 0.6880502685346606\n",
      "Epochh : 169000, Average Train Meta Loss : 0.6535487734520853, Average Test Meta Loss : 0.6856219322370641\n",
      "Epochh : 170000, Average Train Meta Loss : 0.6508183823706556, Average Test Meta Loss : 0.6836324668703058\n",
      "Epochh : 171000, Average Train Meta Loss : 0.6482444511936568, Average Test Meta Loss : 0.6808166086350679\n",
      "Epochh : 172000, Average Train Meta Loss : 0.6456335706924731, Average Test Meta Loss : 0.6783034111811121\n",
      "Epochh : 173000, Average Train Meta Loss : 0.6428612925726928, Average Test Meta Loss : 0.6758357797855828\n",
      "Epochh : 174000, Average Train Meta Loss : 0.6402142056690843, Average Test Meta Loss : 0.6732796996889925\n",
      "Epochh : 175000, Average Train Meta Loss : 0.6376840048617736, Average Test Meta Loss : 0.6709201136339772\n",
      "Epochh : 176000, Average Train Meta Loss : 0.6351890994040762, Average Test Meta Loss : 0.6684167940191448\n",
      "Epochh : 177000, Average Train Meta Loss : 0.6328800753739842, Average Test Meta Loss : 0.6662961377749956\n",
      "Epochh : 178000, Average Train Meta Loss : 0.6304061890505291, Average Test Meta Loss : 0.6641659096072291\n",
      "Epochh : 179000, Average Train Meta Loss : 0.6280770142849423, Average Test Meta Loss : 0.6616290043961809\n",
      "Epochh : 180000, Average Train Meta Loss : 0.6255968889578859, Average Test Meta Loss : 0.6594623196317093\n",
      "Epochh : 181000, Average Train Meta Loss : 0.6231407285347244, Average Test Meta Loss : 0.6570681681097391\n",
      "Epochh : 182000, Average Train Meta Loss : 0.6211016146180492, Average Test Meta Loss : 0.6544464218415909\n",
      "Epochh : 183000, Average Train Meta Loss : 0.6187066250214696, Average Test Meta Loss : 0.6527190987945504\n",
      "Epochh : 184000, Average Train Meta Loss : 0.6165647341049969, Average Test Meta Loss : 0.6504426724055413\n",
      "Epochh : 185000, Average Train Meta Loss : 0.614445163756388, Average Test Meta Loss : 0.648166172488002\n",
      "Epochh : 186000, Average Train Meta Loss : 0.6122057993189746, Average Test Meta Loss : 0.6458417713601232\n",
      "Epochh : 187000, Average Train Meta Loss : 0.6099548688336892, Average Test Meta Loss : 0.6435772565467949\n",
      "Epochh : 188000, Average Train Meta Loss : 0.6077258812451422, Average Test Meta Loss : 0.6415304421768542\n",
      "Epochh : 189000, Average Train Meta Loss : 0.6058199651157762, Average Test Meta Loss : 0.6395904527259408\n",
      "Epochh : 190000, Average Train Meta Loss : 0.6035503637348575, Average Test Meta Loss : 0.6376972549737715\n",
      "Epochh : 191000, Average Train Meta Loss : 0.6014722596857595, Average Test Meta Loss : 0.6357338961997172\n",
      "Epochh : 192000, Average Train Meta Loss : 0.599477732416716, Average Test Meta Loss : 0.6337850129389708\n",
      "Epochh : 193000, Average Train Meta Loss : 0.5975387223603298, Average Test Meta Loss : 0.6319254571584154\n",
      "Epochh : 194000, Average Train Meta Loss : 0.59548503927763, Average Test Meta Loss : 0.6296607096863689\n",
      "Epochh : 195000, Average Train Meta Loss : 0.5934199581375597, Average Test Meta Loss : 0.6276633193501062\n",
      "Epochh : 196000, Average Train Meta Loss : 0.5915221004230395, Average Test Meta Loss : 0.6256485743716467\n",
      "Epochh : 197000, Average Train Meta Loss : 0.5894166992056543, Average Test Meta Loss : 0.6237336657892341\n",
      "Epochh : 198000, Average Train Meta Loss : 0.5874905611475864, Average Test Meta Loss : 0.6218283290564767\n",
      "Epochh : 199000, Average Train Meta Loss : 0.5856388146922026, Average Test Meta Loss : 0.6198648845109465\n",
      "Epochh : 200000, Average Train Meta Loss : 0.5835149794299163, Average Test Meta Loss : 0.6180828900031806\n",
      "Epochh : 201000, Average Train Meta Loss : 0.5816534340885683, Average Test Meta Loss : 0.6170406626132244\n",
      "Epochh : 202000, Average Train Meta Loss : 0.5798177861146165, Average Test Meta Loss : 0.6152451899431113\n",
      "Epochh : 203000, Average Train Meta Loss : 0.577863417716563, Average Test Meta Loss : 0.6133457934443124\n",
      "Epochh : 204000, Average Train Meta Loss : 0.576097860932026, Average Test Meta Loss : 0.6118585875209512\n",
      "Epochh : 205000, Average Train Meta Loss : 0.5740988125396363, Average Test Meta Loss : 0.6099085770421117\n",
      "Epochh : 206000, Average Train Meta Loss : 0.5722711686890649, Average Test Meta Loss : 0.6084563311225974\n",
      "Epochh : 207000, Average Train Meta Loss : 0.5707019069761863, Average Test Meta Loss : 0.606485974140917\n",
      "Epochh : 208000, Average Train Meta Loss : 0.5688156248076702, Average Test Meta Loss : 0.6048220392409281\n",
      "Epochh : 209000, Average Train Meta Loss : 0.5671898644291914, Average Test Meta Loss : 0.6028181975142048\n",
      "Epochh : 210000, Average Train Meta Loss : 0.5654386140226296, Average Test Meta Loss : 0.600965554164555\n",
      "Epochh : 211000, Average Train Meta Loss : 0.5636646099467136, Average Test Meta Loss : 0.5993947985032695\n",
      "Epochh : 212000, Average Train Meta Loss : 0.5619190009206639, Average Test Meta Loss : 0.597988769277652\n",
      "Epochh : 213000, Average Train Meta Loss : 0.5602137849554779, Average Test Meta Loss : 0.5962867452201738\n",
      "Epochh : 214000, Average Train Meta Loss : 0.5588106564039618, Average Test Meta Loss : 0.594586490431943\n",
      "Epochh : 215000, Average Train Meta Loss : 0.5571405829496887, Average Test Meta Loss : 0.5927309921210583\n",
      "Epochh : 216000, Average Train Meta Loss : 0.5555574149586736, Average Test Meta Loss : 0.5910916429755447\n",
      "Epochh : 217000, Average Train Meta Loss : 0.5538242811133702, Average Test Meta Loss : 0.5897965930414828\n",
      "Epochh : 218000, Average Train Meta Loss : 0.5524515233724778, Average Test Meta Loss : 0.5881208425423275\n",
      "Epochh : 219000, Average Train Meta Loss : 0.5507794585451837, Average Test Meta Loss : 0.5863783231242231\n",
      "Epochh : 220000, Average Train Meta Loss : 0.5492759850807833, Average Test Meta Loss : 0.5847002190598977\n",
      "Epochh : 221000, Average Train Meta Loss : 0.5476040744681977, Average Test Meta Loss : 0.5829950534250139\n",
      "Epochh : 222000, Average Train Meta Loss : 0.5459179623678649, Average Test Meta Loss : 0.5814925381960574\n",
      "Epochh : 223000, Average Train Meta Loss : 0.5443244434878074, Average Test Meta Loss : 0.5801189569520468\n",
      "Epochh : 224000, Average Train Meta Loss : 0.5427466218122097, Average Test Meta Loss : 0.5787784773835\n",
      "Epochh : 225000, Average Train Meta Loss : 0.5411594060667853, Average Test Meta Loss : 0.5773394050106528\n",
      "Epochh : 226000, Average Train Meta Loss : 0.5395494493266204, Average Test Meta Loss : 0.5761738116336232\n",
      "Epochh : 227000, Average Train Meta Loss : 0.5382826767294192, Average Test Meta Loss : 0.5748941687051192\n",
      "Epochh : 228000, Average Train Meta Loss : 0.5366783716339487, Average Test Meta Loss : 0.5733177788715035\n",
      "Epochh : 229000, Average Train Meta Loss : 0.535262846783788, Average Test Meta Loss : 0.5717541003219169\n",
      "Epochh : 230000, Average Train Meta Loss : 0.5338787862560378, Average Test Meta Loss : 0.5701483845373327\n",
      "Epochh : 231000, Average Train Meta Loss : 0.5323811035612207, Average Test Meta Loss : 0.5687934680841111\n"
     ]
    },
    {
     "name": "stdout",
     "output_type": "stream",
     "text": [
      "Epochh : 232000, Average Train Meta Loss : 0.530843334797914, Average Test Meta Loss : 0.5674544837962394\n",
      "Epochh : 233000, Average Train Meta Loss : 0.529502118481463, Average Test Meta Loss : 0.5659693563145021\n",
      "Epochh : 234000, Average Train Meta Loss : 0.5280866275515049, Average Test Meta Loss : 0.5650265098800601\n",
      "Epochh : 235000, Average Train Meta Loss : 0.5268543659292445, Average Test Meta Loss : 0.563521344684749\n",
      "Epochh : 236000, Average Train Meta Loss : 0.5254298713764145, Average Test Meta Loss : 0.5620843543984931\n",
      "Epochh : 237000, Average Train Meta Loss : 0.5244311994751221, Average Test Meta Loss : 0.5607280790445995\n",
      "Epochh : 238000, Average Train Meta Loss : 0.5230630823905367, Average Test Meta Loss : 0.55919725667398\n",
      "Epochh : 239000, Average Train Meta Loss : 0.5217565922859876, Average Test Meta Loss : 0.5580359662396513\n",
      "Epochh : 240000, Average Train Meta Loss : 0.5205220884944202, Average Test Meta Loss : 0.556590267609518\n",
      "Epochh : 241000, Average Train Meta Loss : 0.519221004492377, Average Test Meta Loss : 0.5554421017637614\n",
      "Epochh : 242000, Average Train Meta Loss : 0.5178263960595195, Average Test Meta Loss : 0.554178460196725\n",
      "Epochh : 243000, Average Train Meta Loss : 0.5165753087741978, Average Test Meta Loss : 0.5528722564754208\n",
      "Epochh : 244000, Average Train Meta Loss : 0.515313355925045, Average Test Meta Loss : 0.5514699906378772\n",
      "Epochh : 245000, Average Train Meta Loss : 0.5141285679302808, Average Test Meta Loss : 0.5503045103863053\n",
      "Epochh : 246000, Average Train Meta Loss : 0.5128326240377377, Average Test Meta Loss : 0.5490569345826632\n",
      "Epochh : 247000, Average Train Meta Loss : 0.5115460671103739, Average Test Meta Loss : 0.5476839843784447\n",
      "Epochh : 248000, Average Train Meta Loss : 0.5102839853016419, Average Test Meta Loss : 0.546706454163449\n",
      "Epochh : 249000, Average Train Meta Loss : 0.5090606357395301, Average Test Meta Loss : 0.5455363852445736\n"
     ]
    }
   ],
   "source": [
    "# Training loop\n",
    "for epoch in range(epochs):\n",
    "        \n",
    "    # Sample a sine wave (Task from training data)\n",
    "    wave = random.sample(SINE_TRAIN, 1)\n",
    "\n",
    "    # Update model predefined number of times based on k\n",
    "    new_model = training(model, wave[0], lr_k, k)\n",
    "\n",
    "    # Evalaute the loss for the training data\n",
    "    train_set_evaluation(new_model,wave[0],store_train_loss_meta)     \n",
    "    \n",
    "    #Meta-update --> Get gradient for meta loop and update\n",
    "    metaupdate(model,new_model,metaoptimizer)\n",
    "    \n",
    "    # Evalaute the loss for the test data\n",
    "    # Note that we need to sample the wave from the test data\n",
    "    wave = random.sample(SINE_TEST, 1)\n",
    "    test_set_validation(model,new_model,wave[0],lr_k,k,store_test_loss_meta)\n",
    "\n",
    "    # Print losses every 'printing_step' epochs\n",
    "    print_losses(epoch,store_train_loss_meta,store_test_loss_meta,printing_step)"
   ]
  },
  {
   "cell_type": "markdown",
   "id": "bQjoz6FYctJM",
   "metadata": {
    "id": "bQjoz6FYctJM"
   },
   "source": [
    "<h1> Few Shot learning with new meta-model"
   ]
  },
  {
   "cell_type": "markdown",
   "id": "m-SPUG5Bfpe9",
   "metadata": {
    "id": "m-SPUG5Bfpe9"
   },
   "source": [
    "The model performs good few shot learning"
   ]
  },
  {
   "cell_type": "code",
   "execution_count": 11,
   "id": "GY84TNs8JXVH",
   "metadata": {
    "colab": {
     "base_uri": "https://localhost:8080/",
     "height": 351
    },
    "id": "GY84TNs8JXVH",
    "outputId": "1f8f1545-9c7f-4c55-bd7a-520642859f4d"
   },
   "outputs": [
    {
     "name": "stderr",
     "output_type": "stream",
     "text": [
      "<ipython-input-6-7e1e6714c74e>:17: UserWarning: To copy construct from a tensor, it is recommended to use sourceTensor.clone().detach() or sourceTensor.clone().detach().requires_grad_(True), rather than torch.tensor(sourceTensor).\n",
      "  x = torch.tensor(x)\n",
      "<ipython-input-6-7e1e6714c74e>:18: UserWarning: To copy construct from a tensor, it is recommended to use sourceTensor.clone().detach() or sourceTensor.clone().detach().requires_grad_(True), rather than torch.tensor(sourceTensor).\n",
      "  y_true = torch.tensor(y_true)\n"
     ]
    },
    {
     "data": {
      "text/plain": [
       "Text(0.5, 0, 'k shots')"
      ]
     },
     "execution_count": 11,
     "metadata": {},
     "output_type": "execute_result"
    },
    {
     "data": {
      "image/png": "[encoded data removed]",
      "text/plain": [
       "<Figure size 432x288 with 1 Axes>"
      ]
     },
     "metadata": {
      "needs_background": "light"
     },
     "output_type": "display_data"
    }
   ],
   "source": [
    "wave = SineWaveTask_multi(); \n",
    "k_shot_updates = 4\n",
    "initialization_to_store_meta_losses()\n",
    "for shots in range(k_shot_updates):\n",
    "    new_model = training(model, wave, lr_k, shots)\n",
    "    train_set_evaluation(new_model,wave,store_train_loss_meta) \n",
    "\n",
    "plt.plot(store_train_loss_meta,label = 'Loss')\n",
    "plt.legend()\n",
    "plt.xlabel('k shots')"
   ]
  },
  {
   "cell_type": "code",
   "execution_count": 16,
   "id": "5lL1NN2OPBSD",
   "metadata": {
    "id": "5lL1NN2OPBSD"
   },
   "outputs": [
    {
     "name": "stderr",
     "output_type": "stream",
     "text": [
      "<ipython-input-6-7e1e6714c74e>:17: UserWarning: To copy construct from a tensor, it is recommended to use sourceTensor.clone().detach() or sourceTensor.clone().detach().requires_grad_(True), rather than torch.tensor(sourceTensor).\n",
      "  x = torch.tensor(x)\n",
      "<ipython-input-6-7e1e6714c74e>:18: UserWarning: To copy construct from a tensor, it is recommended to use sourceTensor.clone().detach() or sourceTensor.clone().detach().requires_grad_(True), rather than torch.tensor(sourceTensor).\n",
      "  y_true = torch.tensor(y_true)\n"
     ]
    },
    {
     "data": {
      "image/png": "[encoded data removed]",
      "text/plain": [
       "<Figure size 576x288 with 1 Axes>"
      ]
     },
     "metadata": {
      "needs_background": "light"
     },
     "output_type": "display_data"
    }
   ],
   "source": [
    "all_losses = []\n",
    "num_eval = 100 \n",
    "num_k_shots = 10\n",
    "\n",
    "for test_eval in range(num_eval): \n",
    "\n",
    "    wave = SineWaveTask_multi(); \n",
    "    k_shot_updates = num_k_shots\n",
    "    initialization_to_store_meta_losses()\n",
    "    for shots in range(k_shot_updates):\n",
    "        new_model = training(model, wave, lr_k, shots)\n",
    "        train_set_evaluation(new_model,wave,store_train_loss_meta) \n",
    "        \n",
    "    all_losses.append(np.array(store_train_loss_meta))\n",
    "\n",
    "all_losses = np.array(all_losses)\n",
    "np.save(f\"reptile_multi_sine_{num_k_shots}.npy\", all_losses)\n",
    "    \n",
    "fig, ax = plt.subplots(figsize=(8,4))\n",
    "\n",
    "mean_loss = np.mean(all_losses, axis=0)\n",
    "\n",
    "# confidence interval plotting help from: https://stackoverflow.com/questions/59747313/how-to-plot-confidence-interval-in-python\n",
    "y = mean_loss\n",
    "x = list(range(num_k_shots))\n",
    "ci = 1.96 * np.std(all_losses, axis=0)**2/np.sqrt(len(y))\n",
    "\n",
    "ax_size=16\n",
    "title_size=18\n",
    "                                                  \n",
    "ax.plot(x, y, linewidth=3, label=f\"Mean Loss\")\n",
    "ax.fill_between(x, (y-ci), (y+ci), alpha=.5,label=f\"95% CI\")\n",
    "ax.set_xlabel(\"Gradient Steps\",fontsize=ax_size)\n",
    "ax.set_ylabel(\"Mean Squared Error (MSE)\",fontsize=ax_size)\n",
    "ax.set_title(\"Sine Wave Regression: k-Shot Evaluation\",fontsize=title_size)\n",
    "ax.legend()#loc=\"upper right\")\n",
    "plt.savefig(\"reptile_sine_wave_multidim_reg_kshot.png\")"
   ]
  },
  {
   "cell_type": "code",
   "execution_count": 17,
   "id": "ebd907d1",
   "metadata": {},
   "outputs": [
    {
     "name": "stdout",
     "output_type": "stream",
     "text": [
      "Step: 0, Error: 4.271460993289947, Var: 0.5044112672999187\n",
      "Step: 1, Error: 0.9666936871409416, Var: 0.15643948267392863\n",
      "Step: 9, Error: 0.1574726511305198, Var: 0.040687012628613795\n"
     ]
    }
   ],
   "source": [
    "analysis_steps = [0, 1, num_k_shots-1]\n",
    "for analysis_step in analysis_steps: \n",
    "    print(f\"Step: {analysis_step}, Error: {mean_loss[analysis_step]}, Var: {ci[analysis_step]}\")"
   ]
  },
  {
   "cell_type": "code",
   "execution_count": null,
   "id": "e7f0a896",
   "metadata": {},
   "outputs": [],
   "source": []
  }
 ],
 "metadata": {
  "accelerator": "GPU",
  "colab": {
   "collapsed_sections": [],
   "name": "Reptile_multidimensional_sinewave.ipynb",
   "provenance": []
  },
  "kernelspec": {
   "display_name": "Python 3",
   "language": "python",
   "name": "python3"
  },
  "language_info": {
   "codemirror_mode": {
    "name": "ipython",
    "version": 3
   },
   "file_extension": ".py",
   "mimetype": "text/x-python",
   "name": "python",
   "nbconvert_exporter": "python",
   "pygments_lexer": "ipython3",
   "version": "3.8.8"
  }
 },
 "nbformat": 4,
 "nbformat_minor": 5
}
