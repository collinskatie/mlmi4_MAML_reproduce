{
  "cells": [
    {
      "cell_type": "markdown",
      "source": [
        "Notes: \n",
        "- some helper functions have been modified for this task\n",
        "- graph specific extra helper functions have been added\n",
        "- A normalization trick has been used to bound the regression target of all tasks between 0 and 1 and ease meta learning (note that in the original sinewave regression, a bound also existed on the y target based on the wave amplitude)."
      ],
      "metadata": {
        "id": "jNrO9U6opKV0"
      },
      "id": "jNrO9U6opKV0"
    },
    {
      "cell_type": "markdown",
      "source": [
        "<h1> Imports and Installs"
      ],
      "metadata": {
        "id": "UrjQGgr5nUHC"
      },
      "id": "UrjQGgr5nUHC"
    },
    {
      "cell_type": "code",
      "source": [
        "# Install required packages.\n",
        "!pip install -q torch-scatter -f https://pytorch-geometric.com/whl/torch-1.10.0+cu113.html\n",
        "!pip install -q torch-sparse -f https://pytorch-geometric.com/whl/torch-1.10.0+cu113.html\n",
        "!pip install -q git+https://github.com/rusty1s/pytorch_geometric.git"
      ],
      "metadata": {
        "id": "S2WfmJiVTDpE",
        "colab": {
          "base_uri": "https://localhost:8080/"
        },
        "outputId": "7bd3361b-61ca-4bf0-e15e-e42c11b62f9d"
      },
      "id": "S2WfmJiVTDpE",
      "execution_count": null,
      "outputs": [
        {
          "output_type": "stream",
          "name": "stdout",
          "text": [
            "  Building wheel for torch-geometric (setup.py) ... \u001b[?25l\u001b[?25hdone\n"
          ]
        }
      ]
    },
    {
      "cell_type": "code",
      "source": [
        "import matplotlib.pyplot as plt\n",
        "import numpy as np\n",
        "\n",
        "# Required imports for neural network\n",
        "import torch.nn as nn\n",
        "import torch\n",
        "from torch.autograd import Variable\n",
        "import random\n",
        "\n",
        "# For GNNs\n",
        "from torch.nn import Linear\n",
        "from torch.nn import BatchNorm1d\n",
        "import torch.nn.functional as F\n",
        "from torch_geometric.nn import GATv2Conv\n",
        "from torch_geometric.nn import GraphConv\n",
        "from torch_geometric.nn import GraphNorm\n",
        "from torch_geometric.nn import global_mean_pool\n",
        "from torch_geometric.nn import global_max_pool\n",
        "import torch.nn as nn"
      ],
      "metadata": {
        "id": "eGl9mcc0nOMP"
      },
      "id": "eGl9mcc0nOMP",
      "execution_count": null,
      "outputs": []
    },
    {
      "cell_type": "markdown",
      "source": [
        "<h1> Data Loading and Generation\n",
        "\n",
        "Reptile for regression task using GNNs\n",
        "\n",
        "Some common GNN datasets are here:\n",
        "https://pytorch-geometric.readthedocs.io/en/latest/modules/datasets.html#torch_geometric.datasets.GNNBenchmarkDataset\n",
        "\n",
        "We will use a regression dataset with 19 regression targets from the paper:\n",
        "“MoleculeNet: A Benchmark for Molecular Machine Learning”"
      ],
      "metadata": {
        "id": "T3KVOwFXFOY0"
      },
      "id": "T3KVOwFXFOY0"
    },
    {
      "cell_type": "markdown",
      "source": [
        "For this implementation we focus on regressing only the Dipole moment"
      ],
      "metadata": {
        "id": "jvvZSOiQe-Ne"
      },
      "id": "jvvZSOiQe-Ne"
    },
    {
      "cell_type": "code",
      "source": [
        "import torch\n",
        "from torch_geometric.datasets import QM9\n",
        "\n",
        "dataset = QM9(root='data/QM9')"
      ],
      "metadata": {
        "id": "PIExsutGTQcB"
      },
      "id": "PIExsutGTQcB",
      "execution_count": null,
      "outputs": []
    },
    {
      "cell_type": "code",
      "source": [
        "# This function is based on https://pytorch-geometric.readthedocs.io/en/latest/notes/colabs.html\n",
        "\n",
        "#Function to display properties of the dataset (it is not necessary for anything)\n",
        "def display_graph_dataset_properties(dataset):\n",
        "  print()\n",
        "  print(f'Dataset: {dataset}:')\n",
        "  print('====================')\n",
        "  print(f'Number of graphs: {len(dataset)}')\n",
        "  print(f'Number of features: {dataset.num_features}')\n",
        "  print(f'Number of classes: {dataset.num_classes}')\n",
        "\n",
        "  data = dataset[0]  # Get the first graph object.Ç\n",
        "\n",
        "  print()\n",
        "  print('Look at a sample graph of the dataset')\n",
        "  print(data)\n",
        "  print('=============================================================')\n",
        "\n",
        "  # Gather some statistics about the first graph.\n",
        "  print(f'Number of nodes: {data.num_nodes}')\n",
        "  print(f'Number of edges: {data.num_edges}')\n",
        "  print(f'Average node degree: {data.num_edges / data.num_nodes:.2f}')\n",
        "  print(f'Has isolated nodes: {data.has_isolated_nodes()}')\n",
        "  print(f'Has self-loops: {data.has_self_loops()}')\n",
        "  print(f'Is undirected: {data.is_undirected()}')"
      ],
      "metadata": {
        "id": "LxK2rDRNTSxd"
      },
      "id": "LxK2rDRNTSxd",
      "execution_count": null,
      "outputs": []
    },
    {
      "cell_type": "code",
      "source": [
        "display_graph_dataset_properties(dataset)"
      ],
      "metadata": {
        "colab": {
          "base_uri": "https://localhost:8080/"
        },
        "id": "GC6T1VZPF9Ba",
        "outputId": "28c3d418-518b-4072-d19f-1e35ff586954"
      },
      "id": "GC6T1VZPF9Ba",
      "execution_count": null,
      "outputs": [
        {
          "output_type": "stream",
          "name": "stdout",
          "text": [
            "\n",
            "Dataset: QM9(130831):\n",
            "====================\n",
            "Number of graphs: 130831\n",
            "Number of features: 11\n",
            "Number of classes: 19\n",
            "\n",
            "Look at a sample graph of the dataset\n",
            "Data(x=[5, 11], edge_index=[2, 8], edge_attr=[8, 4], y=[1, 19], pos=[5, 3], idx=[1], name='gdb_1', z=[5])\n",
            "=============================================================\n",
            "Number of nodes: 5\n",
            "Number of edges: 8\n",
            "Average node degree: 1.60\n",
            "Has isolated nodes: False\n",
            "Has self-loops: False\n",
            "Is undirected: True\n"
          ]
        }
      ]
    },
    {
      "cell_type": "code",
      "source": [
        "# Transform the dataset into a list\n",
        "dataset_list = []\n",
        "\n",
        "for i in range(len(dataset)):\n",
        "  dataset_list.append(dataset[i])"
      ],
      "metadata": {
        "id": "lD_MRHC8T8Za"
      },
      "id": "lD_MRHC8T8Za",
      "execution_count": null,
      "outputs": []
    },
    {
      "cell_type": "code",
      "source": [
        "#Shuffle the dataset list\n",
        "random.shuffle(dataset_list)\n",
        "#Split into train and test\n",
        "GRAPH_TRAIN = dataset_list[:int(np.floor(len(dataset_list)*0.9))]\n",
        "GRAPH_TEST = dataset_list[int(np.floor(len(dataset_list)*0.9)):]"
      ],
      "metadata": {
        "id": "a3X51uGHDvSV"
      },
      "id": "a3X51uGHDvSV",
      "execution_count": null,
      "outputs": []
    },
    {
      "cell_type": "markdown",
      "source": [
        "<h1> Equivariant Message Passing Model (based on Haitz Sáez de Ocáriz Borde's coursework for L45)"
      ],
      "metadata": {
        "id": "i8e0UtCj9yUh"
      },
      "id": "i8e0UtCj9yUh"
    },
    {
      "cell_type": "code",
      "source": [
        "!pip install -q torch-scatter -f https://pytorch-geometric.com/whl/torch-1.10.0+cu111.html\n",
        "!pip install -q torch-geometric==2.0.3"
      ],
      "metadata": {
        "id": "NLQskUOr_Q8E"
      },
      "id": "NLQskUOr_Q8E",
      "execution_count": null,
      "outputs": []
    },
    {
      "cell_type": "code",
      "source": [
        "from torch_geometric.nn import MessagePassing\n",
        "#To calculate euclidean distance\n",
        "import torch.nn as nn\n",
        "pdist = nn.PairwiseDistance(p=2)\n",
        "from torch.nn import Linear, ReLU, BatchNorm1d, Module, Sequential\n",
        "from torch_scatter import scatter\n",
        "from torch_scatter import scatter_mean"
      ],
      "metadata": {
        "id": "iVImWCea--7k"
      },
      "id": "iVImWCea--7k",
      "execution_count": null,
      "outputs": []
    },
    {
      "cell_type": "code",
      "source": [
        "class MPNNLayer(MessagePassing):\n",
        "    def __init__(self, emb_dim=64, edge_dim=4, aggr='add'):\n",
        "        \"\"\"Message Passing Neural Network Layer\n",
        "\n",
        "        Args:\n",
        "            emb_dim: (int) - hidden dimension `d`\n",
        "            edge_dim: (int) - edge feature dimension `d_e`\n",
        "            aggr: (str) - aggregation function `\\oplus` (sum/mean/max)\n",
        "        \"\"\"\n",
        "        # Set the aggregation function\n",
        "        super().__init__(aggr=aggr)\n",
        "\n",
        "        self.emb_dim = emb_dim\n",
        "        self.edge_dim = edge_dim\n",
        "\n",
        "        # MLP `\\psi` for computing messages `m_ij`\n",
        "        # Implemented as a stack of Linear->BN->ReLU->Linear->BN->ReLU\n",
        "        # dims: (2d + d_e) -> d\n",
        "        self.mlp_msg = Sequential(\n",
        "            Linear(2*emb_dim + edge_dim, emb_dim), BatchNorm1d(emb_dim), ReLU(),\n",
        "            Linear(emb_dim, emb_dim), BatchNorm1d(emb_dim), ReLU()\n",
        "          )\n",
        "        \n",
        "        # MLP `\\phi` for computing updated node features `h_i^{l+1}`\n",
        "        # Implemented as a stack of Linear->BN->ReLU->Linear->BN->ReLU\n",
        "        # dims: 2d -> d\n",
        "        self.mlp_upd = Sequential(\n",
        "            Linear(2*emb_dim, emb_dim), BatchNorm1d(emb_dim), ReLU(), \n",
        "            Linear(emb_dim, emb_dim), BatchNorm1d(emb_dim), ReLU()\n",
        "          )\n",
        "\n",
        "    def forward(self, h, edge_index, edge_attr):\n",
        "        \"\"\"\n",
        "        The forward pass updates node features `h` via one round of message passing.\n",
        "\n",
        "        As our MPNNLayer class inherits from the PyG MessagePassing parent class,\n",
        "        we simply need to call the `propagate()` function which starts the \n",
        "        message passing procedure: `message()` -> `aggregate()` -> `update()`.\n",
        "        \n",
        "        The MessagePassing class handles most of the logic for the implementation.\n",
        "        To build custom GNNs, we only need to define our own `message()`, \n",
        "        `aggregate()`, and `update()` functions (defined subsequently).\n",
        "\n",
        "        Args:\n",
        "            h: (n, d) - initial node features\n",
        "            edge_index: (e, 2) - pairs of edges (i, j)\n",
        "            edge_attr: (e, d_e) - edge features\n",
        "\n",
        "        Returns:\n",
        "            out: (n, d) - updated node features\n",
        "        \"\"\"\n",
        "        out = self.propagate(edge_index, h=h, edge_attr=edge_attr)\n",
        "        return out\n",
        "\n",
        "    def message(self, h_i, h_j, edge_attr):\n",
        "        \"\"\"Step (1) Message\n",
        "\n",
        "        The `message()` function constructs messages from source nodes j \n",
        "        to destination nodes i for each edge (i, j) in `edge_index`.\n",
        "\n",
        "        The arguments can be a bit tricky to understand: `message()` can take \n",
        "        any arguments that were initially passed to `propagate`. Additionally, \n",
        "        we can differentiate destination nodes and source nodes by appending \n",
        "        `_i` or `_j` to the variable name, e.g. for the node features `h`, we\n",
        "        can use `h_i` and `h_j`. \n",
        "        \n",
        "        This part is critical to understand as the `message()` function\n",
        "        constructs messages for each edge in the graph. The indexing of the\n",
        "        original node features `h` (or other node variables) is handled under\n",
        "        the hood by PyG.\n",
        "\n",
        "        Args:\n",
        "            h_i: (e, d) - destination node features\n",
        "            h_j: (e, d) - source node features\n",
        "            edge_attr: (e, d_e) - edge features\n",
        "        \n",
        "        Returns:\n",
        "            msg: (e, d) - messages `m_ij` passed through MLP `\\psi`\n",
        "        \"\"\"\n",
        "        msg = torch.cat([h_i, h_j, edge_attr], dim=-1)\n",
        "        return self.mlp_msg(msg)\n",
        "    \n",
        "    def aggregate(self, inputs, index):\n",
        "        \"\"\"Step (2) Aggregate\n",
        "\n",
        "        The `aggregate` function aggregates the messages from neighboring nodes,\n",
        "        according to the chosen aggregation function ('sum' by default).\n",
        "\n",
        "        Args:\n",
        "            inputs: (e, d) - messages `m_ij` from destination to source nodes\n",
        "            index: (e, 1) - list of source nodes for each edge/message in `input`\n",
        "\n",
        "        Returns:\n",
        "            aggr_out: (n, d) - aggregated messages `m_i`\n",
        "        \"\"\"\n",
        "        return scatter(inputs, index, dim=self.node_dim, reduce=self.aggr)\n",
        "    \n",
        "    def update(self, aggr_out, h):\n",
        "        \"\"\"\n",
        "        Step (3) Update\n",
        "\n",
        "        The `update()` function computes the final node features by combining the \n",
        "        aggregated messages with the initial node features.\n",
        "\n",
        "        `update()` takes the first argument `aggr_out`, the result of `aggregate()`, \n",
        "        as well as any optional arguments that were initially passed to \n",
        "        `propagate()`. E.g. in this case, we additionally pass `h`.\n",
        "\n",
        "        Args:\n",
        "            aggr_out: (n, d) - aggregated messages `m_i`\n",
        "            h: (n, d) - initial node features\n",
        "\n",
        "        Returns:\n",
        "            upd_out: (n, d) - updated node features passed through MLP `\\phi`\n",
        "        \"\"\"\n",
        "        upd_out = torch.cat([h, aggr_out], dim=-1)\n",
        "        return self.mlp_upd(upd_out)\n",
        "\n",
        "    def __repr__(self) -> str:\n",
        "        return (f'{self.__class__.__name__}(emb_dim={self.emb_dim}, aggr={self.aggr})')\n",
        "\n",
        "class MPNNModel(Module):\n",
        "    def __init__(self, num_layers=4, emb_dim=64, in_dim=11, edge_dim=4, out_dim=1):\n",
        "        \"\"\"Message Passing Neural Network model for graph property prediction\n",
        "\n",
        "        Args:\n",
        "            num_layers: (int) - number of message passing layers `L`\n",
        "            emb_dim: (int) - hidden dimension `d`\n",
        "            in_dim: (int) - initial node feature dimension `d_n`\n",
        "            edge_dim: (int) - edge feature dimension `d_e`\n",
        "            out_dim: (int) - output dimension (fixed to 1)\n",
        "        \"\"\"\n",
        "        super().__init__()\n",
        "        \n",
        "        # Linear projection for initial node features\n",
        "        # dim: d_n -> d\n",
        "        self.lin_in = Linear(in_dim, emb_dim)\n",
        "        \n",
        "        # Stack of MPNN layers\n",
        "        self.convs = torch.nn.ModuleList()\n",
        "        for layer in range(num_layers):\n",
        "            self.convs.append(MPNNLayer(emb_dim, edge_dim, aggr='add'))\n",
        "        \n",
        "        # Global pooling/readout function `R` (mean pooling)\n",
        "        # PyG handles the underlying logic via `global_mean_pool()`\n",
        "        self.pool = global_mean_pool\n",
        "\n",
        "        # Linear prediction head\n",
        "        # dim: d -> out_dim\n",
        "        self.lin_pred = Linear(emb_dim, out_dim)\n",
        "        \n",
        "    def forward(self, data):\n",
        "        \"\"\"\n",
        "        Args:\n",
        "            data: (PyG.Data) - batch of PyG graphs\n",
        "\n",
        "        Returns: \n",
        "            out: (batch_size, out_dim) - prediction for each graph\n",
        "        \"\"\"\n",
        "        h = self.lin_in(data.x) # (n, d_n) -> (n, d)\n",
        "        \n",
        "        for conv in self.convs:\n",
        "            h = h + conv(h, data.edge_index, data.edge_attr) # (n, d) -> (n, d)\n",
        "            # Note that we add a residual connection after each MPNN layer\n",
        "\n",
        "        h_graph = self.pool(h, data.batch) # (n, d) -> (batch_size, d)\n",
        "\n",
        "        out = self.lin_pred(h_graph) # (batch_size, d) -> (batch_size, 1)\n",
        "\n",
        "        return out.view(-1)"
      ],
      "metadata": {
        "id": "o3Rbh_Rg-9Bw"
      },
      "id": "o3Rbh_Rg-9Bw",
      "execution_count": null,
      "outputs": []
    },
    {
      "cell_type": "code",
      "source": [
        "class EquivariantMPNNLayer(MessagePassing):\n",
        "    def __init__(self, emb_dim=64, edge_dim=4, aggr='add'):\n",
        "        \"\"\"Message Passing Neural Network Layer\n",
        "\n",
        "        This layer is invariant to 3D rotations and translations.\n",
        "\n",
        "        Args:\n",
        "            emb_dim: (int) - hidden dimension `d`\n",
        "            edge_dim: (int) - edge feature dimension `d_e`\n",
        "            aggr: (str) - aggregation function `\\oplus` (sum/mean/max)\n",
        "        \"\"\"\n",
        "        # Set the aggregation function\n",
        "        super().__init__(aggr=aggr)\n",
        "\n",
        "        self.emb_dim = emb_dim\n",
        "        self.edge_dim = edge_dim\n",
        "\n",
        "        # MLP `\\psi` for computing messages `m_ij`\n",
        "        # dims: (2d+ d_e+1) -> d \n",
        "        # 2*d --> embedding for each node\n",
        "        # d_e --> edge dimension\n",
        "        # +1 --> distance between nodes in 3d\n",
        "        self.mlp_msg = Sequential(\n",
        "            Linear(2*emb_dim + edge_dim+1, emb_dim), BatchNorm1d(emb_dim), ReLU(),\n",
        "            Linear(emb_dim, emb_dim), BatchNorm1d(emb_dim), ReLU()\n",
        "          )\n",
        "        \n",
        "        # ==========================================\n",
        "        \n",
        "        # MLP `\\phi` for computing updated node features `h_i^{l+1}`\n",
        "        # dims: 2d -> d\n",
        "        self.mlp_upd = Sequential(\n",
        "            Linear(2*emb_dim, emb_dim), BatchNorm1d(emb_dim), ReLU(), \n",
        "            Linear(emb_dim, emb_dim), BatchNorm1d(emb_dim), ReLU()\n",
        "          )\n",
        "\n",
        "        self.msg_to_weight = Sequential(\n",
        "            Linear(emb_dim, emb_dim), BatchNorm1d(emb_dim), ReLU(), \n",
        "            Linear(emb_dim, 1), ReLU()\n",
        "          )\n",
        "    def forward(self, h, pos, edge_index, edge_attr):\n",
        "        \"\"\"\n",
        "        The forward pass updates node features `h` via one round of message passing.\n",
        "\n",
        "        Args:\n",
        "            h: (n, d) - initial node features\n",
        "            pos: (n, 3) - initial node coordinates\n",
        "            edge_index: (e, 2) - pairs of edges (i, j)\n",
        "            edge_attr: (e, d_e) - edge features\n",
        "\n",
        "        Returns:\n",
        "            out: [(n, d),(n,3)] - updated node features and pos\n",
        "        \"\"\"\n",
        "\n",
        "        out, new_pos = self.propagate(edge_index, h=h, edge_attr=edge_attr, pos = pos)\n",
        "        return (out, new_pos)\n",
        "        # ==========================================\n",
        "\n",
        "    def message(self, h_i, h_j, edge_attr, pos_i, pos_j):\n",
        "      \"\"\"The `message()` function constructs messages from source nodes j \n",
        "       to destination nodes i for each edge (i, j) in `edge_index`.\n",
        "    \n",
        "       Args:\n",
        "            h_i: (e, d) - destination node features\n",
        "            h_j: (e, d) - source node features\n",
        "            pos_i: (e, 3) - destination node positions\n",
        "            pos_j: (e, 3) - source node positions\n",
        "            edge_attr: (e, d_e) - edge features\n",
        "\n",
        "        Returns:\n",
        "          msg: [(e, d),(e,3)] - messages m_ij passed through MLP \\psi and relative difference\n",
        "      \"\"\"\n",
        "      dist = pdist(pos_i, pos_j).pow(2).reshape(pos_i.shape[0],1)\n",
        "      relative_difference = pos_i-pos_j\n",
        "      msg = torch.cat([h_i, h_j, edge_attr,dist], dim=-1)\n",
        "      return (self.mlp_msg(msg),relative_difference)\n",
        "    # ==========================================\n",
        "    \n",
        "    def aggregate(self, inputs, index):\n",
        "        \"\"\"The `aggregate` function aggregates the messages from neighboring nodes,\n",
        "        according to the chosen aggregation function ('sum' by default).\n",
        "\n",
        "        Args:\n",
        "            inputs: [(e, d),(e,3)] - messages `m_ij` from destination to source nodes and relative difference\n",
        "            index: (e, 1) - list of source nodes for each edge/message in `input`\n",
        "\n",
        "        Returns:\n",
        "            aggr_out: [(n, d),(e,3)] - aggregated messages `m_i` and message to weight\n",
        "        \"\"\"\n",
        "        inputs_h,relative_difference=inputs\n",
        "        return (scatter(inputs_h, index, dim=self.node_dim, reduce=self.aggr),scatter_mean(self.msg_to_weight(inputs_h)*relative_difference, index, dim=self.node_dim))\n",
        "    \n",
        "    def update(self, aggr_out, h,pos):\n",
        "        \"\"\"The `update()` function computes the final node features by combining the \n",
        "        aggregated messages with the initial node features.\n",
        "\n",
        "        Args:\n",
        "            aggr_out: [(n, d),(e,3)] - aggregated messages `m_i` and message to weight\n",
        "            h: (n, d) - initial node features\n",
        "\n",
        "        Returns:\n",
        "            upd_out: [(n, d),(n,3)] - updated node features passed through MLP `\\phi` and pos features\n",
        "        \"\"\"\n",
        "        aggr_out1,aggr_out2 = aggr_out\n",
        "        upd_out = torch.cat([h, aggr_out1], dim=-1)\n",
        "        pos_out = pos + aggr_out2\n",
        "        return (self.mlp_upd(upd_out),pos_out)\n",
        "\n",
        "    def __repr__(self) -> str:\n",
        "        return (f'{self.__class__.__name__}(emb_dim={self.emb_dim}, aggr={self.aggr})')\n",
        "\n",
        "\n",
        "class FinalMPNNModel(MPNNModel):\n",
        "    def __init__(self, num_layers=4, emb_dim=64, in_dim=11, edge_dim=4, out_dim=1,normalization=False):\n",
        "        \"\"\"Message Passing Neural Network model for graph property prediction\n",
        "\n",
        "        This model uses both node features and coordinates as inputs, and\n",
        "        is invariant to 3D rotations and translations (the constituent MPNN layers\n",
        "        are equivariant to 3D rotations and translations).\n",
        "\n",
        "        Args:\n",
        "            num_layers: (int) - number of message passing layers `L`\n",
        "            emb_dim: (int) - hidden dimension `d`\n",
        "            in_dim: (int) - initial node feature dimension `d_n`\n",
        "            edge_dim: (int) - edge feature dimension `d_e`\n",
        "            out_dim: (int) - output dimension (fixed to 1)\n",
        "        \"\"\"\n",
        "        super().__init__()\n",
        "        \n",
        "        # Linear projection for initial node features\n",
        "        # dim: d_n -> d\n",
        "        self.lin_in = Linear(in_dim, emb_dim)\n",
        "        \n",
        "        \n",
        "        \n",
        "        # Stack of MPNN layers\n",
        "        self.convs = torch.nn.ModuleList()\n",
        "        for layer in range(num_layers):\n",
        "            self.convs.append(EquivariantMPNNLayer(emb_dim, edge_dim, aggr='add'))\n",
        "        \n",
        "        # Global pooling/readout function `R` (mean pooling)\n",
        "        # PyG handles the underlying logic via `global_mean_pool()`\n",
        "        self.pool = global_mean_pool\n",
        "\n",
        "        # Linear prediction head\n",
        "        # dim: d -> out_dim\n",
        "        self.lin_pred = Linear(emb_dim, out_dim)\n",
        "        self.sigmoid = nn.Sigmoid()\n",
        "        self.normalization = normalization\n",
        "        \n",
        "    def forward(self, data):\n",
        "        \"\"\"\n",
        "        Args:\n",
        "            data: (PyG.Data) - batch of PyG graphs\n",
        "\n",
        "        Returns: \n",
        "            out: (batch_size, out_dim) - prediction for each graph\n",
        "        \"\"\"\n",
        "        h = self.lin_in(data.x) # (n, d_n) -> (n, d)\n",
        "        pos = data.pos\n",
        "        \n",
        "        for conv in self.convs:\n",
        "            # Message passing layer\n",
        "            h_update, pos_update = conv(h, pos, data.edge_index, data.edge_attr)\n",
        "            \n",
        "            # Update node features\n",
        "            h = h + h_update # (n, d) -> (n, d)\n",
        "            # Note that we add a residual connection after each MPNN layer\n",
        "            \n",
        "            # Update node coordinates\n",
        "            pos = pos_update # (n, 3) -> (n, 3)\n",
        "\n",
        "        h_graph = self.pool(h, data.batch) # (n, d) -> (batch_size, d)\n",
        "        if self.normalization:\n",
        "          out = self.sigmoid(self.lin_pred(h_graph)) # (batch_size, d) -> (batch_size, 1)\n",
        "        else:\n",
        "          out = self.lin_pred(h_graph) # (batch_size, d) -> (batch_size, 1)\n",
        "        return out.view(-1)"
      ],
      "metadata": {
        "id": "I-UXy6Pv9w4C"
      },
      "id": "I-UXy6Pv9w4C",
      "execution_count": null,
      "outputs": []
    },
    {
      "cell_type": "markdown",
      "source": [
        "<h1> Simplistic GNN Model"
      ],
      "metadata": {
        "id": "cu4urLF7Q88A"
      },
      "id": "cu4urLF7Q88A"
    },
    {
      "cell_type": "code",
      "source": [
        "\n",
        "# class GNN(torch.nn.Module):\n",
        "#     def __init__(self, input_dim=11, hidden_dim=200, output_dim=1):\n",
        "#         super(GNN, self).__init__()\n",
        "\n",
        "#         #Hidden Layers\n",
        "#         self.hidden1 = GraphConv(input_dim, hidden_dim)\n",
        "#         self.hidden2 = GraphConv(hidden_dim, hidden_dim)\n",
        "#         self.hidden3 = GraphConv(hidden_dim, output_dim)\n",
        "#         self.norm = GraphNorm(hidden_dim)\n",
        "\n",
        "#         #Activation Function\n",
        "#         self.relu = nn.ReLU()\n",
        "\n",
        "        \n",
        "\n",
        "#     def forward(self, input_x, edge_index, batch):\n",
        "      \n",
        "#         #Standard forward\n",
        "#         x = self.hidden1(input_x,edge_index)\n",
        "#         x = self.norm(x)\n",
        "#         x = self.relu(x)\n",
        "#         x = self.hidden2(x,edge_index)\n",
        "#         x = self.norm(x)\n",
        "#         x = self.relu(x)\n",
        "#         x = self.hidden3(x,edge_index)\n",
        "\n",
        "#         #Global mean pool across batches\n",
        "#         x = global_mean_pool(x, batch)\n",
        "\n",
        "        \n",
        "#         return x\n"
      ],
      "metadata": {
        "id": "R1B0YTz6ytyN"
      },
      "id": "R1B0YTz6ytyN",
      "execution_count": null,
      "outputs": []
    },
    {
      "cell_type": "markdown",
      "source": [
        "<h1> Helper functions"
      ],
      "metadata": {
        "id": "G-ExWACxQ3mt"
      },
      "id": "G-ExWACxQ3mt"
    },
    {
      "cell_type": "code",
      "source": [
        "# The Minimum Square Error is used to evaluate the difference between prediction and ground truth\n",
        "criterion = nn.MSELoss()\n",
        "\n",
        "def copy_existing_model(model):\n",
        "    # Function to copy an existing model\n",
        "    # We initialize a new model\n",
        "    new_model = FinalMPNNModel()\n",
        "    # Copy the previous model's parameters into the new model\n",
        "    new_model.load_state_dict(model.state_dict())\n",
        "    return new_model\n",
        "\n",
        "def initialization_to_store_meta_losses():\n",
        "  # This function creates lists to store the meta losses\n",
        "  global store_train_loss_meta; store_train_loss_meta = []\n",
        "  global store_test_loss_meta; store_test_loss_meta = []\n",
        "\n",
        "def test_set_validation(model,new_model,graph,lr_inner,k,store_test_loss_meta,task):\n",
        "    # This functions does not actually affect the main algorithm, it is just used to evaluate the new model\n",
        "    new_model = training(model, graph, lr_inner, k,task)\n",
        "    # Obtain the loss\n",
        "    loss = evaluation(new_model, graph,task)\n",
        "    # Store loss\n",
        "    store_test_loss_meta.append(loss)\n",
        "\n",
        "def train_set_evaluation(new_model,graph,store_train_loss_meta,task):\n",
        "    loss = evaluation(new_model, graph,task)\n",
        "    store_train_loss_meta.append(loss) \n",
        "\n",
        "def print_losses(epoch,store_train_loss_meta,store_test_loss_meta,printing_step=1000):\n",
        "  if epoch % printing_step == 0:\n",
        "    print(f'Epochh : {epoch}, Average Train Meta Loss : {np.mean(store_train_loss_meta)}, Average Test Meta Loss : {np.mean(store_test_loss_meta)}')\n",
        "\n",
        "#This is based on the paper update rule, we calculate the difference between parameters and then this is used by the optimizer, rather than doing the update by hand\n",
        "def reptile_parameter_update(model,new_model):\n",
        "  # Zip models for the loop\n",
        "  zip_models = zip(model.parameters(), new_model.parameters())\n",
        "  for parameter, new_parameter in zip_models:\n",
        "    if parameter.grad is None:\n",
        "      parameter.grad = torch.tensor(torch.zeros_like(parameter))\n",
        "    # Here we are adding the gradient that will later be used by the optimizer\n",
        "    parameter.grad.data.add_(parameter.data - new_parameter.data)\n",
        "\n",
        "# Define commands in order needed for the metaupdate\n",
        "# Note that if we change the order it doesn't behave the same\n",
        "def metaoptimizer_update(metaoptimizer):\n",
        "  # Take step\n",
        "  metaoptimizer.step()\n",
        "  # Reset gradients\n",
        "  metaoptimizer.zero_grad()\n",
        "\n",
        "def metaupdate(model,new_model,metaoptimizer):\n",
        "  # Combine the two previous functions into a single metaupdate function\n",
        "  # First we calculate the gradients\n",
        "  reptile_parameter_update(model,new_model)\n",
        "  # Use those gradients in the optimizer\n",
        "  metaoptimizer_update(metaoptimizer)\n",
        "\n",
        "def evaluation(new_model, graph, task, item = True, normalization = False):\n",
        "    # Make model prediction\n",
        "    prediction = new_model(graph)\n",
        "\n",
        "    label = graph.y[:,task:task+1]\n",
        "    if normalization == True:\n",
        "      sigmoid = nn.Sigmoid()\n",
        "      label = sigmoid(label)\n",
        "\n",
        "    # Get loss\n",
        "    if item == True: #Depending on whether we need to return the loss value for storing or for backprop\n",
        "      loss = criterion(prediction,label).item()\n",
        "    else:\n",
        "      loss = criterion(prediction,label)\n",
        "    return loss\n",
        "\n",
        "def training(model, graph, lr_k, k,task):\n",
        "    # Create new model which we will train on\n",
        "    new_model = copy_existing_model(model)\n",
        "    # Define new optimizer\n",
        "    koptimizer = torch.optim.SGD(new_model.parameters(), lr=lr_k)\n",
        "    # Update the model multiple times, note that k>1 (do not confuse k with K)\n",
        "    for i in range(k):\n",
        "        # Reset optimizer\n",
        "        koptimizer.zero_grad()\n",
        "        # Evaluate the model\n",
        "        loss = evaluation(new_model, graph, task, item = False)\n",
        "        # Backpropagate\n",
        "        loss.backward()\n",
        "        koptimizer.step()\n",
        "    return new_model"
      ],
      "metadata": {
        "id": "1zyNHFXdOnug"
      },
      "id": "1zyNHFXdOnug",
      "execution_count": null,
      "outputs": []
    },
    {
      "cell_type": "markdown",
      "source": [
        "<h1> Additional GNN Helper Functions"
      ],
      "metadata": {
        "id": "7jkgwwMJUSbL"
      },
      "id": "7jkgwwMJUSbL"
    },
    {
      "cell_type": "markdown",
      "source": [
        "Additional helper functions to handle minibatching based on coursework by Haitz Sáez de Ocáriz for L45 Practical 1. The code was partially given in the practical and we had to fill it in, so this is based on my solution. Also, some further modification applied for our implementation: for message passing we include coordinate encoding features and edge attributes, apart from node features, labels, and the adjancency metrics that describes node connectivity."
      ],
      "metadata": {
        "id": "hsATAza-UtiF"
      },
      "id": "hsATAza-UtiF"
    },
    {
      "cell_type": "code",
      "source": [
        "class Graph(object):\n",
        "    def __init__(self, edge_index, x, y,edge_attr,pos):\n",
        "        \"\"\" Graph structure \n",
        "            for a mini-batch it will store a big (sparse) graph \n",
        "            representing the entire batch\n",
        "        Args:\n",
        "            x: node features  [num_nodes x num_feats]\n",
        "            y: graph labels   [num_graphs]\n",
        "            edge_index: list of edges [2 x num_edges]\n",
        "        \"\"\"\n",
        "        self.edge_index = edge_index\n",
        "        self.x = x.to(torch.float32)\n",
        "        self.y = y\n",
        "        self.num_nodes = self.x.shape[0]\n",
        "        self.edge_attr = edge_attr\n",
        "        self.pos = pos\n",
        "\n",
        "    #ignore this for now, it will be useful for batching\n",
        "    def set_batch(self, batch):\n",
        "        \"\"\" list of ints that maps each node to the graph it belongs to\n",
        "            e.g. for batch = [0,0,0,1,1,1,1]: the first 3 nodes belong to graph_0 while\n",
        "            the last 4 belong to graph_1\n",
        "        \"\"\"\n",
        "        self.batch = batch\n",
        "\n",
        "    # this function return a sparse tensor\n",
        "    def get_adjacency_matrix(self):\n",
        "        \"\"\" from the list of edges create \n",
        "        a num_nodes x num_nodes sparse adjacency matrix\n",
        "        \"\"\"\n",
        "        return torch.sparse.LongTensor(self.edge_index, \n",
        "                              # we work with a binary adj containing 1 if an edge exist\n",
        "                              torch.ones((self.edge_index.shape[1])), \n",
        "                              torch.Size((self.num_nodes, self.num_nodes))\n",
        "                              )\n"
      ],
      "metadata": {
        "id": "iHFyLSSKUoYG"
      },
      "id": "iHFyLSSKUoYG",
      "execution_count": null,
      "outputs": []
    },
    {
      "cell_type": "code",
      "source": [
        "def create_mini_batch(graph_list):\n",
        "    \"\"\" Built a sparse graph from a batch of graphs\n",
        "    Args:\n",
        "        graph_list: list of Graph objects in a batch\n",
        "    Returns:\n",
        "        a big (sparse) Graph representing the entire batch\n",
        "    \"\"\"\n",
        "    #insert first graph into the structure\n",
        "    batch_edge_index = graph_list[0].edge_index\n",
        "    batch_x = graph_list[0].x\n",
        "    batch_y = graph_list[0].y\n",
        "    batch_edge_attr = graph_list[0].edge_attr\n",
        "    batch_pos = graph_list[0].pos\n",
        "    batch_batch = torch.zeros((graph_list[0].num_nodes), dtype=torch.int64)\n",
        "    # ============ YOUR CODE HERE =============\n",
        "    # you may need additional variables\n",
        "    num_nodes_added= graph_list[0].num_nodes\n",
        "    # ==========================================\n",
        "\n",
        "    #append the rest of the graphs to the structure\n",
        "    for idx, graph in enumerate(graph_list[1:]):\n",
        "        # ============ YOUR CODE HERE =============\n",
        "        # concat the features\n",
        "        batch_x = torch.cat((batch_x,graph.x))\n",
        "        # concat the labels\n",
        "        batch_y = torch.cat((batch_y,graph.y))\n",
        "        # concat the coords \n",
        "        batch_pos = torch.cat((batch_pos,graph.pos))\n",
        "\n",
        "        # concat the adjacency matrix as a block diagonal matrix\n",
        "        batch_edge_index = torch.cat((batch_edge_index, torch.add(graph.edge_index, num_nodes_added)), dim=1)\n",
        "        batch_edge_attr = torch.cat((batch_edge_attr, graph.edge_attr))\n",
        "        num_nodes_added += graph.num_nodes\n",
        "        # ==========================================\n",
        "\n",
        "        # ============ YOUR CODE HERE =============\n",
        "        # create the array of indexes mapping nodes in the batch-graph\n",
        "        # to the graph they belong to\n",
        "        # specify the mapping between the new nodes and the graph they belong to (idx+1)\n",
        "        batch_batch = torch.cat((batch_batch, torch.full((graph.num_nodes,), idx + 1)))\n",
        "        # ==========================================\n",
        "    #create the big sparse graph \n",
        "    batch_graph = Graph(batch_edge_index, batch_x, batch_y, batch_edge_attr,batch_pos)\n",
        "    #attach the index array to the Graph structure\n",
        "    batch_graph.set_batch(batch_batch)\n",
        "    return batch_graph"
      ],
      "metadata": {
        "id": "WHUDCDbqUc2A"
      },
      "id": "WHUDCDbqUc2A",
      "execution_count": null,
      "outputs": []
    },
    {
      "cell_type": "code",
      "source": [
        "from scipy.linalg import block_diag\n",
        "import matplotlib.cm as cm\n",
        "import networkx as nx\n",
        "def get_color_coded_str(i, color):\n",
        "    return \"\\033[3{}m{}\\033[0m\".format(int(color), int(i))\n",
        "def print_color_numpy(map, list_graphs):\n",
        "    \"\"\" print matrix map in color according to list_graphs\n",
        "    \"\"\"\n",
        "    list_blocks = []\n",
        "    for i,graph in enumerate(list_graphs):\n",
        "        block_i = (i+1)*np.ones((graph.num_nodes,graph.num_nodes))\n",
        "        list_blocks += [block_i]\n",
        "    block_color = block_diag(*list_blocks)\n",
        "    \n",
        "    map_modified = np.vectorize(get_color_coded_str)(map, block_color)\n",
        "    print(\"\\n\".join([\" \".join([\"{}\"]*map.shape[0])]*map.shape[1]).format(*[x for y in map_modified.tolist() for x in y]))\n",
        "\n",
        "def draw_one_graph(ax, edges, label=None, node_emb=None, layout=None, special_color=False):\n",
        "    \"\"\"draw a graph with networkx based on adjacency matrix (edges)\n",
        "    graph labels could be displayed as a title for each graph\n",
        "    node_emb could be displayed in colors\n",
        "    \"\"\"\n",
        "    graph = nx.Graph()\n",
        "    edges = zip(edges[0], edges[1])\n",
        "    graph.add_edges_from(edges)\n",
        "    node_pos = layout(graph)\n",
        "    #add colors according to node embeding\n",
        "    if (node_emb is not None) or special_color:\n",
        "        color_map = []\n",
        "        node_list = [node[0] for node in graph.nodes(data = True)]\n",
        "        for i,node in enumerate(node_list):\n",
        "            #just ignore this branch\n",
        "            if special_color:\n",
        "                if len(node_list) == 3:\n",
        "                    crt_color = (1,0,0)\n",
        "                elif len(node_list) == 5:\n",
        "                    crt_color = (0,1,0)\n",
        "                elif len(node_list) == 4:\n",
        "                    crt_color = (1,1,0)\n",
        "                else:\n",
        "                  special_list = [(1,0,0)] * 3 + [(0,1,0)] * 5 + [(1,1,0)] * 4\n",
        "                  crt_color = special_list[i]\n",
        "            else:\n",
        "                crt_node_emb = node_emb[node]\n",
        "                #map float number (node embeding) to a color\n",
        "                crt_color = cm.gist_rainbow(crt_node_emb, bytes=True)\n",
        "                crt_color = (crt_color[0]/255.0, crt_color[1]/255.0, crt_color[2]/255.0, crt_color[3]/255.0)\n",
        "            color_map.append(crt_color)\n",
        "      \n",
        "        nx.draw_networkx_nodes(graph,node_pos, node_color=color_map,\n",
        "                        nodelist = node_list, ax=ax)\n",
        "        nx.draw_networkx_edges(graph, node_pos, ax=ax)\n",
        "        nx.draw_networkx_labels(graph,node_pos, ax=ax)\n",
        "    else:\n",
        "        nx.draw_networkx(graph, node_pos, ax=ax)"
      ],
      "metadata": {
        "id": "VfcxN2ITVHUD"
      },
      "id": "VfcxN2ITVHUD",
      "execution_count": null,
      "outputs": []
    },
    {
      "cell_type": "code",
      "source": [
        "def gallery(graphs, labels=None, node_emb=None, special_color=False, max_graphs=4, max_fig_size=(40, 10), layout=nx.layout.kamada_kawai_layout):\n",
        "    ''' Draw multiple graphs as a gallery \n",
        "    Args:\n",
        "      graphs: torch_geometrics.dataset object/ List of Graph objects\n",
        "      labels: num_graphs\n",
        "      node_emb: num_graphs* [num_nodes x num_ch]\n",
        "      max_graphs: maximum graphs display\n",
        "    '''\n",
        "    num_graphs = min(len(graphs), max_graphs)\n",
        "    ff, axes = plt.subplots(1, num_graphs,\n",
        "                            figsize=max_fig_size,\n",
        "                            subplot_kw={'xticks': [], 'yticks': []})\n",
        "    if num_graphs == 1:\n",
        "        axes = [axes]\n",
        "    if node_emb is None:\n",
        "        node_emb = num_graphs*[None]\n",
        "    if labels is None:\n",
        "        labels = num_graphs * [\" \"]\n",
        "\n",
        "\n",
        "    for i in range(num_graphs):\n",
        "        draw_one_graph(axes[i], graphs[i].edge_index.numpy(), labels[i], node_emb[i], layout, special_color)\n",
        "        if labels[i] != \" \":\n",
        "            axes[i].set_title(f\"Target: {labels[i]}\", fontsize=28)\n",
        "        axes[i].set_axis_off()\n",
        "    plt.show()"
      ],
      "metadata": {
        "id": "FvoEy9jpVM7j"
      },
      "id": "FvoEy9jpVM7j",
      "execution_count": null,
      "outputs": []
    },
    {
      "cell_type": "code",
      "source": [
        "# 3 random custom-designed graphs for visualisations\n",
        "graph1 = Graph(x=torch.rand((3,32)), \n",
        "               y=torch.rand((1)), \n",
        "               edge_index=torch.tensor([[0,0,0,1,1,1,2,2,2],[0,1,2,0,1,2,0,1,2]]),\n",
        "               edge_attr = torch.tensor([[0,0,0,1,1,1,2,2,2],[0,1,2,0,1,2,0,1,2]]),\n",
        "               pos = torch.rand((3,3))\n",
        "               )\n",
        "graph1 = random.sample(GRAPH_TRAIN, 1)[0]\n",
        "graph2 = random.sample(GRAPH_TRAIN, 1)[0]\n",
        "graph3 = random.sample(GRAPH_TRAIN, 1)[0]\n",
        "# graph2 = Graph(x=torch.rand((5,32)), \n",
        "#                y=torch.rand((1)), \n",
        "#                edge_index=torch.tensor([[0,0,0,0,0,1,1,1,2,1,2,3,4], [0,1,2,3,4,2,3,4,4,0,0,0,0]]))\n",
        "# graph3 = Graph(x=torch.rand((4,32)),\n",
        "#                y=torch.rand((1)), \n",
        "#               edge_index=torch.tensor([[0,1,2,3],[1,2,3,0]]))\n",
        "list_graphs = [graph1, graph2, graph3]\n",
        "\n",
        "# create a mini-batch from these 3 graphs\n",
        "batch_sample = create_mini_batch(list_graphs)\n",
        "\n",
        "# show statistics about the new graph built from this batch of graphs\n",
        "print(f\"Batch number_of_nodes: {batch_sample.num_nodes}\")\n",
        "print(f\"Batch features shape: {batch_sample.x.shape}\")\n",
        "print(f\"Batch labels shape: {batch_sample.y.shape}\")\n",
        "\n",
        "print(f\"Batch adjacency: \")\n",
        "print_color_numpy(batch_sample.get_adjacency_matrix().to_dense().numpy(), list_graphs)\n",
        "\n",
        "\n",
        "# gallery([graph1, graph1, graph1, batch_sample], max_fig_size=(20,6), special_color=True)\n",
        "# print(f\"And we also have access to which graph each node belongs to {batch_sample.batch}\\n\")"
      ],
      "metadata": {
        "colab": {
          "base_uri": "https://localhost:8080/"
        },
        "id": "AIJLHotuVAie",
        "outputId": "79464e91-7731-484d-feb8-f19924d682ea"
      },
      "id": "AIJLHotuVAie",
      "execution_count": null,
      "outputs": [
        {
          "output_type": "stream",
          "name": "stdout",
          "text": [
            "Batch number_of_nodes: 43\n",
            "Batch features shape: torch.Size([43, 11])\n",
            "Batch labels shape: torch.Size([3, 19])\n",
            "Batch adjacency: \n",
            "\u001b[31m0\u001b[0m \u001b[31m1\u001b[0m \u001b[31m1\u001b[0m \u001b[31m0\u001b[0m \u001b[31m0\u001b[0m \u001b[31m0\u001b[0m \u001b[31m0\u001b[0m \u001b[31m0\u001b[0m \u001b[31m1\u001b[0m \u001b[31m1\u001b[0m \u001b[31m0\u001b[0m \u001b[31m0\u001b[0m \u001b[31m0\u001b[0m \u001b[31m0\u001b[0m \u001b[31m0\u001b[0m \u001b[30m0\u001b[0m \u001b[30m0\u001b[0m \u001b[30m0\u001b[0m \u001b[30m0\u001b[0m \u001b[30m0\u001b[0m \u001b[30m0\u001b[0m \u001b[30m0\u001b[0m \u001b[30m0\u001b[0m \u001b[30m0\u001b[0m \u001b[30m0\u001b[0m \u001b[30m0\u001b[0m \u001b[30m0\u001b[0m \u001b[30m0\u001b[0m \u001b[30m0\u001b[0m \u001b[30m0\u001b[0m \u001b[30m0\u001b[0m \u001b[30m0\u001b[0m \u001b[30m0\u001b[0m \u001b[30m0\u001b[0m \u001b[30m0\u001b[0m \u001b[30m0\u001b[0m \u001b[30m0\u001b[0m \u001b[30m0\u001b[0m \u001b[30m0\u001b[0m \u001b[30m0\u001b[0m \u001b[30m0\u001b[0m \u001b[30m0\u001b[0m \u001b[30m0\u001b[0m\n",
            "\u001b[31m1\u001b[0m \u001b[31m0\u001b[0m \u001b[31m1\u001b[0m \u001b[31m0\u001b[0m \u001b[31m0\u001b[0m \u001b[31m0\u001b[0m \u001b[31m0\u001b[0m \u001b[31m0\u001b[0m \u001b[31m0\u001b[0m \u001b[31m0\u001b[0m \u001b[31m1\u001b[0m \u001b[31m0\u001b[0m \u001b[31m0\u001b[0m \u001b[31m0\u001b[0m \u001b[31m0\u001b[0m \u001b[30m0\u001b[0m \u001b[30m0\u001b[0m \u001b[30m0\u001b[0m \u001b[30m0\u001b[0m \u001b[30m0\u001b[0m \u001b[30m0\u001b[0m \u001b[30m0\u001b[0m \u001b[30m0\u001b[0m \u001b[30m0\u001b[0m \u001b[30m0\u001b[0m \u001b[30m0\u001b[0m \u001b[30m0\u001b[0m \u001b[30m0\u001b[0m \u001b[30m0\u001b[0m \u001b[30m0\u001b[0m \u001b[30m0\u001b[0m \u001b[30m0\u001b[0m \u001b[30m0\u001b[0m \u001b[30m0\u001b[0m \u001b[30m0\u001b[0m \u001b[30m0\u001b[0m \u001b[30m0\u001b[0m \u001b[30m0\u001b[0m \u001b[30m0\u001b[0m \u001b[30m0\u001b[0m \u001b[30m0\u001b[0m \u001b[30m0\u001b[0m \u001b[30m0\u001b[0m\n",
            "\u001b[31m1\u001b[0m \u001b[31m1\u001b[0m \u001b[31m0\u001b[0m \u001b[31m1\u001b[0m \u001b[31m0\u001b[0m \u001b[31m0\u001b[0m \u001b[31m0\u001b[0m \u001b[31m0\u001b[0m \u001b[31m0\u001b[0m \u001b[31m0\u001b[0m \u001b[31m0\u001b[0m \u001b[31m1\u001b[0m \u001b[31m0\u001b[0m \u001b[31m0\u001b[0m \u001b[31m0\u001b[0m \u001b[30m0\u001b[0m \u001b[30m0\u001b[0m \u001b[30m0\u001b[0m \u001b[30m0\u001b[0m \u001b[30m0\u001b[0m \u001b[30m0\u001b[0m \u001b[30m0\u001b[0m \u001b[30m0\u001b[0m \u001b[30m0\u001b[0m \u001b[30m0\u001b[0m \u001b[30m0\u001b[0m \u001b[30m0\u001b[0m \u001b[30m0\u001b[0m \u001b[30m0\u001b[0m \u001b[30m0\u001b[0m \u001b[30m0\u001b[0m \u001b[30m0\u001b[0m \u001b[30m0\u001b[0m \u001b[30m0\u001b[0m \u001b[30m0\u001b[0m \u001b[30m0\u001b[0m \u001b[30m0\u001b[0m \u001b[30m0\u001b[0m \u001b[30m0\u001b[0m \u001b[30m0\u001b[0m \u001b[30m0\u001b[0m \u001b[30m0\u001b[0m \u001b[30m0\u001b[0m\n",
            "\u001b[31m0\u001b[0m \u001b[31m0\u001b[0m \u001b[31m1\u001b[0m \u001b[31m0\u001b[0m \u001b[31m1\u001b[0m \u001b[31m0\u001b[0m \u001b[31m0\u001b[0m \u001b[31m1\u001b[0m \u001b[31m0\u001b[0m \u001b[31m0\u001b[0m \u001b[31m0\u001b[0m \u001b[31m0\u001b[0m \u001b[31m0\u001b[0m \u001b[31m0\u001b[0m \u001b[31m0\u001b[0m \u001b[30m0\u001b[0m \u001b[30m0\u001b[0m \u001b[30m0\u001b[0m \u001b[30m0\u001b[0m \u001b[30m0\u001b[0m \u001b[30m0\u001b[0m \u001b[30m0\u001b[0m \u001b[30m0\u001b[0m \u001b[30m0\u001b[0m \u001b[30m0\u001b[0m \u001b[30m0\u001b[0m \u001b[30m0\u001b[0m \u001b[30m0\u001b[0m \u001b[30m0\u001b[0m \u001b[30m0\u001b[0m \u001b[30m0\u001b[0m \u001b[30m0\u001b[0m \u001b[30m0\u001b[0m \u001b[30m0\u001b[0m \u001b[30m0\u001b[0m \u001b[30m0\u001b[0m \u001b[30m0\u001b[0m \u001b[30m0\u001b[0m \u001b[30m0\u001b[0m \u001b[30m0\u001b[0m \u001b[30m0\u001b[0m \u001b[30m0\u001b[0m \u001b[30m0\u001b[0m\n",
            "\u001b[31m0\u001b[0m \u001b[31m0\u001b[0m \u001b[31m0\u001b[0m \u001b[31m1\u001b[0m \u001b[31m0\u001b[0m \u001b[31m1\u001b[0m \u001b[31m0\u001b[0m \u001b[31m0\u001b[0m \u001b[31m0\u001b[0m \u001b[31m0\u001b[0m \u001b[31m0\u001b[0m \u001b[31m0\u001b[0m \u001b[31m1\u001b[0m \u001b[31m0\u001b[0m \u001b[31m0\u001b[0m \u001b[30m0\u001b[0m \u001b[30m0\u001b[0m \u001b[30m0\u001b[0m \u001b[30m0\u001b[0m \u001b[30m0\u001b[0m \u001b[30m0\u001b[0m \u001b[30m0\u001b[0m \u001b[30m0\u001b[0m \u001b[30m0\u001b[0m \u001b[30m0\u001b[0m \u001b[30m0\u001b[0m \u001b[30m0\u001b[0m \u001b[30m0\u001b[0m \u001b[30m0\u001b[0m \u001b[30m0\u001b[0m \u001b[30m0\u001b[0m \u001b[30m0\u001b[0m \u001b[30m0\u001b[0m \u001b[30m0\u001b[0m \u001b[30m0\u001b[0m \u001b[30m0\u001b[0m \u001b[30m0\u001b[0m \u001b[30m0\u001b[0m \u001b[30m0\u001b[0m \u001b[30m0\u001b[0m \u001b[30m0\u001b[0m \u001b[30m0\u001b[0m \u001b[30m0\u001b[0m\n",
            "\u001b[31m0\u001b[0m \u001b[31m0\u001b[0m \u001b[31m0\u001b[0m \u001b[31m0\u001b[0m \u001b[31m1\u001b[0m \u001b[31m0\u001b[0m \u001b[31m1\u001b[0m \u001b[31m0\u001b[0m \u001b[31m0\u001b[0m \u001b[31m0\u001b[0m \u001b[31m0\u001b[0m \u001b[31m0\u001b[0m \u001b[31m0\u001b[0m \u001b[31m1\u001b[0m \u001b[31m0\u001b[0m \u001b[30m0\u001b[0m \u001b[30m0\u001b[0m \u001b[30m0\u001b[0m \u001b[30m0\u001b[0m \u001b[30m0\u001b[0m \u001b[30m0\u001b[0m \u001b[30m0\u001b[0m \u001b[30m0\u001b[0m \u001b[30m0\u001b[0m \u001b[30m0\u001b[0m \u001b[30m0\u001b[0m \u001b[30m0\u001b[0m \u001b[30m0\u001b[0m \u001b[30m0\u001b[0m \u001b[30m0\u001b[0m \u001b[30m0\u001b[0m \u001b[30m0\u001b[0m \u001b[30m0\u001b[0m \u001b[30m0\u001b[0m \u001b[30m0\u001b[0m \u001b[30m0\u001b[0m \u001b[30m0\u001b[0m \u001b[30m0\u001b[0m \u001b[30m0\u001b[0m \u001b[30m0\u001b[0m \u001b[30m0\u001b[0m \u001b[30m0\u001b[0m \u001b[30m0\u001b[0m\n",
            "\u001b[31m0\u001b[0m \u001b[31m0\u001b[0m \u001b[31m0\u001b[0m \u001b[31m0\u001b[0m \u001b[31m0\u001b[0m \u001b[31m1\u001b[0m \u001b[31m0\u001b[0m \u001b[31m1\u001b[0m \u001b[31m0\u001b[0m \u001b[31m0\u001b[0m \u001b[31m0\u001b[0m \u001b[31m0\u001b[0m \u001b[31m0\u001b[0m \u001b[31m0\u001b[0m \u001b[31m0\u001b[0m \u001b[30m0\u001b[0m \u001b[30m0\u001b[0m \u001b[30m0\u001b[0m \u001b[30m0\u001b[0m \u001b[30m0\u001b[0m \u001b[30m0\u001b[0m \u001b[30m0\u001b[0m \u001b[30m0\u001b[0m \u001b[30m0\u001b[0m \u001b[30m0\u001b[0m \u001b[30m0\u001b[0m \u001b[30m0\u001b[0m \u001b[30m0\u001b[0m \u001b[30m0\u001b[0m \u001b[30m0\u001b[0m \u001b[30m0\u001b[0m \u001b[30m0\u001b[0m \u001b[30m0\u001b[0m \u001b[30m0\u001b[0m \u001b[30m0\u001b[0m \u001b[30m0\u001b[0m \u001b[30m0\u001b[0m \u001b[30m0\u001b[0m \u001b[30m0\u001b[0m \u001b[30m0\u001b[0m \u001b[30m0\u001b[0m \u001b[30m0\u001b[0m \u001b[30m0\u001b[0m\n",
            "\u001b[31m0\u001b[0m \u001b[31m0\u001b[0m \u001b[31m0\u001b[0m \u001b[31m1\u001b[0m \u001b[31m0\u001b[0m \u001b[31m0\u001b[0m \u001b[31m1\u001b[0m \u001b[31m0\u001b[0m \u001b[31m0\u001b[0m \u001b[31m0\u001b[0m \u001b[31m0\u001b[0m \u001b[31m0\u001b[0m \u001b[31m0\u001b[0m \u001b[31m0\u001b[0m \u001b[31m1\u001b[0m \u001b[30m0\u001b[0m \u001b[30m0\u001b[0m \u001b[30m0\u001b[0m \u001b[30m0\u001b[0m \u001b[30m0\u001b[0m \u001b[30m0\u001b[0m \u001b[30m0\u001b[0m \u001b[30m0\u001b[0m \u001b[30m0\u001b[0m \u001b[30m0\u001b[0m \u001b[30m0\u001b[0m \u001b[30m0\u001b[0m \u001b[30m0\u001b[0m \u001b[30m0\u001b[0m \u001b[30m0\u001b[0m \u001b[30m0\u001b[0m \u001b[30m0\u001b[0m \u001b[30m0\u001b[0m \u001b[30m0\u001b[0m \u001b[30m0\u001b[0m \u001b[30m0\u001b[0m \u001b[30m0\u001b[0m \u001b[30m0\u001b[0m \u001b[30m0\u001b[0m \u001b[30m0\u001b[0m \u001b[30m0\u001b[0m \u001b[30m0\u001b[0m \u001b[30m0\u001b[0m\n",
            "\u001b[31m1\u001b[0m \u001b[31m0\u001b[0m \u001b[31m0\u001b[0m \u001b[31m0\u001b[0m \u001b[31m0\u001b[0m \u001b[31m0\u001b[0m \u001b[31m0\u001b[0m \u001b[31m0\u001b[0m \u001b[31m0\u001b[0m \u001b[31m0\u001b[0m \u001b[31m0\u001b[0m \u001b[31m0\u001b[0m \u001b[31m0\u001b[0m \u001b[31m0\u001b[0m \u001b[31m0\u001b[0m \u001b[30m0\u001b[0m \u001b[30m0\u001b[0m \u001b[30m0\u001b[0m \u001b[30m0\u001b[0m \u001b[30m0\u001b[0m \u001b[30m0\u001b[0m \u001b[30m0\u001b[0m \u001b[30m0\u001b[0m \u001b[30m0\u001b[0m \u001b[30m0\u001b[0m \u001b[30m0\u001b[0m \u001b[30m0\u001b[0m \u001b[30m0\u001b[0m \u001b[30m0\u001b[0m \u001b[30m0\u001b[0m \u001b[30m0\u001b[0m \u001b[30m0\u001b[0m \u001b[30m0\u001b[0m \u001b[30m0\u001b[0m \u001b[30m0\u001b[0m \u001b[30m0\u001b[0m \u001b[30m0\u001b[0m \u001b[30m0\u001b[0m \u001b[30m0\u001b[0m \u001b[30m0\u001b[0m \u001b[30m0\u001b[0m \u001b[30m0\u001b[0m \u001b[30m0\u001b[0m\n",
            "\u001b[31m1\u001b[0m \u001b[31m0\u001b[0m \u001b[31m0\u001b[0m \u001b[31m0\u001b[0m \u001b[31m0\u001b[0m \u001b[31m0\u001b[0m \u001b[31m0\u001b[0m \u001b[31m0\u001b[0m \u001b[31m0\u001b[0m \u001b[31m0\u001b[0m \u001b[31m0\u001b[0m \u001b[31m0\u001b[0m \u001b[31m0\u001b[0m \u001b[31m0\u001b[0m \u001b[31m0\u001b[0m \u001b[30m0\u001b[0m \u001b[30m0\u001b[0m \u001b[30m0\u001b[0m \u001b[30m0\u001b[0m \u001b[30m0\u001b[0m \u001b[30m0\u001b[0m \u001b[30m0\u001b[0m \u001b[30m0\u001b[0m \u001b[30m0\u001b[0m \u001b[30m0\u001b[0m \u001b[30m0\u001b[0m \u001b[30m0\u001b[0m \u001b[30m0\u001b[0m \u001b[30m0\u001b[0m \u001b[30m0\u001b[0m \u001b[30m0\u001b[0m \u001b[30m0\u001b[0m \u001b[30m0\u001b[0m \u001b[30m0\u001b[0m \u001b[30m0\u001b[0m \u001b[30m0\u001b[0m \u001b[30m0\u001b[0m \u001b[30m0\u001b[0m \u001b[30m0\u001b[0m \u001b[30m0\u001b[0m \u001b[30m0\u001b[0m \u001b[30m0\u001b[0m \u001b[30m0\u001b[0m\n",
            "\u001b[31m0\u001b[0m \u001b[31m1\u001b[0m \u001b[31m0\u001b[0m \u001b[31m0\u001b[0m \u001b[31m0\u001b[0m \u001b[31m0\u001b[0m \u001b[31m0\u001b[0m \u001b[31m0\u001b[0m \u001b[31m0\u001b[0m \u001b[31m0\u001b[0m \u001b[31m0\u001b[0m \u001b[31m0\u001b[0m \u001b[31m0\u001b[0m \u001b[31m0\u001b[0m \u001b[31m0\u001b[0m \u001b[30m0\u001b[0m \u001b[30m0\u001b[0m \u001b[30m0\u001b[0m \u001b[30m0\u001b[0m \u001b[30m0\u001b[0m \u001b[30m0\u001b[0m \u001b[30m0\u001b[0m \u001b[30m0\u001b[0m \u001b[30m0\u001b[0m \u001b[30m0\u001b[0m \u001b[30m0\u001b[0m \u001b[30m0\u001b[0m \u001b[30m0\u001b[0m \u001b[30m0\u001b[0m \u001b[30m0\u001b[0m \u001b[30m0\u001b[0m \u001b[30m0\u001b[0m \u001b[30m0\u001b[0m \u001b[30m0\u001b[0m \u001b[30m0\u001b[0m \u001b[30m0\u001b[0m \u001b[30m0\u001b[0m \u001b[30m0\u001b[0m \u001b[30m0\u001b[0m \u001b[30m0\u001b[0m \u001b[30m0\u001b[0m \u001b[30m0\u001b[0m \u001b[30m0\u001b[0m\n",
            "\u001b[31m0\u001b[0m \u001b[31m0\u001b[0m \u001b[31m1\u001b[0m \u001b[31m0\u001b[0m \u001b[31m0\u001b[0m \u001b[31m0\u001b[0m \u001b[31m0\u001b[0m \u001b[31m0\u001b[0m \u001b[31m0\u001b[0m \u001b[31m0\u001b[0m \u001b[31m0\u001b[0m \u001b[31m0\u001b[0m \u001b[31m0\u001b[0m \u001b[31m0\u001b[0m \u001b[31m0\u001b[0m \u001b[30m0\u001b[0m \u001b[30m0\u001b[0m \u001b[30m0\u001b[0m \u001b[30m0\u001b[0m \u001b[30m0\u001b[0m \u001b[30m0\u001b[0m \u001b[30m0\u001b[0m \u001b[30m0\u001b[0m \u001b[30m0\u001b[0m \u001b[30m0\u001b[0m \u001b[30m0\u001b[0m \u001b[30m0\u001b[0m \u001b[30m0\u001b[0m \u001b[30m0\u001b[0m \u001b[30m0\u001b[0m \u001b[30m0\u001b[0m \u001b[30m0\u001b[0m \u001b[30m0\u001b[0m \u001b[30m0\u001b[0m \u001b[30m0\u001b[0m \u001b[30m0\u001b[0m \u001b[30m0\u001b[0m \u001b[30m0\u001b[0m \u001b[30m0\u001b[0m \u001b[30m0\u001b[0m \u001b[30m0\u001b[0m \u001b[30m0\u001b[0m \u001b[30m0\u001b[0m\n",
            "\u001b[31m0\u001b[0m \u001b[31m0\u001b[0m \u001b[31m0\u001b[0m \u001b[31m0\u001b[0m \u001b[31m1\u001b[0m \u001b[31m0\u001b[0m \u001b[31m0\u001b[0m \u001b[31m0\u001b[0m \u001b[31m0\u001b[0m \u001b[31m0\u001b[0m \u001b[31m0\u001b[0m \u001b[31m0\u001b[0m \u001b[31m0\u001b[0m \u001b[31m0\u001b[0m \u001b[31m0\u001b[0m \u001b[30m0\u001b[0m \u001b[30m0\u001b[0m \u001b[30m0\u001b[0m \u001b[30m0\u001b[0m \u001b[30m0\u001b[0m \u001b[30m0\u001b[0m \u001b[30m0\u001b[0m \u001b[30m0\u001b[0m \u001b[30m0\u001b[0m \u001b[30m0\u001b[0m \u001b[30m0\u001b[0m \u001b[30m0\u001b[0m \u001b[30m0\u001b[0m \u001b[30m0\u001b[0m \u001b[30m0\u001b[0m \u001b[30m0\u001b[0m \u001b[30m0\u001b[0m \u001b[30m0\u001b[0m \u001b[30m0\u001b[0m \u001b[30m0\u001b[0m \u001b[30m0\u001b[0m \u001b[30m0\u001b[0m \u001b[30m0\u001b[0m \u001b[30m0\u001b[0m \u001b[30m0\u001b[0m \u001b[30m0\u001b[0m \u001b[30m0\u001b[0m \u001b[30m0\u001b[0m\n",
            "\u001b[31m0\u001b[0m \u001b[31m0\u001b[0m \u001b[31m0\u001b[0m \u001b[31m0\u001b[0m \u001b[31m0\u001b[0m \u001b[31m1\u001b[0m \u001b[31m0\u001b[0m \u001b[31m0\u001b[0m \u001b[31m0\u001b[0m \u001b[31m0\u001b[0m \u001b[31m0\u001b[0m \u001b[31m0\u001b[0m \u001b[31m0\u001b[0m \u001b[31m0\u001b[0m \u001b[31m0\u001b[0m \u001b[30m0\u001b[0m \u001b[30m0\u001b[0m \u001b[30m0\u001b[0m \u001b[30m0\u001b[0m \u001b[30m0\u001b[0m \u001b[30m0\u001b[0m \u001b[30m0\u001b[0m \u001b[30m0\u001b[0m \u001b[30m0\u001b[0m \u001b[30m0\u001b[0m \u001b[30m0\u001b[0m \u001b[30m0\u001b[0m \u001b[30m0\u001b[0m \u001b[30m0\u001b[0m \u001b[30m0\u001b[0m \u001b[30m0\u001b[0m \u001b[30m0\u001b[0m \u001b[30m0\u001b[0m \u001b[30m0\u001b[0m \u001b[30m0\u001b[0m \u001b[30m0\u001b[0m \u001b[30m0\u001b[0m \u001b[30m0\u001b[0m \u001b[30m0\u001b[0m \u001b[30m0\u001b[0m \u001b[30m0\u001b[0m \u001b[30m0\u001b[0m \u001b[30m0\u001b[0m\n",
            "\u001b[31m0\u001b[0m \u001b[31m0\u001b[0m \u001b[31m0\u001b[0m \u001b[31m0\u001b[0m \u001b[31m0\u001b[0m \u001b[31m0\u001b[0m \u001b[31m0\u001b[0m \u001b[31m1\u001b[0m \u001b[31m0\u001b[0m \u001b[31m0\u001b[0m \u001b[31m0\u001b[0m \u001b[31m0\u001b[0m \u001b[31m0\u001b[0m \u001b[31m0\u001b[0m \u001b[31m0\u001b[0m \u001b[30m0\u001b[0m \u001b[30m0\u001b[0m \u001b[30m0\u001b[0m \u001b[30m0\u001b[0m \u001b[30m0\u001b[0m \u001b[30m0\u001b[0m \u001b[30m0\u001b[0m \u001b[30m0\u001b[0m \u001b[30m0\u001b[0m \u001b[30m0\u001b[0m \u001b[30m0\u001b[0m \u001b[30m0\u001b[0m \u001b[30m0\u001b[0m \u001b[30m0\u001b[0m \u001b[30m0\u001b[0m \u001b[30m0\u001b[0m \u001b[30m0\u001b[0m \u001b[30m0\u001b[0m \u001b[30m0\u001b[0m \u001b[30m0\u001b[0m \u001b[30m0\u001b[0m \u001b[30m0\u001b[0m \u001b[30m0\u001b[0m \u001b[30m0\u001b[0m \u001b[30m0\u001b[0m \u001b[30m0\u001b[0m \u001b[30m0\u001b[0m \u001b[30m0\u001b[0m\n",
            "\u001b[30m0\u001b[0m \u001b[30m0\u001b[0m \u001b[30m0\u001b[0m \u001b[30m0\u001b[0m \u001b[30m0\u001b[0m \u001b[30m0\u001b[0m \u001b[30m0\u001b[0m \u001b[30m0\u001b[0m \u001b[30m0\u001b[0m \u001b[30m0\u001b[0m \u001b[30m0\u001b[0m \u001b[30m0\u001b[0m \u001b[30m0\u001b[0m \u001b[30m0\u001b[0m \u001b[30m0\u001b[0m \u001b[32m0\u001b[0m \u001b[32m1\u001b[0m \u001b[32m0\u001b[0m \u001b[32m0\u001b[0m \u001b[32m0\u001b[0m \u001b[32m0\u001b[0m \u001b[32m0\u001b[0m \u001b[32m0\u001b[0m \u001b[32m0\u001b[0m \u001b[32m0\u001b[0m \u001b[32m0\u001b[0m \u001b[32m0\u001b[0m \u001b[30m0\u001b[0m \u001b[30m0\u001b[0m \u001b[30m0\u001b[0m \u001b[30m0\u001b[0m \u001b[30m0\u001b[0m \u001b[30m0\u001b[0m \u001b[30m0\u001b[0m \u001b[30m0\u001b[0m \u001b[30m0\u001b[0m \u001b[30m0\u001b[0m \u001b[30m0\u001b[0m \u001b[30m0\u001b[0m \u001b[30m0\u001b[0m \u001b[30m0\u001b[0m \u001b[30m0\u001b[0m \u001b[30m0\u001b[0m\n",
            "\u001b[30m0\u001b[0m \u001b[30m0\u001b[0m \u001b[30m0\u001b[0m \u001b[30m0\u001b[0m \u001b[30m0\u001b[0m \u001b[30m0\u001b[0m \u001b[30m0\u001b[0m \u001b[30m0\u001b[0m \u001b[30m0\u001b[0m \u001b[30m0\u001b[0m \u001b[30m0\u001b[0m \u001b[30m0\u001b[0m \u001b[30m0\u001b[0m \u001b[30m0\u001b[0m \u001b[30m0\u001b[0m \u001b[32m1\u001b[0m \u001b[32m0\u001b[0m \u001b[32m1\u001b[0m \u001b[32m0\u001b[0m \u001b[32m0\u001b[0m \u001b[32m0\u001b[0m \u001b[32m0\u001b[0m \u001b[32m0\u001b[0m \u001b[32m1\u001b[0m \u001b[32m0\u001b[0m \u001b[32m0\u001b[0m \u001b[32m0\u001b[0m \u001b[30m0\u001b[0m \u001b[30m0\u001b[0m \u001b[30m0\u001b[0m \u001b[30m0\u001b[0m \u001b[30m0\u001b[0m \u001b[30m0\u001b[0m \u001b[30m0\u001b[0m \u001b[30m0\u001b[0m \u001b[30m0\u001b[0m \u001b[30m0\u001b[0m \u001b[30m0\u001b[0m \u001b[30m0\u001b[0m \u001b[30m0\u001b[0m \u001b[30m0\u001b[0m \u001b[30m0\u001b[0m \u001b[30m0\u001b[0m\n",
            "\u001b[30m0\u001b[0m \u001b[30m0\u001b[0m \u001b[30m0\u001b[0m \u001b[30m0\u001b[0m \u001b[30m0\u001b[0m \u001b[30m0\u001b[0m \u001b[30m0\u001b[0m \u001b[30m0\u001b[0m \u001b[30m0\u001b[0m \u001b[30m0\u001b[0m \u001b[30m0\u001b[0m \u001b[30m0\u001b[0m \u001b[30m0\u001b[0m \u001b[30m0\u001b[0m \u001b[30m0\u001b[0m \u001b[32m0\u001b[0m \u001b[32m1\u001b[0m \u001b[32m0\u001b[0m \u001b[32m1\u001b[0m \u001b[32m0\u001b[0m \u001b[32m0\u001b[0m \u001b[32m0\u001b[0m \u001b[32m0\u001b[0m \u001b[32m0\u001b[0m \u001b[32m1\u001b[0m \u001b[32m0\u001b[0m \u001b[32m0\u001b[0m \u001b[30m0\u001b[0m \u001b[30m0\u001b[0m \u001b[30m0\u001b[0m \u001b[30m0\u001b[0m \u001b[30m0\u001b[0m \u001b[30m0\u001b[0m \u001b[30m0\u001b[0m \u001b[30m0\u001b[0m \u001b[30m0\u001b[0m \u001b[30m0\u001b[0m \u001b[30m0\u001b[0m \u001b[30m0\u001b[0m \u001b[30m0\u001b[0m \u001b[30m0\u001b[0m \u001b[30m0\u001b[0m \u001b[30m0\u001b[0m\n",
            "\u001b[30m0\u001b[0m \u001b[30m0\u001b[0m \u001b[30m0\u001b[0m \u001b[30m0\u001b[0m \u001b[30m0\u001b[0m \u001b[30m0\u001b[0m \u001b[30m0\u001b[0m \u001b[30m0\u001b[0m \u001b[30m0\u001b[0m \u001b[30m0\u001b[0m \u001b[30m0\u001b[0m \u001b[30m0\u001b[0m \u001b[30m0\u001b[0m \u001b[30m0\u001b[0m \u001b[30m0\u001b[0m \u001b[32m0\u001b[0m \u001b[32m0\u001b[0m \u001b[32m1\u001b[0m \u001b[32m0\u001b[0m \u001b[32m1\u001b[0m \u001b[32m0\u001b[0m \u001b[32m0\u001b[0m \u001b[32m1\u001b[0m \u001b[32m0\u001b[0m \u001b[32m0\u001b[0m \u001b[32m0\u001b[0m \u001b[32m0\u001b[0m \u001b[30m0\u001b[0m \u001b[30m0\u001b[0m \u001b[30m0\u001b[0m \u001b[30m0\u001b[0m \u001b[30m0\u001b[0m \u001b[30m0\u001b[0m \u001b[30m0\u001b[0m \u001b[30m0\u001b[0m \u001b[30m0\u001b[0m \u001b[30m0\u001b[0m \u001b[30m0\u001b[0m \u001b[30m0\u001b[0m \u001b[30m0\u001b[0m \u001b[30m0\u001b[0m \u001b[30m0\u001b[0m \u001b[30m0\u001b[0m\n",
            "\u001b[30m0\u001b[0m \u001b[30m0\u001b[0m \u001b[30m0\u001b[0m \u001b[30m0\u001b[0m \u001b[30m0\u001b[0m \u001b[30m0\u001b[0m \u001b[30m0\u001b[0m \u001b[30m0\u001b[0m \u001b[30m0\u001b[0m \u001b[30m0\u001b[0m \u001b[30m0\u001b[0m \u001b[30m0\u001b[0m \u001b[30m0\u001b[0m \u001b[30m0\u001b[0m \u001b[30m0\u001b[0m \u001b[32m0\u001b[0m \u001b[32m0\u001b[0m \u001b[32m0\u001b[0m \u001b[32m1\u001b[0m \u001b[32m0\u001b[0m \u001b[32m1\u001b[0m \u001b[32m0\u001b[0m \u001b[32m0\u001b[0m \u001b[32m0\u001b[0m \u001b[32m0\u001b[0m \u001b[32m1\u001b[0m \u001b[32m0\u001b[0m \u001b[30m0\u001b[0m \u001b[30m0\u001b[0m \u001b[30m0\u001b[0m \u001b[30m0\u001b[0m \u001b[30m0\u001b[0m \u001b[30m0\u001b[0m \u001b[30m0\u001b[0m \u001b[30m0\u001b[0m \u001b[30m0\u001b[0m \u001b[30m0\u001b[0m \u001b[30m0\u001b[0m \u001b[30m0\u001b[0m \u001b[30m0\u001b[0m \u001b[30m0\u001b[0m \u001b[30m0\u001b[0m \u001b[30m0\u001b[0m\n",
            "\u001b[30m0\u001b[0m \u001b[30m0\u001b[0m \u001b[30m0\u001b[0m \u001b[30m0\u001b[0m \u001b[30m0\u001b[0m \u001b[30m0\u001b[0m \u001b[30m0\u001b[0m \u001b[30m0\u001b[0m \u001b[30m0\u001b[0m \u001b[30m0\u001b[0m \u001b[30m0\u001b[0m \u001b[30m0\u001b[0m \u001b[30m0\u001b[0m \u001b[30m0\u001b[0m \u001b[30m0\u001b[0m \u001b[32m0\u001b[0m \u001b[32m0\u001b[0m \u001b[32m0\u001b[0m \u001b[32m0\u001b[0m \u001b[32m1\u001b[0m \u001b[32m0\u001b[0m \u001b[32m1\u001b[0m \u001b[32m0\u001b[0m \u001b[32m0\u001b[0m \u001b[32m0\u001b[0m \u001b[32m0\u001b[0m \u001b[32m0\u001b[0m \u001b[30m0\u001b[0m \u001b[30m0\u001b[0m \u001b[30m0\u001b[0m \u001b[30m0\u001b[0m \u001b[30m0\u001b[0m \u001b[30m0\u001b[0m \u001b[30m0\u001b[0m \u001b[30m0\u001b[0m \u001b[30m0\u001b[0m \u001b[30m0\u001b[0m \u001b[30m0\u001b[0m \u001b[30m0\u001b[0m \u001b[30m0\u001b[0m \u001b[30m0\u001b[0m \u001b[30m0\u001b[0m \u001b[30m0\u001b[0m\n",
            "\u001b[30m0\u001b[0m \u001b[30m0\u001b[0m \u001b[30m0\u001b[0m \u001b[30m0\u001b[0m \u001b[30m0\u001b[0m \u001b[30m0\u001b[0m \u001b[30m0\u001b[0m \u001b[30m0\u001b[0m \u001b[30m0\u001b[0m \u001b[30m0\u001b[0m \u001b[30m0\u001b[0m \u001b[30m0\u001b[0m \u001b[30m0\u001b[0m \u001b[30m0\u001b[0m \u001b[30m0\u001b[0m \u001b[32m0\u001b[0m \u001b[32m0\u001b[0m \u001b[32m0\u001b[0m \u001b[32m0\u001b[0m \u001b[32m0\u001b[0m \u001b[32m1\u001b[0m \u001b[32m0\u001b[0m \u001b[32m1\u001b[0m \u001b[32m0\u001b[0m \u001b[32m0\u001b[0m \u001b[32m0\u001b[0m \u001b[32m0\u001b[0m \u001b[30m0\u001b[0m \u001b[30m0\u001b[0m \u001b[30m0\u001b[0m \u001b[30m0\u001b[0m \u001b[30m0\u001b[0m \u001b[30m0\u001b[0m \u001b[30m0\u001b[0m \u001b[30m0\u001b[0m \u001b[30m0\u001b[0m \u001b[30m0\u001b[0m \u001b[30m0\u001b[0m \u001b[30m0\u001b[0m \u001b[30m0\u001b[0m \u001b[30m0\u001b[0m \u001b[30m0\u001b[0m \u001b[30m0\u001b[0m\n",
            "\u001b[30m0\u001b[0m \u001b[30m0\u001b[0m \u001b[30m0\u001b[0m \u001b[30m0\u001b[0m \u001b[30m0\u001b[0m \u001b[30m0\u001b[0m \u001b[30m0\u001b[0m \u001b[30m0\u001b[0m \u001b[30m0\u001b[0m \u001b[30m0\u001b[0m \u001b[30m0\u001b[0m \u001b[30m0\u001b[0m \u001b[30m0\u001b[0m \u001b[30m0\u001b[0m \u001b[30m0\u001b[0m \u001b[32m0\u001b[0m \u001b[32m0\u001b[0m \u001b[32m0\u001b[0m \u001b[32m1\u001b[0m \u001b[32m0\u001b[0m \u001b[32m0\u001b[0m \u001b[32m1\u001b[0m \u001b[32m0\u001b[0m \u001b[32m0\u001b[0m \u001b[32m0\u001b[0m \u001b[32m0\u001b[0m \u001b[32m1\u001b[0m \u001b[30m0\u001b[0m \u001b[30m0\u001b[0m \u001b[30m0\u001b[0m \u001b[30m0\u001b[0m \u001b[30m0\u001b[0m \u001b[30m0\u001b[0m \u001b[30m0\u001b[0m \u001b[30m0\u001b[0m \u001b[30m0\u001b[0m \u001b[30m0\u001b[0m \u001b[30m0\u001b[0m \u001b[30m0\u001b[0m \u001b[30m0\u001b[0m \u001b[30m0\u001b[0m \u001b[30m0\u001b[0m \u001b[30m0\u001b[0m\n",
            "\u001b[30m0\u001b[0m \u001b[30m0\u001b[0m \u001b[30m0\u001b[0m \u001b[30m0\u001b[0m \u001b[30m0\u001b[0m \u001b[30m0\u001b[0m \u001b[30m0\u001b[0m \u001b[30m0\u001b[0m \u001b[30m0\u001b[0m \u001b[30m0\u001b[0m \u001b[30m0\u001b[0m \u001b[30m0\u001b[0m \u001b[30m0\u001b[0m \u001b[30m0\u001b[0m \u001b[30m0\u001b[0m \u001b[32m0\u001b[0m \u001b[32m1\u001b[0m \u001b[32m0\u001b[0m \u001b[32m0\u001b[0m \u001b[32m0\u001b[0m \u001b[32m0\u001b[0m \u001b[32m0\u001b[0m \u001b[32m0\u001b[0m \u001b[32m0\u001b[0m \u001b[32m0\u001b[0m \u001b[32m0\u001b[0m \u001b[32m0\u001b[0m \u001b[30m0\u001b[0m \u001b[30m0\u001b[0m \u001b[30m0\u001b[0m \u001b[30m0\u001b[0m \u001b[30m0\u001b[0m \u001b[30m0\u001b[0m \u001b[30m0\u001b[0m \u001b[30m0\u001b[0m \u001b[30m0\u001b[0m \u001b[30m0\u001b[0m \u001b[30m0\u001b[0m \u001b[30m0\u001b[0m \u001b[30m0\u001b[0m \u001b[30m0\u001b[0m \u001b[30m0\u001b[0m \u001b[30m0\u001b[0m\n",
            "\u001b[30m0\u001b[0m \u001b[30m0\u001b[0m \u001b[30m0\u001b[0m \u001b[30m0\u001b[0m \u001b[30m0\u001b[0m \u001b[30m0\u001b[0m \u001b[30m0\u001b[0m \u001b[30m0\u001b[0m \u001b[30m0\u001b[0m \u001b[30m0\u001b[0m \u001b[30m0\u001b[0m \u001b[30m0\u001b[0m \u001b[30m0\u001b[0m \u001b[30m0\u001b[0m \u001b[30m0\u001b[0m \u001b[32m0\u001b[0m \u001b[32m0\u001b[0m \u001b[32m1\u001b[0m \u001b[32m0\u001b[0m \u001b[32m0\u001b[0m \u001b[32m0\u001b[0m \u001b[32m0\u001b[0m \u001b[32m0\u001b[0m \u001b[32m0\u001b[0m \u001b[32m0\u001b[0m \u001b[32m0\u001b[0m \u001b[32m0\u001b[0m \u001b[30m0\u001b[0m \u001b[30m0\u001b[0m \u001b[30m0\u001b[0m \u001b[30m0\u001b[0m \u001b[30m0\u001b[0m \u001b[30m0\u001b[0m \u001b[30m0\u001b[0m \u001b[30m0\u001b[0m \u001b[30m0\u001b[0m \u001b[30m0\u001b[0m \u001b[30m0\u001b[0m \u001b[30m0\u001b[0m \u001b[30m0\u001b[0m \u001b[30m0\u001b[0m \u001b[30m0\u001b[0m \u001b[30m0\u001b[0m\n",
            "\u001b[30m0\u001b[0m \u001b[30m0\u001b[0m \u001b[30m0\u001b[0m \u001b[30m0\u001b[0m \u001b[30m0\u001b[0m \u001b[30m0\u001b[0m \u001b[30m0\u001b[0m \u001b[30m0\u001b[0m \u001b[30m0\u001b[0m \u001b[30m0\u001b[0m \u001b[30m0\u001b[0m \u001b[30m0\u001b[0m \u001b[30m0\u001b[0m \u001b[30m0\u001b[0m \u001b[30m0\u001b[0m \u001b[32m0\u001b[0m \u001b[32m0\u001b[0m \u001b[32m0\u001b[0m \u001b[32m0\u001b[0m \u001b[32m1\u001b[0m \u001b[32m0\u001b[0m \u001b[32m0\u001b[0m \u001b[32m0\u001b[0m \u001b[32m0\u001b[0m \u001b[32m0\u001b[0m \u001b[32m0\u001b[0m \u001b[32m0\u001b[0m \u001b[30m0\u001b[0m \u001b[30m0\u001b[0m \u001b[30m0\u001b[0m \u001b[30m0\u001b[0m \u001b[30m0\u001b[0m \u001b[30m0\u001b[0m \u001b[30m0\u001b[0m \u001b[30m0\u001b[0m \u001b[30m0\u001b[0m \u001b[30m0\u001b[0m \u001b[30m0\u001b[0m \u001b[30m0\u001b[0m \u001b[30m0\u001b[0m \u001b[30m0\u001b[0m \u001b[30m0\u001b[0m \u001b[30m0\u001b[0m\n",
            "\u001b[30m0\u001b[0m \u001b[30m0\u001b[0m \u001b[30m0\u001b[0m \u001b[30m0\u001b[0m \u001b[30m0\u001b[0m \u001b[30m0\u001b[0m \u001b[30m0\u001b[0m \u001b[30m0\u001b[0m \u001b[30m0\u001b[0m \u001b[30m0\u001b[0m \u001b[30m0\u001b[0m \u001b[30m0\u001b[0m \u001b[30m0\u001b[0m \u001b[30m0\u001b[0m \u001b[30m0\u001b[0m \u001b[32m0\u001b[0m \u001b[32m0\u001b[0m \u001b[32m0\u001b[0m \u001b[32m0\u001b[0m \u001b[32m0\u001b[0m \u001b[32m0\u001b[0m \u001b[32m0\u001b[0m \u001b[32m1\u001b[0m \u001b[32m0\u001b[0m \u001b[32m0\u001b[0m \u001b[32m0\u001b[0m \u001b[32m0\u001b[0m \u001b[30m0\u001b[0m \u001b[30m0\u001b[0m \u001b[30m0\u001b[0m \u001b[30m0\u001b[0m \u001b[30m0\u001b[0m \u001b[30m0\u001b[0m \u001b[30m0\u001b[0m \u001b[30m0\u001b[0m \u001b[30m0\u001b[0m \u001b[30m0\u001b[0m \u001b[30m0\u001b[0m \u001b[30m0\u001b[0m \u001b[30m0\u001b[0m \u001b[30m0\u001b[0m \u001b[30m0\u001b[0m \u001b[30m0\u001b[0m\n",
            "\u001b[30m0\u001b[0m \u001b[30m0\u001b[0m \u001b[30m0\u001b[0m \u001b[30m0\u001b[0m \u001b[30m0\u001b[0m \u001b[30m0\u001b[0m \u001b[30m0\u001b[0m \u001b[30m0\u001b[0m \u001b[30m0\u001b[0m \u001b[30m0\u001b[0m \u001b[30m0\u001b[0m \u001b[30m0\u001b[0m \u001b[30m0\u001b[0m \u001b[30m0\u001b[0m \u001b[30m0\u001b[0m \u001b[30m0\u001b[0m \u001b[30m0\u001b[0m \u001b[30m0\u001b[0m \u001b[30m0\u001b[0m \u001b[30m0\u001b[0m \u001b[30m0\u001b[0m \u001b[30m0\u001b[0m \u001b[30m0\u001b[0m \u001b[30m0\u001b[0m \u001b[30m0\u001b[0m \u001b[30m0\u001b[0m \u001b[30m0\u001b[0m \u001b[33m0\u001b[0m \u001b[33m1\u001b[0m \u001b[33m0\u001b[0m \u001b[33m0\u001b[0m \u001b[33m0\u001b[0m \u001b[33m0\u001b[0m \u001b[33m0\u001b[0m \u001b[33m0\u001b[0m \u001b[33m0\u001b[0m \u001b[33m1\u001b[0m \u001b[33m0\u001b[0m \u001b[33m0\u001b[0m \u001b[33m0\u001b[0m \u001b[33m0\u001b[0m \u001b[33m0\u001b[0m \u001b[33m0\u001b[0m\n",
            "\u001b[30m0\u001b[0m \u001b[30m0\u001b[0m \u001b[30m0\u001b[0m \u001b[30m0\u001b[0m \u001b[30m0\u001b[0m \u001b[30m0\u001b[0m \u001b[30m0\u001b[0m \u001b[30m0\u001b[0m \u001b[30m0\u001b[0m \u001b[30m0\u001b[0m \u001b[30m0\u001b[0m \u001b[30m0\u001b[0m \u001b[30m0\u001b[0m \u001b[30m0\u001b[0m \u001b[30m0\u001b[0m \u001b[30m0\u001b[0m \u001b[30m0\u001b[0m \u001b[30m0\u001b[0m \u001b[30m0\u001b[0m \u001b[30m0\u001b[0m \u001b[30m0\u001b[0m \u001b[30m0\u001b[0m \u001b[30m0\u001b[0m \u001b[30m0\u001b[0m \u001b[30m0\u001b[0m \u001b[30m0\u001b[0m \u001b[30m0\u001b[0m \u001b[33m1\u001b[0m \u001b[33m0\u001b[0m \u001b[33m1\u001b[0m \u001b[33m0\u001b[0m \u001b[33m0\u001b[0m \u001b[33m0\u001b[0m \u001b[33m0\u001b[0m \u001b[33m0\u001b[0m \u001b[33m1\u001b[0m \u001b[33m0\u001b[0m \u001b[33m0\u001b[0m \u001b[33m0\u001b[0m \u001b[33m0\u001b[0m \u001b[33m0\u001b[0m \u001b[33m0\u001b[0m \u001b[33m0\u001b[0m\n",
            "\u001b[30m0\u001b[0m \u001b[30m0\u001b[0m \u001b[30m0\u001b[0m \u001b[30m0\u001b[0m \u001b[30m0\u001b[0m \u001b[30m0\u001b[0m \u001b[30m0\u001b[0m \u001b[30m0\u001b[0m \u001b[30m0\u001b[0m \u001b[30m0\u001b[0m \u001b[30m0\u001b[0m \u001b[30m0\u001b[0m \u001b[30m0\u001b[0m \u001b[30m0\u001b[0m \u001b[30m0\u001b[0m \u001b[30m0\u001b[0m \u001b[30m0\u001b[0m \u001b[30m0\u001b[0m \u001b[30m0\u001b[0m \u001b[30m0\u001b[0m \u001b[30m0\u001b[0m \u001b[30m0\u001b[0m \u001b[30m0\u001b[0m \u001b[30m0\u001b[0m \u001b[30m0\u001b[0m \u001b[30m0\u001b[0m \u001b[30m0\u001b[0m \u001b[33m0\u001b[0m \u001b[33m1\u001b[0m \u001b[33m0\u001b[0m \u001b[33m1\u001b[0m \u001b[33m0\u001b[0m \u001b[33m0\u001b[0m \u001b[33m0\u001b[0m \u001b[33m0\u001b[0m \u001b[33m0\u001b[0m \u001b[33m0\u001b[0m \u001b[33m0\u001b[0m \u001b[33m0\u001b[0m \u001b[33m0\u001b[0m \u001b[33m0\u001b[0m \u001b[33m0\u001b[0m \u001b[33m0\u001b[0m\n",
            "\u001b[30m0\u001b[0m \u001b[30m0\u001b[0m \u001b[30m0\u001b[0m \u001b[30m0\u001b[0m \u001b[30m0\u001b[0m \u001b[30m0\u001b[0m \u001b[30m0\u001b[0m \u001b[30m0\u001b[0m \u001b[30m0\u001b[0m \u001b[30m0\u001b[0m \u001b[30m0\u001b[0m \u001b[30m0\u001b[0m \u001b[30m0\u001b[0m \u001b[30m0\u001b[0m \u001b[30m0\u001b[0m \u001b[30m0\u001b[0m \u001b[30m0\u001b[0m \u001b[30m0\u001b[0m \u001b[30m0\u001b[0m \u001b[30m0\u001b[0m \u001b[30m0\u001b[0m \u001b[30m0\u001b[0m \u001b[30m0\u001b[0m \u001b[30m0\u001b[0m \u001b[30m0\u001b[0m \u001b[30m0\u001b[0m \u001b[30m0\u001b[0m \u001b[33m0\u001b[0m \u001b[33m0\u001b[0m \u001b[33m1\u001b[0m \u001b[33m0\u001b[0m \u001b[33m1\u001b[0m \u001b[33m0\u001b[0m \u001b[33m0\u001b[0m \u001b[33m1\u001b[0m \u001b[33m0\u001b[0m \u001b[33m0\u001b[0m \u001b[33m1\u001b[0m \u001b[33m0\u001b[0m \u001b[33m0\u001b[0m \u001b[33m0\u001b[0m \u001b[33m0\u001b[0m \u001b[33m0\u001b[0m\n",
            "\u001b[30m0\u001b[0m \u001b[30m0\u001b[0m \u001b[30m0\u001b[0m \u001b[30m0\u001b[0m \u001b[30m0\u001b[0m \u001b[30m0\u001b[0m \u001b[30m0\u001b[0m \u001b[30m0\u001b[0m \u001b[30m0\u001b[0m \u001b[30m0\u001b[0m \u001b[30m0\u001b[0m \u001b[30m0\u001b[0m \u001b[30m0\u001b[0m \u001b[30m0\u001b[0m \u001b[30m0\u001b[0m \u001b[30m0\u001b[0m \u001b[30m0\u001b[0m \u001b[30m0\u001b[0m \u001b[30m0\u001b[0m \u001b[30m0\u001b[0m \u001b[30m0\u001b[0m \u001b[30m0\u001b[0m \u001b[30m0\u001b[0m \u001b[30m0\u001b[0m \u001b[30m0\u001b[0m \u001b[30m0\u001b[0m \u001b[30m0\u001b[0m \u001b[33m0\u001b[0m \u001b[33m0\u001b[0m \u001b[33m0\u001b[0m \u001b[33m1\u001b[0m \u001b[33m0\u001b[0m \u001b[33m1\u001b[0m \u001b[33m0\u001b[0m \u001b[33m0\u001b[0m \u001b[33m0\u001b[0m \u001b[33m0\u001b[0m \u001b[33m0\u001b[0m \u001b[33m1\u001b[0m \u001b[33m1\u001b[0m \u001b[33m0\u001b[0m \u001b[33m0\u001b[0m \u001b[33m0\u001b[0m\n",
            "\u001b[30m0\u001b[0m \u001b[30m0\u001b[0m \u001b[30m0\u001b[0m \u001b[30m0\u001b[0m \u001b[30m0\u001b[0m \u001b[30m0\u001b[0m \u001b[30m0\u001b[0m \u001b[30m0\u001b[0m \u001b[30m0\u001b[0m \u001b[30m0\u001b[0m \u001b[30m0\u001b[0m \u001b[30m0\u001b[0m \u001b[30m0\u001b[0m \u001b[30m0\u001b[0m \u001b[30m0\u001b[0m \u001b[30m0\u001b[0m \u001b[30m0\u001b[0m \u001b[30m0\u001b[0m \u001b[30m0\u001b[0m \u001b[30m0\u001b[0m \u001b[30m0\u001b[0m \u001b[30m0\u001b[0m \u001b[30m0\u001b[0m \u001b[30m0\u001b[0m \u001b[30m0\u001b[0m \u001b[30m0\u001b[0m \u001b[30m0\u001b[0m \u001b[33m0\u001b[0m \u001b[33m0\u001b[0m \u001b[33m0\u001b[0m \u001b[33m0\u001b[0m \u001b[33m1\u001b[0m \u001b[33m0\u001b[0m \u001b[33m1\u001b[0m \u001b[33m0\u001b[0m \u001b[33m0\u001b[0m \u001b[33m0\u001b[0m \u001b[33m0\u001b[0m \u001b[33m0\u001b[0m \u001b[33m0\u001b[0m \u001b[33m0\u001b[0m \u001b[33m0\u001b[0m \u001b[33m0\u001b[0m\n",
            "\u001b[30m0\u001b[0m \u001b[30m0\u001b[0m \u001b[30m0\u001b[0m \u001b[30m0\u001b[0m \u001b[30m0\u001b[0m \u001b[30m0\u001b[0m \u001b[30m0\u001b[0m \u001b[30m0\u001b[0m \u001b[30m0\u001b[0m \u001b[30m0\u001b[0m \u001b[30m0\u001b[0m \u001b[30m0\u001b[0m \u001b[30m0\u001b[0m \u001b[30m0\u001b[0m \u001b[30m0\u001b[0m \u001b[30m0\u001b[0m \u001b[30m0\u001b[0m \u001b[30m0\u001b[0m \u001b[30m0\u001b[0m \u001b[30m0\u001b[0m \u001b[30m0\u001b[0m \u001b[30m0\u001b[0m \u001b[30m0\u001b[0m \u001b[30m0\u001b[0m \u001b[30m0\u001b[0m \u001b[30m0\u001b[0m \u001b[30m0\u001b[0m \u001b[33m0\u001b[0m \u001b[33m0\u001b[0m \u001b[33m0\u001b[0m \u001b[33m0\u001b[0m \u001b[33m0\u001b[0m \u001b[33m1\u001b[0m \u001b[33m0\u001b[0m \u001b[33m1\u001b[0m \u001b[33m0\u001b[0m \u001b[33m0\u001b[0m \u001b[33m0\u001b[0m \u001b[33m0\u001b[0m \u001b[33m0\u001b[0m \u001b[33m1\u001b[0m \u001b[33m1\u001b[0m \u001b[33m0\u001b[0m\n",
            "\u001b[30m0\u001b[0m \u001b[30m0\u001b[0m \u001b[30m0\u001b[0m \u001b[30m0\u001b[0m \u001b[30m0\u001b[0m \u001b[30m0\u001b[0m \u001b[30m0\u001b[0m \u001b[30m0\u001b[0m \u001b[30m0\u001b[0m \u001b[30m0\u001b[0m \u001b[30m0\u001b[0m \u001b[30m0\u001b[0m \u001b[30m0\u001b[0m \u001b[30m0\u001b[0m \u001b[30m0\u001b[0m \u001b[30m0\u001b[0m \u001b[30m0\u001b[0m \u001b[30m0\u001b[0m \u001b[30m0\u001b[0m \u001b[30m0\u001b[0m \u001b[30m0\u001b[0m \u001b[30m0\u001b[0m \u001b[30m0\u001b[0m \u001b[30m0\u001b[0m \u001b[30m0\u001b[0m \u001b[30m0\u001b[0m \u001b[30m0\u001b[0m \u001b[33m0\u001b[0m \u001b[33m0\u001b[0m \u001b[33m0\u001b[0m \u001b[33m1\u001b[0m \u001b[33m0\u001b[0m \u001b[33m0\u001b[0m \u001b[33m1\u001b[0m \u001b[33m0\u001b[0m \u001b[33m1\u001b[0m \u001b[33m0\u001b[0m \u001b[33m0\u001b[0m \u001b[33m0\u001b[0m \u001b[33m0\u001b[0m \u001b[33m0\u001b[0m \u001b[33m0\u001b[0m \u001b[33m0\u001b[0m\n",
            "\u001b[30m0\u001b[0m \u001b[30m0\u001b[0m \u001b[30m0\u001b[0m \u001b[30m0\u001b[0m \u001b[30m0\u001b[0m \u001b[30m0\u001b[0m \u001b[30m0\u001b[0m \u001b[30m0\u001b[0m \u001b[30m0\u001b[0m \u001b[30m0\u001b[0m \u001b[30m0\u001b[0m \u001b[30m0\u001b[0m \u001b[30m0\u001b[0m \u001b[30m0\u001b[0m \u001b[30m0\u001b[0m \u001b[30m0\u001b[0m \u001b[30m0\u001b[0m \u001b[30m0\u001b[0m \u001b[30m0\u001b[0m \u001b[30m0\u001b[0m \u001b[30m0\u001b[0m \u001b[30m0\u001b[0m \u001b[30m0\u001b[0m \u001b[30m0\u001b[0m \u001b[30m0\u001b[0m \u001b[30m0\u001b[0m \u001b[30m0\u001b[0m \u001b[33m0\u001b[0m \u001b[33m1\u001b[0m \u001b[33m0\u001b[0m \u001b[33m0\u001b[0m \u001b[33m0\u001b[0m \u001b[33m0\u001b[0m \u001b[33m0\u001b[0m \u001b[33m1\u001b[0m \u001b[33m0\u001b[0m \u001b[33m0\u001b[0m \u001b[33m0\u001b[0m \u001b[33m0\u001b[0m \u001b[33m0\u001b[0m \u001b[33m0\u001b[0m \u001b[33m0\u001b[0m \u001b[33m1\u001b[0m\n",
            "\u001b[30m0\u001b[0m \u001b[30m0\u001b[0m \u001b[30m0\u001b[0m \u001b[30m0\u001b[0m \u001b[30m0\u001b[0m \u001b[30m0\u001b[0m \u001b[30m0\u001b[0m \u001b[30m0\u001b[0m \u001b[30m0\u001b[0m \u001b[30m0\u001b[0m \u001b[30m0\u001b[0m \u001b[30m0\u001b[0m \u001b[30m0\u001b[0m \u001b[30m0\u001b[0m \u001b[30m0\u001b[0m \u001b[30m0\u001b[0m \u001b[30m0\u001b[0m \u001b[30m0\u001b[0m \u001b[30m0\u001b[0m \u001b[30m0\u001b[0m \u001b[30m0\u001b[0m \u001b[30m0\u001b[0m \u001b[30m0\u001b[0m \u001b[30m0\u001b[0m \u001b[30m0\u001b[0m \u001b[30m0\u001b[0m \u001b[30m0\u001b[0m \u001b[33m1\u001b[0m \u001b[33m0\u001b[0m \u001b[33m0\u001b[0m \u001b[33m0\u001b[0m \u001b[33m0\u001b[0m \u001b[33m0\u001b[0m \u001b[33m0\u001b[0m \u001b[33m0\u001b[0m \u001b[33m0\u001b[0m \u001b[33m0\u001b[0m \u001b[33m0\u001b[0m \u001b[33m0\u001b[0m \u001b[33m0\u001b[0m \u001b[33m0\u001b[0m \u001b[33m0\u001b[0m \u001b[33m0\u001b[0m\n",
            "\u001b[30m0\u001b[0m \u001b[30m0\u001b[0m \u001b[30m0\u001b[0m \u001b[30m0\u001b[0m \u001b[30m0\u001b[0m \u001b[30m0\u001b[0m \u001b[30m0\u001b[0m \u001b[30m0\u001b[0m \u001b[30m0\u001b[0m \u001b[30m0\u001b[0m \u001b[30m0\u001b[0m \u001b[30m0\u001b[0m \u001b[30m0\u001b[0m \u001b[30m0\u001b[0m \u001b[30m0\u001b[0m \u001b[30m0\u001b[0m \u001b[30m0\u001b[0m \u001b[30m0\u001b[0m \u001b[30m0\u001b[0m \u001b[30m0\u001b[0m \u001b[30m0\u001b[0m \u001b[30m0\u001b[0m \u001b[30m0\u001b[0m \u001b[30m0\u001b[0m \u001b[30m0\u001b[0m \u001b[30m0\u001b[0m \u001b[30m0\u001b[0m \u001b[33m0\u001b[0m \u001b[33m0\u001b[0m \u001b[33m0\u001b[0m \u001b[33m1\u001b[0m \u001b[33m0\u001b[0m \u001b[33m0\u001b[0m \u001b[33m0\u001b[0m \u001b[33m0\u001b[0m \u001b[33m0\u001b[0m \u001b[33m0\u001b[0m \u001b[33m0\u001b[0m \u001b[33m0\u001b[0m \u001b[33m0\u001b[0m \u001b[33m0\u001b[0m \u001b[33m0\u001b[0m \u001b[33m0\u001b[0m\n",
            "\u001b[30m0\u001b[0m \u001b[30m0\u001b[0m \u001b[30m0\u001b[0m \u001b[30m0\u001b[0m \u001b[30m0\u001b[0m \u001b[30m0\u001b[0m \u001b[30m0\u001b[0m \u001b[30m0\u001b[0m \u001b[30m0\u001b[0m \u001b[30m0\u001b[0m \u001b[30m0\u001b[0m \u001b[30m0\u001b[0m \u001b[30m0\u001b[0m \u001b[30m0\u001b[0m \u001b[30m0\u001b[0m \u001b[30m0\u001b[0m \u001b[30m0\u001b[0m \u001b[30m0\u001b[0m \u001b[30m0\u001b[0m \u001b[30m0\u001b[0m \u001b[30m0\u001b[0m \u001b[30m0\u001b[0m \u001b[30m0\u001b[0m \u001b[30m0\u001b[0m \u001b[30m0\u001b[0m \u001b[30m0\u001b[0m \u001b[30m0\u001b[0m \u001b[33m0\u001b[0m \u001b[33m0\u001b[0m \u001b[33m0\u001b[0m \u001b[33m0\u001b[0m \u001b[33m1\u001b[0m \u001b[33m0\u001b[0m \u001b[33m0\u001b[0m \u001b[33m0\u001b[0m \u001b[33m0\u001b[0m \u001b[33m0\u001b[0m \u001b[33m0\u001b[0m \u001b[33m0\u001b[0m \u001b[33m0\u001b[0m \u001b[33m0\u001b[0m \u001b[33m0\u001b[0m \u001b[33m0\u001b[0m\n",
            "\u001b[30m0\u001b[0m \u001b[30m0\u001b[0m \u001b[30m0\u001b[0m \u001b[30m0\u001b[0m \u001b[30m0\u001b[0m \u001b[30m0\u001b[0m \u001b[30m0\u001b[0m \u001b[30m0\u001b[0m \u001b[30m0\u001b[0m \u001b[30m0\u001b[0m \u001b[30m0\u001b[0m \u001b[30m0\u001b[0m \u001b[30m0\u001b[0m \u001b[30m0\u001b[0m \u001b[30m0\u001b[0m \u001b[30m0\u001b[0m \u001b[30m0\u001b[0m \u001b[30m0\u001b[0m \u001b[30m0\u001b[0m \u001b[30m0\u001b[0m \u001b[30m0\u001b[0m \u001b[30m0\u001b[0m \u001b[30m0\u001b[0m \u001b[30m0\u001b[0m \u001b[30m0\u001b[0m \u001b[30m0\u001b[0m \u001b[30m0\u001b[0m \u001b[33m0\u001b[0m \u001b[33m0\u001b[0m \u001b[33m0\u001b[0m \u001b[33m0\u001b[0m \u001b[33m1\u001b[0m \u001b[33m0\u001b[0m \u001b[33m0\u001b[0m \u001b[33m0\u001b[0m \u001b[33m0\u001b[0m \u001b[33m0\u001b[0m \u001b[33m0\u001b[0m \u001b[33m0\u001b[0m \u001b[33m0\u001b[0m \u001b[33m0\u001b[0m \u001b[33m0\u001b[0m \u001b[33m0\u001b[0m\n",
            "\u001b[30m0\u001b[0m \u001b[30m0\u001b[0m \u001b[30m0\u001b[0m \u001b[30m0\u001b[0m \u001b[30m0\u001b[0m \u001b[30m0\u001b[0m \u001b[30m0\u001b[0m \u001b[30m0\u001b[0m \u001b[30m0\u001b[0m \u001b[30m0\u001b[0m \u001b[30m0\u001b[0m \u001b[30m0\u001b[0m \u001b[30m0\u001b[0m \u001b[30m0\u001b[0m \u001b[30m0\u001b[0m \u001b[30m0\u001b[0m \u001b[30m0\u001b[0m \u001b[30m0\u001b[0m \u001b[30m0\u001b[0m \u001b[30m0\u001b[0m \u001b[30m0\u001b[0m \u001b[30m0\u001b[0m \u001b[30m0\u001b[0m \u001b[30m0\u001b[0m \u001b[30m0\u001b[0m \u001b[30m0\u001b[0m \u001b[30m0\u001b[0m \u001b[33m0\u001b[0m \u001b[33m0\u001b[0m \u001b[33m0\u001b[0m \u001b[33m0\u001b[0m \u001b[33m0\u001b[0m \u001b[33m0\u001b[0m \u001b[33m1\u001b[0m \u001b[33m0\u001b[0m \u001b[33m0\u001b[0m \u001b[33m0\u001b[0m \u001b[33m0\u001b[0m \u001b[33m0\u001b[0m \u001b[33m0\u001b[0m \u001b[33m0\u001b[0m \u001b[33m0\u001b[0m \u001b[33m0\u001b[0m\n",
            "\u001b[30m0\u001b[0m \u001b[30m0\u001b[0m \u001b[30m0\u001b[0m \u001b[30m0\u001b[0m \u001b[30m0\u001b[0m \u001b[30m0\u001b[0m \u001b[30m0\u001b[0m \u001b[30m0\u001b[0m \u001b[30m0\u001b[0m \u001b[30m0\u001b[0m \u001b[30m0\u001b[0m \u001b[30m0\u001b[0m \u001b[30m0\u001b[0m \u001b[30m0\u001b[0m \u001b[30m0\u001b[0m \u001b[30m0\u001b[0m \u001b[30m0\u001b[0m \u001b[30m0\u001b[0m \u001b[30m0\u001b[0m \u001b[30m0\u001b[0m \u001b[30m0\u001b[0m \u001b[30m0\u001b[0m \u001b[30m0\u001b[0m \u001b[30m0\u001b[0m \u001b[30m0\u001b[0m \u001b[30m0\u001b[0m \u001b[30m0\u001b[0m \u001b[33m0\u001b[0m \u001b[33m0\u001b[0m \u001b[33m0\u001b[0m \u001b[33m0\u001b[0m \u001b[33m0\u001b[0m \u001b[33m0\u001b[0m \u001b[33m1\u001b[0m \u001b[33m0\u001b[0m \u001b[33m0\u001b[0m \u001b[33m0\u001b[0m \u001b[33m0\u001b[0m \u001b[33m0\u001b[0m \u001b[33m0\u001b[0m \u001b[33m0\u001b[0m \u001b[33m0\u001b[0m \u001b[33m0\u001b[0m\n",
            "\u001b[30m0\u001b[0m \u001b[30m0\u001b[0m \u001b[30m0\u001b[0m \u001b[30m0\u001b[0m \u001b[30m0\u001b[0m \u001b[30m0\u001b[0m \u001b[30m0\u001b[0m \u001b[30m0\u001b[0m \u001b[30m0\u001b[0m \u001b[30m0\u001b[0m \u001b[30m0\u001b[0m \u001b[30m0\u001b[0m \u001b[30m0\u001b[0m \u001b[30m0\u001b[0m \u001b[30m0\u001b[0m \u001b[30m0\u001b[0m \u001b[30m0\u001b[0m \u001b[30m0\u001b[0m \u001b[30m0\u001b[0m \u001b[30m0\u001b[0m \u001b[30m0\u001b[0m \u001b[30m0\u001b[0m \u001b[30m0\u001b[0m \u001b[30m0\u001b[0m \u001b[30m0\u001b[0m \u001b[30m0\u001b[0m \u001b[30m0\u001b[0m \u001b[33m0\u001b[0m \u001b[33m0\u001b[0m \u001b[33m0\u001b[0m \u001b[33m0\u001b[0m \u001b[33m0\u001b[0m \u001b[33m0\u001b[0m \u001b[33m0\u001b[0m \u001b[33m0\u001b[0m \u001b[33m1\u001b[0m \u001b[33m0\u001b[0m \u001b[33m0\u001b[0m \u001b[33m0\u001b[0m \u001b[33m0\u001b[0m \u001b[33m0\u001b[0m \u001b[33m0\u001b[0m \u001b[33m0\u001b[0m\n"
          ]
        }
      ]
    },
    {
      "cell_type": "markdown",
      "source": [
        "<h1> Reptile"
      ],
      "metadata": {
        "id": "-4Ps8P2IRCmF"
      },
      "id": "-4Ps8P2IRCmF"
    },
    {
      "cell_type": "code",
      "source": [
        "#Define important variables\n",
        "epochs = int(1e5) # number of epochs \n",
        "lr_meta=0.001 # Learning rate for meta model (outer loop)\n",
        "printing_step=10 # how many epochs should we wait to print the loss\n",
        "lr_k=0.0005 # Internal learning rate\n",
        "k=5 # Number of internal updates for each task\n",
        "K = 1 #Number of samples per task\n",
        "number_of_tasks = 5 #number of tasks for metalearning (max is 19), using 5 converges relatively fast, otherwise it is a bit of a pain\n",
        "# Initializations\n",
        "initialization_to_store_meta_losses()\n",
        "model = FinalMPNNModel()\n",
        "metaoptimizer = torch.optim.Adam(model.parameters(), lr=lr_meta)"
      ],
      "metadata": {
        "id": "8ogpg_DHizlC"
      },
      "id": "8ogpg_DHizlC",
      "execution_count": null,
      "outputs": []
    },
    {
      "cell_type": "code",
      "source": [
        "random.sample(GRAPH_TRAIN, 1)[0].x.shape"
      ],
      "metadata": {
        "colab": {
          "base_uri": "https://localhost:8080/"
        },
        "id": "DCP6ZPotUEuH",
        "outputId": "ca5a58b8-718d-4e4e-e942-273c2a41cf38"
      },
      "id": "DCP6ZPotUEuH",
      "execution_count": null,
      "outputs": [
        {
          "output_type": "execute_result",
          "data": {
            "text/plain": [
              "torch.Size([20, 11])"
            ]
          },
          "metadata": {},
          "execution_count": 120
        }
      ]
    },
    {
      "cell_type": "code",
      "source": [
        "# Training loop\n",
        "for epoch in range(epochs):\n",
        "        \n",
        "    # Sample a task at random 0-18 regression tasks --> T, task should only change per epoch, so it is only updated here\n",
        "    task = random.randint(0, number_of_tasks-1) #Note that for this problem 'task' must be passed to the evaluation function --> graph.y has all the selection targets, we only use the one specified by task\n",
        "\n",
        "    # Empty list\n",
        "    graph = []\n",
        "\n",
        "    for i in range(K): #Store graphs\n",
        "      graph.append(random.sample(GRAPH_TRAIN, 1)[0])\n",
        "\n",
        "    # Create graph mini batch from list\n",
        "    graph = create_mini_batch(graph)\n",
        "\n",
        "    # Update model predefined number of times based on k\n",
        "    new_model = training(model, graph, lr_k, k,task)\n",
        "\n",
        "    # Evalaute the loss for the training data\n",
        "    train_set_evaluation(new_model,graph,store_train_loss_meta,task)     \n",
        "    \n",
        "    #Meta-update --> Get gradient for meta loop and update\n",
        "    metaupdate(model,new_model,metaoptimizer)\n",
        "    \n",
        "    # Evalaute the loss for the test data\n",
        "    # Note that we need to sample the graph from the test data\n",
        "\n",
        "    graph = []\n",
        "    for i in range(K): #Store graphs\n",
        "      graph.append(random.sample(GRAPH_TEST, 1)[0])\n",
        "    graph = create_mini_batch(graph)\n",
        "\n",
        "    test_set_validation(model,new_model,graph,lr_k,k,store_test_loss_meta,task)\n",
        "\n",
        "    # Print losses every 'printing_step' epochs\n",
        "    print_losses(epoch,store_train_loss_meta,store_test_loss_meta,printing_step)"
      ],
      "metadata": {
        "colab": {
          "base_uri": "https://localhost:8080/",
          "height": 1000
        },
        "id": "-4-zQWWKFt3s",
        "outputId": "22d22a4d-1dc0-4aae-ca79-c5b74633c7ad"
      },
      "id": "-4-zQWWKFt3s",
      "execution_count": null,
      "outputs": [
        {
          "output_type": "stream",
          "name": "stderr",
          "text": [
            "/usr/local/lib/python3.7/dist-packages/torch/nn/modules/loss.py:520: UserWarning: Using a target size (torch.Size([10, 1])) that is different to the input size (torch.Size([10])). This will likely lead to incorrect results due to broadcasting. Please ensure they have the same size.\n",
            "  return F.mse_loss(input, target, reduction=self.reduction)\n",
            "/usr/local/lib/python3.7/dist-packages/ipykernel_launcher.py:39: UserWarning: To copy construct from a tensor, it is recommended to use sourceTensor.clone().detach() or sourceTensor.clone().detach().requires_grad_(True), rather than torch.tensor(sourceTensor).\n"
          ]
        },
        {
          "output_type": "stream",
          "name": "stdout",
          "text": [
            "Epochh : 0, Average Train Meta Loss : 0.8121242523193359, Average Test Meta Loss : 1.466140627861023\n",
            "Epochh : 10, Average Train Meta Loss : 55.26716468550942, Average Test Meta Loss : 31.996462756937202\n",
            "Epochh : 20, Average Train Meta Loss : 40.85202327796391, Average Test Meta Loss : 22.83879069487254\n",
            "Epochh : 30, Average Train Meta Loss : 30.893202226969503, Average Test Meta Loss : 17.251616464507194\n",
            "Epochh : 40, Average Train Meta Loss : 27.61708494730112, Average Test Meta Loss : 15.940101072555635\n",
            "Epochh : 50, Average Train Meta Loss : 25.135663223617218, Average Test Meta Loss : 17.588435028113572\n",
            "Epochh : 60, Average Train Meta Loss : 23.531208174639062, Average Test Meta Loss : 17.316585450875955\n",
            "Epochh : 70, Average Train Meta Loss : 21.190530648113977, Average Test Meta Loss : 16.09998853777496\n",
            "Epochh : 80, Average Train Meta Loss : 19.90881319656784, Average Test Meta Loss : 15.416956488732938\n",
            "Epochh : 90, Average Train Meta Loss : 19.794204159424854, Average Test Meta Loss : 15.653798074512691\n",
            "Epochh : 100, Average Train Meta Loss : 17.981760445502726, Average Test Meta Loss : 14.229123860892683\n",
            "Epochh : 110, Average Train Meta Loss : 17.937244762976963, Average Test Meta Loss : 13.97692304634833\n",
            "Epochh : 120, Average Train Meta Loss : 16.550561500728623, Average Test Meta Loss : 12.904310314615897\n",
            "Epochh : 130, Average Train Meta Loss : 15.375778143642513, Average Test Meta Loss : 12.006424555796704\n",
            "Epochh : 140, Average Train Meta Loss : 15.312629748743477, Average Test Meta Loss : 11.882370592854548\n",
            "Epochh : 150, Average Train Meta Loss : 16.33118990833396, Average Test Meta Loss : 12.593337951117004\n",
            "Epochh : 160, Average Train Meta Loss : 16.685477827091393, Average Test Meta Loss : 14.134029102991827\n",
            "Epochh : 170, Average Train Meta Loss : 16.166162164762007, Average Test Meta Loss : 13.852097056065386\n",
            "Epochh : 180, Average Train Meta Loss : 15.424168068236408, Average Test Meta Loss : 13.802161526449478\n",
            "Epochh : 190, Average Train Meta Loss : 15.008048318287464, Average Test Meta Loss : 13.396774897244589\n",
            "Epochh : 200, Average Train Meta Loss : 15.343909636510546, Average Test Meta Loss : 13.727574331398626\n",
            "Epochh : 210, Average Train Meta Loss : 15.263215933789574, Average Test Meta Loss : 13.830659065342628\n",
            "Epochh : 220, Average Train Meta Loss : 15.078945022632633, Average Test Meta Loss : 13.822229741250768\n",
            "Epochh : 230, Average Train Meta Loss : 14.744067148986833, Average Test Meta Loss : 14.080051827869374\n",
            "Epochh : 240, Average Train Meta Loss : 14.655563478771581, Average Test Meta Loss : 14.582722408828399\n",
            "Epochh : 250, Average Train Meta Loss : 14.142576617429931, Average Test Meta Loss : 14.072779097523823\n",
            "Epochh : 260, Average Train Meta Loss : 14.305564749172364, Average Test Meta Loss : 14.507665673549148\n",
            "Epochh : 270, Average Train Meta Loss : 13.878035522475013, Average Test Meta Loss : 14.261155863199727\n",
            "Epochh : 280, Average Train Meta Loss : 13.571420139053114, Average Test Meta Loss : 13.995450515976156\n",
            "Epochh : 290, Average Train Meta Loss : 13.446238255377898, Average Test Meta Loss : 13.729875844112787\n",
            "Epochh : 300, Average Train Meta Loss : 13.534660545298427, Average Test Meta Loss : 13.891205505823772\n",
            "Epochh : 310, Average Train Meta Loss : 13.804023590885174, Average Test Meta Loss : 14.233046695494192\n",
            "Epochh : 320, Average Train Meta Loss : 13.60469152994245, Average Test Meta Loss : 13.951084586736568\n",
            "Epochh : 330, Average Train Meta Loss : 13.473124520115983, Average Test Meta Loss : 13.712459374005341\n",
            "Epochh : 340, Average Train Meta Loss : 13.292583819227485, Average Test Meta Loss : 13.57465308620608\n",
            "Epochh : 350, Average Train Meta Loss : 13.353121966081128, Average Test Meta Loss : 13.465828348216508\n",
            "Epochh : 360, Average Train Meta Loss : 13.515504487870142, Average Test Meta Loss : 14.012267569219306\n",
            "Epochh : 370, Average Train Meta Loss : 13.263182023284088, Average Test Meta Loss : 13.748754362010892\n",
            "Epochh : 380, Average Train Meta Loss : 12.957389148807744, Average Test Meta Loss : 13.432278628228843\n",
            "Epochh : 390, Average Train Meta Loss : 13.208621799469451, Average Test Meta Loss : 13.844343744084963\n",
            "Epochh : 400, Average Train Meta Loss : 13.16241681440141, Average Test Meta Loss : 14.170217961110081\n",
            "Epochh : 410, Average Train Meta Loss : 12.911996240580313, Average Test Meta Loss : 13.855361865566014\n",
            "Epochh : 420, Average Train Meta Loss : 12.643594828732931, Average Test Meta Loss : 13.556790163461782\n",
            "Epochh : 430, Average Train Meta Loss : 12.572811692659235, Average Test Meta Loss : 13.32485275226375\n",
            "Epochh : 440, Average Train Meta Loss : 12.43400438543823, Average Test Meta Loss : 13.258692109294218\n",
            "Epochh : 450, Average Train Meta Loss : 12.265202704907917, Average Test Meta Loss : 13.278479249772106\n",
            "Epochh : 460, Average Train Meta Loss : 12.167570227510629, Average Test Meta Loss : 13.205210390066377\n",
            "Epochh : 470, Average Train Meta Loss : 11.973201995553358, Average Test Meta Loss : 13.054868579511936\n",
            "Epochh : 480, Average Train Meta Loss : 11.848470750119606, Average Test Meta Loss : 13.024994103644593\n",
            "Epochh : 490, Average Train Meta Loss : 11.906340140598976, Average Test Meta Loss : 13.297489463888457\n",
            "Epochh : 500, Average Train Meta Loss : 12.036206705380462, Average Test Meta Loss : 13.36324067865898\n",
            "Epochh : 510, Average Train Meta Loss : 11.857926786514527, Average Test Meta Loss : 13.292632703474357\n",
            "Epochh : 520, Average Train Meta Loss : 11.991891935768031, Average Test Meta Loss : 13.317642139753545\n",
            "Epochh : 530, Average Train Meta Loss : 11.991581570616662, Average Test Meta Loss : 13.160160007113117\n",
            "Epochh : 540, Average Train Meta Loss : 12.22596745166838, Average Test Meta Loss : 13.154525016267506\n",
            "Epochh : 550, Average Train Meta Loss : 12.138003530214032, Average Test Meta Loss : 12.980666490410288\n",
            "Epochh : 560, Average Train Meta Loss : 12.069063011775999, Average Test Meta Loss : 12.87793330000896\n",
            "Epochh : 570, Average Train Meta Loss : 11.926752487344311, Average Test Meta Loss : 12.750056720656815\n",
            "Epochh : 580, Average Train Meta Loss : 12.213761981724154, Average Test Meta Loss : 12.937371773584369\n",
            "Epochh : 590, Average Train Meta Loss : 12.107716351886188, Average Test Meta Loss : 12.79804532756862\n"
          ]
        },
        {
          "output_type": "error",
          "ename": "KeyboardInterrupt",
          "evalue": "ignored",
          "traceback": [
            "\u001b[0;31m---------------------------------------------------------------------------\u001b[0m",
            "\u001b[0;31mKeyboardInterrupt\u001b[0m                         Traceback (most recent call last)",
            "\u001b[0;32m<ipython-input-121-bee81d997837>\u001b[0m in \u001b[0;36m<module>\u001b[0;34m()\u001b[0m\n\u001b[1;32m     15\u001b[0m \u001b[0;34m\u001b[0m\u001b[0m\n\u001b[1;32m     16\u001b[0m     \u001b[0;31m# Update model predefined number of times based on k\u001b[0m\u001b[0;34m\u001b[0m\u001b[0;34m\u001b[0m\u001b[0;34m\u001b[0m\u001b[0m\n\u001b[0;32m---> 17\u001b[0;31m     \u001b[0mnew_model\u001b[0m \u001b[0;34m=\u001b[0m \u001b[0mtraining\u001b[0m\u001b[0;34m(\u001b[0m\u001b[0mmodel\u001b[0m\u001b[0;34m,\u001b[0m \u001b[0mgraph\u001b[0m\u001b[0;34m,\u001b[0m \u001b[0mlr_k\u001b[0m\u001b[0;34m,\u001b[0m \u001b[0mk\u001b[0m\u001b[0;34m,\u001b[0m\u001b[0mtask\u001b[0m\u001b[0;34m)\u001b[0m\u001b[0;34m\u001b[0m\u001b[0;34m\u001b[0m\u001b[0m\n\u001b[0m\u001b[1;32m     18\u001b[0m \u001b[0;34m\u001b[0m\u001b[0m\n\u001b[1;32m     19\u001b[0m     \u001b[0;31m# Evalaute the loss for the training data\u001b[0m\u001b[0;34m\u001b[0m\u001b[0;34m\u001b[0m\u001b[0;34m\u001b[0m\u001b[0m\n",
            "\u001b[0;32m<ipython-input-30-c9d07cadfc48>\u001b[0m in \u001b[0;36mtraining\u001b[0;34m(model, graph, lr_k, k, task)\u001b[0m\n\u001b[1;32m     82\u001b[0m         \u001b[0mkoptimizer\u001b[0m\u001b[0;34m.\u001b[0m\u001b[0mzero_grad\u001b[0m\u001b[0;34m(\u001b[0m\u001b[0;34m)\u001b[0m\u001b[0;34m\u001b[0m\u001b[0;34m\u001b[0m\u001b[0m\n\u001b[1;32m     83\u001b[0m         \u001b[0;31m# Evaluate the model\u001b[0m\u001b[0;34m\u001b[0m\u001b[0;34m\u001b[0m\u001b[0;34m\u001b[0m\u001b[0m\n\u001b[0;32m---> 84\u001b[0;31m         \u001b[0mloss\u001b[0m \u001b[0;34m=\u001b[0m \u001b[0mevaluation\u001b[0m\u001b[0;34m(\u001b[0m\u001b[0mnew_model\u001b[0m\u001b[0;34m,\u001b[0m \u001b[0mgraph\u001b[0m\u001b[0;34m,\u001b[0m \u001b[0mtask\u001b[0m\u001b[0;34m,\u001b[0m \u001b[0mitem\u001b[0m \u001b[0;34m=\u001b[0m \u001b[0;32mFalse\u001b[0m\u001b[0;34m)\u001b[0m\u001b[0;34m\u001b[0m\u001b[0;34m\u001b[0m\u001b[0m\n\u001b[0m\u001b[1;32m     85\u001b[0m         \u001b[0;31m# Backpropagate\u001b[0m\u001b[0;34m\u001b[0m\u001b[0;34m\u001b[0m\u001b[0;34m\u001b[0m\u001b[0m\n\u001b[1;32m     86\u001b[0m         \u001b[0mloss\u001b[0m\u001b[0;34m.\u001b[0m\u001b[0mbackward\u001b[0m\u001b[0;34m(\u001b[0m\u001b[0;34m)\u001b[0m\u001b[0;34m\u001b[0m\u001b[0;34m\u001b[0m\u001b[0m\n",
            "\u001b[0;32m<ipython-input-30-c9d07cadfc48>\u001b[0m in \u001b[0;36mevaluation\u001b[0;34m(new_model, graph, task, item, normalization)\u001b[0m\n\u001b[1;32m     58\u001b[0m \u001b[0;32mdef\u001b[0m \u001b[0mevaluation\u001b[0m\u001b[0;34m(\u001b[0m\u001b[0mnew_model\u001b[0m\u001b[0;34m,\u001b[0m \u001b[0mgraph\u001b[0m\u001b[0;34m,\u001b[0m \u001b[0mtask\u001b[0m\u001b[0;34m,\u001b[0m \u001b[0mitem\u001b[0m \u001b[0;34m=\u001b[0m \u001b[0;32mTrue\u001b[0m\u001b[0;34m,\u001b[0m \u001b[0mnormalization\u001b[0m \u001b[0;34m=\u001b[0m \u001b[0;32mFalse\u001b[0m\u001b[0;34m)\u001b[0m\u001b[0;34m:\u001b[0m\u001b[0;34m\u001b[0m\u001b[0;34m\u001b[0m\u001b[0m\n\u001b[1;32m     59\u001b[0m     \u001b[0;31m# Make model prediction\u001b[0m\u001b[0;34m\u001b[0m\u001b[0;34m\u001b[0m\u001b[0;34m\u001b[0m\u001b[0m\n\u001b[0;32m---> 60\u001b[0;31m     \u001b[0mprediction\u001b[0m \u001b[0;34m=\u001b[0m \u001b[0mnew_model\u001b[0m\u001b[0;34m(\u001b[0m\u001b[0mgraph\u001b[0m\u001b[0;34m)\u001b[0m\u001b[0;34m\u001b[0m\u001b[0;34m\u001b[0m\u001b[0m\n\u001b[0m\u001b[1;32m     61\u001b[0m \u001b[0;34m\u001b[0m\u001b[0m\n\u001b[1;32m     62\u001b[0m     \u001b[0mlabel\u001b[0m \u001b[0;34m=\u001b[0m \u001b[0mgraph\u001b[0m\u001b[0;34m.\u001b[0m\u001b[0my\u001b[0m\u001b[0;34m[\u001b[0m\u001b[0;34m:\u001b[0m\u001b[0;34m,\u001b[0m\u001b[0mtask\u001b[0m\u001b[0;34m:\u001b[0m\u001b[0mtask\u001b[0m\u001b[0;34m+\u001b[0m\u001b[0;36m1\u001b[0m\u001b[0;34m]\u001b[0m\u001b[0;34m\u001b[0m\u001b[0;34m\u001b[0m\u001b[0m\n",
            "\u001b[0;32m/usr/local/lib/python3.7/dist-packages/torch/nn/modules/module.py\u001b[0m in \u001b[0;36m_call_impl\u001b[0;34m(self, *input, **kwargs)\u001b[0m\n\u001b[1;32m   1100\u001b[0m         if not (self._backward_hooks or self._forward_hooks or self._forward_pre_hooks or _global_backward_hooks\n\u001b[1;32m   1101\u001b[0m                 or _global_forward_hooks or _global_forward_pre_hooks):\n\u001b[0;32m-> 1102\u001b[0;31m             \u001b[0;32mreturn\u001b[0m \u001b[0mforward_call\u001b[0m\u001b[0;34m(\u001b[0m\u001b[0;34m*\u001b[0m\u001b[0minput\u001b[0m\u001b[0;34m,\u001b[0m \u001b[0;34m**\u001b[0m\u001b[0mkwargs\u001b[0m\u001b[0;34m)\u001b[0m\u001b[0;34m\u001b[0m\u001b[0;34m\u001b[0m\u001b[0m\n\u001b[0m\u001b[1;32m   1103\u001b[0m         \u001b[0;31m# Do not call functions when jit is used\u001b[0m\u001b[0;34m\u001b[0m\u001b[0;34m\u001b[0m\u001b[0;34m\u001b[0m\u001b[0m\n\u001b[1;32m   1104\u001b[0m         \u001b[0mfull_backward_hooks\u001b[0m\u001b[0;34m,\u001b[0m \u001b[0mnon_full_backward_hooks\u001b[0m \u001b[0;34m=\u001b[0m \u001b[0;34m[\u001b[0m\u001b[0;34m]\u001b[0m\u001b[0;34m,\u001b[0m \u001b[0;34m[\u001b[0m\u001b[0;34m]\u001b[0m\u001b[0;34m\u001b[0m\u001b[0;34m\u001b[0m\u001b[0m\n",
            "\u001b[0;32m<ipython-input-28-94ce8d836b86>\u001b[0m in \u001b[0;36mforward\u001b[0;34m(self, data)\u001b[0m\n\u001b[1;32m    162\u001b[0m         \u001b[0;32mfor\u001b[0m \u001b[0mconv\u001b[0m \u001b[0;32min\u001b[0m \u001b[0mself\u001b[0m\u001b[0;34m.\u001b[0m\u001b[0mconvs\u001b[0m\u001b[0;34m:\u001b[0m\u001b[0;34m\u001b[0m\u001b[0;34m\u001b[0m\u001b[0m\n\u001b[1;32m    163\u001b[0m             \u001b[0;31m# Message passing layer\u001b[0m\u001b[0;34m\u001b[0m\u001b[0;34m\u001b[0m\u001b[0;34m\u001b[0m\u001b[0m\n\u001b[0;32m--> 164\u001b[0;31m             \u001b[0mh_update\u001b[0m\u001b[0;34m,\u001b[0m \u001b[0mpos_update\u001b[0m \u001b[0;34m=\u001b[0m \u001b[0mconv\u001b[0m\u001b[0;34m(\u001b[0m\u001b[0mh\u001b[0m\u001b[0;34m,\u001b[0m \u001b[0mpos\u001b[0m\u001b[0;34m,\u001b[0m \u001b[0mdata\u001b[0m\u001b[0;34m.\u001b[0m\u001b[0medge_index\u001b[0m\u001b[0;34m,\u001b[0m \u001b[0mdata\u001b[0m\u001b[0;34m.\u001b[0m\u001b[0medge_attr\u001b[0m\u001b[0;34m)\u001b[0m\u001b[0;34m\u001b[0m\u001b[0;34m\u001b[0m\u001b[0m\n\u001b[0m\u001b[1;32m    165\u001b[0m \u001b[0;34m\u001b[0m\u001b[0m\n\u001b[1;32m    166\u001b[0m             \u001b[0;31m# Update node features\u001b[0m\u001b[0;34m\u001b[0m\u001b[0;34m\u001b[0m\u001b[0;34m\u001b[0m\u001b[0m\n",
            "\u001b[0;32m/usr/local/lib/python3.7/dist-packages/torch/nn/modules/module.py\u001b[0m in \u001b[0;36m_call_impl\u001b[0;34m(self, *input, **kwargs)\u001b[0m\n\u001b[1;32m   1100\u001b[0m         if not (self._backward_hooks or self._forward_hooks or self._forward_pre_hooks or _global_backward_hooks\n\u001b[1;32m   1101\u001b[0m                 or _global_forward_hooks or _global_forward_pre_hooks):\n\u001b[0;32m-> 1102\u001b[0;31m             \u001b[0;32mreturn\u001b[0m \u001b[0mforward_call\u001b[0m\u001b[0;34m(\u001b[0m\u001b[0;34m*\u001b[0m\u001b[0minput\u001b[0m\u001b[0;34m,\u001b[0m \u001b[0;34m**\u001b[0m\u001b[0mkwargs\u001b[0m\u001b[0;34m)\u001b[0m\u001b[0;34m\u001b[0m\u001b[0;34m\u001b[0m\u001b[0m\n\u001b[0m\u001b[1;32m   1103\u001b[0m         \u001b[0;31m# Do not call functions when jit is used\u001b[0m\u001b[0;34m\u001b[0m\u001b[0;34m\u001b[0m\u001b[0;34m\u001b[0m\u001b[0m\n\u001b[1;32m   1104\u001b[0m         \u001b[0mfull_backward_hooks\u001b[0m\u001b[0;34m,\u001b[0m \u001b[0mnon_full_backward_hooks\u001b[0m \u001b[0;34m=\u001b[0m \u001b[0;34m[\u001b[0m\u001b[0;34m]\u001b[0m\u001b[0;34m,\u001b[0m \u001b[0;34m[\u001b[0m\u001b[0;34m]\u001b[0m\u001b[0;34m\u001b[0m\u001b[0;34m\u001b[0m\u001b[0m\n",
            "\u001b[0;32m<ipython-input-28-94ce8d836b86>\u001b[0m in \u001b[0;36mforward\u001b[0;34m(self, h, pos, edge_index, edge_attr)\u001b[0m\n\u001b[1;32m     53\u001b[0m         \"\"\"\n\u001b[1;32m     54\u001b[0m \u001b[0;34m\u001b[0m\u001b[0m\n\u001b[0;32m---> 55\u001b[0;31m         \u001b[0mout\u001b[0m\u001b[0;34m,\u001b[0m \u001b[0mnew_pos\u001b[0m \u001b[0;34m=\u001b[0m \u001b[0mself\u001b[0m\u001b[0;34m.\u001b[0m\u001b[0mpropagate\u001b[0m\u001b[0;34m(\u001b[0m\u001b[0medge_index\u001b[0m\u001b[0;34m,\u001b[0m \u001b[0mh\u001b[0m\u001b[0;34m=\u001b[0m\u001b[0mh\u001b[0m\u001b[0;34m,\u001b[0m \u001b[0medge_attr\u001b[0m\u001b[0;34m=\u001b[0m\u001b[0medge_attr\u001b[0m\u001b[0;34m,\u001b[0m \u001b[0mpos\u001b[0m \u001b[0;34m=\u001b[0m \u001b[0mpos\u001b[0m\u001b[0;34m)\u001b[0m\u001b[0;34m\u001b[0m\u001b[0;34m\u001b[0m\u001b[0m\n\u001b[0m\u001b[1;32m     56\u001b[0m         \u001b[0;32mreturn\u001b[0m \u001b[0;34m(\u001b[0m\u001b[0mout\u001b[0m\u001b[0;34m,\u001b[0m \u001b[0mnew_pos\u001b[0m\u001b[0;34m)\u001b[0m\u001b[0;34m\u001b[0m\u001b[0;34m\u001b[0m\u001b[0m\n\u001b[1;32m     57\u001b[0m         \u001b[0;31m# ==========================================\u001b[0m\u001b[0;34m\u001b[0m\u001b[0;34m\u001b[0m\u001b[0;34m\u001b[0m\u001b[0m\n",
            "\u001b[0;32m/usr/local/lib/python3.7/dist-packages/torch_geometric/nn/conv/message_passing.py\u001b[0m in \u001b[0;36mpropagate\u001b[0;34m(self, edge_index, size, **kwargs)\u001b[0m\n\u001b[1;32m    315\u001b[0m                     \u001b[0;32mif\u001b[0m \u001b[0mres\u001b[0m \u001b[0;32mis\u001b[0m \u001b[0;32mnot\u001b[0m \u001b[0;32mNone\u001b[0m\u001b[0;34m:\u001b[0m\u001b[0;34m\u001b[0m\u001b[0;34m\u001b[0m\u001b[0m\n\u001b[1;32m    316\u001b[0m                         \u001b[0mmsg_kwargs\u001b[0m \u001b[0;34m=\u001b[0m \u001b[0mres\u001b[0m\u001b[0;34m[\u001b[0m\u001b[0;36m0\u001b[0m\u001b[0;34m]\u001b[0m \u001b[0;32mif\u001b[0m \u001b[0misinstance\u001b[0m\u001b[0;34m(\u001b[0m\u001b[0mres\u001b[0m\u001b[0;34m,\u001b[0m \u001b[0mtuple\u001b[0m\u001b[0;34m)\u001b[0m \u001b[0;32melse\u001b[0m \u001b[0mres\u001b[0m\u001b[0;34m\u001b[0m\u001b[0;34m\u001b[0m\u001b[0m\n\u001b[0;32m--> 317\u001b[0;31m                 \u001b[0mout\u001b[0m \u001b[0;34m=\u001b[0m \u001b[0mself\u001b[0m\u001b[0;34m.\u001b[0m\u001b[0mmessage\u001b[0m\u001b[0;34m(\u001b[0m\u001b[0;34m**\u001b[0m\u001b[0mmsg_kwargs\u001b[0m\u001b[0;34m)\u001b[0m\u001b[0;34m\u001b[0m\u001b[0;34m\u001b[0m\u001b[0m\n\u001b[0m\u001b[1;32m    318\u001b[0m                 \u001b[0;32mfor\u001b[0m \u001b[0mhook\u001b[0m \u001b[0;32min\u001b[0m \u001b[0mself\u001b[0m\u001b[0;34m.\u001b[0m\u001b[0m_message_forward_hooks\u001b[0m\u001b[0;34m.\u001b[0m\u001b[0mvalues\u001b[0m\u001b[0;34m(\u001b[0m\u001b[0;34m)\u001b[0m\u001b[0;34m:\u001b[0m\u001b[0;34m\u001b[0m\u001b[0;34m\u001b[0m\u001b[0m\n\u001b[1;32m    319\u001b[0m                     \u001b[0mres\u001b[0m \u001b[0;34m=\u001b[0m \u001b[0mhook\u001b[0m\u001b[0;34m(\u001b[0m\u001b[0mself\u001b[0m\u001b[0;34m,\u001b[0m \u001b[0;34m(\u001b[0m\u001b[0mmsg_kwargs\u001b[0m\u001b[0;34m,\u001b[0m \u001b[0;34m)\u001b[0m\u001b[0;34m,\u001b[0m \u001b[0mout\u001b[0m\u001b[0;34m)\u001b[0m\u001b[0;34m\u001b[0m\u001b[0;34m\u001b[0m\u001b[0m\n",
            "\u001b[0;32m<ipython-input-28-94ce8d836b86>\u001b[0m in \u001b[0;36mmessage\u001b[0;34m(self, h_i, h_j, edge_attr, pos_i, pos_j)\u001b[0m\n\u001b[1;32m     74\u001b[0m       \u001b[0mrelative_difference\u001b[0m \u001b[0;34m=\u001b[0m \u001b[0mpos_i\u001b[0m\u001b[0;34m-\u001b[0m\u001b[0mpos_j\u001b[0m\u001b[0;34m\u001b[0m\u001b[0;34m\u001b[0m\u001b[0m\n\u001b[1;32m     75\u001b[0m       \u001b[0mmsg\u001b[0m \u001b[0;34m=\u001b[0m \u001b[0mtorch\u001b[0m\u001b[0;34m.\u001b[0m\u001b[0mcat\u001b[0m\u001b[0;34m(\u001b[0m\u001b[0;34m[\u001b[0m\u001b[0mh_i\u001b[0m\u001b[0;34m,\u001b[0m \u001b[0mh_j\u001b[0m\u001b[0;34m,\u001b[0m \u001b[0medge_attr\u001b[0m\u001b[0;34m,\u001b[0m\u001b[0mdist\u001b[0m\u001b[0;34m]\u001b[0m\u001b[0;34m,\u001b[0m \u001b[0mdim\u001b[0m\u001b[0;34m=\u001b[0m\u001b[0;34m-\u001b[0m\u001b[0;36m1\u001b[0m\u001b[0;34m)\u001b[0m\u001b[0;34m\u001b[0m\u001b[0;34m\u001b[0m\u001b[0m\n\u001b[0;32m---> 76\u001b[0;31m       \u001b[0;32mreturn\u001b[0m \u001b[0;34m(\u001b[0m\u001b[0mself\u001b[0m\u001b[0;34m.\u001b[0m\u001b[0mmlp_msg\u001b[0m\u001b[0;34m(\u001b[0m\u001b[0mmsg\u001b[0m\u001b[0;34m)\u001b[0m\u001b[0;34m,\u001b[0m\u001b[0mrelative_difference\u001b[0m\u001b[0;34m)\u001b[0m\u001b[0;34m\u001b[0m\u001b[0;34m\u001b[0m\u001b[0m\n\u001b[0m\u001b[1;32m     77\u001b[0m     \u001b[0;31m# ==========================================\u001b[0m\u001b[0;34m\u001b[0m\u001b[0;34m\u001b[0m\u001b[0;34m\u001b[0m\u001b[0m\n\u001b[1;32m     78\u001b[0m \u001b[0;34m\u001b[0m\u001b[0m\n",
            "\u001b[0;32m/usr/local/lib/python3.7/dist-packages/torch/nn/modules/module.py\u001b[0m in \u001b[0;36m_call_impl\u001b[0;34m(self, *input, **kwargs)\u001b[0m\n\u001b[1;32m   1100\u001b[0m         if not (self._backward_hooks or self._forward_hooks or self._forward_pre_hooks or _global_backward_hooks\n\u001b[1;32m   1101\u001b[0m                 or _global_forward_hooks or _global_forward_pre_hooks):\n\u001b[0;32m-> 1102\u001b[0;31m             \u001b[0;32mreturn\u001b[0m \u001b[0mforward_call\u001b[0m\u001b[0;34m(\u001b[0m\u001b[0;34m*\u001b[0m\u001b[0minput\u001b[0m\u001b[0;34m,\u001b[0m \u001b[0;34m**\u001b[0m\u001b[0mkwargs\u001b[0m\u001b[0;34m)\u001b[0m\u001b[0;34m\u001b[0m\u001b[0;34m\u001b[0m\u001b[0m\n\u001b[0m\u001b[1;32m   1103\u001b[0m         \u001b[0;31m# Do not call functions when jit is used\u001b[0m\u001b[0;34m\u001b[0m\u001b[0;34m\u001b[0m\u001b[0;34m\u001b[0m\u001b[0m\n\u001b[1;32m   1104\u001b[0m         \u001b[0mfull_backward_hooks\u001b[0m\u001b[0;34m,\u001b[0m \u001b[0mnon_full_backward_hooks\u001b[0m \u001b[0;34m=\u001b[0m \u001b[0;34m[\u001b[0m\u001b[0;34m]\u001b[0m\u001b[0;34m,\u001b[0m \u001b[0;34m[\u001b[0m\u001b[0;34m]\u001b[0m\u001b[0;34m\u001b[0m\u001b[0;34m\u001b[0m\u001b[0m\n",
            "\u001b[0;32m/usr/local/lib/python3.7/dist-packages/torch/nn/modules/container.py\u001b[0m in \u001b[0;36mforward\u001b[0;34m(self, input)\u001b[0m\n\u001b[1;32m    139\u001b[0m     \u001b[0;32mdef\u001b[0m \u001b[0mforward\u001b[0m\u001b[0;34m(\u001b[0m\u001b[0mself\u001b[0m\u001b[0;34m,\u001b[0m \u001b[0minput\u001b[0m\u001b[0;34m)\u001b[0m\u001b[0;34m:\u001b[0m\u001b[0;34m\u001b[0m\u001b[0;34m\u001b[0m\u001b[0m\n\u001b[1;32m    140\u001b[0m         \u001b[0;32mfor\u001b[0m \u001b[0mmodule\u001b[0m \u001b[0;32min\u001b[0m \u001b[0mself\u001b[0m\u001b[0;34m:\u001b[0m\u001b[0;34m\u001b[0m\u001b[0;34m\u001b[0m\u001b[0m\n\u001b[0;32m--> 141\u001b[0;31m             \u001b[0minput\u001b[0m \u001b[0;34m=\u001b[0m \u001b[0mmodule\u001b[0m\u001b[0;34m(\u001b[0m\u001b[0minput\u001b[0m\u001b[0;34m)\u001b[0m\u001b[0;34m\u001b[0m\u001b[0;34m\u001b[0m\u001b[0m\n\u001b[0m\u001b[1;32m    142\u001b[0m         \u001b[0;32mreturn\u001b[0m \u001b[0minput\u001b[0m\u001b[0;34m\u001b[0m\u001b[0;34m\u001b[0m\u001b[0m\n\u001b[1;32m    143\u001b[0m \u001b[0;34m\u001b[0m\u001b[0m\n",
            "\u001b[0;32m/usr/local/lib/python3.7/dist-packages/torch/nn/modules/module.py\u001b[0m in \u001b[0;36m_call_impl\u001b[0;34m(self, *input, **kwargs)\u001b[0m\n\u001b[1;32m   1100\u001b[0m         if not (self._backward_hooks or self._forward_hooks or self._forward_pre_hooks or _global_backward_hooks\n\u001b[1;32m   1101\u001b[0m                 or _global_forward_hooks or _global_forward_pre_hooks):\n\u001b[0;32m-> 1102\u001b[0;31m             \u001b[0;32mreturn\u001b[0m \u001b[0mforward_call\u001b[0m\u001b[0;34m(\u001b[0m\u001b[0;34m*\u001b[0m\u001b[0minput\u001b[0m\u001b[0;34m,\u001b[0m \u001b[0;34m**\u001b[0m\u001b[0mkwargs\u001b[0m\u001b[0;34m)\u001b[0m\u001b[0;34m\u001b[0m\u001b[0;34m\u001b[0m\u001b[0m\n\u001b[0m\u001b[1;32m   1103\u001b[0m         \u001b[0;31m# Do not call functions when jit is used\u001b[0m\u001b[0;34m\u001b[0m\u001b[0;34m\u001b[0m\u001b[0;34m\u001b[0m\u001b[0m\n\u001b[1;32m   1104\u001b[0m         \u001b[0mfull_backward_hooks\u001b[0m\u001b[0;34m,\u001b[0m \u001b[0mnon_full_backward_hooks\u001b[0m \u001b[0;34m=\u001b[0m \u001b[0;34m[\u001b[0m\u001b[0;34m]\u001b[0m\u001b[0;34m,\u001b[0m \u001b[0;34m[\u001b[0m\u001b[0;34m]\u001b[0m\u001b[0;34m\u001b[0m\u001b[0;34m\u001b[0m\u001b[0m\n",
            "\u001b[0;32m/usr/local/lib/python3.7/dist-packages/torch/nn/modules/linear.py\u001b[0m in \u001b[0;36mforward\u001b[0;34m(self, input)\u001b[0m\n\u001b[1;32m    101\u001b[0m \u001b[0;34m\u001b[0m\u001b[0m\n\u001b[1;32m    102\u001b[0m     \u001b[0;32mdef\u001b[0m \u001b[0mforward\u001b[0m\u001b[0;34m(\u001b[0m\u001b[0mself\u001b[0m\u001b[0;34m,\u001b[0m \u001b[0minput\u001b[0m\u001b[0;34m:\u001b[0m \u001b[0mTensor\u001b[0m\u001b[0;34m)\u001b[0m \u001b[0;34m->\u001b[0m \u001b[0mTensor\u001b[0m\u001b[0;34m:\u001b[0m\u001b[0;34m\u001b[0m\u001b[0;34m\u001b[0m\u001b[0m\n\u001b[0;32m--> 103\u001b[0;31m         \u001b[0;32mreturn\u001b[0m \u001b[0mF\u001b[0m\u001b[0;34m.\u001b[0m\u001b[0mlinear\u001b[0m\u001b[0;34m(\u001b[0m\u001b[0minput\u001b[0m\u001b[0;34m,\u001b[0m \u001b[0mself\u001b[0m\u001b[0;34m.\u001b[0m\u001b[0mweight\u001b[0m\u001b[0;34m,\u001b[0m \u001b[0mself\u001b[0m\u001b[0;34m.\u001b[0m\u001b[0mbias\u001b[0m\u001b[0;34m)\u001b[0m\u001b[0;34m\u001b[0m\u001b[0;34m\u001b[0m\u001b[0m\n\u001b[0m\u001b[1;32m    104\u001b[0m \u001b[0;34m\u001b[0m\u001b[0m\n\u001b[1;32m    105\u001b[0m     \u001b[0;32mdef\u001b[0m \u001b[0mextra_repr\u001b[0m\u001b[0;34m(\u001b[0m\u001b[0mself\u001b[0m\u001b[0;34m)\u001b[0m \u001b[0;34m->\u001b[0m \u001b[0mstr\u001b[0m\u001b[0;34m:\u001b[0m\u001b[0;34m\u001b[0m\u001b[0;34m\u001b[0m\u001b[0m\n",
            "\u001b[0;32m/usr/local/lib/python3.7/dist-packages/torch/nn/functional.py\u001b[0m in \u001b[0;36mlinear\u001b[0;34m(input, weight, bias)\u001b[0m\n\u001b[1;32m   1846\u001b[0m     \u001b[0;32mif\u001b[0m \u001b[0mhas_torch_function_variadic\u001b[0m\u001b[0;34m(\u001b[0m\u001b[0minput\u001b[0m\u001b[0;34m,\u001b[0m \u001b[0mweight\u001b[0m\u001b[0;34m,\u001b[0m \u001b[0mbias\u001b[0m\u001b[0;34m)\u001b[0m\u001b[0;34m:\u001b[0m\u001b[0;34m\u001b[0m\u001b[0;34m\u001b[0m\u001b[0m\n\u001b[1;32m   1847\u001b[0m         \u001b[0;32mreturn\u001b[0m \u001b[0mhandle_torch_function\u001b[0m\u001b[0;34m(\u001b[0m\u001b[0mlinear\u001b[0m\u001b[0;34m,\u001b[0m \u001b[0;34m(\u001b[0m\u001b[0minput\u001b[0m\u001b[0;34m,\u001b[0m \u001b[0mweight\u001b[0m\u001b[0;34m,\u001b[0m \u001b[0mbias\u001b[0m\u001b[0;34m)\u001b[0m\u001b[0;34m,\u001b[0m \u001b[0minput\u001b[0m\u001b[0;34m,\u001b[0m \u001b[0mweight\u001b[0m\u001b[0;34m,\u001b[0m \u001b[0mbias\u001b[0m\u001b[0;34m=\u001b[0m\u001b[0mbias\u001b[0m\u001b[0;34m)\u001b[0m\u001b[0;34m\u001b[0m\u001b[0;34m\u001b[0m\u001b[0m\n\u001b[0;32m-> 1848\u001b[0;31m     \u001b[0;32mreturn\u001b[0m \u001b[0mtorch\u001b[0m\u001b[0;34m.\u001b[0m\u001b[0m_C\u001b[0m\u001b[0;34m.\u001b[0m\u001b[0m_nn\u001b[0m\u001b[0;34m.\u001b[0m\u001b[0mlinear\u001b[0m\u001b[0;34m(\u001b[0m\u001b[0minput\u001b[0m\u001b[0;34m,\u001b[0m \u001b[0mweight\u001b[0m\u001b[0;34m,\u001b[0m \u001b[0mbias\u001b[0m\u001b[0;34m)\u001b[0m\u001b[0;34m\u001b[0m\u001b[0;34m\u001b[0m\u001b[0m\n\u001b[0m\u001b[1;32m   1849\u001b[0m \u001b[0;34m\u001b[0m\u001b[0m\n\u001b[1;32m   1850\u001b[0m \u001b[0;34m\u001b[0m\u001b[0m\n",
            "\u001b[0;31mKeyboardInterrupt\u001b[0m: "
          ]
        }
      ]
    },
    {
      "cell_type": "markdown",
      "source": [
        "<h1> Few Shot learning with new meta-model"
      ],
      "metadata": {
        "id": "bQjoz6FYctJM"
      },
      "id": "bQjoz6FYctJM"
    },
    {
      "cell_type": "markdown",
      "source": [
        "The model performs good few shot learning"
      ],
      "metadata": {
        "id": "m-SPUG5Bfpe9"
      },
      "id": "m-SPUG5Bfpe9"
    },
    {
      "cell_type": "code",
      "source": [
        "task = random.randint(0, number_of_tasks-1)\n",
        "graph = []\n",
        "for i in range(K): #Store graphs\n",
        "    graph.append(random.sample(GRAPH_TEST, 1)[0])\n",
        "graph = create_mini_batch(graph)\n",
        "\n",
        "k_shot_updates = 4\n",
        "initialization_to_store_meta_losses()\n",
        "for shots in range(k_shot_updates):\n",
        "    new_model = training(model, graph, lr_k,shots, task)\n",
        "    train_set_evaluation(new_model,graph,store_train_loss_meta, task) \n",
        "\n",
        "plt.plot(store_train_loss_meta,label = 'Loss')\n",
        "plt.legend()\n",
        "plt.xlabel('k shots')"
      ],
      "metadata": {
        "colab": {
          "base_uri": "https://localhost:8080/",
          "height": 420
        },
        "id": "GY84TNs8JXVH",
        "outputId": "3611a929-35d0-4f3a-ad43-03a9ae7bf238"
      },
      "id": "GY84TNs8JXVH",
      "execution_count": null,
      "outputs": [
        {
          "output_type": "stream",
          "name": "stdout",
          "text": [
            "0\n",
            "1\n",
            "2\n",
            "3\n"
          ]
        },
        {
          "output_type": "stream",
          "name": "stderr",
          "text": [
            "/usr/local/lib/python3.7/dist-packages/torch/nn/modules/loss.py:520: UserWarning: Using a target size (torch.Size([1, 1])) that is different to the input size (torch.Size([1])). This will likely lead to incorrect results due to broadcasting. Please ensure they have the same size.\n",
            "  return F.mse_loss(input, target, reduction=self.reduction)\n"
          ]
        },
        {
          "output_type": "execute_result",
          "data": {
            "text/plain": [
              "Text(0.5, 0, 'k shots')"
            ]
          },
          "metadata": {},
          "execution_count": 118
        },
        {
          "output_type": "display_data",
          "data": {
            "image/png": "[encoded data removed]",
            "text/plain": [
              "<Figure size 432x288 with 1 Axes>"
            ]
          },
          "metadata": {
            "needs_background": "light"
          }
        }
      ]
    },
    {
      "cell_type": "code",
      "source": [
        ""
      ],
      "metadata": {
        "id": "-GCeaVcsqDgx"
      },
      "id": "-GCeaVcsqDgx",
      "execution_count": null,
      "outputs": []
    }
  ],
  "metadata": {
    "kernelspec": {
      "display_name": "Python 3",
      "language": "python",
      "name": "python3"
    },
    "language_info": {
      "codemirror_mode": {
        "name": "ipython",
        "version": 3
      },
      "file_extension": ".py",
      "mimetype": "text/x-python",
      "name": "python",
      "nbconvert_exporter": "python",
      "pygments_lexer": "ipython3",
      "version": "3.8.8"
    },
    "colab": {
      "name": "Reptile_GraphNN_Regression.ipynb",
      "provenance": [],
      "collapsed_sections": []
    },
    "accelerator": "GPU"
  },
  "nbformat": 4,
  "nbformat_minor": 5
}